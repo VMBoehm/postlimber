{
 "cells": [
  {
   "cell_type": "code",
   "execution_count": null,
   "metadata": {},
   "outputs": [],
   "source": [
    "import camb\n",
    "import matplotlib.pyplot as plt\n",
    "import numpy as np\n",
    "from camb import model, initialpower"
   ]
  },
  {
   "cell_type": "code",
   "execution_count": null,
   "metadata": {},
   "outputs": [],
   "source": [
    "#Set up a new set of parameters for CAMB\n",
    "pars = camb.CAMBparams()\n",
    "#This function sets up CosmoMC-like settings, with one massive neutrino and helium set using BBN consistency\n",
    "\n",
    "pars.set_cosmology(H0=67.7, ombh2=0.02247, omch2=0.11923, omk=0, mnu=0.0,tau=0.06)\n",
    "pars.InitPower.set_params(As=2.10732e-9, ns=0.96824, r=0)"
   ]
  },
  {
   "cell_type": "code",
   "execution_count": null,
   "metadata": {},
   "outputs": [],
   "source": [
    "pars.set_for_lmax(2500, lens_potential_accuracy=0)\n",
    "results = camb.get_results(pars)\n",
    "cl1 = results.get_lens_potential_cls(lmax=2000)\n",
    "# non linear power spectrum\n",
    "pars.set_for_lmax(2500, lens_potential_accuracy=4);\n",
    "results = camb.get_results(pars)\n",
    "cl2 = results.get_lens_potential_cls(lmax=2000)"
   ]
  },
  {
   "cell_type": "code",
   "execution_count": null,
   "metadata": {},
   "outputs": [],
   "source": [
    "plt.figure()\n",
    "plt.loglog(np.arange(2001), cl1[:,0])\n",
    "plt.loglog(np.arange(2001), cl2[:,0])"
   ]
  },
  {
   "cell_type": "code",
   "execution_count": null,
   "metadata": {},
   "outputs": [],
   "source": [
    "nz = 100\n",
    "kmax = 10\n",
    "#For Limber result, want integration over \\chi (comoving radial distance), from 0 to chi_*.\n",
    "#so get background results to find chistar, set up arrage in chi, and calculate corresponding redshifts\n",
    "results= camb.get_background(pars)\n",
    "chistar = results.conformal_time(0)- model.tau_maxvis.value\n",
    "chis = np.linspace(0,chistar,nz)\n",
    "zs=results.redshift_at_comoving_radial_distance(chis)\n",
    "#Calculate array of delta_chi, and drop first and last points where things go singular\n",
    "dchis = (chis[2:]-chis[:-2])/2\n",
    "chis = chis[1:-1]\n",
    "zs = zs[1:-1]\n",
    "\n",
    "#Get the matter power spectrum interpolation object (based on RectBivariateSpline). \n",
    "#Here for lensing we want the power spectrum of the Weyl potential.\n",
    "PK = camb.get_matter_power_interpolator(pars, nonlinear=False, \n",
    "    hubble_units=False, k_hunit=False, kmax=kmax,\n",
    "    var1=model.Transfer_Weyl,var2=model.Transfer_Weyl, zmax=zs[-1])"
   ]
  },
  {
   "cell_type": "code",
   "execution_count": null,
   "metadata": {},
   "outputs": [],
   "source": [
    " #Get lensing window function (flat universe)\n",
    "win = ((chistar-chis)/(chis**2*chistar))**2\n",
    "#Do integral over chi\n",
    "ls = np.arange(2,2500+1, dtype=np.float64)\n",
    "cl_kappa=np.zeros(ls.shape)\n",
    "w = np.ones(chis.shape) #this is just used to set to zero k values out of range of interpolation\n",
    "for i, l in enumerate(ls):\n",
    "    k=(l)/chis\n",
    "    w[:]=1\n",
    "    w[k<1e-4]=0\n",
    "    w[k>=kmax]=0\n",
    "    cl_kappa[i] = np.dot(dchis, w*PK.P(zs, k, grid=False)*win/k**4)\n",
    "cl_kappa*= (ls*(ls+1))**2"
   ]
  },
  {
   "cell_type": "code",
   "execution_count": null,
   "metadata": {},
   "outputs": [],
   "source": [
    " #Get lensing window function (flat universe)\n",
    "win = ((chistar-chis)/(chis**2*chistar))**2\n",
    "#Do integral over chi\n",
    "ls = np.arange(2,2500+1, dtype=np.float64)\n",
    "cl_kappa2=np.zeros(ls.shape)\n",
    "w = np.ones(chis.shape) #this is just used to set to zero k values out of range of interpolation\n",
    "for i, l in enumerate(ls):\n",
    "    k=(l+0.5)/chis\n",
    "    w[:]=1\n",
    "    w[k<1e-4]=0\n",
    "    w[k>=kmax]=0\n",
    "    cl_kappa2[i] = np.dot(dchis, w*PK.P(zs, k, grid=False)*win/k**4)\n",
    "cl_kappa2*= (ls*(ls+1))**2"
   ]
  },
  {
   "cell_type": "code",
   "execution_count": null,
   "metadata": {},
   "outputs": [],
   "source": [
    "\n",
    "\n",
    "#Compare with CAMB's calculation:\n",
    "#note that to get CAMB's internal calculation accurate at the 1% level at L~2000, \n",
    "#need lens_potential_accuracy=2. Increase to 4 for accurate match to the Limber calculation here\n",
    "pars.set_for_lmax(2500,lens_potential_accuracy=0)\n",
    "results = camb.get_results(pars)\n",
    "cl_camb=results.get_lens_potential_cls(2500) \n",
    "#cl_camb[:,0] is phi x phi power spectrum (other columns are phi x T and phi x E)\n",
    "\n",
    "#Make plot. Expect difference at very low-L from inaccuracy in Limber approximation, and\n",
    "#very high L from differences in kmax (lens_potential_accuracy is only 2, though good by eye here)\n",
    "cl_limber= 4*cl_kappa/2/np.pi #convert kappa power to [l(l+1)]^2C_phi/2pi (what cl_camb is)\n",
    "ell=np.arange(2,cl_camb[:,0].size)\n",
    "cl_limber2= 4*cl_kappa2/2/np.pi\n",
    "plt.loglog(ls,cl_limber, color='b')\n",
    "plt.loglog(ls,cl_limber2, color='b')\n",
    "plt.loglog(ell,cl_camb[2:,0], color='r')\n",
    "plt.xlim([2,2000])\n",
    "plt.legend(['Limber','CAMB hybrid'])\n",
    "plt.ylabel('$[L(L+1)]^2C_L^{\\phi}/2\\pi$')\n",
    "plt.xlabel('$L$');\n",
    "\n"
   ]
  },
  {
   "cell_type": "code",
   "execution_count": null,
   "metadata": {},
   "outputs": [],
   "source": [
    "cl_limber = np.interp(ell,ls,cl_limber)\n",
    "cl_limber2= np.interp(ell,ls,cl_limber2)\n",
    "plt.figure()\n",
    "plt.semilogx(ell,cl_limber/cl_camb[2:,0])\n",
    "plt.plot(ell,cl_limber2/cl_camb[2:,0])\n",
    "plt.ylim(0.8,1.2)\n",
    "\n",
    "np.savetxt('camb_cls.out',X=(ell,cl_limber,cl_limber2,cl_camb[2:,0]))"
   ]
  },
  {
   "cell_type": "code",
   "execution_count": null,
   "metadata": {},
   "outputs": [],
   "source": [
    "path = '/global/homes/v/vboehm/codes/postlimber/'\n",
    "filename = 'pk_Planck2018BAO_matterpower_z000.dat'\n",
    "filename2= 'pk_Planck2018BAO_matterpower_z000_2.dat'\n",
    "data = np.loadtxt(path+filename,skiprows=1)\n",
    "data2 = np.loadtxt(path+filename2,skiprows=1)"
   ]
  },
  {
   "cell_type": "code",
   "execution_count": null,
   "metadata": {},
   "outputs": [],
   "source": [
    "kh = data[:,0]\n",
    "Pkh = data[:,1]\n",
    "kh2 = data2[:,0]\n",
    "Pkh2 = data2[:,1]"
   ]
  },
  {
   "cell_type": "code",
   "execution_count": null,
   "metadata": {},
   "outputs": [],
   "source": [
    "plt.loglog(kh,Pkh)\n",
    "plt.loglog(kh2,Pkh2)"
   ]
  },
  {
   "cell_type": "code",
   "execution_count": null,
   "metadata": {},
   "outputs": [],
   "source": [
    "PK = camb.get_matter_power_interpolator(pars, nonlinear=False, \n",
    "    hubble_units=True, k_hunit=True, kmax=100.,\n",
    "    zmax=1)"
   ]
  },
  {
   "cell_type": "code",
   "execution_count": null,
   "metadata": {},
   "outputs": [],
   "source": [
    "res = PK.P(0,kh,grid=False)\n",
    "res2= PK.P(0,kh2,grid=False)"
   ]
  },
  {
   "cell_type": "code",
   "execution_count": null,
   "metadata": {},
   "outputs": [],
   "source": [
    "plt.loglog(kh,res)"
   ]
  },
  {
   "cell_type": "code",
   "execution_count": null,
   "metadata": {},
   "outputs": [],
   "source": [
    "\n",
    "plt.semilogx(kh2,res2/Pkh2,label='new')\n",
    "plt.semilogx(kh,res/Pkh,ls='--',label='old')\n",
    "plt.legend()\n",
    "plt.xlabel('k [h/Mpc]')\n",
    "plt.ylabel('Pk ratio')"
   ]
  },
  {
   "cell_type": "code",
   "execution_count": null,
   "metadata": {},
   "outputs": [],
   "source": [
    "from classy import Class\n",
    "#cosmology\n",
    "h         = 0.6770\n",
    "omega_cdm = 0.11923\n",
    "omega_b   = 0.02247\n",
    "Omega_b   = omega_b/h**2\n",
    "Omega_cdm = omega_cdm/h**2\n",
    "Omega_m   = Omega_b+Omega_cdm\n",
    "ns        = 0.96824\n",
    "A0        = 2.10732*10**(-9)\n",
    "\n",
    "#dictionary for class\n",
    "cosmo_dict={'h': h,\n",
    "'omega_b' : omega_b,\n",
    "'omega_cdm': omega_cdm,\n",
    "'A_s'    : A0,\n",
    "'n_s'    : ns,\n",
    "'k_pivot' : 0.05,\n",
    "'P_k_max_1/Mpc':100.}\n",
    "\n",
    "cosmo_dict['output']='mPk'\n",
    "\n",
    "\n",
    "cosmo = Class()\n",
    "cosmo.set(cosmo_dict)\n",
    "cosmo.compute()\n",
    "\n",
    "\n",
    "print(cosmo_dict)\n"
   ]
  },
  {
   "cell_type": "code",
   "execution_count": null,
   "metadata": {},
   "outputs": [],
   "source": [
    "print(kh*h)"
   ]
  },
  {
   "cell_type": "code",
   "execution_count": null,
   "metadata": {},
   "outputs": [],
   "source": [
    "res=[]\n",
    "for kk in kh:\n",
    "    res+=[cosmo.pk_lin(kk*h,0.)]"
   ]
  },
  {
   "cell_type": "code",
   "execution_count": null,
   "metadata": {},
   "outputs": [],
   "source": [
    "plt.figure()\n",
    "plt.loglog(kh,np.asarray(res)*h**3,label='CLASS')\n",
    "plt.loglog(kh,Pkh,ls='--',label='CAMB')\n",
    "plt.legend()\n",
    "plt.xlabel('k [h/Mpc]')\n",
    "plt.ylabel('P(k) [Mpc/h$^3$]')\n",
    "class_res=np.asarray(res)*h**3"
   ]
  },
  {
   "cell_type": "code",
   "execution_count": null,
   "metadata": {},
   "outputs": [],
   "source": [
    "np.savetxt('pk_class.dat', X=(kh,np.asarray(res)*h**3))"
   ]
  },
  {
   "cell_type": "code",
   "execution_count": null,
   "metadata": {},
   "outputs": [],
   "source": [
    "plt.semilogx(kh,(np.asarray(res)*h**3)/Pkh,label='CLASS/CAMB')"
   ]
  },
  {
   "cell_type": "code",
   "execution_count": null,
   "metadata": {},
   "outputs": [],
   "source": [
    "import csv\n",
    "with open('class_pk.dat', 'w') as f:\n",
    "    writer = csv.writer(f, delimiter=' ')\n",
    "    writer.writerows(zip(kh,class_res))\n",
    "f.close()"
   ]
  },
  {
   "cell_type": "code",
   "execution_count": null,
   "metadata": {},
   "outputs": [],
   "source": []
  }
 ],
 "metadata": {
  "kernelspec": {
   "display_name": "NERSC BCCP",
   "language": "python",
   "name": "bccp"
  },
  "language_info": {
   "codemirror_mode": {
    "name": "ipython",
    "version": 3
   },
   "file_extension": ".py",
   "mimetype": "text/x-python",
   "name": "python",
   "nbconvert_exporter": "python",
   "pygments_lexer": "ipython3",
   "version": "3.6.7"
  }
 },
 "nbformat": 4,
 "nbformat_minor": 2
}
