{
 "cells": [
  {
   "cell_type": "markdown",
   "metadata": {},
   "source": [
    "### Calculating CMB N0 noise bias"
   ]
  },
  {
   "cell_type": "code",
   "execution_count": 1,
   "metadata": {},
   "outputs": [],
   "source": [
    "import sys\n",
    "sys.path.append(\"../scripts/\") \n",
    "from classy import Class\n",
    "import Cosmology as Cosmo\n",
    "import numpy as np\n",
    "import matplotlib.pyplot as plt\n",
    "import pickle"
   ]
  },
  {
   "cell_type": "code",
   "execution_count": 2,
   "metadata": {},
   "outputs": [
    {
     "name": "stdout",
     "output_type": "stream",
     "text": [
      "Evaluating reconstruction noise for fields ['tt', 'te', 'ee', 'eb', 'bb', 'tb'], noise level 1.000000 muK/arcmin and 1.0 arcmin sq beam\n"
     ]
    }
   ],
   "source": [
    "\"\"\"------------settings----------------\"\"\"\n",
    "params      = Cosmo.EmasCosmology\n",
    "tag         = params[0]['name']\n",
    "fields      = ['tt','te','ee','eb','bb','tb']\n",
    "nl          = False\n",
    "out_path    ='../output/N0files/'\n",
    "\n",
    "thetaFWHMarcmin = 1. #beam FWHM\n",
    "noiseUkArcmin   = 1. #eval(sys.argv[1]) #Noise level in uKarcmin\n",
    "l_max_T         = 3000\n",
    "l_max_P         = 5000\n",
    "l_min           = 50\n",
    "L_max           = 6000 #for l integration\n",
    "L_min           = 1\n",
    "TCMB            = 2.7255e6\n",
    "div             = True #divide EB by factor of 2.5\n",
    "\n",
    "if nl:\n",
    "    nl_='_nl'\n",
    "else:\n",
    "    nl_=''\n",
    "\n",
    "class_file ='class_cls_%s%s.pkl'%(tag,nl_)\n",
    "inputpath  ='../output/ClassCls/'\n",
    "\n",
    "\n",
    "## Read in ells, unlensed, lensed and noise spectra (TT, EE, ...)\n",
    "## and define which spectra we have measured (fields)\n",
    "print 'Evaluating reconstruction noise for fields %s, noise level %f muK/arcmin and %s arcmin sq beam'%(str(fields),noiseUkArcmin,thetaFWHMarcmin)\n",
    "\n",
    "\n",
    "plotpath='../output/plots/CMBNoise/'\n"
   ]
  },
  {
   "cell_type": "code",
   "execution_count": 3,
   "metadata": {},
   "outputs": [
    {
     "name": "stdout",
     "output_type": "stream",
     "text": [
      "computing distances, derived parameters...\n",
      "{'Neff': 3.046}\n",
      "{'h': 0.677}\n",
      "{'m_ncdm_tot': 0.0}\n",
      "{'omega_m': 0.6745515980724002}\n",
      "('Calculalating Cls... with settings', {'A_s': 2.10732e-09, 'h': 0.677, 'n_s': 0.96824, 'k_pivot': 0.05, 'omega_b': 0.02247, 'omega_cdm': 0.11923})\n",
      "('sigma8: ', 0.8221694157190373)\n",
      "('dumped to ', '../output/ClassCls/class_cls_OurPostBornPaper.pkl')\n"
     ]
    }
   ],
   "source": [
    "if l_max_T!=l_max_P:\n",
    "    lmax='mixedlmax_%d_%d'%(l_max_T,l_max_P)\n",
    "else:\n",
    "    lmax=str(l_max_T)\n",
    "\n",
    "try:\n",
    "    Parameter,cl_unl,cl_len=pickle.load(open(inputpath+'%s'%class_file,'r'))\n",
    "except:\n",
    "    data = Cosmo.CosmoData(params=params[1],z=np.logspace(-4,3.3,500))\n",
    "    data.get_Cls(params[0]['name'],nl=nl,lmax=6000,path=inputpath)\n",
    "    Parameter,cl_unl,cl_len=pickle.load(open(inputpath+'%s'%class_file,'r'))\n",
    "\n",
    "cl, nl = {}, {}\n",
    "\n",
    "ll=cl_unl['ell']\n",
    "cl_phiphi=cl_len['pp'][ll]\n",
    "\n",
    "\n",
    "thetaFWHM = thetaFWHMarcmin*np.pi/(180.*60.) #beam FWHM in rad\n",
    "deltaT = noiseUkArcmin/thetaFWHMarcmin # noise variance per unit area\n",
    "nlI_T   = (deltaT*thetaFWHM)**2*np.exp(ll*(ll+1.)*thetaFWHM**2/(8.*np.log(2.)))/TCMB**2 #beam deconvolved noise relative to CMB temperature\n",
    "nlI_pol = (deltaT*thetaFWHM)**2*np.exp(ll*(ll+1.)*thetaFWHM**2/(8.*np.log(2.)))/TCMB**2\n",
    "\n",
    "nlI_T[0:l_min]=1e20\n",
    "nlI_T[l_max_T::]=1e20\n",
    "\n",
    "nlI_pol[0:l_min]=1e20\n",
    "nlI_pol[l_max_P::]=1e20\n",
    "\n",
    "#beam deconvolved noise\n",
    "nl['tt']  = nlI_T\n",
    "nl['te']  = np.zeros(len(nlI_T))\n",
    "nl['tb']  = np.zeros(len(nlI_T))\n",
    "nl['ee']  = 2.*nlI_pol\n",
    "nl['bb']  = 2.*nlI_pol\n",
    "nl['eb']  = np.zeros(len(nlI_T))"
   ]
  },
  {
   "cell_type": "code",
   "execution_count": 4,
   "metadata": {},
   "outputs": [],
   "source": [
    "def noise_kernel(theta, l1, L, field, cl_unlen, cl_len, cl_tot, lmin, lmax):\n",
    "    Ldotl1 = L * l1 * np.cos(theta)\n",
    "    Ldotl2 = L**2 - Ldotl1\n",
    "    l1dotl2= Ldotl1 - l1**2\n",
    "    l2 = np.sqrt( L**2 + l1**2 - 2.*Ldotl1 )\n",
    "    l2[ np.where(l2 < 0.000001) ] = 0.000001 ## Avoid nasty things\n",
    "    cos_phi = l1dotl2 / ( l1 * l2 )\n",
    "    phi = np.arccos( cos_phi )\n",
    "    cos_2phi = np.cos( 2 * phi )\n",
    "    sin_2phi = np.sin( 2 * phi )\n",
    "\n",
    "    if field == 'tt':\n",
    "        cl1_len   = cl_len['tt'][l1]\n",
    "        cl1_tot   = cl_tot['tt'][l1]\n",
    "        cl2_len, cl2_tot = get_cl2(cl_len['tt'], cl_tot['tt'], l2, lmin, lmax)\n",
    "        kernel    = ( cl1_len * Ldotl1 + cl2_len * Ldotl2 )**2 / (2. * cl1_tot * cl2_tot)\n",
    "\n",
    "    elif field == 'te':\n",
    "        cl2TT = get_cl2(cl_len['tt'], cl_tot['tt'], l2, lmin, lmax)[1]\n",
    "        cl2_unlen, cl2_tot = get_cl2(cl_len['te'], cl_tot['te'], l2, lmin, lmax)\n",
    "        cl2EE = get_cl2(cl_len['ee'], cl_tot['ee'], l2, lmin, lmax)[1]\n",
    "        cl1_unlen = cl_len['te'][l1]\n",
    "\n",
    "        f_l1l2 = cl1_unlen * cos_2phi * Ldotl1 + cl2_unlen * Ldotl2\n",
    "        f_l2l1 = cl2_unlen * cos_2phi * Ldotl2 + cl1_unlen * Ldotl1\n",
    "        F_l1l2 = (cl_tot['ee'][l1] * cl2TT * f_l1l2 - cl_tot['te'][l1] * cl2_tot * f_l2l1)/(cl_tot['tt'][l1]*cl2EE*cl_tot['ee'][l1]*cl2TT - (cl_tot['te'][l1]*cl2_tot)**2)\n",
    "        kernel = f_l1l2 * F_l1l2\n",
    "\n",
    "    elif field == 'ee':\n",
    "        cl1_tot = cl_tot['ee'][l1]\n",
    "        cl1_unlen = cl_len['ee'][l1]\n",
    "        cl2_unlen, cl2_tot = get_cl2(cl_len['ee'], cl_tot['ee'], l2, lmin, lmax)\n",
    "        kernel = ( (cl1_unlen * Ldotl1 + cl2_unlen*Ldotl2) * cos_2phi ) **2 / (2 * cl1_tot * cl2_tot)\n",
    "\n",
    "    elif field == 'eb':\n",
    "        cl1_unlen = cl_len['ee'][l1]\n",
    "        cl1_len = cl_len['ee'][l1]\n",
    "        cl1EE = cl_tot['ee'][l1]\n",
    "        cl2_unlen, cl2BB = get_cl2(cl_len['bb'], cl_tot['bb'], l2, lmin, lmax)\n",
    "        f_l1l2 = (cl1_unlen * Ldotl1 - cl2_unlen * Ldotl2) * sin_2phi\n",
    "        kernel = (f_l1l2)**2 / (cl1EE * cl2BB)\n",
    "\n",
    "    elif field == 'tb':\n",
    "        cl1TT = cl_tot['tt'][l1]\n",
    "        cl2BB = get_cl2(cl_len['bb'], cl_tot['bb'], l2, lmin, lmax)[1]\n",
    "        cl1_unlen = cl_len['te'][l1]\n",
    "        kernel = (cl1_unlen * Ldotl1 * sin_2phi )**2 / (cl1TT * cl2BB)\n",
    "\n",
    "    elif field == 'bb':\n",
    "        cl1_tot = cl_tot['bb'][l1]\n",
    "        cl1_unlen = cl_len['bb'][l1]\n",
    "        cl2_unlen, cl2_tot = get_cl2(cl_len['bb'], cl_tot['bb'], l2, lmin, lmax)\n",
    "        kernel = ( (cl1_unlen * Ldotl1 + cl2_unlen*Ldotl2) * cos_2phi ) **2 / (2 * cl1_tot * cl2_tot)\n",
    "    kernel *= (l1 * (2. * np.pi)**(-2.))\n",
    "    return kernel"
   ]
  },
  {
   "cell_type": "code",
   "execution_count": 5,
   "metadata": {},
   "outputs": [],
   "source": [
    "def get_cl2(cl_unlen, cl_tot, l2, lmin, lmax):\n",
    "\n",
    "\t## If l2 lies in range of known Cl's, linearly interpolate to get cl2\n",
    "\tcl2_unlen = np.zeros(np.shape(l2))\n",
    "\tcl2_tot = np.zeros(np.shape(l2))\n",
    "\tdeltal = np.zeros(np.shape(l2))\n",
    "\n",
    "\tidxs1 = np.where( np.logical_and( lmin < l2, l2 < lmax) )\n",
    "\tidxs2 = np.where( l2 <= lmin )\n",
    "\tidxs3 = np.where( l2 >= lmax )\n",
    "\n",
    "\tlowl = np.floor(l2).astype(int)\n",
    "\thighl = np.ceil(l2).astype(int)\n",
    "\tdeltal[idxs1] = l2[idxs1] - lowl[idxs1]\n",
    "\tdeltal[idxs2] = lmin - l2[idxs2]\n",
    "\tdeltal[idxs3] = l2[idxs3] - lmax\n",
    "\n",
    "\tlowl -= lmin\n",
    "\thighl -= lmin\n",
    "\n",
    "\tcl2_tot[idxs1] = cl_tot[lowl[idxs1]] + deltal[idxs1] * (cl_tot[highl[idxs1]] - cl_tot[lowl[idxs1]])\n",
    "\tcl2_unlen[idxs1] = cl_unlen[lowl[idxs1]] + deltal[idxs1] * (cl_unlen[highl[idxs1]] - cl_unlen[lowl[idxs1]])\n",
    "\n",
    "\tcl2_tot[idxs2] = cl_tot[0] + deltal[idxs2] * (cl_tot[0] - cl_tot[1])\n",
    "\tcl2_unlen[idxs2] = cl_unlen[0] + deltal[idxs2] * (cl_unlen[0] - cl_unlen[1])\n",
    "\tcl2_tot[idxs3] = cl_tot[lmax-lmin] + deltal[idxs3]*(cl_tot[lmax-lmin] - cl_tot[lmax-lmin-1]) * np.exp(-deltal[idxs3]**2)\n",
    "\tcl2_unlen[idxs3] = cl_unlen[lmax-lmin] + deltal[idxs3]*(cl_unlen[lmax-lmin] - cl_unlen[lmax-lmin-1]) * np.exp(-deltal[idxs3]**2)\n",
    "\n",
    "\treturn cl2_unlen, cl2_tot"
   ]
  },
  {
   "cell_type": "code",
   "execution_count": 6,
   "metadata": {},
   "outputs": [],
   "source": [
    "def get_lensing_noise(ells, cl_len, cl_unlen, nl, fields,lmin,lmax):\n",
    "    result ={}\n",
    "\n",
    "    cl_tot = {}\n",
    "    n_Ls   = 400\n",
    "    LogLs  = np.linspace(np.log(1.),np.log(10001), n_Ls)\n",
    "    Ls     = np.unique(np.floor(np.exp(LogLs)).astype(int))\n",
    "\n",
    "    for field in fields:\n",
    "        try:\n",
    "            cl_tot[field] = cl_len[field]+nl[field]\n",
    "        except:\n",
    "            pass\n",
    "\n",
    "\n",
    "    for field in fields:\n",
    "        integral=[]\n",
    "        for L in Ls:\n",
    "            N = 100\n",
    "            thetas = np.linspace(0.,2*np.pi,N)\n",
    "            dtheta= 2.*np.pi/N\n",
    "            Theta, Ells = np.meshgrid(thetas,np.arange(lmin,lmax))\n",
    "            kernel_grid = noise_kernel(Theta, Ells, L, field, cl_unlen, cl_len, cl_tot, min(ells), max(ells))\n",
    "            integral+=[dtheta * np.sum(np.sum(kernel_grid, axis = 0), axis = 0)]\n",
    "        result[field] = 1./ np.asarray(integral)\n",
    "\n",
    "    return Ls, result"
   ]
  },
  {
   "cell_type": "code",
   "execution_count": 7,
   "metadata": {},
   "outputs": [
    {
     "name": "stdout",
     "output_type": "stream",
     "text": [
      "Dividing EB by factor 2.5!\n",
      "../output/N0files/OurPostBornPaper_N0_mixedlmax_3000_5000_50_1010_div25.pkl\n"
     ]
    }
   ],
   "source": [
    "Ls, NL_KK = get_lensing_noise(ll, cl_len,cl_unl, nl, fields,L_min,L_max)\n",
    "\n",
    "\n",
    "if div:\n",
    "    print 'Dividing EB by factor 2.5!'\n",
    "    NL_KK['eb']*=1./2.5\n",
    "    no_div='div25'\n",
    "else:\n",
    "    no_div='nodiv'\n",
    "\n",
    "MV_noise=0\n",
    "for f in fields:\n",
    "    if f!='bb':\n",
    "        MV_noise+=1./NL_KK[f]\n",
    "MV_noise=1./MV_noise\n",
    "NL_KK['mv']=MV_noise\n",
    "\n",
    "filename = out_path+'%s_N0_%s_%d_%d%d_%s%s.pkl'%(tag,lmax,l_min,10*noiseUkArcmin,10*thetaFWHMarcmin,no_div,nl_)\n",
    "print out_path+'%s_N0_%s_%d_%d%d_%s%s.pkl'%(tag,lmax,l_min,10*noiseUkArcmin,10*thetaFWHMarcmin,no_div,nl_)\n",
    "\n",
    "pickle.dump([Ls,NL_KK],open(filename,'w'))"
   ]
  },
  {
   "cell_type": "code",
   "execution_count": 14,
   "metadata": {},
   "outputs": [
    {
     "data": {
      "image/png": "[encoded data removed]",
      "text/plain": [
       "<Figure size 432x288 with 1 Axes>"
      ]
     },
     "metadata": {},
     "output_type": "display_data"
    }
   ],
   "source": [
    "colors=['b','r','c','g','y','m']\n",
    "plt.figure(figsize=(6,4))\n",
    "plt.loglog(ll,1./4.*(ll*(ll+1.))**2*cl_phiphi,color=colors[0], label=r'$C_L^{\\kappa\\kappa}$')\n",
    "plt.loglog(Ls, 1./4.*(Ls*(Ls+1.))**2.*NL_KK['tt'],color=colors[1],label='tt')\n",
    "plt.loglog(Ls, 1./4.*(Ls*(Ls + 1.))**2.*NL_KK['ee'],color=colors[2],label='ee')\n",
    "plt.loglog(Ls, 1./4.*(Ls*(Ls + 1.))**2.*NL_KK['te'],color=colors[3],label='te')\n",
    "plt.loglog(Ls, 1./4.*(Ls*(Ls + 1.))**2.*NL_KK['eb'],color=colors[4],label='eb')\n",
    "plt.loglog(Ls, 1./4.*(Ls*(Ls + 1.))**2.*NL_KK['tb'],color=colors[5],label='tb')\n",
    "plt.loglog(Ls, 1./4.*(Ls*(Ls + 1.))**2.*MV_noise,color='black',label='MV')\n",
    "plt.tick_params(axis='y', which='both', labelleft='off', labelright='on')\n",
    "plt.xlim(2, 2000)\n",
    "plt.ylim(1e-9,5e-6)\n",
    "plt.grid()\n",
    "plt.legend(loc='best',ncol=4,frameon=False, columnspacing=0.8)\n",
    "plt.xlabel(r'$L$',fontsize=14)\n",
    "plt.ylabel(r'$N_L^{\\kappa\\kappa}$',fontsize=14)\n",
    "plt.savefig(plotpath+'noise_kk_%s_%s_%d_%d%d_%s%s.pdf'%(tag,lmax,l_min,10*noiseUkArcmin,10*thetaFWHMarcmin,no_div,nl_))"
   ]
  },
  {
   "cell_type": "code",
   "execution_count": null,
   "metadata": {},
   "outputs": [],
   "source": []
  },
  {
   "cell_type": "code",
   "execution_count": null,
   "metadata": {},
   "outputs": [],
   "source": []
  }
 ],
 "metadata": {
  "kernelspec": {
   "display_name": "Python 2",
   "language": "python",
   "name": "python2"
  },
  "language_info": {
   "codemirror_mode": {
    "name": "ipython",
    "version": 2
   },
   "file_extension": ".py",
   "mimetype": "text/x-python",
   "name": "python",
   "nbconvert_exporter": "python",
   "pygments_lexer": "ipython2",
   "version": "2.7.15"
  }
 },
 "nbformat": 4,
 "nbformat_minor": 2
}
