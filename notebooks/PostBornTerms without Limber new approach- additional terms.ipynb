{
 "cells": [
  {
   "cell_type": "code",
   "execution_count": 6,
   "metadata": {},
   "outputs": [],
   "source": [
    "import numpy as np\n",
    "import matplotlib.pyplot as plt\n",
    "import sys\n",
    "import time\n",
    "from scipy.interpolate import RectBivariateSpline\n",
    "path = '../PostBornEma/'\n",
    "sys.path.append(\"../scripts/\") \n",
    "from lab import *"
   ]
  },
  {
   "cell_type": "markdown",
   "metadata": {},
   "source": [
    "### 1) Non-Limber Terms Equations 4.6-4.7"
   ]
  },
  {
   "cell_type": "markdown",
   "metadata": {},
   "source": [
    "#### Collecting all contributions from Eq.s 4.2-4.5 that are also non-zero in Limber\n",
    "\n",
    "Term 1:\n",
    "$2 \\int_{\\vec{l}} [\\vec{L}\\cdot \\vec{l}]^2 l^2 \\int \\mathrm{d}\\chi \\int \\mathrm{d}\\chi' W(\\chi,\\chi_{CMB}) W^h(\\chi') \\int \\mathrm{d}\\chi'' W(\\chi'',\\chi) C_l^{\\psi\\psi}(\\chi'',\\chi)   C_L^{\\delta\\phi}(\\chi',\\chi'')\\\\\n",
    "= 2 \\int_{\\vec{l}} [\\vec{L}\\cdot \\vec{l}]^2 l^2 \\int \\mathrm{d}\\chi W(\\chi,\\chi_{CMB}) \\int_0^\\chi \\mathrm{d}\\chi'' W(\\chi'',\\chi) C_l^{\\psi\\psi}(\\chi'',\\chi)   C_L^{g\\phi}(\\chi'') $\n",
    "\n",
    "\n"
   ]
  },
  {
   "cell_type": "code",
   "execution_count": 9,
   "metadata": {},
   "outputs": [
    {
     "data": {
      "text/plain": [
       "1"
      ]
     },
     "execution_count": 9,
     "metadata": {},
     "output_type": "execute_result"
    }
   ],
   "source": [
    "chimaxs = np.load('../G_matrices/clphidelta_parallel_chimaxs.npy')\n",
    "clgphi  = np.load('../G_matrices/clphidelta_parallel.npy')\n",
    "#check if chimaxs are in correct order\n",
    "\n",
    "\n",
    "r2d, t2d = np.meshgrid(t_,t_)\n",
    "np.prod((chimaxs==r2d*t2d*chi_cmb))"
   ]
  },
  {
   "cell_type": "code",
   "execution_count": 5,
   "metadata": {},
   "outputs": [
    {
     "name": "stdout",
     "output_type": "stream",
     "text": [
      "0\n"
     ]
    },
    {
     "name": "stderr",
     "output_type": "stream",
     "text": [
      "/global/common/cori/software/python/2.7-anaconda-5.2/lib/python2.7/site-packages/ipykernel_launcher.py:38: ComplexWarning: Casting complex values to real discards the imaginary part\n"
     ]
    },
    {
     "name": "stdout",
     "output_type": "stream",
     "text": [
      "10\n",
      "20\n",
      "30\n",
      "40\n",
      "50\n",
      "60\n",
      "70\n",
      "80\n",
      "90\n",
      "100\n",
      "110\n",
      "120\n",
      "130\n",
      "140\n",
      "150\n",
      "160\n",
      "170\n",
      "180\n",
      "190\n",
      "200\n",
      "210\n",
      "220\n",
      "230\n",
      "240\n",
      "250\n",
      "260\n",
      "270\n",
      "280\n",
      "347.023411989\n"
     ]
    },
    {
     "ename": "NameError",
     "evalue": "name 'bin_num' is not defined",
     "output_type": "error",
     "traceback": [
      "\u001b[0;31m\u001b[0m",
      "\u001b[0;31mNameError\u001b[0mTraceback (most recent call last)",
      "\u001b[0;32m<ipython-input-5-8b846fde1ec3>\u001b[0m in \u001b[0;36m<module>\u001b[0;34m()\u001b[0m\n\u001b[1;32m     41\u001b[0m \u001b[0;34m\u001b[0m\u001b[0m\n\u001b[1;32m     42\u001b[0m \u001b[0mMA\u001b[0m \u001b[0;34m=\u001b[0m \u001b[0mchimax\u001b[0m \u001b[0;34m*\u001b[0m \u001b[0mresult\u001b[0m\u001b[0;34m*\u001b[0m\u001b[0;36m1.\u001b[0m\u001b[0;34m/\u001b[0m\u001b[0mnp\u001b[0m\u001b[0;34m.\u001b[0m\u001b[0mpi\u001b[0m\u001b[0;34m**\u001b[0m\u001b[0;36m2\u001b[0m\u001b[0;34m/\u001b[0m\u001b[0;36m2.\u001b[0m\u001b[0;34m*\u001b[0m\u001b[0mprefac\u001b[0m\u001b[0;34m/\u001b[0m\u001b[0;36m4.\u001b[0m\u001b[0;34m\u001b[0m\u001b[0m\n\u001b[0;32m---> 43\u001b[0;31m \u001b[0mnp\u001b[0m\u001b[0;34m.\u001b[0m\u001b[0msave\u001b[0m\u001b[0;34m(\u001b[0m\u001b[0;34m'../M_matrices/MB1_bin_%s'\u001b[0m\u001b[0;34m%\u001b[0m\u001b[0mstr\u001b[0m\u001b[0;34m(\u001b[0m\u001b[0mbin_num\u001b[0m\u001b[0;34m)\u001b[0m\u001b[0;34m,\u001b[0m\u001b[0;34m[\u001b[0m\u001b[0mnp\u001b[0m\u001b[0;34m.\u001b[0m\u001b[0mmeshgrid\u001b[0m\u001b[0;34m(\u001b[0m\u001b[0mell_\u001b[0m\u001b[0;34m)\u001b[0m\u001b[0;34m,\u001b[0m\u001b[0mMA\u001b[0m\u001b[0;34m]\u001b[0m\u001b[0;34m)\u001b[0m\u001b[0;34m\u001b[0m\u001b[0m\n\u001b[0m\u001b[1;32m     44\u001b[0m \u001b[0;34m\u001b[0m\u001b[0m\n\u001b[1;32m     45\u001b[0m \u001b[0;31m# to do: check if l grids are correct\u001b[0m\u001b[0;34m\u001b[0m\u001b[0;34m\u001b[0m\u001b[0m\n",
      "\u001b[0;31mNameError\u001b[0m: name 'bin_num' is not defined"
     ]
    }
   ],
   "source": [
    "def lensing_kernel(xi, xmax):\n",
    "    return (xmax - xi)/(xmax*xi) * (xmax > xi)\n",
    "\n",
    "kernel1 = lensing_kernel\n",
    "kernel2 = lsst_kernel_cb\n",
    "\n",
    "r2d, t2d = np.meshgrid(t_,t_)\n",
    "w11, w12 = np.meshgrid(w1,w1)\n",
    "#nu axis\n",
    "r2d, t2d = np.expand_dims(r2d, 2), np.expand_dims(t2d, 2)\n",
    "w11, w12 = np.expand_dims(w11, 2), np.expand_dims(w12, 2)\n",
    "\n",
    "clgphi_  = np.expand_dims(clgphi,-1)\n",
    "\n",
    "\n",
    "result   = np.zeros((len(ell_),len(ell_)))\n",
    "\n",
    "chimax   = chi_cmb\n",
    "\n",
    "n = 0\n",
    "\n",
    "begin=time.time()\n",
    "for nn in range(len(ell_)):\n",
    "    if nn%10==0:\n",
    "        print(nn)\n",
    "    chi1fac0 = (kernel1(r2d*chimax,chimax)*D_chi(r2d*chimax)*(1.+z_chi(r2d*chimax)))\n",
    "    chi1fac0 = chi1fac0 *(r2d*chimax)**(1-(n+nu_n_.reshape(1, 1, -1)))\n",
    "\n",
    "    chi2fac00 = kernel1(r2d*t2d*chimax,chimax*r2d)*D_chi(r2d*t2d*chimax)*(1.+z_chi(r2d*t2d*chimax))*clgphi_[nn]\n",
    "#     chi2fac01 = (kernel2(1./t2d*r2d*chimax)*D_chi(r2d/t2d*chimax)*clphiphir_over_t_[nn])\n",
    "#     chi2fac01 = chi2fac01 * t2d**((n+nu_n_).reshape(1, 1, -1)-2)\n",
    "    chi2fac0  = chi2fac00\n",
    "\n",
    "    chifacs   = w11*w12*chi1fac0* chi2fac0\n",
    "\n",
    "    lmax = ell_.size\n",
    "    for ii  in range(ell_.size):        \n",
    "        result[nn][ii] = np.sum(chifacs*I0_ltrc[ii])\n",
    "        \n",
    "print(time.time()-begin)\n",
    "\n",
    "MA = chimax * result*1./np.pi**2/2.*prefac/4.\n",
    "\n",
    "\n",
    "# to do: check if l grids are correct"
   ]
  },
  {
   "cell_type": "code",
   "execution_count": 42,
   "metadata": {},
   "outputs": [],
   "source": [
    "bin_num = 'all'\n",
    "MA = MA*prefac\n",
    "#first index L, second index l\n",
    "np.save('../M_matrices/MB1_bin_%s'%str(bin_num),[np.meshgrid(ell_),MA])"
   ]
  },
  {
   "cell_type": "code",
   "execution_count": 43,
   "metadata": {},
   "outputs": [
    {
     "data": {
      "text/plain": [
       "<matplotlib.colorbar.Colorbar at 0x2aaaeab56d90>"
      ]
     },
     "execution_count": 43,
     "metadata": {},
     "output_type": "execute_result"
    },
    {
     "data": {
      "image/png": "[encoded data removed]",
      "text/plain": [
       "<Figure size 432x288 with 2 Axes>"
      ]
     },
     "metadata": {},
     "output_type": "display_data"
    }
   ],
   "source": [
    "MB1 = RectBivariateSpline(ell_,ell_,MA)\n",
    "plt.imshow(np.log(MA))\n",
    "plt.colorbar()"
   ]
  },
  {
   "cell_type": "code",
   "execution_count": 44,
   "metadata": {},
   "outputs": [],
   "source": [
    "L = np.logspace(np.log10(min(ell_)),np.log10(max(ell_)),100)\n",
    "l = np.logspace(np.log10(min(ell_)),np.log10(max(ell_)),500)\n",
    "\n",
    "def l_integration_1(M,L,l):\n",
    "    return L**2*np.trapz(l**5*M(L,l),l)/2./np.pi\n"
   ]
  },
  {
   "cell_type": "code",
   "execution_count": 45,
   "metadata": {},
   "outputs": [],
   "source": [
    "res=[]\n",
    "for LL in L:\n",
    "    res+=[l_integration_1(MB1,LL,l)]\n",
    "res = np.asarray(res)"
   ]
  },
  {
   "cell_type": "code",
   "execution_count": 46,
   "metadata": {},
   "outputs": [
    {
     "data": {
      "text/plain": [
       "[<matplotlib.lines.Line2D at 0x2aaaeaba2d50>]"
      ]
     },
     "execution_count": 46,
     "metadata": {},
     "output_type": "execute_result"
    },
    {
     "data": {
      "image/png": "[encoded data removed]",
      "text/plain": [
       "<Figure size 432x288 with 1 Axes>"
      ]
     },
     "metadata": {},
     "output_type": "display_data"
    }
   ],
   "source": [
    "plt.loglog(L,res)"
   ]
  },
  {
   "cell_type": "markdown",
   "metadata": {},
   "source": [
    "\n",
    "Term 2:\n",
    "$-2 \\int_{\\vec{l}} [\\vec{L}\\cdot \\vec{l}]^2 L^2 \\int \\mathrm{d}\\chi \\int \\mathrm{d}\\chi' W(\\chi,\\chi_{CMB}) W^h(\\chi') \\int_0^{\\chi'} \\mathrm{d}\\chi'' W(\\chi'',\\chi) C_L^{\\psi\\psi}(\\chi'',\\chi)   C_l^{\\delta\\phi}(\\chi',\\chi'')\\\\\n",
    "= -2 \\int_{\\vec{l}} [\\vec{L}\\cdot \\vec{l}]^2 L^2 \\int \\mathrm{d}\\chi'  W^h(\\chi') \\int_0^{\\chi'} \\mathrm{d}\\chi'' W(\\chi'',\\chi) C_L^{\\psi\\phi}(\\chi'')   C_l^{\\delta_h \\phi}(\\chi',\\chi'') $"
   ]
  },
  {
   "cell_type": "code",
   "execution_count": null,
   "metadata": {},
   "outputs": [],
   "source": []
  },
  {
   "cell_type": "code",
   "execution_count": null,
   "metadata": {},
   "outputs": [],
   "source": []
  }
 ],
 "metadata": {
  "kernelspec": {
   "display_name": "Python 2",
   "language": "python",
   "name": "python2"
  },
  "language_info": {
   "codemirror_mode": {
    "name": "ipython",
    "version": 2
   },
   "file_extension": ".py",
   "mimetype": "text/x-python",
   "name": "python",
   "nbconvert_exporter": "python",
   "pygments_lexer": "ipython2",
   "version": "2.7.15"
  }
 },
 "nbformat": 4,
 "nbformat_minor": 2
}
