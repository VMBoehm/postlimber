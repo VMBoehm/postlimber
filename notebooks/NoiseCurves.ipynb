{
 "cells": [
  {
   "cell_type": "code",
   "execution_count": 3,
   "metadata": {},
   "outputs": [],
   "source": [
    "import numpy as np\n",
    "import matplotlib.pyplot as plt\n",
    "import sys\n",
    "import time\n",
    "from scipy.interpolate import RectBivariateSpline\n",
    "path = '../PostBornEma/'\n",
    "sys.path.append(\"../scripts/\") \n",
    "import Cosmology as Cosmo\n",
    "from lab import *"
   ]
  },
  {
   "cell_type": "code",
   "execution_count": 22,
   "metadata": {},
   "outputs": [
    {
     "name": "stdout",
     "output_type": "stream",
     "text": [
      "lsst1_deltalens_z20\n"
     ]
    }
   ],
   "source": [
    "#general settings\n",
    "LSST = True\n",
    "#if not LSST redhsift kernel\n",
    "chi0 = chi_cmb/6.\n",
    "sigma_chi = chi_cmb/14.\n",
    "bin_num = 1\n",
    "z_source = 2.#z_cmb\n",
    "\n",
    "if LSST:\n",
    "    if z_source==z_cmb:\n",
    "        file_ext = 'lsst%s_cmblens'%str(bin_num)\n",
    "    else:\n",
    "        file_ext = 'lsst%s_deltalens_z%d'%(str(bin_num),z_source*10)\n",
    "\n",
    "else:\n",
    "    if z_source==z_cmb:\n",
    "        file_ext = 'gaussgal_chi0%d_sigmachi%d_cmblens'%(chi0,sigma_chi)\n",
    "    else:\n",
    "        file_ext = 'gaussgal_chi0%d_sigmachi%d_deltalens_z%d'%(chi0,sigma_chi,z_source*10) \n",
    "print(file_ext)"
   ]
  },
  {
   "cell_type": "code",
   "execution_count": 23,
   "metadata": {},
   "outputs": [
    {
     "name": "stdout",
     "output_type": "stream",
     "text": [
      "using lensing survey\n"
     ]
    }
   ],
   "source": [
    "\"\"\"------------settings----------------\"\"\"\n",
    "fsky        = 0.5\n",
    "\n",
    "params      = Cosmo.EmasCosmology\n",
    "tag         = params[0]['name']\n",
    "nl          = False\n",
    "\n",
    "N0_path     ='../output/N0files/'\n",
    "spec_path   ='../output/cls/'\n",
    "path        ='../noise_curves/'\n",
    "class_cl    ='../output/ClassCls/'\n",
    "\n",
    "if z_source==z_cmb:\n",
    "    thetaFWHMarcmin = 1. #beam FWHM\n",
    "    noiseUkArcmin   = 1. #eval(sys.argv[1]) #Noise level in uKarcmin\n",
    "    l_max_T         = 3000\n",
    "    l_max_P         = 5000\n",
    "    l_min           = 50\n",
    "    L_max           = 6000 #for l integration\n",
    "    L_min           = 1\n",
    "    TCMB            = 2.7255e6\n",
    "    div             = True #divide EB by factor of 2.5\n",
    "    channel         = 'mv'\n",
    "    lens_ext        = 'CMB_S4'\n",
    "\n",
    "    if l_max_T!=l_max_P:\n",
    "        lmax='mixedlmax_%d_%d'%(l_max_T,l_max_P)\n",
    "    else:\n",
    "        lmax=str(l_max_T)\n",
    "\n",
    "    if nl:\n",
    "      nl_='_nl'\n",
    "    else:\n",
    "      nl_=''\n",
    "\n",
    "    if div:\n",
    "        print 'Dividing EB by factor 2.5!'\n",
    "        no_div='div25'\n",
    "    else:\n",
    "        no_div='nodiv'\n",
    "\n",
    "else:\n",
    "    print('using lensing survey')\n",
    "    sigma_2  = 0.26**2\n",
    "    Ngal     = 60*(180.*60./np.pi)**2\n",
    "    lens_ext = '026_60'"
   ]
  },
  {
   "cell_type": "code",
   "execution_count": 24,
   "metadata": {},
   "outputs": [],
   "source": [
    "ell, clkk = np.load(spec_path+'Clkk_%s.npy'%(file_ext))\n",
    "ell, clgg = np.load(spec_path+'Clgg_%s.npy'%(file_ext))\n",
    "ell, clkg = np.load(spec_path+'Clkg_%s.npy'%(file_ext))"
   ]
  },
  {
   "cell_type": "code",
   "execution_count": 25,
   "metadata": {},
   "outputs": [],
   "source": [
    "if z_source == z_cmb:\n",
    "    print N0_path+'%s_N0_%s_%d_%d%d_%s%s.pkl'%(tag,lmax,l_min,10*noiseUkArcmin,10*thetaFWHMarcmin,no_div,nl_)\n",
    "    filename = N0_path+'%s_N0_%s_%d_%d%d_%s%s.pkl'%(tag,lmax,l_min,10*noiseUkArcmin,10*thetaFWHMarcmin,no_div,nl_)\n",
    "    Ls,AL    = pickle.load(open(filename,'r'))\n",
    "\n",
    "    class_file  = 'class_cls_%s%s.pkl'%(tag,nl_)\n",
    "    Parameter,cl_unl,cl_len = pickle.load(open(class_cl+'%s'%class_file,'r'))\n",
    "    ll = cl_len['ell']    \n",
    "                    \n",
    "    # class versus our clkk spectra comparison\n",
    "    plt.figure()\n",
    "    plt.loglog(ell_,clkk)\n",
    "    plt.loglog(ll, 1/4.*(ll*(ll+1))**2*cl_len['pp'],ls='--')                       "
   ]
  },
  {
   "cell_type": "code",
   "execution_count": 26,
   "metadata": {},
   "outputs": [
    {
     "name": "stdout",
     "output_type": "stream",
     "text": [
      "galax lensing\n",
      "23.9432092389\n"
     ]
    }
   ],
   "source": [
    "L    = np.logspace(np.log10(min(ell_)),np.log10(1000),100)\n",
    "clkk_= np.interp(L,ell_,clkk)\n",
    "clgg_= np.interp(L,ell_,clgg)\n",
    "clkg_= np.interp(L,ell_,clkg)\n",
    "if z_source==z_cmb:\n",
    "    n0  = np.interp(L,Ls,1./4.*(Ls*(Ls+1))**2*AL[channel])\n",
    "else:\n",
    "    print('galax lensing')\n",
    "    n0 = sigma_2/Ngal\n",
    "    \n",
    "norm  = dNdz_LSST(bin_num, return_norm=True)\n",
    "n_bar = norm*(180*60/np.pi)**2\n",
    "\n",
    "print(norm)\n",
    "\n",
    "noise_kk = clkk_+n0\n",
    "noise_gg = clgg_+1./n_bar"
   ]
  },
  {
   "cell_type": "code",
   "execution_count": 27,
   "metadata": {},
   "outputs": [],
   "source": [
    "noise_kk      = np.sqrt((2./(2.*L+1.)/fsky)*(noise_kk)**2)\n",
    "noise_gg      = np.sqrt((2./(2.*L+1.)/fsky)*(noise_gg)**2)\n",
    "noise_kg      = 1./(2.*L+1.)/fsky*((noise_kk)*(noise_gg)+clkg_**2)\n",
    "noise_kg      = np.sqrt(noise_kg)"
   ]
  },
  {
   "cell_type": "code",
   "execution_count": 28,
   "metadata": {},
   "outputs": [],
   "source": [
    "np.save('../output/noise_curves/kg_noise_%s_%s'%(file_ext,lens_ext),[L,noise_kg])"
   ]
  },
  {
   "cell_type": "code",
   "execution_count": null,
   "metadata": {},
   "outputs": [],
   "source": []
  },
  {
   "cell_type": "code",
   "execution_count": null,
   "metadata": {},
   "outputs": [],
   "source": []
  }
 ],
 "metadata": {
  "kernelspec": {
   "display_name": "Python 2",
   "language": "python",
   "name": "python2"
  },
  "language_info": {
   "codemirror_mode": {
    "name": "ipython",
    "version": 2
   },
   "file_extension": ".py",
   "mimetype": "text/x-python",
   "name": "python",
   "nbconvert_exporter": "python",
   "pygments_lexer": "ipython2",
   "version": "2.7.15"
  }
 },
 "nbformat": 4,
 "nbformat_minor": 2
}
