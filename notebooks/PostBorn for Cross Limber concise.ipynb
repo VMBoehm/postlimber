{
 "cells": [
  {
   "cell_type": "code",
   "execution_count": 4,
   "metadata": {},
   "outputs": [],
   "source": [
    "from __future__ import division\n",
    "%matplotlib inline\n",
    "import matplotlib.pyplot as plt\n",
    "import copy\n",
    "import numpy as np\n",
    "\n",
    "import pickle\n",
    "from scipy.integrate import simps\n",
    "from scipy.interpolate import RectBivariateSpline\n",
    "from classy import Class\n",
    "import sys\n",
    "sys.path.append(\"../scripts/\") \n",
    "from postBornCrossSpectra import PostBorn_Bispec\n",
    "import Cosmology as C\n",
    "import kernels\n",
    "plt.style.use('classic')\n",
    "plt.style.use(['seaborn-colorblind','paper'])\n"
   ]
  },
  {
   "cell_type": "code",
   "execution_count": 5,
   "metadata": {},
   "outputs": [],
   "source": [
    "\n",
    "from lab import *"
   ]
  },
  {
   "cell_type": "code",
   "execution_count": 6,
   "metadata": {},
   "outputs": [],
   "source": [
    "plotpath = '../output/plots/'"
   ]
  },
  {
   "cell_type": "code",
   "execution_count": 7,
   "metadata": {},
   "outputs": [
    {
     "name": "stdout",
     "output_type": "stream",
     "text": [
      "{u'A_s': 2.10732e-09, u'h': 0.677, u'n_s': 0.96824, u'k_pivot': 0.05, u'omega_b': 0.02247, u'omega_cdm': 0.11923}\n",
      "computing distances, derived parameters...\n",
      "{'Neff': 3.046}\n",
      "{'h': 0.677}\n",
      "{'m_ncdm_tot': 0.0}\n",
      "{'omega_m': 0.6745515980724002}\n"
     ]
    }
   ],
   "source": [
    "zmin = 1e-5\n",
    "zmax = 1090.\n",
    "\n",
    "kmin = 1e-4\n",
    "kmax = 50\n",
    "\n",
    "cosmo_dict.pop('z_cmb')\n",
    "cosmo = [{'name':\"EmasCosmo\"},cosmo_dict]\n",
    "\n",
    "print(cosmo_dict)\n",
    "\n",
    "a     = np.linspace(1./(1.+zmin),1./(1.+zmax),500)  \n",
    "z     = 1./a-1.\n",
    "\n",
    "data  = C.CosmoData(cosmo[1],z)\n",
    "\n",
    "L     = np.logspace(1,4,400)\n",
    "\n",
    "# sampling for integrations\n",
    "phi = np.linspace(0.,2.*np.pi,1000,endpoint=True)\n",
    "L1  = np.logspace(-1,5,400)\n",
    "\n",
    "LSST_bins  = [0,1,2,3,4,'all']"
   ]
  },
  {
   "cell_type": "code",
   "execution_count": 8,
   "metadata": {},
   "outputs": [],
   "source": [
    "# define redshift bins (LSST-like)\n",
    "zmins= [0,0.5,1,2,3,0]\n",
    "zmaxs= [0.5,1.,2.,3.,4.,'z$_{\\mathrm{CMB}}$']\n",
    "ngal = [14.3,23.9,21.6,3.7,1.5,65.7]\n",
    "\n",
    "colors=['navy','maroon', 'darkgreen', 'mediumaquamarine','indianred','darkorange']"
   ]
  },
  {
   "cell_type": "code",
   "execution_count": 9,
   "metadata": {},
   "outputs": [],
   "source": [
    "#compute correction following Krause&Hirata\n",
    "#always use trapz rule for accurate results!\n",
    "#redefinition with l'-> l'-l\n",
    "def get_regularized_sum_of_terms(L,L1,phi,M,method='trapz'):\n",
    "    nu = np.cos(phi)\n",
    "    res=[]\n",
    "    for LL in L:\n",
    "        resL1=[]\n",
    "        for LL1 in L1:\n",
    "            L_= LL*np.sqrt(1.+(LL1/LL)**2+2.*LL1/LL*nu)\n",
    "            integrand =LL*LL1**3*(LL1*nu+LL)*(LL1+LL*nu)**2*(M(L_,LL1,grid=False)/L_**2/LL1**4-M(LL,LL1,grid=False)/LL**2/LL1**4)\n",
    "            if method =='simps':\n",
    "                resL1+=[simps(integrand,phi)]\n",
    "            elif method =='trapz':\n",
    "                resL1+=[np.trapz(integrand,phi)]\n",
    "            elif method =='sum':\n",
    "                resL1+=[np.sum(integrand*np.diff(phi)[0])]\n",
    "        res+=[simps(resL1,L1)]\n",
    "    res=4.*np.asarray(res)/(2*np.pi)**2\n",
    "    return res\n",
    "\n",
    "\n",
    "#numerical angular integration\n",
    "def get_second_sum_of_terms(L,L1,M,method='trapz'):\n",
    "    nu = np.cos(phi)\n",
    "    res=[]\n",
    "    for LL in L:\n",
    "        resL1=[]\n",
    "        for LL1 in L1:\n",
    "            integrand = LL1*(LL*LL1**2*(-LL1*nu+LL)*(-LL1+LL*nu)**2-LL**2*(LL*LL1*nu)**2)*(M(LL,LL1,grid=False)/LL**2/LL1**4)\n",
    "            if method =='simps':\n",
    "                resL1+=[simps(integrand,phi)]\n",
    "            elif method =='trapz':\n",
    "                resL1+=[np.trapz(integrand,phi)]\n",
    "            elif method =='sum':\n",
    "                resL1+=[np.sum(integrand*np.diff(phi)[0])]\n",
    "        res+=[simps(resL1,L1)]\n",
    "    res=4.*np.asarray(res)/(2*np.pi)**2\n",
    "    return res"
   ]
  },
  {
   "cell_type": "code",
   "execution_count": 10,
   "metadata": {},
   "outputs": [
    {
     "name": "stdout",
     "output_type": "stream",
     "text": [
      "using z-bin [0, 0.5, 0.03] norm 14.3227605664\n",
      "Initializing CLASS with halofit...\n",
      "{'k_step_super': 0.0001, 'perturb_sampling_stepsize': 0.01, u'A_s': 2.10732e-09, 'k_max_tau0_over_l_max': 5.0, 'k_min_tau0': 0.002, u'h': 0.677, 'z_max_pk': 1088.6464513003543, 'k_step_super_reduction': 0.1, 'non linear': 'halofit', u'omega_cdm': 0.11923, 'tol_perturb_integration': 1e-06, u'k_pivot': 0.05, 'k_per_decade_for_pk': 20, 'P_k_max_1/Mpc': 101, 'output': 'mPk', u'omega_b': 0.02247, u'n_s': 0.96824, 'k_step_sub': 0.015, 'halofit_k_per_decade': 3000.0}\n",
      "sigma8  0.822427246139\n",
      "('zmax', 1088.6464513003543)\n",
      "using z-bin [0.5, 0.5, 0.03] norm 23.9432092389\n",
      "Initializing CLASS with halofit...\n",
      "{'k_step_super': 0.0001, 'perturb_sampling_stepsize': 0.01, u'A_s': 2.10732e-09, 'k_max_tau0_over_l_max': 5.0, 'k_min_tau0': 0.002, u'h': 0.677, 'z_max_pk': 1088.6464513003543, 'k_step_super_reduction': 0.1, 'non linear': 'halofit', u'omega_cdm': 0.11923, 'tol_perturb_integration': 1e-06, u'k_pivot': 0.05, 'k_per_decade_for_pk': 20, 'P_k_max_1/Mpc': 101, 'output': 'mPk', u'omega_b': 0.02247, u'n_s': 0.96824, 'k_step_sub': 0.015, 'halofit_k_per_decade': 3000.0}\n",
      "sigma8  0.822427246139\n",
      "('zmax', 1088.6464513003543)\n",
      "using z-bin [1.0, 1.0, 0.04] norm 21.6323275206\n",
      "Initializing CLASS with halofit...\n",
      "{'k_step_super': 0.0001, 'perturb_sampling_stepsize': 0.01, u'A_s': 2.10732e-09, 'k_max_tau0_over_l_max': 5.0, 'k_min_tau0': 0.002, u'h': 0.677, 'z_max_pk': 1088.6464513003543, 'k_step_super_reduction': 0.1, 'non linear': 'halofit', u'omega_cdm': 0.11923, 'tol_perturb_integration': 1e-06, u'k_pivot': 0.05, 'k_per_decade_for_pk': 20, 'P_k_max_1/Mpc': 101, 'output': 'mPk', u'omega_b': 0.02247, u'n_s': 0.96824, 'k_step_sub': 0.015, 'halofit_k_per_decade': 3000.0}\n",
      "sigma8  0.822427246139\n",
      "('zmax', 1088.6464513003543)\n",
      "using z-bin [2.0, 1.0, 0.05] norm 3.71791043757\n",
      "Initializing CLASS with halofit...\n",
      "{'k_step_super': 0.0001, 'perturb_sampling_stepsize': 0.01, u'A_s': 2.10732e-09, 'k_max_tau0_over_l_max': 5.0, 'k_min_tau0': 0.002, u'h': 0.677, 'z_max_pk': 1088.6464513003543, 'k_step_super_reduction': 0.1, 'non linear': 'halofit', u'omega_cdm': 0.11923, 'tol_perturb_integration': 1e-06, u'k_pivot': 0.05, 'k_per_decade_for_pk': 20, 'P_k_max_1/Mpc': 101, 'output': 'mPk', u'omega_b': 0.02247, u'n_s': 0.96824, 'k_step_sub': 0.015, 'halofit_k_per_decade': 3000.0}\n",
      "sigma8  0.822427246139\n",
      "('zmax', 1088.6464513003543)\n",
      "using z-bin [3.0, 1.0, 0.05] norm 1.47185253996\n",
      "Initializing CLASS with halofit...\n",
      "{'k_step_super': 0.0001, 'perturb_sampling_stepsize': 0.01, u'A_s': 2.10732e-09, 'k_max_tau0_over_l_max': 5.0, 'k_min_tau0': 0.002, u'h': 0.677, 'z_max_pk': 1088.6464513003543, 'k_step_super_reduction': 0.1, 'non linear': 'halofit', u'omega_cdm': 0.11923, 'tol_perturb_integration': 1e-06, u'k_pivot': 0.05, 'k_per_decade_for_pk': 20, 'P_k_max_1/Mpc': 101, 'output': 'mPk', u'omega_b': 0.02247, u'n_s': 0.96824, 'k_step_sub': 0.015, 'halofit_k_per_decade': 3000.0}\n",
      "sigma8  0.822427246139\n",
      "('zmax', 1088.6464513003543)\n",
      "using z-bin None norm 65.6723025802\n",
      "Initializing CLASS with halofit...\n",
      "{'k_step_super': 0.0001, 'perturb_sampling_stepsize': 0.01, u'A_s': 2.10732e-09, 'k_max_tau0_over_l_max': 5.0, 'k_min_tau0': 0.002, u'h': 0.677, 'z_max_pk': 1088.6464513003543, 'k_step_super_reduction': 0.1, 'non linear': 'halofit', u'omega_cdm': 0.11923, 'tol_perturb_integration': 1e-06, u'k_pivot': 0.05, 'k_per_decade_for_pk': 20, 'P_k_max_1/Mpc': 101, 'output': 'mPk', u'omega_b': 0.02247, u'n_s': 0.96824, 'k_step_sub': 0.015, 'halofit_k_per_decade': 3000.0}\n",
      "sigma8  0.822427246139\n",
      "('zmax', 1088.6464513003543)\n"
     ]
    }
   ],
   "source": [
    "first_kernel  = kernels.CMB_lens(data.chi_cmb,data)\n",
    "simple_kernel = kernels.CMB_lens(None,data)\n",
    "\n",
    "Mstarspls = []\n",
    "PBs =[]\n",
    "Cls= []\n",
    "for LSST_bin in LSST_bins:\n",
    "    second_kernel = kernels.gal_clus(kernels.dNdz_LSST,kernels.simple_bias,data,LSST_bin)\n",
    "    PB  = PostBorn_Bispec(data, zmin, data.z_cmb, first_kernel, second_kernel, simple_kernel, k_min=kmin,k_max=100, lmax=30000, acc=2)\n",
    "    PBs+=[PB]\n",
    "    Mstarspls+=[PB.Mstarsp]\n",
    "    Cls+=[PB.CL_born]\n",
    "ls = PB.ls\n"
   ]
  },
  {
   "cell_type": "code",
   "execution_count": 13,
   "metadata": {},
   "outputs": [
    {
     "name": "stdout",
     "output_type": "stream",
     "text": [
      " 0 1 2 3 4 5\n"
     ]
    }
   ],
   "source": [
    "corrs=[]\n",
    "for ii in range(len(LSST_bins)):\n",
    "    print(ii),\n",
    "    corrs+=[get_regularized_sum_of_terms(L,L1,phi,Mstarspls[ii],method='trapz')+get_second_sum_of_terms(L,L1,Mstarspls[ii],method='trapz')]"
   ]
  },
  {
   "cell_type": "code",
   "execution_count": 14,
   "metadata": {},
   "outputs": [],
   "source": [
    "corrs = np.asarray(corrs)"
   ]
  },
  {
   "cell_type": "code",
   "execution_count": 15,
   "metadata": {},
   "outputs": [
    {
     "data": {
      "text/plain": [
       "(6, 400)"
      ]
     },
     "execution_count": 15,
     "metadata": {},
     "output_type": "execute_result"
    }
   ],
   "source": [
    "corrs"
   ]
  },
  {
   "cell_type": "code",
   "execution_count": 17,
   "metadata": {},
   "outputs": [],
   "source": [
    "np.save('../output/LimberPostBornResultsLSST',(ls,corrs))\n"
   ]
  },
  {
   "cell_type": "code",
   "execution_count": 19,
   "metadata": {},
   "outputs": [],
   "source": [
    "ls,corrs = np.load('../output/LimberPostBornResultsLSST.npy')"
   ]
  },
  {
   "cell_type": "code",
   "execution_count": 20,
   "metadata": {},
   "outputs": [
    {
     "data": {
      "text/plain": [
       "array([  1.00000000e-03,   1.14815362e-03,   1.31825674e-03, ...,\n",
       "         2.99500000e+04,   2.99750000e+04,   3.00000000e+04])"
      ]
     },
     "execution_count": 20,
     "metadata": {},
     "output_type": "execute_result"
    }
   ],
   "source": [
    "ls"
   ]
  },
  {
   "cell_type": "code",
   "execution_count": 22,
   "metadata": {},
   "outputs": [
    {
     "data": {
      "text/plain": [
       "(6, 400)"
      ]
     },
     "execution_count": 22,
     "metadata": {},
     "output_type": "execute_result"
    }
   ],
   "source": [
    "corrs.shape"
   ]
  },
  {
   "cell_type": "code",
   "execution_count": null,
   "metadata": {},
   "outputs": [],
   "source": []
  }
 ],
 "metadata": {
  "kernelspec": {
   "display_name": "Python 2",
   "language": "python",
   "name": "python2"
  },
  "language_info": {
   "codemirror_mode": {
    "name": "ipython",
    "version": 2
   },
   "file_extension": ".py",
   "mimetype": "text/x-python",
   "name": "python",
   "nbconvert_exporter": "python",
   "pygments_lexer": "ipython2",
   "version": "2.7.14"
  }
 },
 "nbformat": 4,
 "nbformat_minor": 2
}
