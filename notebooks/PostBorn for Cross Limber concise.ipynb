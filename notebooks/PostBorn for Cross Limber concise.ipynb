{
 "cells": [
  {
   "cell_type": "code",
   "execution_count": 8,
   "metadata": {},
   "outputs": [],
   "source": [
    "from __future__ import division\n",
    "%matplotlib inline\n",
    "import matplotlib.pyplot as plt\n",
    "import copy\n",
    "import numpy as np\n",
    "\n",
    "import pickle\n",
    "from scipy.integrate import simps\n",
    "from scipy.interpolate import RectBivariateSpline\n",
    "from classy import Class\n",
    "import sys\n",
    "sys.path.append(\"../scripts/\") \n",
    "from postBornCrossSpectra import PostBorn_Bispec\n",
    "import Cosmology as C\n",
    "import kernels\n",
    "plt.style.use('classic')"
   ]
  },
  {
   "cell_type": "code",
   "execution_count": 9,
   "metadata": {},
   "outputs": [],
   "source": [
    "from lab import *"
   ]
  },
  {
   "cell_type": "code",
   "execution_count": 10,
   "metadata": {},
   "outputs": [],
   "source": [
    "plotpath = '../output/plots/'"
   ]
  },
  {
   "cell_type": "code",
   "execution_count": 12,
   "metadata": {},
   "outputs": [
    {
     "name": "stdout",
     "output_type": "stream",
     "text": [
      "{'A_s': 2.10732e-09, 'h': 0.677, 'k_pivot': 0.05, 'n_s': 0.96824, 'omega_b': 0.02247, 'omega_cdm': 0.11923}\n",
      "computing distances, derived parameters...\n",
      "{'Neff': 3.046}\n",
      "{'h': 0.677}\n",
      "{'m_ncdm_tot': 0.0}\n",
      "{'omega_m': 0.6745515980724002}\n"
     ]
    }
   ],
   "source": [
    "zmin = 1e-5\n",
    "zmax = 1090.\n",
    "\n",
    "kmin = 1e-4\n",
    "kmax = 50\n",
    "\n",
    "#cosmo_dict.pop('z_cmb')\n",
    "cosmo = [{'name':\"EmasCosmo\"},cosmo_dict]\n",
    "\n",
    "print(cosmo_dict)\n",
    "\n",
    "a     = np.linspace(1./(1.+zmin),1./(1.+zmax),500)  \n",
    "z     = 1./a-1.\n",
    "\n",
    "data  = C.CosmoData(cosmo[1],z)\n",
    "\n",
    "# L     = np.logspace(1,4,400)\n",
    "\n",
    "# # sampling for integrations\n",
    "# phi = np.linspace(0.,2.*np.pi,1000,endpoint=True)\n",
    "# L1  = np.logspace(-1,5,400)\n",
    "\n",
    "# use same sampling as in Limber case\n",
    "\n",
    "\n",
    "LSST_bins  = ['all']#0,1,2,3,4,"
   ]
  },
  {
   "cell_type": "code",
   "execution_count": 13,
   "metadata": {},
   "outputs": [],
   "source": [
    "# define redshift bins (LSST-like)\n",
    "zmins= [0,0.5,1,2,3,0]\n",
    "zmaxs= [0.5,1.,2.,3.,4.,'z$_{\\mathrm{CMB}}$']\n",
    "ngal = [14.3,23.9,21.6,3.7,1.5,65.7]\n",
    "\n",
    "colors=['navy','maroon', 'darkgreen', 'mediumaquamarine','indianred','darkorange']"
   ]
  },
  {
   "cell_type": "code",
   "execution_count": 6,
   "metadata": {},
   "outputs": [],
   "source": [
    "#compute correction following Krause&Hirata\n",
    "#always use trapz rule for accurate results!\n",
    "#redefinition with l'-> l'-l\n",
    "def get_regularized_sum_of_terms(L,L1,phi,M,method='trapz'):\n",
    "    nu = np.cos(phi)\n",
    "    res=[]\n",
    "    for LL in L:\n",
    "        resL1=[]\n",
    "        for LL1 in L1:\n",
    "            L_= LL*np.sqrt(1.+(LL1/LL)**2+2.*LL1/LL*nu)\n",
    "            integrand =LL*LL1**3*(LL1*nu+LL)*(LL1+LL*nu)**2*(M(L_,LL1,grid=False)/L_**2/LL1**4-M(LL,LL1,grid=False)/LL**2/LL1**4)\n",
    "            if method =='simps':\n",
    "                resL1+=[simps(integrand,phi)]\n",
    "            elif method =='trapz':\n",
    "                resL1+=[np.trapz(integrand,phi)]\n",
    "            elif method =='sum':\n",
    "                resL1+=[np.sum(integrand*np.diff(phi)[0])]\n",
    "        res+=[simps(resL1,L1)]\n",
    "    res=4.*np.asarray(res)/(2*np.pi)**2\n",
    "    return res\n",
    "\n",
    "\n",
    "#numerical angular integration\n",
    "def get_second_sum_of_terms(L,L1,M,method='trapz'):\n",
    "    nu = np.cos(phi)\n",
    "    res=[]\n",
    "    for LL in L:\n",
    "        resL1=[]\n",
    "        for LL1 in L1:\n",
    "            integrand = LL1*(LL*LL1**2*(-LL1*nu+LL)*(-LL1+LL*nu)**2-LL**2*(LL*LL1*nu)**2)*(M(LL,LL1,grid=False)/LL**2/LL1**4)\n",
    "            if method =='simps':\n",
    "                resL1+=[simps(integrand,phi)]\n",
    "            elif method =='trapz':\n",
    "                resL1+=[np.trapz(integrand,phi)]\n",
    "            elif method =='sum':\n",
    "                resL1+=[np.sum(integrand*np.diff(phi)[0])]\n",
    "        res+=[simps(resL1,L1)]\n",
    "    res=4.*np.asarray(res)/(2*np.pi)**2\n",
    "    return res"
   ]
  },
  {
   "cell_type": "code",
   "execution_count": 7,
   "metadata": {},
   "outputs": [
    {
     "name": "stdout",
     "output_type": "stream",
     "text": [
      "using z-bin None norm 65.75020607931236\n",
      "Initializing CLASS with halofit...\n",
      "{'A_s': 2.10732e-09, 'h': 0.677, 'k_pivot': 0.05, 'n_s': 0.96824, 'omega_b': 0.02247, 'omega_cdm': 0.11923, 'output': 'mPk', 'P_k_max_1/Mpc': 101, 'z_max_pk': 1088.6464513003662, 'k_min_tau0': 0.002, 'k_max_tau0_over_l_max': 5.0, 'k_step_sub': 0.015, 'k_step_super': 0.0001, 'k_step_super_reduction': 0.1, 'k_per_decade_for_pk': 20, 'perturb_sampling_stepsize': 0.01, 'tol_perturb_integration': 1e-06, 'halofit_k_per_decade': 3000.0, 'non linear': 'halofit'}\n",
      "sigma8  0.822427245205793\n",
      "zmax 1088.6464513003662\n"
     ]
    }
   ],
   "source": [
    "first_kernel  = kernels.CMB_lens(data.chi_cmb,data)\n",
    "simple_kernel = kernels.CMB_lens(None,data)\n",
    "\n",
    "Mstarspls = []\n",
    "PBs =[]\n",
    "Cls= []\n",
    "for LSST_bin in LSST_bins:\n",
    "    second_kernel = kernels.gal_clus(kernels.dNdz_LSST,kernels.simple_bias,data,LSST_bin)\n",
    "    PB  = PostBorn_Bispec(data, zmin, data.z_cmb, first_kernel, second_kernel, simple_kernel, k_min=kmin,k_max=100, lmax=30000, acc=2)\n",
    "    PBs+=[PB]\n",
    "    Mstarspls+=[PB.Mstarsp]\n",
    "    Cls+=[PB.CL_born]\n",
    "ls = PB.ls\n"
   ]
  },
  {
   "cell_type": "code",
   "execution_count": 15,
   "metadata": {},
   "outputs": [
    {
     "name": "stdout",
     "output_type": "stream",
     "text": [
      "using z-bin None norm 65.75020607931236\n"
     ]
    },
    {
     "data": {
      "text/plain": [
       "0.9999988012417791"
      ]
     },
     "execution_count": 15,
     "metadata": {},
     "output_type": "execute_result"
    }
   ],
   "source": [
    "second_kernel = kernels.gal_clus(kernels.dNdz_LSST,kernels.constant_bias,data,'all')\n",
    "chis = np.linspace(0,chi_cmb,1000)\n",
    "np.trapz(second_kernel(chis,data.zchi(chis)),chis)"
   ]
  },
  {
   "cell_type": "code",
   "execution_count": 24,
   "metadata": {},
   "outputs": [
    {
     "name": "stdout",
     "output_type": "stream",
     "text": [
      "0\n"
     ]
    }
   ],
   "source": [
    "L     = np.logspace(np.log(2),3,200)\n",
    "\n",
    "# sampling for integrations\n",
    "phi = np.linspace(0.,2.*np.pi,1000,endpoint=True)\n",
    "L1  = np.logspace(np.log(2),3,400)\n",
    "corrs=[]\n",
    "for ii in range(len(LSST_bins)):\n",
    "    print(ii),\n",
    "    corrs+=[get_regularized_sum_of_terms(L,L1,phi,Mstarspls[ii],method='trapz')+get_second_sum_of_terms(L,L1,Mstarspls[ii],method='trapz')]\n",
    "corrs = np.asarray(corrs)\n",
    "np.save('../output/LimberPostBornResultsLSST_cut',(L,corrs))"
   ]
  },
  {
   "cell_type": "code",
   "execution_count": null,
   "metadata": {},
   "outputs": [],
   "source": [
    "\n"
   ]
  },
  {
   "cell_type": "code",
   "execution_count": 10,
   "metadata": {},
   "outputs": [],
   "source": [
    "#L,corrs = np.load('../output/LimberPostBornResultsLSST.npy')"
   ]
  },
  {
   "cell_type": "code",
   "execution_count": 25,
   "metadata": {},
   "outputs": [],
   "source": [
    "#31 term only\n",
    "def get_31_term_only(L,L1,M):\n",
    "    return -L**2/np.pi*simps(M(L,L1)/L1,L1)"
   ]
  },
  {
   "cell_type": "code",
   "execution_count": 35,
   "metadata": {},
   "outputs": [
    {
     "ename": "ValueError",
     "evalue": "operands could not be broadcast together with shapes (1000,1000000) (1000,1000) ",
     "output_type": "error",
     "traceback": [
      "\u001b[0;31m---------------------------------------------------------------------------\u001b[0m",
      "\u001b[0;31mValueError\u001b[0m                                Traceback (most recent call last)",
      "\u001b[0;32m<ipython-input-35-e42fa050f034>\u001b[0m in \u001b[0;36m<module>\u001b[0;34m()\u001b[0m\n\u001b[1;32m      1\u001b[0m \u001b[0mCl31s\u001b[0m\u001b[0;34m=\u001b[0m\u001b[0mnp\u001b[0m\u001b[0;34m.\u001b[0m\u001b[0mzeros_like\u001b[0m\u001b[0;34m(\u001b[0m\u001b[0mcorrs\u001b[0m\u001b[0;34m)\u001b[0m\u001b[0;34m\u001b[0m\u001b[0;34m\u001b[0m\u001b[0m\n\u001b[1;32m      2\u001b[0m \u001b[0;32mfor\u001b[0m \u001b[0mii\u001b[0m \u001b[0;32min\u001b[0m \u001b[0mrange\u001b[0m\u001b[0;34m(\u001b[0m\u001b[0mlen\u001b[0m\u001b[0;34m(\u001b[0m\u001b[0mLSST_bins\u001b[0m\u001b[0;34m)\u001b[0m\u001b[0;34m)\u001b[0m\u001b[0;34m:\u001b[0m\u001b[0;34m\u001b[0m\u001b[0;34m\u001b[0m\u001b[0m\n\u001b[0;32m----> 3\u001b[0;31m     \u001b[0mCl31s\u001b[0m\u001b[0;34m[\u001b[0m\u001b[0mii\u001b[0m\u001b[0;34m]\u001b[0m \u001b[0;34m=\u001b[0m \u001b[0mget_31_term_only\u001b[0m\u001b[0;34m(\u001b[0m\u001b[0mL\u001b[0m\u001b[0;34m,\u001b[0m\u001b[0mL1\u001b[0m\u001b[0;34m,\u001b[0m\u001b[0mMstarspls\u001b[0m\u001b[0;34m[\u001b[0m\u001b[0mii\u001b[0m\u001b[0;34m]\u001b[0m\u001b[0;34m)\u001b[0m\u001b[0;34m\u001b[0m\u001b[0;34m\u001b[0m\u001b[0m\n\u001b[0m\u001b[1;32m      4\u001b[0m \u001b[0mnp\u001b[0m\u001b[0;34m.\u001b[0m\u001b[0msave\u001b[0m\u001b[0;34m(\u001b[0m\u001b[0;34m'../output/LimberPostBornCl31_kappa-gal'\u001b[0m\u001b[0;34m,\u001b[0m\u001b[0;34m(\u001b[0m\u001b[0mL\u001b[0m\u001b[0;34m,\u001b[0m\u001b[0mCl31s\u001b[0m\u001b[0;34m)\u001b[0m\u001b[0;34m)\u001b[0m\u001b[0;34m\u001b[0m\u001b[0;34m\u001b[0m\u001b[0m\n",
      "\u001b[0;32m<ipython-input-25-297acba8acf6>\u001b[0m in \u001b[0;36mget_31_term_only\u001b[0;34m(L, L1, M)\u001b[0m\n\u001b[1;32m      1\u001b[0m \u001b[0;31m#31 term only\u001b[0m\u001b[0;34m\u001b[0m\u001b[0;34m\u001b[0m\u001b[0;34m\u001b[0m\u001b[0m\n\u001b[1;32m      2\u001b[0m \u001b[0;32mdef\u001b[0m \u001b[0mget_31_term_only\u001b[0m\u001b[0;34m(\u001b[0m\u001b[0mL\u001b[0m\u001b[0;34m,\u001b[0m\u001b[0mL1\u001b[0m\u001b[0;34m,\u001b[0m\u001b[0mM\u001b[0m\u001b[0;34m)\u001b[0m\u001b[0;34m:\u001b[0m\u001b[0;34m\u001b[0m\u001b[0;34m\u001b[0m\u001b[0m\n\u001b[0;32m----> 3\u001b[0;31m     \u001b[0;32mreturn\u001b[0m \u001b[0;34m-\u001b[0m\u001b[0mL\u001b[0m\u001b[0;34m**\u001b[0m\u001b[0;36m2\u001b[0m\u001b[0;34m/\u001b[0m\u001b[0mnp\u001b[0m\u001b[0;34m.\u001b[0m\u001b[0mpi\u001b[0m\u001b[0;34m*\u001b[0m\u001b[0msimps\u001b[0m\u001b[0;34m(\u001b[0m\u001b[0mM\u001b[0m\u001b[0;34m(\u001b[0m\u001b[0mL\u001b[0m\u001b[0;34m,\u001b[0m\u001b[0mL1\u001b[0m\u001b[0;34m)\u001b[0m\u001b[0;34m/\u001b[0m\u001b[0mL1\u001b[0m\u001b[0;34m,\u001b[0m\u001b[0mL1\u001b[0m\u001b[0;34m)\u001b[0m\u001b[0;34m\u001b[0m\u001b[0;34m\u001b[0m\u001b[0m\n\u001b[0m",
      "\u001b[0;31mValueError\u001b[0m: operands could not be broadcast together with shapes (1000,1000000) (1000,1000) "
     ]
    }
   ],
   "source": [
    "Cl31s=np.zeros_like(corrs)\n",
    "for ii in range(len(LSST_bins)):\n",
    "    Cl31s[ii] = get_31_term_only(L,L1,Mstarspls[ii])\n",
    "np.save('../output/LimberPostBornCl31_kappa-gal',(L,Cl31s))"
   ]
  },
  {
   "cell_type": "code",
   "execution_count": null,
   "metadata": {},
   "outputs": [],
   "source": []
  },
  {
   "cell_type": "code",
   "execution_count": 36,
   "metadata": {},
   "outputs": [],
   "source": [
    "# getting this thing for uch \n",
    "# use same sampling as in Limber case\n",
    "\n",
    "from lab import *\n",
    "M_ = Mstarspls[-1](ell_,ell_)\n",
    "M_new = np.zeros_like(M_)\n",
    "\n",
    "for ii in range(len(ell_)):\n",
    "    for jj in range(len(ell_)):\n",
    "        if (ell_[ii]<=1000 and ell_[jj]<=2000):\n",
    "            M_new[ii][jj]=M_[ii][jj]\n",
    "M_new = RectBivariateSpline(ell_,ell_,M_new)"
   ]
  },
  {
   "cell_type": "code",
   "execution_count": 37,
   "metadata": {},
   "outputs": [],
   "source": [
    "L     = np.logspace(np.log(2),3,200)\n",
    "\n",
    "# sampling for integrations\n",
    "phi = np.linspace(0.,2.*np.pi,1000,endpoint=True)\n",
    "L1  = np.logspace(np.log(2),3,400)\n",
    "CL31_cut = get_31_term_only(L,L1,M_new)\n",
    "np.save('../output/LimberPostBornCl31_kappa-gal_all_cut',(L,L1,CL31_cut))"
   ]
  },
  {
   "cell_type": "code",
   "execution_count": 38,
   "metadata": {},
   "outputs": [],
   "source": [
    "L      = np.logspace(-1,np.log(2000),1000)\n",
    "L1,L2  = np.meshgrid(L,L)\n",
    "M_corr = M_new(L,L)/L1**4/L2**2*4.\n",
    "\n",
    "np.save('../output/MLimberSpline_bin_all_cut',[np.meshgrid(L,L),M_corr])"
   ]
  },
  {
   "cell_type": "code",
   "execution_count": 30,
   "metadata": {},
   "outputs": [
    {
     "data": {
      "text/plain": [
       "array([[1.98099393e-17, 2.00204214e-17, 2.02320356e-17, ...,\n",
       "        2.18989684e-23, 2.18989684e-23, 2.18989684e-23],\n",
       "       [2.05773437e-17, 2.07971216e-17, 2.10181051e-17, ...,\n",
       "        2.43554693e-23, 2.43554693e-23, 2.43554693e-23],\n",
       "       [2.13696199e-17, 2.15990368e-17, 2.18297359e-17, ...,\n",
       "        2.70883652e-23, 2.70883652e-23, 2.70883652e-23],\n",
       "       ...,\n",
       "       [3.15081712e-19, 3.20928659e-19, 3.26859445e-19, ...,\n",
       "        1.30845982e-22, 1.30845982e-22, 1.30845982e-22],\n",
       "       [3.15081712e-19, 3.20928659e-19, 3.26859445e-19, ...,\n",
       "        1.30845982e-22, 1.30845982e-22, 1.30845982e-22],\n",
       "       [3.15081712e-19, 3.20928659e-19, 3.26859445e-19, ...,\n",
       "        1.30845982e-22, 1.30845982e-22, 1.30845982e-22]])"
      ]
     },
     "execution_count": 30,
     "metadata": {},
     "output_type": "execute_result"
    }
   ],
   "source": [
    "Mstarspls[-1](L,L)"
   ]
  },
  {
   "cell_type": "code",
   "execution_count": 17,
   "metadata": {},
   "outputs": [
    {
     "name": "stdout",
     "output_type": "stream",
     "text": [
      "0\n"
     ]
    }
   ],
   "source": [
    "L     = np.logspace(1,4,400)\n",
    "\n",
    "# sampling for integrations\n",
    "phi = np.linspace(0.,2.*np.pi,1000,endpoint=True)\n",
    "L1  = np.logspace(-1,5,400)\n",
    "corrs=[]\n",
    "for ii in range(len(LSST_bins)):\n",
    "    print(ii),\n",
    "    corrs+=[get_regularized_sum_of_terms(L,L1,phi,Mstarspls[ii],method='trapz')+get_second_sum_of_terms(L,L1,Mstarspls[ii],method='trapz')]\n",
    "np.save('../output/LimberPostBornResultsLSST',(L,corrs))"
   ]
  },
  {
   "cell_type": "code",
   "execution_count": null,
   "metadata": {},
   "outputs": [],
   "source": []
  }
 ],
 "metadata": {
  "kernelspec": {
   "display_name": "NERSC BCCP",
   "language": "python",
   "name": "bccp"
  },
  "language_info": {
   "codemirror_mode": {
    "name": "ipython",
    "version": 3
   },
   "file_extension": ".py",
   "mimetype": "text/x-python",
   "name": "python",
   "nbconvert_exporter": "python",
   "pygments_lexer": "ipython3",
   "version": "3.6.7"
  }
 },
 "nbformat": 4,
 "nbformat_minor": 2
}
