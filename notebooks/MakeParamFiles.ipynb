{
 "cells": [
  {
   "cell_type": "code",
   "execution_count": 1,
   "metadata": {},
   "outputs": [],
   "source": [
    "import numpy as np\n",
    "import matplotlib.pyplot as plt\n",
    "import sys\n",
    "import time\n",
    "from scipy.interpolate import RectBivariateSpline\n",
    "path = '../PostBornEma/'\n",
    "sys.path.append(\"../scripts/\") \n",
    "from lab import *"
   ]
  },
  {
   "cell_type": "code",
   "execution_count": 33,
   "metadata": {},
   "outputs": [
    {
     "name": "stdout",
     "output_type": "stream",
     "text": [
      "zmax=2 chimax=3597\n",
      "gaussgal_z7_sigma1_deltalens_z10simple_bias zmax2\n"
     ]
    }
   ],
   "source": [
    "##general settings\n",
    "LSST      = False\n",
    "#if not LSST redhsift kernel\n",
    "z0        = 0.7\n",
    "sigma_z   = 0.1\n",
    "bin_num   = 'all'\n",
    "bias      = 'simple'\n",
    "z_source  = 1.#z_cmb\n",
    "zmax      = 2#z_source\n",
    "chimax    = chi_z(zmax)\n",
    "s         = 0.6\n",
    "print('zmax=%d'%zmax, 'chimax=%d'%chimax)\n",
    "chi_source = chi_z(z_source)\n",
    "\n",
    "if LSST:\n",
    "    if chi_source==chi_cmb:\n",
    "        file_ext = 'lsst%s_cmblens'%str(bin_num)\n",
    "    else:\n",
    "        file_ext = 'lsst%s_deltalens_z%d'%(str(bin_num),z_source*10)\n",
    "\n",
    "else:\n",
    "    if chi_source==chi_cmb:\n",
    "        file_ext = 'gaussgal_z%d_sigma%d_cmblens'%(z0*10,sigma_z*10)\n",
    "    else:\n",
    "        file_ext = 'gaussgal_z%d_sigma%d_deltalens_z%d'%(z0*10,sigma_z*10,z_source*10) \n",
    "    \n",
    "file_ext+=bias+'_bias'\n",
    "    \n",
    "file_ext2 = 'zmax%d'%zmax\n",
    "    \n",
    "print(file_ext, file_ext2)\n",
    "\n",
    "\n",
    "if bias == 'simple':\n",
    "    bias_func = simple_bias\n",
    "elif bias =='constant':\n",
    "    bias_func = constant_bias\n",
    "else:\n",
    "    print('no valid bias function selected')\n",
    "\n",
    "\n",
    "\n",
    "params = {}\n",
    "params['LSST'] = LSST\n",
    "params['z0'] = z0\n",
    "params['sigma_z'] = sigma_z\n",
    "params['bin_num'] = bin_num\n",
    "params['chimax'] = chimax\n",
    "params['chisource'] = chi_source\n",
    "params['zsource'] = z_source\n",
    "params['ext'] = file_ext\n",
    "params['ext2']= file_ext2\n",
    "params['s'] = s\n",
    "params['bias']=bias\n",
    "\n",
    "try: \n",
    "    params_ = pickle.load(open('../settings/params_%s.pkl'%file_ext,'rb'))\n",
    "    assert(params==params_)\n",
    "except:\n",
    "    pickle.dump(params,open('../settings/params_%s.pkl'%file_ext,'wb'))\n",
    "\n"
   ]
  },
  {
   "cell_type": "code",
   "execution_count": 34,
   "metadata": {},
   "outputs": [
    {
     "name": "stdout",
     "output_type": "stream",
     "text": [
      "delta lensing with chimax 3597\n",
      "2.4073897284855802e-39\n"
     ]
    }
   ],
   "source": [
    "print('delta lensing with chimax %d'%chimax)\n",
    "def lensing_kernel(xi):\n",
    "    xmax = chi_source\n",
    "    return (xmax - xi)/(xmax*xi) * (xmax > xi)\n",
    "    \n",
    "if LSST:\n",
    "    if bin_num == 'all':\n",
    "        def galax_kernel(x):\n",
    "            return lsst_kernel_cb(x)*simple_bias(x)\n",
    "    else:\n",
    "        def galax_kernel(x):\n",
    "            return lsst_kernel_cbn[bin_num](x)*simple_bias(x)\n",
    "else:\n",
    "    kernel = gal_clus(Gauss_redshift(sigma_z=sigma_z,z0=z0), bias_func)\n",
    "    def galax_kernel(x):\n",
    "        return kernel(x)\n",
    "    \n",
    "print(galax_kernel(chimax))"
   ]
  },
  {
   "cell_type": "code",
   "execution_count": 35,
   "metadata": {},
   "outputs": [
    {
     "data": {
      "image/png": "[encoded data removed]",
      "text/plain": [
       "<Figure size 432x288 with 1 Axes>"
      ]
     },
     "metadata": {
      "needs_background": "light"
     },
     "output_type": "display_data"
    }
   ],
   "source": [
    "#see if kernels are sensible\n",
    "chis = np.linspace(1,chimax,20000)\n",
    "plt.plot(chis, lensing_kernel(chis)*chis**2,label='lensing kernel')\n",
    "plt.plot(chis, galax_kernel(chis)*1e6, label='galaxy kernel (incl. bias)')\n",
    "#plt.plot(chis, lsst_kernel_cbn[1](chis)*1e6)\n",
    "plt.axvline(x=chimax,color='black')\n",
    "#plt.plot(chis, test(chis)*5e6, ls='--')\n",
    "plt.xlabel('$\\chi$',fontsize=16)\n",
    "plt.ylabel('$W(\\chi)$',fontsize=16)\n",
    "#plt.legend(loc=(1.01,0.8), fontsize=12)\n",
    "plt.legend(loc='upper left')\n",
    "plt.xlim(0,chimax)\n",
    "plt.savefig('../plots/redshiftkernels_%s.pdf'%file_ext, bbox_inches='tight')"
   ]
  },
  {
   "cell_type": "code",
   "execution_count": null,
   "metadata": {},
   "outputs": [],
   "source": []
  },
  {
   "cell_type": "code",
   "execution_count": null,
   "metadata": {},
   "outputs": [],
   "source": []
  }
 ],
 "metadata": {
  "kernelspec": {
   "display_name": "NERSC BCCP",
   "language": "python",
   "name": "bccp"
  },
  "language_info": {
   "codemirror_mode": {
    "name": "ipython",
    "version": 3
   },
   "file_extension": ".py",
   "mimetype": "text/x-python",
   "name": "python",
   "nbconvert_exporter": "python",
   "pygments_lexer": "ipython3",
   "version": "3.6.7"
  }
 },
 "nbformat": 4,
 "nbformat_minor": 2
}
