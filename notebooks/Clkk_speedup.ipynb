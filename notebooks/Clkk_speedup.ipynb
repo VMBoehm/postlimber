{
 "cells": [
  {
   "cell_type": "code",
   "execution_count": 3,
   "metadata": {},
   "outputs": [],
   "source": [
    "from classy import Class\n",
    "import numpy as np\n",
    "import matplotlib.pyplot as plt"
   ]
  },
  {
   "cell_type": "code",
   "execution_count": 4,
   "metadata": {},
   "outputs": [],
   "source": [
    "path = '/global/homes/e/ecastori/PostBorn/'\n",
    "data = np.loadtxt(path+'FFT_k-1Pk.dat',skiprows=2)\n",
    "\n",
    "#----------------------#\n",
    "n         = data[:,0]\n",
    "Re_c_n    = data[:,1]\n",
    "Im_c_n    = data[:,2]\n",
    "Re_nu_n   = data[:,3]\n",
    "Im_nu_n   = data[:,4]\n",
    "#----------------------#\n",
    "\n",
    "c_n  = Re_c_n  + 1j * Im_c_n\n",
    "nu_n = Re_nu_n + 1j * Im_nu_n\n",
    "\n",
    "data = np.loadtxt(path+'GG_weights.dat',skiprows=2)\n",
    "t1   = data[:,0]\n",
    "w1   = data[:,1]"
   ]
  },
  {
   "cell_type": "code",
   "execution_count": 5,
   "metadata": {},
   "outputs": [],
   "source": [
    "path = '../PostBornEma/'\n",
    "data =  np.load(path+'Il_nu_t_new1-ell-nn-tt.npy')\n",
    "ell       = data[:,0]\n",
    "nn        = data[:,1]\n",
    "tt        = data[:,2]\n",
    "#----------------------#\n",
    "\n",
    "data =  np.load(path+'Il_nu_t_new1-ReI-ImI.npy')\n",
    "Re_I      = data[:,0]\n",
    "Im_I      = data[:,1]\n",
    "#----------------------#\n",
    "\n",
    "I_ = Re_I + 1j * Im_I"
   ]
  },
  {
   "cell_type": "code",
   "execution_count": 7,
   "metadata": {},
   "outputs": [
    {
     "name": "stdout",
     "output_type": "stream",
     "text": [
      "True\n"
     ]
    }
   ],
   "source": [
    "print(np.allclose(np.unique(tt),t1))"
   ]
  },
  {
   "cell_type": "code",
   "execution_count": 8,
   "metadata": {},
   "outputs": [
    {
     "name": "stdout",
     "output_type": "stream",
     "text": [
      "{'h': 0.677, 'omega_b': 0.02247, 'omega_cdm': 0.11923, 'A_s': 2.10732e-09, 'n_s': 0.96824, 'k_pivot': 0.05}\n"
     ]
    }
   ],
   "source": [
    "#cosmology\n",
    "h         = 0.6770\n",
    "omega_cdm = 0.11923\n",
    "omega_b   = 0.02247\n",
    "Omega_b   = omega_b/h**2\n",
    "Omega_cdm = omega_cdm/h**2\n",
    "Omega_m   = Omega_b+Omega_cdm\n",
    "ns        = 0.96824\n",
    "A0        = 2.10732*10**(-9)\n",
    "\n",
    "#dictionary for class\n",
    "cosmo_dict={'h': h,\n",
    "'omega_b' : omega_b,\n",
    "'omega_cdm': omega_cdm,\n",
    "'A_s'    : A0,\n",
    "'n_s'    : ns,\n",
    "'k_pivot' : 0.05}\n",
    "print(cosmo_dict)\n",
    "\n",
    "# speed of light\n",
    "c      = 299792458./1000. # km/s\n",
    "\n",
    "#prefactor for Cl_kk computation from Cl_dd\n",
    "prefac = 1.5*Omega_m*(100.)**2/c**2 #without h"
   ]
  },
  {
   "cell_type": "code",
   "execution_count": 9,
   "metadata": {},
   "outputs": [],
   "source": [
    "from classy import Class\n",
    "cosmo = Class()\n",
    "cosmo.set(cosmo_dict)\n",
    "cosmo.compute()\n",
    "cosmo_b               = cosmo.get_background()\n",
    "\n",
    "class_z               = cosmo_b['z'][::-1]\n",
    "class_chi             = cosmo_b['comov. dist.'][::-1]\n",
    "class_D               = cosmo_b['gr.fac. D'][::-1]#/cosmo_b['gr.fac. D'][-1]\n",
    "\n",
    "derivParams           = cosmo.get_current_derived_parameters(['z_rec'])\n",
    "z_cmb                 = derivParams['z_rec']\n",
    "\n",
    "\n",
    "from scipy.interpolate import interp1d\n",
    "from scipy.interpolate import InterpolatedUnivariateSpline as ius\n",
    "chi_z = interp1d(class_z,class_chi*h, bounds_error=False, fill_value=0)\n",
    "z_chi = interp1d(class_chi*h,class_z, bounds_error=False, fill_value=0)   # Mpc/h\n",
    "D_chi = interp1d(class_chi*h,class_D, bounds_error=False, fill_value=0)    # growth\n",
    "D_z   = interp1d(class_z,class_D, bounds_error=False, fill_value=0)\n",
    "# chi_cmb\n",
    "chi_cmb = chi_z(z_cmb)"
   ]
  },
  {
   "cell_type": "code",
   "execution_count": 10,
   "metadata": {},
   "outputs": [
    {
     "data": {
      "image/png": "[encoded data removed]",
      "text/plain": [
       "<Figure size 432x288 with 1 Axes>"
      ]
     },
     "metadata": {
      "needs_background": "light"
     },
     "output_type": "display_data"
    },
    {
     "data": {
      "image/png": "[encoded data removed]",
      "text/plain": [
       "<Figure size 432x288 with 1 Axes>"
      ]
     },
     "metadata": {
      "needs_background": "light"
     },
     "output_type": "display_data"
    },
    {
     "data": {
      "image/png": "[encoded data removed]",
      "text/plain": [
       "<Figure size 432x288 with 1 Axes>"
      ]
     },
     "metadata": {
      "needs_background": "light"
     },
     "output_type": "display_data"
    }
   ],
   "source": [
    "z = np.linspace(0,5,100)\n",
    "plt.figure()\n",
    "plt.plot(class_z,class_D,ls='-')\n",
    "plt.plot(z,D_z(z),ls='--')\n",
    "plt.plot(z,1/(1+z),ls='-.')\n",
    "plt.xlim(0,5)\n",
    "plt.show()\n",
    "\n",
    "z=np.linspace(0.,10,200)\n",
    "plt.figure()\n",
    "plt.loglog(z,chi_z(z))\n",
    "plt.show()\n",
    "plt.figure()\n",
    "plt.plot(z,D_z(z)/D_chi(chi_z(z)))\n",
    "plt.show()"
   ]
  },
  {
   "cell_type": "code",
   "execution_count": 16,
   "metadata": {},
   "outputs": [],
   "source": [
    "def set_kernel(chi_max):\n",
    "    def kernel(chi):\n",
    "        return (1.+z_chi(chi))*D_chi(chi)\n",
    "    return kernel\n",
    "\n",
    "D = set_kernel(chi_cmb)"
   ]
  },
  {
   "cell_type": "code",
   "execution_count": 12,
   "metadata": {},
   "outputs": [
    {
     "name": "stdout",
     "output_type": "stream",
     "text": [
      "[-1.9-27.94471j   -1.9-27.665263j  -1.9-27.385816j  -1.9-27.106369j\n",
      " -1.9-26.826921j  -1.9-26.547474j  -1.9-26.268027j  -1.9-25.98858j\n",
      " -1.9-25.709133j  -1.9-25.429686j  -1.9-25.150239j  -1.9-24.870792j\n",
      " -1.9-24.591345j  -1.9-24.311898j  -1.9-24.03245j   -1.9-23.753003j\n",
      " -1.9-23.473556j  -1.9-23.194109j  -1.9-22.914662j  -1.9-22.635215j\n",
      " -1.9-22.355768j  -1.9-22.076321j  -1.9-21.796874j  -1.9-21.517427j\n",
      " -1.9-21.237979j  -1.9-20.958532j  -1.9-20.679085j  -1.9-20.399638j\n",
      " -1.9-20.120191j  -1.9-19.840744j  -1.9-19.561297j  -1.9-19.28185j\n",
      " -1.9-19.002403j  -1.9-18.722956j  -1.9-18.443509j  -1.9-18.164061j\n",
      " -1.9-17.884614j  -1.9-17.605167j  -1.9-17.32572j   -1.9-17.046273j\n",
      " -1.9-16.766826j  -1.9-16.487379j  -1.9-16.207932j  -1.9-15.928485j\n",
      " -1.9-15.649038j  -1.9-15.36959j   -1.9-15.090143j  -1.9-14.810696j\n",
      " -1.9-14.531249j  -1.9-14.251802j  -1.9-13.972355j  -1.9-13.692908j\n",
      " -1.9-13.413461j  -1.9-13.134014j  -1.9-12.854567j  -1.9-12.575119j\n",
      " -1.9-12.295672j  -1.9-12.016225j  -1.9-11.736778j  -1.9-11.457331j\n",
      " -1.9-11.177884j  -1.9-10.898437j  -1.9-10.61899j   -1.9-10.339543j\n",
      " -1.9-10.060096j  -1.9 -9.7806485j -1.9 -9.5012014j -1.9 -9.2217543j\n",
      " -1.9 -8.9423072j -1.9 -8.6628601j -1.9 -8.383413j  -1.9 -8.1039659j\n",
      " -1.9 -7.8245188j -1.9 -7.5450717j -1.9 -7.2656246j -1.9 -6.9861775j\n",
      " -1.9 -6.7067304j -1.9 -6.4272833j -1.9 -6.1478362j -1.9 -5.8683891j\n",
      " -1.9 -5.588942j  -1.9 -5.3094949j -1.9 -5.0300478j -1.9 -4.7506007j\n",
      " -1.9 -4.4711536j -1.9 -4.1917065j -1.9 -3.9122594j -1.9 -3.6328123j\n",
      " -1.9 -3.3533652j -1.9 -3.0739181j -1.9 -2.794471j  -1.9 -2.5150239j\n",
      " -1.9 -2.2355768j -1.9 -1.9561297j -1.9 -1.6766826j -1.9 -1.3972355j\n",
      " -1.9 -1.1177884j -1.9 -0.8383413j -1.9 -0.5588942j -1.9 -0.2794471j\n",
      " -1.9 +0.j       ]\n",
      "[   2.    3.    4.    5.    6.    7.    8.    9.   10.   11.   12.   13.\n",
      "   14.   15.   16.   17.   18.   19.   20.   21.   22.   23.   24.   25.\n",
      "   26.   27.   28.   29.   30.   31.   32.   33.   34.   35.   36.   37.\n",
      "   38.   39.   40.   41.   42.   43.   44.   45.   46.   47.   48.   49.\n",
      "   50.   51.   52.   53.   54.   55.   56.   57.   58.   59.   60.   61.\n",
      "   62.   63.   64.   65.   66.   67.   68.   69.   70.   71.   72.   73.\n",
      "   74.   75.   76.   77.   78.   79.   80.   81.   82.   83.   84.   85.\n",
      "   86.   87.   88.   89.   90.   91.   92.   93.   94.   95.   96.   97.\n",
      "   98.   99.  100.  110.  120.  130.  140.  150.  160.  170.  180.  190.\n",
      "  200.  210.  220.  230.  240.  250.  260.  270.  280.  290.  300.  310.\n",
      "  320.  330.  340.  350.  360.  370.  380.  390.  400.  410.  420.  430.\n",
      "  440.  450.  460.  470.  480.  490.  500.  510.  520.  530.  540.  550.\n",
      "  560.  570.  580.  590.  600.  610.  620.  630.  640.  650.  660.  670.\n",
      "  680.  690.  700.  710.  720.  730.  740.  750.  760.  770.  780.  790.\n",
      "  800.  810.  820.  830.  840.  850.  860.  870.  880.  890.  900.  910.\n",
      "  920.  930.  940.  950.  960.  970.  980.  990. 1000. 1010. 1020. 1030.\n",
      " 1040. 1050. 1060. 1070. 1080. 1090. 1100. 1110. 1120. 1130. 1140. 1150.\n",
      " 1160. 1170. 1180. 1190. 1200. 1210. 1220. 1230. 1240. 1250. 1260. 1270.\n",
      " 1280. 1290. 1300. 1310. 1320. 1330. 1340. 1350. 1360. 1370. 1380. 1390.\n",
      " 1400. 1410. 1420. 1430. 1440. 1450. 1460. 1470. 1480. 1490. 1500. 1510.\n",
      " 1520. 1530. 1540. 1550. 1560. 1570. 1580. 1590. 1600. 1610. 1620. 1630.\n",
      " 1640. 1650. 1660. 1670. 1680. 1690. 1700. 1710. 1720. 1730. 1740. 1750.\n",
      " 1760. 1770. 1780. 1790. 1800. 1810. 1820. 1830. 1840. 1850. 1860. 1870.\n",
      " 1880. 1890. 1900. 1910. 1920. 1930. 1940. 1950. 1960. 1970. 1980. 1990.\n",
      " 2000.]\n",
      "[1.43136613e-04 7.54024680e-04 1.85243263e-03 3.43753148e-03\n",
      " 5.50780238e-03 8.06122965e-03 1.10953208e-02 1.46071121e-02\n",
      " 1.85931729e-02 2.30496085e-02 2.79720649e-02 3.33557325e-02\n",
      " 3.91953509e-02 4.54852145e-02 5.22191775e-02 5.93906603e-02\n",
      " 6.69926558e-02 7.50177361e-02 8.34580601e-02 9.23053808e-02\n",
      " 1.01551054e-01 1.11186045e-01 1.21200941e-01 1.31585955e-01\n",
      " 1.42330941e-01 1.53425400e-01 1.64858492e-01 1.76619046e-01\n",
      " 1.88695570e-01 2.01076265e-01 2.13749034e-01 2.26701494e-01\n",
      " 2.39920990e-01 2.53394605e-01 2.67109175e-01 2.81051299e-01\n",
      " 2.95207354e-01 3.09563509e-01 3.24105737e-01 3.38819828e-01\n",
      " 3.53691406e-01 3.68705940e-01 3.83848759e-01 3.99105068e-01\n",
      " 4.14459960e-01 4.29898431e-01 4.45405398e-01 4.60965709e-01\n",
      " 4.76564159e-01 4.92185508e-01 5.07814492e-01 5.23435841e-01\n",
      " 5.39034291e-01 5.54594602e-01 5.70101569e-01 5.85540040e-01\n",
      " 6.00894932e-01 6.16151241e-01 6.31294060e-01 6.46308594e-01\n",
      " 6.61180172e-01 6.75894263e-01 6.90436491e-01 7.04792646e-01\n",
      " 7.18948701e-01 7.32890825e-01 7.46605395e-01 7.60079010e-01\n",
      " 7.73298506e-01 7.86250966e-01 7.98923735e-01 8.11304430e-01\n",
      " 8.23380954e-01 8.35141508e-01 8.46574600e-01 8.57669059e-01\n",
      " 8.68414045e-01 8.78799059e-01 8.88813955e-01 8.98448946e-01\n",
      " 9.07694619e-01 9.16541940e-01 9.24982264e-01 9.33007344e-01\n",
      " 9.40609340e-01 9.47780822e-01 9.54514786e-01 9.60804649e-01\n",
      " 9.66644267e-01 9.72027935e-01 9.76950391e-01 9.81406827e-01\n",
      " 9.85392888e-01 9.88904679e-01 9.91938770e-01 9.94492198e-01\n",
      " 9.96562468e-01 9.98147567e-01 9.99245975e-01 9.99856863e-01]\n",
      "101 101 101 100\n",
      "2918900 2918900\n"
     ]
    }
   ],
   "source": [
    "ell_ = np.unique(ell)\n",
    "nu_n_= np.unique(nu_n) \n",
    "t_=np.unique(tt)\n",
    "assert(np.allclose(t_,t1))\n",
    "\n",
    "print(nu_n_)\n",
    "print(ell_)\n",
    "print(np.unique(tt))\n",
    "print(len(nu_n_),len(n),len(c_n),len(t_))\n",
    "print(len(tt),len(I_))"
   ]
  },
  {
   "cell_type": "code",
   "execution_count": 13,
   "metadata": {},
   "outputs": [],
   "source": [
    "m=0\n",
    "I2D = np.zeros((len(ell_),len(nu_n_),len(t_),len(t_)),dtype=np.complex64)\n",
    "for ii,ll in enumerate(ell_):\n",
    "    for jj, nu in enumerate(nu_n_):\n",
    "        I2D[ii][jj] = np.meshgrid(t_,I_[m:m+len(t_)])[1]\n",
    "        m+=len(t_)"
   ]
  },
  {
   "cell_type": "code",
   "execution_count": 14,
   "metadata": {},
   "outputs": [],
   "source": [
    "from scipy.integrate import simps, quadrature\n",
    "from scipy.interpolate import interp1d\n",
    "import time"
   ]
  },
  {
   "cell_type": "code",
   "execution_count": 17,
   "metadata": {},
   "outputs": [
    {
     "name": "stdout",
     "output_type": "stream",
     "text": [
      "0\n",
      "20\n",
      "40\n",
      "60\n",
      "80\n",
      "100\n",
      "120\n",
      "140\n",
      "160\n",
      "180\n",
      "200\n",
      "220\n",
      "240\n",
      "260\n",
      "280\n",
      "Time taken =  73.68954181671143\n"
     ]
    }
   ],
   "source": [
    "r2d, t2d = np.meshgrid(t_,t_)\n",
    "w11, w12 = np.meshgrid(w1,w1)\n",
    "begin=time.time()\n",
    "resultv=[]\n",
    "for ii,ll in enumerate(ell_):\n",
    "    if ii%20 ==0: print(ii)\n",
    "    res1=[]\n",
    "    for jj, nu in enumerate(nu_n_):\n",
    "        #_, I2D = np.meshgrid(t_,I_array[ii,jj])\n",
    "        integrand=(1.-r2d*t2d)/t2d*(1.-r2d)/r2d*I2D[ii][jj]*D(r2d*t2d*chi_cmb)*D(r2d*chi_cmb)*(r2d*chi_cmb)**(-nu)\n",
    "        res1+=[np.sum(w11*w12*integrand)]\n",
    "    resultv+=[np.real(np.sum(res1[0:-1]*c_n[0:-1]*2.)+res1[-1]*c_n[-1])]\n",
    "print('Time taken = ', time.time()-begin)\n",
    "\n",
    "Clv = np.real(np.asarray(resultv))*4./np.pi**2*prefac**2/4."
   ]
  },
  {
   "cell_type": "code",
   "execution_count": 29,
   "metadata": {},
   "outputs": [
    {
     "name": "stdout",
     "output_type": "stream",
     "text": [
      "0\n",
      "20\n",
      "40\n",
      "60\n",
      "80\n",
      "100\n",
      "120\n",
      "140\n",
      "160\n",
      "180\n",
      "200\n",
      "220\n",
      "240\n",
      "260\n",
      "280\n",
      "Time taken =  5.020306587219238\n"
     ]
    }
   ],
   "source": [
    "def Wkernel(xi, xmax):\n",
    "    return (xmax - xi)/(xmax*xi) * (xmax > xi)\n",
    "\n",
    "\n",
    "begin=time.time()\n",
    "\n",
    "r2d, t2d = np.meshgrid(t_,t_)\n",
    "w11, w12 = np.meshgrid(w1,w1)\n",
    "I2D2     = np.swapaxes(I2D, 2, 3) #order of 'r' and 't' is confusing to me\n",
    "\n",
    "result=[]\n",
    "\n",
    "chi1fac0 = (Wkernel(r2d*chi_cmb, chi_cmb)*D(r2d*chi_cmb)).reshape(*r2d.shape, 1)\n",
    "chi1fac0 = chi1fac0 *(r2d*chi_cmb).reshape(*r2d.shape, 1)**(1-nu_n_.reshape(1, 1, -1))\n",
    "\n",
    "chi2fac00 = (Wkernel(t2d*r2d*chi_cmb, chi_cmb)*D(r2d*t2d*chi_cmb)).reshape(*r2d.shape, 1)\n",
    "chi2fac01 = (Wkernel(1/t2d*r2d*chi_cmb, chi_cmb)*D(r2d*1/t2d*chi_cmb)).reshape(*r2d.shape, 1)\n",
    "chi2fac01 = chi2fac01 * t2d.reshape(*r2d.shape, 1)**(nu_n_.reshape(1, 1, -1)-2)\n",
    "chi2fac0  = chi2fac00 + chi2fac01\n",
    "w11, w12  = w11.reshape(*w11.shape, 1), w12.reshape(*w12.shape, 1)\n",
    "\n",
    "lmax = ell.size\n",
    "for ii,ll in enumerate(ell_[:lmax]):\n",
    "    if ii%20 ==0: print(ii) \n",
    "        \n",
    "    res1 = np.sum(w11*w12*chi1fac0* chi2fac0*I2D2[ii].T, axis=(0, 1))\n",
    "    \n",
    "    result += [np.real(np.sum(res1[0:-1]*c_n[0:-1]*2.)+res1[-1]*c_n[-1])]\n",
    "Cl3=chi_cmb * np.real(np.asarray(result))*4./np.pi**2*prefac**2/8.\n",
    "\n",
    "print('Time taken = ', time.time()-begin)"
   ]
  },
  {
   "cell_type": "code",
   "execution_count": 30,
   "metadata": {},
   "outputs": [
    {
     "name": "stdout",
     "output_type": "stream",
     "text": [
      "0\n",
      "20\n",
      "40\n",
      "60\n",
      "80\n",
      "100\n",
      "120\n",
      "140\n",
      "160\n",
      "180\n",
      "200\n",
      "220\n",
      "240\n",
      "260\n",
      "280\n",
      "Time taken =  76.4144983291626\n"
     ]
    }
   ],
   "source": [
    "def Wkernel(xi, xmax):\n",
    "    return (xmax - xi)/(xmax*xi) * (xmax > xi)\n",
    "\n",
    "\n",
    "r2d, t2d = np.meshgrid(t_,t_)\n",
    "w11, w12 = np.meshgrid(w1,w1)\n",
    "begin=time.time()\n",
    "result=[]\n",
    "for ii,ll in enumerate(ell_):\n",
    "    if ii%20 ==0: print(ii)\n",
    "    res1=[]\n",
    "    for jj, nu in enumerate(nu_n_):\n",
    "        #_, I2D = np.meshgrid(t_,I_array[ii,jj])\n",
    "        ww = Wkernel(r2d*chi_cmb, chi_cmb) *Wkernel(r2d*t2d*chi_cmb, chi_cmb)\n",
    "        integrand=ww*I2D[ii][jj]*D(r2d*t2d*chi_cmb)*D(r2d*chi_cmb)*(r2d*chi_cmb)**(1-nu)\n",
    "        res1+=[np.sum(w11*w12*integrand)]\n",
    "    result+=[np.real(np.sum(res1[0:-1]*c_n[0:-1]*2.)+res1[-1]*c_n[-1])]\n",
    "print('Time taken = ', time.time()-begin)\n",
    "Cl2=chi_cmb * np.real(np.asarray(result))*4./np.pi**2*prefac**2/4."
   ]
  },
  {
   "cell_type": "code",
   "execution_count": 31,
   "metadata": {},
   "outputs": [
    {
     "data": {
      "text/plain": [
       "[<matplotlib.lines.Line2D at 0x2b09bf8b8b00>]"
      ]
     },
     "execution_count": 31,
     "metadata": {},
     "output_type": "execute_result"
    },
    {
     "data": {
      "image/png": "[encoded data removed]",
      "text/plain": [
       "<Figure size 432x288 with 1 Axes>"
      ]
     },
     "metadata": {
      "needs_background": "light"
     },
     "output_type": "display_data"
    }
   ],
   "source": [
    "plt.figure()\n",
    "plt.plot(Cl3/Clv-1)\n",
    "plt.plot(Clv/Cl2-1)"
   ]
  },
  {
   "cell_type": "code",
   "execution_count": null,
   "metadata": {},
   "outputs": [],
   "source": []
  },
  {
   "cell_type": "code",
   "execution_count": null,
   "metadata": {},
   "outputs": [],
   "source": []
  }
 ],
 "metadata": {
  "kernelspec": {
   "display_name": "NERSC BCCP",
   "language": "python",
   "name": "bccp"
  },
  "language_info": {
   "codemirror_mode": {
    "name": "ipython",
    "version": 3
   },
   "file_extension": ".py",
   "mimetype": "text/x-python",
   "name": "python",
   "nbconvert_exporter": "python",
   "pygments_lexer": "ipython3",
   "version": "3.6.7"
  }
 },
 "nbformat": 4,
 "nbformat_minor": 2
}
