{
 "cells": [
  {
   "cell_type": "code",
   "execution_count": 2,
   "metadata": {},
   "outputs": [],
   "source": [
    "import numpy as np\n",
    "import matplotlib.pyplot as plt\n",
    "import sys\n",
    "import time"
   ]
  },
  {
   "cell_type": "code",
   "execution_count": 3,
   "metadata": {},
   "outputs": [],
   "source": [
    "path = '../PostBornEma/'\n",
    "sys.path.append(\"../scripts/\") \n",
    "from lab import *\n"
   ]
  },
  {
   "cell_type": "markdown",
   "metadata": {},
   "source": [
    "# Vanessa's implementations of $G^{ab}$s"
   ]
  },
  {
   "cell_type": "markdown",
   "metadata": {},
   "source": [
    "### 1) $ G_l^{\\phi\\psi}(\\chi_{max}, \\chi_2) = \\int_0^{\\chi_{max}} \\mathrm{d} \\chi_1 W(\\chi_1, \\chi_{max}) C_l^{\\psi\\psi}(\\chi_1,\\chi_2)$ \n",
    "$= \\mathcal{A}^2 \\frac{1}{2\\pi^2} \\sum_n \\int_0^1  \\chi_2^{(1-\\nu_n)} [1+z(\\chi_2)] D(\\chi_2) I^0_l (\\nu_n,t)\\left[W(t\\chi_2,\\chi_{max}) D(\\chi_2 t) [1+z(\\chi_2 t)] + W(1/t \\chi_2,\\chi_{max}) t^{\\nu_n-2}D(\\chi_2/t)[1+z(\\chi_2/t)]\\right]$\n",
    "\n",
    "needs to be evaluated for varying $\\chi_{max}$ and $\\chi_2$ (this appears in Eq. 4.2).\n",
    "\n",
    "replacing $\\chi_2$ by $r\\chi_{max}$ allows doing basically the same as before, just without summing over $r$,\n",
    "so that the ouput for fixed $\\chi_{max}$ has shape of $r$.\n",
    "Then we only need one loop over $\\chi_{max}$."
   ]
  },
  {
   "cell_type": "code",
   "execution_count": 130,
   "metadata": {},
   "outputs": [
    {
     "name": "stdout",
     "output_type": "stream",
     "text": [
      "0\n"
     ]
    },
    {
     "name": "stderr",
     "output_type": "stream",
     "text": [
      "/global/homes/v/vboehm/.conda/envs/bccp/lib/python3.6/site-packages/ipykernel_launcher.py:37: ComplexWarning: Casting complex values to real discards the imaginary part\n"
     ]
    },
    {
     "name": "stdout",
     "output_type": "stream",
     "text": [
      "10\n",
      "20\n",
      "30\n",
      "40\n",
      "50\n",
      "60\n",
      "70\n",
      "80\n",
      "90\n",
      "Time taken =  148.15554189682007\n"
     ]
    }
   ],
   "source": [
    "# agrees with parallelized code and agrees with Chirag's code\n",
    "def lensing_kernel(xi, xmax):\n",
    "    return (xmax - xi)/(xmax*xi) * (xmax > xi)\n",
    "chi2_max = chi_cmb\n",
    "chi1_max = chi_cmb\n",
    "\n",
    "r2d, t2d = np.meshgrid(t_,t_)\n",
    "w11, w12 = np.meshgrid(w1,w1)\n",
    "# inflate by one dimensions (nu_n)\n",
    "r2d, t2d = np.expand_dims(r2d, 2), np.expand_dims(t2d, 2)\n",
    "w11, w12 = np.expand_dims(w11, 2), np.expand_dims(w12, 2)\n",
    "\n",
    "\n",
    "Cl = np.zeros((len(t_),len(ell_),len(t_)))\n",
    "\n",
    "begin=time.time()\n",
    "\n",
    "for jj, chi1_max in enumerate((t_*chi_cmb)):\n",
    "    if jj%10==0:\n",
    "        print(jj)\n",
    "\n",
    "    chi1fac0 = (D_chi(r2d*chi2_max)*(1.+z_chi(r2d*chi2_max)))\n",
    "    chi1fac0 = chi1fac0 *(r2d*chi2_max)**(1-nu_n_.reshape(1, 1, -1))\n",
    "\n",
    "    # no lensing kernel, because no lensing integration of chi_2\n",
    "    chi2fac00 = (D_chi(r2d*t2d*chi2_max)*(1+z_chi(r2d*t2d*chi2_max))*lensing_kernel(r2d*t2d*chi2_max, chi1_max))\n",
    "\n",
    "    chi2fac01 = (D_chi(r2d*1./t2d*chi2_max)*(1+z_chi(r2d*1./t2d*chi2_max))*lensing_kernel(r2d*1./t2d*chi2_max, chi1_max))\n",
    "\n",
    "    chi2fac01 = chi2fac01 * t2d**(nu_n_.reshape(1, 1, -1)-2)\n",
    "    chi2fac0  = chi2fac00 + chi2fac01\n",
    "\n",
    "    chifacs   = w12*chi1fac0* chi2fac0\n",
    "\n",
    "    result = np.zeros((len(ell_),len(t_)))\n",
    "    lmax   = ell_.size\n",
    "    for ii  in range(ell_.size):        \n",
    "        result[ii] = np.sum(chifacs*I0_ltrc[ii], axis=(0,2)) #not summing over r\n",
    "\n",
    "    Cl[jj] = result*1./np.pi**2/2.*prefac**2 #divide by to for Gauss quad and times two for phi cancel\n",
    "# swap axes to have cl_phipsi_l(chi_max,chi)\n",
    "Cl = np.swapaxes(Cl,0,1)\n",
    "print('Time taken = ', time.time()-begin)\n",
    "\n",
    "np.save('../G_matrices/clphipsi',Cl)"
   ]
  },
  {
   "cell_type": "code",
   "execution_count": null,
   "metadata": {},
   "outputs": [],
   "source": [
    "clphipsi_para=np.load('../G_matrices/clphipsi_parallel.npy')\n",
    "clphipsi_para =np.swapaxes(clphipsi_para,0,1)\n",
    "clphipsi_para.shape\n",
    "for ii in [10,50,90]:\n",
    "        for jj in [10,50,90]:\n",
    "            plt.loglog(ell_,abs(clphipsi_para[:,ii,jj]),label='parallel')\n",
    "            plt.loglog(ell_,abs(Cl[:,ii,jj]),ls='--',label='non-parallel')\n",
    "plt.legend(ncol=3, loc=(1.1,0.2))"
   ]
  },
  {
   "cell_type": "code",
   "execution_count": null,
   "metadata": {},
   "outputs": [],
   "source": []
  },
  {
   "cell_type": "markdown",
   "metadata": {},
   "source": [
    "### tesing gaussian quadrature with simple integral test\n",
    "$\\int_0^1 \\mathrm{d} x x^2 = 1/2 \\sum_i w_i t_i^2 = 1/3 $"
   ]
  },
  {
   "cell_type": "code",
   "execution_count": 49,
   "metadata": {},
   "outputs": [
    {
     "data": {
      "text/plain": [
       "0.33333333387229197"
      ]
     },
     "execution_count": 49,
     "metadata": {},
     "output_type": "execute_result"
    }
   ],
   "source": [
    "0.5*np.sum(w1*t_**2)"
   ]
  },
  {
   "cell_type": "markdown",
   "metadata": {},
   "source": [
    "## 2) $ G_l^{\\phi\\delta}(\\chi_{max}, \\chi_2) = \\int_0^{\\chi_{max}} \\mathrm{d} \\chi_1 W(\\chi_1, \\chi_{max}) C_l^{\\psi\\delta}(\\chi_1,\\chi_2)$ \n",
    "$= \\mathcal{A} \\frac{2}{2\\pi^2} \\sum_n \\int_0^1  \\chi_2^{(1-\\nu_n)} D(\\chi_2) I^2_l (\\nu_n,t)\\left[W(t\\chi_2,\\chi_{max}) D(\\chi_2 t) [1+z(\\chi_2 t)] + W(1/t \\chi_2,\\chi_{max}) t^{(2+\\nu_n)-2}D(\\chi_2/t)[1+z(\\chi_2/t)]\\right]$"
   ]
  },
  {
   "cell_type": "code",
   "execution_count": 27,
   "metadata": {},
   "outputs": [],
   "source": [
    "#define different redshift kernels (at some point load this)\n",
    "\n",
    "# 1) general kernel if dNdz is Gaussian\n",
    "def Gauss_redshift(z0,sigma_z):\n",
    "    def z_kernel(z):\n",
    "        return 1./np.sqrt(2.*np.pi)/sigma_z*np.exp(-(z-z0)**2/2./sigma_z**2)\n",
    "    return z_kernel\n",
    "\n",
    "def gal_kernel(z_kernel,ximax=5):\n",
    "    def chi_kernel(xi):\n",
    "        return z_kernel(z_chi(xi))*dz_dchi(xi)\n",
    "    return chi_kernel\n",
    "\n",
    "\n",
    "# 2) prospective LSST kernels\n",
    "def dNdz_LSST(bin_num,dn_filename = '../LSSTdndzs/dndz_LSST_i27_SN5_3y'):\n",
    "    if bin_num is \"all\":\n",
    "        zbin, nbin = np.load(dn_filename+'tot_extrapolated.npy',encoding='latin1')\n",
    "        norm                = np.trapz(nbin,zbin)\n",
    "        mbin                = 'None'\n",
    "    else:\n",
    "        bins,big_grid,res   = np.load(dn_filename+'_extrapolated.npy',encoding='latin1')\n",
    "        mbin                = bins[bin_num]\n",
    "        zbin                = big_grid\n",
    "        nbin                = res[bin_num]\n",
    "        norm                = np.trapz(nbin,zbin)\n",
    "    dndz                = interp1d(zbin, nbin/norm, kind='linear',bounds_error=False,fill_value=0.)\n",
    "    print('using z-bin', mbin, 'norm', norm)\n",
    "    return dndz\n",
    "\n",
    "\n",
    "\n",
    "def gal_clus(dNdz,b,bin_num):\n",
    "    \"\"\"\n",
    "    dNdz: function returning function dndz for gicen bin number \n",
    "    b: function returning bias as function of z \n",
    "    bin_num: bin_number (either 'all' or 0-5)\n",
    "    \"\"\"\n",
    "    p_z=dNdz(bin_num)\n",
    "    def kernel(x):\n",
    "        z = z_chi(x)\n",
    "        return b(z)*p_z(z)*dz_dchi(z)\n",
    "\n",
    "    return kernel\n",
    "\n",
    "def simple_bias(z):\n",
    "    return (1.+z)\n",
    "\n",
    "def constant_bias(z,b=1.):\n",
    "    return b"
   ]
  },
  {
   "cell_type": "code",
   "execution_count": 155,
   "metadata": {},
   "outputs": [
    {
     "name": "stdout",
     "output_type": "stream",
     "text": [
      "0\n"
     ]
    },
    {
     "name": "stderr",
     "output_type": "stream",
     "text": [
      "/global/homes/v/vboehm/.conda/envs/bccp/lib/python3.6/site-packages/ipykernel_launcher.py:36: ComplexWarning: Casting complex values to real discards the imaginary part\n"
     ]
    },
    {
     "name": "stdout",
     "output_type": "stream",
     "text": [
      "10\n",
      "20\n",
      "30\n",
      "40\n",
      "50\n",
      "60\n",
      "70\n",
      "80\n",
      "90\n",
      "Time taken =  148.35325145721436\n"
     ]
    }
   ],
   "source": [
    "r2d, t2d = np.meshgrid(t_,t_)\n",
    "w11, w12 = np.meshgrid(w1,w1)\n",
    "#nu axis\n",
    "r2d, t2d = np.expand_dims(r2d, 2), np.expand_dims(t2d, 2)\n",
    "w11, w12 = np.expand_dims(w11, 2), np.expand_dims(w12, 2)\n",
    "\n",
    "# chimax and kernels\n",
    "chimax1   = chi_cmb\n",
    "\n",
    "#can be sth smaller if we work with redshift bins\n",
    "chimax2   = chi_z(10.)\n",
    "\n",
    "n = 2\n",
    "\n",
    "Cl = np.zeros((len(t_),len(ell_),len(t_)))\n",
    "\n",
    "begin=time.time()\n",
    "\n",
    "for jj, chi1max in enumerate((t_*chi_cmb)):\n",
    "    if jj%10==0:\n",
    "        print(jj)\n",
    "        \n",
    "    chi1fac0 = D_chi(r2d*chimax2)\n",
    "    chi1fac0 = chi1fac0 *(r2d*chimax2)**(1-(n+nu_n_.reshape(1, 1, -1)))\n",
    "\n",
    "    chi2fac00 = (lensing_kernel(t2d*r2d*chimax2,chimax1)*D_chi(r2d*t2d*chimax2)*(1+z_chi(r2d*t2d*chimax2)))\n",
    "    chi2fac01 = (lensing_kernel(1./t2d*r2d*chimax2,chimax1)*D_chi(r2d*1./t2d*chimax2)*(1+z_chi(r2d*1./t2d*chimax2)))\n",
    "    chi2fac01 = chi2fac01 * t2d**((n+nu_n_).reshape(1, 1, -1)-2)\n",
    "    chi2fac0  = chi2fac00 + chi2fac01\n",
    "\n",
    "    chifacs = w12*chi1fac0* chi2fac0\n",
    "\n",
    "    result=np.zeros((len(ell_),len(t_)))\n",
    "    lmax = ell_.size\n",
    "    for ii  in range(ell_.size):        \n",
    "        result[ii] = np.sum(chifacs*I2_ltrc[ii],axis=(0,2))\n",
    "    \n",
    "    Cl[jj] = result*1./np.pi**2/2.*prefac/2.\n",
    "#Cl_pg = chimax * result*1./np.pi**2/2.*prefac/4.*2\n",
    "\n",
    "Cl = np.swapaxes(Cl,0,1)\n",
    "print('Time taken = ', time.time()-begin)\n",
    "\n",
    "\n",
    "np.save('../G_matrices/clphidelta',Cl)"
   ]
  },
  {
   "cell_type": "code",
   "execution_count": null,
   "metadata": {},
   "outputs": [],
   "source": [
    "# agrees with parallelized code and agrees with Chirag's code\n",
    "def lensing_kernel(xi, xmax):\n",
    "    return (xmax - xi)/(xmax*xi) * (xmax > xi)\n",
    "chi2_max = chi_cmb\n",
    "chi1_max = chi_cmb\n",
    "\n",
    "r2d, t2d = np.meshgrid(t_,t_)\n",
    "w11, w12 = np.meshgrid(w1,w1)\n",
    "# inflate by one dimensions (nu_n)\n",
    "r2d, t2d = np.expand_dims(r2d, 2), np.expand_dims(t2d, 2)\n",
    "w11, w12 = np.expand_dims(w11, 2), np.expand_dims(w12, 2)\n",
    "\n",
    "n = 2\n",
    "Cl2 = np.zeros((len(t_),len(ell_),len(t_)))\n",
    "\n",
    "begin=time.time()\n",
    "\n",
    "for jj, chi1_max in enumerate((t_*chi_cmb)):\n",
    "    if jj%10==0:\n",
    "        print(jj)\n",
    "\n",
    "    chi1fac0 = D_chi(r2d*chi2_max)\n",
    "    chi1fac0 = chi1fac0 *(r2d*chi2_max)**(1-nu_n_.reshape(1, 1, -1))\n",
    "\n",
    "    # no lensing kernel, because no lensing integration of chi_2\n",
    "    chi2fac00 = (D_chi(r2d*t2d*chi2_max)*(1+z_chi(r2d*t2d*chi2_max))*lensing_kernel(r2d*t2d*chi2_max, chi1_max))\n",
    "\n",
    "    chi2fac01 = (D_chi(r2d*1./t2d*chi2_max)*(1+z_chi(r2d*1./t2d*chi2_max))*lensing_kernel(r2d*1./t2d*chi2_max, chi1_max))\n",
    "\n",
    "    chi2fac01 = chi2fac01 * t2d**((n+nu_n_.reshape(1, 1, -1))-2)\n",
    "    chi2fac0  = chi2fac00 + chi2fac01\n",
    "\n",
    "    chifacs   = w12*chi1fac0* chi2fac0\n",
    "\n",
    "    result = np.zeros((len(ell_),len(t_)))\n",
    "    lmax   = ell_.size\n",
    "    for ii  in range(ell_.size):        \n",
    "        result[ii] = np.sum(chifacs*I2_ltrc[ii], axis=(0,2)) #not summing over r\n",
    "\n",
    "    Cl2[jj] = result*1./np.pi**2/2.*prefac/2. #divide by to for Gauss quad and times two for phi cancel\n",
    "# swap axes to have cl_phipsi_l(chi_max,chi)\n",
    "Cl2 = np.swapaxes(Cl,0,1)\n",
    "print('Time taken = ', time.time()-begin)\n",
    "\n",
    "#np.save('../G_matrices/clphipsi',Cl)"
   ]
  },
  {
   "cell_type": "code",
   "execution_count": 143,
   "metadata": {},
   "outputs": [
    {
     "data": {
      "text/plain": [
       "(289, 100, 100)"
      ]
     },
     "execution_count": 143,
     "metadata": {},
     "output_type": "execute_result"
    }
   ],
   "source": []
  },
  {
   "cell_type": "code",
   "execution_count": 153,
   "metadata": {},
   "outputs": [
    {
     "data": {
      "text/plain": [
       "<matplotlib.legend.Legend at 0x2aaae781ba90>"
      ]
     },
     "execution_count": 153,
     "metadata": {},
     "output_type": "execute_result"
    },
    {
     "data": {
      "image/png": "[encoded data removed]",
      "text/plain": [
       "<Figure size 432x288 with 1 Axes>"
      ]
     },
     "metadata": {
      "needs_background": "light"
     },
     "output_type": "display_data"
    }
   ],
   "source": []
  },
  {
   "cell_type": "code",
   "execution_count": 5,
   "metadata": {},
   "outputs": [
    {
     "name": "stdout",
     "output_type": "stream",
     "text": [
      "(289, 100, 100)\n"
     ]
    }
   ],
   "source": [
    "clphiphi1 = np.load('../G_matrices/clphiphi_parallel.npy')\n",
    "print(clphiphi1.shape)"
   ]
  },
  {
   "cell_type": "code",
   "execution_count": 6,
   "metadata": {},
   "outputs": [],
   "source": [
    "test = []\n",
    "for i in range(100):\n",
    "    test.append(np.loadtxt('../output/clphiphi/%d.txt'%i))\n",
    "\n",
    "clphiphi2 = np.swapaxes(np.array(test), 0, 1)\n"
   ]
  },
  {
   "cell_type": "code",
   "execution_count": 24,
   "metadata": {},
   "outputs": [
    {
     "data": {
      "text/plain": [
       "<matplotlib.legend.Legend at 0x2aaae514e4a8>"
      ]
     },
     "execution_count": 24,
     "metadata": {},
     "output_type": "execute_result"
    },
    {
     "data": {
      "image/png": "[encoded data removed]",
      "text/plain": [
       "<Figure size 432x288 with 1 Axes>"
      ]
     },
     "metadata": {
      "needs_background": "light"
     },
     "output_type": "display_data"
    }
   ],
   "source": [
    "for ii in [10,50,90]:\n",
    "    for jj in [10,50,90]:\n",
    "        plt.semilogx(ell_,clphiphi1[:,ii,jj]/clphiphi2[:,ii,jj], label ='%d, %d'%(ii,jj))\n",
    "plt.legend()"
   ]
  },
  {
   "cell_type": "code",
   "execution_count": 8,
   "metadata": {},
   "outputs": [],
   "source": [
    "ll,clpp = np.load('../output/clpp_class_no_limber.npy')"
   ]
  },
  {
   "cell_type": "code",
   "execution_count": 26,
   "metadata": {},
   "outputs": [
    {
     "data": {
      "text/plain": [
       "<matplotlib.legend.Legend at 0x2aaae54efc88>"
      ]
     },
     "execution_count": 26,
     "metadata": {},
     "output_type": "execute_result"
    },
    {
     "data": {
      "image/png": "[encoded data removed]",
      "text/plain": [
       "<Figure size 432x288 with 1 Axes>"
      ]
     },
     "metadata": {
      "needs_background": "light"
     },
     "output_type": "display_data"
    }
   ],
   "source": [
    "plt.loglog(ell_,np.interp(ell_,ll,clpp)/clphiphi1[:,99,99], label='class over my result')\n",
    "plt.loglog(ell_,np.interp(ell_,ll,clpp)/clphiphi2[:,99,99], ls='--', label='class over Chirags result')\n",
    "plt.loglog(ell_, clphiphi1[:,99,99]/clphiphi2[:,99,99], label='ration my to chirags result')\n",
    "plt.legend()"
   ]
  },
  {
   "cell_type": "code",
   "execution_count": null,
   "metadata": {},
   "outputs": [],
   "source": []
  }
 ],
 "metadata": {
  "kernelspec": {
   "display_name": "NERSC BCCP",
   "language": "python",
   "name": "bccp"
  },
  "language_info": {
   "codemirror_mode": {
    "name": "ipython",
    "version": 3
   },
   "file_extension": ".py",
   "mimetype": "text/x-python",
   "name": "python",
   "nbconvert_exporter": "python",
   "pygments_lexer": "ipython3",
   "version": "3.6.7"
  }
 },
 "nbformat": 4,
 "nbformat_minor": 2
}
