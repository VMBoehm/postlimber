{
 "cells": [
  {
   "cell_type": "code",
   "execution_count": null,
   "metadata": {},
   "outputs": [],
   "source": [
    "import numpy as np\n",
    "import matplotlib.pyplot as plt"
   ]
  },
  {
   "cell_type": "code",
   "execution_count": null,
   "metadata": {},
   "outputs": [],
   "source": [
    "path = '/global/homes/e/ecastori/PostBorn/'"
   ]
  },
  {
   "cell_type": "code",
   "execution_count": null,
   "metadata": {},
   "outputs": [],
   "source": [
    "data = np.loadtxt(path+'FFT_k-1Pk.dat',skiprows=2)\n",
    "\n",
    "#----------------------#\n",
    "n         = data[:,0]\n",
    "Re_c_n    = data[:,1]\n",
    "Im_c_n    = data[:,2]\n",
    "Re_nu_n   = data[:,3]\n",
    "Im_nu_n   = data[:,4]\n",
    "#----------------------#\n",
    "\n",
    "c_n  = Re_c_n  + 1j * Im_c_n\n",
    "nu_n = Re_nu_n + 1j * Im_nu_n"
   ]
  },
  {
   "cell_type": "code",
   "execution_count": null,
   "metadata": {},
   "outputs": [],
   "source": [
    "data = np.loadtxt(path+'Il_nu_t_new1.dat',skiprows=1)\n",
    "\n",
    "#----------------------#\n",
    "ell       = data[:,0]\n",
    "nn        = data[:,1]\n",
    "tt        = data[:,2]\n",
    "Re_I      = data[:,3]\n",
    "Im_I      = data[:,4]\n",
    "#----------------------#\n",
    "\n",
    "I_ = Re_I + 1j * Im_I"
   ]
  },
  {
   "cell_type": "code",
   "execution_count": null,
   "metadata": {},
   "outputs": [],
   "source": [
    "data = np.loadtxt(path+'GG_weights.dat',skiprows=2)\n",
    "t1   = data[:,0]\n",
    "w1   = data[:,1]"
   ]
  },
  {
   "cell_type": "code",
   "execution_count": null,
   "metadata": {},
   "outputs": [],
   "source": [
    "print(np.unique(tt)-t1)"
   ]
  },
  {
   "cell_type": "code",
   "execution_count": null,
   "metadata": {},
   "outputs": [],
   "source": [
    "#cosmology\n",
    "h         = 0.6770\n",
    "omega_cdm = 0.11923\n",
    "omega_b   = 0.02247\n",
    "Omega_b   = omega_b/h**2\n",
    "Omega_cdm = omega_cdm/h**2\n",
    "Omega_m   = Omega_b+Omega_cdm\n",
    "ns        = 0.96824\n",
    "A0        = 2.10732*10**(-9)\n",
    "\n",
    "#dictionary for class\n",
    "cosmo_dict={'h': h,\n",
    "'omega_b' : omega_b,\n",
    "'omega_cdm': omega_cdm,\n",
    "'A_s'    : A0,\n",
    "'n_s'    : ns,\n",
    "'k_pivot' : 0.05}\n",
    "print(cosmo_dict)\n",
    "\n",
    "# speed of light\n",
    "c      = 299792458./1000. # km/s\n",
    "\n",
    "#prefactor for Cl_kk computation from Cl_dd\n",
    "prefac = 1.5*Omega_m*(100.)**2/c**2 #without h"
   ]
  },
  {
   "cell_type": "code",
   "execution_count": null,
   "metadata": {},
   "outputs": [],
   "source": [
    "from classy import Class\n",
    "cosmo = Class()\n",
    "cosmo.set(cosmo_dict)\n",
    "cosmo.compute()\n",
    "cosmo_b               = cosmo.get_background()\n",
    "\n",
    "class_z               = cosmo_b['z'][::-1]\n",
    "class_chi             = cosmo_b['comov. dist.'][::-1]\n",
    "class_D               = cosmo_b['gr.fac. D'][::-1]#/cosmo_b['gr.fac. D'][-1]\n",
    "\n",
    "derivParams           = cosmo.get_current_derived_parameters(['z_rec'])\n",
    "z_cmb                 = derivParams['z_rec']\n",
    "\n",
    "\n",
    "from scipy.interpolate import interp1d\n",
    "from scipy.interpolate import InterpolatedUnivariateSpline as ius\n",
    "chi_z = interp1d(class_z,class_chi*h)\n",
    "z_chi = interp1d(class_chi*h,class_z)  # Mpc/h\n",
    "D_chi = interp1d(class_chi*h,class_D)    # growth\n",
    "D_z   = interp1d(class_z,class_D)\n",
    "# chi_cmb\n",
    "chi_cmb = chi_z(z_cmb)\n",
    "\n"
   ]
  },
  {
   "cell_type": "code",
   "execution_count": null,
   "metadata": {},
   "outputs": [],
   "source": [
    "plt.figure()\n",
    "print(chi_z(1100),chi_z(z_cmb))"
   ]
  },
  {
   "cell_type": "code",
   "execution_count": null,
   "metadata": {},
   "outputs": [],
   "source": [
    "z = np.linspace(0,5,100)\n",
    "plt.figure()\n",
    "plt.plot(class_z,class_D,ls='-')\n",
    "plt.plot(z,D_z(z),ls='--')\n",
    "plt.plot(z,1/(1+z),ls='-.')\n",
    "plt.xlim(0,5)\n",
    "plt.show()\n",
    "D_z(0)"
   ]
  },
  {
   "cell_type": "code",
   "execution_count": null,
   "metadata": {},
   "outputs": [],
   "source": [
    "z=np.linspace(0.,10,200)\n",
    "plt.figure()\n",
    "plt.loglog(z,chi_z(z))\n",
    "plt.show()\n",
    "plt.figure()\n",
    "plt.plot(z,D_z(z)/D_chi(chi_z(z)))\n",
    "plt.show()\n",
    "# plt.figure()\n",
    "# plt.loglog(z,)\n",
    "# plt.show()\n",
    "# plt.figure()\n",
    "# plt.loglog(z,z_chi(chi_z(z)))\n",
    "# plt.show()"
   ]
  },
  {
   "cell_type": "code",
   "execution_count": null,
   "metadata": {},
   "outputs": [],
   "source": [
    "D_chi(chi_z(0.1))"
   ]
  },
  {
   "cell_type": "code",
   "execution_count": null,
   "metadata": {},
   "outputs": [],
   "source": [
    "4./np.pi"
   ]
  },
  {
   "cell_type": "code",
   "execution_count": null,
   "metadata": {},
   "outputs": [],
   "source": [
    "def set_kernel(chi_max):\n",
    "    def kernel(chi):\n",
    "        return (1.+z_chi(chi))*D_chi(chi)\n",
    "    return kernel"
   ]
  },
  {
   "cell_type": "code",
   "execution_count": null,
   "metadata": {},
   "outputs": [],
   "source": [
    "W = set_kernel(chi_cmb)"
   ]
  },
  {
   "cell_type": "code",
   "execution_count": null,
   "metadata": {},
   "outputs": [],
   "source": [
    "ell_ = np.unique(ell)\n",
    "nu_n_= np.unique(nu_n) \n",
    "print(nu_n_)\n",
    "print(ell_)\n",
    "print(np.unique(tt))\n",
    "t_=np.unique(tt)\n",
    "assert(np.allclose(t_,t1))\n",
    "print(len(nu_n_),len(n),len(c_n),len(t_))\n",
    "print(len(tt),len(I_))"
   ]
  },
  {
   "cell_type": "code",
   "execution_count": null,
   "metadata": {},
   "outputs": [],
   "source": [
    "# nu=nu_n_\n",
    "\n",
    "# res=[]\n",
    "# m = 0\n",
    "# for ii,ll in enumerate(ell_):\n",
    "#     print(ii,ll)\n",
    "#     for t in t_:\n",
    "#         for r in t_:\n",
    "#             res+=[np.real(sum(I_[m:m+len(n)][0:-1]*c_n[0:-1]*2.*(chi_cmb*r)**(-nu[0:-1]))+I_[m:m+len(n)][-1]*c_n[-1]*(chi_cmb*r)**(-nu[-1]))]\n",
    "#         m+=len(n)\n",
    "# assert(m==len(I_))"
   ]
  },
  {
   "cell_type": "code",
   "execution_count": null,
   "metadata": {},
   "outputs": [],
   "source": [
    "from scipy.integrate import simps, quadrature\n",
    "from scipy.interpolate import interp1d\n",
    "m=0\n",
    "result=[]\n",
    "for ii,ll in enumerate(ell_):\n",
    "    print(ii)\n",
    "    res1=[]\n",
    "    for nu in nu_n_:\n",
    "        res2=[]\n",
    "        for r in t_:\n",
    "            integrand=(1.-r*t_)/t_*(1.-r)/r*I_[m:m+len(t_)]*W(r*t_*chi_cmb)*W(r*chi_cmb)\n",
    "            res2+=[np.sum(w1*integrand)]\n",
    "            \n",
    "        m+=len(t_)\n",
    "        integrand = np.asarray(res2)*(t_*chi_cmb)**(-nu)\n",
    "        res1+=[np.sum(integrand*w1)]\n",
    "    result+=[np.real(np.sum(res1[0:-1]*c_n[0:-1]*2.)+res1[-1]*c_n[-1])]\n",
    "assert(m==len(I_))    "
   ]
  },
  {
   "cell_type": "code",
   "execution_count": null,
   "metadata": {},
   "outputs": [],
   "source": [
    "# from scipy.integrate import simps, quadrature\n",
    "# from scipy.interpolate import interp1d\n",
    "# m=0\n",
    "# result=[]\n",
    "# for ii,ll in enumerate(ell_):\n",
    "#     res_=[]\n",
    "#     for t in t_:\n",
    "        \n",
    "#         #for r in t_:\n",
    "#         integrand=W(t*t_*chi_cmb)*W(t*chi_cmb)*(1.-t_*t)/t*(1.-t_)/t_*res[m:m+len(t_)]\n",
    "\n",
    "            \n",
    "#         m+=len(t_)\n",
    "#         #integrand[0] = 0.#+1j*0.\n",
    "\n",
    "#         res_+=[np.sum(w1*integrand)]#quadrature(integrand,min(t_),max(t_))[0]]\n",
    "#     #print(res_)\n",
    "#         # for every n do r integral\n",
    "#     integrand = np.asarray(res_)\n",
    "\n",
    "#     if ll==3:\n",
    "#         plt.plot(t_,integrand,marker='o')\n",
    "#     #integrand[0] = 0.#+1j*0.\n",
    "#     result+=[simps(integrand,t_)]#min(t_),max(t_))[0]]\n",
    "    \n"
   ]
  },
  {
   "cell_type": "code",
   "execution_count": null,
   "metadata": {},
   "outputs": [],
   "source": [
    "# from scipy.integrate import simps, quadrature\n",
    "# from scipy.interpolate import interp1d\n",
    "# m=0\n",
    "# result=[]\n",
    "# for ii,ll in enumerate(ell_):\n",
    "#     res_=[]\n",
    "#     for t in t_:\n",
    "        \n",
    "#         #for r in t_:\n",
    "#         integrand=W(t*t_*chi_cmb)*(1.-t_*t)*(1.-t_)/t_*res[m:m+len(t_)]\n",
    "\n",
    "            \n",
    "#         m+=len(t_)\n",
    "#         integrand[0] = 0.#+1j*0.\n",
    "#         #if ll==20:\n",
    "#         #    plt.semilogx(t_,integrand)\n",
    "#         integrand = interp1d(t_,integrand,kind='linear')\n",
    "#         t_long = np.linspace(min(t_),max(t_),500)\n",
    "#         res_+=[simps(integrand(t_long),t_long)]#quadrature(integrand,min(t_),max(t_))[0]]\n",
    "#     #print(res_)\n",
    "#         # for every n do r integral\n",
    "#     integrand = np.asarray(res_)*W(t_*chi_cmb)/t_\n",
    "\n",
    "    \n",
    "#     integrand[0] = 0.#+1j*0.\n",
    "#     integrand = interp1d(t_,integrand,kind='linear')\n",
    "#     if ll==3:\n",
    "#         plt.semilogx(t_long,integrand(t_long))\n",
    "#     result+=[simps(integrand(t_long),t_long)]#min(t_),max(t_))[0]]\n",
    "        "
   ]
  },
  {
   "cell_type": "code",
   "execution_count": null,
   "metadata": {},
   "outputs": [],
   "source": [
    "Cl=np.real(np.asarray(result))*4./np.pi**2*prefac**2/4.\n",
    "print(ell_,Cl)"
   ]
  },
  {
   "cell_type": "code",
   "execution_count": null,
   "metadata": {},
   "outputs": [],
   "source": [
    "plt.figure()\n",
    "plt.loglog(ell_,(ell_*(ell_+1.))**2*Cl/(2.*np.pi))\n",
    "plt.xlim(2,500)"
   ]
  },
  {
   "cell_type": "code",
   "execution_count": null,
   "metadata": {},
   "outputs": [],
   "source": [
    "cosmo = Class()\n",
    "\n",
    "cosmo_dict={'h': h,\n",
    "'omega_b' : omega_b,\n",
    "'omega_cdm': omega_cdm,\n",
    "'A_s'    : A0,\n",
    "'n_s'    : ns,\n",
    "'k_pivot' : 0.05}\n",
    "cosmo_dict['output']='lCl, tCl'\n",
    "cosmo_dict['l_max_scalars']=2000\n",
    "cosmo_dict['lensing']='yes'\n",
    "cosmo_dict['l_switch_limber']=100\n",
    "cosmo_dict['perturb_sampling_stepsize']=0.01\n",
    "\n",
    "cosmo.set(cosmo_dict)\n",
    "cosmo.compute()\n",
    "cllen= cosmo.lensed_cl(lmax=1000)\n",
    "ll = cllen['ell']\n",
    "clpp = cllen['pp']"
   ]
  },
  {
   "cell_type": "code",
   "execution_count": null,
   "metadata": {},
   "outputs": [],
   "source": []
  },
  {
   "cell_type": "code",
   "execution_count": null,
   "metadata": {},
   "outputs": [],
   "source": []
  },
  {
   "cell_type": "code",
   "execution_count": null,
   "metadata": {},
   "outputs": [],
   "source": [
    "data=np.loadtxt(path+'Cell_marko.dat')\n",
    "cl = data[:,1]\n",
    "\n",
    "ls = data[:,0]\n"
   ]
  },
  {
   "cell_type": "code",
   "execution_count": null,
   "metadata": {},
   "outputs": [],
   "source": [
    "plt.figure()\n",
    "plt.loglog(ell_,Cl,label='us')\n",
    "plt.loglog(ll,clpp,label='CLASS')\n",
    "plt.loglog(ls,cl,label='Marko')\n",
    "plt.xlim(2,1000)\n",
    "plt.ylim(1e-15,1e-7)\n",
    "plt.legend()\n"
   ]
  },
  {
   "cell_type": "code",
   "execution_count": null,
   "metadata": {},
   "outputs": [],
   "source": [
    "Cl"
   ]
  },
  {
   "cell_type": "code",
   "execution_count": null,
   "metadata": {},
   "outputs": [],
   "source": [
    "cosmo = Class()\n",
    "\n",
    "cosmo_dict={'h': h,\n",
    "'omega_b' : omega_b,\n",
    "'omega_cdm': omega_cdm,\n",
    "'A_s'    : A0,\n",
    "'n_s'    : ns,\n",
    "'k_pivot' : 0.05}\n",
    "cosmo_dict['output']='lCl, tCl, mPk'\n",
    "cosmo_dict['l_max_scalars']=2000\n",
    "cosmo_dict['lensing']='yes'\n",
    "cosmo_dict['l_switch_limber']=1\n",
    "\n",
    "cosmo.set(cosmo_dict)\n",
    "cosmo.compute()\n",
    "cllen= cosmo.lensed_cl(lmax=1000)\n",
    "ll2 = cllen['ell']\n",
    "clpp2 = cllen['pp']\n",
    "\n",
    "cosmo.sigma8()"
   ]
  },
  {
   "cell_type": "code",
   "execution_count": null,
   "metadata": {},
   "outputs": [],
   "source": [
    "plt.figure()#\n",
    "plt.semilogx(ell_,Cl/np.interp(ell_,ll,clpp), label='our result over CLASS no Limber')\n",
    "#plt.semilogx(ell_,Cl/np.interp(ell_,ll,clpp)/1.13, label='our result/1.13 over CLASS no Limber')\n",
    "#plt.semilogx(ell_,np.interp(ell_,ls,cl)/Cl)\n",
    "#plt.semilogx(ls,cl/np.interp(ls,ll,clpp), label='Markos result over CLASS no Limber')\n",
    "#plt.axhline(1,color='black')\n",
    "plt.ylim(0.95,1.05)\n",
    "plt.grid()\n",
    "plt.legend()"
   ]
  },
  {
   "cell_type": "code",
   "execution_count": null,
   "metadata": {},
   "outputs": [],
   "source": [
    "import camb\n",
    "from camb import model, initialpower\n",
    "print('CAMB version: %s '%camb.__version__)"
   ]
  },
  {
   "cell_type": "code",
   "execution_count": null,
   "metadata": {},
   "outputs": [],
   "source": [
    "x = y = z = np.arange(0.0,5.0,1.0)\n",
    "np.savetxt('test.out', (x,y,z))\n",
    "type(ll)"
   ]
  },
  {
   "cell_type": "code",
   "execution_count": null,
   "metadata": {},
   "outputs": [],
   "source": [
    "np.savetxt('class_ouput.out',X=(ll2,clpp,clpp2))\n",
    "\n"
   ]
  },
  {
   "cell_type": "code",
   "execution_count": null,
   "metadata": {},
   "outputs": [],
   "source": [
    "plt.semilogx(ll,clpp2/clpp-1, label='CLASS Limber over CLASS no Limber')"
   ]
  },
  {
   "cell_type": "code",
   "execution_count": null,
   "metadata": {},
   "outputs": [],
   "source": []
  },
  {
   "cell_type": "code",
   "execution_count": null,
   "metadata": {},
   "outputs": [],
   "source": [
    "#ratio class over camb\n",
    "ll,clpp,clpp2 = np.loadtxt('class_ouput.out')\n",
    "c_ell,cl_limber,cl_limber2,cl_camb = np.loadtxt('camb_cls.out')\n",
    "clpp=np.interp(c_ell,ll,(ll*(ll+1.))**2*clpp/2./np.pi)\n",
    "clpp2=np.interp(c_ell,ll,(ll*(ll+1.))**2*clpp2/2./np.pi)\n",
    "plt.semilogx(c_ell,clpp/cl_camb-1, label='CLASS over CAMB no Limber -1')\n",
    "plt.ylim(-0.1,0.1)\n",
    "plt.grid()"
   ]
  },
  {
   "cell_type": "code",
   "execution_count": null,
   "metadata": {},
   "outputs": [],
   "source": [
    "def cmb_kernel(chi):\n",
    "    return D_chi(chi)*(1.+z_chi(chi))*(chi_cmb-chi)/chi_cmb/chi"
   ]
  },
  {
   "cell_type": "code",
   "execution_count": null,
   "metadata": {},
   "outputs": [],
   "source": [
    "data=np.loadtxt('class_pk.dat')\n",
    "kh = data[:,0]\n",
    "Pkh = data[:,1]\n",
    "plt.figure()\n",
    "plt.loglog(kh,Pkh)\n",
    "\n",
    "pki=interp1d(kh,Pkh,bounds_error=False, fill_value=0.)\n",
    "\n",
    "kk = np.logspace(-5,3)\n",
    "plt.loglog(kk,pki(kk),ls='--')\n",
    "print(pki(kk))"
   ]
  },
  {
   "cell_type": "code",
   "execution_count": null,
   "metadata": {},
   "outputs": [],
   "source": [
    "chis = np.linspace(50,chi_cmb,1000)\n",
    "\n",
    "clpp_=[]\n",
    "for ll in ell_:\n",
    "    print(ll)\n",
    "    integrand =[]\n",
    "    for chi_ in chis:\n",
    "        k_ = ll/chi_\n",
    "        pk = pki(k_)/k_**4 #p_psi\n",
    "        integrand+=[pk*cmb_kernel(chi_)**2/chi_**2]\n",
    "    clpp_+=[simps(integrand,chis)]"
   ]
  },
  {
   "cell_type": "code",
   "execution_count": null,
   "metadata": {},
   "outputs": [],
   "source": [
    "clpp_=np.array(clpp_)*prefac**2*2."
   ]
  },
  {
   "cell_type": "code",
   "execution_count": null,
   "metadata": {},
   "outputs": [],
   "source": []
  }
 ],
 "metadata": {
  "kernelspec": {
   "display_name": "NERSC BCCP",
   "language": "python",
   "name": "bccp"
  },
  "language_info": {
   "codemirror_mode": {
    "name": "ipython",
    "version": 3
   },
   "file_extension": ".py",
   "mimetype": "text/x-python",
   "name": "python",
   "nbconvert_exporter": "python",
   "pygments_lexer": "ipython3",
   "version": "3.6.6"
  }
 },
 "nbformat": 4,
 "nbformat_minor": 2
}
