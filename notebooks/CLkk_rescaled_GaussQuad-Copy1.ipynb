{
 "cells": [
  {
   "cell_type": "code",
   "execution_count": 1,
   "metadata": {},
   "outputs": [],
   "source": [
    "import numpy as np\n",
    "import matplotlib.pyplot as plt"
   ]
  },
  {
   "cell_type": "code",
   "execution_count": 2,
   "metadata": {},
   "outputs": [],
   "source": [
    "path = '/global/homes/e/ecastori/PostBorn/'"
   ]
  },
  {
   "cell_type": "code",
   "execution_count": 3,
   "metadata": {},
   "outputs": [],
   "source": [
    "data = np.loadtxt(path+'FFT_k-1Pk.dat',skiprows=2)\n",
    "\n",
    "#----------------------#\n",
    "n         = data[:,0]\n",
    "Re_c_n    = data[:,1]\n",
    "Im_c_n    = data[:,2]\n",
    "Re_nu_n   = data[:,3]\n",
    "Im_nu_n   = data[:,4]\n",
    "#----------------------#\n",
    "\n",
    "c_n  = Re_c_n  + 1j * Im_c_n\n",
    "nu_n = Re_nu_n + 1j * Im_nu_n"
   ]
  },
  {
   "cell_type": "code",
   "execution_count": 4,
   "metadata": {},
   "outputs": [],
   "source": [
    "data = np.loadtxt(path+'Il_nu_t_new1.dat',skiprows=1)\n",
    "\n",
    "#----------------------#\n",
    "ell       = data[:,0]\n",
    "nn        = data[:,1]\n",
    "tt        = data[:,2]\n",
    "Re_I      = data[:,3]\n",
    "Im_I      = data[:,4]\n",
    "#----------------------#\n",
    "\n",
    "I_ = Re_I + 1j * Im_I"
   ]
  },
  {
   "cell_type": "code",
   "execution_count": 5,
   "metadata": {},
   "outputs": [],
   "source": [
    "data = np.loadtxt(path+'GG_weights.dat',skiprows=2)\n",
    "t1   = data[:,0]\n",
    "w1   = data[:,1]"
   ]
  },
  {
   "cell_type": "code",
   "execution_count": 6,
   "metadata": {},
   "outputs": [
    {
     "name": "stdout",
     "output_type": "stream",
     "text": [
      "[ 3.30000000e-12  1.99999956e-13  3.30000001e-11 -1.89999999e-11\n",
      " -2.10000003e-11  4.69999994e-11 -2.40000001e-10  1.20000000e-10\n",
      " -1.30000000e-10 -4.60000000e-10 -7.00000023e-11  4.79999998e-10\n",
      " -7.00000058e-11 -4.90000006e-10 -4.89999999e-10  3.10000005e-10\n",
      " -2.49999993e-10  6.00000050e-11  6.00000050e-11 -1.70000000e-10\n",
      "  3.80000000e-09 -4.79999999e-09  7.00000002e-10 -4.89999999e-09\n",
      "  1.20000002e-09  2.99999997e-10  2.20000002e-09 -4.29999999e-09\n",
      " -1.00000008e-10  4.89999999e-09  3.70000000e-09  4.00000000e-09\n",
      "  1.00000008e-10 -4.60000005e-09 -4.90000002e-09 -1.09999998e-09\n",
      "  4.20000001e-09 -8.00000011e-10 -3.19999999e-09 -2.00000000e-09\n",
      " -4.00000000e-09 -2.00000017e-10 -9.00000019e-10 -2.00000000e-09\n",
      " -3.00000025e-10  1.40000000e-09 -1.79999998e-09 -1.39999995e-09\n",
      " -1.19999999e-09 -2.20000002e-09  2.19999996e-09  1.19999999e-09\n",
      "  1.40000000e-09  1.79999993e-09 -1.39999989e-09  2.99999914e-10\n",
      "  1.99999994e-09  8.99999963e-10  2.00000017e-10  4.00000000e-09\n",
      "  2.00000005e-09  3.20000004e-09  8.00000066e-10 -4.20000001e-09\n",
      "  1.09999998e-09  4.89999996e-09  4.59999994e-09 -1.00000008e-10\n",
      " -4.00000000e-09 -3.69999997e-09 -4.89999996e-09  1.00000008e-10\n",
      "  4.30000002e-09 -2.20000007e-09 -2.99999914e-10 -1.19999999e-09\n",
      "  4.89999996e-09 -6.99999947e-10  4.80000006e-09 -3.79999998e-09\n",
      " -7.99999955e-10 -1.00000008e-10  3.90000010e-09  4.20000001e-09\n",
      " -2.99999914e-10  2.49999998e-09 -4.49999993e-09 -9.00000074e-10\n",
      " -2.49999998e-09 -4.90000007e-09  1.50000001e-09 -2.89999991e-09\n",
      " -2.09999995e-09 -7.99999955e-10  4.00000033e-10 -2.40000009e-09\n",
      " -1.50000001e-09 -2.59999999e-09 -4.69999994e-09  3.40000006e-09]\n"
     ]
    }
   ],
   "source": [
    "print(np.unique(tt)-t1)"
   ]
  },
  {
   "cell_type": "code",
   "execution_count": 7,
   "metadata": {},
   "outputs": [
    {
     "name": "stdout",
     "output_type": "stream",
     "text": [
      "{'h': 0.677, 'omega_b': 0.02247, 'omega_cdm': 0.11923, 'A_s': 2.10732e-09, 'n_s': 0.96824, 'k_pivot': 0.05}\n"
     ]
    }
   ],
   "source": [
    "#cosmology\n",
    "h         = 0.6770\n",
    "omega_cdm = 0.11923\n",
    "omega_b   = 0.02247\n",
    "Omega_b   = omega_b/h**2\n",
    "Omega_cdm = omega_cdm/h**2\n",
    "Omega_m   = Omega_b+Omega_cdm\n",
    "ns        = 0.96824\n",
    "A0        = 2.10732*10**(-9)\n",
    "\n",
    "#dictionary for class\n",
    "cosmo_dict={'h': h,\n",
    "'omega_b' : omega_b,\n",
    "'omega_cdm': omega_cdm,\n",
    "'A_s'    : A0,\n",
    "'n_s'    : ns,\n",
    "'k_pivot' : 0.05}\n",
    "print(cosmo_dict)\n",
    "\n",
    "# speed of light\n",
    "c      = 299792458./1000. # km/s\n",
    "\n",
    "#prefactor for Cl_kk computation from Cl_dd\n",
    "prefac = 1.5*Omega_m*(100.)**2/c**2 #without h"
   ]
  },
  {
   "cell_type": "code",
   "execution_count": 8,
   "metadata": {},
   "outputs": [],
   "source": [
    "from classy import Class\n",
    "cosmo = Class()\n",
    "cosmo.set(cosmo_dict)\n",
    "cosmo.compute()\n",
    "cosmo_b               = cosmo.get_background()\n",
    "\n",
    "class_z               = cosmo_b['z'][::-1]\n",
    "class_chi             = cosmo_b['comov. dist.'][::-1]\n",
    "class_D               = cosmo_b['gr.fac. D'][::-1]#/cosmo_b['gr.fac. D'][-1]\n",
    "\n",
    "derivParams           = cosmo.get_current_derived_parameters(['z_rec'])\n",
    "z_cmb                 = derivParams['z_rec']\n",
    "\n",
    "\n",
    "from scipy.interpolate import interp1d\n",
    "from scipy.interpolate import InterpolatedUnivariateSpline as ius\n",
    "chi_z = interp1d(class_z,class_chi*h)\n",
    "z_chi = interp1d(class_chi*h,class_z)  # Mpc/h\n",
    "D_chi = interp1d(class_chi*h,class_D)    # growth\n",
    "D_z   = interp1d(class_z,class_D)\n",
    "# chi_cmb\n",
    "chi_cmb = chi_z(z_cmb)\n",
    "\n"
   ]
  },
  {
   "cell_type": "code",
   "execution_count": 9,
   "metadata": {},
   "outputs": [
    {
     "name": "stdout",
     "output_type": "stream",
     "text": [
      "9416.066449341572 9414.597956961139\n"
     ]
    },
    {
     "data": {
      "text/plain": [
       "<Figure size 432x288 with 0 Axes>"
      ]
     },
     "metadata": {},
     "output_type": "display_data"
    }
   ],
   "source": [
    "plt.figure()\n",
    "print(chi_z(1100),chi_z(z_cmb))"
   ]
  },
  {
   "cell_type": "code",
   "execution_count": 10,
   "metadata": {},
   "outputs": [
    {
     "data": {
      "image/png": "[encoded data removed]",
      "text/plain": [
       "<Figure size 432x288 with 1 Axes>"
      ]
     },
     "metadata": {
      "needs_background": "light"
     },
     "output_type": "display_data"
    },
    {
     "data": {
      "text/plain": [
       "array(1.)"
      ]
     },
     "execution_count": 10,
     "metadata": {},
     "output_type": "execute_result"
    }
   ],
   "source": [
    "z = np.linspace(0,5,100)\n",
    "plt.figure()\n",
    "plt.plot(class_z,class_D,ls='-')\n",
    "plt.plot(z,D_z(z),ls='--')\n",
    "plt.plot(z,1/(1+z),ls='-.')\n",
    "plt.xlim(0,5)\n",
    "plt.show()\n",
    "D_z(0)"
   ]
  },
  {
   "cell_type": "code",
   "execution_count": 11,
   "metadata": {},
   "outputs": [
    {
     "data": {
      "image/png": "[encoded data removed]",
      "text/plain": [
       "<Figure size 432x288 with 1 Axes>"
      ]
     },
     "metadata": {
      "needs_background": "light"
     },
     "output_type": "display_data"
    },
    {
     "data": {
      "image/png": "[encoded data removed]",
      "text/plain": [
       "<Figure size 432x288 with 1 Axes>"
      ]
     },
     "metadata": {
      "needs_background": "light"
     },
     "output_type": "display_data"
    }
   ],
   "source": [
    "z=np.linspace(0.,10,200)\n",
    "plt.figure()\n",
    "plt.loglog(z,chi_z(z))\n",
    "plt.show()\n",
    "plt.figure()\n",
    "plt.plot(z,D_z(z)/D_chi(chi_z(z)))\n",
    "plt.show()\n",
    "# plt.figure()\n",
    "# plt.loglog(z,)\n",
    "# plt.show()\n",
    "# plt.figure()\n",
    "# plt.loglog(z,z_chi(chi_z(z)))\n",
    "# plt.show()"
   ]
  },
  {
   "cell_type": "code",
   "execution_count": 12,
   "metadata": {},
   "outputs": [
    {
     "data": {
      "text/plain": [
       "array(0.94886829)"
      ]
     },
     "execution_count": 12,
     "metadata": {},
     "output_type": "execute_result"
    }
   ],
   "source": [
    "D_chi(chi_z(0.1))"
   ]
  },
  {
   "cell_type": "code",
   "execution_count": 13,
   "metadata": {},
   "outputs": [
    {
     "data": {
      "text/plain": [
       "1.2732395447351628"
      ]
     },
     "execution_count": 13,
     "metadata": {},
     "output_type": "execute_result"
    }
   ],
   "source": [
    "4./np.pi"
   ]
  },
  {
   "cell_type": "code",
   "execution_count": 14,
   "metadata": {},
   "outputs": [],
   "source": [
    "def set_kernel(chi_max):\n",
    "    def kernel(chi):\n",
    "        return (1.+z_chi(chi))*D_chi(chi)\n",
    "    return kernel"
   ]
  },
  {
   "cell_type": "code",
   "execution_count": 15,
   "metadata": {},
   "outputs": [],
   "source": [
    "W = set_kernel(chi_cmb)"
   ]
  },
  {
   "cell_type": "code",
   "execution_count": 16,
   "metadata": {},
   "outputs": [
    {
     "name": "stdout",
     "output_type": "stream",
     "text": [
      "[-1.9-27.94471j   -1.9-27.665263j  -1.9-27.385816j  -1.9-27.106369j\n",
      " -1.9-26.826921j  -1.9-26.547474j  -1.9-26.268027j  -1.9-25.98858j\n",
      " -1.9-25.709133j  -1.9-25.429686j  -1.9-25.150239j  -1.9-24.870792j\n",
      " -1.9-24.591345j  -1.9-24.311898j  -1.9-24.03245j   -1.9-23.753003j\n",
      " -1.9-23.473556j  -1.9-23.194109j  -1.9-22.914662j  -1.9-22.635215j\n",
      " -1.9-22.355768j  -1.9-22.076321j  -1.9-21.796874j  -1.9-21.517427j\n",
      " -1.9-21.237979j  -1.9-20.958532j  -1.9-20.679085j  -1.9-20.399638j\n",
      " -1.9-20.120191j  -1.9-19.840744j  -1.9-19.561297j  -1.9-19.28185j\n",
      " -1.9-19.002403j  -1.9-18.722956j  -1.9-18.443509j  -1.9-18.164061j\n",
      " -1.9-17.884614j  -1.9-17.605167j  -1.9-17.32572j   -1.9-17.046273j\n",
      " -1.9-16.766826j  -1.9-16.487379j  -1.9-16.207932j  -1.9-15.928485j\n",
      " -1.9-15.649038j  -1.9-15.36959j   -1.9-15.090143j  -1.9-14.810696j\n",
      " -1.9-14.531249j  -1.9-14.251802j  -1.9-13.972355j  -1.9-13.692908j\n",
      " -1.9-13.413461j  -1.9-13.134014j  -1.9-12.854567j  -1.9-12.575119j\n",
      " -1.9-12.295672j  -1.9-12.016225j  -1.9-11.736778j  -1.9-11.457331j\n",
      " -1.9-11.177884j  -1.9-10.898437j  -1.9-10.61899j   -1.9-10.339543j\n",
      " -1.9-10.060096j  -1.9 -9.7806485j -1.9 -9.5012014j -1.9 -9.2217543j\n",
      " -1.9 -8.9423072j -1.9 -8.6628601j -1.9 -8.383413j  -1.9 -8.1039659j\n",
      " -1.9 -7.8245188j -1.9 -7.5450717j -1.9 -7.2656246j -1.9 -6.9861775j\n",
      " -1.9 -6.7067304j -1.9 -6.4272833j -1.9 -6.1478362j -1.9 -5.8683891j\n",
      " -1.9 -5.588942j  -1.9 -5.3094949j -1.9 -5.0300478j -1.9 -4.7506007j\n",
      " -1.9 -4.4711536j -1.9 -4.1917065j -1.9 -3.9122594j -1.9 -3.6328123j\n",
      " -1.9 -3.3533652j -1.9 -3.0739181j -1.9 -2.794471j  -1.9 -2.5150239j\n",
      " -1.9 -2.2355768j -1.9 -1.9561297j -1.9 -1.6766826j -1.9 -1.3972355j\n",
      " -1.9 -1.1177884j -1.9 -0.8383413j -1.9 -0.5588942j -1.9 -0.2794471j\n",
      " -1.9 +0.j       ]\n",
      "[   2.    3.    4.    5.    6.    7.    8.    9.   10.   11.   12.   13.\n",
      "   14.   15.   16.   17.   18.   19.   20.   21.   22.   23.   24.   25.\n",
      "   26.   27.   28.   29.   30.   31.   32.   33.   34.   35.   36.   37.\n",
      "   38.   39.   40.   41.   42.   43.   44.   45.   46.   47.   48.   49.\n",
      "   50.   51.   52.   53.   54.   55.   56.   57.   58.   59.   60.   61.\n",
      "   62.   63.   64.   65.   66.   67.   68.   69.   70.   71.   72.   73.\n",
      "   74.   75.   76.   77.   78.   79.   80.   81.   82.   83.   84.   85.\n",
      "   86.   87.   88.   89.   90.   91.   92.   93.   94.   95.   96.   97.\n",
      "   98.   99.  100.  110.  120.  130.  140.  150.  160.  170.  180.  190.\n",
      "  200.  210.  220.  230.  240.  250.  260.  270.  280.  290.  300.  310.\n",
      "  320.  330.  340.  350.  360.  370.  380.  390.  400.  410.  420.  430.\n",
      "  440.  450.  460.  470.  480.  490.  500.  510.  520.  530.  540.  550.\n",
      "  560.  570.  580.  590.  600.  610.  620.  630.  640.  650.  660.  670.\n",
      "  680.  690.  700.  710.  720.  730.  740.  750.  760.  770.  780.  790.\n",
      "  800.  810.  820.  830.  840.  850.  860.  870.  880.  890.  900.  910.\n",
      "  920.  930.  940.  950.  960.  970.  980.  990. 1000. 1010. 1020. 1030.\n",
      " 1040. 1050. 1060. 1070. 1080. 1090. 1100. 1110. 1120. 1130. 1140. 1150.\n",
      " 1160. 1170. 1180. 1190. 1200. 1210. 1220. 1230. 1240. 1250. 1260. 1270.\n",
      " 1280. 1290. 1300. 1310. 1320. 1330. 1340. 1350. 1360. 1370. 1380. 1390.\n",
      " 1400. 1410. 1420. 1430. 1440. 1450. 1460. 1470. 1480. 1490. 1500. 1510.\n",
      " 1520. 1530. 1540. 1550. 1560. 1570. 1580. 1590. 1600. 1610. 1620. 1630.\n",
      " 1640. 1650. 1660. 1670. 1680. 1690. 1700. 1710. 1720. 1730. 1740. 1750.\n",
      " 1760. 1770. 1780. 1790. 1800. 1810. 1820. 1830. 1840. 1850. 1860. 1870.\n",
      " 1880. 1890. 1900. 1910. 1920. 1930. 1940. 1950. 1960. 1970. 1980. 1990.\n",
      " 2000.]\n",
      "[1.43136613e-04 7.54024680e-04 1.85243263e-03 3.43753148e-03\n",
      " 5.50780238e-03 8.06122965e-03 1.10953208e-02 1.46071121e-02\n",
      " 1.85931729e-02 2.30496085e-02 2.79720649e-02 3.33557325e-02\n",
      " 3.91953509e-02 4.54852145e-02 5.22191775e-02 5.93906603e-02\n",
      " 6.69926558e-02 7.50177361e-02 8.34580601e-02 9.23053808e-02\n",
      " 1.01551054e-01 1.11186045e-01 1.21200941e-01 1.31585955e-01\n",
      " 1.42330941e-01 1.53425400e-01 1.64858492e-01 1.76619046e-01\n",
      " 1.88695570e-01 2.01076265e-01 2.13749034e-01 2.26701494e-01\n",
      " 2.39920990e-01 2.53394605e-01 2.67109175e-01 2.81051299e-01\n",
      " 2.95207354e-01 3.09563509e-01 3.24105737e-01 3.38819828e-01\n",
      " 3.53691406e-01 3.68705940e-01 3.83848759e-01 3.99105068e-01\n",
      " 4.14459960e-01 4.29898431e-01 4.45405398e-01 4.60965709e-01\n",
      " 4.76564159e-01 4.92185508e-01 5.07814492e-01 5.23435841e-01\n",
      " 5.39034291e-01 5.54594602e-01 5.70101569e-01 5.85540040e-01\n",
      " 6.00894932e-01 6.16151241e-01 6.31294060e-01 6.46308594e-01\n",
      " 6.61180172e-01 6.75894263e-01 6.90436491e-01 7.04792646e-01\n",
      " 7.18948701e-01 7.32890825e-01 7.46605395e-01 7.60079010e-01\n",
      " 7.73298506e-01 7.86250966e-01 7.98923735e-01 8.11304430e-01\n",
      " 8.23380954e-01 8.35141508e-01 8.46574600e-01 8.57669059e-01\n",
      " 8.68414045e-01 8.78799059e-01 8.88813955e-01 8.98448946e-01\n",
      " 9.07694619e-01 9.16541940e-01 9.24982264e-01 9.33007344e-01\n",
      " 9.40609340e-01 9.47780822e-01 9.54514786e-01 9.60804649e-01\n",
      " 9.66644267e-01 9.72027935e-01 9.76950391e-01 9.81406827e-01\n",
      " 9.85392888e-01 9.88904679e-01 9.91938770e-01 9.94492198e-01\n",
      " 9.96562468e-01 9.98147567e-01 9.99245975e-01 9.99856863e-01]\n",
      "101 101 101 100\n",
      "2918900 2918900\n"
     ]
    }
   ],
   "source": [
    "ell_ = np.unique(ell)\n",
    "nu_n_= np.unique(nu_n) \n",
    "print(nu_n_)\n",
    "print(ell_)\n",
    "print(np.unique(tt))\n",
    "t_=np.unique(tt)\n",
    "assert(np.allclose(t_,t1))\n",
    "print(len(nu_n_),len(n),len(c_n),len(t_))\n",
    "print(len(tt),len(I_))"
   ]
  },
  {
   "cell_type": "code",
   "execution_count": 38,
   "metadata": {},
   "outputs": [],
   "source": [
    "m=0\n",
    "I_array=np.zeros((len(ell_),len(nu_n_),len(t_)),dtype=np.complex64)\n",
    "I2D = np.zeros((len(ell_),len(nu_n_),len(t_),len(t_)),dtype=np.complex64)\n",
    "for ii,ll in enumerate(ell_):\n",
    "    for jj, nu in enumerate(nu_n_):\n",
    "            #for kk, _ in enumerate(t_):\n",
    "        I_array[ii,jj,:]=I_[m:m+len(t_)]\n",
    "        _, I2D_ = np.meshgrid(t_,I_array[ii,jj])\n",
    "        I2D[ii][jj] = I2D_\n",
    "        m+=len(t_)"
   ]
  },
  {
   "cell_type": "code",
   "execution_count": 39,
   "metadata": {},
   "outputs": [
    {
     "name": "stdout",
     "output_type": "stream",
     "text": [
      "0\n",
      "1\n",
      "2\n",
      "3\n",
      "4\n",
      "5\n",
      "6\n",
      "7\n",
      "8\n",
      "9\n",
      "10\n",
      "11\n",
      "12\n",
      "13\n",
      "14\n",
      "15\n",
      "16\n",
      "17\n",
      "18\n",
      "19\n",
      "20\n",
      "21\n",
      "22\n",
      "23\n",
      "24\n",
      "25\n",
      "26\n",
      "27\n",
      "28\n",
      "29\n",
      "30\n",
      "31\n",
      "32\n",
      "33\n",
      "34\n",
      "35\n",
      "36\n",
      "37\n",
      "38\n",
      "39\n",
      "40\n",
      "41\n",
      "42\n",
      "43\n",
      "44\n",
      "45\n",
      "46\n",
      "47\n",
      "48\n",
      "49\n",
      "50\n",
      "51\n",
      "52\n",
      "53\n",
      "54\n",
      "55\n",
      "56\n",
      "57\n",
      "58\n",
      "59\n",
      "60\n",
      "61\n",
      "62\n",
      "63\n",
      "64\n",
      "65\n",
      "66\n",
      "67\n",
      "68\n",
      "69\n",
      "70\n",
      "71\n",
      "72\n",
      "73\n",
      "74\n",
      "75\n",
      "76\n",
      "77\n",
      "78\n",
      "79\n",
      "80\n",
      "81\n",
      "82\n",
      "83\n",
      "84\n",
      "85\n",
      "86\n",
      "87\n",
      "88\n",
      "89\n",
      "90\n",
      "91\n",
      "92\n",
      "93\n",
      "94\n",
      "95\n",
      "96\n",
      "97\n",
      "98\n",
      "99\n",
      "100\n",
      "101\n",
      "102\n",
      "103\n",
      "104\n",
      "105\n",
      "106\n",
      "107\n",
      "108\n",
      "109\n",
      "110\n",
      "111\n",
      "112\n",
      "113\n",
      "114\n",
      "115\n",
      "116\n",
      "117\n",
      "118\n",
      "119\n",
      "120\n",
      "121\n",
      "122\n",
      "123\n",
      "124\n",
      "125\n",
      "126\n",
      "127\n",
      "128\n",
      "129\n",
      "130\n",
      "131\n",
      "132\n",
      "133\n",
      "134\n",
      "135\n",
      "136\n",
      "137\n",
      "138\n",
      "139\n",
      "140\n",
      "141\n",
      "142\n",
      "143\n",
      "144\n",
      "145\n",
      "146\n",
      "147\n",
      "148\n",
      "149\n",
      "150\n",
      "151\n",
      "152\n",
      "153\n",
      "154\n",
      "155\n",
      "156\n",
      "157\n",
      "158\n",
      "159\n",
      "160\n",
      "161\n",
      "162\n",
      "163\n",
      "164\n",
      "165\n",
      "166\n",
      "167\n",
      "168\n",
      "169\n",
      "170\n",
      "171\n",
      "172\n",
      "173\n",
      "174\n",
      "175\n",
      "176\n",
      "177\n",
      "178\n",
      "179\n",
      "180\n",
      "181\n",
      "182\n",
      "183\n",
      "184\n",
      "185\n",
      "186\n",
      "187\n",
      "188\n",
      "189\n",
      "190\n",
      "191\n",
      "192\n",
      "193\n",
      "194\n",
      "195\n",
      "196\n",
      "197\n",
      "198\n",
      "199\n",
      "200\n",
      "201\n",
      "202\n",
      "203\n",
      "204\n",
      "205\n",
      "206\n",
      "207\n",
      "208\n",
      "209\n",
      "210\n",
      "211\n",
      "212\n",
      "213\n",
      "214\n",
      "215\n",
      "216\n",
      "217\n",
      "218\n",
      "219\n",
      "220\n",
      "221\n",
      "222\n",
      "223\n",
      "224\n",
      "225\n",
      "226\n",
      "227\n",
      "228\n",
      "229\n",
      "230\n",
      "231\n",
      "232\n",
      "233\n",
      "234\n",
      "235\n",
      "236\n",
      "237\n",
      "238\n",
      "239\n",
      "240\n",
      "241\n",
      "242\n",
      "243\n",
      "244\n",
      "245\n",
      "246\n",
      "247\n",
      "248\n",
      "249\n",
      "250\n",
      "251\n",
      "252\n",
      "253\n",
      "254\n",
      "255\n",
      "256\n",
      "257\n",
      "258\n",
      "259\n",
      "260\n",
      "261\n",
      "262\n",
      "263\n",
      "264\n",
      "265\n",
      "266\n",
      "267\n",
      "268\n",
      "269\n",
      "270\n",
      "271\n",
      "272\n",
      "273\n",
      "274\n",
      "275\n",
      "276\n",
      "277\n",
      "278\n",
      "279\n",
      "280\n",
      "281\n",
      "282\n",
      "283\n",
      "284\n",
      "285\n",
      "286\n",
      "287\n",
      "288\n",
      "77.02182459831238\n"
     ]
    }
   ],
   "source": [
    "from scipy.integrate import simps, quadrature\n",
    "from scipy.interpolate import interp1d\n",
    "import time\n",
    "\n",
    "begin=time.time()\n",
    "r2d, t2d = np.meshgrid(t_,t_)\n",
    "w11, w12 = np.meshgrid(w1,w1)\n",
    "result=[]\n",
    "for ii,ll in enumerate(ell_):\n",
    "    print(ii)\n",
    "    res1=[]\n",
    "    for jj, nu in enumerate(nu_n_):\n",
    "        #_, I2D = np.meshgrid(t_,I_array[ii,jj])\n",
    "        integrand=(1.-r2d*t2d)/t2d*(1.-r2d)/r2d*I2D[ii][jj]*W(r2d*t2d*chi_cmb)*W(r2d*chi_cmb)*(r2d*chi_cmb)**(-nu)\n",
    "        res1+=[np.sum(w11*w12*integrand)]\n",
    "    result+=[np.real(np.sum(res1[0:-1]*c_n[0:-1]*2.)+res1[-1]*c_n[-1])]\n",
    "print(time.time()-begin)"
   ]
  },
  {
   "cell_type": "code",
   "execution_count": 40,
   "metadata": {},
   "outputs": [
    {
     "name": "stdout",
     "output_type": "stream",
     "text": [
      "[   2.    3.    4.    5.    6.    7.    8.    9.   10.   11.   12.   13.\n",
      "   14.   15.   16.   17.   18.   19.   20.   21.   22.   23.   24.   25.\n",
      "   26.   27.   28.   29.   30.   31.   32.   33.   34.   35.   36.   37.\n",
      "   38.   39.   40.   41.   42.   43.   44.   45.   46.   47.   48.   49.\n",
      "   50.   51.   52.   53.   54.   55.   56.   57.   58.   59.   60.   61.\n",
      "   62.   63.   64.   65.   66.   67.   68.   69.   70.   71.   72.   73.\n",
      "   74.   75.   76.   77.   78.   79.   80.   81.   82.   83.   84.   85.\n",
      "   86.   87.   88.   89.   90.   91.   92.   93.   94.   95.   96.   97.\n",
      "   98.   99.  100.  110.  120.  130.  140.  150.  160.  170.  180.  190.\n",
      "  200.  210.  220.  230.  240.  250.  260.  270.  280.  290.  300.  310.\n",
      "  320.  330.  340.  350.  360.  370.  380.  390.  400.  410.  420.  430.\n",
      "  440.  450.  460.  470.  480.  490.  500.  510.  520.  530.  540.  550.\n",
      "  560.  570.  580.  590.  600.  610.  620.  630.  640.  650.  660.  670.\n",
      "  680.  690.  700.  710.  720.  730.  740.  750.  760.  770.  780.  790.\n",
      "  800.  810.  820.  830.  840.  850.  860.  870.  880.  890.  900.  910.\n",
      "  920.  930.  940.  950.  960.  970.  980.  990. 1000. 1010. 1020. 1030.\n",
      " 1040. 1050. 1060. 1070. 1080. 1090. 1100. 1110. 1120. 1130. 1140. 1150.\n",
      " 1160. 1170. 1180. 1190. 1200. 1210. 1220. 1230. 1240. 1250. 1260. 1270.\n",
      " 1280. 1290. 1300. 1310. 1320. 1330. 1340. 1350. 1360. 1370. 1380. 1390.\n",
      " 1400. 1410. 1420. 1430. 1440. 1450. 1460. 1470. 1480. 1490. 1500. 1510.\n",
      " 1520. 1530. 1540. 1550. 1560. 1570. 1580. 1590. 1600. 1610. 1620. 1630.\n",
      " 1640. 1650. 1660. 1670. 1680. 1690. 1700. 1710. 1720. 1730. 1740. 1750.\n",
      " 1760. 1770. 1780. 1790. 1800. 1810. 1820. 1830. 1840. 1850. 1860. 1870.\n",
      " 1880. 1890. 1900. 1910. 1920. 1930. 1940. 1950. 1960. 1970. 1980. 1990.\n",
      " 2000.] [8.71508041e-09 2.65036884e-09 1.10030879e-09 5.45376950e-10\n",
      " 3.03425801e-10 1.83150591e-10 1.17487251e-10 7.90037463e-11\n",
      " 5.51654474e-11 3.97269204e-11 2.93531881e-11 2.21657835e-11\n",
      " 1.70541764e-11 1.33363730e-11 1.05779643e-11 8.49617768e-12\n",
      " 6.90071109e-12 5.66140452e-12 4.68688062e-12 3.91212741e-12\n",
      " 3.28990893e-12 2.78559676e-12 2.37336212e-12 2.03384433e-12\n",
      " 1.75222591e-12 1.51712567e-12 1.31966684e-12 1.15285985e-12\n",
      " 1.01119154e-12 8.90286397e-13 7.86596459e-13 6.97305346e-13\n",
      " 6.20088919e-13 5.53066872e-13 4.94675774e-13 4.43623774e-13\n",
      " 3.98856548e-13 3.59472540e-13 3.24704152e-13 2.93947332e-13\n",
      " 2.66647196e-13 2.42366528e-13 2.20715810e-13 2.01357373e-13\n",
      " 1.84022223e-13 1.68457316e-13 1.54457280e-13 1.41841132e-13\n",
      " 1.30447979e-13 1.20136897e-13 1.10796141e-13 1.02316626e-13\n",
      " 9.46043296e-14 8.75815034e-14 8.11773488e-14 7.53278576e-14\n",
      " 6.99756803e-14 6.50749794e-14 6.05806286e-14 5.64539839e-14\n",
      " 5.26603446e-14 4.91660002e-14 4.59473418e-14 4.29778578e-14\n",
      " 4.02356247e-14 3.76986875e-14 3.53512655e-14 3.31766565e-14\n",
      " 3.11600541e-14 2.92882420e-14 2.75489459e-14 2.59308734e-14\n",
      " 2.44254221e-14 2.30231645e-14 2.17159307e-14 2.04960921e-14\n",
      " 1.93567023e-14 1.82920944e-14 1.72965899e-14 1.63651558e-14\n",
      " 1.54925559e-14 1.46748162e-14 1.39078843e-14 1.31879232e-14\n",
      " 1.25119234e-14 1.18768083e-14 1.12796668e-14 1.07178182e-14\n",
      " 1.01888773e-14 9.69063029e-15 9.22090032e-15 8.77799688e-15\n",
      " 8.36015087e-15 7.96579246e-15 7.59321244e-15 7.24114003e-15\n",
      " 6.90825002e-15 6.59334132e-15 6.29529259e-15 4.04584697e-15\n",
      " 2.68776241e-15 1.83689661e-15 1.28663667e-15 9.20861792e-16\n",
      " 6.71782008e-16 4.98491877e-16 3.75614610e-16 2.86965102e-16\n",
      " 2.22005311e-16 1.73728248e-16 1.37377256e-16 1.09682259e-16\n",
      " 8.83455849e-17 7.17404840e-17 5.86973966e-17 4.83611494e-17\n",
      " 4.01030701e-17 3.34546265e-17 2.80658934e-17 2.36682467e-17\n",
      " 2.00570934e-17 1.70745676e-17 1.45980259e-17 1.25315544e-17\n",
      " 1.07982120e-17 9.33807395e-18 8.10267645e-18 7.05342951e-18\n",
      " 6.15875063e-18 5.39331205e-18 4.73612094e-18 4.17000194e-18\n",
      " 3.68083425e-18 3.25690354e-18 2.88849135e-18 2.56754608e-18\n",
      " 2.28720731e-18 2.04175496e-18 1.82632067e-18 1.63685099e-18\n",
      " 1.46974212e-18 1.32213488e-18 1.19146313e-18 1.07552703e-18\n",
      " 9.72529950e-19 8.80813472e-19 7.99042050e-19 7.25981170e-19\n",
      " 6.60593347e-19 6.01971999e-19 5.49331829e-19 5.01988600e-19\n",
      " 4.59349603e-19 4.20875598e-19 3.86119466e-19 3.54667740e-19\n",
      " 3.26156410e-19 3.00298466e-19 2.76803279e-19 2.55432674e-19\n",
      " 2.35967130e-19 2.18213429e-19 2.02000469e-19 1.87175538e-19\n",
      " 1.73603638e-19 1.61164737e-19 1.49752016e-19 1.39268399e-19\n",
      " 1.29628798e-19 1.20757468e-19 1.12582564e-19 1.05043508e-19\n",
      " 9.80831393e-20 9.16507553e-20 8.56971463e-20 8.01867089e-20\n",
      " 7.50884541e-20 7.03571657e-20 6.59687268e-20 6.18942090e-20\n",
      " 5.81078946e-20 5.45865263e-20 5.13092265e-20 4.82567464e-20\n",
      " 4.54119458e-20 4.27589371e-20 4.02833472e-20 3.79714323e-20\n",
      " 3.58116426e-20 3.37924006e-20 3.19034335e-20 3.01353412e-20\n",
      " 2.84799620e-20 2.69283926e-20 2.54738210e-20 2.41101751e-20\n",
      " 2.28298588e-20 2.16276739e-20 2.04983140e-20 1.94365884e-20\n",
      " 1.84381111e-20 1.74972638e-20 1.66115576e-20 1.57791293e-20\n",
      " 1.49945722e-20 1.42545596e-20 1.35573320e-20 1.28994856e-20\n",
      " 1.22784746e-20 1.16919669e-20 1.11378385e-20 1.06138358e-20\n",
      " 1.01183797e-20 9.64957941e-21 9.20583083e-21 8.78560367e-21\n",
      " 8.38756144e-21 8.01024646e-21 7.65250043e-21 7.31320064e-21\n",
      " 6.99118520e-21 6.68554971e-21 6.39549819e-21 6.11955255e-21\n",
      " 5.85744029e-21 5.60827233e-21 5.37133019e-21 5.14584110e-21\n",
      " 4.93126923e-21 4.72692223e-21 4.53231253e-21 4.34693602e-21\n",
      " 4.17013072e-21 4.00170541e-21 3.84103381e-21 3.68833517e-21\n",
      " 3.54157227e-21 3.40198980e-21 3.26869239e-21 3.14147900e-21\n",
      " 3.01987820e-21 2.90371304e-21 2.79226428e-21 2.68602695e-21\n",
      " 2.58401451e-21 2.48693700e-21 2.39381722e-21 2.30487614e-21\n",
      " 2.21974837e-21 2.13827093e-21 2.06020201e-21 1.98543963e-21\n",
      " 1.91376170e-21 1.84508430e-21 1.77921268e-21 1.71605879e-21\n",
      " 1.65547053e-21 1.59734863e-21 1.54157114e-21 1.48803840e-21\n",
      " 1.43664172e-21 1.38729393e-21 1.33989831e-21 1.29436746e-21\n",
      " 1.25061340e-21 1.20857311e-21 1.16817167e-21 1.12930048e-21\n",
      " 1.09193404e-21 1.05599540e-21 1.02141313e-21 9.88135905e-22\n",
      " 9.56117683e-22 9.25285862e-22 8.95602239e-22 8.67019251e-22\n",
      " 8.39475699e-22 8.12952328e-22 7.87388056e-22 7.62751649e-22\n",
      " 7.38997416e-22 7.16103299e-22 6.94022467e-22 6.72716254e-22\n",
      " 6.52181691e-22 6.32361026e-22 6.13228363e-22 5.94764433e-22\n",
      " 5.76939190e-22]\n"
     ]
    }
   ],
   "source": [
    "Cl=np.real(np.asarray(result))*4./np.pi**2*prefac**2/4.\n",
    "print(ell_,Cl)"
   ]
  },
  {
   "cell_type": "code",
   "execution_count": 41,
   "metadata": {},
   "outputs": [
    {
     "data": {
      "text/plain": [
       "(2, 500)"
      ]
     },
     "execution_count": 41,
     "metadata": {},
     "output_type": "execute_result"
    },
    {
     "data": {
      "image/png": "[encoded data removed]",
      "text/plain": [
       "<Figure size 432x288 with 1 Axes>"
      ]
     },
     "metadata": {
      "needs_background": "light"
     },
     "output_type": "display_data"
    }
   ],
   "source": [
    "plt.figure()\n",
    "plt.loglog(ell_,(ell_*(ell_+1.))**2*Cl/(2.*np.pi))\n",
    "plt.xlim(2,500)"
   ]
  },
  {
   "cell_type": "code",
   "execution_count": 42,
   "metadata": {},
   "outputs": [],
   "source": [
    "# cosmo = Class()\n",
    "\n",
    "# cosmo_dict={'h': h,\n",
    "# 'omega_b' : omega_b,\n",
    "# 'omega_cdm': omega_cdm,\n",
    "# 'A_s'    : A0,\n",
    "# 'n_s'    : ns,\n",
    "# 'k_pivot' : 0.05}\n",
    "# cosmo_dict['output']='lCl, tCl'\n",
    "# cosmo_dict['l_max_scalars']=2000\n",
    "# cosmo_dict['lensing']='yes'\n",
    "# cosmo_dict['l_switch_limber']=100\n",
    "# cosmo_dict['perturb_sampling_stepsize']=0.01\n",
    "\n",
    "# cosmo.set(cosmo_dict)\n",
    "# cosmo.compute()\n",
    "# cllen= cosmo.lensed_cl(lmax=1000)\n",
    "# ll = cllen['ell']\n",
    "# clpp = cllen['pp']"
   ]
  },
  {
   "cell_type": "code",
   "execution_count": null,
   "metadata": {},
   "outputs": [],
   "source": []
  },
  {
   "cell_type": "code",
   "execution_count": 51,
   "metadata": {},
   "outputs": [],
   "source": [
    "ll,clpp,clpp2 = np.loadtxt('class_ouput.out')"
   ]
  },
  {
   "cell_type": "code",
   "execution_count": 52,
   "metadata": {},
   "outputs": [],
   "source": [
    "data=np.loadtxt(path+'Cell_marko.dat')\n",
    "cl = data[:,1]\n",
    "\n",
    "ls = data[:,0]\n"
   ]
  },
  {
   "cell_type": "code",
   "execution_count": 53,
   "metadata": {},
   "outputs": [
    {
     "data": {
      "text/plain": [
       "<matplotlib.legend.Legend at 0x2ae546aa1e48>"
      ]
     },
     "execution_count": 53,
     "metadata": {},
     "output_type": "execute_result"
    },
    {
     "data": {
      "image/png": "[encoded data removed]",
      "text/plain": [
       "<Figure size 432x288 with 1 Axes>"
      ]
     },
     "metadata": {
      "needs_background": "light"
     },
     "output_type": "display_data"
    }
   ],
   "source": [
    "plt.figure()\n",
    "plt.loglog(ell_,Cl,label='us')\n",
    "plt.loglog(ll,clpp,label='CLASS')\n",
    "plt.loglog(ls,cl,label='Marko')\n",
    "plt.xlim(2,1000)\n",
    "plt.ylim(1e-15,1e-7)\n",
    "plt.legend()\n"
   ]
  },
  {
   "cell_type": "code",
   "execution_count": 54,
   "metadata": {},
   "outputs": [
    {
     "data": {
      "text/plain": [
       "array([8.71508041e-09, 2.65036884e-09, 1.10030879e-09, 5.45376950e-10,\n",
       "       3.03425801e-10, 1.83150591e-10, 1.17487251e-10, 7.90037463e-11,\n",
       "       5.51654474e-11, 3.97269204e-11, 2.93531881e-11, 2.21657835e-11,\n",
       "       1.70541764e-11, 1.33363730e-11, 1.05779643e-11, 8.49617768e-12,\n",
       "       6.90071109e-12, 5.66140452e-12, 4.68688062e-12, 3.91212741e-12,\n",
       "       3.28990893e-12, 2.78559676e-12, 2.37336212e-12, 2.03384433e-12,\n",
       "       1.75222591e-12, 1.51712567e-12, 1.31966684e-12, 1.15285985e-12,\n",
       "       1.01119154e-12, 8.90286397e-13, 7.86596459e-13, 6.97305346e-13,\n",
       "       6.20088919e-13, 5.53066872e-13, 4.94675774e-13, 4.43623774e-13,\n",
       "       3.98856548e-13, 3.59472540e-13, 3.24704152e-13, 2.93947332e-13,\n",
       "       2.66647196e-13, 2.42366528e-13, 2.20715810e-13, 2.01357373e-13,\n",
       "       1.84022223e-13, 1.68457316e-13, 1.54457280e-13, 1.41841132e-13,\n",
       "       1.30447979e-13, 1.20136897e-13, 1.10796141e-13, 1.02316626e-13,\n",
       "       9.46043296e-14, 8.75815034e-14, 8.11773488e-14, 7.53278576e-14,\n",
       "       6.99756803e-14, 6.50749794e-14, 6.05806286e-14, 5.64539839e-14,\n",
       "       5.26603446e-14, 4.91660002e-14, 4.59473418e-14, 4.29778578e-14,\n",
       "       4.02356247e-14, 3.76986875e-14, 3.53512655e-14, 3.31766565e-14,\n",
       "       3.11600541e-14, 2.92882420e-14, 2.75489459e-14, 2.59308734e-14,\n",
       "       2.44254221e-14, 2.30231645e-14, 2.17159307e-14, 2.04960921e-14,\n",
       "       1.93567023e-14, 1.82920944e-14, 1.72965899e-14, 1.63651558e-14,\n",
       "       1.54925559e-14, 1.46748162e-14, 1.39078843e-14, 1.31879232e-14,\n",
       "       1.25119234e-14, 1.18768083e-14, 1.12796668e-14, 1.07178182e-14,\n",
       "       1.01888773e-14, 9.69063029e-15, 9.22090032e-15, 8.77799688e-15,\n",
       "       8.36015087e-15, 7.96579246e-15, 7.59321244e-15, 7.24114003e-15,\n",
       "       6.90825002e-15, 6.59334132e-15, 6.29529259e-15, 4.04584697e-15,\n",
       "       2.68776241e-15, 1.83689661e-15, 1.28663667e-15, 9.20861792e-16,\n",
       "       6.71782008e-16, 4.98491877e-16, 3.75614610e-16, 2.86965102e-16,\n",
       "       2.22005311e-16, 1.73728248e-16, 1.37377256e-16, 1.09682259e-16,\n",
       "       8.83455849e-17, 7.17404840e-17, 5.86973966e-17, 4.83611494e-17,\n",
       "       4.01030701e-17, 3.34546265e-17, 2.80658934e-17, 2.36682467e-17,\n",
       "       2.00570934e-17, 1.70745676e-17, 1.45980259e-17, 1.25315544e-17,\n",
       "       1.07982120e-17, 9.33807395e-18, 8.10267645e-18, 7.05342951e-18,\n",
       "       6.15875063e-18, 5.39331205e-18, 4.73612094e-18, 4.17000194e-18,\n",
       "       3.68083425e-18, 3.25690354e-18, 2.88849135e-18, 2.56754608e-18,\n",
       "       2.28720731e-18, 2.04175496e-18, 1.82632067e-18, 1.63685099e-18,\n",
       "       1.46974212e-18, 1.32213488e-18, 1.19146313e-18, 1.07552703e-18,\n",
       "       9.72529950e-19, 8.80813472e-19, 7.99042050e-19, 7.25981170e-19,\n",
       "       6.60593347e-19, 6.01971999e-19, 5.49331829e-19, 5.01988600e-19,\n",
       "       4.59349603e-19, 4.20875598e-19, 3.86119466e-19, 3.54667740e-19,\n",
       "       3.26156410e-19, 3.00298466e-19, 2.76803279e-19, 2.55432674e-19,\n",
       "       2.35967130e-19, 2.18213429e-19, 2.02000469e-19, 1.87175538e-19,\n",
       "       1.73603638e-19, 1.61164737e-19, 1.49752016e-19, 1.39268399e-19,\n",
       "       1.29628798e-19, 1.20757468e-19, 1.12582564e-19, 1.05043508e-19,\n",
       "       9.80831393e-20, 9.16507553e-20, 8.56971463e-20, 8.01867089e-20,\n",
       "       7.50884541e-20, 7.03571657e-20, 6.59687268e-20, 6.18942090e-20,\n",
       "       5.81078946e-20, 5.45865263e-20, 5.13092265e-20, 4.82567464e-20,\n",
       "       4.54119458e-20, 4.27589371e-20, 4.02833472e-20, 3.79714323e-20,\n",
       "       3.58116426e-20, 3.37924006e-20, 3.19034335e-20, 3.01353412e-20,\n",
       "       2.84799620e-20, 2.69283926e-20, 2.54738210e-20, 2.41101751e-20,\n",
       "       2.28298588e-20, 2.16276739e-20, 2.04983140e-20, 1.94365884e-20,\n",
       "       1.84381111e-20, 1.74972638e-20, 1.66115576e-20, 1.57791293e-20,\n",
       "       1.49945722e-20, 1.42545596e-20, 1.35573320e-20, 1.28994856e-20,\n",
       "       1.22784746e-20, 1.16919669e-20, 1.11378385e-20, 1.06138358e-20,\n",
       "       1.01183797e-20, 9.64957941e-21, 9.20583083e-21, 8.78560367e-21,\n",
       "       8.38756144e-21, 8.01024646e-21, 7.65250043e-21, 7.31320064e-21,\n",
       "       6.99118520e-21, 6.68554971e-21, 6.39549819e-21, 6.11955255e-21,\n",
       "       5.85744029e-21, 5.60827233e-21, 5.37133019e-21, 5.14584110e-21,\n",
       "       4.93126923e-21, 4.72692223e-21, 4.53231253e-21, 4.34693602e-21,\n",
       "       4.17013072e-21, 4.00170541e-21, 3.84103381e-21, 3.68833517e-21,\n",
       "       3.54157227e-21, 3.40198980e-21, 3.26869239e-21, 3.14147900e-21,\n",
       "       3.01987820e-21, 2.90371304e-21, 2.79226428e-21, 2.68602695e-21,\n",
       "       2.58401451e-21, 2.48693700e-21, 2.39381722e-21, 2.30487614e-21,\n",
       "       2.21974837e-21, 2.13827093e-21, 2.06020201e-21, 1.98543963e-21,\n",
       "       1.91376170e-21, 1.84508430e-21, 1.77921268e-21, 1.71605879e-21,\n",
       "       1.65547053e-21, 1.59734863e-21, 1.54157114e-21, 1.48803840e-21,\n",
       "       1.43664172e-21, 1.38729393e-21, 1.33989831e-21, 1.29436746e-21,\n",
       "       1.25061340e-21, 1.20857311e-21, 1.16817167e-21, 1.12930048e-21,\n",
       "       1.09193404e-21, 1.05599540e-21, 1.02141313e-21, 9.88135905e-22,\n",
       "       9.56117683e-22, 9.25285862e-22, 8.95602239e-22, 8.67019251e-22,\n",
       "       8.39475699e-22, 8.12952328e-22, 7.87388056e-22, 7.62751649e-22,\n",
       "       7.38997416e-22, 7.16103299e-22, 6.94022467e-22, 6.72716254e-22,\n",
       "       6.52181691e-22, 6.32361026e-22, 6.13228363e-22, 5.94764433e-22,\n",
       "       5.76939190e-22])"
      ]
     },
     "execution_count": 54,
     "metadata": {},
     "output_type": "execute_result"
    }
   ],
   "source": [
    "Cl"
   ]
  },
  {
   "cell_type": "code",
   "execution_count": 55,
   "metadata": {},
   "outputs": [],
   "source": [
    "# cosmo = Class()\n",
    "\n",
    "# cosmo_dict={'h': h,\n",
    "# 'omega_b' : omega_b,\n",
    "# 'omega_cdm': omega_cdm,\n",
    "# 'A_s'    : A0,\n",
    "# 'n_s'    : ns,\n",
    "# 'k_pivot' : 0.05}\n",
    "# cosmo_dict['output']='lCl, tCl, mPk'\n",
    "# cosmo_dict['l_max_scalars']=2000\n",
    "# cosmo_dict['lensing']='yes'\n",
    "# cosmo_dict['l_switch_limber']=1\n",
    "\n",
    "# cosmo.set(cosmo_dict)\n",
    "# cosmo.compute()\n",
    "# cllen= cosmo.lensed_cl(lmax=1000)\n",
    "# ll2 = cllen['ell']\n",
    "# clpp2 = cllen['pp']\n",
    "\n",
    "# cosmo.sigma8()"
   ]
  },
  {
   "cell_type": "code",
   "execution_count": 56,
   "metadata": {},
   "outputs": [
    {
     "data": {
      "text/plain": [
       "<matplotlib.legend.Legend at 0x2ae4aff52e48>"
      ]
     },
     "execution_count": 56,
     "metadata": {},
     "output_type": "execute_result"
    },
    {
     "data": {
      "image/png": "[encoded data removed]",
      "text/plain": [
       "<Figure size 432x288 with 1 Axes>"
      ]
     },
     "metadata": {
      "needs_background": "light"
     },
     "output_type": "display_data"
    }
   ],
   "source": [
    "plt.figure()#\n",
    "plt.semilogx(ell_,Cl/np.interp(ell_,ll,clpp), label='our result over CLASS no Limber')\n",
    "#plt.semilogx(ell_,Cl/np.interp(ell_,ll,clpp)/1.13, label='our result/1.13 over CLASS no Limber')\n",
    "#plt.semilogx(ell_,np.interp(ell_,ls,cl)/Cl)\n",
    "#plt.semilogx(ls,cl/np.interp(ls,ll,clpp), label='Markos result over CLASS no Limber')\n",
    "#plt.axhline(1,color='black')\n",
    "plt.ylim(0.95,1.05)\n",
    "plt.grid()\n",
    "plt.legend()"
   ]
  },
  {
   "cell_type": "code",
   "execution_count": 57,
   "metadata": {},
   "outputs": [
    {
     "name": "stdout",
     "output_type": "stream",
     "text": [
      "CAMB version: 0.1.9 \n"
     ]
    }
   ],
   "source": [
    "import camb\n",
    "from camb import model, initialpower\n",
    "print('CAMB version: %s '%camb.__version__)"
   ]
  },
  {
   "cell_type": "code",
   "execution_count": 58,
   "metadata": {},
   "outputs": [],
   "source": [
    "#np.savetxt('class_ouput.out',X=(ll2,clpp,clpp2))\n",
    "\n"
   ]
  },
  {
   "cell_type": "code",
   "execution_count": 59,
   "metadata": {},
   "outputs": [
    {
     "name": "stderr",
     "output_type": "stream",
     "text": [
      "/global/homes/v/vboehm/.conda/envs/bccp/lib/python3.6/site-packages/ipykernel_launcher.py:1: RuntimeWarning: invalid value encountered in true_divide\n",
      "  \"\"\"Entry point for launching an IPython kernel.\n"
     ]
    },
    {
     "data": {
      "text/plain": [
       "[<matplotlib.lines.Line2D at 0x2ae4afe13a20>]"
      ]
     },
     "execution_count": 59,
     "metadata": {},
     "output_type": "execute_result"
    },
    {
     "data": {
      "image/png": "[encoded data removed]",
      "text/plain": [
       "<Figure size 432x288 with 1 Axes>"
      ]
     },
     "metadata": {
      "needs_background": "light"
     },
     "output_type": "display_data"
    }
   ],
   "source": [
    "plt.semilogx(ll,clpp2/clpp-1, label='CLASS Limber over CLASS no Limber')"
   ]
  },
  {
   "cell_type": "code",
   "execution_count": null,
   "metadata": {},
   "outputs": [],
   "source": []
  },
  {
   "cell_type": "code",
   "execution_count": 60,
   "metadata": {},
   "outputs": [
    {
     "data": {
      "image/png": "[encoded data removed]",
      "text/plain": [
       "<Figure size 432x288 with 1 Axes>"
      ]
     },
     "metadata": {
      "needs_background": "light"
     },
     "output_type": "display_data"
    }
   ],
   "source": [
    "#ratio class over camb\n",
    "ll,clpp,clpp2 = np.loadtxt('class_ouput.out')\n",
    "c_ell,cl_limber,cl_limber2,cl_camb = np.loadtxt('camb_cls.out')\n",
    "clpp=np.interp(c_ell,ll,(ll*(ll+1.))**2*clpp/2./np.pi)\n",
    "clpp2=np.interp(c_ell,ll,(ll*(ll+1.))**2*clpp2/2./np.pi)\n",
    "plt.semilogx(c_ell,clpp/cl_camb-1, label='CLASS over CAMB no Limber -1')\n",
    "plt.ylim(-0.1,0.1)\n",
    "plt.grid()"
   ]
  },
  {
   "cell_type": "code",
   "execution_count": 61,
   "metadata": {},
   "outputs": [],
   "source": [
    "def cmb_kernel(chi):\n",
    "    return D_chi(chi)*(1.+z_chi(chi))*(chi_cmb-chi)/chi_cmb/chi"
   ]
  },
  {
   "cell_type": "code",
   "execution_count": 62,
   "metadata": {},
   "outputs": [
    {
     "name": "stdout",
     "output_type": "stream",
     "text": [
      "[0.00000000e+00 0.00000000e+00 0.00000000e+00 0.00000000e+00\n",
      " 0.00000000e+00 0.00000000e+00 4.07240815e+02 5.85890048e+02\n",
      " 8.42687933e+02 1.21131429e+03 1.73915884e+03 2.49156929e+03\n",
      " 3.55528429e+03 5.04045409e+03 7.07240966e+03 9.76205855e+03\n",
      " 1.31518242e+04 1.71045771e+04 2.11424719e+04 2.42813391e+04\n",
      " 2.49685296e+04 2.17737736e+04 1.58071185e+04 1.14653914e+04\n",
      " 7.88827304e+03 4.46692041e+03 2.36493028e+03 1.25014560e+03\n",
      " 5.89889068e+02 2.69918910e+02 1.18363016e+02 5.00650628e+01\n",
      " 2.05960307e+01 8.26811134e+00 3.25044742e+00 1.25703804e+00\n",
      " 4.77907014e-01 1.79802604e-01 6.66311486e-02 2.45380898e-02\n",
      " 8.91225148e-03 3.21667043e-03 1.14436251e-03 0.00000000e+00\n",
      " 0.00000000e+00 0.00000000e+00 0.00000000e+00 0.00000000e+00\n",
      " 0.00000000e+00 0.00000000e+00]\n"
     ]
    },
    {
     "data": {
      "image/png": "[encoded data removed]",
      "text/plain": [
       "<Figure size 432x288 with 1 Axes>"
      ]
     },
     "metadata": {
      "needs_background": "light"
     },
     "output_type": "display_data"
    }
   ],
   "source": [
    "data=np.loadtxt('class_pk.dat')\n",
    "kh = data[:,0]\n",
    "Pkh = data[:,1]\n",
    "plt.figure()\n",
    "plt.loglog(kh,Pkh)\n",
    "\n",
    "pki=interp1d(kh,Pkh,bounds_error=False, fill_value=0.)\n",
    "\n",
    "kk = np.logspace(-5,3)\n",
    "plt.loglog(kk,pki(kk),ls='--')\n",
    "print(pki(kk))"
   ]
  },
  {
   "cell_type": "code",
   "execution_count": 63,
   "metadata": {},
   "outputs": [
    {
     "name": "stdout",
     "output_type": "stream",
     "text": [
      "2.0\n",
      "3.0\n",
      "4.0\n",
      "5.0\n",
      "6.0\n",
      "7.0\n",
      "8.0\n",
      "9.0\n",
      "10.0\n",
      "11.0\n",
      "12.0\n",
      "13.0\n",
      "14.0\n",
      "15.0\n",
      "16.0\n",
      "17.0\n",
      "18.0\n",
      "19.0\n",
      "20.0\n",
      "21.0\n",
      "22.0\n",
      "23.0\n",
      "24.0\n",
      "25.0\n",
      "26.0\n",
      "27.0\n",
      "28.0\n",
      "29.0\n",
      "30.0\n",
      "31.0\n",
      "32.0\n",
      "33.0\n",
      "34.0\n",
      "35.0\n",
      "36.0\n",
      "37.0\n",
      "38.0\n",
      "39.0\n",
      "40.0\n",
      "41.0\n",
      "42.0\n",
      "43.0\n",
      "44.0\n",
      "45.0\n",
      "46.0\n",
      "47.0\n",
      "48.0\n",
      "49.0\n",
      "50.0\n",
      "51.0\n",
      "52.0\n",
      "53.0\n",
      "54.0\n",
      "55.0\n",
      "56.0\n",
      "57.0\n",
      "58.0\n",
      "59.0\n",
      "60.0\n",
      "61.0\n",
      "62.0\n",
      "63.0\n",
      "64.0\n",
      "65.0\n",
      "66.0\n",
      "67.0\n",
      "68.0\n",
      "69.0\n",
      "70.0\n",
      "71.0\n",
      "72.0\n",
      "73.0\n",
      "74.0\n",
      "75.0\n",
      "76.0\n",
      "77.0\n",
      "78.0\n",
      "79.0\n",
      "80.0\n",
      "81.0\n",
      "82.0\n",
      "83.0\n",
      "84.0\n",
      "85.0\n",
      "86.0\n",
      "87.0\n",
      "88.0\n",
      "89.0\n",
      "90.0\n",
      "91.0\n",
      "92.0\n",
      "93.0\n",
      "94.0\n",
      "95.0\n",
      "96.0\n",
      "97.0\n",
      "98.0\n",
      "99.0\n",
      "100.0\n",
      "110.0\n",
      "120.0\n",
      "130.0\n",
      "140.0\n",
      "150.0\n",
      "160.0\n",
      "170.0\n",
      "180.0\n",
      "190.0\n",
      "200.0\n",
      "210.0\n",
      "220.0\n",
      "230.0\n",
      "240.0\n",
      "250.0\n",
      "260.0\n",
      "270.0\n",
      "280.0\n",
      "290.0\n",
      "300.0\n",
      "310.0\n",
      "320.0\n",
      "330.0\n",
      "340.0\n",
      "350.0\n",
      "360.0\n",
      "370.0\n",
      "380.0\n",
      "390.0\n",
      "400.0\n",
      "410.0\n",
      "420.0\n",
      "430.0\n",
      "440.0\n",
      "450.0\n",
      "460.0\n",
      "470.0\n",
      "480.0\n",
      "490.0\n",
      "500.0\n",
      "510.0\n",
      "520.0\n",
      "530.0\n",
      "540.0\n",
      "550.0\n",
      "560.0\n",
      "570.0\n",
      "580.0\n",
      "590.0\n",
      "600.0\n",
      "610.0\n",
      "620.0\n",
      "630.0\n",
      "640.0\n",
      "650.0\n",
      "660.0\n",
      "670.0\n",
      "680.0\n",
      "690.0\n",
      "700.0\n",
      "710.0\n",
      "720.0\n",
      "730.0\n",
      "740.0\n",
      "750.0\n",
      "760.0\n",
      "770.0\n",
      "780.0\n",
      "790.0\n",
      "800.0\n",
      "810.0\n",
      "820.0\n",
      "830.0\n",
      "840.0\n",
      "850.0\n",
      "860.0\n",
      "870.0\n",
      "880.0\n",
      "890.0\n",
      "900.0\n",
      "910.0\n",
      "920.0\n",
      "930.0\n",
      "940.0\n",
      "950.0\n",
      "960.0\n",
      "970.0\n",
      "980.0\n",
      "990.0\n",
      "1000.0\n",
      "1010.0\n",
      "1020.0\n",
      "1030.0\n",
      "1040.0\n",
      "1050.0\n",
      "1060.0\n",
      "1070.0\n",
      "1080.0\n",
      "1090.0\n",
      "1100.0\n",
      "1110.0\n",
      "1120.0\n",
      "1130.0\n",
      "1140.0\n",
      "1150.0\n",
      "1160.0\n",
      "1170.0\n",
      "1180.0\n",
      "1190.0\n",
      "1200.0\n",
      "1210.0\n",
      "1220.0\n",
      "1230.0\n",
      "1240.0\n",
      "1250.0\n",
      "1260.0\n",
      "1270.0\n",
      "1280.0\n",
      "1290.0\n",
      "1300.0\n",
      "1310.0\n",
      "1320.0\n",
      "1330.0\n",
      "1340.0\n",
      "1350.0\n",
      "1360.0\n",
      "1370.0\n",
      "1380.0\n",
      "1390.0\n",
      "1400.0\n",
      "1410.0\n",
      "1420.0\n",
      "1430.0\n",
      "1440.0\n",
      "1450.0\n",
      "1460.0\n",
      "1470.0\n",
      "1480.0\n",
      "1490.0\n",
      "1500.0\n",
      "1510.0\n",
      "1520.0\n",
      "1530.0\n",
      "1540.0\n",
      "1550.0\n",
      "1560.0\n",
      "1570.0\n",
      "1580.0\n",
      "1590.0\n",
      "1600.0\n",
      "1610.0\n",
      "1620.0\n",
      "1630.0\n",
      "1640.0\n",
      "1650.0\n",
      "1660.0\n",
      "1670.0\n",
      "1680.0\n",
      "1690.0\n",
      "1700.0\n",
      "1710.0\n",
      "1720.0\n",
      "1730.0\n",
      "1740.0\n",
      "1750.0\n",
      "1760.0\n",
      "1770.0\n",
      "1780.0\n",
      "1790.0\n",
      "1800.0\n",
      "1810.0\n",
      "1820.0\n",
      "1830.0\n",
      "1840.0\n",
      "1850.0\n",
      "1860.0\n",
      "1870.0\n",
      "1880.0\n",
      "1890.0\n",
      "1900.0\n",
      "1910.0\n",
      "1920.0\n",
      "1930.0\n",
      "1940.0\n",
      "1950.0\n",
      "1960.0\n",
      "1970.0\n",
      "1980.0\n",
      "1990.0\n",
      "2000.0\n"
     ]
    }
   ],
   "source": [
    "chis = np.linspace(50,chi_cmb,1000)\n",
    "\n",
    "clpp_=[]\n",
    "for ll in ell_:\n",
    "    print(ll)\n",
    "    integrand =[]\n",
    "    for chi_ in chis:\n",
    "        k_ = ll/chi_\n",
    "        pk = pki(k_)/k_**4 #p_psi\n",
    "        integrand+=[pk*cmb_kernel(chi_)**2/chi_**2]\n",
    "    clpp_+=[simps(integrand,chis)]"
   ]
  },
  {
   "cell_type": "code",
   "execution_count": 64,
   "metadata": {},
   "outputs": [],
   "source": [
    "clpp_=np.array(clpp_)*prefac**2*2."
   ]
  },
  {
   "cell_type": "code",
   "execution_count": null,
   "metadata": {},
   "outputs": [],
   "source": []
  },
  {
   "cell_type": "code",
   "execution_count": null,
   "metadata": {},
   "outputs": [],
   "source": []
  }
 ],
 "metadata": {
  "kernelspec": {
   "display_name": "NERSC BCCP",
   "language": "python",
   "name": "bccp"
  },
  "language_info": {
   "codemirror_mode": {
    "name": "ipython",
    "version": 3
   },
   "file_extension": ".py",
   "mimetype": "text/x-python",
   "name": "python",
   "nbconvert_exporter": "python",
   "pygments_lexer": "ipython3",
   "version": "3.6.6"
  }
 },
 "nbformat": 4,
 "nbformat_minor": 2
}
