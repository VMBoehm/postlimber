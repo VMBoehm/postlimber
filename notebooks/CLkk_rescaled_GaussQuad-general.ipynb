{
 "cells": [
  {
   "cell_type": "code",
   "execution_count": 1,
   "metadata": {},
   "outputs": [],
   "source": [
    "import numpy as np\n",
    "import matplotlib.pyplot as plt"
   ]
  },
  {
   "cell_type": "code",
   "execution_count": 2,
   "metadata": {},
   "outputs": [],
   "source": [
    "# path = '/global/homes/e/ecastori/PostBorn/'\n",
    "path = '../PostBornEma/'"
   ]
  },
  {
   "cell_type": "code",
   "execution_count": 3,
   "metadata": {},
   "outputs": [],
   "source": [
    "data = np.loadtxt(path+'FFT_k-1Pk.dat',skiprows=2)\n",
    "\n",
    "#----------------------#\n",
    "n         = data[:,0]\n",
    "Re_c_n    = data[:,1]\n",
    "Im_c_n    = data[:,2]\n",
    "Re_nu_n   = data[:,3]\n",
    "Im_nu_n   = data[:,4]\n",
    "#----------------------#\n",
    "\n",
    "c_n  = Re_c_n  + 1j * Im_c_n\n",
    "nu_n = Re_nu_n + 1j * Im_nu_n"
   ]
  },
  {
   "cell_type": "code",
   "execution_count": 4,
   "metadata": {},
   "outputs": [],
   "source": [
    "### When reading Ema's files for the first time\n",
    "\n",
    "# data = np.loadtxt(path+'Il_nu_t_new1.dat',skiprows=1)\n",
    "# # data = np.loadtxt(path+'Il_nu_t.dat',skiprows=1)\n",
    "\n",
    "# #----------------------#\n",
    "# ell       = data[:,0]\n",
    "# nn        = data[:,1]\n",
    "# tt        = data[:,2]\n",
    "# Re_I      = data[:,3]\n",
    "# Im_I      = data[:,4]\n",
    "# #----------------------#\n",
    "\n",
    "# I_ = Re_I + 1j * Im_I\n",
    "\n",
    "# # np.save('../PostBornEma/Il_nu_t_new1-ell-nn-tt.dat', np.stack((ell, nn, tt), axis=1))\n",
    "# # np.save('../PostBornEma/Il_nu_t_new1-ReI-ImI.dat', np.stack((Re_I, Im_I), axis=1))"
   ]
  },
  {
   "cell_type": "code",
   "execution_count": 7,
   "metadata": {},
   "outputs": [],
   "source": [
    "data =  np.load(path+'Il_nu_t_new1-ell-nn-tt.npy')\n",
    "ell       = data[:,0]\n",
    "nn        = data[:,1]\n",
    "tt        = data[:,2]\n",
    "#----------------------#\n",
    "\n",
    "data =  np.load(path+'Il_nu_t_new1-ReI-ImI.npy')\n",
    "Re_I      = data[:,0]\n",
    "Im_I      = data[:,1]\n",
    "#----------------------#\n",
    "\n",
    "I_ = Re_I + 1j * Im_I"
   ]
  },
  {
   "cell_type": "code",
   "execution_count": 8,
   "metadata": {},
   "outputs": [],
   "source": [
    "data = np.loadtxt(path+'GG_weights.dat',skiprows=2)\n",
    "t1   = data[:,0]\n",
    "w1   = data[:,1]"
   ]
  },
  {
   "cell_type": "code",
   "execution_count": 9,
   "metadata": {},
   "outputs": [
    {
     "name": "stdout",
     "output_type": "stream",
     "text": [
      "[ 3.30000000e-12  1.99999956e-13  3.30000001e-11 -1.89999999e-11\n",
      " -2.10000003e-11  4.69999994e-11 -2.40000001e-10  1.20000000e-10\n",
      " -1.30000000e-10 -4.60000000e-10 -7.00000023e-11  4.79999998e-10\n",
      " -7.00000058e-11 -4.90000006e-10 -4.89999999e-10  3.10000005e-10\n",
      " -2.49999993e-10  6.00000050e-11  6.00000050e-11 -1.70000000e-10\n",
      "  3.80000000e-09 -4.79999999e-09  7.00000002e-10 -4.89999999e-09\n",
      "  1.20000002e-09  2.99999997e-10  2.20000002e-09 -4.29999999e-09\n",
      " -1.00000008e-10  4.89999999e-09  3.70000000e-09  4.00000000e-09\n",
      "  1.00000008e-10 -4.60000005e-09 -4.90000002e-09 -1.09999998e-09\n",
      "  4.20000001e-09 -8.00000011e-10 -3.19999999e-09 -2.00000000e-09\n",
      " -4.00000000e-09 -2.00000017e-10 -9.00000019e-10 -2.00000000e-09\n",
      " -3.00000025e-10  1.40000000e-09 -1.79999998e-09 -1.39999995e-09\n",
      " -1.19999999e-09 -2.20000002e-09  2.19999996e-09  1.19999999e-09\n",
      "  1.40000000e-09  1.79999993e-09 -1.39999989e-09  2.99999914e-10\n",
      "  1.99999994e-09  8.99999963e-10  2.00000017e-10  4.00000000e-09\n",
      "  2.00000005e-09  3.20000004e-09  8.00000066e-10 -4.20000001e-09\n",
      "  1.09999998e-09  4.89999996e-09  4.59999994e-09 -1.00000008e-10\n",
      " -4.00000000e-09 -3.69999997e-09 -4.89999996e-09  1.00000008e-10\n",
      "  4.30000002e-09 -2.20000007e-09 -2.99999914e-10 -1.19999999e-09\n",
      "  4.89999996e-09 -6.99999947e-10  4.80000006e-09 -3.79999998e-09\n",
      " -7.99999955e-10 -1.00000008e-10  3.90000010e-09  4.20000001e-09\n",
      " -2.99999914e-10  2.49999998e-09 -4.49999993e-09 -9.00000074e-10\n",
      " -2.49999998e-09 -4.90000007e-09  1.50000001e-09 -2.89999991e-09\n",
      " -2.09999995e-09 -7.99999955e-10  4.00000033e-10 -2.40000009e-09\n",
      " -1.50000001e-09 -2.59999999e-09 -4.69999994e-09  3.40000006e-09]\n"
     ]
    }
   ],
   "source": [
    "print(np.unique(tt)-t1)"
   ]
  },
  {
   "cell_type": "code",
   "execution_count": 10,
   "metadata": {},
   "outputs": [
    {
     "name": "stdout",
     "output_type": "stream",
     "text": [
      "{'h': 0.677, 'omega_b': 0.02247, 'omega_cdm': 0.11923, 'A_s': 2.10732e-09, 'n_s': 0.96824, 'k_pivot': 0.05}\n"
     ]
    }
   ],
   "source": [
    "#cosmology\n",
    "h         = 0.6770\n",
    "omega_cdm = 0.11923\n",
    "omega_b   = 0.02247\n",
    "Omega_b   = omega_b/h**2\n",
    "Omega_cdm = omega_cdm/h**2\n",
    "Omega_m   = Omega_b+Omega_cdm\n",
    "ns        = 0.96824\n",
    "A0        = 2.10732*10**(-9)\n",
    "\n",
    "#dictionary for class\n",
    "cosmo_dict={'h': h,\n",
    "'omega_b' : omega_b,\n",
    "'omega_cdm': omega_cdm,\n",
    "'A_s'    : A0,\n",
    "'n_s'    : ns,\n",
    "'k_pivot' : 0.05}\n",
    "print(cosmo_dict)\n",
    "\n",
    "# speed of light\n",
    "c      = 299792458./1000. # km/s\n",
    "\n",
    "#prefactor for Cl_kk computation from Cl_dd\n",
    "prefac = 1.5*Omega_m*(100.)**2/c**2 #without h"
   ]
  },
  {
   "cell_type": "code",
   "execution_count": 11,
   "metadata": {},
   "outputs": [],
   "source": [
    "from classy import Class\n",
    "cosmo = Class()\n",
    "cosmo.set(cosmo_dict)\n",
    "cosmo.compute()\n",
    "cosmo_b               = cosmo.get_background()\n",
    "\n",
    "class_z               = cosmo_b['z'][::-1]\n",
    "class_chi             = cosmo_b['comov. dist.'][::-1]\n",
    "class_D               = cosmo_b['gr.fac. D'][::-1]#/cosmo_b['gr.fac. D'][-1]\n",
    "\n",
    "derivParams           = cosmo.get_current_derived_parameters(['z_rec'])\n",
    "z_cmb                 = derivParams['z_rec']\n",
    "\n",
    "\n",
    "from scipy.interpolate import interp1d\n",
    "from scipy.interpolate import InterpolatedUnivariateSpline as ius\n",
    "chi_z = interp1d(class_z,class_chi*h, bounds_error=False, fill_value=0)\n",
    "z_chi = interp1d(class_chi*h,class_z, bounds_error=False, fill_value=0)   # Mpc/h\n",
    "D_chi = interp1d(class_chi*h,class_D, bounds_error=False, fill_value=0)    # growth\n",
    "D_z   = interp1d(class_z,class_D, bounds_error=False, fill_value=0)\n",
    "# chi_cmb\n",
    "chi_cmb = chi_z(z_cmb)\n",
    "\n"
   ]
  },
  {
   "cell_type": "code",
   "execution_count": 12,
   "metadata": {},
   "outputs": [
    {
     "name": "stdout",
     "output_type": "stream",
     "text": [
      "9416.06644934157 9414.597956961135\n"
     ]
    }
   ],
   "source": [
    "print(chi_z(1100),chi_z(z_cmb))"
   ]
  },
  {
   "cell_type": "code",
   "execution_count": 13,
   "metadata": {},
   "outputs": [
    {
     "data": {
      "image/png": "[encoded data removed]",
      "text/plain": [
       "<Figure size 432x288 with 1 Axes>"
      ]
     },
     "metadata": {},
     "output_type": "display_data"
    },
    {
     "data": {
      "text/plain": [
       "array(1.)"
      ]
     },
     "execution_count": 13,
     "metadata": {},
     "output_type": "execute_result"
    }
   ],
   "source": [
    "z = np.linspace(0,5,100)\n",
    "plt.figure()\n",
    "plt.plot(class_z,class_D,ls='-')\n",
    "plt.plot(z,D_z(z),ls='--')\n",
    "plt.plot(z,1/(1+z),ls='-.')\n",
    "plt.xlim(0,5)\n",
    "plt.show()\n",
    "D_z(0)"
   ]
  },
  {
   "cell_type": "code",
   "execution_count": 14,
   "metadata": {},
   "outputs": [
    {
     "data": {
      "image/png": "[encoded data removed]",
      "text/plain": [
       "<Figure size 432x288 with 1 Axes>"
      ]
     },
     "metadata": {},
     "output_type": "display_data"
    },
    {
     "data": {
      "image/png": "[encoded data removed]",
      "text/plain": [
       "<Figure size 432x288 with 1 Axes>"
      ]
     },
     "metadata": {},
     "output_type": "display_data"
    }
   ],
   "source": [
    "z=np.linspace(0.,10,200)\n",
    "plt.figure()\n",
    "plt.loglog(z,chi_z(z))\n",
    "plt.show()\n",
    "plt.figure()\n",
    "plt.plot(z,D_z(z)/D_chi(chi_z(z)))\n",
    "plt.show()\n",
    "# plt.figure()\n",
    "# plt.loglog(z,)\n",
    "# plt.show()\n",
    "# plt.figure()\n",
    "# plt.loglog(z,z_chi(chi_z(z)))\n",
    "# plt.show()"
   ]
  },
  {
   "cell_type": "code",
   "execution_count": 15,
   "metadata": {},
   "outputs": [
    {
     "data": {
      "text/plain": [
       "array(0.94886829)"
      ]
     },
     "execution_count": 15,
     "metadata": {},
     "output_type": "execute_result"
    }
   ],
   "source": [
    "D_chi(chi_z(0.1))"
   ]
  },
  {
   "cell_type": "markdown",
   "metadata": {},
   "source": [
    "# Setup"
   ]
  },
  {
   "cell_type": "code",
   "execution_count": 14,
   "metadata": {},
   "outputs": [],
   "source": [
    "def set_kernel(chi_max):\n",
    "    def kernel(chi):\n",
    "        return (1.+z_chi(chi))*D_chi(chi)\n",
    "    return kernel"
   ]
  },
  {
   "cell_type": "code",
   "execution_count": 15,
   "metadata": {},
   "outputs": [],
   "source": [
    "D = set_kernel(chi_cmb)"
   ]
  },
  {
   "cell_type": "code",
   "execution_count": 16,
   "metadata": {},
   "outputs": [
    {
     "data": {
      "text/plain": [
       "array([   2.,    2.,    2., ..., 2000., 2000., 2000.])"
      ]
     },
     "execution_count": 16,
     "metadata": {},
     "output_type": "execute_result"
    }
   ],
   "source": [
    "ell"
   ]
  },
  {
   "cell_type": "code",
   "execution_count": 17,
   "metadata": {},
   "outputs": [
    {
     "name": "stdout",
     "output_type": "stream",
     "text": [
      "[-1.9-27.94471j   -1.9-27.665263j  -1.9-27.385816j  -1.9-27.106369j\n",
      " -1.9-26.826921j  -1.9-26.547474j  -1.9-26.268027j  -1.9-25.98858j\n",
      " -1.9-25.709133j  -1.9-25.429686j  -1.9-25.150239j  -1.9-24.870792j\n",
      " -1.9-24.591345j  -1.9-24.311898j  -1.9-24.03245j   -1.9-23.753003j\n",
      " -1.9-23.473556j  -1.9-23.194109j  -1.9-22.914662j  -1.9-22.635215j\n",
      " -1.9-22.355768j  -1.9-22.076321j  -1.9-21.796874j  -1.9-21.517427j\n",
      " -1.9-21.237979j  -1.9-20.958532j  -1.9-20.679085j  -1.9-20.399638j\n",
      " -1.9-20.120191j  -1.9-19.840744j  -1.9-19.561297j  -1.9-19.28185j\n",
      " -1.9-19.002403j  -1.9-18.722956j  -1.9-18.443509j  -1.9-18.164061j\n",
      " -1.9-17.884614j  -1.9-17.605167j  -1.9-17.32572j   -1.9-17.046273j\n",
      " -1.9-16.766826j  -1.9-16.487379j  -1.9-16.207932j  -1.9-15.928485j\n",
      " -1.9-15.649038j  -1.9-15.36959j   -1.9-15.090143j  -1.9-14.810696j\n",
      " -1.9-14.531249j  -1.9-14.251802j  -1.9-13.972355j  -1.9-13.692908j\n",
      " -1.9-13.413461j  -1.9-13.134014j  -1.9-12.854567j  -1.9-12.575119j\n",
      " -1.9-12.295672j  -1.9-12.016225j  -1.9-11.736778j  -1.9-11.457331j\n",
      " -1.9-11.177884j  -1.9-10.898437j  -1.9-10.61899j   -1.9-10.339543j\n",
      " -1.9-10.060096j  -1.9 -9.7806485j -1.9 -9.5012014j -1.9 -9.2217543j\n",
      " -1.9 -8.9423072j -1.9 -8.6628601j -1.9 -8.383413j  -1.9 -8.1039659j\n",
      " -1.9 -7.8245188j -1.9 -7.5450717j -1.9 -7.2656246j -1.9 -6.9861775j\n",
      " -1.9 -6.7067304j -1.9 -6.4272833j -1.9 -6.1478362j -1.9 -5.8683891j\n",
      " -1.9 -5.588942j  -1.9 -5.3094949j -1.9 -5.0300478j -1.9 -4.7506007j\n",
      " -1.9 -4.4711536j -1.9 -4.1917065j -1.9 -3.9122594j -1.9 -3.6328123j\n",
      " -1.9 -3.3533652j -1.9 -3.0739181j -1.9 -2.794471j  -1.9 -2.5150239j\n",
      " -1.9 -2.2355768j -1.9 -1.9561297j -1.9 -1.6766826j -1.9 -1.3972355j\n",
      " -1.9 -1.1177884j -1.9 -0.8383413j -1.9 -0.5588942j -1.9 -0.2794471j\n",
      " -1.9 +0.j       ]\n",
      "[   2.    3.    4.    5.    6.    7.    8.    9.   10.   11.   12.   13.\n",
      "   14.   15.   16.   17.   18.   19.   20.   21.   22.   23.   24.   25.\n",
      "   26.   27.   28.   29.   30.   31.   32.   33.   34.   35.   36.   37.\n",
      "   38.   39.   40.   41.   42.   43.   44.   45.   46.   47.   48.   49.\n",
      "   50.   51.   52.   53.   54.   55.   56.   57.   58.   59.   60.   61.\n",
      "   62.   63.   64.   65.   66.   67.   68.   69.   70.   71.   72.   73.\n",
      "   74.   75.   76.   77.   78.   79.   80.   81.   82.   83.   84.   85.\n",
      "   86.   87.   88.   89.   90.   91.   92.   93.   94.   95.   96.   97.\n",
      "   98.   99.  100.  110.  120.  130.  140.  150.  160.  170.  180.  190.\n",
      "  200.  210.  220.  230.  240.  250.  260.  270.  280.  290.  300.  310.\n",
      "  320.  330.  340.  350.  360.  370.  380.  390.  400.  410.  420.  430.\n",
      "  440.  450.  460.  470.  480.  490.  500.  510.  520.  530.  540.  550.\n",
      "  560.  570.  580.  590.  600.  610.  620.  630.  640.  650.  660.  670.\n",
      "  680.  690.  700.  710.  720.  730.  740.  750.  760.  770.  780.  790.\n",
      "  800.  810.  820.  830.  840.  850.  860.  870.  880.  890.  900.  910.\n",
      "  920.  930.  940.  950.  960.  970.  980.  990. 1000. 1010. 1020. 1030.\n",
      " 1040. 1050. 1060. 1070. 1080. 1090. 1100. 1110. 1120. 1130. 1140. 1150.\n",
      " 1160. 1170. 1180. 1190. 1200. 1210. 1220. 1230. 1240. 1250. 1260. 1270.\n",
      " 1280. 1290. 1300. 1310. 1320. 1330. 1340. 1350. 1360. 1370. 1380. 1390.\n",
      " 1400. 1410. 1420. 1430. 1440. 1450. 1460. 1470. 1480. 1490. 1500. 1510.\n",
      " 1520. 1530. 1540. 1550. 1560. 1570. 1580. 1590. 1600. 1610. 1620. 1630.\n",
      " 1640. 1650. 1660. 1670. 1680. 1690. 1700. 1710. 1720. 1730. 1740. 1750.\n",
      " 1760. 1770. 1780. 1790. 1800. 1810. 1820. 1830. 1840. 1850. 1860. 1870.\n",
      " 1880. 1890. 1900. 1910. 1920. 1930. 1940. 1950. 1960. 1970. 1980. 1990.\n",
      " 2000.]\n",
      "[1.43136613e-04 7.54024680e-04 1.85243263e-03 3.43753148e-03\n",
      " 5.50780238e-03 8.06122965e-03 1.10953208e-02 1.46071121e-02\n",
      " 1.85931729e-02 2.30496085e-02 2.79720649e-02 3.33557325e-02\n",
      " 3.91953509e-02 4.54852145e-02 5.22191775e-02 5.93906603e-02\n",
      " 6.69926558e-02 7.50177361e-02 8.34580601e-02 9.23053808e-02\n",
      " 1.01551054e-01 1.11186045e-01 1.21200941e-01 1.31585955e-01\n",
      " 1.42330941e-01 1.53425400e-01 1.64858492e-01 1.76619046e-01\n",
      " 1.88695570e-01 2.01076265e-01 2.13749034e-01 2.26701494e-01\n",
      " 2.39920990e-01 2.53394605e-01 2.67109175e-01 2.81051299e-01\n",
      " 2.95207354e-01 3.09563509e-01 3.24105737e-01 3.38819828e-01\n",
      " 3.53691406e-01 3.68705940e-01 3.83848759e-01 3.99105068e-01\n",
      " 4.14459960e-01 4.29898431e-01 4.45405398e-01 4.60965709e-01\n",
      " 4.76564159e-01 4.92185508e-01 5.07814492e-01 5.23435841e-01\n",
      " 5.39034291e-01 5.54594602e-01 5.70101569e-01 5.85540040e-01\n",
      " 6.00894932e-01 6.16151241e-01 6.31294060e-01 6.46308594e-01\n",
      " 6.61180172e-01 6.75894263e-01 6.90436491e-01 7.04792646e-01\n",
      " 7.18948701e-01 7.32890825e-01 7.46605395e-01 7.60079010e-01\n",
      " 7.73298506e-01 7.86250966e-01 7.98923735e-01 8.11304430e-01\n",
      " 8.23380954e-01 8.35141508e-01 8.46574600e-01 8.57669059e-01\n",
      " 8.68414045e-01 8.78799059e-01 8.88813955e-01 8.98448946e-01\n",
      " 9.07694619e-01 9.16541940e-01 9.24982264e-01 9.33007344e-01\n",
      " 9.40609340e-01 9.47780822e-01 9.54514786e-01 9.60804649e-01\n",
      " 9.66644267e-01 9.72027935e-01 9.76950391e-01 9.81406827e-01\n",
      " 9.85392888e-01 9.88904679e-01 9.91938770e-01 9.94492198e-01\n",
      " 9.96562468e-01 9.98147567e-01 9.99245975e-01 9.99856863e-01]\n",
      "101 101 101 100\n",
      "2918900 2918900\n"
     ]
    }
   ],
   "source": [
    "ell_ = np.unique(ell)\n",
    "nu_n_= np.unique(nu_n) \n",
    "t_=np.unique(tt)\n",
    "assert(np.allclose(t_,t1))\n",
    "\n",
    "print(nu_n_)\n",
    "print(ell_)\n",
    "print(np.unique(tt))\n",
    "print(len(nu_n_),len(n),len(c_n),len(t_))\n",
    "print(len(tt),len(I_))"
   ]
  },
  {
   "cell_type": "code",
   "execution_count": 160,
   "metadata": {},
   "outputs": [],
   "source": [
    "# m=0\n",
    "# I_array=np.zeros((len(ell_),len(nu_n_),len(t_)),dtype=np.complex64)\n",
    "# I2D = np.zeros((len(ell_),len(nu_n_),len(t_),len(t_)),dtype=np.complex64)\n",
    "# for ii,ll in enumerate(ell_):\n",
    "#     for jj, nu in enumerate(nu_n_):\n",
    "#             #for kk, _ in enumerate(t_):\n",
    "#         I_array[ii,jj,:]=I_[m:m+len(t_)]\n",
    "#         _, I2D_ = np.meshgrid(t_,I_array[ii,jj])\n",
    "#         I2D[ii][jj] = I2D_\n",
    "#         m+=len(t_)\n",
    "m=0\n",
    "I2D = np.zeros((len(ell_),len(nu_n_),len(t_),len(t_)),dtype=np.complex64)\n",
    "for ii,ll in enumerate(ell_):\n",
    "    for jj, nu in enumerate(nu_n_):\n",
    "        I2D[ii][jj] = np.meshgrid(t_,I_[m:m+len(t_)])[1]\n",
    "        m+=len(t_)"
   ]
  },
  {
   "cell_type": "markdown",
   "metadata": {},
   "source": [
    "# Integrals here"
   ]
  },
  {
   "cell_type": "code",
   "execution_count": 21,
   "metadata": {},
   "outputs": [],
   "source": [
    "from scipy.integrate import simps, quadrature\n",
    "from scipy.interpolate import interp1d\n",
    "import time\n"
   ]
  },
  {
   "cell_type": "code",
   "execution_count": 22,
   "metadata": {},
   "outputs": [
    {
     "name": "stdout",
     "output_type": "stream",
     "text": [
      "0\n",
      "20\n",
      "40\n",
      "60\n",
      "80\n",
      "100\n",
      "120\n",
      "140\n",
      "160\n",
      "180\n",
      "200\n",
      "220\n",
      "240\n",
      "260\n",
      "280\n",
      "Time taken =  103.06474280357361\n"
     ]
    }
   ],
   "source": [
    "r2d, t2d = np.meshgrid(t_,t_)\n",
    "w11, w12 = np.meshgrid(w1,w1)\n",
    "begin=time.time()\n",
    "resultv=[]\n",
    "for ii,ll in enumerate(ell_):\n",
    "    if ii%20 ==0: print(ii)\n",
    "    res1=[]\n",
    "    for jj, nu in enumerate(nu_n_):\n",
    "        #_, I2D = np.meshgrid(t_,I_array[ii,jj])\n",
    "        integrand=(1.-r2d*t2d)/t2d*(1.-r2d)/r2d*I2D[ii][jj]*D(r2d*t2d*chi_cmb)*D(r2d*chi_cmb)*(r2d*chi_cmb)**(-nu)\n",
    "        res1+=[np.sum(w11*w12*integrand)]\n",
    "    resultv+=[np.real(np.sum(res1[0:-1]*c_n[0:-1]*2.)+res1[-1]*c_n[-1])]\n",
    "print('Time taken = ', time.time()-begin)\n",
    "\n",
    "Clv = np.real(np.asarray(resultv))*4./np.pi**2*prefac**2/4.\n"
   ]
  },
  {
   "cell_type": "code",
   "execution_count": null,
   "metadata": {},
   "outputs": [],
   "source": [
    "# ###Introduce a general kernel here \n",
    "\n",
    "# def Wkernel(xi, xmax):\n",
    "#     return (xmax - xi)/(xmax*xi) * (xmax > xi)\n",
    "\n",
    "# # def Wout(r, xmax):\n",
    "# #     x1 = r*xmax\n",
    "# #     return (xmax - x1)/(xmax*x1) * (xmax > x1)\n",
    "\n",
    "# # def Win(t, r, xmax):\n",
    "# #     x2 = r*t*xmax\n",
    "# #     return (xmax - x2)/(xmax*x2) * (xmax > x2)\n",
    "\n",
    "\n",
    "# r2d, t2d = np.meshgrid(t_,t_)\n",
    "# w11, w12 = np.meshgrid(w1,w1)\n",
    "# begin=time.time()\n",
    "# result=[]\n",
    "# for ii,ll in enumerate(ell_):\n",
    "#     if ii%20 ==0: print(ii)\n",
    "#     res1=[]\n",
    "#     for jj, nu in enumerate(nu_n_):\n",
    "#         #_, I2D = np.meshgrid(t_,I_array[ii,jj])\n",
    "#         ww = Wkernel(r2d*chi_cmb, chi_cmb) *Wkernel(r2d*t2d*chi_cmb, chi_cmb)\n",
    "#         integrand=ww*I2D[ii][jj]*D(r2d*t2d*chi_cmb)*D(r2d*chi_cmb)*(r2d*chi_cmb)**(1-nu)\n",
    "#         res1+=[np.sum(w11*w12*integrand)]\n",
    "#     result+=[np.real(np.sum(res1[0:-1]*c_n[0:-1]*2.)+res1[-1]*c_n[-1])]\n",
    "# print('Time taken = ', time.time()-begin)\n",
    "# Cl2=chi_cmb * np.real(np.asarray(result))*4./np.pi**2*prefac**2/4.\n"
   ]
  },
  {
   "cell_type": "code",
   "execution_count": null,
   "metadata": {},
   "outputs": [],
   "source": [
    "# # def Wout(r, xmax):\n",
    "# #     x1 = r*xmax\n",
    "# #     return (xmax - x1)/(xmax*x1) * (xmax > x1)\n",
    "\n",
    "# # def Win(t, r, xmax):\n",
    "# #     x2 = r*t*xmax\n",
    "# #     return (xmax - x2)/(xmax*x2) * (xmax > x2)\n",
    "\n",
    "# def Wkernel(xi, xmax):\n",
    "#     return (xmax - xi)/(xmax*xi) * (xmax > xi)\n",
    "\n",
    "\n",
    "# r2d, t2d = np.meshgrid(t_,t_)\n",
    "# w11, w12 = np.meshgrid(w1,w1)\n",
    "# begin=time.time()\n",
    "# result=[]\n",
    "# lmax = 10\n",
    "# for ii,ll in enumerate(ell_[:lmax]):\n",
    "#     if ii%20 ==0: print(ii)\n",
    "#     res1, res2=[], []\n",
    "#     for jj, nu in enumerate(nu_n_):\n",
    "# #         ww = Wout(r2d, chi_cmb) *Win(t2d, r2d, chi_cmb)\n",
    "# #         integrand=ww*I2D[ii][jj]*D(r2d*t2d*chi_cmb)*D(r2d*chi_cmb)*(r2d*chi_cmb)**(1-nu)\n",
    "# #         res1+=[np.sum(w11*w12*integrand)]\n",
    "    \n",
    "# #         ww = Wout(r2d, chi_cmb) *Win(1/t2d, r2d, chi_cmb)\n",
    "# #         integrand=ww*I2D[ii][jj]*D(r2d*1/t2d*chi_cmb)*D(r2d*chi_cmb)*(r2d*chi_cmb)**(1-nu) * t2d**(nu-2)\n",
    "# #         res2+=[np.sum(w11*w12*integrand)]    \n",
    "# #     r1 = np.real(np.sum(res1[0:-1]*c_n[0:-1]*2.)+res1[-1]*c_n[-1])\n",
    "# #     r2 = np.real(np.sum(res2[0:-1]*c_n[0:-1]*2.)+res2[-1]*c_n[-1])\n",
    "# #     result2 += [r1+r2]\n",
    "\n",
    "#         chi1fac = Wkernel(r2d*chi_cmb, chi_cmb)*D(r2d*chi_cmb)*(r2d*chi_cmb)**(1-nu)\n",
    "#         chi2fac = Wkernel(t2d*r2d*chi_cmb, chi_cmb)*D(r2d*t2d*chi_cmb) + \\\n",
    "#                         Wkernel(1/t2d*r2d*chi_cmb, chi_cmb)*D(r2d*1/t2d*chi_cmb)* t2d**(nu-2)\n",
    "\n",
    "#         integrand = chi1fac * chi2fac * I2D[ii][jj]\n",
    "#         res1+=[np.sum(w11*w12*integrand)]\n",
    "    \n",
    "#     result += [np.real(np.sum(res1[0:-1]*c_n[0:-1]*2.)+res1[-1]*c_n[-1])]\n",
    "# Cl3=chi_cmb * np.real(np.asarray(result))*4./np.pi**2*prefac**2/8.\n",
    "\n",
    "# print('Time taken = ', time.time()-begin)"
   ]
  },
  {
   "cell_type": "code",
   "execution_count": null,
   "metadata": {},
   "outputs": [],
   "source": [
    "# ### Try with the auto-spectra without symmetrizing so that we check the second term of Eq. 3.05\n",
    "# ##Also, no need to estimate the kernels again and again since some terms are independent of \\ell and \\nu.\n",
    "# ##This way we reduce calls to interpolate and stuff\n",
    "\n",
    "\n",
    "# def Wkernel(xi, xmax):\n",
    "#     return (xmax - xi)/(xmax*xi) * (xmax > xi)\n",
    "\n",
    "\n",
    "# r2d, t2d = np.meshgrid(t_,t_)\n",
    "# w11, w12 = np.meshgrid(w1,w1)\n",
    "# begin=time.time()\n",
    "# result=[]\n",
    "# lmax = ell_.size \n",
    "# chi1fac0 = Wkernel(r2d*chi_cmb, chi_cmb)*D(r2d*chi_cmb)\n",
    "# chi2fac00 = Wkernel(t2d*r2d*chi_cmb, chi_cmb)*D(r2d*t2d*chi_cmb) \n",
    "# chi2fac01 = Wkernel(1/t2d*r2d*chi_cmb, chi_cmb)*D(r2d*1/t2d*chi_cmb)\n",
    "\n",
    "# for ii,ll in enumerate(ell_[:lmax]):\n",
    "#     if ii%20 ==0: print(ii)\n",
    "#     res1, res2=[], []\n",
    "#     for jj, nu in enumerate(nu_n_):\n",
    "\n",
    "#         chi1fac = chi1fac0*(r2d*chi_cmb)**(1-nu)\n",
    "#         chi2fac = chi2fac00 + chi2fac01* t2d**(nu-2)\n",
    "\n",
    "#         integrand = chi1fac * chi2fac * I2D[ii][jj]\n",
    "#         res1+=[np.sum(w11*w12*integrand)]\n",
    "    \n",
    "#     result += [np.real(np.sum(res1[0:-1]*c_n[0:-1]*2.)+res1[-1]*c_n[-1])]\n",
    "# Cl3=chi_cmb * np.real(np.asarray(result))*4./np.pi**2*prefac**2/8.\n",
    "\n",
    "# print('Time taken = ', time.time()-begin)"
   ]
  },
  {
   "cell_type": "code",
   "execution_count": 140,
   "metadata": {},
   "outputs": [
    {
     "name": "stdout",
     "output_type": "stream",
     "text": [
      "0\n",
      "20\n",
      "40\n",
      "60\n",
      "80\n",
      "100\n",
      "120\n",
      "140\n",
      "160\n",
      "180\n",
      "200\n",
      "220\n",
      "240\n",
      "260\n",
      "280\n",
      "Time taken =  6.1029746532440186\n"
     ]
    }
   ],
   "source": [
    "### Try with the auto-spectra without symmetrizing so that we check the second term of Eq. 3.05\n",
    "##Also, no need to estimate the kernels again and again since they are independent of \\ell and \\nu\n",
    "##This way we reduce calls to interpolate and stuff\n",
    "##Well, some things depend on \\nu so Use \\nu as the third axes so that all the \\chi kernels can be estimated beforehand\n",
    "\n",
    "def Wkernel(xi, xmax):\n",
    "    return (xmax - xi)/(xmax*xi) * (xmax > xi) * (1.+z_chi(xi))\n",
    "\n",
    "\n",
    "begin=time.time()\n",
    "\n",
    "r2d, t2d = np.meshgrid(t_,t_)\n",
    "w11, w12 = np.meshgrid(w1,w1)\n",
    "I2D2 = np.swapaxes(I2D, 2, 3) #order of 'r' and 't' is confusing to me\n",
    "\n",
    "result=[]\n",
    "\n",
    "chi1fac0 = (Wkernel(r2d*chi_cmb, chi_cmb)*D_chi(r2d*chi_cmb)).reshape(*r2d.shape, 1)\n",
    "chi1fac0 = chi1fac0 *(r2d*chi_cmb).reshape(*r2d.shape, 1)**(1-nu_n_.reshape(1, 1, -1))\n",
    "\n",
    "chi2fac00 = (Wkernel(t2d*r2d*chi_cmb, chi_cmb)*D_chi(r2d*t2d*chi_cmb)).reshape(*r2d.shape, 1)\n",
    "chi2fac01 = (Wkernel(1/t2d*r2d*chi_cmb, chi_cmb)*D_chi(r2d*1/t2d*chi_cmb)).reshape(*r2d.shape, 1)\n",
    "chi2fac01 = chi2fac01 * t2d.reshape(*r2d.shape, 1)**(nu_n_.reshape(1, 1, -1)-2)\n",
    "chi2fac0 = chi2fac00 + chi2fac01\n",
    "w11, w12 = w11.reshape(*w11.shape, 1), w12.reshape(*w12.shape, 1)\n",
    "\n",
    "lmax = ell.size\n",
    "for ii,ll in enumerate(ell_[:lmax]):\n",
    "    if ii%20 ==0: print(ii) \n",
    "        \n",
    "    res1 = np.sum(w11*w12*chi1fac0* chi2fac0*I2D2[ii].T, axis=(0, 1))\n",
    "    \n",
    "    result += [np.real(np.sum(res1[0:-1]*c_n[0:-1]*2.)+res1[-1]*c_n[-1])]\n",
    "Cl3=chi_cmb * np.real(np.asarray(result))*4./np.pi**2*prefac**2/8.\n",
    "\n",
    "print('Time taken = ', time.time()-begin)"
   ]
  },
  {
   "cell_type": "code",
   "execution_count": 161,
   "metadata": {},
   "outputs": [
    {
     "ename": "MemoryError",
     "evalue": "",
     "output_type": "error",
     "traceback": [
      "\u001b[0;31m---------------------------------------------------------------------------\u001b[0m",
      "\u001b[0;31mMemoryError\u001b[0m                               Traceback (most recent call last)",
      "\u001b[0;32m<ipython-input-161-d2648f989257>\u001b[0m in \u001b[0;36m<module>\u001b[0;34m()\u001b[0m\n\u001b[1;32m      3\u001b[0m \u001b[0;34m\u001b[0m\u001b[0m\n\u001b[1;32m      4\u001b[0m \u001b[0mm\u001b[0m\u001b[0;34m=\u001b[0m\u001b[0;36m0\u001b[0m\u001b[0;34m\u001b[0m\u001b[0m\n\u001b[0;32m----> 5\u001b[0;31m \u001b[0mI2Dcn\u001b[0m \u001b[0;34m=\u001b[0m \u001b[0mnp\u001b[0m\u001b[0;34m.\u001b[0m\u001b[0mzeros\u001b[0m\u001b[0;34m(\u001b[0m\u001b[0;34m(\u001b[0m\u001b[0mlen\u001b[0m\u001b[0;34m(\u001b[0m\u001b[0mell_\u001b[0m\u001b[0;34m)\u001b[0m\u001b[0;34m,\u001b[0m\u001b[0mlen\u001b[0m\u001b[0;34m(\u001b[0m\u001b[0mnu_n_\u001b[0m\u001b[0;34m)\u001b[0m\u001b[0;34m,\u001b[0m\u001b[0mlen\u001b[0m\u001b[0;34m(\u001b[0m\u001b[0mt_\u001b[0m\u001b[0;34m)\u001b[0m\u001b[0;34m,\u001b[0m\u001b[0mlen\u001b[0m\u001b[0;34m(\u001b[0m\u001b[0mt_\u001b[0m\u001b[0;34m)\u001b[0m\u001b[0;34m)\u001b[0m\u001b[0;34m,\u001b[0m\u001b[0mdtype\u001b[0m\u001b[0;34m=\u001b[0m\u001b[0mnp\u001b[0m\u001b[0;34m.\u001b[0m\u001b[0mcomplex64\u001b[0m\u001b[0;34m)\u001b[0m\u001b[0;34m\u001b[0m\u001b[0m\n\u001b[0m\u001b[1;32m      6\u001b[0m \u001b[0;32mfor\u001b[0m \u001b[0mii\u001b[0m\u001b[0;34m,\u001b[0m\u001b[0mll\u001b[0m \u001b[0;32min\u001b[0m \u001b[0menumerate\u001b[0m\u001b[0;34m(\u001b[0m\u001b[0mell_\u001b[0m\u001b[0;34m)\u001b[0m\u001b[0;34m:\u001b[0m\u001b[0;34m\u001b[0m\u001b[0m\n\u001b[1;32m      7\u001b[0m     \u001b[0;32mfor\u001b[0m \u001b[0mjj\u001b[0m\u001b[0;34m,\u001b[0m \u001b[0mnu\u001b[0m \u001b[0;32min\u001b[0m \u001b[0menumerate\u001b[0m\u001b[0;34m(\u001b[0m\u001b[0mnu_n_\u001b[0m\u001b[0;34m)\u001b[0m\u001b[0;34m:\u001b[0m\u001b[0;34m\u001b[0m\u001b[0m\n",
      "\u001b[0;31mMemoryError\u001b[0m: "
     ]
    }
   ],
   "source": [
    "cn2 = c_n.copy()\n",
    "cn2[:-1] *=2\n",
    "\n",
    "m=0\n",
    "I2Dcn = np.zeros((len(ell_),len(nu_n_),len(t_),len(t_)),dtype=np.complex64)\n",
    "for ii,ll in enumerate(ell_):\n",
    "    for jj, nu in enumerate(nu_n_):\n",
    "        I2Dcn[ii][jj] = np.meshgrid(t_,I_[m:m+len(t_)]*cn2[ii])[1]\n",
    "        m+=len(t_)"
   ]
  },
  {
   "cell_type": "code",
   "execution_count": null,
   "metadata": {},
   "outputs": [],
   "source": [
    "### Try with the auto-spectra without symmetrizing so that we check the second term of Eq. 3.05\n",
    "##Also, no need to estimate the kernels again and again since they are independent of \\ell and \\nu\n",
    "##This way we reduce calls to interpolate and stuff\n",
    "##Well, some things depend on \\nu so Use \\nu as the third axes so that all the \\chi kernels can be estimated beforehand\n",
    "\n",
    "def Wkernel(xi, xmax):\n",
    "    return (xmax - xi)/(xmax*xi) * (xmax > xi) * (1.+z_chi(xi))\n",
    "\n",
    "\n",
    "begin=time.time()\n",
    "\n",
    "r2d, t2d = np.meshgrid(t_,t_)\n",
    "w11, w12 = np.meshgrid(w1,w1)\n",
    "I2D2 = np.swapaxes(I2D, 2, 3) #order of 'r' and 't' is confusing to me\n",
    "\n",
    "result=[]\n",
    "\n",
    "chi1fac0 = (Wkernel(r2d*chi_cmb, chi_cmb)*D_chi(r2d*chi_cmb)).reshape(*r2d.shape, 1)\n",
    "chi1fac0 = chi1fac0 *(r2d*chi_cmb).reshape(*r2d.shape, 1)**(1-nu_n_.reshape(1, 1, -1))\n",
    "\n",
    "chi2fac00 = (Wkernel(t2d*r2d*chi_cmb, chi_cmb)*D_chi(r2d*t2d*chi_cmb)).reshape(*r2d.shape, 1)\n",
    "chi2fac01 = (Wkernel(1/t2d*r2d*chi_cmb, chi_cmb)*D_chi(r2d*1/t2d*chi_cmb)).reshape(*r2d.shape, 1)\n",
    "chi2fac01 = chi2fac01 * t2d.reshape(*r2d.shape, 1)**(nu_n_.reshape(1, 1, -1)-2)\n",
    "chi2fac0 = chi2fac00 + chi2fac01\n",
    "w11, w12 = w11.reshape(*w11.shape, 1), w12.reshape(*w12.shape, 1)\n",
    "\n",
    "lmax = ell.size\n",
    "for ii,ll in enumerate(ell_[:lmax]):\n",
    "    if ii%20 ==0: print(ii) \n",
    "        \n",
    "    res1 = np.sum(w11*w12*chi1fac0* chi2fac0*I2D2[ii].T, axis=(0, 1))\n",
    "    \n",
    "    result += [np.real(np.sum(res1[0:-1]*c_n[0:-1]*2.)+res1[-1]*c_n[-1])]\n",
    "Cl4=chi_cmb * np.real(np.asarray(result))*4./np.pi**2*prefac**2/8.\n",
    "\n",
    "print('Time taken = ', time.time()-begin)"
   ]
  },
  {
   "cell_type": "code",
   "execution_count": 141,
   "metadata": {},
   "outputs": [
    {
     "data": {
      "text/plain": [
       "(2, 500)"
      ]
     },
     "execution_count": 141,
     "metadata": {},
     "output_type": "execute_result"
    },
    {
     "data": {
      "image/png": "[encoded data removed]",
      "text/plain": [
       "<Figure size 432x288 with 1 Axes>"
      ]
     },
     "metadata": {},
     "output_type": "display_data"
    }
   ],
   "source": [
    "plt.figure()\n",
    "plt.loglog(ell_,(ell_*(ell_+1.))**2*Clv/(2.*np.pi))\n",
    "# plt.loglog(ell_[:lmax],(ell_[:lmax]*(ell_[:lmax]+1.))**2*Cl2[:lmax]/(2.*np.pi))\n",
    "plt.loglog(ell_[:lmax],(ell_[:lmax]*(ell_[:lmax]+1.))**2*Cl3[:lmax]/(2.*np.pi))\n",
    "# plt.loglog(ell_[:lmax],(ell_[:lmax]*(ell_[:lmax]+1.))**2*Cl33[:lmax]/(2.*np.pi))\n",
    "plt.xlim(2,500)"
   ]
  },
  {
   "cell_type": "code",
   "execution_count": 142,
   "metadata": {},
   "outputs": [
    {
     "data": {
      "text/plain": [
       "<matplotlib.legend.Legend at 0x7f00815d9780>"
      ]
     },
     "execution_count": 142,
     "metadata": {},
     "output_type": "execute_result"
    },
    {
     "data": {
      "image/png": "[encoded data removed]",
      "text/plain": [
       "<Figure size 432x288 with 1 Axes>"
      ]
     },
     "metadata": {},
     "output_type": "display_data"
    }
   ],
   "source": [
    "ll,clpp,clpp2 = np.loadtxt('class_ouput.out')\n",
    "\n",
    "plt.figure()#\n",
    "plt.semilogx(ell_,Clv/np.interp(ell_,ll,clpp), label='nessa')\n",
    "# plt.semilogx(ell_,Cl2/np.interp(ell_,ll,clpp), ls=\"--\", lw=2, label='genkern')\n",
    "plt.semilogx(ell_,Cl3/np.interp(ell_,ll,clpp), ls=\":\", lw=3, label='mcSpeedy')\n",
    "# plt.semilogx(ell_[:lmax], Cl2[:lmax]/np.interp(ell_[:lmax],ll,clpp), ls=\"--\", label='our result over CLASS no Limber')\n",
    "plt.ylim(0.95,1.05)\n",
    "# plt.ylim(0.9,2)\n",
    "plt.grid()\n",
    "plt.legend()"
   ]
  },
  {
   "cell_type": "markdown",
   "metadata": {},
   "source": [
    "\n",
    "# Clgg"
   ]
  },
  {
   "cell_type": "code",
   "execution_count": 48,
   "metadata": {},
   "outputs": [
    {
     "data": {
      "text/plain": [
       "(array(9416.06644934), array(1099.47963528))"
      ]
     },
     "execution_count": 48,
     "metadata": {},
     "output_type": "execute_result"
    }
   ],
   "source": [
    "chi_z(1100), z_chi(9416)"
   ]
  },
  {
   "cell_type": "code",
   "execution_count": 112,
   "metadata": {},
   "outputs": [
    {
     "name": "stdout",
     "output_type": "stream",
     "text": [
      "0\n",
      "20\n",
      "40\n",
      "60\n",
      "80\n",
      "100\n",
      "120\n",
      "140\n",
      "160\n",
      "180\n",
      "200\n",
      "220\n",
      "240\n",
      "260\n",
      "280\n",
      "Time taken =  12.450629234313965\n"
     ]
    }
   ],
   "source": [
    "### TAttempting Clgg here\n",
    "##Also, no need to estimate the kernels again and again since they are independent of \\ell and \\nu\n",
    "##This way we reduce calls to interpolate and stuff\n",
    "##Well, some things depend on \\nu so Use \\nu as the third axes so that all the \\chi kernels can be estimated beforehand\n",
    "\n",
    "def Wgauss(xi, xi0, sigz=0.3):\n",
    "    z0 = z_chi(xi0)\n",
    "    z1, z2 = z0-sigz/2., z0+sigz/2.\n",
    "    xi1, xi2 = chi_z(z1), chi_z(z2)\n",
    "    sigxi = xi2-xi1\n",
    "    return 1/np.sqrt(2*np.pi*sigxi**2) * np.exp(- (xi-xi0)**2/2/sigxi**2) \n",
    "\n",
    "\n",
    "begin=time.time()\n",
    "\n",
    "r2d, t2d = np.meshgrid(t_,t_)\n",
    "w11, w12 = np.meshgrid(w1,w1)\n",
    "I2D2 = np.swapaxes(I2D, 2, 3) #order of 'r' and 't' is confusing to me\n",
    "\n",
    "result=[]\n",
    "\n",
    "z10, z20, sigz = 1, 1, 0.05\n",
    "chi10, chi20 = chi_z(z10), chi_z(z20)\n",
    "chimax = chi_z(z20+3*sigz)\n",
    "\n",
    "chi1fac0 = (Wgauss(r2d*chimax, chi10, sigz)*D_chi(r2d*chimax)).reshape(*r2d.shape, 1)\n",
    "chi1fac0 = chi1fac0 *(r2d*chimax).reshape(*r2d.shape, 1)**(1-(2+nu_n_).reshape(1, 1, -1))\n",
    "\n",
    "chi2fac00 = (Wgauss(t2d*r2d*chimax, chi20, sigz)*D_chi(r2d*t2d*chimax)).reshape(*r2d.shape, 1)\n",
    "chi2fac01 = (Wgauss(1/t2d*r2d*chimax, chi20, sigz)*D_chi(r2d*1/t2d*chimax)).reshape(*r2d.shape, 1)\n",
    "chi2fac01 = chi2fac01 * t2d.reshape(*r2d.shape, 1)**((2+nu_n_).reshape(1, 1, -1)-2)\n",
    "chi2fac0 = chi2fac00 + chi2fac01\n",
    "\n",
    "w11, w12 = w11.reshape(*w11.shape, 1), w12.reshape(*w12.shape, 1)\n",
    "\n",
    "lmax = ell.size\n",
    "for ii,ll in enumerate(ell_[:lmax]):\n",
    "    if ii%20 ==0: print(ii) \n",
    "        \n",
    "    res1 = np.sum(w11*w12*chi1fac0* chi2fac0*I2D2[ii].T, axis=(0, 1))\n",
    "    \n",
    "    result += [np.real(np.sum(res1[0:-1]*c_n[0:-1]*2.)+res1[-1]*c_n[-1])]\n",
    "Cl33 = chimax * np.real(np.asarray(result))*4./np.pi**2/8.\n",
    "\n",
    "print('Time taken = ', time.time()-begin)"
   ]
  },
  {
   "cell_type": "code",
   "execution_count": 113,
   "metadata": {},
   "outputs": [
    {
     "data": {
      "text/plain": [
       "[]"
      ]
     },
     "execution_count": 113,
     "metadata": {},
     "output_type": "execute_result"
    },
    {
     "data": {
      "image/png": "[encoded data removed]",
      "text/plain": [
       "<Figure size 432x288 with 1 Axes>"
      ]
     },
     "metadata": {},
     "output_type": "display_data"
    }
   ],
   "source": [
    "plt.plot(ell_, Cl33)\n",
    "plt.loglog()"
   ]
  },
  {
   "cell_type": "code",
   "execution_count": 103,
   "metadata": {},
   "outputs": [
    {
     "data": {
      "image/png": "[encoded data removed]",
      "text/plain": [
       "<Figure size 432x288 with 1 Axes>"
      ]
     },
     "metadata": {},
     "output_type": "display_data"
    }
   ],
   "source": [
    "txi = np.linspace(1000, 5000, 100)\n",
    "plt.plot(t_*txi, Wgauss(t_*txi, chi_z(1)), '.')\n",
    "plt.plot(txi, Wgauss(txi, chi_z(1.5)))\n",
    "plt.plot(txi, Wgauss(txi, chi_z(1)))\n",
    "plt.axvline(chi_z(2.5))\n",
    "plt.axvline(chi_z(2))\n",
    "plt.yscale('log')"
   ]
  }
 ],
 "metadata": {
  "kernelspec": {
   "display_name": "Python 3",
   "language": "python",
   "name": "python3"
  },
  "language_info": {
   "codemirror_mode": {
    "name": "ipython",
    "version": 3
   },
   "file_extension": ".py",
   "mimetype": "text/x-python",
   "name": "python",
   "nbconvert_exporter": "python",
   "pygments_lexer": "ipython3",
   "version": "3.6.5"
  }
 },
 "nbformat": 4,
 "nbformat_minor": 2
}
