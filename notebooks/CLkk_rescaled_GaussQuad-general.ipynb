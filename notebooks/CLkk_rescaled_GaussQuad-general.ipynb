{
 "cells": [
  {
   "cell_type": "code",
   "execution_count": null,
   "metadata": {},
   "outputs": [],
   "source": [
    "import numpy as np\n",
    "import matplotlib.pyplot as plt"
   ]
  },
  {
   "cell_type": "code",
   "execution_count": null,
   "metadata": {},
   "outputs": [],
   "source": [
    "# path = '/global/homes/e/ecastori/PostBorn/'\n",
    "path = '../PostBornEma/'"
   ]
  },
  {
   "cell_type": "code",
   "execution_count": null,
   "metadata": {},
   "outputs": [],
   "source": [
    "data = np.loadtxt(path+'FFT_k-1Pk.dat',skiprows=2)\n",
    "\n",
    "#----------------------#\n",
    "n         = data[:,0]\n",
    "Re_c_n    = data[:,1]\n",
    "Im_c_n    = data[:,2]\n",
    "Re_nu_n   = data[:,3]\n",
    "Im_nu_n   = data[:,4]\n",
    "#----------------------#\n",
    "\n",
    "c_n  = Re_c_n  + 1j * Im_c_n\n",
    "nu_n = Re_nu_n + 1j * Im_nu_n"
   ]
  },
  {
   "cell_type": "code",
   "execution_count": null,
   "metadata": {},
   "outputs": [],
   "source": [
    "### When reading Ema's files for the first time\n",
    "\n",
    "# data = np.loadtxt(path+'Il_nu_t_new1.dat',skiprows=1)\n",
    "# # data = np.loadtxt(path+'Il_nu_t.dat',skiprows=1)\n",
    "\n",
    "# #----------------------#\n",
    "# ell       = data[:,0]\n",
    "# nn        = data[:,1]\n",
    "# tt        = data[:,2]\n",
    "# Re_I      = data[:,3]\n",
    "# Im_I      = data[:,4]\n",
    "# #----------------------#\n",
    "\n",
    "# I_ = Re_I + 1j * Im_I\n",
    "\n",
    "# # np.save('../PostBornEma/Il_nu_t_new1-ell-nn-tt.dat', np.stack((ell, nn, tt), axis=1))\n",
    "# # np.save('../PostBornEma/Il_nu_t_new1-ReI-ImI.dat', np.stack((Re_I, Im_I), axis=1))"
   ]
  },
  {
   "cell_type": "code",
   "execution_count": null,
   "metadata": {},
   "outputs": [],
   "source": [
    "data =  np.load(path+'Il_nu_t_new1-ell-nn-tt.npy')\n",
    "ell       = data[:,0]\n",
    "nn        = data[:,1]\n",
    "tt        = data[:,2]\n",
    "#----------------------#\n",
    "\n",
    "data =  np.load(path+'Il_nu_t_new1-ReI-ImI.npy')\n",
    "Re_I      = data[:,0]\n",
    "Im_I      = data[:,1]\n",
    "#----------------------#\n",
    "\n",
    "I_ = Re_I + 1j * Im_I"
   ]
  },
  {
   "cell_type": "code",
   "execution_count": null,
   "metadata": {},
   "outputs": [],
   "source": [
    "data = np.loadtxt(path+'GG_weights.dat',skiprows=2)\n",
    "t1   = data[:,0]\n",
    "w1   = data[:,1]"
   ]
  },
  {
   "cell_type": "code",
   "execution_count": null,
   "metadata": {},
   "outputs": [],
   "source": [
    "print(np.unique(tt)-t1)"
   ]
  },
  {
   "cell_type": "code",
   "execution_count": null,
   "metadata": {},
   "outputs": [],
   "source": [
    "#cosmology\n",
    "h         = 0.6770\n",
    "omega_cdm = 0.11923\n",
    "omega_b   = 0.02247\n",
    "Omega_b   = omega_b/h**2\n",
    "Omega_cdm = omega_cdm/h**2\n",
    "Omega_m   = Omega_b+Omega_cdm\n",
    "ns        = 0.96824\n",
    "A0        = 2.10732*10**(-9)\n",
    "\n",
    "#dictionary for class\n",
    "cosmo_dict={'h': h,\n",
    "'omega_b' : omega_b,\n",
    "'omega_cdm': omega_cdm,\n",
    "'A_s'    : A0,\n",
    "'n_s'    : ns,\n",
    "'k_pivot' : 0.05}\n",
    "print(cosmo_dict)\n",
    "\n",
    "# speed of light\n",
    "c      = 299792458./1000. # km/s\n",
    "\n",
    "#prefactor for Cl_kk computation from Cl_dd\n",
    "prefac = 1.5*Omega_m*(100.)**2/c**2 #without h"
   ]
  },
  {
   "cell_type": "code",
   "execution_count": null,
   "metadata": {},
   "outputs": [],
   "source": [
    "from classy import Class\n",
    "cosmo = Class()\n",
    "cosmo.set(cosmo_dict)\n",
    "cosmo.compute()\n",
    "cosmo_b               = cosmo.get_background()\n",
    "\n",
    "class_z               = cosmo_b['z'][::-1]\n",
    "class_chi             = cosmo_b['comov. dist.'][::-1]\n",
    "class_D               = cosmo_b['gr.fac. D'][::-1]#/cosmo_b['gr.fac. D'][-1]\n",
    "\n",
    "derivParams           = cosmo.get_current_derived_parameters(['z_rec'])\n",
    "z_cmb                 = derivParams['z_rec']\n",
    "\n",
    "\n",
    "from scipy.interpolate import interp1d\n",
    "from scipy.interpolate import InterpolatedUnivariateSpline as ius\n",
    "chi_z = interp1d(class_z,class_chi*h, bounds_error=False, fill_value=0)\n",
    "z_chi = interp1d(class_chi*h,class_z, bounds_error=False, fill_value=0)   # Mpc/h\n",
    "D_chi = interp1d(class_chi*h,class_D, bounds_error=False, fill_value=0)    # growth\n",
    "D_z   = interp1d(class_z,class_D, bounds_error=False, fill_value=0)\n",
    "# chi_cmb\n",
    "chi_cmb = chi_z(z_cmb)\n",
    "\n"
   ]
  },
  {
   "cell_type": "code",
   "execution_count": null,
   "metadata": {},
   "outputs": [],
   "source": [
    "print(chi_z(1100),chi_z(z_cmb))"
   ]
  },
  {
   "cell_type": "code",
   "execution_count": null,
   "metadata": {},
   "outputs": [],
   "source": [
    "z = np.linspace(0,5,100)\n",
    "plt.figure()\n",
    "plt.plot(class_z,class_D,ls='-')\n",
    "plt.plot(z,D_z(z),ls='--')\n",
    "plt.plot(z,1/(1+z),ls='-.')\n",
    "plt.xlim(0,5)\n",
    "plt.show()\n",
    "D_z(0)"
   ]
  },
  {
   "cell_type": "code",
   "execution_count": null,
   "metadata": {},
   "outputs": [],
   "source": [
    "z=np.linspace(0.,10,200)\n",
    "plt.figure()\n",
    "plt.loglog(z,chi_z(z))\n",
    "plt.show()\n",
    "plt.figure()\n",
    "plt.plot(z,D_z(z)/D_chi(chi_z(z)))\n",
    "plt.show()\n",
    "# plt.figure()\n",
    "# plt.loglog(z,)\n",
    "# plt.show()\n",
    "# plt.figure()\n",
    "# plt.loglog(z,z_chi(chi_z(z)))\n",
    "# plt.show()"
   ]
  },
  {
   "cell_type": "code",
   "execution_count": null,
   "metadata": {},
   "outputs": [],
   "source": [
    "D_chi(chi_z(0.1))"
   ]
  },
  {
   "cell_type": "markdown",
   "metadata": {},
   "source": [
    "# Setup"
   ]
  },
  {
   "cell_type": "code",
   "execution_count": null,
   "metadata": {},
   "outputs": [],
   "source": [
    "def set_kernel(chi_max):\n",
    "    def kernel(chi):\n",
    "        return (1.+z_chi(chi))*D_chi(chi)\n",
    "    return kernel"
   ]
  },
  {
   "cell_type": "code",
   "execution_count": null,
   "metadata": {},
   "outputs": [],
   "source": [
    "D = set_kernel(chi_cmb)"
   ]
  },
  {
   "cell_type": "code",
   "execution_count": null,
   "metadata": {},
   "outputs": [],
   "source": [
    "ell"
   ]
  },
  {
   "cell_type": "code",
   "execution_count": null,
   "metadata": {},
   "outputs": [],
   "source": [
    "ell_ = np.unique(ell)\n",
    "nu_n_= np.unique(nu_n) \n",
    "t_=np.unique(tt)\n",
    "assert(np.allclose(t_,t1))\n",
    "\n",
    "print(nu_n_)\n",
    "print(ell_)\n",
    "print(np.unique(tt))\n",
    "print(len(nu_n_),len(n),len(c_n),len(t_))\n",
    "print(len(tt),len(I_))"
   ]
  },
  {
   "cell_type": "code",
   "execution_count": null,
   "metadata": {},
   "outputs": [],
   "source": [
    "# m=0\n",
    "# I_array=np.zeros((len(ell_),len(nu_n_),len(t_)),dtype=np.complex64)\n",
    "# I2D = np.zeros((len(ell_),len(nu_n_),len(t_),len(t_)),dtype=np.complex64)\n",
    "# for ii,ll in enumerate(ell_):\n",
    "#     for jj, nu in enumerate(nu_n_):\n",
    "#             #for kk, _ in enumerate(t_):\n",
    "#         I_array[ii,jj,:]=I_[m:m+len(t_)]\n",
    "#         _, I2D_ = np.meshgrid(t_,I_array[ii,jj])\n",
    "#         I2D[ii][jj] = I2D_\n",
    "#         m+=len(t_)\n",
    "m=0\n",
    "I2D = np.zeros((len(ell_),len(nu_n_),len(t_),len(t_)),dtype=np.complex64)\n",
    "for ii,ll in enumerate(ell_):\n",
    "    for jj, nu in enumerate(nu_n_):\n",
    "        I2D[ii][jj] = np.meshgrid(t_,I_[m:m+len(t_)])[1]\n",
    "        m+=len(t_)"
   ]
  },
  {
   "cell_type": "markdown",
   "metadata": {},
   "source": [
    "# Integrals here"
   ]
  },
  {
   "cell_type": "code",
   "execution_count": null,
   "metadata": {},
   "outputs": [],
   "source": [
    "from scipy.integrate import simps, quadrature\n",
    "from scipy.interpolate import interp1d\n",
    "import time\n"
   ]
  },
  {
   "cell_type": "code",
   "execution_count": null,
   "metadata": {},
   "outputs": [],
   "source": [
    "r2d, t2d = np.meshgrid(t_,t_)\n",
    "w11, w12 = np.meshgrid(w1,w1)\n",
    "begin=time.time()\n",
    "resultv=[]\n",
    "for ii,ll in enumerate(ell_):\n",
    "    if ii%20 ==0: print(ii)\n",
    "    res1=[]\n",
    "    for jj, nu in enumerate(nu_n_):\n",
    "        #_, I2D = np.meshgrid(t_,I_array[ii,jj])\n",
    "        integrand=(1.-r2d*t2d)/t2d*(1.-r2d)/r2d*I2D[ii][jj]*D(r2d*t2d*chi_cmb)*D(r2d*chi_cmb)*(r2d*chi_cmb)**(-nu)\n",
    "        res1+=[np.sum(w11*w12*integrand)]\n",
    "    resultv+=[np.real(np.sum(res1[0:-1]*c_n[0:-1]*2.)+res1[-1]*c_n[-1])]\n",
    "print('Time taken = ', time.time()-begin)\n",
    "\n",
    "Clv = np.real(np.asarray(resultv))*4./np.pi**2*prefac**2/4.\n"
   ]
  },
  {
   "cell_type": "code",
   "execution_count": null,
   "metadata": {},
   "outputs": [],
   "source": [
    "###Introduce a general kernel here \n",
    "\n",
    "def Wkernel(xi, xmax):\n",
    "    return (xmax - xi)/(xmax*xi) * (xmax > xi)\n",
    "\n",
    "# def Wout(r, xmax):\n",
    "#     x1 = r*xmax\n",
    "#     return (xmax - x1)/(xmax*x1) * (xmax > x1)\n",
    "\n",
    "# def Win(t, r, xmax):\n",
    "#     x2 = r*t*xmax\n",
    "#     return (xmax - x2)/(xmax*x2) * (xmax > x2)\n",
    "\n",
    "\n",
    "r2d, t2d = np.meshgrid(t_,t_)\n",
    "w11, w12 = np.meshgrid(w1,w1)\n",
    "begin=time.time()\n",
    "result=[]\n",
    "for ii,ll in enumerate(ell_):\n",
    "    if ii%20 ==0: print(ii)\n",
    "    res1=[]\n",
    "    for jj, nu in enumerate(nu_n_):\n",
    "        #_, I2D = np.meshgrid(t_,I_array[ii,jj])\n",
    "        ww = Wkernel(r2d*chi_cmb, chi_cmb) *Wkernel(r2d*t2d*chi_cmb, chi_cmb)\n",
    "        integrand=ww*I2D[ii][jj]*D(r2d*t2d*chi_cmb)*D(r2d*chi_cmb)*(r2d*chi_cmb)**(1-nu)\n",
    "        res1+=[np.sum(w11*w12*integrand)]\n",
    "    result+=[np.real(np.sum(res1[0:-1]*c_n[0:-1]*2.)+res1[-1]*c_n[-1])]\n",
    "print('Time taken = ', time.time()-begin)\n",
    "Cl2=chi_cmb * np.real(np.asarray(result))*4./np.pi**2*prefac**2/4.\n"
   ]
  },
  {
   "cell_type": "code",
   "execution_count": null,
   "metadata": {},
   "outputs": [],
   "source": [
    "# # def Wout(r, xmax):\n",
    "# #     x1 = r*xmax\n",
    "# #     return (xmax - x1)/(xmax*x1) * (xmax > x1)\n",
    "\n",
    "# # def Win(t, r, xmax):\n",
    "# #     x2 = r*t*xmax\n",
    "# #     return (xmax - x2)/(xmax*x2) * (xmax > x2)\n",
    "\n",
    "# def Wkernel(xi, xmax):\n",
    "#     return (xmax - xi)/(xmax*xi) * (xmax > xi)\n",
    "\n",
    "\n",
    "# r2d, t2d = np.meshgrid(t_,t_)\n",
    "# w11, w12 = np.meshgrid(w1,w1)\n",
    "# begin=time.time()\n",
    "# result=[]\n",
    "# lmax = 10\n",
    "# for ii,ll in enumerate(ell_[:lmax]):\n",
    "#     if ii%20 ==0: print(ii)\n",
    "#     res1, res2=[], []\n",
    "#     for jj, nu in enumerate(nu_n_):\n",
    "# #         ww = Wout(r2d, chi_cmb) *Win(t2d, r2d, chi_cmb)\n",
    "# #         integrand=ww*I2D[ii][jj]*D(r2d*t2d*chi_cmb)*D(r2d*chi_cmb)*(r2d*chi_cmb)**(1-nu)\n",
    "# #         res1+=[np.sum(w11*w12*integrand)]\n",
    "    \n",
    "# #         ww = Wout(r2d, chi_cmb) *Win(1/t2d, r2d, chi_cmb)\n",
    "# #         integrand=ww*I2D[ii][jj]*D(r2d*1/t2d*chi_cmb)*D(r2d*chi_cmb)*(r2d*chi_cmb)**(1-nu) * t2d**(nu-2)\n",
    "# #         res2+=[np.sum(w11*w12*integrand)]    \n",
    "# #     r1 = np.real(np.sum(res1[0:-1]*c_n[0:-1]*2.)+res1[-1]*c_n[-1])\n",
    "# #     r2 = np.real(np.sum(res2[0:-1]*c_n[0:-1]*2.)+res2[-1]*c_n[-1])\n",
    "# #     result2 += [r1+r2]\n",
    "\n",
    "#         chi1fac = Wkernel(r2d*chi_cmb, chi_cmb)*D(r2d*chi_cmb)*(r2d*chi_cmb)**(1-nu)\n",
    "#         chi2fac = Wkernel(t2d*r2d*chi_cmb, chi_cmb)*D(r2d*t2d*chi_cmb) + \\\n",
    "#                         Wkernel(1/t2d*r2d*chi_cmb, chi_cmb)*D(r2d*1/t2d*chi_cmb)* t2d**(nu-2)\n",
    "\n",
    "#         integrand = chi1fac * chi2fac * I2D[ii][jj]\n",
    "#         res1+=[np.sum(w11*w12*integrand)]\n",
    "    \n",
    "#     result += [np.real(np.sum(res1[0:-1]*c_n[0:-1]*2.)+res1[-1]*c_n[-1])]\n",
    "# Cl3=chi_cmb * np.real(np.asarray(result))*4./np.pi**2*prefac**2/8.\n",
    "\n",
    "# print('Time taken = ', time.time()-begin)"
   ]
  },
  {
   "cell_type": "code",
   "execution_count": null,
   "metadata": {},
   "outputs": [],
   "source": [
    "# ### Try with the auto-spectra without symmetrizing so that we check the second term of Eq. 3.05\n",
    "# ##Also, no need to estimate the kernels again and again since some terms are independent of \\ell and \\nu.\n",
    "# ##This way we reduce calls to interpolate and stuff\n",
    "\n",
    "\n",
    "# def Wkernel(xi, xmax):\n",
    "#     return (xmax - xi)/(xmax*xi) * (xmax > xi)\n",
    "\n",
    "\n",
    "# r2d, t2d = np.meshgrid(t_,t_)\n",
    "# w11, w12 = np.meshgrid(w1,w1)\n",
    "# begin=time.time()\n",
    "# result=[]\n",
    "# lmax = ell_.size \n",
    "# chi1fac0 = Wkernel(r2d*chi_cmb, chi_cmb)*D(r2d*chi_cmb)\n",
    "# chi2fac00 = Wkernel(t2d*r2d*chi_cmb, chi_cmb)*D(r2d*t2d*chi_cmb) \n",
    "# chi2fac01 = Wkernel(1/t2d*r2d*chi_cmb, chi_cmb)*D(r2d*1/t2d*chi_cmb)\n",
    "\n",
    "# for ii,ll in enumerate(ell_[:lmax]):\n",
    "#     if ii%20 ==0: print(ii)\n",
    "#     res1, res2=[], []\n",
    "#     for jj, nu in enumerate(nu_n_):\n",
    "\n",
    "#         chi1fac = chi1fac0*(r2d*chi_cmb)**(1-nu)\n",
    "#         chi2fac = chi2fac00 + chi2fac01* t2d**(nu-2)\n",
    "\n",
    "#         integrand = chi1fac * chi2fac * I2D[ii][jj]\n",
    "#         res1+=[np.sum(w11*w12*integrand)]\n",
    "    \n",
    "#     result += [np.real(np.sum(res1[0:-1]*c_n[0:-1]*2.)+res1[-1]*c_n[-1])]\n",
    "# Cl3=chi_cmb * np.real(np.asarray(result))*4./np.pi**2*prefac**2/8.\n",
    "\n",
    "# print('Time taken = ', time.time()-begin)"
   ]
  },
  {
   "cell_type": "code",
   "execution_count": null,
   "metadata": {},
   "outputs": [],
   "source": [
    "### Try with the auto-spectra without symmetrizing so that we check the second term of Eq. 3.05\n",
    "##Also, no need to estimate the kernels again and again since they are independent of \\ell and \\nu\n",
    "##This way we reduce calls to interpolate and stuff\n",
    "##Well, some things depend on \\nu so Use \\nu as the third axes so that all the \\chi kernels can be estimated beforehand\n",
    "\n",
    "def Wkernel(xi, xmax):\n",
    "    return (xmax - xi)/(xmax*xi) * (xmax > xi)\n",
    "\n",
    "\n",
    "begin=time.time()\n",
    "\n",
    "r2d, t2d = np.meshgrid(t_,t_)\n",
    "w11, w12 = np.meshgrid(w1,w1)\n",
    "I2D2 = np.swapaxes(I2D, 2, 3) #order of 'r' and 't' is confusing to me\n",
    "\n",
    "result=[]\n",
    "\n",
    "chi1fac0 = (Wkernel(r2d*chi_cmb, chi_cmb)*D(r2d*chi_cmb)).reshape(*r2d.shape, 1)\n",
    "chi1fac0 = chi1fac0 *(r2d*chi_cmb).reshape(*r2d.shape, 1)**(1-nu_n_.reshape(1, 1, -1))\n",
    "\n",
    "chi2fac00 = (Wkernel(t2d*r2d*chi_cmb, chi_cmb)*D(r2d*t2d*chi_cmb)).reshape(*r2d.shape, 1)\n",
    "chi2fac01 = (Wkernel(1/t2d*r2d*chi_cmb, chi_cmb)*D(r2d*1/t2d*chi_cmb)).reshape(*r2d.shape, 1)\n",
    "chi2fac01 = chi2fac01 * t2d.reshape(*r2d.shape, 1)**(nu_n_.reshape(1, 1, -1)-2)\n",
    "chi2fac0 = chi2fac00 + chi2fac01\n",
    "w11, w12 = w11.reshape(*w11.shape, 1), w12.reshape(*w12.shape, 1)\n",
    "\n",
    "lmax = ell.size\n",
    "for ii,ll in enumerate(ell_[:lmax]):\n",
    "    if ii%20 ==0: print(ii) \n",
    "        \n",
    "    res1 = np.sum(w11*w12*chi1fac0* chi2fac0*I2D2[ii].T, axis=(0, 1))\n",
    "    \n",
    "    result += [np.real(np.sum(res1[0:-1]*c_n[0:-1]*2.)+res1[-1]*c_n[-1])]\n",
    "Cl3=chi_cmb * np.real(np.asarray(result))*4./np.pi**2*prefac**2/8.\n",
    "\n",
    "print('Time taken = ', time.time()-begin)"
   ]
  },
  {
   "cell_type": "code",
   "execution_count": null,
   "metadata": {},
   "outputs": [],
   "source": [
    "plt.figure()\n",
    "plt.loglog(ell_,(ell_*(ell_+1.))**2*Clv/(2.*np.pi))\n",
    "plt.loglog(ell_[:lmax],(ell_[:lmax]*(ell_[:lmax]+1.))**2*Cl2[:lmax]/(2.*np.pi))\n",
    "plt.loglog(ell_[:lmax],(ell_[:lmax]*(ell_[:lmax]+1.))**2*Cl3[:lmax]/(2.*np.pi))\n",
    "plt.xlim(2,500)"
   ]
  },
  {
   "cell_type": "code",
   "execution_count": null,
   "metadata": {},
   "outputs": [],
   "source": [
    "ll,clpp,clpp2 = np.loadtxt('class_ouput.out')\n",
    "\n",
    "plt.figure()#\n",
    "plt.semilogx(ell_,Clv/np.interp(ell_,ll,clpp), label='nessa')\n",
    "plt.semilogx(ell_,Cl2/np.interp(ell_,ll,clpp), ls=\"--\", lw=2, label='genkern')\n",
    "plt.semilogx(ell_,Cl3/np.interp(ell_,ll,clpp), ls=\":\", lw=3, label='mcSpeedy')\n",
    "# plt.semilogx(ell_[:lmax], Cl2[:lmax]/np.interp(ell_[:lmax],ll,clpp), ls=\"--\", label='our result over CLASS no Limber')\n",
    "plt.ylim(0.95,1.05)\n",
    "# plt.ylim(0.9,2)\n",
    "plt.grid()\n",
    "plt.legend()"
   ]
  },
  {
   "cell_type": "code",
   "execution_count": null,
   "metadata": {},
   "outputs": [],
   "source": []
  }
 ],
 "metadata": {
  "kernelspec": {
   "display_name": "Python 3",
   "language": "python",
   "name": "python3"
  },
  "language_info": {
   "codemirror_mode": {
    "name": "ipython",
    "version": 3
   },
   "file_extension": ".py",
   "mimetype": "text/x-python",
   "name": "python",
   "nbconvert_exporter": "python",
   "pygments_lexer": "ipython3",
   "version": "3.6.5"
  }
 },
 "nbformat": 4,
 "nbformat_minor": 2
}
