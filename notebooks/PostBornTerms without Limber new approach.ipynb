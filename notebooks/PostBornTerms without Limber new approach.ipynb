{
 "cells": [
  {
   "cell_type": "code",
   "execution_count": 1,
   "metadata": {},
   "outputs": [],
   "source": [
    "import numpy as np\n",
    "import matplotlib.pyplot as plt\n",
    "import sys\n",
    "import time\n",
    "from scipy.interpolate import RectBivariateSpline\n",
    "path = '../PostBornEma/'\n",
    "sys.path.append(\"../scripts/\") \n",
    "from lab import *"
   ]
  },
  {
   "cell_type": "markdown",
   "metadata": {},
   "source": [
    "### 1) Terms that also appear in Limber approximation"
   ]
  },
  {
   "cell_type": "markdown",
   "metadata": {},
   "source": [
    "#### Collecting all contributions from Eq.s 4.2-4.5 that are also non-zero in Limber\n",
    "\n",
    "Term 1:\n",
    "$- \\int_{\\vec{l}} [\\vec{L}\\cdot \\vec{l}] [\\vec{l}\\cdot (\\vec{L}-\\vec{l})]^2 \\int \\mathrm{d}\\chi \\int \\mathrm{d}\\chi' W(\\chi,\\chi_{CMB}) W^h(\\chi') C_l^{\\delta\\psi}(\\chi',\\chi) C_{|\\vec{L}-\\vec{l}|}^{\\phi\\phi}(\\chi',\\chi) = - \\int_{\\vec{l}} [\\vec{L}\\cdot \\vec{l}] [\\vec{l}\\cdot (\\vec{L}-\\vec{l})]^2 M^{A}(l,|\\vec{L}-\\vec{l}|)$\n",
    "after  transform $\\vec{l} \\rightarrow \\vec{l}+\\vec{L}$\n",
    "\n",
    "$\\int_{\\vec{l}} [\\vec{L}\\cdot  (\\vec{L}+\\vec{l})] [\\vec{l}\\cdot (\\vec{L}+\\vec{l})]^2 M^{A}( |\\vec{L}+\\vec{l}|,l)$\n",
    "\n",
    "Term 2: \n",
    "$ L^2 \\int_{\\vec{l}} [\\vec{L}\\cdot \\vec{l}]^2 \\int \\mathrm{d}\\chi \\int \\mathrm{d}\\chi' W(\\chi,\\chi_{CMB}) W^h(\\chi') C_L^{\\delta\\psi}(\\chi',\\chi) [\\frac{1}{2}C_{l}^{\\phi\\phi}(\\chi')+\\frac{1}{2}C_{l}^{\\phi\\phi}(\\chi)]$\n",
    "$ = L^2 \\int_{\\vec{l}} [\\vec{L}\\cdot \\vec{l}]^2 \\tilde{M}^{A}(L,l)$\n",
    "\n",
    "Comparison with Limber results suggest that we are missing a minus sign in Term 2. Will be coding with this Minus sign\n",
    "\n",
    "Adding Term 1 and 2 with trick from Krause & Hirata:\n",
    "$\\int_{\\vec{l}} [\\vec{L}\\cdot  (\\vec{L}+\\vec{l})] [\\vec{l}\\cdot (\\vec{L}+\\vec{l})]^2 [M^{A}( |\\vec{L}+\\vec{l}|,l)-\\tilde{M}^{A}(L,l)] +  \\left[\\int_{\\vec{l}} [\\vec{L}\\cdot  (\\vec{L}+\\vec{l})] [\\vec{l}\\cdot (\\vec{L}+\\vec{l})]^2-L^2[\\vec{L}\\cdot \\vec{l}]^2\\right] \\tilde{M}^{A}(L,l)$\n"
   ]
  },
  {
   "cell_type": "code",
   "execution_count": 50,
   "metadata": {},
   "outputs": [],
   "source": [
    "# naming corresponds to order of axes\n",
    "chi1s, chi2s, clphiphirt = np.load('../G_matrices/clphiphi_rt.npy')\n",
    "chi1s_, chi2s_, clphiphir_over_t = np.load('../G_matrices/clphiphi_r_over_t.npy')\n",
    "clphiphirt = np.swapaxes(clphiphirt,1,2)\n",
    "clphiphir_over_t = np.swapaxes(clphiphir_over_t,1,2)"
   ]
  },
  {
   "cell_type": "code",
   "execution_count": 51,
   "metadata": {},
   "outputs": [
    {
     "name": "stdout",
     "output_type": "stream",
     "text": [
      "(array([  1.92887131e-04,   1.01610380e-03,   2.49628944e-03,\n",
      "         4.63232690e-03,   7.42216945e-03,   1.08631008e-02,\n",
      "         1.49517621e-02,   1.96841596e-02,   2.50556701e-02,\n",
      "         3.10610455e-02,   3.76944181e-02,   4.49493067e-02,\n",
      "         5.28186228e-02,   6.12946773e-02,   7.03691885e-02,\n",
      "         8.00332899e-02,   9.02775388e-02,   1.01091926e-01,\n",
      "         1.12465884e-01,   1.24388301e-01,   1.36847526e-01,\n",
      "         1.49831387e-01,   1.63327196e-01,   1.77321768e-01,\n",
      "         1.91801428e-01,   2.06752029e-01,   2.22158963e-01,\n",
      "         2.38007175e-01,   2.54281181e-01,   2.70965080e-01,\n",
      "         2.88042569e-01,   3.05496964e-01,   3.23311208e-01,\n",
      "         3.41467898e-01,   3.59949291e-01,   3.78737330e-01,\n",
      "         3.97813657e-01,   4.17159633e-01,   4.36756356e-01,\n",
      "         4.56584678e-01,   4.76625225e-01,   4.96858415e-01,\n",
      "         5.17264480e-01,   5.37823480e-01,   5.58515328e-01,\n",
      "         5.79319806e-01,   6.00216586e-01,   6.21185250e-01,\n",
      "         6.42205311e-01,   6.63256230e-01,   6.84317437e-01,\n",
      "         7.05368356e-01,   7.26388417e-01,   7.47357081e-01,\n",
      "         7.68253861e-01,   7.89058339e-01,   8.09750187e-01,\n",
      "         8.30309187e-01,   8.50715252e-01,   8.70948442e-01,\n",
      "         8.90988989e-01,   9.10817311e-01,   9.30414034e-01,\n",
      "         9.49760010e-01,   9.68836338e-01,   9.87624377e-01,\n",
      "         1.00610577e+00,   1.02426246e+00,   1.04207670e+00,\n",
      "         1.05953110e+00,   1.07660859e+00,   1.09329249e+00,\n",
      "         1.10956649e+00,   1.12541470e+00,   1.14082164e+00,\n",
      "         1.15577224e+00,   1.17025190e+00,   1.18424647e+00,\n",
      "         1.19774228e+00,   1.21072614e+00,   1.22318537e+00,\n",
      "         1.23510778e+00,   1.24648174e+00,   1.25729613e+00,\n",
      "         1.26754038e+00,   1.27720448e+00,   1.28627899e+00,\n",
      "         1.29475504e+00,   1.30262436e+00,   1.30987925e+00,\n",
      "         1.31651262e+00,   1.32251800e+00,   1.32788951e+00,\n",
      "         1.33262191e+00,   1.33671057e+00,   1.34015150e+00,\n",
      "         1.34294134e+00,   1.34507738e+00,   1.34655756e+00,\n",
      "         1.34738078e+00]), array([  1.92887131e-04,   1.01610380e-03,   2.49628944e-03,\n",
      "         4.63232690e-03,   7.42216945e-03,   1.08631008e-02,\n",
      "         1.49517621e-02,   1.96841596e-02,   2.50556701e-02,\n",
      "         3.10610455e-02,   3.76944181e-02,   4.49493067e-02,\n",
      "         5.28186228e-02,   6.12946773e-02,   7.03691885e-02,\n",
      "         8.00332899e-02,   9.02775388e-02,   1.01091926e-01,\n",
      "         1.12465884e-01,   1.24388301e-01,   1.36847526e-01,\n",
      "         1.49831387e-01,   1.63327196e-01,   1.77321768e-01,\n",
      "         1.91801428e-01,   2.06752029e-01,   2.22158963e-01,\n",
      "         2.38007175e-01,   2.54281181e-01,   2.70965080e-01,\n",
      "         2.88042569e-01,   3.05496964e-01,   3.23311208e-01,\n",
      "         3.41467898e-01,   3.59949291e-01,   3.78737330e-01,\n",
      "         3.97813657e-01,   4.17159633e-01,   4.36756356e-01,\n",
      "         4.56584678e-01,   4.76625225e-01,   4.96858415e-01,\n",
      "         5.17264480e-01,   5.37823480e-01,   5.58515328e-01,\n",
      "         5.79319806e-01,   6.00216586e-01,   6.21185250e-01,\n",
      "         6.42205311e-01,   6.63256230e-01,   6.84317437e-01,\n",
      "         7.05368356e-01,   7.26388417e-01,   7.47357081e-01,\n",
      "         7.68253861e-01,   7.89058339e-01,   8.09750187e-01,\n",
      "         8.30309187e-01,   8.50715252e-01,   8.70948442e-01,\n",
      "         8.90988989e-01,   9.10817311e-01,   9.30414034e-01,\n",
      "         9.49760010e-01,   9.68836338e-01,   9.87624377e-01,\n",
      "         1.00610577e+00,   1.02426246e+00,   1.04207670e+00,\n",
      "         1.05953110e+00,   1.07660859e+00,   1.09329249e+00,\n",
      "         1.10956649e+00,   1.12541470e+00,   1.14082164e+00,\n",
      "         1.15577224e+00,   1.17025190e+00,   1.18424647e+00,\n",
      "         1.19774228e+00,   1.21072614e+00,   1.22318537e+00,\n",
      "         1.23510778e+00,   1.24648174e+00,   1.25729613e+00,\n",
      "         1.26754038e+00,   1.27720448e+00,   1.28627899e+00,\n",
      "         1.29475504e+00,   1.30262436e+00,   1.30987925e+00,\n",
      "         1.31651262e+00,   1.32251800e+00,   1.32788951e+00,\n",
      "         1.33262191e+00,   1.33671057e+00,   1.34015150e+00,\n",
      "         1.34294134e+00,   1.34507738e+00,   1.34655756e+00,\n",
      "         1.34738078e+00]))\n",
      "(array([  9.41459796e+03,   4.95948524e+04,   1.21841003e+05,\n",
      "         2.26098523e+05,   3.62267514e+05,   5.30215396e+05,\n",
      "         7.29778229e+05,   9.60761085e+05,   1.22293831e+06,\n",
      "         1.51605374e+06,   1.83982099e+06,   2.19392372e+06,\n",
      "         2.57801594e+06,   2.99172237e+06,   3.43463877e+06,\n",
      "         3.90633239e+06,   4.40634234e+06,   4.93418007e+06,\n",
      "         5.48932983e+06,   6.07124921e+06,   6.67936960e+06,\n",
      "         7.31309684e+06,   7.97181170e+06,   8.65487058e+06,\n",
      "         9.36160607e+06,   1.00913276e+07,   1.08433223e+07,\n",
      "         1.16168552e+07,   1.24111706e+07,   1.32254924e+07,\n",
      "         1.40590249e+07,   1.49109538e+07,   1.57804465e+07,\n",
      "         1.66666535e+07,   1.75687089e+07,   1.84857314e+07,\n",
      "         1.94168249e+07,   2.03610796e+07,   2.13175730e+07,\n",
      "         2.22853705e+07,   2.32635264e+07,   2.42510851e+07,\n",
      "         2.52470815e+07,   2.62505425e+07,   2.72604877e+07,\n",
      "         2.82759303e+07,   2.92958779e+07,   3.03193342e+07,\n",
      "         3.13452991e+07,   3.23727701e+07,   3.34007433e+07,\n",
      "         3.44282143e+07,   3.54541792e+07,   3.64776355e+07,\n",
      "         3.74975832e+07,   3.85130257e+07,   3.95229709e+07,\n",
      "         4.05264319e+07,   4.15224283e+07,   4.25099870e+07,\n",
      "         4.34881429e+07,   4.44559404e+07,   4.54124338e+07,\n",
      "         4.63566886e+07,   4.72877820e+07,   4.82048045e+07,\n",
      "         4.91068599e+07,   4.99930670e+07,   5.08625597e+07,\n",
      "         5.17144885e+07,   5.25480210e+07,   5.33623428e+07,\n",
      "         5.41566583e+07,   5.49301912e+07,   5.56821858e+07,\n",
      "         5.64119074e+07,   5.71186428e+07,   5.78017017e+07,\n",
      "         5.84604166e+07,   5.90941438e+07,   5.97022642e+07,\n",
      "         6.02841836e+07,   6.08393334e+07,   6.13671711e+07,\n",
      "         6.18671810e+07,   6.23388747e+07,   6.27817911e+07,\n",
      "         6.31954975e+07,   6.35795897e+07,   6.39336924e+07,\n",
      "         6.42574597e+07,   6.45505751e+07,   6.48127523e+07,\n",
      "         6.50437352e+07,   6.52432980e+07,   6.54112459e+07,\n",
      "         6.55474149e+07,   6.56516724e+07,   6.57239186e+07,\n",
      "         6.57640988e+07]), array([  9.41459796e+03,   4.95948524e+04,   1.21841003e+05,\n",
      "         2.26098523e+05,   3.62267514e+05,   5.30215396e+05,\n",
      "         7.29778229e+05,   9.60761085e+05,   1.22293831e+06,\n",
      "         1.51605374e+06,   1.83982099e+06,   2.19392372e+06,\n",
      "         2.57801594e+06,   2.99172237e+06,   3.43463877e+06,\n",
      "         3.90633239e+06,   4.40634234e+06,   4.93418007e+06,\n",
      "         5.48932983e+06,   6.07124921e+06,   6.67936960e+06,\n",
      "         7.31309684e+06,   7.97181170e+06,   8.65487058e+06,\n",
      "         9.36160607e+06,   1.00913276e+07,   1.08433223e+07,\n",
      "         1.16168552e+07,   1.24111706e+07,   1.32254924e+07,\n",
      "         1.40590249e+07,   1.49109538e+07,   1.57804465e+07,\n",
      "         1.66666535e+07,   1.75687089e+07,   1.84857314e+07,\n",
      "         1.94168249e+07,   2.03610796e+07,   2.13175730e+07,\n",
      "         2.22853705e+07,   2.32635264e+07,   2.42510851e+07,\n",
      "         2.52470815e+07,   2.62505425e+07,   2.72604877e+07,\n",
      "         2.82759303e+07,   2.92958779e+07,   3.03193342e+07,\n",
      "         3.13452991e+07,   3.23727701e+07,   3.34007433e+07,\n",
      "         3.44282143e+07,   3.54541792e+07,   3.64776355e+07,\n",
      "         3.74975832e+07,   3.85130257e+07,   3.95229709e+07,\n",
      "         4.05264319e+07,   4.15224283e+07,   4.25099870e+07,\n",
      "         4.34881429e+07,   4.44559404e+07,   4.54124338e+07,\n",
      "         4.63566886e+07,   4.72877820e+07,   4.82048045e+07,\n",
      "         4.91068599e+07,   4.99930670e+07,   5.08625597e+07,\n",
      "         5.17144885e+07,   5.25480210e+07,   5.33623428e+07,\n",
      "         5.41566583e+07,   5.49301912e+07,   5.56821858e+07,\n",
      "         5.64119074e+07,   5.71186428e+07,   5.78017017e+07,\n",
      "         5.84604166e+07,   5.90941438e+07,   5.97022642e+07,\n",
      "         6.02841836e+07,   6.08393334e+07,   6.13671711e+07,\n",
      "         6.18671810e+07,   6.23388747e+07,   6.27817911e+07,\n",
      "         6.31954975e+07,   6.35795897e+07,   6.39336924e+07,\n",
      "         6.42574597e+07,   6.45505751e+07,   6.48127523e+07,\n",
      "         6.50437352e+07,   6.52432980e+07,   6.54112459e+07,\n",
      "         6.55474149e+07,   6.56516724e+07,   6.57239186e+07,\n",
      "         6.57640988e+07]))\n"
     ]
    }
   ],
   "source": [
    "r2d, t2d = np.meshgrid(t_,t_)\n",
    "#checking if axes of clphiphi are ordered correctly\n",
    "print(np.swapaxes(chi2s,0,1)[0],(r2d*t2d*chi_cmb)[0])\n",
    "print(np.swapaxes(chi2s_,0,1)[0],(r2d/t2d*chi_cmb)[0])"
   ]
  },
  {
   "cell_type": "markdown",
   "metadata": {},
   "source": [
    "### Coding the new equation for Term 1:\n",
    "$\\frac{\\mathcal A}{2 \\pi^2} \\sum_n \\int dr \\chi_{cmb}^{-\\nu} r^{-\\nu-1} W(r \\chi_{cmb},\\chi_{cmb}) [1+z(r \\chi_{cmb})] D(r \\chi_{cmb})\\int dt I^{(2)}(\\nu_n, t)[ D(tr  \\chi_{cmb})W_h(tr  \\chi_{cmb}) C_{l1}^{\\phi\\phi}(tr  \\chi_{cmb},r \\chi_{cmb}+ t^\\nu D(r/t  \\chi_{cmb})W_h(r/t  \\chi_{cmb}) C_{l1}^{\\phi\\phi}(r/t  \\chi_{cmb},r \\chi_{cmb}))]$"
   ]
  },
  {
   "cell_type": "code",
   "execution_count": null,
   "metadata": {},
   "outputs": [
    {
     "name": "stdout",
     "output_type": "stream",
     "text": [
      "0\n"
     ]
    },
    {
     "name": "stderr",
     "output_type": "stream",
     "text": [
      "/global/common/cori/software/python/2.7-anaconda-5.2/lib/python2.7/site-packages/ipykernel_launcher.py:40: ComplexWarning: Casting complex values to real discards the imaginary part\n"
     ]
    },
    {
     "name": "stdout",
     "output_type": "stream",
     "text": [
      "10\n",
      "20\n",
      "30\n",
      "40\n",
      "50\n",
      "60\n"
     ]
    }
   ],
   "source": [
    "#getting MA\n",
    "bin_num = 'all'\n",
    "def lensing_kernel(xi, xmax):\n",
    "    return (xmax - xi)/(xmax*xi) * (xmax > xi)\n",
    "\n",
    "kernel1 = lensing_kernel\n",
    "kernel2 = lsst_kernel_cb\n",
    "\n",
    "r2d, t2d = np.meshgrid(t_,t_)\n",
    "w11, w12 = np.meshgrid(w1,w1)\n",
    "#nu axis\n",
    "r2d, t2d = np.expand_dims(r2d, 2), np.expand_dims(t2d, 2)\n",
    "w11, w12 = np.expand_dims(w11, 2), np.expand_dims(w12, 2)\n",
    "\n",
    "clphiphirt_ = np.expand_dims(clphiphirt,-1)\n",
    "clphiphir_over_t_ = np.expand_dims(clphiphir_over_t,-1)\n",
    "\n",
    "result = np.zeros((len(ell_),len(ell_)))\n",
    "\n",
    "chimax  = chi_cmb\n",
    "\n",
    "n = 2\n",
    "\n",
    "begin=time.time()\n",
    "for nn in range(len(ell_)):\n",
    "    if nn%10==0:\n",
    "        print(nn)\n",
    "    chi1fac0 = (kernel1(r2d*chimax,chimax)*D_chi(r2d*chimax)*(1.+z_chi(r2d*chimax)))\n",
    "    chi1fac0 = chi1fac0 *(r2d*chimax)**(1-(n+nu_n_.reshape(1, 1, -1)))\n",
    "\n",
    "    chi2fac00 = (kernel2(t2d*r2d*chimax)*D_chi(r2d*t2d*chimax)*clphiphirt_[nn])\n",
    "    chi2fac01 = (kernel2(1./t2d*r2d*chimax)*D_chi(r2d/t2d*chimax)*clphiphir_over_t_[nn])\n",
    "    chi2fac01 = chi2fac01 * t2d**((n+nu_n_).reshape(1, 1, -1)-2)\n",
    "    chi2fac0  = chi2fac00 + chi2fac01\n",
    "\n",
    "    chifacs   = w11*w12*chi1fac0* chi2fac0\n",
    "\n",
    "    lmax = ell_.size\n",
    "    for ii  in range(ell_.size):        \n",
    "        result[nn][ii] = np.sum(chifacs*I2_ltrc[ii])\n",
    "        \n",
    "print(time.time()-begin)\n",
    "\n",
    "MA = chimax * result*1./np.pi**2/2.*prefac/4.\n",
    "MA_spline = RectBivariateSpline(ell_,ell_,MA)\n",
    "np.save('../M_matrices/MA_bin_%s'%str(bin_num),[ell_,ell_,MA])\n",
    "np.save('../M_matrices/MA_slpine_bin_%s'%str(bin_num),MA_spline)"
   ]
  },
  {
   "cell_type": "code",
   "execution_count": null,
   "metadata": {},
   "outputs": [],
   "source": [
    "plt.imshow(MA)"
   ]
  },
  {
   "cell_type": "code",
   "execution_count": 31,
   "metadata": {},
   "outputs": [
    {
     "data": {
      "text/plain": [
       "<matplotlib.colorbar.Colorbar at 0x2aaae81c7e50>"
      ]
     },
     "execution_count": 31,
     "metadata": {},
     "output_type": "execute_result"
    },
    {
     "data": {
      "image/png": "[encoded data removed]",
      "text/plain": [
       "<Figure size 432x288 with 2 Axes>"
      ]
     },
     "metadata": {},
     "output_type": "display_data"
    }
   ],
   "source": [
    "#chirags result\n",
    "cl22a = np.load('../output/cl22a-v2.npy')\n",
    "plt.imshow(np.log(cl22a))\n",
    "plt.colorbar()"
   ]
  },
  {
   "cell_type": "markdown",
   "metadata": {},
   "source": [
    "## Now that we have $M^A$ s: coding this equations\n",
    "$\\int_{\\vec{l}} [\\vec{L}\\cdot  (\\vec{L}+\\vec{l})] [\\vec{l}\\cdot (\\vec{L}+\\vec{l})]^2 [M^{A}( |\\vec{L}+\\vec{l}|,l)-\\tilde{M}^{A}(L,l)] +  \\left[\\int_{\\vec{l}} [\\vec{L}\\cdot  (\\vec{L}+\\vec{l})] [\\vec{l}\\cdot (\\vec{L}+\\vec{l})]^2-L^2[\\vec{L}\\cdot \\vec{l}]^2\\right] \\tilde{M}^{A}(L,l)$"
   ]
  },
  {
   "cell_type": "code",
   "execution_count": 52,
   "metadata": {},
   "outputs": [],
   "source": [
    "def get_regularized_sum_of_terms(L,L1,phi,M1,M2,method='trapz'):\n",
    "    nu = np.cos(phi)\n",
    "    res=[]\n",
    "    for LL in L:\n",
    "        resL1=[]\n",
    "        for LL1 in L1:\n",
    "            L_= LL*np.sqrt(1.+(LL1/LL)**2+2.*LL1/LL*nu)\n",
    "            integrand = LL1*(LL**2+LL*LL1*nu)*(LL1**2+LL*LL1*nu)**2*(M1(L_,LL1,grid=False)-M2(LL,LL1,grid=False))\n",
    "            if method =='simps':\n",
    "                resL1+=[simps(integrand,phi)]\n",
    "            elif method =='trapz':\n",
    "                resL1+=[np.trapz(integrand,phi)]\n",
    "            elif method =='sum':\n",
    "                resL1+=[np.sum(integrand*np.diff(phi)[0])]\n",
    "        res+=[simps(resL1,L1)]\n",
    "    res=np.asarray(res)/(2*np.pi)**2\n",
    "    return res\n",
    "\n",
    "\n",
    "#numerical angular integration\n",
    "def get_second_sum_of_terms(L,L1,M,method='trapz'):\n",
    "    nu = np.cos(phi)\n",
    "    res=[]\n",
    "    for LL in L:\n",
    "        resL1=[]\n",
    "        for LL1 in L1:\n",
    "            integrand =  LL1*((LL**2+LL*LL1*nu)*(LL1**2+LL*LL1*nu)**2-LL**2*(LL*LL1*nu)**2)*(M(LL,LL1,grid=False))\n",
    "            if method =='simps':\n",
    "                resL1+=[simps(integrand,phi)]\n",
    "            elif method =='trapz':\n",
    "                resL1+=[np.trapz(integrand,phi)]\n",
    "            elif method =='sum':\n",
    "                resL1+=[np.sum(integrand*np.diff(phi)[0])]\n",
    "        res+=[simps(resL1,L1)]\n",
    "    res=np.asarray(res)/(2*np.pi)**2\n",
    "    return res"
   ]
  },
  {
   "cell_type": "code",
   "execution_count": 53,
   "metadata": {},
   "outputs": [],
   "source": [
    "# use same sampling as in Limber case\n",
    "L     = np.logspace(1,4,400)\n",
    "\n",
    "# sampling for integrations\n",
    "phi = np.linspace(0.,2.*np.pi,1000,endpoint=True)\n",
    "L1  = np.logspace(-1,5,400)"
   ]
  },
  {
   "cell_type": "code",
   "execution_count": 88,
   "metadata": {},
   "outputs": [
    {
     "name": "stdout",
     "output_type": "stream",
     "text": [
      "79.4322669506073\n"
     ]
    }
   ],
   "source": [
    "begin = time.time()\n",
    "all_bins = get_regularized_sum_of_terms(L,L1,phi,MA2,tildeMA2,method='trapz')+get_second_sum_of_terms(L,L1,tildeMA2,method='trapz')\n",
    "print(time.time()-begin)"
   ]
  },
  {
   "cell_type": "code",
   "execution_count": 55,
   "metadata": {},
   "outputs": [],
   "source": [
    "L, corrs = np.load('../output/LimberPostBornResultsLSST.npy')"
   ]
  },
  {
   "cell_type": "code",
   "execution_count": 56,
   "metadata": {},
   "outputs": [
    {
     "data": {
      "text/plain": [
       "<matplotlib.legend.Legend at 0x2aaadaf9bd30>"
      ]
     },
     "execution_count": 56,
     "metadata": {},
     "output_type": "execute_result"
    },
    {
     "data": {
      "image/png": "[encoded data removed]",
      "text/plain": [
       "<Figure size 432x288 with 1 Axes>"
      ]
     },
     "metadata": {
      "needs_background": "light"
     },
     "output_type": "display_data"
    }
   ],
   "source": [
    "plt.figure()\n",
    "plt.title('post born correction')\n",
    "plt.loglog(L,corrs[-1],label='Limber',color='g')\n",
    "plt.loglog(L,-corrs[-1],color='g',ls='--')\n",
    "plt.loglog(L,all_bins,label='no Limber',color='b')\n",
    "plt.loglog(L,-all_bins,color='b',ls='--')\n",
    "plt.legend()"
   ]
  },
  {
   "cell_type": "markdown",
   "metadata": {},
   "source": [
    "### Compare only the 31 term, which can be done analytically\n",
    "$L^2 \\int_{\\vec{l}} [\\vec{L}\\cdot \\vec{l}]^2 \\tilde{M}^{A}(L,l)$"
   ]
  },
  {
   "cell_type": "code",
   "execution_count": 94,
   "metadata": {},
   "outputs": [],
   "source": [
    "L,Cl31s = np.load('../output/LimberPostBornCl31_kappa-gal.npy')\n",
    "\n",
    "L,Cl31_cut = np.load('../output/LimberPostBornCl31_kappa-gal_all_cut.npy')"
   ]
  },
  {
   "cell_type": "code",
   "execution_count": 89,
   "metadata": {},
   "outputs": [],
   "source": [
    "def get_31_term(M,L,L1):\n",
    "    return L**4/4./np.pi*np.trapz(M(L,L1)*L1**3,L1)"
   ]
  },
  {
   "cell_type": "code",
   "execution_count": 90,
   "metadata": {},
   "outputs": [],
   "source": [
    "myCl31 = get_31_term(tildeMA2,L,L1)"
   ]
  },
  {
   "cell_type": "code",
   "execution_count": 160,
   "metadata": {},
   "outputs": [
    {
     "data": {
      "text/plain": [
       "<matplotlib.legend.Legend at 0x2aac7405fe48>"
      ]
     },
     "execution_count": 160,
     "metadata": {},
     "output_type": "execute_result"
    },
    {
     "data": {
      "image/png": "[encoded data removed]",
      "text/plain": [
       "<Figure size 432x288 with 1 Axes>"
      ]
     },
     "metadata": {
      "needs_background": "light"
     },
     "output_type": "display_data"
    }
   ],
   "source": [
    "plt.loglog(L,myCl31,label='cut result no Limber')\n",
    "plt.loglog(L,-Cl31s[-1],label = 'full result Limber' )\n",
    "plt.loglog(L,-Cl31_cut,label = 'cut result Limber', ls = '--' )\n",
    "plt.ylim(1e-13,1e-9)\n",
    "plt.legend()"
   ]
  },
  {
   "cell_type": "code",
   "execution_count": 112,
   "metadata": {},
   "outputs": [
    {
     "name": "stderr",
     "output_type": "stream",
     "text": [
      "/global/homes/v/vboehm/.conda/envs/bccp/lib/python3.6/site-packages/ipykernel_launcher.py:1: RuntimeWarning: invalid value encountered in true_divide\n",
      "  \"\"\"Entry point for launching an IPython kernel.\n",
      "/global/homes/v/vboehm/.conda/envs/bccp/lib/python3.6/site-packages/ipykernel_launcher.py:2: RuntimeWarning: divide by zero encountered in true_divide\n",
      "  \n"
     ]
    },
    {
     "data": {
      "text/plain": [
       "<matplotlib.legend.Legend at 0x2aac74011a90>"
      ]
     },
     "execution_count": 112,
     "metadata": {},
     "output_type": "execute_result"
    },
    {
     "data": {
      "image/png": "[encoded data removed]",
      "text/plain": [
       "<Figure size 432x288 with 1 Axes>"
      ]
     },
     "metadata": {
      "needs_background": "light"
     },
     "output_type": "display_data"
    }
   ],
   "source": [
    "plt.semilogx(L,-myCl31/Cl31_cut, label='no Limber cut / Limber cut')\n",
    "plt.semilogx(L,Cl31s[-1]/Cl31_cut, label='Limber / Limber cut')\n",
    "plt.grid()\n",
    "plt.ylim(0.1,1)\n",
    "plt.xlim(10,1000)\n",
    "plt.legend()"
   ]
  },
  {
   "cell_type": "code",
   "execution_count": 69,
   "metadata": {},
   "outputs": [
    {
     "data": {
      "text/plain": [
       "(array([[9.09464536e-40]]), array([[9.09464536e-40]]))"
      ]
     },
     "execution_count": 69,
     "metadata": {},
     "output_type": "execute_result"
    }
   ],
   "source": [
    "MA(2000,2000),MA(3000,3000)"
   ]
  },
  {
   "cell_type": "code",
   "execution_count": 116,
   "metadata": {},
   "outputs": [
    {
     "data": {
      "text/plain": [
       "array([[1.56835624e-35]])"
      ]
     },
     "execution_count": 116,
     "metadata": {},
     "output_type": "execute_result"
    }
   ],
   "source": [
    "tildeMA2(1002,1002)"
   ]
  },
  {
   "cell_type": "code",
   "execution_count": null,
   "metadata": {},
   "outputs": [],
   "source": []
  }
 ],
 "metadata": {
  "kernelspec": {
   "display_name": "Python 2",
   "language": "python",
   "name": "python2"
  },
  "language_info": {
   "codemirror_mode": {
    "name": "ipython",
    "version": 2
   },
   "file_extension": ".py",
   "mimetype": "text/x-python",
   "name": "python",
   "nbconvert_exporter": "python",
   "pygments_lexer": "ipython2",
   "version": "2.7.15"
  }
 },
 "nbformat": 4,
 "nbformat_minor": 2
}
