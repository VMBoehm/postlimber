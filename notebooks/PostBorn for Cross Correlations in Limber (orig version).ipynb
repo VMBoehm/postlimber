{
 "cells": [
  {
   "cell_type": "code",
   "execution_count": 1,
   "metadata": {},
   "outputs": [],
   "source": [
    "from __future__ import division\n",
    "%matplotlib inline\n",
    "import sys\n",
    "path = '../PostBornEma/'\n",
    "sys.path.append(\"../scripts/\") \n",
    "import matplotlib.pyplot as plt\n",
    "from postBornCrossSpectra import PostBorn_Bispec\n",
    "import numpy as np\n",
    "import Cosmology as C\n",
    "import pickle\n",
    "from scipy.integrate import simps\n",
    "from scipy.interpolate import RectBivariateSpline\n",
    "from classy import Class\n",
    "\n",
    "import copy\n",
    "import kernels\n",
    "#plt.style.use('classic')\n",
    "#plt.style.use(['seaborn-colorblind','paper'])\n"
   ]
  },
  {
   "cell_type": "code",
   "execution_count": 2,
   "metadata": {},
   "outputs": [
    {
     "name": "stdout",
     "output_type": "stream",
     "text": [
      "using z-bin None norm 65.75020607931236\n",
      "using z-bin [0, 0.5, 0.03] norm 14.32276056640902\n",
      "using z-bin [0.5, 0.5, 0.03] norm 23.943209238913052\n",
      "using z-bin [1.0, 1.0, 0.04] norm 21.63232752061847\n",
      "using z-bin [2.0, 1.0, 0.05] norm 3.7179104375669816\n",
      "using z-bin [3.0, 1.0, 0.05] norm 1.471852539963635\n"
     ]
    }
   ],
   "source": [
    "#Todos: noise with higher L sampling, L1 min stability test\n",
    "from lab import *"
   ]
  },
  {
   "cell_type": "code",
   "execution_count": 3,
   "metadata": {},
   "outputs": [],
   "source": [
    "plotpath = './CrossPostBorn/results/plots/vanessa/'"
   ]
  },
  {
   "cell_type": "code",
   "execution_count": 4,
   "metadata": {},
   "outputs": [
    {
     "name": "stdout",
     "output_type": "stream",
     "text": [
      "computing distances, derived parameters...\n",
      "{'Neff': 3.046}\n",
      "{'h': 0.677}\n",
      "{'m_ncdm_tot': 0.0}\n",
      "{'omega_m': 0.6745515980724002}\n"
     ]
    }
   ],
   "source": [
    "zmin = 1e-5\n",
    "zmax = 1090.\n",
    "\n",
    "kmin = 1e-4\n",
    "kmax = 50\n",
    "\n",
    "cosmo_dict.pop('z_cmb')\n",
    "cosmo = [{'name':\"EmasCosmo\"},cosmo_dict]\n",
    "# cosmo = C.Planck2015\n",
    "\n",
    "a     = np.linspace(1./(1.+zmin),1./(1.+zmax),500)  \n",
    "z     = 1./a-1.\n",
    "\n",
    "data  = C.CosmoData(cosmo[1],z)\n",
    "\n",
    "L     = np.logspace(1,4,400)\n",
    "\n",
    "# sampling for integrations\n",
    "phi = np.linspace(0.,2.*np.pi,1000,endpoint=True)\n",
    "L1  = np.logspace(-1,5,400)\n",
    "\n",
    "LSST_bins  = [0,1,2,3,4,'all']"
   ]
  },
  {
   "cell_type": "code",
   "execution_count": 5,
   "metadata": {},
   "outputs": [],
   "source": [
    "zmins= [0,0.5,1,2,3,0]\n",
    "zmaxs= [0.5,1.,2.,3.,4.,'z$_{\\mathrm{CMB}}$']\n",
    "ngal = [14.3,23.9,21.6,3.7,1.5,65.7]\n",
    "\n",
    "colors=['navy','maroon', 'darkgreen', 'mediumaquamarine','indianred','darkorange']"
   ]
  },
  {
   "cell_type": "code",
   "execution_count": 6,
   "metadata": {},
   "outputs": [],
   "source": [
    "#31 term only\n",
    "def get_31_term_only(L,L1,M):\n",
    "    return -L**2/np.pi*simps(M(L,L1)/L1,L1)\n"
   ]
  },
  {
   "cell_type": "code",
   "execution_count": 7,
   "metadata": {},
   "outputs": [],
   "source": [
    "#compute correction following Krause&Hirata\n",
    "\n",
    "# redefinition with l'-> l-l'\n",
    "def get_regularized_sum_of_terms_old(L,L1,phi,M,method='trapz'):\n",
    "    nu = np.cos(phi)\n",
    "    res=[]\n",
    "    for LL in L:\n",
    "        resL1=[]\n",
    "        for LL1 in L1:\n",
    "            L_= LL*np.sqrt(1.+(LL1/LL)**2-2.*LL1/LL*nu)\n",
    "            integrand =LL*LL1**3*(-LL1*nu+LL)*(-LL1+LL*nu)**2*(M(L_,LL1,grid=False)/L_**2/LL1**4-M(LL,LL1,grid=False)/LL**2/LL1**4)\n",
    "            if method =='simps':\n",
    "                resL1+=[simps(integrand,phi)]\n",
    "            elif method =='trapz':\n",
    "                resL1+=[np.trapz(integrand,phi)]\n",
    "            elif method =='sum':\n",
    "                resL1+=[np.sum(integrand*np.diff(phi)[0])]\n",
    "        res+=[simps(resL1,L1)]\n",
    "    res=4.*np.asarray(res)/(2*np.pi)**2\n",
    "    return res\n",
    "\n",
    "#always use trapz rule for accurate results!\n",
    "#redefinition with l'-> l'-l\n",
    "def get_regularized_sum_of_terms(L,L1,phi,M,method='trapz'):\n",
    "    nu = np.cos(phi)\n",
    "    res=[]\n",
    "    for LL in L:\n",
    "        resL1=[]\n",
    "        for LL1 in L1:\n",
    "            L_= LL*np.sqrt(1.+(LL1/LL)**2+2.*LL1/LL*nu)\n",
    "            integrand =LL*LL1**3*(LL1*nu+LL)*(LL1+LL*nu)**2*(M(L_,LL1,grid=False)/L_**2/LL1**4-M(LL,LL1,grid=False)/LL**2/LL1**4)\n",
    "            if method =='simps':\n",
    "                resL1+=[simps(integrand,phi)]\n",
    "            elif method =='trapz':\n",
    "                resL1+=[np.trapz(integrand,phi)]\n",
    "            elif method =='sum':\n",
    "                resL1+=[np.sum(integrand*np.diff(phi)[0])]\n",
    "        res+=[simps(resL1,L1)]\n",
    "    res=4.*np.asarray(res)/(2*np.pi)**2\n",
    "    return res\n",
    "\n",
    "\n",
    "#numerical angular integration\n",
    "def get_second_sum_of_terms(L,L1,M,method='trapz'):\n",
    "    nu = np.cos(phi)\n",
    "    res=[]\n",
    "    for LL in L:\n",
    "        resL1=[]\n",
    "        for LL1 in L1:\n",
    "            integrand = LL1*(LL*LL1**2*(-LL1*nu+LL)*(-LL1+LL*nu)**2-LL**2*(LL*LL1*nu)**2)*(M(LL,LL1,grid=False)/LL**2/LL1**4)\n",
    "            if method =='simps':\n",
    "                resL1+=[simps(integrand,phi)]\n",
    "            elif method =='trapz':\n",
    "                resL1+=[np.trapz(integrand,phi)]\n",
    "            elif method =='sum':\n",
    "                resL1+=[np.sum(integrand*np.diff(phi)[0])]\n",
    "        res+=[simps(resL1,L1)]\n",
    "    res=4.*np.asarray(res)/(2*np.pi)**2\n",
    "    return res\n",
    "\n",
    "#angular integration by hand\n",
    "def get_second_sum_of_terms_exact(L,L1,M):\n",
    "    res=[]\n",
    "    for LL in L:\n",
    "        integrand = LL**2*L1**5*(M(LL,L1,grid=False)/LL**2/L1**4)\n",
    "        res+=[simps(integrand,L1)]   \n",
    "    return 4*np.asarray(res)/np.pi"
   ]
  },
  {
   "cell_type": "code",
   "execution_count": 8,
   "metadata": {},
   "outputs": [
    {
     "name": "stdout",
     "output_type": "stream",
     "text": [
      "using z-bin [0, 0.5, 0.03] norm 14.32276056640902\n",
      "Initializing CLASS with halofit...\n",
      "{'A_s': 2.10732e-09, 'h': 0.677, 'k_pivot': 0.05, 'n_s': 0.96824, 'omega_b': 0.02247, 'omega_cdm': 0.11923, 'output': 'mPk', 'P_k_max_1/Mpc': 101, 'z_max_pk': 1088.6464513003662, 'k_min_tau0': 0.002, 'k_max_tau0_over_l_max': 5.0, 'k_step_sub': 0.015, 'k_step_super': 0.0001, 'k_step_super_reduction': 0.1, 'k_per_decade_for_pk': 20, 'perturb_sampling_stepsize': 0.01, 'tol_perturb_integration': 1e-06, 'halofit_k_per_decade': 3000.0, 'non linear': 'halofit'}\n",
      "sigma8  0.822427245205793\n",
      "zmax 1088.6464513003662\n",
      "using z-bin [0.5, 0.5, 0.03] norm 23.943209238913052\n",
      "Initializing CLASS with halofit...\n",
      "{'A_s': 2.10732e-09, 'h': 0.677, 'k_pivot': 0.05, 'n_s': 0.96824, 'omega_b': 0.02247, 'omega_cdm': 0.11923, 'output': 'mPk', 'P_k_max_1/Mpc': 101, 'z_max_pk': 1088.6464513003662, 'k_min_tau0': 0.002, 'k_max_tau0_over_l_max': 5.0, 'k_step_sub': 0.015, 'k_step_super': 0.0001, 'k_step_super_reduction': 0.1, 'k_per_decade_for_pk': 20, 'perturb_sampling_stepsize': 0.01, 'tol_perturb_integration': 1e-06, 'halofit_k_per_decade': 3000.0, 'non linear': 'halofit'}\n",
      "sigma8  0.822427245205793\n",
      "zmax 1088.6464513003662\n",
      "using z-bin [1.0, 1.0, 0.04] norm 21.63232752061847\n",
      "Initializing CLASS with halofit...\n",
      "{'A_s': 2.10732e-09, 'h': 0.677, 'k_pivot': 0.05, 'n_s': 0.96824, 'omega_b': 0.02247, 'omega_cdm': 0.11923, 'output': 'mPk', 'P_k_max_1/Mpc': 101, 'z_max_pk': 1088.6464513003662, 'k_min_tau0': 0.002, 'k_max_tau0_over_l_max': 5.0, 'k_step_sub': 0.015, 'k_step_super': 0.0001, 'k_step_super_reduction': 0.1, 'k_per_decade_for_pk': 20, 'perturb_sampling_stepsize': 0.01, 'tol_perturb_integration': 1e-06, 'halofit_k_per_decade': 3000.0, 'non linear': 'halofit'}\n",
      "sigma8  0.822427245205793\n",
      "zmax 1088.6464513003662\n",
      "using z-bin [2.0, 1.0, 0.05] norm 3.7179104375669816\n",
      "Initializing CLASS with halofit...\n",
      "{'A_s': 2.10732e-09, 'h': 0.677, 'k_pivot': 0.05, 'n_s': 0.96824, 'omega_b': 0.02247, 'omega_cdm': 0.11923, 'output': 'mPk', 'P_k_max_1/Mpc': 101, 'z_max_pk': 1088.6464513003662, 'k_min_tau0': 0.002, 'k_max_tau0_over_l_max': 5.0, 'k_step_sub': 0.015, 'k_step_super': 0.0001, 'k_step_super_reduction': 0.1, 'k_per_decade_for_pk': 20, 'perturb_sampling_stepsize': 0.01, 'tol_perturb_integration': 1e-06, 'halofit_k_per_decade': 3000.0, 'non linear': 'halofit'}\n",
      "sigma8  0.822427245205793\n",
      "zmax 1088.6464513003662\n",
      "using z-bin [3.0, 1.0, 0.05] norm 1.471852539963635\n",
      "Initializing CLASS with halofit...\n",
      "{'A_s': 2.10732e-09, 'h': 0.677, 'k_pivot': 0.05, 'n_s': 0.96824, 'omega_b': 0.02247, 'omega_cdm': 0.11923, 'output': 'mPk', 'P_k_max_1/Mpc': 101, 'z_max_pk': 1088.6464513003662, 'k_min_tau0': 0.002, 'k_max_tau0_over_l_max': 5.0, 'k_step_sub': 0.015, 'k_step_super': 0.0001, 'k_step_super_reduction': 0.1, 'k_per_decade_for_pk': 20, 'perturb_sampling_stepsize': 0.01, 'tol_perturb_integration': 1e-06, 'halofit_k_per_decade': 3000.0, 'non linear': 'halofit'}\n",
      "sigma8  0.822427245205793\n",
      "zmax 1088.6464513003662\n",
      "using z-bin None norm 65.75020607931236\n",
      "Initializing CLASS with halofit...\n",
      "{'A_s': 2.10732e-09, 'h': 0.677, 'k_pivot': 0.05, 'n_s': 0.96824, 'omega_b': 0.02247, 'omega_cdm': 0.11923, 'output': 'mPk', 'P_k_max_1/Mpc': 101, 'z_max_pk': 1088.6464513003662, 'k_min_tau0': 0.002, 'k_max_tau0_over_l_max': 5.0, 'k_step_sub': 0.015, 'k_step_super': 0.0001, 'k_step_super_reduction': 0.1, 'k_per_decade_for_pk': 20, 'perturb_sampling_stepsize': 0.01, 'tol_perturb_integration': 1e-06, 'halofit_k_per_decade': 3000.0, 'non linear': 'halofit'}\n",
      "sigma8  0.822427245205793\n",
      "zmax 1088.6464513003662\n"
     ]
    }
   ],
   "source": [
    "first_kernel  = kernels.CMB_lens(data.chi_cmb,data)\n",
    "simple_kernel = kernels.CMB_lens(None,data)\n",
    "\n",
    "Mstarspls = []\n",
    "PBs =[]\n",
    "Cls= []\n",
    "for LSST_bin in LSST_bins:\n",
    "    second_kernel = kernels.gal_clus(kernels.dNdz_LSST,kernels.simple_bias,data,LSST_bin)\n",
    "    PB  = PostBorn_Bispec(data, zmin, data.z_cmb, first_kernel, second_kernel, simple_kernel, k_min=kmin,k_max=100, lmax=30000, acc=2)\n",
    "    PBs+=[PB]\n",
    "    Mstarspls+=[PB.Mstarsp]\n",
    "    Cls+=[PB.CL_born]\n",
    "ls = PB.ls\n"
   ]
  },
  {
   "cell_type": "code",
   "execution_count": 9,
   "metadata": {},
   "outputs": [
    {
     "name": "stdout",
     "output_type": "stream",
     "text": [
      "0\n",
      "1\n",
      "2\n",
      "3\n",
      "4\n",
      "5\n"
     ]
    }
   ],
   "source": [
    "corrs = []\n",
    "for ii in range(len(LSST_bins)):\n",
    "    print(ii)\n",
    "    corrs+=[get_regularized_sum_of_terms(L,L1,phi,Mstarspls[ii],method='trapz')+get_second_sum_of_terms(L,L1,Mstarspls[ii],method='trapz')]"
   ]
  },
  {
   "cell_type": "code",
   "execution_count": 10,
   "metadata": {},
   "outputs": [],
   "source": [
    "Cl13 = get_31_term_only(L,L1,Mstarspls[1])\n"
   ]
  },
  {
   "cell_type": "code",
   "execution_count": null,
   "metadata": {},
   "outputs": [],
   "source": []
  },
  {
   "cell_type": "code",
   "execution_count": 11,
   "metadata": {},
   "outputs": [
    {
     "ename": "FileNotFoundError",
     "evalue": "[Errno 2] No such file or directory: '/home/nessa/Documents/Projects/LensingBispectrum/CMB-nonlinear/outputs/ells/ell_ang_full_Lmin1_Lmax3000_lmin1_lmax8000_lenL120_lenl140_lenang120_1e-04.pkl'",
     "output_type": "error",
     "traceback": [
      "\u001b[0;31m---------------------------------------------------------------------------\u001b[0m",
      "\u001b[0;31mFileNotFoundError\u001b[0m                         Traceback (most recent call last)",
      "\u001b[0;32m<ipython-input-11-737dd91c6014>\u001b[0m in \u001b[0;36m<module>\u001b[0;34m()\u001b[0m\n\u001b[1;32m     24\u001b[0m \u001b[0mnoisepath\u001b[0m\u001b[0;34m=\u001b[0m\u001b[0;34m'/home/nessa/Documents/Projects/LensingBispectrum/CMB-nonlinear/outputs/noise_curves/'\u001b[0m\u001b[0;34m\u001b[0m\u001b[0;34m\u001b[0m\u001b[0m\n\u001b[1;32m     25\u001b[0m \u001b[0mellpath\u001b[0m\u001b[0;34m=\u001b[0m\u001b[0;34m\"/home/nessa/Documents/Projects/LensingBispectrum/CMB-nonlinear/outputs/ells/\"\u001b[0m\u001b[0;34m\u001b[0m\u001b[0;34m\u001b[0m\u001b[0m\n\u001b[0;32m---> 26\u001b[0;31m \u001b[0mLL\u001b[0m\u001b[0;34m,\u001b[0m\u001b[0ml\u001b[0m\u001b[0;34m,\u001b[0m\u001b[0mtheta\u001b[0m \u001b[0;34m=\u001b[0m \u001b[0mpickle\u001b[0m\u001b[0;34m.\u001b[0m\u001b[0mload\u001b[0m\u001b[0;34m(\u001b[0m\u001b[0mopen\u001b[0m\u001b[0;34m(\u001b[0m\u001b[0mellpath\u001b[0m\u001b[0;34m+\u001b[0m\u001b[0;34m'ell_ang_full_Lmin1_Lmax3000_lmin1_lmax8000_lenL120_lenl140_lenang120_1e-04.pkl'\u001b[0m\u001b[0;34m,\u001b[0m\u001b[0;34m'r'\u001b[0m\u001b[0;34m)\u001b[0m\u001b[0;34m)\u001b[0m\u001b[0;34m\u001b[0m\u001b[0;34m\u001b[0m\u001b[0m\n\u001b[0m\u001b[1;32m     27\u001b[0m \u001b[0mcls\u001b[0m\u001b[0;34m=\u001b[0m\u001b[0;34m[\u001b[0m\u001b[0;34m]\u001b[0m\u001b[0;34m\u001b[0m\u001b[0;34m\u001b[0m\u001b[0m\n\u001b[1;32m     28\u001b[0m \u001b[0mnoise\u001b[0m\u001b[0;34m=\u001b[0m\u001b[0;34m[\u001b[0m\u001b[0;34m]\u001b[0m\u001b[0;34m\u001b[0m\u001b[0;34m\u001b[0m\u001b[0m\n",
      "\u001b[0;31mFileNotFoundError\u001b[0m: [Errno 2] No such file or directory: '/home/nessa/Documents/Projects/LensingBispectrum/CMB-nonlinear/outputs/ells/ell_ang_full_Lmin1_Lmax3000_lmin1_lmax8000_lenL120_lenl140_lenang120_1e-04.pkl'"
     ]
    }
   ],
   "source": [
    "#signal and noise plot\n",
    "import Cosmology as Cosmo\n",
    "params  = Cosmo.Planck2015\n",
    "tag     = params[0]['name']\n",
    "field   = 'mv'\n",
    "nl      = True\n",
    "\n",
    "thetaFWHMarcmin = 1. #beam FWHM\n",
    "noiseUkArcmin   = 1. #eval(sys.argv[1]) #Noise level in uKarcmin\n",
    "l_max_T         = 3000\n",
    "l_max_P         = 5000\n",
    "l_min           = 50\n",
    "L_max           = 6000 #for l integration\n",
    "L_min           = 1\n",
    "TCMB            = 2.7255e6\n",
    "div             = True #divide EB by factor of 2.5\n",
    "exp             = 'CMB-S4'\n",
    "\n",
    "if l_max_T!=l_max_P:\n",
    "    lmax='mixedlmax_%d_%d'%(l_max_T,l_max_P)\n",
    "else:\n",
    "    lmax=str(l_max_T)\n",
    "path='/home/nessa/Documents/Projects/LensingBispectrum/CMB-nonlinear/outputs/power_spectra/'\n",
    "noisepath='/home/nessa/Documents/Projects/LensingBispectrum/CMB-nonlinear/outputs/noise_curves/'\n",
    "ellpath=\"/home/nessa/Documents/Projects/LensingBispectrum/CMB-nonlinear/outputs/ells/\"\n",
    "LL,l,theta = pickle.load(open(ellpath+'ell_ang_full_Lmin1_Lmax3000_lmin1_lmax8000_lenL120_lenl140_lenang120_1e-04.pkl','r'))\n",
    "cls=[]\n",
    "noise=[]\n",
    "L_=np.arange(100,3000)\n",
    "Delta=[]\n",
    "jj=0\n",
    "for LSST_bin in LSST_bins:\n",
    "    cl       = np.load(path+'CL_kg_LSSTbin%s_full_Planck2015_Lmin1-Lmax2999_halofit.npy'%str(LSST_bin))\n",
    "    ll,_,_,_,noise_gg,noise_kg,noise_kk = pickle.load(open(noisepath+'Gaussian_variances_%s_%s_LSSTbin%s_full_%s_%s.pkl'%(exp,lmax,str(LSST_bin),tag,'dndz_LSST_i27_SN5_3y'),'r'))\n",
    "    cls      +=[np.interp(L_,LL,cl)]\n",
    "    noise    +=[np.interp(L_,ll,noise_kg)]\n",
    "    Delta    +=[np.interp(L_,L,corrs[jj])]\n",
    "    jj+=1\n",
    "    \n",
    "plt.figure()\n",
    "for ii in range(len(LSST_bins)):\n",
    "    print(ii)\n",
    "    plt.loglog(L_,cls[ii],c=colors[ii],label='z=%.1f-%s'%(zmins[ii],str(zmaxs[ii])))\n",
    "    plt.loglog(ls,Cls[ii],c='y',ls='--')\n",
    "    plt.fill_between(L_,cls[ii]-noise[ii],cls[ii]+noise[ii],color=colors[ii],alpha=0.1)\n",
    "    plt.xlim(100,3000)\n",
    "    plt.ylim(1e-9,2e-6)\n",
    "plt.show()\n",
    "    \n",
    "\n",
    "plt.figure()\n",
    "for ii in [0,1,2,3,4]:\n",
    "    print(ii)\n",
    "    plt.loglog(L_,-Delta[ii]/noise[ii],color=colors[ii],ls='-',lw='2',label='z=%.1f-%s'%(zmins[ii],str(zmaxs[ii])))\n",
    "    plt.xlim(100,3000)\n",
    "    plt.ylim(1e-6,1e-2)\n",
    "    #plt.legend(loc=(1.02,0.5))\n",
    "    plt.ylabel('$\\Delta C_L^{\\kappa g}/N$',fontsize=24)\n",
    "    plt.xlabel('$L$',fontsize=20)\n",
    "plt.savefig(plotpath+'cl_cross_over_noise.pdf', bbox_inches='tight')"
   ]
  },
  {
   "cell_type": "code",
   "execution_count": 12,
   "metadata": {},
   "outputs": [
    {
     "ename": "FileNotFoundError",
     "evalue": "[Errno 2] No such file or directory: './CrossPostBorn/results/plots/vanessa/cl_cross.pdf'",
     "output_type": "error",
     "traceback": [
      "\u001b[0;31m---------------------------------------------------------------------------\u001b[0m",
      "\u001b[0;31mFileNotFoundError\u001b[0m                         Traceback (most recent call last)",
      "\u001b[0;32m<ipython-input-12-53e4581148be>\u001b[0m in \u001b[0;36m<module>\u001b[0;34m()\u001b[0m\n\u001b[1;32m     15\u001b[0m \u001b[0mplt\u001b[0m\u001b[0;34m.\u001b[0m\u001b[0mylim\u001b[0m\u001b[0;34m(\u001b[0m\u001b[0;36m1e-13\u001b[0m\u001b[0;34m,\u001b[0m\u001b[0;36m1e-5\u001b[0m\u001b[0;34m)\u001b[0m\u001b[0;34m\u001b[0m\u001b[0;34m\u001b[0m\u001b[0m\n\u001b[1;32m     16\u001b[0m \u001b[0mplt\u001b[0m\u001b[0;34m.\u001b[0m\u001b[0mlegend\u001b[0m\u001b[0;34m(\u001b[0m\u001b[0mloc\u001b[0m\u001b[0;34m=\u001b[0m\u001b[0;34m'upper right'\u001b[0m\u001b[0;34m,\u001b[0m \u001b[0mframeon\u001b[0m\u001b[0;34m=\u001b[0m\u001b[0;32mFalse\u001b[0m\u001b[0;34m,\u001b[0m\u001b[0mfontsize\u001b[0m\u001b[0;34m=\u001b[0m\u001b[0;36m16\u001b[0m\u001b[0;34m)\u001b[0m\u001b[0;34m\u001b[0m\u001b[0;34m\u001b[0m\u001b[0m\n\u001b[0;32m---> 17\u001b[0;31m \u001b[0mplt\u001b[0m\u001b[0;34m.\u001b[0m\u001b[0msavefig\u001b[0m\u001b[0;34m(\u001b[0m\u001b[0mplotpath\u001b[0m\u001b[0;34m+\u001b[0m\u001b[0;34m'cl_cross.pdf'\u001b[0m\u001b[0;34m,\u001b[0m \u001b[0mbbox_inches\u001b[0m\u001b[0;34m=\u001b[0m\u001b[0;34m'tight'\u001b[0m\u001b[0;34m)\u001b[0m\u001b[0;34m\u001b[0m\u001b[0;34m\u001b[0m\u001b[0m\n\u001b[0m\u001b[1;32m     18\u001b[0m \u001b[0mplt\u001b[0m\u001b[0;34m.\u001b[0m\u001b[0mshow\u001b[0m\u001b[0;34m(\u001b[0m\u001b[0;34m)\u001b[0m\u001b[0;34m\u001b[0m\u001b[0;34m\u001b[0m\u001b[0m\n\u001b[1;32m     19\u001b[0m \u001b[0;34m\u001b[0m\u001b[0m\n",
      "\u001b[0;32m~/.conda/envs/bccp/lib/python3.6/site-packages/matplotlib/pyplot.py\u001b[0m in \u001b[0;36msavefig\u001b[0;34m(*args, **kwargs)\u001b[0m\n\u001b[1;32m    693\u001b[0m \u001b[0;32mdef\u001b[0m \u001b[0msavefig\u001b[0m\u001b[0;34m(\u001b[0m\u001b[0;34m*\u001b[0m\u001b[0margs\u001b[0m\u001b[0;34m,\u001b[0m \u001b[0;34m**\u001b[0m\u001b[0mkwargs\u001b[0m\u001b[0;34m)\u001b[0m\u001b[0;34m:\u001b[0m\u001b[0;34m\u001b[0m\u001b[0;34m\u001b[0m\u001b[0m\n\u001b[1;32m    694\u001b[0m     \u001b[0mfig\u001b[0m \u001b[0;34m=\u001b[0m \u001b[0mgcf\u001b[0m\u001b[0;34m(\u001b[0m\u001b[0;34m)\u001b[0m\u001b[0;34m\u001b[0m\u001b[0;34m\u001b[0m\u001b[0m\n\u001b[0;32m--> 695\u001b[0;31m     \u001b[0mres\u001b[0m \u001b[0;34m=\u001b[0m \u001b[0mfig\u001b[0m\u001b[0;34m.\u001b[0m\u001b[0msavefig\u001b[0m\u001b[0;34m(\u001b[0m\u001b[0;34m*\u001b[0m\u001b[0margs\u001b[0m\u001b[0;34m,\u001b[0m \u001b[0;34m**\u001b[0m\u001b[0mkwargs\u001b[0m\u001b[0;34m)\u001b[0m\u001b[0;34m\u001b[0m\u001b[0;34m\u001b[0m\u001b[0m\n\u001b[0m\u001b[1;32m    696\u001b[0m     \u001b[0mfig\u001b[0m\u001b[0;34m.\u001b[0m\u001b[0mcanvas\u001b[0m\u001b[0;34m.\u001b[0m\u001b[0mdraw_idle\u001b[0m\u001b[0;34m(\u001b[0m\u001b[0;34m)\u001b[0m   \u001b[0;31m# need this if 'transparent=True' to reset colors\u001b[0m\u001b[0;34m\u001b[0m\u001b[0;34m\u001b[0m\u001b[0m\n\u001b[1;32m    697\u001b[0m     \u001b[0;32mreturn\u001b[0m \u001b[0mres\u001b[0m\u001b[0;34m\u001b[0m\u001b[0;34m\u001b[0m\u001b[0m\n",
      "\u001b[0;32m~/.conda/envs/bccp/lib/python3.6/site-packages/matplotlib/figure.py\u001b[0m in \u001b[0;36msavefig\u001b[0;34m(self, fname, **kwargs)\u001b[0m\n\u001b[1;32m   2060\u001b[0m             \u001b[0mself\u001b[0m\u001b[0;34m.\u001b[0m\u001b[0mset_frameon\u001b[0m\u001b[0;34m(\u001b[0m\u001b[0mframeon\u001b[0m\u001b[0;34m)\u001b[0m\u001b[0;34m\u001b[0m\u001b[0;34m\u001b[0m\u001b[0m\n\u001b[1;32m   2061\u001b[0m \u001b[0;34m\u001b[0m\u001b[0m\n\u001b[0;32m-> 2062\u001b[0;31m         \u001b[0mself\u001b[0m\u001b[0;34m.\u001b[0m\u001b[0mcanvas\u001b[0m\u001b[0;34m.\u001b[0m\u001b[0mprint_figure\u001b[0m\u001b[0;34m(\u001b[0m\u001b[0mfname\u001b[0m\u001b[0;34m,\u001b[0m \u001b[0;34m**\u001b[0m\u001b[0mkwargs\u001b[0m\u001b[0;34m)\u001b[0m\u001b[0;34m\u001b[0m\u001b[0;34m\u001b[0m\u001b[0m\n\u001b[0m\u001b[1;32m   2063\u001b[0m \u001b[0;34m\u001b[0m\u001b[0m\n\u001b[1;32m   2064\u001b[0m         \u001b[0;32mif\u001b[0m \u001b[0mframeon\u001b[0m\u001b[0;34m:\u001b[0m\u001b[0;34m\u001b[0m\u001b[0;34m\u001b[0m\u001b[0m\n",
      "\u001b[0;32m~/.conda/envs/bccp/lib/python3.6/site-packages/matplotlib/backend_bases.py\u001b[0m in \u001b[0;36mprint_figure\u001b[0;34m(self, filename, dpi, facecolor, edgecolor, orientation, format, **kwargs)\u001b[0m\n\u001b[1;32m   2261\u001b[0m                 \u001b[0morientation\u001b[0m\u001b[0;34m=\u001b[0m\u001b[0morientation\u001b[0m\u001b[0;34m,\u001b[0m\u001b[0;34m\u001b[0m\u001b[0;34m\u001b[0m\u001b[0m\n\u001b[1;32m   2262\u001b[0m                 \u001b[0mbbox_inches_restore\u001b[0m\u001b[0;34m=\u001b[0m\u001b[0m_bbox_inches_restore\u001b[0m\u001b[0;34m,\u001b[0m\u001b[0;34m\u001b[0m\u001b[0;34m\u001b[0m\u001b[0m\n\u001b[0;32m-> 2263\u001b[0;31m                 **kwargs)\n\u001b[0m\u001b[1;32m   2264\u001b[0m         \u001b[0;32mfinally\u001b[0m\u001b[0;34m:\u001b[0m\u001b[0;34m\u001b[0m\u001b[0;34m\u001b[0m\u001b[0m\n\u001b[1;32m   2265\u001b[0m             \u001b[0;32mif\u001b[0m \u001b[0mbbox_inches\u001b[0m \u001b[0;32mand\u001b[0m \u001b[0mrestore_bbox\u001b[0m\u001b[0;34m:\u001b[0m\u001b[0;34m\u001b[0m\u001b[0;34m\u001b[0m\u001b[0m\n",
      "\u001b[0;32m~/.conda/envs/bccp/lib/python3.6/site-packages/matplotlib/backends/backend_pdf.py\u001b[0m in \u001b[0;36mprint_pdf\u001b[0;34m(self, filename, **kwargs)\u001b[0m\n\u001b[1;32m   2576\u001b[0m             \u001b[0mfile\u001b[0m \u001b[0;34m=\u001b[0m \u001b[0mfilename\u001b[0m\u001b[0;34m.\u001b[0m\u001b[0m_file\u001b[0m\u001b[0;34m\u001b[0m\u001b[0;34m\u001b[0m\u001b[0m\n\u001b[1;32m   2577\u001b[0m         \u001b[0;32melse\u001b[0m\u001b[0;34m:\u001b[0m\u001b[0;34m\u001b[0m\u001b[0;34m\u001b[0m\u001b[0m\n\u001b[0;32m-> 2578\u001b[0;31m             \u001b[0mfile\u001b[0m \u001b[0;34m=\u001b[0m \u001b[0mPdfFile\u001b[0m\u001b[0;34m(\u001b[0m\u001b[0mfilename\u001b[0m\u001b[0;34m,\u001b[0m \u001b[0mmetadata\u001b[0m\u001b[0;34m=\u001b[0m\u001b[0mkwargs\u001b[0m\u001b[0;34m.\u001b[0m\u001b[0mpop\u001b[0m\u001b[0;34m(\u001b[0m\u001b[0;34m\"metadata\"\u001b[0m\u001b[0;34m,\u001b[0m \u001b[0;32mNone\u001b[0m\u001b[0;34m)\u001b[0m\u001b[0;34m)\u001b[0m\u001b[0;34m\u001b[0m\u001b[0;34m\u001b[0m\u001b[0m\n\u001b[0m\u001b[1;32m   2579\u001b[0m         \u001b[0;32mtry\u001b[0m\u001b[0;34m:\u001b[0m\u001b[0;34m\u001b[0m\u001b[0;34m\u001b[0m\u001b[0m\n\u001b[1;32m   2580\u001b[0m             \u001b[0mfile\u001b[0m\u001b[0;34m.\u001b[0m\u001b[0mnewPage\u001b[0m\u001b[0;34m(\u001b[0m\u001b[0mwidth\u001b[0m\u001b[0;34m,\u001b[0m \u001b[0mheight\u001b[0m\u001b[0;34m)\u001b[0m\u001b[0;34m\u001b[0m\u001b[0;34m\u001b[0m\u001b[0m\n",
      "\u001b[0;32m~/.conda/envs/bccp/lib/python3.6/site-packages/matplotlib/backends/backend_pdf.py\u001b[0m in \u001b[0;36m__init__\u001b[0;34m(self, filename, metadata)\u001b[0m\n\u001b[1;32m    436\u001b[0m         \u001b[0mself\u001b[0m\u001b[0;34m.\u001b[0m\u001b[0moriginal_file_like\u001b[0m \u001b[0;34m=\u001b[0m \u001b[0;32mNone\u001b[0m\u001b[0;34m\u001b[0m\u001b[0;34m\u001b[0m\u001b[0m\n\u001b[1;32m    437\u001b[0m         \u001b[0mself\u001b[0m\u001b[0;34m.\u001b[0m\u001b[0mtell_base\u001b[0m \u001b[0;34m=\u001b[0m \u001b[0;36m0\u001b[0m\u001b[0;34m\u001b[0m\u001b[0;34m\u001b[0m\u001b[0m\n\u001b[0;32m--> 438\u001b[0;31m         \u001b[0mfh\u001b[0m\u001b[0;34m,\u001b[0m \u001b[0mopened\u001b[0m \u001b[0;34m=\u001b[0m \u001b[0mcbook\u001b[0m\u001b[0;34m.\u001b[0m\u001b[0mto_filehandle\u001b[0m\u001b[0;34m(\u001b[0m\u001b[0mfilename\u001b[0m\u001b[0;34m,\u001b[0m \u001b[0;34m\"wb\"\u001b[0m\u001b[0;34m,\u001b[0m \u001b[0mreturn_opened\u001b[0m\u001b[0;34m=\u001b[0m\u001b[0;32mTrue\u001b[0m\u001b[0;34m)\u001b[0m\u001b[0;34m\u001b[0m\u001b[0;34m\u001b[0m\u001b[0m\n\u001b[0m\u001b[1;32m    439\u001b[0m         \u001b[0;32mif\u001b[0m \u001b[0;32mnot\u001b[0m \u001b[0mopened\u001b[0m\u001b[0;34m:\u001b[0m\u001b[0;34m\u001b[0m\u001b[0;34m\u001b[0m\u001b[0m\n\u001b[1;32m    440\u001b[0m             \u001b[0;32mtry\u001b[0m\u001b[0;34m:\u001b[0m\u001b[0;34m\u001b[0m\u001b[0;34m\u001b[0m\u001b[0m\n",
      "\u001b[0;32m~/.conda/envs/bccp/lib/python3.6/site-packages/matplotlib/cbook/__init__.py\u001b[0m in \u001b[0;36mto_filehandle\u001b[0;34m(fname, flag, return_opened, encoding)\u001b[0m\n\u001b[1;32m    609\u001b[0m             \u001b[0mfh\u001b[0m \u001b[0;34m=\u001b[0m \u001b[0mbz2\u001b[0m\u001b[0;34m.\u001b[0m\u001b[0mBZ2File\u001b[0m\u001b[0;34m(\u001b[0m\u001b[0mfname\u001b[0m\u001b[0;34m,\u001b[0m \u001b[0mflag\u001b[0m\u001b[0;34m)\u001b[0m\u001b[0;34m\u001b[0m\u001b[0;34m\u001b[0m\u001b[0m\n\u001b[1;32m    610\u001b[0m         \u001b[0;32melse\u001b[0m\u001b[0;34m:\u001b[0m\u001b[0;34m\u001b[0m\u001b[0;34m\u001b[0m\u001b[0m\n\u001b[0;32m--> 611\u001b[0;31m             \u001b[0mfh\u001b[0m \u001b[0;34m=\u001b[0m \u001b[0mio\u001b[0m\u001b[0;34m.\u001b[0m\u001b[0mopen\u001b[0m\u001b[0;34m(\u001b[0m\u001b[0mfname\u001b[0m\u001b[0;34m,\u001b[0m \u001b[0mflag\u001b[0m\u001b[0;34m,\u001b[0m \u001b[0mencoding\u001b[0m\u001b[0;34m=\u001b[0m\u001b[0mencoding\u001b[0m\u001b[0;34m)\u001b[0m\u001b[0;34m\u001b[0m\u001b[0;34m\u001b[0m\u001b[0m\n\u001b[0m\u001b[1;32m    612\u001b[0m         \u001b[0mopened\u001b[0m \u001b[0;34m=\u001b[0m \u001b[0;32mTrue\u001b[0m\u001b[0;34m\u001b[0m\u001b[0;34m\u001b[0m\u001b[0m\n\u001b[1;32m    613\u001b[0m     \u001b[0;32melif\u001b[0m \u001b[0mhasattr\u001b[0m\u001b[0;34m(\u001b[0m\u001b[0mfname\u001b[0m\u001b[0;34m,\u001b[0m \u001b[0;34m'seek'\u001b[0m\u001b[0;34m)\u001b[0m\u001b[0;34m:\u001b[0m\u001b[0;34m\u001b[0m\u001b[0;34m\u001b[0m\u001b[0m\n",
      "\u001b[0;31mFileNotFoundError\u001b[0m: [Errno 2] No such file or directory: './CrossPostBorn/results/plots/vanessa/cl_cross.pdf'"
     ]
    },
    {
     "data": {
      "image/png": "[encoded data removed]",
      "text/plain": [
       "<Figure size 525.6x331.2 with 1 Axes>"
      ]
     },
     "metadata": {
      "needs_background": "light"
     },
     "output_type": "display_data"
    }
   ],
   "source": [
    "#signal and correction plot \n",
    "plt.figure(figsize=(7.3,4.6))\n",
    "for ii in [0,2,3,5]:\n",
    "    plt.loglog(ls,Cls[ii],c=colors[ii],lw=2)#,label='z=%.1f-%s'%(zmins[ii],str(zmaxs[ii])))\n",
    "    plt.loglog(L,corrs[ii],lw=1.5,c=colors[ii],ls='-')\n",
    "    plt.loglog(L,-corrs[ii],lw=1.5,c=colors[ii],ls='--')\n",
    "ii=1\n",
    "plt.loglog(ls,Cls[ii],c=colors[ii],lw=2,label='signal')#,label='z=%.1f-%s'%(zmins[ii],str(zmaxs[ii])))\n",
    "plt.loglog(L,corrs[ii],c=colors[ii],lw=1.5,ls='-')\n",
    "plt.loglog(L,-corrs[ii],c=colors[ii],lw=1.5,ls='--',label='post Born')\n",
    "plt.loglog(L,-Cl13,ls='-.',c=colors[1],lw=1.5,label='31+13')\n",
    "plt.ylabel('$C_L^{\\kappa g}$',fontsize=24)\n",
    "plt.xlabel('$L$',fontsize=20)\n",
    "plt.xlim(10,10000)\n",
    "plt.ylim(1e-13,1e-5)\n",
    "plt.legend(loc='upper right', frameon=False,fontsize=16)\n",
    "plt.savefig(plotpath+'cl_cross.pdf', bbox_inches='tight')\n",
    "plt.show()\n",
    "\n",
    "plt.figure(figsize=(7,4.3))\n",
    "for ii in [0,1,2,3,5]:\n",
    "    print(ii)\n",
    "    plt.loglog(L_,-Delta[ii]/noise[ii],color=colors[ii],ls='-',lw='2',label='z=%.1f-%s'%(zmins[ii],str(zmaxs[ii])))\n",
    "plt.xlim(100,3000)\n",
    "plt.ylim(1e-6,5e-3)\n",
    "plt.legend(loc='lower right',frameon=True,fontsize=16)\n",
    "plt.ylabel('$\\Delta C_L^{\\kappa g}/$noise',fontsize=22)\n",
    "plt.xlabel('$L$',fontsize=20)\n",
    "plt.savefig(plotpath+'cl_cross_over_noise.pdf', bbox_inches='tight')\n",
    "plt.show()"
   ]
  },
  {
   "cell_type": "code",
   "execution_count": null,
   "metadata": {},
   "outputs": [],
   "source": [
    "# binning\n",
    "deltaL= 100\n",
    "binned_corrs=[]\n",
    "binned_noise=[]\n",
    "for ii in np.arange(len(LSST_bins)):\n",
    "    inc = 0\n",
    "    res =[]\n",
    "    res2=[]\n",
    "    LL_=[]\n",
    "    while inc<2900:\n",
    "        res+=[np.mean(Delta[ii][inc:inc+deltaL])]\n",
    "        res2+=[np.mean(noise[ii][inc:inc+deltaL])]\n",
    "        inc+=deltaL\n",
    "        LL_+=[np.mean(L_[inc:inc+deltaL])]\n",
    "    binned_corrs+=[np.asarray(res)]\n",
    "    binned_noise+=[np.asarray(res2)]\n",
    "\n",
    "plt.figure()\n",
    "for ii in [0,1,2,3,5]:\n",
    "    print('bin',LSST_bins[ii])\n",
    "    print 'tot PB/noise', np.sqrt(np.sum((binned_corrs[ii]/binned_noise[ii])**2))\n",
    "    plt.semilogy(LL_,-binned_corrs[ii]/binned_noise[ii],color=colors[ii],ls='',marker='o',label='z=%.1f-%s'%(zmins[ii],str(zmaxs[ii])))\n",
    "    plt.xlim(100,3000)\n",
    "    plt.legend(loc=(1.02,0.5))\n",
    "    plt.ylabel('$\\Delta C_L^{\\kappa g}/N$',fontsize=24)\n",
    "    plt.xlabel('$L$',fontsize=20)\n",
    "plt.savefig(plotpath+'cl_cross_over_noise_binned.pdf', bbox_inches='tight')\n",
    "\n",
    "\n"
   ]
  },
  {
   "cell_type": "code",
   "execution_count": 13,
   "metadata": {},
   "outputs": [
    {
     "ename": "KeyboardInterrupt",
     "evalue": "",
     "output_type": "error",
     "traceback": [
      "\u001b[0;31m---------------------------------------------------------------------------\u001b[0m",
      "\u001b[0;31mKeyboardInterrupt\u001b[0m                         Traceback (most recent call last)",
      "\u001b[0;32m<ipython-input-13-0812ef77eb2b>\u001b[0m in \u001b[0;36m<module>\u001b[0;34m()\u001b[0m\n\u001b[1;32m      1\u001b[0m \u001b[0mbin_num\u001b[0m\u001b[0;34m=\u001b[0m\u001b[0;36m5\u001b[0m\u001b[0;34m\u001b[0m\u001b[0;34m\u001b[0m\u001b[0m\n\u001b[1;32m      2\u001b[0m \u001b[0;31m#these two should be the same\u001b[0m\u001b[0;34m\u001b[0m\u001b[0;34m\u001b[0m\u001b[0;34m\u001b[0m\u001b[0m\n\u001b[0;32m----> 3\u001b[0;31m \u001b[0mreskk1\u001b[0m \u001b[0;34m=\u001b[0m \u001b[0mget_regularized_sum_of_terms\u001b[0m\u001b[0;34m(\u001b[0m\u001b[0mL\u001b[0m\u001b[0;34m,\u001b[0m\u001b[0mL1\u001b[0m\u001b[0;34m,\u001b[0m\u001b[0mphi\u001b[0m\u001b[0;34m,\u001b[0m\u001b[0mMstarspls\u001b[0m\u001b[0;34m[\u001b[0m\u001b[0mbin_num\u001b[0m\u001b[0;34m]\u001b[0m\u001b[0;34m,\u001b[0m\u001b[0mmethod\u001b[0m\u001b[0;34m=\u001b[0m\u001b[0;34m'trapz'\u001b[0m\u001b[0;34m)\u001b[0m\u001b[0;34m\u001b[0m\u001b[0;34m\u001b[0m\u001b[0m\n\u001b[0m\u001b[1;32m      4\u001b[0m \u001b[0mreskk1b\u001b[0m\u001b[0;34m=\u001b[0m \u001b[0mget_regularized_sum_of_terms_old\u001b[0m\u001b[0;34m(\u001b[0m\u001b[0mL\u001b[0m\u001b[0;34m,\u001b[0m\u001b[0mL1\u001b[0m\u001b[0;34m,\u001b[0m\u001b[0mphi\u001b[0m\u001b[0;34m,\u001b[0m\u001b[0mMstarspls\u001b[0m\u001b[0;34m[\u001b[0m\u001b[0mbin_num\u001b[0m\u001b[0;34m]\u001b[0m\u001b[0;34m,\u001b[0m\u001b[0mmethod\u001b[0m\u001b[0;34m=\u001b[0m\u001b[0;34m'trapz'\u001b[0m\u001b[0;34m)\u001b[0m\u001b[0;34m\u001b[0m\u001b[0;34m\u001b[0m\u001b[0m\n\u001b[1;32m      5\u001b[0m \u001b[0;31m#these two should be the same\u001b[0m\u001b[0;34m\u001b[0m\u001b[0;34m\u001b[0m\u001b[0;34m\u001b[0m\u001b[0m\n",
      "\u001b[0;32m<ipython-input-7-88f8422b8dea>\u001b[0m in \u001b[0;36mget_regularized_sum_of_terms\u001b[0;34m(L, L1, phi, M, method)\u001b[0m\n\u001b[1;32m     29\u001b[0m         \u001b[0;32mfor\u001b[0m \u001b[0mLL1\u001b[0m \u001b[0;32min\u001b[0m \u001b[0mL1\u001b[0m\u001b[0;34m:\u001b[0m\u001b[0;34m\u001b[0m\u001b[0;34m\u001b[0m\u001b[0m\n\u001b[1;32m     30\u001b[0m             \u001b[0mL_\u001b[0m\u001b[0;34m=\u001b[0m \u001b[0mLL\u001b[0m\u001b[0;34m*\u001b[0m\u001b[0mnp\u001b[0m\u001b[0;34m.\u001b[0m\u001b[0msqrt\u001b[0m\u001b[0;34m(\u001b[0m\u001b[0;36m1.\u001b[0m\u001b[0;34m+\u001b[0m\u001b[0;34m(\u001b[0m\u001b[0mLL1\u001b[0m\u001b[0;34m/\u001b[0m\u001b[0mLL\u001b[0m\u001b[0;34m)\u001b[0m\u001b[0;34m**\u001b[0m\u001b[0;36m2\u001b[0m\u001b[0;34m+\u001b[0m\u001b[0;36m2.\u001b[0m\u001b[0;34m*\u001b[0m\u001b[0mLL1\u001b[0m\u001b[0;34m/\u001b[0m\u001b[0mLL\u001b[0m\u001b[0;34m*\u001b[0m\u001b[0mnu\u001b[0m\u001b[0;34m)\u001b[0m\u001b[0;34m\u001b[0m\u001b[0;34m\u001b[0m\u001b[0m\n\u001b[0;32m---> 31\u001b[0;31m             \u001b[0mintegrand\u001b[0m \u001b[0;34m=\u001b[0m\u001b[0mLL\u001b[0m\u001b[0;34m*\u001b[0m\u001b[0mLL1\u001b[0m\u001b[0;34m**\u001b[0m\u001b[0;36m3\u001b[0m\u001b[0;34m*\u001b[0m\u001b[0;34m(\u001b[0m\u001b[0mLL1\u001b[0m\u001b[0;34m*\u001b[0m\u001b[0mnu\u001b[0m\u001b[0;34m+\u001b[0m\u001b[0mLL\u001b[0m\u001b[0;34m)\u001b[0m\u001b[0;34m*\u001b[0m\u001b[0;34m(\u001b[0m\u001b[0mLL1\u001b[0m\u001b[0;34m+\u001b[0m\u001b[0mLL\u001b[0m\u001b[0;34m*\u001b[0m\u001b[0mnu\u001b[0m\u001b[0;34m)\u001b[0m\u001b[0;34m**\u001b[0m\u001b[0;36m2\u001b[0m\u001b[0;34m*\u001b[0m\u001b[0;34m(\u001b[0m\u001b[0mM\u001b[0m\u001b[0;34m(\u001b[0m\u001b[0mL_\u001b[0m\u001b[0;34m,\u001b[0m\u001b[0mLL1\u001b[0m\u001b[0;34m,\u001b[0m\u001b[0mgrid\u001b[0m\u001b[0;34m=\u001b[0m\u001b[0;32mFalse\u001b[0m\u001b[0;34m)\u001b[0m\u001b[0;34m/\u001b[0m\u001b[0mL_\u001b[0m\u001b[0;34m**\u001b[0m\u001b[0;36m2\u001b[0m\u001b[0;34m/\u001b[0m\u001b[0mLL1\u001b[0m\u001b[0;34m**\u001b[0m\u001b[0;36m4\u001b[0m\u001b[0;34m-\u001b[0m\u001b[0mM\u001b[0m\u001b[0;34m(\u001b[0m\u001b[0mLL\u001b[0m\u001b[0;34m,\u001b[0m\u001b[0mLL1\u001b[0m\u001b[0;34m,\u001b[0m\u001b[0mgrid\u001b[0m\u001b[0;34m=\u001b[0m\u001b[0;32mFalse\u001b[0m\u001b[0;34m)\u001b[0m\u001b[0;34m/\u001b[0m\u001b[0mLL\u001b[0m\u001b[0;34m**\u001b[0m\u001b[0;36m2\u001b[0m\u001b[0;34m/\u001b[0m\u001b[0mLL1\u001b[0m\u001b[0;34m**\u001b[0m\u001b[0;36m4\u001b[0m\u001b[0;34m)\u001b[0m\u001b[0;34m\u001b[0m\u001b[0;34m\u001b[0m\u001b[0m\n\u001b[0m\u001b[1;32m     32\u001b[0m             \u001b[0;32mif\u001b[0m \u001b[0mmethod\u001b[0m \u001b[0;34m==\u001b[0m\u001b[0;34m'simps'\u001b[0m\u001b[0;34m:\u001b[0m\u001b[0;34m\u001b[0m\u001b[0;34m\u001b[0m\u001b[0m\n\u001b[1;32m     33\u001b[0m                 \u001b[0mresL1\u001b[0m\u001b[0;34m+=\u001b[0m\u001b[0;34m[\u001b[0m\u001b[0msimps\u001b[0m\u001b[0;34m(\u001b[0m\u001b[0mintegrand\u001b[0m\u001b[0;34m,\u001b[0m\u001b[0mphi\u001b[0m\u001b[0;34m)\u001b[0m\u001b[0;34m]\u001b[0m\u001b[0;34m\u001b[0m\u001b[0;34m\u001b[0m\u001b[0m\n",
      "\u001b[0;32m~/.conda/envs/bccp/lib/python3.6/site-packages/scipy/interpolate/fitpack2.py\u001b[0m in \u001b[0;36m__call__\u001b[0;34m(self, x, y, dx, dy, grid)\u001b[0m\n\u001b[1;32m    850\u001b[0m             \u001b[0;31m# standard Numpy broadcasting\u001b[0m\u001b[0;34m\u001b[0m\u001b[0;34m\u001b[0m\u001b[0;34m\u001b[0m\u001b[0m\n\u001b[1;32m    851\u001b[0m             \u001b[0;32mif\u001b[0m \u001b[0mx\u001b[0m\u001b[0;34m.\u001b[0m\u001b[0mshape\u001b[0m \u001b[0;34m!=\u001b[0m \u001b[0my\u001b[0m\u001b[0;34m.\u001b[0m\u001b[0mshape\u001b[0m\u001b[0;34m:\u001b[0m\u001b[0;34m\u001b[0m\u001b[0;34m\u001b[0m\u001b[0m\n\u001b[0;32m--> 852\u001b[0;31m                 \u001b[0mx\u001b[0m\u001b[0;34m,\u001b[0m \u001b[0my\u001b[0m \u001b[0;34m=\u001b[0m \u001b[0mnp\u001b[0m\u001b[0;34m.\u001b[0m\u001b[0mbroadcast_arrays\u001b[0m\u001b[0;34m(\u001b[0m\u001b[0mx\u001b[0m\u001b[0;34m,\u001b[0m \u001b[0my\u001b[0m\u001b[0;34m)\u001b[0m\u001b[0;34m\u001b[0m\u001b[0;34m\u001b[0m\u001b[0m\n\u001b[0m\u001b[1;32m    853\u001b[0m \u001b[0;34m\u001b[0m\u001b[0m\n\u001b[1;32m    854\u001b[0m             \u001b[0mshape\u001b[0m \u001b[0;34m=\u001b[0m \u001b[0mx\u001b[0m\u001b[0;34m.\u001b[0m\u001b[0mshape\u001b[0m\u001b[0;34m\u001b[0m\u001b[0;34m\u001b[0m\u001b[0m\n",
      "\u001b[0;32m~/.conda/envs/bccp/lib/python3.6/site-packages/numpy/lib/stride_tricks.py\u001b[0m in \u001b[0;36mbroadcast_arrays\u001b[0;34m(*args, **kwargs)\u001b[0m\n\u001b[1;32m    256\u001b[0m     \u001b[0;31m# broadcast_to. This will require a deprecation cycle.\u001b[0m\u001b[0;34m\u001b[0m\u001b[0;34m\u001b[0m\u001b[0;34m\u001b[0m\u001b[0m\n\u001b[1;32m    257\u001b[0m     return [_broadcast_to(array, shape, subok=subok, readonly=False)\n\u001b[0;32m--> 258\u001b[0;31m             for array in args]\n\u001b[0m",
      "\u001b[0;32m~/.conda/envs/bccp/lib/python3.6/site-packages/numpy/lib/stride_tricks.py\u001b[0m in \u001b[0;36m<listcomp>\u001b[0;34m(.0)\u001b[0m\n\u001b[1;32m    256\u001b[0m     \u001b[0;31m# broadcast_to. This will require a deprecation cycle.\u001b[0m\u001b[0;34m\u001b[0m\u001b[0;34m\u001b[0m\u001b[0;34m\u001b[0m\u001b[0m\n\u001b[1;32m    257\u001b[0m     return [_broadcast_to(array, shape, subok=subok, readonly=False)\n\u001b[0;32m--> 258\u001b[0;31m             for array in args]\n\u001b[0m",
      "\u001b[0;32m~/.conda/envs/bccp/lib/python3.6/site-packages/numpy/lib/stride_tricks.py\u001b[0m in \u001b[0;36m_broadcast_to\u001b[0;34m(array, shape, subok, readonly)\u001b[0m\n\u001b[1;32m    126\u001b[0m     broadcast = np.nditer(\n\u001b[1;32m    127\u001b[0m         \u001b[0;34m(\u001b[0m\u001b[0marray\u001b[0m\u001b[0;34m,\u001b[0m\u001b[0;34m)\u001b[0m\u001b[0;34m,\u001b[0m \u001b[0mflags\u001b[0m\u001b[0;34m=\u001b[0m\u001b[0;34m[\u001b[0m\u001b[0;34m'multi_index'\u001b[0m\u001b[0;34m,\u001b[0m \u001b[0;34m'refs_ok'\u001b[0m\u001b[0;34m,\u001b[0m \u001b[0;34m'zerosize_ok'\u001b[0m\u001b[0;34m]\u001b[0m \u001b[0;34m+\u001b[0m \u001b[0mextras\u001b[0m\u001b[0;34m,\u001b[0m\u001b[0;34m\u001b[0m\u001b[0;34m\u001b[0m\u001b[0m\n\u001b[0;32m--> 128\u001b[0;31m         op_flags=[op_flag], itershape=shape, order='C').itviews[0]\n\u001b[0m\u001b[1;32m    129\u001b[0m     \u001b[0mresult\u001b[0m \u001b[0;34m=\u001b[0m \u001b[0m_maybe_view_as_subclass\u001b[0m\u001b[0;34m(\u001b[0m\u001b[0marray\u001b[0m\u001b[0;34m,\u001b[0m \u001b[0mbroadcast\u001b[0m\u001b[0;34m)\u001b[0m\u001b[0;34m\u001b[0m\u001b[0;34m\u001b[0m\u001b[0m\n\u001b[1;32m    130\u001b[0m     \u001b[0;32mif\u001b[0m \u001b[0mneeds_writeable\u001b[0m \u001b[0;32mand\u001b[0m \u001b[0;32mnot\u001b[0m \u001b[0mresult\u001b[0m\u001b[0;34m.\u001b[0m\u001b[0mflags\u001b[0m\u001b[0;34m.\u001b[0m\u001b[0mwriteable\u001b[0m\u001b[0;34m:\u001b[0m\u001b[0;34m\u001b[0m\u001b[0;34m\u001b[0m\u001b[0m\n",
      "\u001b[0;31mKeyboardInterrupt\u001b[0m: "
     ]
    }
   ],
   "source": [
    "bin_num=5\n",
    "#these two should be the same\n",
    "reskk1 = get_regularized_sum_of_terms(L,L1,phi,Mstarspls[bin_num],method='trapz')\n",
    "reskk1b= get_regularized_sum_of_terms_old(L,L1,phi,Mstarspls[bin_num],method='trapz')\n",
    "#these two should be the same\n",
    "reskk2 = get_second_sum_of_terms(L,L1,Mstarspls[bin_num],method='trapz')\n",
    "reskk2b= get_second_sum_of_terms_exact(L,L1,Mstarspls[bin_num])\n"
   ]
  },
  {
   "cell_type": "code",
   "execution_count": null,
   "metadata": {},
   "outputs": [],
   "source": [
    "plt.figure()\n",
    "plt.title('relative difference of two variable transforms')\n",
    "plt.loglog(L, reskk1b/reskk1-1)\n",
    "plt.loglog(L, -reskk1b/reskk1+1)\n",
    "plt.xlabel('$L$',fontsize=20)\n",
    "plt.show()\n",
    "plt.savefig(plotpath+'firstIntegral_tests.pdf', bbox_inches='tight')"
   ]
  },
  {
   "cell_type": "code",
   "execution_count": null,
   "metadata": {},
   "outputs": [],
   "source": [
    "# use trapezian rule\n",
    "lstyles=['-','--','-.']\n",
    "colors=['blue', 'crimson','green']\n",
    "i=0\n",
    "plt.figure()\n",
    "plt.title('relative difference of analytic and numeric integral')\n",
    "for method in ['simps','trapz','sum']:\n",
    "    reskk_ = get_second_sum_of_terms(L,L1,Mstarspls[bin_num],method=method)\n",
    "    plt.loglog(L, reskk_/reskk2b-1,label=method,ls=lstyles[i],c=colors[i])\n",
    "    plt.loglog(L, -reskk_/reskk2b+1,label=method,ls=lstyles[i],c=colors[i])\n",
    "    i+=1\n",
    "plt.xlabel('$L$',fontsize=20)\n",
    "plt.legend()\n",
    "plt.show()\n",
    "plt.savefig(plotpath+'integral_tests.pdf', bbox_inches='tight')"
   ]
  },
  {
   "cell_type": "code",
   "execution_count": null,
   "metadata": {},
   "outputs": [],
   "source": [
    "plt.figure()\n",
    "plt.loglog(ls,Cls[bin_num],label='(11) term')\n",
    "plt.loglog(L, -reskk1,label='integral 1')\n",
    "plt.loglog(L, reskk2,ls='--',label='integral 2',color='coral')\n",
    "plt.loglog(L, reskk1+reskk2,ls='--',label='diff',color='crimson')\n",
    "plt.loglog(L, -(reskk1+reskk2),ls='-',color='crimson')\n",
    "plt.loglog(L, reskk2b,ls='-.',label='integral 2 exact')\n",
    "plt.loglog(L, reskk1+reskk2b,ls='-',label='diff 2 ',color='cyan')\n",
    "plt.loglog(L, -(reskk1+reskk2b),ls='--',color='cyan')\n",
    "plt.xlim(10,10000)\n",
    "plt.ylim(1e-13,1e-6)\n",
    "plt.legend(loc=(1.05,0.35))\n",
    "plt.ylabel('$C_L^{\\kappa\\kappa}$',fontsize=20)\n",
    "plt.xlabel('$L$',fontsize=20)\n",
    "plt.savefig(plotpath+'cl_cross_pB_tests%s.pdf'%LSST_bin, bbox_inches='tight')\n",
    "plt.show()"
   ]
  },
  {
   "cell_type": "code",
   "execution_count": null,
   "metadata": {},
   "outputs": [],
   "source": [
    "plt.figure()\n",
    "plt.loglog(ls,Cls[bin_num],label='(11) term')\n",
    "plt.loglog(L, -reskk1,label='integral 1')\n",
    "plt.loglog(L, reskk2,ls='--',label='integral 2',color='coral')\n",
    "plt.loglog(L, reskk1+reskk2,ls='--',label='diff',color='crimson')\n",
    "plt.loglog(L, -(reskk1+reskk2),ls='-',color='crimson')\n",
    "plt.loglog(L, reskk2b,ls='-.',label='integral 1 old way')\n",
    "plt.loglog(L, reskk1b+reskk2b,ls='-',label='diff 2 ',color='cyan')\n",
    "plt.loglog(L, -(reskk1b+reskk2b),ls='--',color='cyan')\n",
    "plt.xlim(10,10000)\n",
    "plt.ylim(1e-13,1e-6)\n",
    "plt.legend(loc=(1.05,0.35))\n",
    "plt.ylabel('$C_L^{\\kappa\\kappa}$',fontsize=20)\n",
    "plt.xlabel('$L$',fontsize=20)\n",
    "plt.savefig(plotpath+'cl_cross_pB_tests_2%s.pdf'%LSST_bin, bbox_inches='tight')\n",
    "plt.show()"
   ]
  },
  {
   "cell_type": "code",
   "execution_count": null,
   "metadata": {},
   "outputs": [],
   "source": [
    "# test case: reproduce Antony's results\n",
    "first_kernel  = kernels.CMB_lens(data.chi_cmb,data)\n",
    "simple_kernel = kernels.CMB_lens(None,data)\n",
    "second_kernel = kernels.CMB_lens(data.chi_cmb,data)\n",
    "\n",
    "\n",
    "PB_auto = PostBorn_Bispec(data, zmin, data.z_cmb, first_kernel, second_kernel, simple_kernel, k_min=kmin,k_max=100, lmax=30000, acc=2)"
   ]
  },
  {
   "cell_type": "code",
   "execution_count": null,
   "metadata": {},
   "outputs": [],
   "source": [
    "#compute correction following Krause&Hirata\n",
    "def get_regularized_sum_of_terms_auto(L,L1,phi,M,method='trapz'):\n",
    "    nu = np.cos(phi)\n",
    "    res=[]\n",
    "    for LL in L:\n",
    "        resL1=[]\n",
    "        for LL1 in L1:\n",
    "            L_= LL*np.sqrt(1.+(LL1/LL)**2+2.*LL1/LL*nu)\n",
    "            integrand =LL**2*LL1**3*(LL1*nu+LL)**2*(LL1+LL*nu)**2*(M(L_,LL1,grid=False)/L_**4/LL1**4-M(LL,LL1,grid=False)/LL**4/LL1**4)\n",
    "            if method =='simps':\n",
    "                resL1+=[simps(integrand,phi)]\n",
    "            elif method =='trapz':\n",
    "                resL1+=[np.trapz(integrand,phi)]\n",
    "            elif method =='sum':\n",
    "                resL1+=[np.sum(integrand*np.diff(phi)[0])]\n",
    "        res+=[simps(resL1,L1)]\n",
    "    res=4.*np.asarray(res)/(2*np.pi)**2\n",
    "    return res\n",
    "\n",
    "\n",
    "\n",
    "def get_second_sum_of_terms_auto(L,L1,M,method='trapz'):\n",
    "    nu = np.cos(phi)\n",
    "    res=[]\n",
    "    for LL in L:\n",
    "        resL1=[]\n",
    "        for LL1 in L1:\n",
    "            integrand = LL1*(LL**2*LL1**2*(LL1*nu+LL)**2*(LL1+LL*nu)**2-LL**4*(LL*LL1*nu)**2)*(M(LL,LL1,grid=False)/LL**4/LL1**4)\n",
    "            if method =='simps':\n",
    "                resL1+=[simps(integrand,phi)]\n",
    "            elif method =='trapz':\n",
    "                resL1+=[np.trapz(integrand,phi)]\n",
    "            elif method =='sum':\n",
    "                resL1+=[np.sum(integrand*np.diff(phi)[0])]\n",
    "        res+=[simps(resL1,L1)]\n",
    "    res=4.*np.asarray(res)/(2*np.pi)**2\n",
    "    return res"
   ]
  },
  {
   "cell_type": "code",
   "execution_count": null,
   "metadata": {},
   "outputs": [],
   "source": [
    "resauto1 = get_regularized_sum_of_terms_auto(L,L1,phi,PB_auto.Mstarsp)\n",
    "resauto2 = get_second_sum_of_terms_auto(L,L1,PB_auto.Mstarsp)"
   ]
  },
  {
   "cell_type": "code",
   "execution_count": null,
   "metadata": {},
   "outputs": [],
   "source": [
    "plt.figure(figsize=(6,4))\n",
    "plt.loglog(PB_auto.ls,PB_auto.CL_born,lw=2,label='signal')\n",
    "plt.loglog(L, resauto1+resauto2,ls='--',lw=2,color='crimson')\n",
    "plt.loglog(L, -(resauto1+resauto2),ls='-',lw=2,color='crimson',label='correction')\n",
    "plt.xlim(10,10000)\n",
    "plt.ylim(1e-13,1e-6)\n",
    "plt.legend(loc='best',fontsize=14, frameon=False)\n",
    "plt.ylabel('$C_L^{\\kappa\\kappa}$',fontsize=24)\n",
    "plt.xlabel('$L$',fontsize=20)\n",
    "#plt.savefig(plotpath+'cl_auto_pB_tests.pdf', bbox_inches='tight')\n",
    "plt.show()"
   ]
  },
  {
   "cell_type": "code",
   "execution_count": null,
   "metadata": {},
   "outputs": [],
   "source": [
    "L     = np.logspace(np.log(2),3,200)\n",
    "L1,L2 = np.meshgrid(L,L)\n",
    "np.save('../output/MLimberClKappaAuto',[L1,L2,4*PB_auto.Mstarsp(L,L)/L1**4/L2**4])"
   ]
  },
  {
   "cell_type": "code",
   "execution_count": null,
   "metadata": {},
   "outputs": [],
   "source": []
  },
  {
   "cell_type": "code",
   "execution_count": null,
   "metadata": {},
   "outputs": [],
   "source": []
  }
 ],
 "metadata": {
  "kernelspec": {
   "display_name": "NERSC BCCP",
   "language": "python",
   "name": "bccp"
  },
  "language_info": {
   "codemirror_mode": {
    "name": "ipython",
    "version": 3
   },
   "file_extension": ".py",
   "mimetype": "text/x-python",
   "name": "python",
   "nbconvert_exporter": "python",
   "pygments_lexer": "ipython3",
   "version": "3.6.7"
  }
 },
 "nbformat": 4,
 "nbformat_minor": 2
}
