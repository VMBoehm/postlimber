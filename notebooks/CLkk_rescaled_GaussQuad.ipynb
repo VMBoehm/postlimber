{
 "cells": [
  {
   "cell_type": "code",
   "execution_count": 2,
   "metadata": {},
   "outputs": [],
   "source": [
    "import numpy as np\n",
    "import matplotlib.pyplot as plt"
   ]
  },
  {
   "cell_type": "code",
   "execution_count": 3,
   "metadata": {},
   "outputs": [],
   "source": [
    "path = '/global/homes/e/ecastori/PostBorn/'"
   ]
  },
  {
   "cell_type": "code",
   "execution_count": 6,
   "metadata": {},
   "outputs": [],
   "source": [
    "data = np.loadtxt(path+'FFT_k-1Pk.dat',skiprows=2)\n",
    "\n",
    "#----------------------#\n",
    "n         = data[:,0]\n",
    "Re_c_n    = data[:,1]\n",
    "Im_c_n    = data[:,2]\n",
    "Re_nu_n   = data[:,3]\n",
    "Im_nu_n   = data[:,4]\n",
    "#----------------------#\n",
    "\n",
    "c_n  = Re_c_n  + 1j * Im_c_n\n",
    "nu_n = Re_nu_n + 1j * Im_nu_n"
   ]
  },
  {
   "cell_type": "code",
   "execution_count": 7,
   "metadata": {},
   "outputs": [],
   "source": [
    "data = np.loadtxt(path+'Il_nu_t_new.dat',skiprows=1)\n",
    "\n",
    "#----------------------#\n",
    "ell       = data[:,0]\n",
    "nn        = data[:,2]\n",
    "tt        = data[:,1]\n",
    "Re_I      = data[:,3]\n",
    "Im_I      = data[:,4]\n",
    "#----------------------#\n",
    "\n",
    "I_ = Re_I + 1j * Im_I"
   ]
  },
  {
   "cell_type": "code",
   "execution_count": 17,
   "metadata": {},
   "outputs": [],
   "source": [
    "data = np.loadtxt(path+'GG_weights.dat',skiprows=2)\n",
    "t1   = data[:,0]\n",
    "w1   = data[:,1]"
   ]
  },
  {
   "cell_type": "code",
   "execution_count": 22,
   "metadata": {},
   "outputs": [
    {
     "name": "stdout",
     "output_type": "stream",
     "text": [
      "[0. 0. 0. 0. 0. 0. 0. 0. 0. 0. 0. 0. 0. 0. 0. 0. 0. 0. 0. 0. 0. 0. 0. 0.\n",
      " 0. 0. 0. 0. 0. 0. 0. 0. 0. 0. 0. 0. 0. 0. 0. 0. 0. 0. 0. 0. 0. 0. 0. 0.\n",
      " 0. 0. 0. 0. 0. 0. 0. 0. 0. 0. 0. 0. 0. 0. 0. 0. 0. 0. 0. 0. 0. 0. 0. 0.\n",
      " 0. 0. 0. 0. 0. 0. 0. 0. 0. 0. 0. 0. 0. 0. 0. 0. 0. 0. 0. 0. 0. 0. 0. 0.\n",
      " 0. 0. 0. 0.]\n"
     ]
    }
   ],
   "source": [
    "print(np.unique(tt)-t1)"
   ]
  },
  {
   "cell_type": "code",
   "execution_count": 8,
   "metadata": {},
   "outputs": [
    {
     "name": "stdout",
     "output_type": "stream",
     "text": [
      "{'h': 0.677, 'omega_b': 0.02247, 'omega_cdm': 0.11923, 'A_s': 2.10732e-09, 'n_s': 0.96824, 'k_pivot': 0.05}\n"
     ]
    }
   ],
   "source": [
    "#cosmology\n",
    "h         = 0.6770\n",
    "omega_cdm = 0.11923\n",
    "omega_b   = 0.02247\n",
    "Omega_b   = omega_b/h**2\n",
    "Omega_cdm = omega_cdm/h**2\n",
    "Omega_m   = Omega_b+Omega_cdm\n",
    "ns        = 0.96824\n",
    "A0        = 2.10732*10**(-9)\n",
    "\n",
    "#dictionary for class\n",
    "cosmo_dict={'h': h,\n",
    "'omega_b' : omega_b,\n",
    "'omega_cdm': omega_cdm,\n",
    "'A_s'    : A0,\n",
    "'n_s'    : ns,\n",
    "'k_pivot' : 0.05}\n",
    "print(cosmo_dict)\n",
    "\n",
    "# speed of light\n",
    "c      = 299792458./1000. # km/s\n",
    "\n",
    "#prefactor for Cl_kk computation from Cl_dd\n",
    "prefac = 1.5*Omega_m*(100.)**2/c**2 #without h"
   ]
  },
  {
   "cell_type": "code",
   "execution_count": 9,
   "metadata": {},
   "outputs": [],
   "source": [
    "from classy import Class\n",
    "cosmo = Class()\n",
    "cosmo.set(cosmo_dict)\n",
    "cosmo.compute()\n",
    "cosmo_b               = cosmo.get_background()\n",
    "\n",
    "class_z               = cosmo_b['z'][::-1]\n",
    "class_chi             = cosmo_b['comov. dist.'][::-1]\n",
    "class_D               = cosmo_b['gr.fac. D'][::-1]#/cosmo_b['gr.fac. D'][-1]\n",
    "\n",
    "derivParams           = cosmo.get_current_derived_parameters(['z_rec'])\n",
    "z_cmb                 = derivParams['z_rec']\n",
    "\n",
    "\n",
    "from scipy.interpolate import interp1d\n",
    "from scipy.interpolate import InterpolatedUnivariateSpline as ius\n",
    "chi_z = interp1d(class_z,class_chi*h)\n",
    "z_chi = interp1d(class_chi*h,class_z)  # Mpc/h\n",
    "D_chi = interp1d(class_chi*h,class_D)    # growth\n",
    "D_z   = interp1d(class_z,class_D)\n",
    "# chi_cmb\n",
    "chi_cmb = chi_z(z_cmb)\n",
    "\n"
   ]
  },
  {
   "cell_type": "code",
   "execution_count": 78,
   "metadata": {},
   "outputs": [
    {
     "name": "stdout",
     "output_type": "stream",
     "text": [
      "9416.066449341572 9414.597956961139\n"
     ]
    }
   ],
   "source": [
    "plt.figure()\n",
    "print(chi_z(1100),chi_z(z_cmb))"
   ]
  },
  {
   "cell_type": "code",
   "execution_count": 10,
   "metadata": {},
   "outputs": [
    {
     "data": {
      "image/png": "[encoded data removed]",
      "text/plain": [
       "<Figure size 432x288 with 1 Axes>"
      ]
     },
     "metadata": {
      "needs_background": "light"
     },
     "output_type": "display_data"
    },
    {
     "data": {
      "text/plain": [
       "array(1.)"
      ]
     },
     "execution_count": 10,
     "metadata": {},
     "output_type": "execute_result"
    }
   ],
   "source": [
    "z = np.linspace(0,5,100)\n",
    "plt.figure()\n",
    "plt.plot(class_z,class_D,ls='-')\n",
    "plt.plot(z,D_z(z),ls='--')\n",
    "plt.plot(z,1/(1+z),ls='-.')\n",
    "plt.xlim(0,5)\n",
    "plt.show()\n",
    "D_z(0)"
   ]
  },
  {
   "cell_type": "code",
   "execution_count": 81,
   "metadata": {},
   "outputs": [
    {
     "data": {
      "image/png": "[encoded data removed]",
      "text/plain": [
       "<Figure size 432x288 with 1 Axes>"
      ]
     },
     "metadata": {
      "needs_background": "light"
     },
     "output_type": "display_data"
    },
    {
     "data": {
      "image/png": "[encoded data removed]",
      "text/plain": [
       "<Figure size 432x288 with 1 Axes>"
      ]
     },
     "metadata": {
      "needs_background": "light"
     },
     "output_type": "display_data"
    }
   ],
   "source": [
    "z=np.linspace(0.,10,200)\n",
    "plt.figure()\n",
    "plt.loglog(z,chi_z(z))\n",
    "plt.show()\n",
    "plt.figure()\n",
    "plt.plot(z,D_z(z)/D_chi(chi_z(z)))\n",
    "plt.show()\n",
    "# plt.figure()\n",
    "# plt.loglog(z,)\n",
    "# plt.show()\n",
    "# plt.figure()\n",
    "# plt.loglog(z,z_chi(chi_z(z)))\n",
    "# plt.show()"
   ]
  },
  {
   "cell_type": "code",
   "execution_count": 12,
   "metadata": {},
   "outputs": [
    {
     "data": {
      "text/plain": [
       "array(0.94886829)"
      ]
     },
     "execution_count": 12,
     "metadata": {},
     "output_type": "execute_result"
    }
   ],
   "source": [
    "D_chi(chi_z(0.1))"
   ]
  },
  {
   "cell_type": "code",
   "execution_count": 13,
   "metadata": {},
   "outputs": [
    {
     "data": {
      "text/plain": [
       "1.2732395447351628"
      ]
     },
     "execution_count": 13,
     "metadata": {},
     "output_type": "execute_result"
    }
   ],
   "source": [
    "4./np.pi"
   ]
  },
  {
   "cell_type": "code",
   "execution_count": 14,
   "metadata": {},
   "outputs": [],
   "source": [
    "def set_kernel(chi_max):\n",
    "    def kernel(chi):\n",
    "        return (1.+z_chi(chi))*D_chi(chi)\n",
    "    return kernel"
   ]
  },
  {
   "cell_type": "code",
   "execution_count": 15,
   "metadata": {},
   "outputs": [],
   "source": [
    "W = set_kernel(chi_cmb)"
   ]
  },
  {
   "cell_type": "code",
   "execution_count": 25,
   "metadata": {},
   "outputs": [
    {
     "name": "stdout",
     "output_type": "stream",
     "text": [
      "[-1.9-27.94471j   -1.9-27.665263j  -1.9-27.385816j  -1.9-27.106369j\n",
      " -1.9-26.826921j  -1.9-26.547474j  -1.9-26.268027j  -1.9-25.98858j\n",
      " -1.9-25.709133j  -1.9-25.429686j  -1.9-25.150239j  -1.9-24.870792j\n",
      " -1.9-24.591345j  -1.9-24.311898j  -1.9-24.03245j   -1.9-23.753003j\n",
      " -1.9-23.473556j  -1.9-23.194109j  -1.9-22.914662j  -1.9-22.635215j\n",
      " -1.9-22.355768j  -1.9-22.076321j  -1.9-21.796874j  -1.9-21.517427j\n",
      " -1.9-21.237979j  -1.9-20.958532j  -1.9-20.679085j  -1.9-20.399638j\n",
      " -1.9-20.120191j  -1.9-19.840744j  -1.9-19.561297j  -1.9-19.28185j\n",
      " -1.9-19.002403j  -1.9-18.722956j  -1.9-18.443509j  -1.9-18.164061j\n",
      " -1.9-17.884614j  -1.9-17.605167j  -1.9-17.32572j   -1.9-17.046273j\n",
      " -1.9-16.766826j  -1.9-16.487379j  -1.9-16.207932j  -1.9-15.928485j\n",
      " -1.9-15.649038j  -1.9-15.36959j   -1.9-15.090143j  -1.9-14.810696j\n",
      " -1.9-14.531249j  -1.9-14.251802j  -1.9-13.972355j  -1.9-13.692908j\n",
      " -1.9-13.413461j  -1.9-13.134014j  -1.9-12.854567j  -1.9-12.575119j\n",
      " -1.9-12.295672j  -1.9-12.016225j  -1.9-11.736778j  -1.9-11.457331j\n",
      " -1.9-11.177884j  -1.9-10.898437j  -1.9-10.61899j   -1.9-10.339543j\n",
      " -1.9-10.060096j  -1.9 -9.7806485j -1.9 -9.5012014j -1.9 -9.2217543j\n",
      " -1.9 -8.9423072j -1.9 -8.6628601j -1.9 -8.383413j  -1.9 -8.1039659j\n",
      " -1.9 -7.8245188j -1.9 -7.5450717j -1.9 -7.2656246j -1.9 -6.9861775j\n",
      " -1.9 -6.7067304j -1.9 -6.4272833j -1.9 -6.1478362j -1.9 -5.8683891j\n",
      " -1.9 -5.588942j  -1.9 -5.3094949j -1.9 -5.0300478j -1.9 -4.7506007j\n",
      " -1.9 -4.4711536j -1.9 -4.1917065j -1.9 -3.9122594j -1.9 -3.6328123j\n",
      " -1.9 -3.3533652j -1.9 -3.0739181j -1.9 -2.794471j  -1.9 -2.5150239j\n",
      " -1.9 -2.2355768j -1.9 -1.9561297j -1.9 -1.6766826j -1.9 -1.3972355j\n",
      " -1.9 -1.1177884j -1.9 -0.8383413j -1.9 -0.5588942j -1.9 -0.2794471j\n",
      " -1.9 +0.j       ]\n",
      "[   2.    3.    4.    5.    6.    7.    8.    9.   10.   11.   12.   13.\n",
      "   14.   15.   16.   17.   18.   19.   20.   21.   22.   23.   24.   25.\n",
      "   26.   27.   28.   29.   30.   31.   32.   33.   34.   35.   36.   37.\n",
      "   38.   39.   40.   41.   42.   43.   44.   45.   46.   47.   48.   49.\n",
      "   50.   51.   52.   53.   54.   55.   56.   57.   58.   59.   60.   61.\n",
      "   62.   63.   64.   65.   66.   67.   68.   69.   70.   71.   72.   73.\n",
      "   74.   75.   76.   77.   78.   79.   80.   81.   82.   83.   84.   85.\n",
      "   86.   87.   88.   89.   90.   91.   92.   93.   94.   95.   96.   97.\n",
      "   98.   99.  100.  110.  120.  130.  140.  150.  160.  170.  180.  190.\n",
      "  200.  210.  220.  230.  240.  250.  260.  270.  280.  290.  300.  310.\n",
      "  320.  330.  340.  350.  360.  370.  380.  390.  400.  410.  420.  430.\n",
      "  440.  450.  460.  470.  480.  490.  500.  510.  520.  530.  540.  550.\n",
      "  560.  570.  580.  590.  600.  610.  620.  630.  640.  650.  660.  670.\n",
      "  680.  690.  700.  710.  720.  730.  740.  750.  760.  770.  780.  790.\n",
      "  800.  810.  820.  830.  840.  850.  860.  870.  880.  890.  900.  910.\n",
      "  920.  930.  940.  950.  960.  970.  980.  990. 1000. 1010. 1020. 1030.\n",
      " 1040. 1050. 1060. 1070. 1080. 1090. 1100. 1110. 1120. 1130. 1140. 1150.\n",
      " 1160. 1170. 1180. 1190. 1200. 1210. 1220. 1230. 1240. 1250. 1260. 1270.\n",
      " 1280. 1290. 1300. 1310. 1320. 1330. 1340. 1350. 1360. 1370. 1380. 1390.\n",
      " 1400. 1410. 1420. 1430. 1440. 1450. 1460. 1470. 1480. 1490. 1500. 1510.\n",
      " 1520. 1530. 1540. 1550. 1560. 1570. 1580. 1590. 1600. 1610. 1620. 1630.\n",
      " 1640. 1650. 1660. 1670. 1680. 1690. 1700. 1710. 1720. 1730. 1740. 1750.\n",
      " 1760. 1770. 1780. 1790. 1800. 1810. 1820. 1830. 1840. 1850. 1860. 1870.\n",
      " 1880. 1890. 1900. 1910. 1920. 1930. 1940. 1950. 1960. 1970. 1980. 1990.\n",
      " 2000.]\n",
      "[1.4313661e-04 7.5402468e-04 1.8524326e-03 3.4375315e-03 5.5078024e-03\n",
      " 8.0612296e-03 1.1095321e-02 1.4607112e-02 1.8593173e-02 2.3049609e-02\n",
      " 2.7972065e-02 3.3355732e-02 3.9195351e-02 4.5485215e-02 5.2219178e-02\n",
      " 5.9390660e-02 6.6992656e-02 7.5017736e-02 8.3458060e-02 9.2305381e-02\n",
      " 1.0155105e-01 1.1118605e-01 1.2120094e-01 1.3158596e-01 1.4233094e-01\n",
      " 1.5342540e-01 1.6485849e-01 1.7661905e-01 1.8869557e-01 2.0107626e-01\n",
      " 2.1374903e-01 2.2670149e-01 2.3992099e-01 2.5339461e-01 2.6710918e-01\n",
      " 2.8105130e-01 2.9520735e-01 3.0956351e-01 3.2410574e-01 3.3881983e-01\n",
      " 3.5369141e-01 3.6870594e-01 3.8384876e-01 3.9910507e-01 4.1445996e-01\n",
      " 4.2989843e-01 4.4540540e-01 4.6096571e-01 4.7656416e-01 4.9218551e-01\n",
      " 5.0781449e-01 5.2343584e-01 5.3903429e-01 5.5459460e-01 5.7010157e-01\n",
      " 5.8554004e-01 6.0089493e-01 6.1615124e-01 6.3129406e-01 6.4630859e-01\n",
      " 6.6118017e-01 6.7589426e-01 6.9043649e-01 7.0479265e-01 7.1894870e-01\n",
      " 7.3289082e-01 7.4660539e-01 7.6007901e-01 7.7329851e-01 7.8625097e-01\n",
      " 7.9892374e-01 8.1130443e-01 8.2338095e-01 8.3514151e-01 8.4657460e-01\n",
      " 8.5766906e-01 8.6841404e-01 8.7879906e-01 8.8881395e-01 8.9844895e-01\n",
      " 9.0769462e-01 9.1654194e-01 9.2498226e-01 9.3300734e-01 9.4060934e-01\n",
      " 9.4778082e-01 9.5451479e-01 9.6080465e-01 9.6664427e-01 9.7202794e-01\n",
      " 9.7695039e-01 9.8140683e-01 9.8539289e-01 9.8890468e-01 9.9193877e-01\n",
      " 9.9449220e-01 9.9656247e-01 9.9814757e-01 9.9924598e-01 9.9985686e-01]\n",
      "101 101 101 100\n",
      "2918900 2918900\n"
     ]
    }
   ],
   "source": [
    "ell_ = np.unique(ell)\n",
    "nu_n_= np.unique(nu_n) \n",
    "print(nu_n_)\n",
    "print(ell_)\n",
    "print(np.unique(tt))\n",
    "t_=np.unique(tt)\n",
    "assert(np.all(t_==t1))\n",
    "print(len(nu_n_),len(n),len(c_n),len(t_))\n",
    "print(len(tt),len(I_))"
   ]
  },
  {
   "cell_type": "code",
   "execution_count": 82,
   "metadata": {},
   "outputs": [
    {
     "name": "stdout",
     "output_type": "stream",
     "text": [
      "0 2.0\n",
      "1 3.0\n",
      "2 4.0\n",
      "3 5.0\n",
      "4 6.0\n",
      "5 7.0\n",
      "6 8.0\n",
      "7 9.0\n",
      "8 10.0\n",
      "9 11.0\n",
      "10 12.0\n",
      "11 13.0\n",
      "12 14.0\n",
      "13 15.0\n",
      "14 16.0\n",
      "15 17.0\n",
      "16 18.0\n",
      "17 19.0\n",
      "18 20.0\n",
      "19 21.0\n",
      "20 22.0\n",
      "21 23.0\n",
      "22 24.0\n",
      "23 25.0\n",
      "24 26.0\n",
      "25 27.0\n",
      "26 28.0\n",
      "27 29.0\n",
      "28 30.0\n",
      "29 31.0\n",
      "30 32.0\n",
      "31 33.0\n",
      "32 34.0\n",
      "33 35.0\n",
      "34 36.0\n",
      "35 37.0\n",
      "36 38.0\n",
      "37 39.0\n",
      "38 40.0\n",
      "39 41.0\n",
      "40 42.0\n",
      "41 43.0\n",
      "42 44.0\n",
      "43 45.0\n",
      "44 46.0\n",
      "45 47.0\n",
      "46 48.0\n",
      "47 49.0\n",
      "48 50.0\n",
      "49 51.0\n",
      "50 52.0\n",
      "51 53.0\n",
      "52 54.0\n",
      "53 55.0\n",
      "54 56.0\n",
      "55 57.0\n",
      "56 58.0\n",
      "57 59.0\n",
      "58 60.0\n",
      "59 61.0\n",
      "60 62.0\n",
      "61 63.0\n",
      "62 64.0\n",
      "63 65.0\n",
      "64 66.0\n",
      "65 67.0\n",
      "66 68.0\n",
      "67 69.0\n",
      "68 70.0\n",
      "69 71.0\n",
      "70 72.0\n",
      "71 73.0\n",
      "72 74.0\n",
      "73 75.0\n",
      "74 76.0\n",
      "75 77.0\n",
      "76 78.0\n",
      "77 79.0\n",
      "78 80.0\n",
      "79 81.0\n",
      "80 82.0\n",
      "81 83.0\n",
      "82 84.0\n",
      "83 85.0\n",
      "84 86.0\n",
      "85 87.0\n",
      "86 88.0\n",
      "87 89.0\n",
      "88 90.0\n",
      "89 91.0\n",
      "90 92.0\n",
      "91 93.0\n",
      "92 94.0\n",
      "93 95.0\n",
      "94 96.0\n",
      "95 97.0\n",
      "96 98.0\n",
      "97 99.0\n",
      "98 100.0\n",
      "99 110.0\n",
      "100 120.0\n",
      "101 130.0\n",
      "102 140.0\n",
      "103 150.0\n",
      "104 160.0\n",
      "105 170.0\n",
      "106 180.0\n",
      "107 190.0\n",
      "108 200.0\n",
      "109 210.0\n",
      "110 220.0\n",
      "111 230.0\n",
      "112 240.0\n",
      "113 250.0\n",
      "114 260.0\n",
      "115 270.0\n",
      "116 280.0\n",
      "117 290.0\n",
      "118 300.0\n",
      "119 310.0\n",
      "120 320.0\n",
      "121 330.0\n",
      "122 340.0\n",
      "123 350.0\n",
      "124 360.0\n",
      "125 370.0\n",
      "126 380.0\n",
      "127 390.0\n",
      "128 400.0\n",
      "129 410.0\n",
      "130 420.0\n",
      "131 430.0\n",
      "132 440.0\n",
      "133 450.0\n",
      "134 460.0\n",
      "135 470.0\n",
      "136 480.0\n",
      "137 490.0\n",
      "138 500.0\n",
      "139 510.0\n",
      "140 520.0\n",
      "141 530.0\n",
      "142 540.0\n",
      "143 550.0\n",
      "144 560.0\n",
      "145 570.0\n",
      "146 580.0\n",
      "147 590.0\n",
      "148 600.0\n",
      "149 610.0\n",
      "150 620.0\n",
      "151 630.0\n",
      "152 640.0\n",
      "153 650.0\n",
      "154 660.0\n",
      "155 670.0\n",
      "156 680.0\n",
      "157 690.0\n",
      "158 700.0\n",
      "159 710.0\n",
      "160 720.0\n",
      "161 730.0\n",
      "162 740.0\n",
      "163 750.0\n",
      "164 760.0\n",
      "165 770.0\n",
      "166 780.0\n",
      "167 790.0\n",
      "168 800.0\n",
      "169 810.0\n",
      "170 820.0\n",
      "171 830.0\n",
      "172 840.0\n",
      "173 850.0\n",
      "174 860.0\n",
      "175 870.0\n",
      "176 880.0\n",
      "177 890.0\n",
      "178 900.0\n",
      "179 910.0\n",
      "180 920.0\n",
      "181 930.0\n",
      "182 940.0\n",
      "183 950.0\n",
      "184 960.0\n",
      "185 970.0\n",
      "186 980.0\n",
      "187 990.0\n",
      "188 1000.0\n",
      "189 1010.0\n",
      "190 1020.0\n",
      "191 1030.0\n",
      "192 1040.0\n",
      "193 1050.0\n",
      "194 1060.0\n",
      "195 1070.0\n",
      "196 1080.0\n",
      "197 1090.0\n",
      "198 1100.0\n",
      "199 1110.0\n",
      "200 1120.0\n",
      "201 1130.0\n",
      "202 1140.0\n",
      "203 1150.0\n",
      "204 1160.0\n",
      "205 1170.0\n",
      "206 1180.0\n",
      "207 1190.0\n",
      "208 1200.0\n",
      "209 1210.0\n",
      "210 1220.0\n",
      "211 1230.0\n",
      "212 1240.0\n",
      "213 1250.0\n",
      "214 1260.0\n",
      "215 1270.0\n",
      "216 1280.0\n",
      "217 1290.0\n",
      "218 1300.0\n",
      "219 1310.0\n",
      "220 1320.0\n",
      "221 1330.0\n",
      "222 1340.0\n",
      "223 1350.0\n",
      "224 1360.0\n",
      "225 1370.0\n",
      "226 1380.0\n",
      "227 1390.0\n",
      "228 1400.0\n",
      "229 1410.0\n",
      "230 1420.0\n",
      "231 1430.0\n",
      "232 1440.0\n",
      "233 1450.0\n",
      "234 1460.0\n",
      "235 1470.0\n",
      "236 1480.0\n",
      "237 1490.0\n",
      "238 1500.0\n",
      "239 1510.0\n",
      "240 1520.0\n",
      "241 1530.0\n",
      "242 1540.0\n",
      "243 1550.0\n",
      "244 1560.0\n",
      "245 1570.0\n",
      "246 1580.0\n",
      "247 1590.0\n",
      "248 1600.0\n",
      "249 1610.0\n",
      "250 1620.0\n",
      "251 1630.0\n",
      "252 1640.0\n",
      "253 1650.0\n",
      "254 1660.0\n",
      "255 1670.0\n",
      "256 1680.0\n",
      "257 1690.0\n",
      "258 1700.0\n",
      "259 1710.0\n",
      "260 1720.0\n",
      "261 1730.0\n",
      "262 1740.0\n",
      "263 1750.0\n",
      "264 1760.0\n",
      "265 1770.0\n",
      "266 1780.0\n",
      "267 1790.0\n",
      "268 1800.0\n",
      "269 1810.0\n",
      "270 1820.0\n",
      "271 1830.0\n",
      "272 1840.0\n",
      "273 1850.0\n",
      "274 1860.0\n",
      "275 1870.0\n",
      "276 1880.0\n",
      "277 1890.0\n",
      "278 1900.0\n",
      "279 1910.0\n",
      "280 1920.0\n",
      "281 1930.0\n",
      "282 1940.0\n",
      "283 1950.0\n",
      "284 1960.0\n",
      "285 1970.0\n",
      "286 1980.0\n",
      "287 1990.0\n",
      "288 2000.0\n"
     ]
    }
   ],
   "source": [
    "nu=nu_n_\n",
    "\n",
    "res=[]\n",
    "m = 0\n",
    "for ii,ll in enumerate(ell_):\n",
    "    print(ii,ll)\n",
    "    for t in t_:\n",
    "        for r in t_:\n",
    "            res+=[np.real(sum(I_[m:m+len(n)][0:-1]*c_n[0:-1]*2.*(chi_cmb*r)**(-nu[0:-1]))+I_[m:m+len(n)][-1]*c_n[-1]*(chi_cmb*r)**(-nu[-1]))]\n",
    "        m+=len(n)\n",
    "assert(m==len(I_))"
   ]
  },
  {
   "cell_type": "code",
   "execution_count": null,
   "metadata": {},
   "outputs": [],
   "source": []
  },
  {
   "cell_type": "code",
   "execution_count": 83,
   "metadata": {},
   "outputs": [
    {
     "data": {
      "image/png": "[encoded data removed]",
      "text/plain": [
       "<Figure size 432x288 with 1 Axes>"
      ]
     },
     "metadata": {
      "needs_background": "light"
     },
     "output_type": "display_data"
    }
   ],
   "source": [
    "from scipy.integrate import simps, quadrature\n",
    "from scipy.interpolate import interp1d\n",
    "m=0\n",
    "result=[]\n",
    "for ii,ll in enumerate(ell_):\n",
    "    res_=[]\n",
    "    for t in t_:\n",
    "        \n",
    "        #for r in t_:\n",
    "        integrand=W(t*t_*chi_cmb)*W(t*chi_cmb)*(1.-t_*t)/t*(1.-t_)/t_*res[m:m+len(t_)]\n",
    "\n",
    "            \n",
    "        m+=len(t_)\n",
    "        #integrand[0] = 0.#+1j*0.\n",
    "\n",
    "        res_+=[np.sum(w1*integrand)]#quadrature(integrand,min(t_),max(t_))[0]]\n",
    "    #print(res_)\n",
    "        # for every n do r integral\n",
    "    integrand = np.asarray(res_)\n",
    "\n",
    "    if ll==3:\n",
    "        plt.plot(t_,integrand,marker='o')\n",
    "    #integrand[0] = 0.#+1j*0.\n",
    "    result+=[simps(integrand,t_)]#min(t_),max(t_))[0]]\n",
    "    \n"
   ]
  },
  {
   "cell_type": "code",
   "execution_count": 20,
   "metadata": {},
   "outputs": [
    {
     "name": "stderr",
     "output_type": "stream",
     "text": [
      "/global/homes/v/vboehm/.conda/envs/bccp/lib/python3.6/site-packages/ipykernel_launcher.py:10: RuntimeWarning: divide by zero encountered in true_divide\n",
      "  # Remove the CWD from sys.path while we load stuff.\n",
      "/global/homes/v/vboehm/.conda/envs/bccp/lib/python3.6/site-packages/ipykernel_launcher.py:22: RuntimeWarning: invalid value encountered in true_divide\n"
     ]
    },
    {
     "data": {
      "image/png": "[encoded data removed]",
      "text/plain": [
       "<Figure size 432x288 with 1 Axes>"
      ]
     },
     "metadata": {
      "needs_background": "light"
     },
     "output_type": "display_data"
    }
   ],
   "source": [
    "# from scipy.integrate import simps, quadrature\n",
    "# from scipy.interpolate import interp1d\n",
    "# m=0\n",
    "# result=[]\n",
    "# for ii,ll in enumerate(ell_):\n",
    "#     res_=[]\n",
    "#     for t in t_:\n",
    "        \n",
    "#         #for r in t_:\n",
    "#         integrand=W(t*t_*chi_cmb)*(1.-t_*t)*(1.-t_)/t_*res[m:m+len(t_)]\n",
    "\n",
    "            \n",
    "#         m+=len(t_)\n",
    "#         integrand[0] = 0.#+1j*0.\n",
    "#         #if ll==20:\n",
    "#         #    plt.semilogx(t_,integrand)\n",
    "#         integrand = interp1d(t_,integrand,kind='linear')\n",
    "#         t_long = np.linspace(min(t_),max(t_),500)\n",
    "#         res_+=[simps(integrand(t_long),t_long)]#quadrature(integrand,min(t_),max(t_))[0]]\n",
    "#     #print(res_)\n",
    "#         # for every n do r integral\n",
    "#     integrand = np.asarray(res_)*W(t_*chi_cmb)/t_\n",
    "\n",
    "    \n",
    "#     integrand[0] = 0.#+1j*0.\n",
    "#     integrand = interp1d(t_,integrand,kind='linear')\n",
    "#     if ll==3:\n",
    "#         plt.semilogx(t_long,integrand(t_long))\n",
    "#     result+=[simps(integrand(t_long),t_long)]#min(t_),max(t_))[0]]\n",
    "        "
   ]
  },
  {
   "cell_type": "code",
   "execution_count": 84,
   "metadata": {},
   "outputs": [
    {
     "name": "stdout",
     "output_type": "stream",
     "text": [
      "[-9.78082345e-08 -1.38153127e-08 -3.36004394e-09 -1.06305039e-09\n",
      " -3.89922935e-10 -1.54927505e-10 -6.29977772e-11 -2.42951774e-11\n",
      " -7.31333895e-12  2.01048258e-13  3.39845346e-12  4.57841453e-12\n",
      "  4.81221852e-12  4.61478958e-12  4.23708516e-12  3.80287346e-12\n",
      "  3.37133102e-12  2.96933037e-12  2.60712391e-12  2.28679437e-12\n",
      "  2.00633427e-12  1.76217575e-12  1.55017868e-12  1.36634592e-12\n",
      "  1.20694167e-12  1.06860837e-12  9.48385671e-13  8.43676460e-13\n",
      "  7.52294371e-13  6.72362252e-13  6.02268086e-13  5.40678057e-13\n",
      "  4.86420339e-13  4.38530744e-13  3.96152852e-13  3.58579468e-13\n",
      "  3.25185641e-13  2.95444872e-13  2.68893942e-13  2.45148488e-13\n",
      "  2.23865092e-13  2.04752786e-13  1.87560904e-13  1.72065862e-13\n",
      "  1.58079308e-13  1.45431688e-13  1.33974515e-13  1.23582370e-13\n",
      "  1.14139270e-13  1.05544866e-13  9.77136387e-14  9.05666075e-14\n",
      "  8.40343201e-14  7.80564867e-14  7.25798750e-14  6.75552419e-14\n",
      "  6.29401084e-14  5.86959356e-14  5.47888691e-14  5.11882273e-14\n",
      "  4.78656562e-14  4.47970653e-14  4.19600091e-14  3.93343810e-14\n",
      "  3.69018267e-14  3.46464563e-14  3.25526630e-14  3.06078327e-14\n",
      "  2.87996305e-14  2.71170233e-14  2.55497718e-14  2.40887356e-14\n",
      "  2.27259994e-14  2.14539082e-14  2.02655214e-14  1.91543401e-14\n",
      "  1.81146758e-14  1.71411368e-14  1.62291236e-14  1.53741420e-14\n",
      "  1.45720656e-14  1.38190200e-14  1.31116143e-14  1.24466634e-14\n",
      "  1.18211794e-14  1.12326352e-14  1.06785259e-14  1.01564179e-14\n",
      "  9.66422102e-15  9.19997116e-15  8.76184639e-15  8.34810913e-15\n",
      "  7.95731107e-15  7.58798077e-15  7.23877541e-15  6.90836195e-15\n",
      "  6.59561249e-15  6.29944288e-15  6.01884431e-15  3.89113201e-15\n",
      "  2.59638047e-15  1.78021704e-15  1.24987152e-15  8.96016026e-16\n",
      "  6.54345362e-16  4.85843242e-16  3.66156633e-16  2.79707462e-16\n",
      "  2.16304120e-16  1.69160432e-16  1.33655196e-16  1.06602901e-16\n",
      "  8.57653199e-17  6.95547558e-17  5.68273138e-17  4.67475857e-17\n",
      "  3.87008598e-17  3.22273876e-17  2.69854850e-17  2.27120647e-17\n",
      "  1.92067570e-17  1.63152815e-17  1.39171260e-17  1.19186239e-17\n",
      "  1.02448840e-17  8.83691923e-18  7.64750116e-18  6.63900486e-18\n",
      "  5.78044295e-18  5.04722529e-18  4.41885930e-18  3.87860876e-18\n",
      "  3.41271852e-18  3.00980730e-18  2.66043509e-18  2.35671387e-18\n",
      "  2.09203622e-18  1.86085277e-18  1.65843876e-18  1.48084595e-18\n",
      "  1.32466370e-18  1.18705736e-18  1.06557079e-18  9.58111883e-19\n",
      "  8.62892062e-19  7.78347670e-19  7.03201689e-19  6.36266018e-19\n",
      "  5.76545981e-19  5.23174852e-19  4.75402179e-19  4.32575358e-19\n",
      "  3.94130175e-19  3.59555781e-19  3.28424736e-19  3.00350606e-19\n",
      "  2.74995475e-19  2.52067443e-19  2.31305943e-19  2.12488228e-19\n",
      "  1.95408002e-19  1.79884159e-19  1.65757331e-19  1.52884588e-19\n",
      "  1.41141429e-19  1.30416243e-19  1.20610558e-19  1.11634806e-19\n",
      "  1.03411057e-19  9.58695220e-20  8.89442921e-20  8.25808338e-20\n",
      "  7.67263684e-20  7.13359207e-20  6.63680883e-20  6.17815048e-20\n",
      "  5.75555220e-20  5.36469298e-20  5.00356149e-20  4.66953888e-20\n",
      "  4.36032133e-20  4.07383228e-20  3.80821733e-20  3.56177999e-20\n",
      "  3.33300527e-20  3.12049292e-20  2.92298649e-20  2.73928625e-20\n",
      "  2.56836267e-20  2.40922170e-20  2.26097127e-20  2.12280483e-20\n",
      "  1.99398273e-20  1.87376285e-20  1.76155112e-20  1.65683012e-20\n",
      "  1.55893309e-20  1.46743458e-20  1.38186608e-20  1.30180768e-20\n",
      "  1.22684798e-20  1.15665848e-20  1.09072728e-20  1.02912939e-20\n",
      "  9.71347767e-21  9.17096863e-21  8.66264014e-21  8.18540190e-21\n",
      "  7.73716422e-21  7.31594537e-21  6.91996542e-21  6.54747825e-21\n",
      "  6.19704392e-21  5.86717586e-21  5.55654213e-21  5.26393263e-21\n",
      "  4.98818915e-21  4.72819503e-21  4.48298763e-21  4.25166349e-21\n",
      "  4.03328075e-21  3.82712740e-21  3.63247365e-21  3.44837287e-21\n",
      "  3.27442076e-21  3.10995459e-21  2.95440210e-21  2.80719092e-21\n",
      "  2.66790549e-21  2.53595686e-21  2.41101477e-21  2.29270283e-21\n",
      "  2.18045182e-21  2.07413710e-21  1.97333246e-21  1.87800303e-21\n",
      "  1.78703374e-21  1.70089984e-21  1.61925497e-21  1.54169679e-21\n",
      "  1.46806390e-21  1.39812353e-21  1.33171706e-21  1.26849270e-21\n",
      "  1.20792530e-21  1.15094420e-21  1.09650590e-21  1.04494972e-21\n",
      "  9.95932829e-22  9.49349383e-22  9.04997008e-22  8.62825915e-22\n",
      "  8.22646745e-22  7.84422900e-22  7.48001572e-22  7.13329962e-22\n",
      "  6.80295925e-22  6.48832852e-22  6.18853744e-22  5.90290043e-22\n",
      "  5.63066452e-22  5.37120734e-22  5.12387673e-22  4.88806389e-22\n",
      "  4.66317529e-22  4.44875086e-22  4.24427433e-22  4.04910415e-22\n",
      "  3.86293368e-22  3.68531954e-22  3.51576131e-22  3.35393138e-22\n",
      "  3.19949876e-22  3.05200125e-22  2.91116567e-22  2.77669737e-22\n",
      "  2.64817385e-22  2.52551600e-22  2.40827549e-22  2.29626191e-22\n",
      "  2.18922320e-22  2.08693625e-22  1.98916527e-22  1.89566962e-22\n",
      "  1.80638986e-22  1.72102458e-22  1.63931526e-22  1.56124968e-22\n",
      "  1.48652435e-22]\n"
     ]
    }
   ],
   "source": [
    "Cl=np.real(np.asarray(result))*4./np.pi**2*prefac**2/2.\n",
    "print(Cl)"
   ]
  },
  {
   "cell_type": "code",
   "execution_count": 85,
   "metadata": {},
   "outputs": [
    {
     "data": {
      "text/plain": [
       "(2, 500)"
      ]
     },
     "execution_count": 85,
     "metadata": {},
     "output_type": "execute_result"
    },
    {
     "data": {
      "image/png": "[encoded data removed]",
      "text/plain": [
       "<Figure size 432x288 with 1 Axes>"
      ]
     },
     "metadata": {
      "needs_background": "light"
     },
     "output_type": "display_data"
    }
   ],
   "source": [
    "plt.figure()\n",
    "plt.loglog(ell_,(ell_*(ell_+1.))**2*Cl/(2.*np.pi))\n",
    "plt.xlim(2,500)"
   ]
  },
  {
   "cell_type": "code",
   "execution_count": 86,
   "metadata": {},
   "outputs": [],
   "source": [
    "cosmo = Class()\n",
    "\n",
    "cosmo_dict={'h': h,\n",
    "'omega_b' : omega_b,\n",
    "'omega_cdm': omega_cdm,\n",
    "'A_s'    : A0,\n",
    "'n_s'    : ns,\n",
    "'k_pivot' : 0.05}\n",
    "cosmo_dict['output']='lCl, tCl'\n",
    "cosmo_dict['l_max_scalars']=2000\n",
    "cosmo_dict['lensing']='yes'\n",
    "cosmo_dict['l_switch_limber']=100\n",
    "cosmo_dict['perturb_sampling_stepsize']=0.01\n",
    "\n",
    "cosmo.set(cosmo_dict)\n",
    "cosmo.compute()\n",
    "cllen= cosmo.lensed_cl(lmax=1000)\n",
    "ll = cllen['ell']\n",
    "clpp = cllen['pp']"
   ]
  },
  {
   "cell_type": "code",
   "execution_count": null,
   "metadata": {},
   "outputs": [],
   "source": []
  },
  {
   "cell_type": "code",
   "execution_count": null,
   "metadata": {},
   "outputs": [],
   "source": []
  },
  {
   "cell_type": "code",
   "execution_count": 87,
   "metadata": {},
   "outputs": [],
   "source": [
    "data=np.loadtxt(path+'Cell_marko.dat')\n",
    "cl = data[:,1]\n",
    "\n",
    "ls = data[:,0]\n"
   ]
  },
  {
   "cell_type": "code",
   "execution_count": 88,
   "metadata": {},
   "outputs": [
    {
     "data": {
      "text/plain": [
       "<matplotlib.legend.Legend at 0x2af805d14588>"
      ]
     },
     "execution_count": 88,
     "metadata": {},
     "output_type": "execute_result"
    },
    {
     "data": {
      "image/png": "[encoded data removed]",
      "text/plain": [
       "<Figure size 432x288 with 1 Axes>"
      ]
     },
     "metadata": {
      "needs_background": "light"
     },
     "output_type": "display_data"
    }
   ],
   "source": [
    "plt.figure()\n",
    "plt.loglog(ell_,Cl,label='us')\n",
    "plt.loglog(ll,clpp,label='CLASS')\n",
    "plt.loglog(ls,cl,label='Marko')\n",
    "plt.xlim(2,1000)\n",
    "plt.ylim(1e-15,1e-7)\n",
    "plt.legend()\n"
   ]
  },
  {
   "cell_type": "code",
   "execution_count": 89,
   "metadata": {},
   "outputs": [
    {
     "data": {
      "text/plain": [
       "array([-9.78082345e-08, -1.38153127e-08, -3.36004394e-09, -1.06305039e-09,\n",
       "       -3.89922935e-10, -1.54927505e-10, -6.29977772e-11, -2.42951774e-11,\n",
       "       -7.31333895e-12,  2.01048258e-13,  3.39845346e-12,  4.57841453e-12,\n",
       "        4.81221852e-12,  4.61478958e-12,  4.23708516e-12,  3.80287346e-12,\n",
       "        3.37133102e-12,  2.96933037e-12,  2.60712391e-12,  2.28679437e-12,\n",
       "        2.00633427e-12,  1.76217575e-12,  1.55017868e-12,  1.36634592e-12,\n",
       "        1.20694167e-12,  1.06860837e-12,  9.48385671e-13,  8.43676460e-13,\n",
       "        7.52294371e-13,  6.72362252e-13,  6.02268086e-13,  5.40678057e-13,\n",
       "        4.86420339e-13,  4.38530744e-13,  3.96152852e-13,  3.58579468e-13,\n",
       "        3.25185641e-13,  2.95444872e-13,  2.68893942e-13,  2.45148488e-13,\n",
       "        2.23865092e-13,  2.04752786e-13,  1.87560904e-13,  1.72065862e-13,\n",
       "        1.58079308e-13,  1.45431688e-13,  1.33974515e-13,  1.23582370e-13,\n",
       "        1.14139270e-13,  1.05544866e-13,  9.77136387e-14,  9.05666075e-14,\n",
       "        8.40343201e-14,  7.80564867e-14,  7.25798750e-14,  6.75552419e-14,\n",
       "        6.29401084e-14,  5.86959356e-14,  5.47888691e-14,  5.11882273e-14,\n",
       "        4.78656562e-14,  4.47970653e-14,  4.19600091e-14,  3.93343810e-14,\n",
       "        3.69018267e-14,  3.46464563e-14,  3.25526630e-14,  3.06078327e-14,\n",
       "        2.87996305e-14,  2.71170233e-14,  2.55497718e-14,  2.40887356e-14,\n",
       "        2.27259994e-14,  2.14539082e-14,  2.02655214e-14,  1.91543401e-14,\n",
       "        1.81146758e-14,  1.71411368e-14,  1.62291236e-14,  1.53741420e-14,\n",
       "        1.45720656e-14,  1.38190200e-14,  1.31116143e-14,  1.24466634e-14,\n",
       "        1.18211794e-14,  1.12326352e-14,  1.06785259e-14,  1.01564179e-14,\n",
       "        9.66422102e-15,  9.19997116e-15,  8.76184639e-15,  8.34810913e-15,\n",
       "        7.95731107e-15,  7.58798077e-15,  7.23877541e-15,  6.90836195e-15,\n",
       "        6.59561249e-15,  6.29944288e-15,  6.01884431e-15,  3.89113201e-15,\n",
       "        2.59638047e-15,  1.78021704e-15,  1.24987152e-15,  8.96016026e-16,\n",
       "        6.54345362e-16,  4.85843242e-16,  3.66156633e-16,  2.79707462e-16,\n",
       "        2.16304120e-16,  1.69160432e-16,  1.33655196e-16,  1.06602901e-16,\n",
       "        8.57653199e-17,  6.95547558e-17,  5.68273138e-17,  4.67475857e-17,\n",
       "        3.87008598e-17,  3.22273876e-17,  2.69854850e-17,  2.27120647e-17,\n",
       "        1.92067570e-17,  1.63152815e-17,  1.39171260e-17,  1.19186239e-17,\n",
       "        1.02448840e-17,  8.83691923e-18,  7.64750116e-18,  6.63900486e-18,\n",
       "        5.78044295e-18,  5.04722529e-18,  4.41885930e-18,  3.87860876e-18,\n",
       "        3.41271852e-18,  3.00980730e-18,  2.66043509e-18,  2.35671387e-18,\n",
       "        2.09203622e-18,  1.86085277e-18,  1.65843876e-18,  1.48084595e-18,\n",
       "        1.32466370e-18,  1.18705736e-18,  1.06557079e-18,  9.58111883e-19,\n",
       "        8.62892062e-19,  7.78347670e-19,  7.03201689e-19,  6.36266018e-19,\n",
       "        5.76545981e-19,  5.23174852e-19,  4.75402179e-19,  4.32575358e-19,\n",
       "        3.94130175e-19,  3.59555781e-19,  3.28424736e-19,  3.00350606e-19,\n",
       "        2.74995475e-19,  2.52067443e-19,  2.31305943e-19,  2.12488228e-19,\n",
       "        1.95408002e-19,  1.79884159e-19,  1.65757331e-19,  1.52884588e-19,\n",
       "        1.41141429e-19,  1.30416243e-19,  1.20610558e-19,  1.11634806e-19,\n",
       "        1.03411057e-19,  9.58695220e-20,  8.89442921e-20,  8.25808338e-20,\n",
       "        7.67263684e-20,  7.13359207e-20,  6.63680883e-20,  6.17815048e-20,\n",
       "        5.75555220e-20,  5.36469298e-20,  5.00356149e-20,  4.66953888e-20,\n",
       "        4.36032133e-20,  4.07383228e-20,  3.80821733e-20,  3.56177999e-20,\n",
       "        3.33300527e-20,  3.12049292e-20,  2.92298649e-20,  2.73928625e-20,\n",
       "        2.56836267e-20,  2.40922170e-20,  2.26097127e-20,  2.12280483e-20,\n",
       "        1.99398273e-20,  1.87376285e-20,  1.76155112e-20,  1.65683012e-20,\n",
       "        1.55893309e-20,  1.46743458e-20,  1.38186608e-20,  1.30180768e-20,\n",
       "        1.22684798e-20,  1.15665848e-20,  1.09072728e-20,  1.02912939e-20,\n",
       "        9.71347767e-21,  9.17096863e-21,  8.66264014e-21,  8.18540190e-21,\n",
       "        7.73716422e-21,  7.31594537e-21,  6.91996542e-21,  6.54747825e-21,\n",
       "        6.19704392e-21,  5.86717586e-21,  5.55654213e-21,  5.26393263e-21,\n",
       "        4.98818915e-21,  4.72819503e-21,  4.48298763e-21,  4.25166349e-21,\n",
       "        4.03328075e-21,  3.82712740e-21,  3.63247365e-21,  3.44837287e-21,\n",
       "        3.27442076e-21,  3.10995459e-21,  2.95440210e-21,  2.80719092e-21,\n",
       "        2.66790549e-21,  2.53595686e-21,  2.41101477e-21,  2.29270283e-21,\n",
       "        2.18045182e-21,  2.07413710e-21,  1.97333246e-21,  1.87800303e-21,\n",
       "        1.78703374e-21,  1.70089984e-21,  1.61925497e-21,  1.54169679e-21,\n",
       "        1.46806390e-21,  1.39812353e-21,  1.33171706e-21,  1.26849270e-21,\n",
       "        1.20792530e-21,  1.15094420e-21,  1.09650590e-21,  1.04494972e-21,\n",
       "        9.95932829e-22,  9.49349383e-22,  9.04997008e-22,  8.62825915e-22,\n",
       "        8.22646745e-22,  7.84422900e-22,  7.48001572e-22,  7.13329962e-22,\n",
       "        6.80295925e-22,  6.48832852e-22,  6.18853744e-22,  5.90290043e-22,\n",
       "        5.63066452e-22,  5.37120734e-22,  5.12387673e-22,  4.88806389e-22,\n",
       "        4.66317529e-22,  4.44875086e-22,  4.24427433e-22,  4.04910415e-22,\n",
       "        3.86293368e-22,  3.68531954e-22,  3.51576131e-22,  3.35393138e-22,\n",
       "        3.19949876e-22,  3.05200125e-22,  2.91116567e-22,  2.77669737e-22,\n",
       "        2.64817385e-22,  2.52551600e-22,  2.40827549e-22,  2.29626191e-22,\n",
       "        2.18922320e-22,  2.08693625e-22,  1.98916527e-22,  1.89566962e-22,\n",
       "        1.80638986e-22,  1.72102458e-22,  1.63931526e-22,  1.56124968e-22,\n",
       "        1.48652435e-22])"
      ]
     },
     "execution_count": 89,
     "metadata": {},
     "output_type": "execute_result"
    }
   ],
   "source": [
    "Cl"
   ]
  },
  {
   "cell_type": "code",
   "execution_count": 90,
   "metadata": {},
   "outputs": [
    {
     "data": {
      "text/plain": [
       "0.8221362793660904"
      ]
     },
     "execution_count": 90,
     "metadata": {},
     "output_type": "execute_result"
    }
   ],
   "source": [
    "cosmo = Class()\n",
    "\n",
    "cosmo_dict={'h': h,\n",
    "'omega_b' : omega_b,\n",
    "'omega_cdm': omega_cdm,\n",
    "'A_s'    : A0,\n",
    "'n_s'    : ns,\n",
    "'k_pivot' : 0.05}\n",
    "cosmo_dict['output']='lCl, tCl, mPk'\n",
    "cosmo_dict['l_max_scalars']=2000\n",
    "cosmo_dict['lensing']='yes'\n",
    "cosmo_dict['l_switch_limber']=1\n",
    "\n",
    "cosmo.set(cosmo_dict)\n",
    "cosmo.compute()\n",
    "cllen= cosmo.lensed_cl(lmax=1000)\n",
    "ll2 = cllen['ell']\n",
    "clpp2 = cllen['pp']\n",
    "\n",
    "cosmo.sigma8()"
   ]
  },
  {
   "cell_type": "code",
   "execution_count": 91,
   "metadata": {},
   "outputs": [
    {
     "data": {
      "text/plain": [
       "<matplotlib.legend.Legend at 0x2af805ccbf98>"
      ]
     },
     "execution_count": 91,
     "metadata": {},
     "output_type": "execute_result"
    },
    {
     "data": {
      "image/png": "[encoded data removed]",
      "text/plain": [
       "<Figure size 432x288 with 1 Axes>"
      ]
     },
     "metadata": {
      "needs_background": "light"
     },
     "output_type": "display_data"
    }
   ],
   "source": [
    "plt.figure()#\n",
    "plt.semilogx(ell_,Cl/np.interp(ell_,ll,clpp), label='our result over CLASS no Limber')\n",
    "plt.semilogx(ell_,Cl/np.interp(ell_,ll,clpp)/1.13, label='our result/1.13 over CLASS no Limber')\n",
    "#plt.semilogx(ell_,np.interp(ell_,ls,cl)/Cl)\n",
    "plt.semilogx(ls,cl/np.interp(ls,ll,clpp), label='Markos result over CLASS no Limber')\n",
    "#plt.axhline(1,color='black')\n",
    "plt.ylim(0.9,1.1)\n",
    "plt.grid()\n",
    "plt.legend()"
   ]
  },
  {
   "cell_type": "code",
   "execution_count": 92,
   "metadata": {},
   "outputs": [
    {
     "name": "stdout",
     "output_type": "stream",
     "text": [
      "CAMB version: 0.1.9 \n"
     ]
    }
   ],
   "source": [
    "import camb\n",
    "from camb import model, initialpower\n",
    "print('CAMB version: %s '%camb.__version__)"
   ]
  },
  {
   "cell_type": "code",
   "execution_count": 93,
   "metadata": {},
   "outputs": [
    {
     "data": {
      "text/plain": [
       "numpy.ndarray"
      ]
     },
     "execution_count": 93,
     "metadata": {},
     "output_type": "execute_result"
    }
   ],
   "source": [
    "x = y = z = np.arange(0.0,5.0,1.0)\n",
    "np.savetxt('test.out', (x,y,z))\n",
    "type(ll)"
   ]
  },
  {
   "cell_type": "code",
   "execution_count": 94,
   "metadata": {},
   "outputs": [],
   "source": [
    "np.savetxt('class_ouput.out',X=(ll2,clpp,clpp2))\n",
    "\n"
   ]
  },
  {
   "cell_type": "code",
   "execution_count": 95,
   "metadata": {},
   "outputs": [
    {
     "name": "stderr",
     "output_type": "stream",
     "text": [
      "/global/homes/v/vboehm/.conda/envs/bccp/lib/python3.6/site-packages/ipykernel_launcher.py:1: RuntimeWarning: invalid value encountered in true_divide\n",
      "  \"\"\"Entry point for launching an IPython kernel.\n"
     ]
    },
    {
     "data": {
      "text/plain": [
       "[<matplotlib.lines.Line2D at 0x2af817130fd0>]"
      ]
     },
     "execution_count": 95,
     "metadata": {},
     "output_type": "execute_result"
    },
    {
     "data": {
      "image/png": "[encoded data removed]",
      "text/plain": [
       "<Figure size 432x288 with 1 Axes>"
      ]
     },
     "metadata": {
      "needs_background": "light"
     },
     "output_type": "display_data"
    }
   ],
   "source": [
    "plt.semilogx(ll,clpp2/clpp-1, label='CLASS Limber over CLASS no Limber')"
   ]
  },
  {
   "cell_type": "code",
   "execution_count": null,
   "metadata": {},
   "outputs": [],
   "source": []
  },
  {
   "cell_type": "code",
   "execution_count": 96,
   "metadata": {},
   "outputs": [
    {
     "data": {
      "image/png": "[encoded data removed]",
      "text/plain": [
       "<Figure size 432x288 with 1 Axes>"
      ]
     },
     "metadata": {
      "needs_background": "light"
     },
     "output_type": "display_data"
    }
   ],
   "source": [
    "#ratio class over camb\n",
    "ll,clpp,clpp2 = np.loadtxt('class_ouput.out')\n",
    "c_ell,cl_limber,cl_limber2,cl_camb = np.loadtxt('camb_cls.out')\n",
    "clpp=np.interp(c_ell,ll,(ll*(ll+1.))**2*clpp/2./np.pi)\n",
    "clpp2=np.interp(c_ell,ll,(ll*(ll+1.))**2*clpp2/2./np.pi)\n",
    "plt.semilogx(c_ell,clpp/cl_camb-1, label='CLASS over CAMB no Limber -1')\n",
    "plt.ylim(-0.1,0.1)\n",
    "plt.grid()"
   ]
  },
  {
   "cell_type": "code",
   "execution_count": null,
   "metadata": {},
   "outputs": [],
   "source": []
  },
  {
   "cell_type": "code",
   "execution_count": null,
   "metadata": {},
   "outputs": [],
   "source": []
  },
  {
   "cell_type": "code",
   "execution_count": null,
   "metadata": {},
   "outputs": [],
   "source": []
  }
 ],
 "metadata": {
  "kernelspec": {
   "display_name": "NERSC BCCP",
   "language": "python",
   "name": "bccp"
  },
  "language_info": {
   "codemirror_mode": {
    "name": "ipython",
    "version": 3
   },
   "file_extension": ".py",
   "mimetype": "text/x-python",
   "name": "python",
   "nbconvert_exporter": "python",
   "pygments_lexer": "ipython3",
   "version": "3.6.6"
  }
 },
 "nbformat": 4,
 "nbformat_minor": 2
}
