{
 "cells": [
  {
   "cell_type": "code",
   "execution_count": 38,
   "metadata": {},
   "outputs": [],
   "source": [
    "import numpy as np\n",
    "import matplotlib.pyplot as plt\n",
    "import sys\n",
    "import time\n",
    "from scipy.interpolate import RectBivariateSpline\n",
    "path = '../PostBornEma/'\n",
    "sys.path.append(\"../scripts/\") \n",
    "from lab import *"
   ]
  },
  {
   "cell_type": "code",
   "execution_count": 39,
   "metadata": {},
   "outputs": [
    {
     "name": "stdout",
     "output_type": "stream",
     "text": [
      "zmax=5 chimax=5387\n",
      "gaussgal_z010_20_sigmaz5_5 zmax5\n"
     ]
    },
    {
     "data": {
      "text/plain": [
       "{'LSST': False,\n",
       " 'z01': 1.0,\n",
       " 'sigma_z1': 0.5,\n",
       " 'z02': 2.0,\n",
       " 'sigma_z2': 0.5,\n",
       " 'bin_num1': 'all',\n",
       " 'bin_num2': 'all',\n",
       " 'chimax': array(5387.18716845),\n",
       " 'bias': 'simple',\n",
       " 'ext': 'gaussgal_z010_20_sigmaz5_5',\n",
       " 'ext2': 'zmax5'}"
      ]
     },
     "execution_count": 39,
     "metadata": {},
     "output_type": "execute_result"
    }
   ],
   "source": [
    "#general settings\n",
    "LSST    = False\n",
    "#if not LSST redhsift kernel\n",
    "z0_1      = 1.\n",
    "sigma_z_1 = 0.5\n",
    "z0_2      = 2.\n",
    "sigma_z_2 = 0.5\n",
    "bin_num1 = 'all'\n",
    "bin_num2 = 'all'\n",
    "zmax  = 5.\n",
    "bias  = 'simple'\n",
    "chimax = chi_z(zmax)\n",
    "print('zmax=%d'%zmax, 'chimax=%d'%chimax)\n",
    "\n",
    "\n",
    "if LSST:\n",
    "    file_ext = 'lsst_%s_%s'%(str(bin_num1), str(bin_num2))\n",
    "else:\n",
    "    file_ext = 'gaussgal_z0%d_%d_sigmaz%d_%d'%(z0_1*10,z0_2*10,sigma_z_1*10,sigma_z_2*10)\n",
    "    \n",
    "file_ext2 = 'zmax%d'%zmax\n",
    "    \n",
    "print(file_ext, file_ext2)\n",
    "\n",
    "\n",
    "params = {}\n",
    "params['LSST']    = LSST\n",
    "params['z01']     = z0_1\n",
    "params['sigma_z1']= sigma_z_1\n",
    "params['z02']     = z0_2\n",
    "params['sigma_z2']= sigma_z_2\n",
    "params['bin_num1']= bin_num1\n",
    "params['bin_num2']= bin_num2\n",
    "params['chimax']  = chimax\n",
    "params['bias']    = bias\n",
    "params['ext']     = file_ext\n",
    "params['ext2']    = file_ext2\n",
    "\n",
    "if bias == 'simple':\n",
    "    bias_func = simple_bias\n",
    "elif bias =='constant':\n",
    "    bias_func = constant_bias\n",
    "else:\n",
    "    print('no valid bias function selected')\n",
    "\n",
    "pickle.dump(params,open('../settings/params_%s.pkl'%file_ext,'wb'))\n",
    "\n",
    "pickle.load(open('../settings/params_%s.pkl'%file_ext,'rb'))"
   ]
  },
  {
   "cell_type": "code",
   "execution_count": 40,
   "metadata": {},
   "outputs": [],
   "source": [
    "if LSST:\n",
    "    kernel1 = gal_clus(dNdz_LSST, bias_func, bin_num1)\n",
    "    kernel2 = gal_clus(dNdz_LSST, bias_func, bin_num2)\n",
    "else:\n",
    "    kernel1 = gal_clus(Gauss_redshift(sigma_z=sigma_z_1,z0=z0_1), bias_func)\n",
    "    kernel2 = gal_clus(Gauss_redshift(sigma_z=sigma_z_2,z0=z0_2), bias_func)"
   ]
  },
  {
   "cell_type": "code",
   "execution_count": 4,
   "metadata": {},
   "outputs": [],
   "source": [
    "L = np.logspace(np.log10(min(ell_)),np.log10(1000),100)\n",
    "l = np.logspace(np.log10(min(ell_)),np.log10(max(ell_)),500)\n",
    "phi = np.linspace(0.,2.*np.pi,1000,endpoint=True)"
   ]
  },
  {
   "cell_type": "code",
   "execution_count": 5,
   "metadata": {},
   "outputs": [
    {
     "data": {
      "text/plain": [
       "(0, array(5387.18716845))"
      ]
     },
     "execution_count": 5,
     "metadata": {},
     "output_type": "execute_result"
    },
    {
     "data": {
      "image/png": "[encoded data removed]",
      "text/plain": [
       "<Figure size 432x288 with 1 Axes>"
      ]
     },
     "metadata": {
      "needs_background": "light"
     },
     "output_type": "display_data"
    }
   ],
   "source": [
    "chis = np.linspace(1,chimax,20000)\n",
    "plt.figure()\n",
    "plt.plot(chis,kernel1(chis))\n",
    "plt.plot(chis,kernel2(chis))\n",
    "plt.xlim(0,chimax)"
   ]
  },
  {
   "cell_type": "code",
   "execution_count": 6,
   "metadata": {},
   "outputs": [],
   "source": [
    "L   = np.logspace(np.log10(min(ell_)),np.log10(1000),100)\n",
    "l   = np.logspace(np.log10(min(ell_)),np.log10(max(ell_)),500)\n",
    "phi = np.linspace(0.,2.*np.pi,1000,endpoint=True)"
   ]
  },
  {
   "cell_type": "code",
   "execution_count": 12,
   "metadata": {},
   "outputs": [
    {
     "name": "stderr",
     "output_type": "stream",
     "text": [
      "/global/homes/v/vboehm/.conda/envs/bccp/lib/python3.6/site-packages/ipykernel_launcher.py:24: ComplexWarning: Casting complex values to real discards the imaginary part\n"
     ]
    },
    {
     "name": "stdout",
     "output_type": "stream",
     "text": [
      "Time taken =  1.6060082912445068\n"
     ]
    }
   ],
   "source": [
    "# auto spectrum\n",
    "#clgg\n",
    "begin=time.time()\n",
    "r2d, t2d = np.meshgrid(t_,t_)\n",
    "w11, w12 = np.meshgrid(w1,w1)\n",
    "#nu axis\n",
    "r2d, t2d = np.expand_dims(r2d, 2), np.expand_dims(t2d, 2)\n",
    "w11, w12 = np.expand_dims(w11, 2), np.expand_dims(w12, 2)\n",
    "\n",
    "n = 4\n",
    "chi1fac0 = (kernel1(r2d*chimax)*D_chi(r2d*chimax))\n",
    "chi1fac0 = chi1fac0 *(r2d*chimax)**(1-(n+nu_n_.reshape(1, 1, -1)))\n",
    "\n",
    "chi2fac00 = (kernel2(t2d*r2d*chimax)*D_chi(r2d*t2d*chimax))\n",
    "chi2fac01 = (kernel2(1/t2d*r2d*chimax)*D_chi(r2d*1/t2d*chimax))\n",
    "chi2fac01 = chi2fac01 * t2d**((n+nu_n_).reshape(1, 1, -1)-2)\n",
    "chi2fac0  = chi2fac00 + chi2fac01\n",
    "\n",
    "chifacs = w11*w12*chi1fac0* chi2fac0\n",
    "\n",
    "result=np.zeros_like(ell_)\n",
    "lmax = ell_.size\n",
    "for ii  in range(ell_.size):        \n",
    "    result[ii] = np.sum(chifacs*I4_ltrc[ii])\n",
    "\n",
    "Cl_gg = chimax * result/np.pi**2/2./4. #dividing by extra factor of 4 (should be there because of Gaussian Quadrature)\n",
    "\n",
    "np.save('../output/cls/Clgg_%s.npy'%(file_ext),[ell_,Cl_gg])\n",
    "\n",
    "print('Time taken = ', time.time()-begin)"
   ]
  },
  {
   "cell_type": "code",
   "execution_count": 13,
   "metadata": {},
   "outputs": [],
   "source": [
    "chi1s, chi2s, clphiphirt = np.load('../G_matrices/clphiphi_rt_%s.npy'%file_ext2)\n",
    "chi1s_, chi2s_, clphiphir_over_t = np.load('../G_matrices/clphiphi_r_over_t_%s.npy'%file_ext2)\n",
    "clphiphirt = np.swapaxes(clphiphirt,1,2)\n",
    "clphiphir_over_t = np.swapaxes(clphiphir_over_t,1,2)"
   ]
  },
  {
   "cell_type": "code",
   "execution_count": 14,
   "metadata": {},
   "outputs": [],
   "source": [
    "# this is cldeltadelta weighted by clphiphi, as it appears in the (2,2)-term\n",
    "try: \n",
    "    _, Mgg22A = np.load('../M_matrices/Mgg22A_%s.npy'%file_ext)\n",
    "    Mgg22A_spline = RectBivariateSpline(ell_,ell_,Mgg22A)\n",
    "except:\n",
    "    r2d, t2d = np.meshgrid(t_,t_)\n",
    "    w11, w12 = np.meshgrid(w1,w1)\n",
    "    #nu axis\n",
    "    r2d, t2d = np.expand_dims(r2d, 2), np.expand_dims(t2d, 2)\n",
    "    w11, w12 = np.expand_dims(w11, 2), np.expand_dims(w12, 2)\n",
    "\n",
    "    clphiphirt_ = np.expand_dims(clphiphirt,-1)\n",
    "    clphiphir_over_t_ = np.expand_dims(clphiphir_over_t,-1)\n",
    "\n",
    "    result = np.zeros((len(ell_),len(ell_)))\n",
    "\n",
    "    n = 4\n",
    "\n",
    "    begin=time.time()\n",
    "    for nn in range(len(ell_)):\n",
    "        if nn%10==0:\n",
    "            print(nn)\n",
    "        chi1fac0 = (kernel1(r2d*chimax)*D_chi(r2d*chimax))\n",
    "        chi1fac0 = chi1fac0 *(r2d*chimax)**(1-(n+nu_n_.reshape(1, 1, -1)))\n",
    "\n",
    "        chi2fac00 = (kernel2(t2d*r2d*chimax)*D_chi(r2d*t2d*chimax)*clphiphirt_[nn])\n",
    "        chi2fac01 = (kernel2(1./t2d*r2d*chimax)*D_chi(r2d/t2d*chimax)*clphiphir_over_t_[nn])\n",
    "        chi2fac01 = chi2fac01 * t2d**((n+nu_n_).reshape(1, 1, -1)-2)\n",
    "        chi2fac0  = chi2fac00 + chi2fac01\n",
    "\n",
    "        chifacs   = w11*w12*chi1fac0* chi2fac0\n",
    "\n",
    "        lmax = ell_.size\n",
    "        # phiphi should be second entry, associated with l (this is after variable trafo)\n",
    "        for ii  in range(ell_.size):        \n",
    "            result[ii][nn] = np.sum(chifacs*I4_ltrc[ii])\n",
    "\n",
    "    print(time.time()-begin)\n",
    "\n",
    "    Mgg22A = chimax*result*1./np.pi**2/2./4.\n",
    "    np.save('../M_matrices/Mgg22A_%s.npy'%str(file_ext),[np.meshgrid(ell_),Mgg22A])\n",
    "\n",
    "    M22A_spline = RectBivariateSpline(ell_,ell_,Mgg22A)"
   ]
  },
  {
   "cell_type": "code",
   "execution_count": 15,
   "metadata": {},
   "outputs": [],
   "source": [
    "# script: clphiphi_VB_parallel.py\n",
    "clphiphi   = np.load('../G_matrices/clphiphi_parallel_%s.npy'%file_ext2)\n",
    "\n",
    "cl_phiphi_diag= np.zeros((len(ell_),len(t_)))\n",
    "for ii in range(len(t_)):\n",
    "    cl_phiphi_diag[:,ii]=clphiphi[:,ii,ii]\n",
    "\n",
    "clphiphi_diag=[]\n",
    "from scipy.interpolate import interp1d\n",
    "for ii in range(len(ell_)):\n",
    "    clphiphi_diag+=[interp1d(chimax*t_,cl_phiphi_diag[ii])]"
   ]
  },
  {
   "cell_type": "code",
   "execution_count": 16,
   "metadata": {},
   "outputs": [],
   "source": [
    "# this is cldeltadelta weighted by clphiphi(chi), as it appears in the (1,3a)-term\n",
    "try:\n",
    "    _, Mgg31a = np.load('../M_matrices/Mgg31a_%s.npy'%file_ext)\n",
    "    Mgg31a_spline = RectBivariateSpline(ell_,ell_,Mgg31a)\n",
    "except:\n",
    "    r2d, t2d = np.meshgrid(t_,t_)\n",
    "    w11, w12 = np.meshgrid(w1,w1)\n",
    "    #nu axis\n",
    "    r2d, t2d = np.expand_dims(r2d, 2), np.expand_dims(t2d, 2)\n",
    "    w11, w12 = np.expand_dims(w11, 2), np.expand_dims(w12, 2)\n",
    "\n",
    "\n",
    "    result = np.zeros((len(ell_),len(ell_)))\n",
    "\n",
    "    n = 4\n",
    "\n",
    "    begin=time.time()\n",
    "    for nn in range(len(ell_)):\n",
    "        if nn%10==0:\n",
    "            print(nn)\n",
    "\n",
    "        chi1fac0 = (kernel1(r2d*chimax)*D_chi(r2d*chimax)*clphiphi_diag[nn](r2d*chimax))\n",
    "        chi1fac0 = chi1fac0 *(r2d*chimax)**(1-(n+nu_n_.reshape(1, 1, -1)))\n",
    "\n",
    "        chi2fac00 = (kernel2(t2d*r2d*chimax)*D_chi(r2d*t2d*chimax))\n",
    "        chi2fac01 = (kernel2(1./t2d*r2d*chimax)*D_chi(r2d/t2d*chimax))\n",
    "        chi2fac01 = chi2fac01 * t2d**((n+nu_n_).reshape(1, 1, -1)-2)\n",
    "        chi2fac0  = chi2fac00 + chi2fac01\n",
    "\n",
    "        chifacs   = w11*w12*chi1fac0* chi2fac0\n",
    "\n",
    "        lmax = ell_.size\n",
    "        for ii  in range(ell_.size):   \n",
    "            # phiphi should be second entry associated with l\n",
    "            result[ii][nn] = np.sum(chifacs*I4_ltrc[ii])\n",
    "\n",
    "    print(time.time()-begin)\n",
    "\n",
    "    Mgg31a = chimax * result*1./np.pi**2/2./4.\n",
    "\n",
    "    np.save('../M_matrices/Mgg31a_%s.npy'%file_ext,[np.meshgrid(ell_),Mgg31a])\n",
    "\n",
    "    Mgg31a_spline = RectBivariateSpline(ell_,ell_,Mgg31a)"
   ]
  },
  {
   "cell_type": "code",
   "execution_count": 17,
   "metadata": {},
   "outputs": [],
   "source": [
    "def get_regularized_sum_of_terms_1(L,L1,phi,M1,M2,method='trapz'):\n",
    "    nu = np.cos(phi)\n",
    "    res=[]\n",
    "    for LL in L:\n",
    "        resL1=[]\n",
    "        for LL1 in L1:\n",
    "            L_= LL*np.sqrt(1.+(LL1/LL)**2-2.*LL1/LL*nu)\n",
    "            integrand = LL1*(LL*LL1*nu-LL1*LL1)**2*(M1(L_,LL1,grid=False)-M2(LL,LL1,grid=False))\n",
    "            if method =='simps':\n",
    "                resL1+=[simps(integrand,phi)]\n",
    "            elif method =='trapz':\n",
    "                resL1+=[np.trapz(integrand,phi)]\n",
    "            elif method =='sum':\n",
    "                resL1+=[np.sum(integrand*np.diff(phi)[0])]\n",
    "        res+=[simps(resL1,L1)]\n",
    "    res=np.asarray(res)/(2.*np.pi)**2\n",
    "    return res\n",
    "\n",
    "\n",
    "def get_regularized_sum_of_terms_2(L,L1,phi,M2,method='trapz'):\n",
    "    nu = np.cos(phi)\n",
    "    res=[]\n",
    "    for LL in L:\n",
    "        resL1=[]\n",
    "        for LL1 in L1:\n",
    "            integrand = - LL1*((LL*LL1*nu)**2-(LL*LL1*nu-LL1*LL1)**2)*(M2(LL,LL1,grid=False))\n",
    "            if method =='simps':\n",
    "                resL1+=[simps(integrand,phi)]\n",
    "            elif method =='trapz':\n",
    "                resL1+=[np.trapz(integrand,phi)]\n",
    "            elif method =='sum':\n",
    "                resL1+=[np.sum(integrand*np.diff(phi)[0])]\n",
    "        res+=[simps(resL1,L1)]\n",
    "    res=np.asarray(res)/(2.*np.pi)**2\n",
    "    return res"
   ]
  },
  {
   "cell_type": "code",
   "execution_count": 18,
   "metadata": {},
   "outputs": [],
   "source": [
    "LimberTerms = get_regularized_sum_of_terms_1(L,l,phi,Mgg22A_spline,Mgg31a_spline,method='trapz')+get_regularized_sum_of_terms_2(L,l,phi,Mgg31a_spline,method='trapz')"
   ]
  },
  {
   "cell_type": "code",
   "execution_count": 19,
   "metadata": {},
   "outputs": [
    {
     "data": {
      "text/plain": [
       "(1, 1000.0)"
      ]
     },
     "execution_count": 19,
     "metadata": {},
     "output_type": "execute_result"
    },
    {
     "data": {
      "image/png": "[encoded data removed]",
      "text/plain": [
       "<Figure size 432x288 with 1 Axes>"
      ]
     },
     "metadata": {
      "needs_background": "light"
     },
     "output_type": "display_data"
    }
   ],
   "source": [
    "plt.figure()\n",
    "plt.plot(ell_,Cl_gg)\n",
    "plt.plot(L,LimberTerms)\n",
    "plt.plot(L,-LimberTerms,ls='--')\n",
    "plt.yscale('log')\n",
    "plt.xlim(1,max(L))"
   ]
  },
  {
   "cell_type": "code",
   "execution_count": 27,
   "metadata": {},
   "outputs": [],
   "source": [
    "try:\n",
    "    cldeltaphi = np.load('../G_matrices/cldeltaphi_%s.npy'%file_ext2)\n",
    "except:\n",
    "    \n",
    "    def inner_kernel(xi, xmax):\n",
    "        return (xmax - xi)/(xmax*xi) * (xmax > xi)\n",
    "\n",
    "    r2d, t2d = np.meshgrid(t_,t_)\n",
    "    w11, w12 = np.meshgrid(w1,w1)\n",
    "    #nu axis\n",
    "    r2d, t2d = np.expand_dims(r2d, 2), np.expand_dims(t2d, 2)\n",
    "    w11, w12 = np.expand_dims(w11, 2), np.expand_dims(w12, 2)\n",
    "\n",
    "\n",
    "    chimax2  = chimax\n",
    "\n",
    "    n = 2\n",
    "\n",
    "    Cl = np.zeros((len(t_),len(ell_),len(t_)))\n",
    "\n",
    "    begin=time.time()\n",
    "\n",
    "    for jj, chimax1 in enumerate((t_*chimax)):\n",
    "        if jj%10==0:\n",
    "            print(jj)\n",
    "\n",
    "        chi1fac0  = D_chi(r2d*chimax2)\n",
    "        chi1fac0  = chi1fac0 *(r2d*chimax2)**(1-(n+nu_n_).reshape(1, 1, -1))\n",
    "\n",
    "        chi2fac00 = (D_chi(r2d*t2d*chimax2)*(1+z_chi(r2d*t2d*chimax2))*inner_kernel(r2d*t2d*chimax2, chimax1))\n",
    "\n",
    "        chi2fac01 = (inner_kernel(1./t2d*r2d*chimax2,chimax1)*D_chi(r2d*1./t2d*chimax2)*(1+z_chi(r2d*1./t2d*chimax2)))\n",
    "        chi2fac01 = chi2fac01 * t2d**((n+nu_n_).reshape(1, 1, -1)-2)\n",
    "        chi2fac0  = chi2fac00 + chi2fac01\n",
    "\n",
    "        chifacs   = w12*chi1fac0* chi2fac0\n",
    "\n",
    "        result    = np.zeros((len(ell_),len(t_)))\n",
    "        lmax = ell_.size\n",
    "        for ii  in range(ell_.size):        \n",
    "            result[ii] = np.sum(chifacs*I2_ltrc[ii],axis=(0,2))\n",
    "\n",
    "        Cl[jj] = result*1./np.pi**2/2.*prefac/2.*2\n",
    "\n",
    "    cldeltaphi = np.swapaxes(Cl,0,1)\n",
    "    print('Time taken = ', time.time()-begin)\n",
    "\n",
    "\n",
    "    # first axis ell, second phi, third delta\n",
    "    np.save('../G_matrices/cldeltaphi_%s'%file_ext2,cldeltaphi)"
   ]
  },
  {
   "cell_type": "code",
   "execution_count": null,
   "metadata": {},
   "outputs": [],
   "source": [
    "# this is the second term in <2,2>\n",
    "try:\n",
    "    _ , Mgg22B = np.load('../M_matrices/Mgg22B_%s.npy'%file_ext)\n",
    "except:\n",
    "    r2d, t2d = np.meshgrid(t_,t_)\n",
    "    w11, w12 = np.meshgrid(w1,w1)\n",
    "\n",
    "    result = np.zeros((len(ell_),len(ell_)))\n",
    "    for ii in range(len(ell_)):\n",
    "        for jj in range(len(ell_)):\n",
    "            # first index is |L-l|\n",
    "            result[ii][jj] = np.sum(w11*w12*kernel1(t2d*chimax)*kernel2(r2d*chimax)*cldeltaphi[jj]*clphidelta[ii])\n",
    "    result*=chimax**2/4.\n",
    "\n",
    "    Mgg22B = result\n",
    "\n",
    "    # first index is L\n",
    "    np.save('../M_matrices/Mgg22B_%s.npy'%file_ext,[np.meshgrid(ell_),Mgg22B])\n",
    "\n",
    "Mgg22B_spline = RectBivariateSpline(ell_,ell_,Mgg22B)"
   ]
  },
  {
   "cell_type": "code",
   "execution_count": 49,
   "metadata": {},
   "outputs": [
    {
     "name": "stdout",
     "output_type": "stream",
     "text": [
      "0\n"
     ]
    },
    {
     "name": "stderr",
     "output_type": "stream",
     "text": [
      "/global/homes/v/vboehm/.conda/envs/bccp/lib/python3.6/site-packages/ipykernel_launcher.py:36: ComplexWarning: Casting complex values to real discards the imaginary part\n"
     ]
    },
    {
     "name": "stdout",
     "output_type": "stream",
     "text": [
      "10\n",
      "20\n",
      "30\n",
      "40\n",
      "50\n",
      "60\n",
      "70\n",
      "80\n",
      "90\n",
      "Time taken =  142.66906476020813\n"
     ]
    }
   ],
   "source": [
    "# clpsigalaxy, kernel2\n",
    "try:\n",
    "    #assert(False)\n",
    "    cl_psigal2 = np.load('../output/cls/clpsigal_%s_2d_kernel2.npy'%(file_ext))\n",
    "except:\n",
    "    r2d, t2d = np.meshgrid(t_,t_)\n",
    "    w11, w12 = np.meshgrid(w1,w1)\n",
    "    #nu axis\n",
    "    r2d, t2d = np.expand_dims(r2d, 2), np.expand_dims(t2d, 2)\n",
    "    w11, w12 = np.expand_dims(w11, 2), np.expand_dims(w12, 2)\n",
    "\n",
    "    # chimax and kernels\n",
    "\n",
    "    n = 2\n",
    "    \n",
    "    begin=time.time()\n",
    "    result=np.zeros((len(t_),len(ell_),len(t_)))\n",
    "    \n",
    "    for jj, tt in enumerate(t_):\n",
    "        if jj%10==0:\n",
    "            print(jj)\n",
    "            \n",
    "        chi1fac0 = D_chi(r2d*chimax*tt)*(1.+z_chi(r2d*chimax*tt))\n",
    "        chi1fac0 = chi1fac0*(r2d*chimax)**(1-(n+nu_n_.reshape(1, 1, -1)))\n",
    "\n",
    "        chi2fac00 = (kernel2(t2d*r2d*chimax*tt)*D_chi(r2d*t2d*chimax*tt))\n",
    "        chi2fac01 = (kernel2(1./t2d*r2d*chimax*tt)*D_chi(r2d/t2d*chimax*tt))\n",
    "        chi2fac01 = chi2fac01 * t2d**((n+nu_n_).reshape(1, 1, -1)-2)\n",
    "        chi2fac0  = chi2fac00 + chi2fac01\n",
    "\n",
    "        chifacs   = w11*w12*chi1fac0* chi2fac0\n",
    "\n",
    "\n",
    "\n",
    "        for ii  in range(ell_.size):        \n",
    "            result[jj][ii] = np.sum(chifacs*I2_ltrc[ii],axis=(0,2))\n",
    "\n",
    "    clpsigal = chimax*result*1./np.pi**2/2.*prefac/2.\n",
    "    clpsigal = np.swapaxes(clpsigal,0,1)\n",
    "    #t as second entry\n",
    "    clpsigal2 = np.swapaxes(clpsigal,1,2)\n",
    "\n",
    "    print('Time taken = ', time.time()-begin)\n",
    "\n",
    "\n",
    "    np.save('../output/cls/clpsigal_%s_2d_kernel2.npy'%(file_ext),clpsigal2)"
   ]
  },
  {
   "cell_type": "code",
   "execution_count": 50,
   "metadata": {},
   "outputs": [
    {
     "name": "stdout",
     "output_type": "stream",
     "text": [
      "0\n"
     ]
    },
    {
     "name": "stderr",
     "output_type": "stream",
     "text": [
      "/global/homes/v/vboehm/.conda/envs/bccp/lib/python3.6/site-packages/ipykernel_launcher.py:34: ComplexWarning: Casting complex values to real discards the imaginary part\n"
     ]
    },
    {
     "name": "stdout",
     "output_type": "stream",
     "text": [
      "10\n",
      "20\n",
      "30\n",
      "40\n",
      "50\n",
      "60\n",
      "70\n",
      "80\n",
      "90\n",
      "Time taken =  136.00762391090393\n"
     ]
    }
   ],
   "source": [
    "# clphidelta 2d\n",
    "try: \n",
    "    assert(False)\n",
    "    cldeltaphi = np.load('../output/cls/cldeltaphi_%s_2d.npy'%(file_ext2))\n",
    "except:\n",
    "    r2d, t2d = np.meshgrid(t_,t_)\n",
    "    w11, w12 = np.meshgrid(w1,w1)\n",
    "    #nu axis\n",
    "    r2d, t2d = np.expand_dims(r2d, 2), np.expand_dims(t2d, 2)\n",
    "    w11, w12 = np.expand_dims(w11, 2), np.expand_dims(w12, 2)\n",
    "\n",
    "    # chimax and kernels\n",
    "    def lensing_kernel(xi, xmax):\n",
    "        return (xmax - xi)/(xmax*xi)*(xmax > xi)*(1.+z_chi(xi))\n",
    "\n",
    "    n = 2\n",
    "\n",
    "    begin=time.time()\n",
    "    result=np.zeros((len(t_),len(ell_),len(t_)))\n",
    "    for jj, tt in enumerate(t_):\n",
    "        if jj%10==0:\n",
    "            print(jj)\n",
    "        chi1fac0 =  D_chi(r2d*chimax)\n",
    "        chi1fac0 =  chi1fac0 *(r2d*chimax)**(1-(n+nu_n_.reshape(1, 1, -1)))\n",
    "\n",
    "        chi2fac00 = (lensing_kernel(t2d*r2d*chimax,chimax*r2d*tt)*D_chi(r2d*t2d*chimax))\n",
    "        chi2fac01 = (lensing_kernel(1./t2d*r2d*chimax,chimax*r2d*tt)*D_chi(r2d/t2d*chimax))\n",
    "        chi2fac01 = chi2fac01 * t2d**((n+nu_n_).reshape(1, 1, -1)-2)\n",
    "        chi2fac0  = chi2fac00 + chi2fac01\n",
    "\n",
    "        chifacs   = w11*w12*chi1fac0* chi2fac0\n",
    "\n",
    "        for ii  in range(ell_.size):        \n",
    "            result[jj][ii] = np.sum(chifacs*I2_ltrc[ii], axis=(0,2))\n",
    "\n",
    "\n",
    "    clphidelta = -2*chimax*result*1./np.pi**2/2.*prefac/2\n",
    "    clphidelta = np.swapaxes(clphidelta,0,1)\n",
    "    # get phi as second entry\n",
    "    cldeltaphi = np.swapaxes(clphidelta,1,2)\n",
    "    print('Time taken = ', time.time()-begin)\n",
    "\n",
    "\n",
    "    np.save('../output/cls/cldeltaphi_%s_2d.npy'%(file_ext2),cldeltaphi)"
   ]
  },
  {
   "cell_type": "code",
   "execution_count": 51,
   "metadata": {},
   "outputs": [],
   "source": [
    "# this is the first term in <1,3b>\n",
    "def lensing_kernel(xi, xmax):\n",
    "    return (xmax - xi)/(xmax*xi)*(xmax > xi)\n",
    "\n",
    "try:\n",
    "    assert(False)\n",
    "    _ , Mgg13bA = np.load('../M_matrices/Mgg13bA_%s.npy'%file_ext)\n",
    "except:\n",
    "    r2d, t2d = np.meshgrid(t_,t_)\n",
    "    w11, w12 = np.meshgrid(w1,w1)\n",
    "\n",
    "    result = np.zeros((len(ell_),len(ell_)))\n",
    "    for ii in range(len(ell_)):\n",
    "        for jj in range(len(ell_)):\n",
    "            # first index is L\n",
    "            result[ii][jj] = np.sum(w11*w12*r2d*lensing_kernel(t2d*r2d*chimax,r2d*chimax)*kernel1(r2d*chimax)*cldeltaphi[jj]*clpsigal2[ii])\n",
    "    result*=chimax**2/4.*2 #the last times two comes from the actual expression\n",
    "\n",
    "    Mgg13bA = result\n",
    "\n",
    "    # first index is L\n",
    "    np.save('../M_matrices/Mgg13bA_%s.npy'%file_ext,[np.meshgrid(ell_),Mgg13bA])\n",
    "\n",
    "Mgg13bA_spline = RectBivariateSpline(ell_,ell_,Mgg13bA)"
   ]
  },
  {
   "cell_type": "code",
   "execution_count": 52,
   "metadata": {},
   "outputs": [
    {
     "name": "stdout",
     "output_type": "stream",
     "text": [
      "0\n"
     ]
    },
    {
     "name": "stderr",
     "output_type": "stream",
     "text": [
      "/global/homes/v/vboehm/.conda/envs/bccp/lib/python3.6/site-packages/ipykernel_launcher.py:36: ComplexWarning: Casting complex values to real discards the imaginary part\n"
     ]
    },
    {
     "name": "stdout",
     "output_type": "stream",
     "text": [
      "10\n",
      "20\n",
      "30\n",
      "40\n",
      "50\n",
      "60\n",
      "70\n",
      "80\n",
      "90\n",
      "Time taken =  137.30907535552979\n"
     ]
    }
   ],
   "source": [
    "# clpsigalaxy, kernel1\n",
    "try:\n",
    "    #assert(False)\n",
    "    cl_psigal1 = np.load('../output/cls/clpsigal_%s_2d_kernel1.npy'%(file_ext))\n",
    "except:\n",
    "    r2d, t2d = np.meshgrid(t_,t_)\n",
    "    w11, w12 = np.meshgrid(w1,w1)\n",
    "    #nu axis\n",
    "    r2d, t2d = np.expand_dims(r2d, 2), np.expand_dims(t2d, 2)\n",
    "    w11, w12 = np.expand_dims(w11, 2), np.expand_dims(w12, 2)\n",
    "\n",
    "    # chimax and kernels\n",
    "\n",
    "    n = 2\n",
    "    \n",
    "    begin=time.time()\n",
    "    result=np.zeros((len(t_),len(ell_),len(t_)))\n",
    "    \n",
    "    for jj, tt in enumerate(t_):\n",
    "        if jj%10==0:\n",
    "            print(jj)\n",
    "            \n",
    "        chi1fac0 = D_chi(r2d*chimax*tt)*(1.+z_chi(r2d*chimax*tt))\n",
    "        chi1fac0 = chi1fac0*(r2d*chimax)**(1-(n+nu_n_.reshape(1, 1, -1)))\n",
    "\n",
    "        chi2fac00 = (kernel1(t2d*r2d*chimax*tt)*D_chi(r2d*t2d*chimax*tt))\n",
    "        chi2fac01 = (kernel1(1./t2d*r2d*chimax*tt)*D_chi(r2d/t2d*chimax*tt))\n",
    "        chi2fac01 = chi2fac01 * t2d**((n+nu_n_).reshape(1, 1, -1)-2)\n",
    "        chi2fac0  = chi2fac00 + chi2fac01\n",
    "\n",
    "        chifacs   = w11*w12*chi1fac0* chi2fac0\n",
    "\n",
    "\n",
    "\n",
    "        for ii  in range(ell_.size):        \n",
    "            result[jj][ii] = np.sum(chifacs*I2_ltrc[ii],axis=(0,2))\n",
    "\n",
    "    clpsigal  = chimax*result*1./np.pi**2/2.*prefac/2.\n",
    "    clpsigal  = np.swapaxes(clpsigal,0,1)\n",
    "    #t as second entry\n",
    "    clpsigal1 = np.swapaxes(clpsigal,1,2)\n",
    "\n",
    "    print('Time taken = ', time.time()-begin)\n",
    "\n",
    "\n",
    "    np.save('../output/cls/clpsigal_%s_2d_kernel1.npy'%(file_ext),clpsigal1)"
   ]
  },
  {
   "cell_type": "code",
   "execution_count": 53,
   "metadata": {},
   "outputs": [],
   "source": [
    "# this is the second term in <1,3b>\n",
    "def lensing_kernel(xi, xmax):\n",
    "    return (xmax - xi)/(xmax*xi)*(xmax > xi)\n",
    "\n",
    "try:\n",
    "    assert(False)\n",
    "    _ , Mgg13bB = np.load('../M_matrices/Mgg13bB_%s.npy'%file_ext)\n",
    "except:\n",
    "    r2d, t2d = np.meshgrid(t_,t_)\n",
    "    w11, w12 = np.meshgrid(w1,w1)\n",
    "\n",
    "    result = np.zeros((len(ell_),len(ell_)))\n",
    "    for ii in range(len(ell_)):\n",
    "        for jj in range(len(ell_)):\n",
    "            # first index is L\n",
    "            result[ii][jj] = np.sum(w11*w12*r2d*lensing_kernel(t2d*r2d*chimax,r2d*chimax)*kernel2(r2d*chimax)*cldeltaphi[jj]*clpsigal1[ii])\n",
    "    result*=chimax**2/4.*2 #the last times two comes from the actual expression in the draft\n",
    "\n",
    "    Mgg13bB = result\n",
    "\n",
    "    # first index is L\n",
    "    np.save('../M_matrices/Mgg13bB_%s.npy'%file_ext,[np.meshgrid(ell_),Mgg13bB])\n",
    "\n",
    "Mgg13bB_spline = RectBivariateSpline(ell_,ell_,Mgg13bB)"
   ]
  },
  {
   "cell_type": "code",
   "execution_count": 54,
   "metadata": {},
   "outputs": [],
   "source": [
    "Mgg13b_spline = RectBivariateSpline(ell_,ell_,Mgg13bB+Mgg13bA)"
   ]
  },
  {
   "cell_type": "code",
   "execution_count": 73,
   "metadata": {},
   "outputs": [],
   "source": [
    "def get_regularized_sum_of_terms_11(L,L1,phi,M1,M2,method='trapz'):\n",
    "    nu = np.cos(phi)\n",
    "    res=[]\n",
    "    for LL in L:\n",
    "        resL1=[]\n",
    "        for LL1 in L1:\n",
    "            L_= LL*np.sqrt(1.+(LL1/LL)**2-2.*LL1/LL*nu)\n",
    "            integrand = LL1*(LL*LL1*nu-LL1*LL1)**2*(M1(L_,LL1,grid=False)+M2(LL,LL1,grid=False))\n",
    "            if method =='simps':\n",
    "                resL1+=[simps(integrand,phi)]\n",
    "            elif method =='trapz':\n",
    "                resL1+=[np.trapz(integrand,phi)]\n",
    "            elif method =='sum':\n",
    "                resL1+=[np.sum(integrand*np.diff(phi)[0])]\n",
    "        res+=[simps(resL1,L1)]\n",
    "    res=np.asarray(res)/(2.*np.pi)**2\n",
    "    return res\n",
    "\n",
    "\n",
    "def get_regularized_sum_of_terms_22(L,L1,phi,M2,method='trapz'):\n",
    "    nu = np.cos(phi)\n",
    "    res=[]\n",
    "    for LL in L:\n",
    "        resL1=[]\n",
    "        for LL1 in L1:\n",
    "            integrand = LL1*((LL*LL1*nu)**2+(LL*LL1*nu-LL1*LL1)**2)*(M2(LL,LL1,grid=False))\n",
    "            if method =='simps':\n",
    "                resL1+=[simps(integrand,phi)]\n",
    "            elif method =='trapz':\n",
    "                resL1+=[np.trapz(integrand,phi)]\n",
    "            elif method =='sum':\n",
    "                resL1+=[np.sum(integrand*np.diff(phi)[0])]\n",
    "        res+=[simps(resL1,L1)]\n",
    "    res=np.asarray(res)/(2.*np.pi)**2\n",
    "    return res\n",
    "\n",
    "def get_noLimber22_term(L,L1,phi,M,method='trapz'):\n",
    "    nu = np.cos(phi)\n",
    "    res=[]\n",
    "    for LL in L:\n",
    "        resL1=[]\n",
    "        for LL1 in L1:\n",
    "            L_= LL*np.sqrt(1.+(LL1/LL)**2-2.*LL1/LL*nu)\n",
    "            integrand = LL1*(LL*LL1*nu-LL1*LL1)**2*(M(L_,LL1,grid=False))\n",
    "            if method =='simps':\n",
    "                resL1+=[simps(integrand,phi)]\n",
    "            elif method =='trapz':\n",
    "                resL1+=[np.trapz(integrand,phi)]\n",
    "            elif method =='sum':\n",
    "                resL1+=[np.sum(integrand*np.diff(phi)[0])]\n",
    "        res+=[simps(resL1,L1)]\n",
    "    res=np.asarray(res)/(2.*np.pi)**2\n",
    "    return res\n",
    "\n",
    "def get_noLimber13_term(L,L1,phi,M,method='trapz'):\n",
    "    nu = np.cos(phi)\n",
    "    res=[]\n",
    "    for LL in L:\n",
    "        resL1=[]\n",
    "        for LL1 in L1:\n",
    "            integrand = LL1*(LL*LL1*nu)**2*(M(LL,LL1,grid=False))\n",
    "            if method =='simps':\n",
    "                resL1+=[simps(integrand,phi)]\n",
    "            elif method =='trapz':\n",
    "                resL1+=[np.trapz(integrand,phi)]\n",
    "            elif method =='sum':\n",
    "                resL1+=[np.sum(integrand*np.diff(phi)[0])]\n",
    "        res+=[simps(resL1,L1)]\n",
    "    res=np.asarray(res)/(2.*np.pi)**2\n",
    "    return res"
   ]
  },
  {
   "cell_type": "code",
   "execution_count": 74,
   "metadata": {},
   "outputs": [],
   "source": [
    "NoLimberTerms = get_regularized_sum_of_terms_11(L,l,phi,Mgg22B_spline,Mgg13b_spline,method='trapz')+get_regularized_sum_of_terms_22(L,l,phi,Mgg13b_spline,method='trapz')\n",
    "NoLimberTerm1 = get_noLimber22_term(L,l,phi,Mgg22B_spline)\n",
    "NoLimberTerm2 = get_noLimber13_term(L,l,phi,Mgg13b_spline)"
   ]
  },
  {
   "cell_type": "code",
   "execution_count": 90,
   "metadata": {},
   "outputs": [
    {
     "data": {
      "text/plain": [
       "(2, 1000.0)"
      ]
     },
     "execution_count": 90,
     "metadata": {},
     "output_type": "execute_result"
    },
    {
     "data": {
      "image/png": "[encoded data removed]",
      "text/plain": [
       "<Figure size 432x288 with 1 Axes>"
      ]
     },
     "metadata": {
      "needs_background": "light"
     },
     "output_type": "display_data"
    }
   ],
   "source": [
    "plt.figure()\n",
    "plt.plot(ell_,Cl_gg, label='signal')\n",
    "plt.plot(L,LimberTerms, label='Limber terms')\n",
    "plt.plot(L,-LimberTerms,ls='--', color='coral')\n",
    "#plt.plot(L,NoLimberTerms)\n",
    "#plt.plot(L,-NoLimberTerms,ls='--', label='no Limber terms')\n",
    "plt.plot(L,NoLimberTerm1,ls='-',label='22 no Limber')\n",
    "plt.plot(L,-NoLimberTerm2,ls='--',label='13 no Limber')\n",
    "#plt.plot(L,-(NoLimberTerm2+NoLimberTerm1),ls='--',label='no Limber terms assuming we git sign wrong')\n",
    "plt.ylabel('$C_L^{gg}$',fontsize=13)\n",
    "plt.xlabel('$L$',fontsize=13)\n",
    "plt.yscale('log')\n",
    "plt.xscale('log')\n",
    "plt.legend(loc=(1.1,0.5))\n",
    "plt.xlim(2,max(L))"
   ]
  },
  {
   "cell_type": "code",
   "execution_count": null,
   "metadata": {},
   "outputs": [],
   "source": []
  }
 ],
 "metadata": {
  "kernelspec": {
   "display_name": "NERSC BCCP",
   "language": "python",
   "name": "bccp"
  },
  "language_info": {
   "codemirror_mode": {
    "name": "ipython",
    "version": 3
   },
   "file_extension": ".py",
   "mimetype": "text/x-python",
   "name": "python",
   "nbconvert_exporter": "python",
   "pygments_lexer": "ipython3",
   "version": "3.6.7"
  }
 },
 "nbformat": 4,
 "nbformat_minor": 2
}
