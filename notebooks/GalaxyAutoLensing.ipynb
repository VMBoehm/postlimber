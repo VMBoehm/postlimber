{
 "cells": [
  {
   "cell_type": "markdown",
   "metadata": {},
   "source": [
    "## Non-Jacobian Corrections to Auto-power (similar/same as Jalivan et al.)"
   ]
  },
  {
   "cell_type": "code",
   "execution_count": 1,
   "metadata": {},
   "outputs": [],
   "source": [
    "import numpy as np\n",
    "import matplotlib.pyplot as plt\n",
    "import sys\n",
    "import time\n",
    "from scipy.interpolate import RectBivariateSpline\n",
    "path = '../PostBornEma/'\n",
    "sys.path.append(\"../scripts/\") \n",
    "from lab import *\n",
    "%matplotlib inline"
   ]
  },
  {
   "cell_type": "code",
   "execution_count": 2,
   "metadata": {},
   "outputs": [
    {
     "name": "stdout",
     "output_type": "stream",
     "text": [
      "zmax=2 chimax=4044\n",
      "gaussgal_z010_10_sigmaz3_1simple_biaszmax25 zmax25\n"
     ]
    }
   ],
   "source": [
    "#general settings\n",
    "LSST      = False\n",
    "#if not LSST redhsift kernel\n",
    "z0_1      = 1.\n",
    "sigma_z_1 = 0.3\n",
    "z0_2      = 1.0\n",
    "sigma_z_2 = 0.1\n",
    "bin_num1 = 'all'\n",
    "bin_num2 = 'all'\n",
    "zmax  = 2.5\n",
    "bias  = 'simple'\n",
    "chimax = chi_z(zmax)\n",
    "print('zmax=%d'%zmax, 'chimax=%d'%chimax)\n",
    "\n",
    "\n",
    "if LSST:\n",
    "    file_ext = 'lsst_%s_%s'%(str(bin_num1), str(bin_num2))\n",
    "else:\n",
    "    file_ext = 'gaussgal_z0%d_%d_sigmaz%d_%d'%(z0_1*10,z0_2*10,sigma_z_1*10,sigma_z_2*10)\n",
    "    \n",
    "file_ext+=bias+'_bias'\n",
    "\n",
    "file_ext+=  'zmax%d'%(zmax*10)\n",
    "file_ext2 = 'zmax%d'%(zmax*10)\n",
    "    \n",
    "print(file_ext, file_ext2)\n",
    "\n",
    "\n",
    "params = {}\n",
    "params['LSST']    = LSST\n",
    "params['z01']     = z0_1\n",
    "params['sigma_z1']= sigma_z_1\n",
    "params['z02']     = z0_2\n",
    "params['sigma_z2']= sigma_z_2\n",
    "params['bin_num1']= bin_num1\n",
    "params['bin_num2']= bin_num2\n",
    "params['chimax']  = chimax\n",
    "params['bias']    = bias\n",
    "params['ext']     = file_ext\n",
    "params['ext2']    = file_ext2\n",
    "\n",
    "if bias == 'simple':\n",
    "    bias_func = simple_bias\n",
    "elif bias =='constant':\n",
    "    bias_func = constant_bias\n",
    "else:\n",
    "    print('no valid bias function selected')\n",
    "\n",
    "\n",
    "try:\n",
    "    pickle.load(open('../settings/params_auto_%s.pkl'%file_ext,'rb'))\n",
    "except:\n",
    "    pass\n",
    "    #pickle.dump(params,open('../settings/params_auto_%s.pkl'%file_ext,'wb'))"
   ]
  },
  {
   "cell_type": "code",
   "execution_count": 3,
   "metadata": {},
   "outputs": [
    {
     "name": "stdout",
     "output_type": "stream",
     "text": [
      "plot path exists\n"
     ]
    }
   ],
   "source": [
    "plotpath = '../plots/clgg_%s/'%file_ext\n",
    "if os.path.isdir(plotpath):\n",
    "    print('plot path exists')\n",
    "else:\n",
    "    os.mkdir(plotpath)"
   ]
  },
  {
   "cell_type": "code",
   "execution_count": 4,
   "metadata": {},
   "outputs": [],
   "source": [
    "if LSST:\n",
    "    kernel1 = gal_clus(dNdz_LSST, bias_func, bin_num1)\n",
    "    kernel2 = gal_clus(dNdz_LSST, bias_func, bin_num2)\n",
    "else:\n",
    "    kernel1 = gal_clus(Gauss_redshift(sigma_z=sigma_z_1,z0=z0_1), bias_func)\n",
    "    kernel2 = gal_clus(Gauss_redshift(sigma_z=sigma_z_2,z0=z0_2), bias_func)"
   ]
  },
  {
   "cell_type": "code",
   "execution_count": 5,
   "metadata": {},
   "outputs": [],
   "source": [
    "L = np.logspace(np.log10(min(ell_)),np.log10(1000),100)\n",
    "l = np.logspace(np.log10(min(ell_)),np.log10(max(ell_)),500)\n",
    "phi = np.linspace(0.,2.*np.pi,1000,endpoint=True)"
   ]
  },
  {
   "cell_type": "code",
   "execution_count": 6,
   "metadata": {},
   "outputs": [
    {
     "data": {
      "image/png": "[encoded data removed]",
      "text/plain": [
       "<Figure size 432x288 with 1 Axes>"
      ]
     },
     "metadata": {
      "needs_background": "light"
     },
     "output_type": "display_data"
    }
   ],
   "source": [
    "chis = np.linspace(1,chimax,20000)\n",
    "plt.figure()\n",
    "plt.plot(chis,kernel1(chis), label='kernel 1')\n",
    "plt.plot(chis,kernel2(chis), label='kernel 2',ls='--')\n",
    "plt.xlabel('$\\chi$',fontsize=16)\n",
    "plt.ylabel('$W(\\chi)$',fontsize=16)\n",
    "plt.xlim(0,chimax)\n",
    "plt.savefig(plotpath+'redshiftkernels_%s.pdf'%file_ext, bbox_inches='tight')"
   ]
  },
  {
   "cell_type": "code",
   "execution_count": 7,
   "metadata": {},
   "outputs": [],
   "source": [
    "### for harmonic space integrals\n",
    "L   = np.logspace(np.log10(min(ell_)),np.log10(1000),100)\n",
    "l   = np.logspace(np.log10(min(ell_)),np.log10(max(ell_)),500)\n",
    "phi = np.linspace(0.,2.*np.pi,1000,endpoint=True)"
   ]
  },
  {
   "cell_type": "markdown",
   "metadata": {},
   "source": [
    "### Auto Spectrum $C^{gg}(L)$"
   ]
  },
  {
   "cell_type": "code",
   "execution_count": 8,
   "metadata": {},
   "outputs": [],
   "source": [
    "# auto spectrum\n",
    "#clgg\n",
    "try:\n",
    "    ell_,Cl_gg= np.load('../output/cls/Clgg_%s.npy'%(file_ext))\n",
    "except:\n",
    "    begin=time.time()\n",
    "    r2d, t2d = np.meshgrid(t_,t_)\n",
    "    w11, w12 = np.meshgrid(w1,w1)\n",
    "    #nu axis\n",
    "    r2d, t2d = np.expand_dims(r2d, 2), np.expand_dims(t2d, 2)\n",
    "    w11, w12 = np.expand_dims(w11, 2), np.expand_dims(w12, 2)\n",
    "\n",
    "    n = 4\n",
    "    chi1fac0 = (kernel1(r2d*chimax)*D_chi(r2d*chimax))\n",
    "    chi1fac0 = chi1fac0 *(r2d*chimax)**(1-(n+nu_n_.reshape(1, 1, -1)))\n",
    "\n",
    "    chi2fac00 = (kernel2(t2d*r2d*chimax)*D_chi(r2d*t2d*chimax))\n",
    "    chi2fac01 = (kernel2(1/t2d*r2d*chimax)*D_chi(r2d*1/t2d*chimax))\n",
    "    chi2fac01 = chi2fac01 * t2d**((n+nu_n_).reshape(1, 1, -1)-2)\n",
    "    chi2fac0  = chi2fac00 + chi2fac01\n",
    "\n",
    "    chifacs = w11*w12*chi1fac0* chi2fac0\n",
    "\n",
    "    result=np.zeros_like(ell_)\n",
    "    lmax = ell_.size\n",
    "    for ii  in range(ell_.size):        \n",
    "        result[ii] = np.sum(chifacs*I4_ltrc[ii])\n",
    "\n",
    "    Cl_gg = chimax * result/np.pi**2/2./4. #dividing by extra factor of 4 (should be there because of Gaussian Quadrature)\n",
    "\n",
    "    np.save('../output/cls/Clgg_%s.npy'%(file_ext),[ell_,Cl_gg])\n",
    "\n",
    "    print('Time taken = ', time.time()-begin)"
   ]
  },
  {
   "cell_type": "code",
   "execution_count": 9,
   "metadata": {},
   "outputs": [
    {
     "data": {
      "image/png": "[encoded data removed]",
      "text/plain": [
       "<Figure size 432x288 with 1 Axes>"
      ]
     },
     "metadata": {
      "needs_background": "light"
     },
     "output_type": "display_data"
    }
   ],
   "source": [
    "plt.figure()\n",
    "plt.title('$z_{means}=$(%.1f,%.1f), $\\sigma = $(%.1f,%.1f)'%(z0_1,z0_2,sigma_z_1,sigma_z_2))\n",
    "plt.ylabel(r'$C_L^{gg}$', fontsize=14)\n",
    "plt.xlabel('L', fontsize=14)\n",
    "p=plt.loglog(ell_,Cl_gg)\n",
    "plt.loglog(ell_,-Cl_gg,c=p[0].get_color(),ls='--')\n",
    "plt.savefig(plotpath+'clgg_%s.pdf'%file_ext, bbox_inches='tight')\n",
    "plt.show()"
   ]
  },
  {
   "cell_type": "markdown",
   "metadata": {},
   "source": [
    "$Mgg22A = \\int_0^{\\chi_\\max} d \\chi_1 W^{(1)}_g(\\chi_1)  \\int_0^{\\chi_\\max} d \\chi_2 \\, W^{(2)}_g(\\chi_2) C_l^{\\delta \\delta} (\\chi_1, \\chi_2) C_{|L-l|}^{\\phi\\phi}(\\chi_1,\\chi_2)$"
   ]
  },
  {
   "cell_type": "code",
   "execution_count": 10,
   "metadata": {},
   "outputs": [],
   "source": [
    "# these files only depend on zmax, hence file_ext2 extension\n",
    "chi1s, chi2s, clphiphirt         = np.load('../G_matrices/clphiphi_rt_%s.npy'%file_ext2)\n",
    "chi1s_, chi2s_, clphiphir_over_t = np.load('../G_matrices/clphiphi_r_over_t_%s.npy'%file_ext2)\n",
    "clphiphirt                       = np.swapaxes(clphiphirt,1,2)\n",
    "clphiphir_over_t                 = np.swapaxes(clphiphir_over_t,1,2)"
   ]
  },
  {
   "cell_type": "code",
   "execution_count": 11,
   "metadata": {},
   "outputs": [
    {
     "name": "stdout",
     "output_type": "stream",
     "text": [
      "0\n"
     ]
    },
    {
     "name": "stderr",
     "output_type": "stream",
     "text": [
      "/global/homes/v/vboehm/.conda/envs/bccp/lib/python3.6/site-packages/ipykernel_launcher.py:36: ComplexWarning: Casting complex values to real discards the imaginary part\n"
     ]
    },
    {
     "name": "stdout",
     "output_type": "stream",
     "text": [
      "10\n",
      "20\n",
      "30\n",
      "40\n",
      "50\n",
      "60\n",
      "70\n",
      "80\n",
      "90\n",
      "100\n",
      "110\n",
      "120\n",
      "130\n",
      "140\n",
      "150\n",
      "160\n",
      "170\n",
      "180\n",
      "190\n",
      "200\n",
      "210\n",
      "220\n",
      "230\n",
      "240\n",
      "250\n",
      "260\n",
      "270\n",
      "280\n",
      "387.978875875473\n"
     ]
    }
   ],
   "source": [
    "# this is cldeltadelta weighted by clphiphi, as it appears in the (2,2)-term\n",
    "try: \n",
    "    _, Mgg22A = np.load('../M_matrices/Mgg22A_%s.npy'%file_ext)\n",
    "    Mgg22A_spline = RectBivariateSpline(ell_,ell_,Mgg22A)\n",
    "except:\n",
    "    r2d, t2d = np.meshgrid(t_,t_)\n",
    "    w11, w12 = np.meshgrid(w1,w1)\n",
    "    #nu axis\n",
    "    r2d, t2d = np.expand_dims(r2d, 2), np.expand_dims(t2d, 2)\n",
    "    w11, w12 = np.expand_dims(w11, 2), np.expand_dims(w12, 2)\n",
    "\n",
    "    clphiphirt_       = np.expand_dims(clphiphirt,-1)\n",
    "    clphiphir_over_t_ = np.expand_dims(clphiphir_over_t,-1)\n",
    "\n",
    "    result = np.zeros((len(ell_),len(ell_)))\n",
    "\n",
    "    n = 4\n",
    "\n",
    "    begin=time.time()\n",
    "    for nn in range(len(ell_)):\n",
    "        if nn%10==0:\n",
    "            print(nn)\n",
    "        chi1fac0 = (kernel1(r2d*chimax)*D_chi(r2d*chimax))\n",
    "        chi1fac0 = chi1fac0 *(r2d*chimax)**(1-(n+nu_n_.reshape(1, 1, -1)))\n",
    "\n",
    "        chi2fac00 = (kernel2(t2d*r2d*chimax)*D_chi(r2d*t2d*chimax)*clphiphirt_[nn])\n",
    "        chi2fac01 = (kernel2(1./t2d*r2d*chimax)*D_chi(r2d/t2d*chimax)*clphiphir_over_t_[nn])\n",
    "        chi2fac01 = chi2fac01 * t2d**((n+nu_n_).reshape(1, 1, -1)-2)\n",
    "        chi2fac0  = chi2fac00 + chi2fac01\n",
    "\n",
    "        chifacs   = w11*w12*chi1fac0* chi2fac0\n",
    "\n",
    "        lmax      = ell_.size\n",
    "        # phiphi should be second entry, associated with l (this is after variable trafo needed for evaluation)\n",
    "        for ii  in range(ell_.size):        \n",
    "            result[ii][nn] = np.sum(chifacs*I4_ltrc[ii])\n",
    "\n",
    "    print(time.time()-begin)\n",
    "\n",
    "    Mgg22A = chimax*result*1./np.pi**2/2./4.\n",
    "    np.save('../M_matrices/Mgg22A_%s.npy'%str(file_ext),[np.meshgrid(ell_),Mgg22A])\n",
    "\n",
    "    Mgg22A_spline = RectBivariateSpline(ell_,ell_,Mgg22A)"
   ]
  },
  {
   "cell_type": "markdown",
   "metadata": {},
   "source": [
    "$Mgg13a = \\int_0^{\\chi_\\max} d \\chi_1 \\, W^{(1)}_g(\\chi_1) \\int_0^{\\chi_\\max} d \\chi_2 \\, W^{(2)}_g(\\chi_2) C_L^{\\delta \\delta} (\\chi_1, \\chi_2) C_{l}^{\\phi\\phi}(\\chi_1)$"
   ]
  },
  {
   "cell_type": "code",
   "execution_count": 12,
   "metadata": {},
   "outputs": [],
   "source": [
    "# script: clphiphi_VB_parallel.py\n",
    "clphiphi   = np.load('../G_matrices/clphiphi_parallel_%s.npy'%file_ext2)\n",
    "\n",
    "cl_phiphi_diag= np.zeros((len(ell_),len(t_)))\n",
    "for ii in range(len(t_)):\n",
    "    cl_phiphi_diag[:,ii]=clphiphi[:,ii,ii]\n",
    "\n",
    "clphiphi_diag=[]\n",
    "from scipy.interpolate import interp1d\n",
    "for ii in range(len(ell_)):\n",
    "    clphiphi_diag+=[interp1d(chimax*t_,cl_phiphi_diag[ii])]"
   ]
  },
  {
   "cell_type": "code",
   "execution_count": 13,
   "metadata": {},
   "outputs": [
    {
     "name": "stdout",
     "output_type": "stream",
     "text": [
      "0\n"
     ]
    },
    {
     "name": "stderr",
     "output_type": "stream",
     "text": [
      "/global/homes/v/vboehm/.conda/envs/bccp/lib/python3.6/site-packages/ipykernel_launcher.py:39: ComplexWarning: Casting complex values to real discards the imaginary part\n"
     ]
    },
    {
     "name": "stdout",
     "output_type": "stream",
     "text": [
      "10\n",
      "20\n",
      "30\n",
      "40\n",
      "50\n",
      "60\n",
      "70\n",
      "80\n",
      "90\n",
      "100\n",
      "110\n",
      "120\n",
      "130\n",
      "140\n",
      "150\n",
      "160\n",
      "170\n",
      "180\n",
      "190\n",
      "200\n",
      "210\n",
      "220\n",
      "230\n",
      "240\n",
      "250\n",
      "260\n",
      "270\n",
      "280\n",
      "0\n"
     ]
    },
    {
     "name": "stderr",
     "output_type": "stream",
     "text": [
      "/global/homes/v/vboehm/.conda/envs/bccp/lib/python3.6/site-packages/ipykernel_launcher.py:62: ComplexWarning: Casting complex values to real discards the imaginary part\n"
     ]
    },
    {
     "name": "stdout",
     "output_type": "stream",
     "text": [
      "10\n",
      "20\n",
      "30\n",
      "40\n",
      "50\n",
      "60\n",
      "70\n",
      "80\n",
      "90\n",
      "100\n",
      "110\n",
      "120\n",
      "130\n",
      "140\n",
      "150\n",
      "160\n",
      "170\n",
      "180\n",
      "190\n",
      "200\n",
      "210\n",
      "220\n",
      "230\n",
      "240\n",
      "250\n",
      "260\n",
      "270\n",
      "280\n",
      "779.9157440662384\n"
     ]
    }
   ],
   "source": [
    "# this is cldeltadelta weighted by clphiphi(chi), as it appears in the (1,3a)-term\n",
    "try:\n",
    "    _, Mgg31a = np.load('../M_matrices/Mgg31a_%s.npy'%file_ext)\n",
    "    _, Mgg31aA = np.load('../M_matrices/Mgg31aA_%s.npy'%file_ext)\n",
    "    _, Mgg31aB = np.load('../M_matrices/Mgg31aB_%s.npy'%file_ext)\n",
    "    Mgg31a_spline = RectBivariateSpline(ell_,ell_,Mgg31a)\n",
    "    Mgg31aA_spline = RectBivariateSpline(ell_,ell_,Mgg31aA)\n",
    "    Mgg31aB_spline = RectBivariateSpline(ell_,ell_,Mgg31aB)\n",
    "except:\n",
    "    r2d, t2d = np.meshgrid(t_,t_)\n",
    "    w11, w12 = np.meshgrid(w1,w1)\n",
    "    #nu axis\n",
    "    r2d, t2d = np.expand_dims(r2d, 2), np.expand_dims(t2d, 2)\n",
    "    w11, w12 = np.expand_dims(w11, 2), np.expand_dims(w12, 2)\n",
    "\n",
    "\n",
    "    result = np.zeros((len(ell_),len(ell_)))\n",
    "\n",
    "    n = 4\n",
    "\n",
    "    begin=time.time()\n",
    "    for nn in range(len(ell_)):\n",
    "        if nn%10==0:\n",
    "            print(nn)\n",
    "\n",
    "        chi1fac0 = (kernel1(r2d*chimax)*D_chi(r2d*chimax)*clphiphi_diag[nn](r2d*chimax))\n",
    "        chi1fac0 = chi1fac0 *(r2d*chimax)**(1-(n+nu_n_.reshape(1, 1, -1)))\n",
    "\n",
    "        chi2fac00 = (kernel2(t2d*r2d*chimax)*D_chi(r2d*t2d*chimax))\n",
    "        chi2fac01 = (kernel2(1./t2d*r2d*chimax)*D_chi(r2d/t2d*chimax))\n",
    "        chi2fac01 = chi2fac01 * t2d**((n+nu_n_).reshape(1, 1, -1)-2)\n",
    "        chi2fac0  = chi2fac00 + chi2fac01\n",
    "\n",
    "        chifacs   = w11*w12*chi1fac0* chi2fac0\n",
    "\n",
    "        lmax = ell_.size\n",
    "        for ii  in range(ell_.size):   \n",
    "            # phiphi should be second entry associated with l\n",
    "            result[ii][nn] = np.sum(chifacs*I4_ltrc[ii])\n",
    "\n",
    "    Mgg31aA = chimax * result*1./np.pi**2/2./4.\n",
    "    \n",
    "    #and same again with exchanged kernels\n",
    "    result = np.zeros((len(ell_),len(ell_)))  \n",
    "    for nn in range(len(ell_)):\n",
    "        if nn%10==0:\n",
    "            print(nn)\n",
    "\n",
    "        chi1fac0 = (kernel2(r2d*chimax)*D_chi(r2d*chimax)*clphiphi_diag[nn](r2d*chimax))\n",
    "        chi1fac0 = chi1fac0 *(r2d*chimax)**(1-(n+nu_n_.reshape(1, 1, -1)))\n",
    "\n",
    "        chi2fac00 = (kernel1(t2d*r2d*chimax)*D_chi(r2d*t2d*chimax))\n",
    "        chi2fac01 = (kernel1(1./t2d*r2d*chimax)*D_chi(r2d/t2d*chimax))\n",
    "        chi2fac01 = chi2fac01 * t2d**((n+nu_n_).reshape(1, 1, -1)-2)\n",
    "        chi2fac0  = chi2fac00 + chi2fac01\n",
    "\n",
    "        chifacs   = w11*w12*chi1fac0* chi2fac0\n",
    "\n",
    "        lmax = ell_.size\n",
    "        for ii  in range(ell_.size):   \n",
    "            # phiphi should be second entry associated with l\n",
    "            result[ii][nn] = np.sum(chifacs*I4_ltrc[ii])\n",
    "\n",
    "        \n",
    "\n",
    "        Mgg31aB = chimax * result*1./np.pi**2/2./4.\n",
    "        \n",
    "    print(time.time()-begin)\n",
    "    \n",
    "    Mgg31a= Mgg31aA+Mgg31aB\n",
    "\n",
    "    np.save('../M_matrices/Mgg31a_%s.npy'%file_ext,[np.meshgrid(ell_),Mgg31a])\n",
    "    np.save('../M_matrices/Mgg31aA_%s.npy'%file_ext,[np.meshgrid(ell_),Mgg31aA])\n",
    "    np.save('../M_matrices/Mgg31aB_%s.npy'%file_ext,[np.meshgrid(ell_),Mgg31aB])\n",
    "\n",
    "    Mgg31a_spline = RectBivariateSpline(ell_,ell_,Mgg31a)\n",
    "    Mgg31aA_spline = RectBivariateSpline(ell_,ell_,Mgg31aA)\n",
    "    Mgg31aB_spline = RectBivariateSpline(ell_,ell_,Mgg31aB)"
   ]
  },
  {
   "cell_type": "code",
   "execution_count": 14,
   "metadata": {},
   "outputs": [],
   "source": [
    "def get_regularized_sum_of_terms_1(L,L1,phi,M1,M2,method='trapz'):\n",
    "    nu = np.cos(phi)\n",
    "    res=[]\n",
    "    for LL in L:\n",
    "        resL1=[]\n",
    "        for LL1 in L1:\n",
    "            L_= LL*np.sqrt(1.+(LL1/LL)**2-2.*LL1/LL*nu)\n",
    "            integrand = LL1*(LL*LL1*nu-LL1*LL1)**2*(M1(L_,LL1,grid=False)-0.5*M2(LL,LL1,grid=False))\n",
    "            if method =='simps':\n",
    "                resL1+=[simps(integrand,phi)]\n",
    "            elif method =='trapz':\n",
    "                resL1+=[np.trapz(integrand,phi)]\n",
    "            elif method =='sum':\n",
    "                resL1+=[np.sum(integrand*np.diff(phi)[0])]\n",
    "        res+=[simps(resL1,L1)]\n",
    "    res=np.asarray(res)/(2.*np.pi)**2\n",
    "    return res\n",
    "\n",
    "\n",
    "def get_regularized_sum_of_terms_2(L,L1,phi,M2,method='trapz'):\n",
    "    nu = np.cos(phi)\n",
    "    res=[]\n",
    "    for LL in L:\n",
    "        resL1=[]\n",
    "        for LL1 in L1:\n",
    "            integrand = - LL1*((LL*LL1*nu)**2-(LL*LL1*nu-LL1*LL1)**2)*(M2(LL,LL1,grid=False))\n",
    "            if method =='simps':\n",
    "                resL1+=[simps(integrand,phi)]\n",
    "            elif method =='trapz':\n",
    "                resL1+=[np.trapz(integrand,phi)]\n",
    "            elif method =='sum':\n",
    "                resL1+=[np.sum(integrand*np.diff(phi)[0])]\n",
    "        res+=[simps(resL1,L1)]\n",
    "    res=np.asarray(res)/(2.*np.pi)**2*0.5\n",
    "    return res\n",
    "\n",
    "def get_Limber22_term(L,L1,phi,M,method='trapz'):\n",
    "    nu = np.cos(phi)\n",
    "    res=[]\n",
    "    for LL in L:\n",
    "        resL1=[]\n",
    "        for LL1 in L1:\n",
    "            L_= LL*np.sqrt(1.+(LL1/LL)**2-2.*LL1/LL*nu)\n",
    "            integrand = LL1*(LL*LL1*nu-LL1*LL1)**2*(M(L_,LL1,grid=False))\n",
    "            if method =='simps':\n",
    "                resL1+=[simps(integrand,phi)]\n",
    "            elif method =='trapz':\n",
    "                resL1+=[np.trapz(integrand,phi)]\n",
    "            elif method =='sum':\n",
    "                resL1+=[np.sum(integrand*np.diff(phi)[0])]\n",
    "        res+=[simps(resL1,L1)]\n",
    "    res=np.asarray(res)/(2.*np.pi)**2\n",
    "    return res\n",
    "\n",
    "def get_Limber13_term(L,L1,phi,M,method='trapz'):\n",
    "    nu = np.cos(phi)\n",
    "    res=[]\n",
    "    for LL in L:\n",
    "        resL1=[]\n",
    "        for LL1 in L1:\n",
    "            integrand = LL1*(LL*LL1*nu)**2*M(LL,LL1,grid=False)\n",
    "            if method =='simps':\n",
    "                resL1+=[simps(integrand,phi)]\n",
    "            elif method =='trapz':\n",
    "                resL1+=[np.trapz(integrand,phi)]\n",
    "            elif method =='sum':\n",
    "                resL1+=[np.sum(integrand*np.diff(phi)[0])]\n",
    "        res+=[simps(resL1,L1)]\n",
    "    res=np.asarray(res)/(2.*np.pi)**2*0.5*(-1)\n",
    "    return res"
   ]
  },
  {
   "cell_type": "code",
   "execution_count": 15,
   "metadata": {},
   "outputs": [],
   "source": [
    "#factor 0.5 from taylor expansion, also added in the draft and consistent with 2.13 in 21cm lensing paper\n",
    "LimberTerms = get_regularized_sum_of_terms_1(L,l,phi,Mgg22A_spline,Mgg31a_spline,method='trapz')+get_regularized_sum_of_terms_2(L,l,phi,Mgg31a_spline,method='trapz')\n",
    "LimberTerm13 = get_Limber13_term(L,l,phi,Mgg31a_spline,method='trapz')\n",
    "LimberTerm22 = get_Limber22_term(L,l,phi,Mgg22A_spline,method='trapz')"
   ]
  },
  {
   "cell_type": "code",
   "execution_count": 16,
   "metadata": {},
   "outputs": [
    {
     "data": {
      "image/png": "[encoded data removed]",
      "text/plain": [
       "<Figure size 432x288 with 1 Axes>"
      ]
     },
     "metadata": {
      "needs_background": "light"
     },
     "output_type": "display_data"
    },
    {
     "data": {
      "image/png": "[encoded data removed]",
      "text/plain": [
       "<Figure size 432x288 with 1 Axes>"
      ]
     },
     "metadata": {
      "needs_background": "light"
     },
     "output_type": "display_data"
    }
   ],
   "source": [
    "#maybe need to use second term to cancel other one? Or did we forget symmetrization in the cross??\n",
    "plt.figure()\n",
    "p=plt.plot(ell_,Cl_gg, label='signal')\n",
    "plt.plot(ell_,-Cl_gg, c=p[0].get_color(), ls='--')\n",
    "p=plt.plot(L,LimberTerms, label='$\\delta C_{L[1]}+\\delta C_{L[2]}$  ')\n",
    "plt.plot(L,-LimberTerms,ls='--',c=p[0].get_color())\n",
    "p=plt.plot(L,LimberTerm13,ls='-',label='$\\delta C_{L[2]}$  ')\n",
    "plt.plot(L,-LimberTerm13,ls='--',c=p[0].get_color(),label='$-\\delta C_{L[2]}$  ')\n",
    "p=plt.plot(L,LimberTerm22,ls='-',label='$\\delta C_{L[1]}$ ')\n",
    "plt.plot(L,-LimberTerm22,ls='--',c=p[0].get_color(),label='$-\\delta C_{L[1]}$ ')\n",
    "plt.yscale('log')\n",
    "plt.legend(loc=(1.01,0.4),fontsize=12)\n",
    "plt.title('terms that are non-zero in Limber')\n",
    "plt.xlim(1,max(L))\n",
    "plt.xlabel('L',fontsize=14)\n",
    "plt.ylabel('$C_L^{gg}$',fontsize=16)\n",
    "plt.savefig(plotpath+'/Limberterms_%s.pdf'%file_ext, bbox_inches='tight')\n",
    "\n",
    "\n",
    "plt.figure()\n",
    "plt.plot(L,LimberTerms, label='$\\delta C_{L[1]}+\\delta C_{L[2]}$  ')\n",
    "plt.plot(L,LimberTerm22,ls='--',label='$\\delta C_{L[1]}$ ')\n",
    "plt.plot(L,-LimberTerm13,ls='-.',label='$-\\delta C_{L[2]}$  ')\n",
    "plt.legend(loc=(1.01,0.55),fontsize=12)\n",
    "plt.title('terms that are non-zero in Limber')\n",
    "plt.xlim(1,max(L))\n",
    "plt.xlabel('L',fontsize=14)\n",
    "plt.ylabel('$\\delta C_L$',fontsize=16)\n",
    "plt.savefig(plotpath+'Limberterms_%s_lin.pdf'%file_ext, bbox_inches='tight')"
   ]
  },
  {
   "cell_type": "markdown",
   "metadata": {},
   "source": [
    "$C_{22}^{(g g)}(L)  = \\int_0^{\\chi_\\max} d \\chi_1 \\, W^{(1)}_g(\\chi_1)  \\int_0^{\\chi_\\max} d \\chi_2 \\, W^{(2)}_g(\\chi_2) C_l^{\\delta \\phi}(\\chi_1, \\chi_2) C_{|L-l|}^{\\delta\\phi}(\\chi_2,\\chi_1)$"
   ]
  },
  {
   "cell_type": "code",
   "execution_count": 17,
   "metadata": {},
   "outputs": [],
   "source": [
    "# get cldeltaphi for second <22> term\n",
    "# same as old code\n",
    "try:\n",
    "    #assert(False)\n",
    "    clphidelta = np.load('../G_matrices/clphidelta_%s.npy'%file_ext2)\n",
    "except:\n",
    "    \n",
    "    def inner_kernel(xi, xmax):\n",
    "        return (xmax - xi)/(xmax*xi) * (xmax > xi)\n",
    "\n",
    "    r2d, t2d = np.meshgrid(t_,t_)\n",
    "    w11, w12 = np.meshgrid(w1,w1)\n",
    "    #nu axis\n",
    "    r2d, t2d = np.expand_dims(r2d, 2), np.expand_dims(t2d, 2)\n",
    "    w11, w12 = np.expand_dims(w11, 2), np.expand_dims(w12, 2)\n",
    "\n",
    "\n",
    "    chimax2  = chimax\n",
    "\n",
    "    n = 2\n",
    "\n",
    "    Cl = np.zeros((len(t_),len(ell_),len(t_)))\n",
    "\n",
    "    begin=time.time()\n",
    "\n",
    "    for jj, chimax1 in enumerate((t_*chimax)):\n",
    "        if jj%10==0:\n",
    "            print(jj)\n",
    "\n",
    "        chi1fac0  = D_chi(r2d*chimax2)\n",
    "        chi1fac0  = chi1fac0 *(r2d*chimax2)**(1-(n+nu_n_).reshape(1, 1, -1))\n",
    "        chi2fac00 = (D_chi(r2d*t2d*chimax2)*(1+z_chi(r2d*t2d*chimax2))*inner_kernel(r2d*t2d*chimax2, chimax1))\n",
    "        chi2fac01 = (inner_kernel(1./t2d*r2d*chimax2,chimax1)*D_chi(r2d*1./t2d*chimax2)*(1+z_chi(r2d*1./t2d*chimax2)))\n",
    "        chi2fac01 = chi2fac01 * t2d**((n+nu_n_).reshape(1, 1, -1)-2)\n",
    "        chi2fac0  = chi2fac00 + chi2fac01\n",
    "        \n",
    "        chifacs   = w12*chi1fac0* chi2fac0\n",
    "\n",
    "        result    = np.zeros((len(ell_),len(t_)))\n",
    "        lmax = ell_.size\n",
    "        for ii  in range(ell_.size):        \n",
    "            result[ii] = np.sum(chifacs*I2_ltrc[ii],axis=(0,2))\n",
    "\n",
    "        Cl[jj] = result*1./np.pi**2/2.*prefac/2.*-2 #no chimax because not summing over r, -2 for psi-> phi\n",
    "\n",
    "    clphidelta = np.swapaxes(Cl,0,1)\n",
    "    print('Time taken = ', time.time()-begin)\n",
    "\n",
    "\n",
    "    # first axis ell, delta goes as r2d\n",
    "    np.save('../G_matrices/clphidelta_%s'%file_ext2,clphidelta)\n",
    "    \n",
    "# phi goes as r2d\n",
    "cldeltaphi = np.swapaxes(clphidelta,1,2)"
   ]
  },
  {
   "cell_type": "code",
   "execution_count": 18,
   "metadata": {},
   "outputs": [
    {
     "data": {
      "image/png": "[encoded data removed]",
      "text/plain": [
       "<Figure size 432x288 with 1 Axes>"
      ]
     },
     "metadata": {
      "needs_background": "light"
     },
     "output_type": "display_data"
    }
   ],
   "source": [
    "plt.figure()\n",
    "p = plt.loglog(ell_, cldeltaphi[:,0,-1], label='$\\chi_1$=%d, $\\chi_2=%d$'%(t_[0]*chimax,t_[-1]*chimax))\n",
    "plt.loglog(ell_, -cldeltaphi[:,0,-1], ls='--',color=p[0].get_color())\n",
    "plt.loglog(ell_, -cldeltaphi[:,50,-1],ls='--', label='$\\chi_1$=%d, $\\chi_2=%d$'%(t_[50]*chimax,t_[-1]*chimax))\n",
    "plt.loglog(ell_, -cldeltaphi[:,-1,-1],ls='--', label='$\\chi_1$=%d, $\\chi_2=%d$'%(t_[-1]*chimax,t_[-1]*chimax))\n",
    "plt.ylabel('$C_L^{\\phi\\delta}(\\chi_1,\\chi_2)$', fontsize=14)\n",
    "plt.xlabel('L',fontsize=16)\n",
    "plt.ylim(1e-18,2e-7)\n",
    "plt.xlim(ell_.min(),ell_.max())\n",
    "plt.legend()\n",
    "plt.show()"
   ]
  },
  {
   "cell_type": "code",
   "execution_count": 19,
   "metadata": {},
   "outputs": [],
   "source": [
    "# this is the second term in <2,2>\n",
    "try:\n",
    "    _ , Mgg22B = np.load('../M_matrices/Mgg22B_%s.npy'%file_ext)\n",
    "except:\n",
    "    r2d, t2d = np.meshgrid(t_,t_)\n",
    "    w11, w12 = np.meshgrid(w1,w1)\n",
    "\n",
    "    result = np.zeros((len(ell_),len(ell_)))\n",
    "    for ii in range(len(ell_)):\n",
    "        for jj in range(len(ell_)):\n",
    "            # first index is |L-l|, clphidelta-> delta goes as r2d, goes with kernel2 -> goes with L-l\n",
    "            result[ii][jj] = np.sum(w11*w12*kernel1(t2d*chimax)*kernel2(r2d*chimax)*cldeltaphi[jj]*clphidelta[ii])\n",
    "    result*=chimax**2/4.\n",
    "\n",
    "    Mgg22B = result\n",
    "\n",
    "    # first index is L\n",
    "    np.save('../M_matrices/Mgg22B_%s.npy'%file_ext,[np.meshgrid(ell_),Mgg22B])\n",
    "\n",
    "Mgg22B_spline = RectBivariateSpline(ell_,ell_,Mgg22B)"
   ]
  },
  {
   "cell_type": "markdown",
   "metadata": {},
   "source": [
    "$Mgg31b = \\int_0^{\\chi_\\max} d \\chi_1 \\, W^{(1)}_g(\\chi_1) \\int_0^{\\chi_\\max} d \\chi_2 \\, W^{(2)}_g(\\chi_2)\n",
    "\\int_0^{\\chi_1} d \\chi_1' \\, W(\\chi_1',\\chi_1) C_l^{\\delta \\phi} (\\chi_1, \\chi_1') C_{L}^{\\Psi\\delta}(\\chi_1',\\chi_2)+symm $"
   ]
  },
  {
   "cell_type": "code",
   "execution_count": 20,
   "metadata": {},
   "outputs": [],
   "source": [
    "#integral over last CL\n",
    "clpsigal1, chis = np.load('../G_matrices/clpsigal_kernel1%s.npy'%file_ext)\n",
    "clpsigal2, chis = np.load('../G_matrices/clpsigal_kernel2%s.npy'%file_ext)\n",
    "#first entry is phi\n",
    "clphidelta, chimaxs = np.load('../G_matrices/clphidelta_paralleli_M31b_%s.npy'%file_ext)"
   ]
  },
  {
   "cell_type": "code",
   "execution_count": 21,
   "metadata": {},
   "outputs": [
    {
     "data": {
      "image/png": "[encoded data removed]",
      "text/plain": [
       "<Figure size 432x288 with 2 Axes>"
      ]
     },
     "metadata": {
      "needs_background": "light"
     },
     "output_type": "display_data"
    },
    {
     "data": {
      "text/plain": [
       "<matplotlib.colorbar.Colorbar at 0x2aaada1397b8>"
      ]
     },
     "execution_count": 21,
     "metadata": {},
     "output_type": "execute_result"
    },
    {
     "data": {
      "image/png": "[encoded data removed]",
      "text/plain": [
       "<Figure size 432x288 with 2 Axes>"
      ]
     },
     "metadata": {
      "needs_background": "light"
     },
     "output_type": "display_data"
    }
   ],
   "source": [
    "plt.imshow(chimaxs)\n",
    "plt.colorbar()\n",
    "plt.show()\n",
    "r2d, t2d = np.meshgrid(t_,t_)\n",
    "plt.imshow(r2d*t2d*chimax-chimaxs)\n",
    "plt.colorbar()"
   ]
  },
  {
   "cell_type": "code",
   "execution_count": 22,
   "metadata": {},
   "outputs": [
    {
     "data": {
      "image/png": "[encoded data removed]",
      "text/plain": [
       "<Figure size 432x288 with 2 Axes>"
      ]
     },
     "metadata": {
      "needs_background": "light"
     },
     "output_type": "display_data"
    },
    {
     "data": {
      "image/png": "[encoded data removed]",
      "text/plain": [
       "<Figure size 432x288 with 2 Axes>"
      ]
     },
     "metadata": {
      "needs_background": "light"
     },
     "output_type": "display_data"
    },
    {
     "data": {
      "text/plain": [
       "<matplotlib.colorbar.Colorbar at 0x2aaada45a828>"
      ]
     },
     "execution_count": 22,
     "metadata": {},
     "output_type": "execute_result"
    },
    {
     "data": {
      "image/png": "[encoded data removed]",
      "text/plain": [
       "<Figure size 432x288 with 2 Axes>"
      ]
     },
     "metadata": {
      "needs_background": "light"
     },
     "output_type": "display_data"
    }
   ],
   "source": [
    "# I expect this to be symmetric -> which it is!\n",
    "plt.imshow(clpsigal1[10])\n",
    "plt.colorbar()\n",
    "plt.show()\n",
    "plt.imshow(clpsigal2[10])\n",
    "plt.colorbar()\n",
    "plt.show()\n",
    "plt.imshow(clphidelta[10])\n",
    "plt.colorbar()"
   ]
  },
  {
   "cell_type": "code",
   "execution_count": null,
   "metadata": {},
   "outputs": [],
   "source": [
    "# this is the first term in <3, 1 b>\n",
    "def lensing_kernel(xi, xmax):\n",
    "    return (xmax - xi)/(xmax*xi)*(xmax > xi)\n",
    "\n",
    "try:\n",
    "    _ , Mgg31b = np.load('../M_matrices/Mgg31b_%s.npy'%file_ext)\n",
    "except:\n",
    "    r2d, t2d = np.meshgrid(t_,t_)\n",
    "    w11, w12 = np.meshgrid(w1,w1)\n",
    "\n",
    "    result = np.zeros((len(ell_),len(ell_)))\n",
    "    for ii in range(len(ell_)):\n",
    "        for jj in range(len(ell_)):\n",
    "            # first index is L\n",
    "            result[ii][jj] = np.sum(w11*w12*r2d*lensing_kernel(t2d*r2d*chimax,r2d*chimax)*kernel1(r2d*chimax)*clphidelta[jj].T*clpsigal2[ii])\n",
    "    result*=chimax**2/4.*2 #the last times two comes from the actual expression\n",
    "\n",
    "    Mgg31b = result\n",
    "\n",
    "    # first index is L\n",
    "    np.save('../M_matrices/Mgg31b_%s.npy'%file_ext,[np.meshgrid(ell_),Mgg31b])\n",
    "\n",
    "Mgg31b_spline = RectBivariateSpline(ell_,ell_,Mgg31b)"
   ]
  },
  {
   "cell_type": "code",
   "execution_count": null,
   "metadata": {},
   "outputs": [],
   "source": [
    "# this is the first term in <1, 3 b>\n",
    "def lensing_kernel(xi, xmax):\n",
    "    return (xmax - xi)/(xmax*xi)*(xmax > xi)\n",
    "\n",
    "try:\n",
    "    _ , Mgg13b = np.load('../M_matrices/Mgg13b_%s.npy'%file_ext)\n",
    "except:\n",
    "    r2d, t2d = np.meshgrid(t_,t_)\n",
    "    w11, w12 = np.meshgrid(w1,w1)\n",
    "\n",
    "    result = np.zeros((len(ell_),len(ell_)))\n",
    "    for ii in range(len(ell_)):\n",
    "        for jj in range(len(ell_)):\n",
    "            # first index is L\n",
    "            result[ii][jj] = np.sum(w11*w12*r2d*lensing_kernel(t2d*r2d*chimax,r2d*chimax)*kernel2(r2d*chimax)*clphidelta[jj].T*clpsigal1[ii])\n",
    "    result*=chimax**2/4.*2 #the last times two comes from the actual expression\n",
    "\n",
    "    Mgg13b = result\n",
    "\n",
    "    # first index is L\n",
    "    np.save('../M_matrices/Mgg13b_%s.npy'%file_ext,[np.meshgrid(ell_),Mgg13b])\n",
    "\n",
    "Mgg13b_spline = RectBivariateSpline(ell_,ell_,Mgg13b)"
   ]
  },
  {
   "cell_type": "code",
   "execution_count": null,
   "metadata": {},
   "outputs": [],
   "source": [
    "Mgg13b_spline_sym = RectBivariateSpline(ell_,ell_,Mgg13b+Mgg31b)"
   ]
  },
  {
   "cell_type": "code",
   "execution_count": null,
   "metadata": {},
   "outputs": [],
   "source": [
    "plt.imshow(np.log(Mgg13b))\n",
    "plt.colorbar()\n",
    "plt.show()\n",
    "plt.imshow(np.log(Mgg31b))\n",
    "plt.colorbar()"
   ]
  },
  {
   "cell_type": "code",
   "execution_count": null,
   "metadata": {},
   "outputs": [],
   "source": [
    "def get_regularized_sum_of_terms_11(L,L1,phi,M1,M2,method='trapz'):\n",
    "    nu = np.cos(phi)\n",
    "    res=[]\n",
    "    for LL in L:\n",
    "        resL1=[]\n",
    "        for LL1 in L1:\n",
    "            L_= LL*np.sqrt(1.+(LL1/LL)**2-2.*LL1/LL*nu)\n",
    "            integrand = LL1*(LL*LL1*nu-LL1*LL1)**2*(M1(L_,LL1,grid=False)+M2(LL,LL1,grid=False))\n",
    "            if method =='simps':\n",
    "                resL1+=[simps(integrand,phi)]\n",
    "            elif method =='trapz':\n",
    "                resL1+=[np.trapz(integrand,phi)]\n",
    "            elif method =='sum':\n",
    "                resL1+=[np.sum(integrand*np.diff(phi)[0])]\n",
    "        res+=[simps(resL1,L1)]\n",
    "    res=np.asarray(res)/(2.*np.pi)**2\n",
    "    return res\n",
    "\n",
    "\n",
    "def get_regularized_sum_of_terms_22(L,L1,phi,M2,method='trapz'):\n",
    "    nu = np.cos(phi)\n",
    "    res=[]\n",
    "    for LL in L:\n",
    "        resL1=[]\n",
    "        for LL1 in L1:\n",
    "            integrand = LL1*((LL*LL1*nu)**2-(LL*LL1*nu-LL1*LL1)**2)*(M2(LL,LL1,grid=False))\n",
    "            if method =='simps':\n",
    "                resL1+=[simps(integrand,phi)]\n",
    "            elif method =='trapz':\n",
    "                resL1+=[np.trapz(integrand,phi)]\n",
    "            elif method =='sum':\n",
    "                resL1+=[np.sum(integrand*np.diff(phi)[0])]\n",
    "        res+=[simps(resL1,L1)]\n",
    "    res=np.asarray(res)/(2.*np.pi)**2\n",
    "    return res\n",
    "\n",
    "\n",
    "def get_noLimber22_term(L,L1,phi,M,method='trapz'):\n",
    "    nu = np.cos(phi)\n",
    "    res=[]\n",
    "    for LL in L:\n",
    "        resL1=[]\n",
    "        for LL1 in L1:\n",
    "            L_= LL*np.sqrt(1.+(LL1/LL)**2-2.*LL1/LL*nu)\n",
    "            integrand = LL1*(LL*LL1*nu-LL1*LL1)**2*(M(L_,LL1,grid=False))\n",
    "            if method =='simps':\n",
    "                resL1+=[simps(integrand,phi)]\n",
    "            elif method =='trapz':\n",
    "                resL1+=[np.trapz(integrand,phi)]\n",
    "            elif method =='sum':\n",
    "                resL1+=[np.sum(integrand*np.diff(phi)[0])]\n",
    "        res+=[simps(resL1,L1)]\n",
    "    res=np.asarray(res)/(2.*np.pi)**2\n",
    "    return res\n",
    "\n",
    "#gives same result, because of symmetry\n",
    "def get_noLimber22_term2(L,L1,phi,M,method='trapz'):\n",
    "    nu = np.cos(phi)\n",
    "    res=[]\n",
    "    for LL in L:\n",
    "        resL1=[]\n",
    "        for LL1 in L1:\n",
    "            L_= LL*np.sqrt(1.+(LL1/LL)**2-2.*LL1/LL*nu)\n",
    "            integrand = LL1*(LL*LL1*nu-LL1*LL1)**2*(M(LL1,L_,grid=False))\n",
    "            if method =='simps':\n",
    "                resL1+=[simps(integrand,phi)]\n",
    "            elif method =='trapz':\n",
    "                resL1+=[np.trapz(integrand,phi)]\n",
    "            elif method =='sum':\n",
    "                resL1+=[np.sum(integrand*np.diff(phi)[0])]\n",
    "        res+=[simps(resL1,L1)]\n",
    "    res=np.asarray(res)/(2.*np.pi)**2\n",
    "    return res\n",
    "\n",
    "def get_noLimber13_term(L,L1,phi,M,method='trapz'):\n",
    "    nu = np.cos(phi)\n",
    "    res=[]\n",
    "    for LL in L:\n",
    "        resL1=[]\n",
    "        for LL1 in L1:\n",
    "            integrand = LL1*(LL*LL1*nu)**2*(M(LL,LL1,grid=False))\n",
    "            if method =='simps':\n",
    "                resL1+=[simps(integrand,phi)]\n",
    "            elif method =='trapz':\n",
    "                resL1+=[np.trapz(integrand,phi)]\n",
    "            elif method =='sum':\n",
    "                resL1+=[np.sum(integrand*np.diff(phi)[0])]\n",
    "        res+=[simps(resL1,L1)]\n",
    "    res=np.asarray(res)/(2.*np.pi)**2\n",
    "    return res"
   ]
  },
  {
   "cell_type": "code",
   "execution_count": null,
   "metadata": {},
   "outputs": [],
   "source": [
    "NoLimberTerms = get_regularized_sum_of_terms_11(L,l,phi,Mgg22B_spline,Mgg13b_spline_sym,method='trapz')+get_regularized_sum_of_terms_22(L,l,phi,Mgg13b_spline_sym,method='trapz')\n",
    "NoLimberTerm1 = get_noLimber22_term(L,l,phi,Mgg22B_spline)\n",
    "# NoLimberTerm_ = get_noLimber22_term2(L,l,phi,Mgg22B_spline)\n",
    "NoLimberTerm2 = get_noLimber13_term(L,l,phi,Mgg13b_spline_sym)\n",
    "# NoLimberTerm_ = get_noLimber13_term2(L,l,phi,Mgg13b_spline_sym)"
   ]
  },
  {
   "cell_type": "code",
   "execution_count": null,
   "metadata": {},
   "outputs": [],
   "source": [
    "NoLimberTerm2a = get_noLimber13_term(L,l,phi,Mgg13b_spline)\n",
    "NoLimberTerm2b = get_noLimber13_term(L,l,phi,Mgg31b_spline)"
   ]
  },
  {
   "cell_type": "markdown",
   "metadata": {},
   "source": [
    "### additionally there's also magnification bias\n",
    "$-\\frac{1}{2}(5(s-0.4)) \\int^{\\chi_{max}}_0 d \\chi_1 W^{(1)}(\\chi_1) \\int^{\\chi_{max}}_0 d \\chi_2 W^{(2)}(\\chi_2) C_L^{\\delta\\phi}+ symm$ "
   ]
  },
  {
   "cell_type": "code",
   "execution_count": null,
   "metadata": {},
   "outputs": [],
   "source": [
    "s=0.6\n",
    "\n",
    "try:\n",
    "    assert(False)\n",
    "    _ , Mggbias = np.load('../M_matrices/Mggbias_s%d_%s.npy'%(10*s,file_ext))\n",
    "except:\n",
    "    r2d, t2d = np.meshgrid(t_,t_)\n",
    "    w11, w12 = np.meshgrid(w1,w1)\n",
    "\n",
    "    result = np.zeros((len(ell_)))\n",
    "    for ii in range(len(ell_)):\n",
    "        result[ii] = np.sum(w11*w12*(kernel1(t2d*r2d*chimax)*kernel2(r2d*chimax)*cldeltaphi[ii]+kernel2(t2d*r2d*chimax)*kernel1(r2d*chimax)*cldeltaphi[ii]))\n",
    "    result*=chimax**2/4.*(-0.5)*(5*(s-0.4))\n",
    "                           \n",
    "    Mggbias = result\n",
    "\n",
    "    # first index is L\n",
    "    np.save('../M_matrices/Mggbias_s%d_%s.npy'%(10*s,file_ext),[np.meshgrid(ell_),Mggbias])"
   ]
  },
  {
   "cell_type": "code",
   "execution_count": null,
   "metadata": {},
   "outputs": [],
   "source": [
    "# doing cancellation trick does not seem important here, however, the delta deltaC_3 term (red) seems subdominant for this redshift combination\n",
    "#as they notice correctly, one is subdominant\n",
    "plt.figure()\n",
    "plt.title('$z_{means}=$(%.1f,%.1f), $\\sigma = $(%.1f,%.1f)'%(z0_1,z0_2,sigma_z_1,sigma_z_2))\n",
    "plt.plot(ell_,Cl_gg, label='signal', color='crimson', lw=2)\n",
    "plt.plot(ell_,-Cl_gg, ls='--', color='crimson', lw=2)\n",
    "plt.plot(ell_,Mggbias, label='magnification bias, s=%.1f'%s, c='lightblue',lw=1.5)\n",
    "plt.plot(ell_,-Mggbias, label='magnification bias, s=%.1f'%s,ls='--', c='lightblue',lw=1.5)\n",
    "plt.plot(L,NoLimberTerms,ls='-', label='sum of terms that are zero in Limber', lw='2', c='darkblue')\n",
    "plt.plot(L,NoLimberTerm1,ls=':',label='$\\delta C_{L[4]}$')\n",
    "#plt.plot(L,NoLimberTerm2,ls='-.',label='13 no Limber')\n",
    "plt.plot(L,NoLimberTerm2a,ls='--',label='$\\delta C_{L[3]}$ dominant', c='m')\n",
    "plt.plot(L,NoLimberTerm2b,ls=':',label='$\\delta C_{L[3]}$ sub dominant')\n",
    "#plt.plot(L,(NoLimberTerm2+NoLimberTerm1),ls=':',color='darkblue',label='no Limber terms, added')\n",
    "\n",
    "#plt.plot(L,-LimberTerm13,ls='--',label='13 Limber')\n",
    "#plt.plot(L,LimberTerm22,ls='-.',label='')\n",
    "p=plt.plot(L,LimberTerms, lw=2, label='$\\delta C_{L[1]}+\\delta C_{L[2]}$ (non zero in Limber)')\n",
    "plt.plot(L,-LimberTerms,ls='--',c=p[0].get_color())\n",
    "#plt.plot(L,(LimberTerm22+LimberTerm13),ls=':',color='m',label='Limber, added')\n",
    "plt.ylabel('$C_L^{gg}$',fontsize=16)\n",
    "plt.xlabel('$L$',fontsize=14)\n",
    "plt.yscale('log')\n",
    "plt.xscale('log')\n",
    "plt.legend(loc=(1.02,0.2))\n",
    "plt.xlim(2,max(L))\n",
    "plt.savefig(plotpath+'corrections_on_auto_%s.pdf'%file_ext, bbox_inches='tight')\n",
    "\n",
    "\n",
    "plt.figure()\n",
    "plt.title('$z_{means}=$(%.1f,%.1f), $\\sigma = $(%.1f,%.1f)'%(z0_1,z0_2,sigma_z_1,sigma_z_2))\n",
    "plt.plot(ell_,Mggbias, label='magnification bias, s=%.1f'%s, c='lightblue',lw=1.5)\n",
    "plt.plot(L,NoLimberTerms,ls='-', label='sum of terms that are zero in Limber', lw='2', c='darkblue')\n",
    "plt.plot(L,NoLimberTerm1,ls=':',label='$\\delta C_{L[4]}$',lw=2)\n",
    "plt.plot(L,NoLimberTerm2a,ls='--',label='$\\delta C_{L[3]}$ dominant', c='m')\n",
    "plt.plot(L,NoLimberTerm2b,ls=':',label='$\\delta C_{L[3]}$ sub dominant',lw=2)\n",
    "p=plt.plot(L,LimberTerms, lw=2, label='$\\delta C_{L[1]}+\\delta C_{L[2]}$ (non zero in Limber)')\n",
    "plt.ylabel('$\\delta C_L^{gg}$',fontsize=16)\n",
    "plt.xlabel('$L$',fontsize=14)\n",
    "plt.legend(loc=(1.02,0.2))\n",
    "plt.xlim(2,max(L))\n",
    "plt.yscale('log')\n",
    "plt.savefig(plotpath+'corrections_on_auto_%s_lin.pdf'%file_ext, bbox_inches='tight')\n",
    "\n",
    "\n",
    "plt.figure()\n",
    "plt.title('$z_{means}=$(%.1f,%.1f), $\\sigma = $(%.1f,%.1f)'%(z0_1,z0_2,sigma_z_1,sigma_z_2))\n",
    "plt.plot(L,NoLimberTerm1/(NoLimberTerm2b+NoLimberTerm2a),ls='-')\n",
    "plt.ylabel('$\\delta C_{L[4]}/\\delta C_{L[3]}$',fontsize=16)\n",
    "plt.xlabel('$L$',fontsize=14)\n",
    "plt.xlim(2,max(L))\n",
    "plt.yscale('log')\n",
    "plt.savefig(plotpath+'/dCl4_over_dCl3_%s.pdf'%file_ext, bbox_inches='tight')"
   ]
  },
  {
   "cell_type": "code",
   "execution_count": null,
   "metadata": {},
   "outputs": [],
   "source": [
    "plt.figure()\n",
    "plt.title('$z_{means}=$(%.1f,%.1f), $\\sigma = $(%.1f,%.1f)'%(z0_1,z0_2,sigma_z_1,sigma_z_2))\n",
    "p=plt.loglog(L, NoLimberTerms/np.interp(L,ell_,Cl_gg), label='terms that are zero in Limber')\n",
    "plt.loglog(L, -NoLimberTerms/np.interp(L,ell_,Cl_gg), ls='--',c= p[0].get_color())\n",
    "p=plt.loglog(L, LimberTerms/np.interp(L,ell_,Cl_gg), label='terms that are non-zero in Limber')\n",
    "plt.loglog(L, -LimberTerms/np.interp(L,ell_,Cl_gg), ls='--',c= p[0].get_color())\n",
    "plt.ylabel('Correction/Signal',fontsize=14)\n",
    "plt.xlabel('L',fontsize=14)\n",
    "plt.legend(loc='best')\n",
    "plt.savefig(plotpath+'corrections_on_auto_relative_%s.pdf'%file_ext, bbox_inches='tight')"
   ]
  },
  {
   "cell_type": "markdown",
   "metadata": {},
   "source": []
  },
  {
   "cell_type": "markdown",
   "metadata": {},
   "source": []
  },
  {
   "cell_type": "code",
   "execution_count": null,
   "metadata": {},
   "outputs": [],
   "source": []
  },
  {
   "cell_type": "code",
   "execution_count": null,
   "metadata": {},
   "outputs": [],
   "source": []
  }
 ],
 "metadata": {
  "kernelspec": {
   "display_name": "NERSC BCCP",
   "language": "python",
   "name": "bccp"
  },
  "language_info": {
   "codemirror_mode": {
    "name": "ipython",
    "version": 3
   },
   "file_extension": ".py",
   "mimetype": "text/x-python",
   "name": "python",
   "nbconvert_exporter": "python",
   "pygments_lexer": "ipython3",
   "version": "3.6.7"
  }
 },
 "nbformat": 4,
 "nbformat_minor": 2
}
