{
 "cells": [
  {
   "cell_type": "code",
   "execution_count": 1,
   "metadata": {},
   "outputs": [],
   "source": [
    "import numpy as np\n",
    "import matplotlib.pyplot as plt\n",
    "import sys\n",
    "import time"
   ]
  },
  {
   "cell_type": "code",
   "execution_count": 2,
   "metadata": {},
   "outputs": [
    {
     "name": "stdout",
     "output_type": "stream",
     "text": [
      "using z-bin None norm 65.75020607931236\n",
      "using z-bin [0, 0.5, 0.03] norm 14.32276056640902\n",
      "using z-bin [0.5, 0.5, 0.03] norm 23.943209238913052\n",
      "using z-bin [1.0, 1.0, 0.04] norm 21.63232752061847\n",
      "using z-bin [2.0, 1.0, 0.05] norm 3.7179104375669816\n",
      "using z-bin [3.0, 1.0, 0.05] norm 1.471852539963635\n"
     ]
    }
   ],
   "source": [
    "path = '../PostBornEma/'\n",
    "sys.path.append(\"../scripts/\") \n",
    "from lab import *"
   ]
  },
  {
   "cell_type": "markdown",
   "metadata": {},
   "source": [
    "# Lowest order $C_L$s without Limber approximaton "
   ]
  },
  {
   "cell_type": "markdown",
   "metadata": {},
   "source": [
    "### 1) $C_L^{\\phi\\phi}$\n",
    "\n"
   ]
  },
  {
   "cell_type": "code",
   "execution_count": 3,
   "metadata": {},
   "outputs": [
    {
     "name": "stderr",
     "output_type": "stream",
     "text": [
      "/global/homes/v/vboehm/.conda/envs/bccp/lib/python3.6/site-packages/ipykernel_launcher.py:28: ComplexWarning: Casting complex values to real discards the imaginary part\n"
     ]
    },
    {
     "name": "stdout",
     "output_type": "stream",
     "text": [
      "Time taken =  1.4057586193084717\n"
     ]
    }
   ],
   "source": [
    "def lensing_kernel(xi, xmax):\n",
    "    return (xmax - xi)/(xmax*xi) * (xmax > xi) * (1.+z_chi(xi))\n",
    "\n",
    "\n",
    "r2d, t2d = np.meshgrid(t_,t_)\n",
    "w11, w12 = np.meshgrid(w1,w1)\n",
    "# inflate by one dimensions (nu_n)\n",
    "r2d, t2d = np.expand_dims(r2d, 2), np.expand_dims(t2d, 2)\n",
    "w11, w12 = np.expand_dims(w11, 2), np.expand_dims(w12, 2)\n",
    "\n",
    "n=0\n",
    "\n",
    "begin=time.time()\n",
    "\n",
    "chi1fac0 = (lensing_kernel(r2d*chi_cmb, chi_cmb)*D_chi(r2d*chi_cmb))\n",
    "chi1fac0 = chi1fac0 *(r2d*chi_cmb)**(1-nu_n_.reshape(1, 1, -1))\n",
    "\n",
    "chi2fac00 = (lensing_kernel(t2d*r2d*chi_cmb, chi_cmb)*D_chi(r2d*t2d*chi_cmb))\n",
    "chi2fac01 = (lensing_kernel(1./t2d*r2d*chi_cmb, chi_cmb)*D_chi(r2d*1./t2d*chi_cmb))\n",
    "chi2fac01 = chi2fac01 * t2d**(n+nu_n_.reshape(1, 1, -1)-2)\n",
    "chi2fac0  = chi2fac00 + chi2fac01\n",
    "\n",
    "chifacs = w11*w12*chi1fac0* chi2fac0\n",
    "\n",
    "result=np.zeros_like(ell_)\n",
    "lmax = ell_.size\n",
    "for ii  in range(ell_.size):        \n",
    "    result[ii] = np.sum(chifacs*I0_ltrc[ii])\n",
    "\n",
    "Clpp  = 2**2*chi_cmb * result*1./np.pi**2/2.*prefac**2/4. #factor 2 for every phi = -2 int W psi\n",
    "#factor of 1/2 for every gaussian quadrature\n",
    "\n",
    "print('Time taken = ', time.time()-begin)"
   ]
  },
  {
   "cell_type": "code",
   "execution_count": 4,
   "metadata": {},
   "outputs": [],
   "source": [
    "# loading CLASS results for comparison\n",
    "ll,clpp = np.load('../output/clpp_class_no_limber.npy')"
   ]
  },
  {
   "cell_type": "code",
   "execution_count": 5,
   "metadata": {},
   "outputs": [
    {
     "data": {
      "text/plain": [
       "(2, 2000)"
      ]
     },
     "execution_count": 5,
     "metadata": {},
     "output_type": "execute_result"
    },
    {
     "data": {
      "image/png": "[encoded data removed]",
      "text/plain": [
       "<Figure size 432x288 with 1 Axes>"
      ]
     },
     "metadata": {
      "needs_background": "light"
     },
     "output_type": "display_data"
    }
   ],
   "source": [
    "plt.loglog(ll,(ll*(ll+1))**2*clpp, label='CLASS')\n",
    "plt.loglog(ell_,(ell_*(ell_+1))**2*Clpp,ls='--',label='our code')\n",
    "plt.legend()\n",
    "plt.ylabel('$[L(L+1)]^2 C_L^{\\phi\\phi}$',fontsize=16)\n",
    "plt.xlabel('L')\n",
    "plt.xlim(2,2000)"
   ]
  },
  {
   "cell_type": "code",
   "execution_count": 6,
   "metadata": {},
   "outputs": [
    {
     "data": {
      "text/plain": [
       "[<matplotlib.lines.Line2D at 0x2aaadaee9860>]"
      ]
     },
     "execution_count": 6,
     "metadata": {},
     "output_type": "execute_result"
    },
    {
     "data": {
      "image/png": "[encoded data removed]",
      "text/plain": [
       "<Figure size 432x288 with 1 Axes>"
      ]
     },
     "metadata": {
      "needs_background": "light"
     },
     "output_type": "display_data"
    }
   ],
   "source": [
    "\n",
    "plt.plot(ell_,Clpp/np.interp(ell_,ll,clpp)-1,ls='--',label='ratio to class')"
   ]
  },
  {
   "cell_type": "code",
   "execution_count": 7,
   "metadata": {},
   "outputs": [],
   "source": [
    "mean = 3.\n",
    "width = 0.5\n",
    "\n",
    "# uncomment to run new combinations of mean and variance\n",
    "# so far we have 3, 0.5 and 1, 0.2\n",
    "\n",
    "# from classy import Class\n",
    "# cosmo = Class()\n",
    "\n",
    "\n",
    "# #cosmo_dict.pop('z_cmb')\n",
    "# cosmo_dict['output']='nCl, lCl, tCl, sCl, mPk'\n",
    "# cosmo_dict['lensing']='yes'\n",
    "# cosmo_dict['selection']='gaussian'\n",
    "# cosmo_dict['selection']='gaussian'\n",
    "# cosmo_dict['selection_mean'] = str(mean)\n",
    "# cosmo_dict['selection_width'] = str(width)\n",
    "# cosmo_dict['l_switch_limber']=100\n",
    "# cosmo_dict['perturb_sampling_stepsize']=0.01\n",
    "# cosmo_dict['P_k_max_1/Mpc']=10.\n",
    "\n",
    "# cosmo.empty()\n",
    "# cosmo.set(cosmo_dict)\n",
    "# cosmo.compute()\n",
    "\n",
    "# cldd = cosmo.density_cl(300)\n",
    "# clgg = cldd['dd'][0]\n",
    "# ll_  = cldd['ell']\n",
    "# np.save('../output/class_clgg_no_limber_Gauss_mean%d_width%0.e.npy'%(mean,width),[ll_,clgg])"
   ]
  },
  {
   "cell_type": "code",
   "execution_count": 8,
   "metadata": {},
   "outputs": [
    {
     "name": "stdout",
     "output_type": "stream",
     "text": [
      "loaded  ../output/class_clgg_post_limber_Gauss_mean3_width5e-01.npy\n"
     ]
    }
   ],
   "source": [
    "\n",
    "ll_,clgg = np.load('../output/class_clgg_no_limber_Gauss_mean%d_width%0.e.npy'%(mean,width))\n",
    "print('loaded ','../output/class_clgg_post_limber_Gauss_mean%d_width%0.e.npy'%(mean,width))\n"
   ]
  },
  {
   "cell_type": "markdown",
   "metadata": {},
   "source": [
    "### 2) $C_L^{gg}$"
   ]
  },
  {
   "cell_type": "code",
   "execution_count": 9,
   "metadata": {},
   "outputs": [],
   "source": [
    "# first let's define different redshift kernels\n",
    "\n",
    "# 1) general kernel if dNdz is Gaussian\n",
    "def Gauss_redshift(z0,sigma_z):\n",
    "    def z_kernel(z):\n",
    "        return 1./np.sqrt(2.*np.pi)/sigma_z*np.exp(-(z-z0)**2/2./sigma_z**2)\n",
    "    return z_kernel\n",
    "\n",
    "def gal_kernel(z_kernel,ximax=5):\n",
    "    def chi_kernel(xi):\n",
    "        return z_kernel(z_chi(xi))*dz_dchi(xi)\n",
    "    return chi_kernel\n",
    "\n",
    "\n",
    "# 2) prospective LSST kernels\n",
    "def dNdz_LSST(bin_num,dn_filename = '../LSSTdndzs/dndz_LSST_i27_SN5_3y'):\n",
    "    if bin_num is \"all\":\n",
    "        zbin, nbin = np.load(dn_filename+'tot_extrapolated.npy',encoding='latin1')\n",
    "        norm                = np.trapz(nbin,zbin)\n",
    "        mbin                = 'None'\n",
    "    else:\n",
    "        bins,big_grid,res   = np.load(dn_filename+'_extrapolated.npy',encoding='latin1')\n",
    "        mbin                = bins[bin_num]\n",
    "        zbin                = big_grid\n",
    "        nbin                = res[bin_num]\n",
    "        norm                = np.trapz(nbin,zbin)\n",
    "    dndz                = interp1d(zbin, nbin/norm, kind='linear',bounds_error=False,fill_value=0.)\n",
    "    print('using z-bin', mbin, 'norm', norm)\n",
    "    return dndz\n",
    "\n",
    "\n",
    "\n",
    "def gal_clus(dNdz,b,bin_num):\n",
    "    \"\"\"\n",
    "    dNdz: function returning function dndz for gicen bin number \n",
    "    b: function returning bias as function of z \n",
    "    bin_num: bin_number (either 'all' or 0-5)\n",
    "    \"\"\"\n",
    "    p_z=dNdz(bin_num)\n",
    "    def kernel(x):\n",
    "        z = z_chi(x)\n",
    "        return b(z)*p_z(z)*dz_dchi(z)\n",
    "\n",
    "    return kernel\n",
    "\n",
    "def simple_bias(z):\n",
    "    return (1.+z)\n",
    "\n",
    "def constant_bias(z,b=1.):\n",
    "    return b"
   ]
  },
  {
   "cell_type": "code",
   "execution_count": 10,
   "metadata": {},
   "outputs": [
    {
     "name": "stderr",
     "output_type": "stream",
     "text": [
      "/global/homes/v/vboehm/.conda/envs/bccp/lib/python3.6/site-packages/ipykernel_launcher.py:21: ComplexWarning: Casting complex values to real discards the imaginary part\n"
     ]
    },
    {
     "name": "stdout",
     "output_type": "stream",
     "text": [
      "Time taken =  1.5716936588287354\n"
     ]
    }
   ],
   "source": [
    "#Gaussian test case and comparison to class result\n",
    "begin=time.time()\n",
    "kernel1 = gal_kernel(Gauss_redshift(mean,width))\n",
    "kernel2 = gal_kernel(Gauss_redshift(mean,width))\n",
    "\n",
    "chimax = chi_cmb\n",
    "n = 4\n",
    "chi1fac0 = (kernel1(r2d*chimax)*D_chi(r2d*chimax))\n",
    "chi1fac0 = chi1fac0 *(r2d*chimax)**(1-(n+nu_n_.reshape(1, 1, -1)))\n",
    "\n",
    "chi2fac00 = (kernel2(t2d*r2d*chimax)*D_chi(r2d*t2d*chimax))\n",
    "chi2fac01 = (kernel2(1/t2d*r2d*chimax)*D_chi(r2d*1/t2d*chimax))\n",
    "chi2fac01 = chi2fac01 * t2d**((n+nu_n_).reshape(1, 1, -1)-2)\n",
    "chi2fac0  = chi2fac00 + chi2fac01\n",
    "\n",
    "chifacs = w11*w12*chi1fac0* chi2fac0\n",
    "\n",
    "result=np.zeros_like(ell_)\n",
    "lmax = ell_.size\n",
    "for ii  in range(ell_.size):        \n",
    "    result[ii] = np.sum(chifacs*I4_ltrc[ii])\n",
    "\n",
    "Clgg = chimax * result/np.pi**2/2./4. #dividing by extra factor of 4 (should be there because of Gaussian Quadrature)\n",
    "\n",
    "print('Time taken = ', time.time()-begin)"
   ]
  },
  {
   "cell_type": "code",
   "execution_count": 11,
   "metadata": {},
   "outputs": [
    {
     "data": {
      "text/plain": [
       "(2, 300)"
      ]
     },
     "execution_count": 11,
     "metadata": {},
     "output_type": "execute_result"
    },
    {
     "data": {
      "image/png": "[encoded data removed]",
      "text/plain": [
       "<Figure size 432x288 with 1 Axes>"
      ]
     },
     "metadata": {
      "needs_background": "light"
     },
     "output_type": "display_data"
    }
   ],
   "source": [
    "plt.plot(ll_,clgg,label ='CLASS output')\n",
    "plt.plot(ell_,Clgg,ls='--', label='our code')\n",
    "plt.legend()\n",
    "plt.ylabel('$C_L^{gg}$',fontsize=16)\n",
    "plt.title('mean: %d, sigma:%.1f'%(mean,width))\n",
    "plt.xlim(2,300)"
   ]
  },
  {
   "cell_type": "code",
   "execution_count": 12,
   "metadata": {},
   "outputs": [
    {
     "name": "stdout",
     "output_type": "stream",
     "text": [
      "using z-bin [0, 0.5, 0.03] norm 14.32276056640902\n",
      "using z-bin None norm 65.75020607931236\n"
     ]
    },
    {
     "name": "stderr",
     "output_type": "stream",
     "text": [
      "/global/homes/v/vboehm/.conda/envs/bccp/lib/python3.6/site-packages/ipykernel_launcher.py:25: ComplexWarning: Casting complex values to real discards the imaginary part\n"
     ]
    },
    {
     "name": "stdout",
     "output_type": "stream",
     "text": [
      "Time taken =  1.4379279613494873\n"
     ]
    }
   ],
   "source": [
    "# now let's use LSST kernels\n",
    "binnum1= 0\n",
    "binnum2= 'all'\n",
    "begin=time.time()\n",
    "kernel1 = gal_clus(dNdz_LSST,constant_bias,binnum1)\n",
    "kernel2 = gal_clus(dNdz_LSST,constant_bias,binnum2)\n",
    "\n",
    "chimax = chi_cmb\n",
    "\n",
    "n = 4\n",
    "\n",
    "chi1fac0 = (kernel1(r2d*chimax)*D_chi(r2d*chimax))\n",
    "chi1fac0 = chi1fac0 *(r2d*chimax)**(1-(4+nu_n_.reshape(1, 1, -1)))\n",
    "\n",
    "chi2fac00 = (kernel2(t2d*r2d*chimax)*D_chi(r2d*t2d*chimax))\n",
    "chi2fac01 = (kernel2(1/t2d*r2d*chimax)*D_chi(r2d*1/t2d*chimax))\n",
    "chi2fac01 = chi2fac01 * t2d**((n+nu_n_).reshape(1, 1, -1)-2)\n",
    "chi2fac0  = chi2fac00 + chi2fac01\n",
    "\n",
    "chifacs = w11*w12*chi1fac0* chi2fac0\n",
    "\n",
    "result=np.zeros_like(ell_)\n",
    "lmax = ell_.size\n",
    "for ii  in range(ell_.size):        \n",
    "    result[ii] = np.sum(chifacs*I4_ltrc[ii])\n",
    "\n",
    "Clgg = chimax * result/np.pi**2/2./4. #dividing by extra factor of 4 (should be there because of Gaussian Quadrature)\n",
    "\n",
    "print('Time taken = ', time.time()-begin)"
   ]
  },
  {
   "cell_type": "code",
   "execution_count": 13,
   "metadata": {},
   "outputs": [
    {
     "data": {
      "text/plain": [
       "(2, 300)"
      ]
     },
     "execution_count": 13,
     "metadata": {},
     "output_type": "execute_result"
    },
    {
     "data": {
      "image/png": "[encoded data removed]",
      "text/plain": [
       "<Figure size 432x288 with 1 Axes>"
      ]
     },
     "metadata": {
      "needs_background": "light"
     },
     "output_type": "display_data"
    }
   ],
   "source": [
    "plt.title('LSST x LSST; bins: %s x %s'%(str(binnum1),str(binnum2)))\n",
    "plt.plot(ell_,Clgg)\n",
    "plt.ylabel('$C_L^{gg}$',fontsize=16)\n",
    "plt.xscale('log')\n",
    "plt.xlim(2,300)"
   ]
  },
  {
   "cell_type": "markdown",
   "metadata": {},
   "source": [
    "### 3) $C_L^{\\phi g}$"
   ]
  },
  {
   "cell_type": "code",
   "execution_count": 14,
   "metadata": {},
   "outputs": [
    {
     "name": "stderr",
     "output_type": "stream",
     "text": [
      "/global/homes/v/vboehm/.conda/envs/bccp/lib/python3.6/site-packages/ipykernel_launcher.py:32: ComplexWarning: Casting complex values to real discards the imaginary part\n"
     ]
    },
    {
     "name": "stdout",
     "output_type": "stream",
     "text": [
      "Time taken =  1.449406385421753\n"
     ]
    }
   ],
   "source": [
    "# set up (as before), but using FFTlog of P_deltapsi\n",
    "\n",
    "r2d, t2d = np.meshgrid(t_,t_)\n",
    "w11, w12 = np.meshgrid(w1,w1)\n",
    "#nu axis\n",
    "r2d, t2d = np.expand_dims(r2d, 2), np.expand_dims(t2d, 2)\n",
    "w11, w12 = np.expand_dims(w11, 2), np.expand_dims(w12, 2)\n",
    "\n",
    "# chimax and kernels\n",
    "chimax   = chi_cmb\n",
    "\n",
    "kernel1  = lensing_kernel\n",
    "kernel2  = gal_kernel(Gauss_redshift(mean,width))\n",
    "\n",
    "n = 2\n",
    "\n",
    "begin=time.time()\n",
    "\n",
    "chi1fac0 = (kernel1(r2d*chimax,chimax)*D_chi(r2d*chimax))\n",
    "chi1fac0 = chi1fac0 *(r2d*chimax)**(1-(n+nu_n_.reshape(1, 1, -1)))\n",
    "\n",
    "chi2fac00 = (kernel2(t2d*r2d*chimax)*D_chi(r2d*t2d*chimax))\n",
    "chi2fac01 = (kernel2(1./t2d*r2d*chimax)*D_chi(r2d/t2d*chimax))\n",
    "chi2fac01 = chi2fac01 * t2d**((n+nu_n_).reshape(1, 1, -1)-2)\n",
    "chi2fac0  = chi2fac00 + chi2fac01\n",
    "\n",
    "chifacs = w11*w12*chi1fac0* chi2fac0\n",
    "\n",
    "result=np.zeros_like(ell_)\n",
    "lmax = ell_.size\n",
    "for ii  in range(ell_.size):        \n",
    "    result[ii] = np.sum(chifacs*I2_ltrc[ii])\n",
    "    \n",
    "\n",
    "Cl_pg = chimax * result*1./np.pi**2/2.*prefac/4.*2\n",
    "\n",
    "print('Time taken = ', time.time()-begin)\n",
    "\n",
    "np.save('../output/Clpg_mean%d_width%0.e.npy'%(mean,width),[ell_,Cl_pg])"
   ]
  },
  {
   "cell_type": "code",
   "execution_count": 15,
   "metadata": {},
   "outputs": [],
   "source": [
    "#making kappa out of phi\n",
    "Cl_kp = 1/2.*ell_**2*Cl_pg"
   ]
  },
  {
   "cell_type": "code",
   "execution_count": 16,
   "metadata": {},
   "outputs": [],
   "source": [
    "# cross in Limber, uncomment if you need different kernels than are saved\n",
    "# chis = np.linspace(1.,chi_cmb,5000) #in Mpc/h\n",
    "# ells = np.linspace(1,2000,200)\n",
    "# result=[]\n",
    "# for l_ in ells:\n",
    "#     integrand=[]\n",
    "#     for chi in chis:\n",
    "#         k = l_/chi #in h/Mpc\n",
    "#         try:\n",
    "#             Pk= cosmo.pk(k*h,0.)*D_chi(chi)**2*h**3\n",
    "#         except:\n",
    "#             Pk= 0.\n",
    "#         integrand+=[lensing_kernel(chi,chi_cmb)*kernel2(chi)*Pk]\n",
    "#     result+=[np.trapz(integrand, chis)]\n",
    "# clkg=np.asarray(result)*prefac\n",
    "\n",
    "# np.save('../output/limber_flat_sky_clkg_mean%d_width%0.e.npy'%(mean,width),[ells,clkg])"
   ]
  },
  {
   "cell_type": "code",
   "execution_count": 17,
   "metadata": {},
   "outputs": [],
   "source": [
    "ells,clkg = np.load('../output/limber_flat_sky_clkg_mean%d_width%0.e.npy'%(mean,width))"
   ]
  },
  {
   "cell_type": "code",
   "execution_count": 18,
   "metadata": {},
   "outputs": [
    {
     "data": {
      "text/plain": [
       "<matplotlib.legend.Legend at 0x2aaadae7f6a0>"
      ]
     },
     "execution_count": 18,
     "metadata": {},
     "output_type": "execute_result"
    },
    {
     "data": {
      "image/png": "[encoded data removed]",
      "text/plain": [
       "<Figure size 432x288 with 1 Axes>"
      ]
     },
     "metadata": {
      "needs_background": "light"
     },
     "output_type": "display_data"
    }
   ],
   "source": [
    "# difference at low ell is expected because I'm comparing to no-Limber\n",
    "plt.loglog(ells,clkg, label = 'Limber and no los derivative hack')\n",
    "plt.loglog(ell_,Cl_kp,ls = '--',label='our code')\n",
    "plt.ylabel('$C_L^{\\kappa g}$',fontsize=16)\n",
    "plt.legend()"
   ]
  },
  {
   "cell_type": "markdown",
   "metadata": {},
   "source": [
    "### In this last part let's compare the two ways to calculate $C_L^{\\kappa\\kappa}$: by integrating over $P^{\\psi\\psi}$ or by integrating over $P^{\\kappa\\kappa}$ and assuming LOS derivative dont contribute significantly. The latter should be wrong on large scales with a similar scale dependence to the Limber approximation\n"
   ]
  },
  {
   "cell_type": "code",
   "execution_count": 19,
   "metadata": {},
   "outputs": [],
   "source": [
    "# clkk from integrating over psi (reusing result from above)\n",
    "\n",
    "#full sky\n",
    "clkk1 = 1./4.*(ell_*(ell_+1.))**2*Clpp\n",
    "\n",
    "#flat sky\n",
    "clkk2 = 1./4.*(ell_)**4*Clpp"
   ]
  },
  {
   "cell_type": "code",
   "execution_count": 20,
   "metadata": {},
   "outputs": [
    {
     "name": "stderr",
     "output_type": "stream",
     "text": [
      "/global/homes/v/vboehm/.conda/envs/bccp/lib/python3.6/site-packages/ipykernel_launcher.py:31: ComplexWarning: Casting complex values to real discards the imaginary part\n"
     ]
    }
   ],
   "source": [
    "# clkk from integrating over delta\n",
    "\n",
    "#note the different lensing kernel\n",
    "def lensing_kernel_2(xi, xmax):\n",
    "    return (xmax - xi)/(xmax)*xi* (xmax > xi) * (1.+z_chi(xi))\n",
    "\n",
    "kernel = lensing_kernel_2\n",
    "\n",
    "r2d, t2d = np.meshgrid(t_,t_)\n",
    "w11, w12 = np.meshgrid(w1,w1)\n",
    "#nu axis\n",
    "r2d, t2d = np.expand_dims(r2d, 2), np.expand_dims(t2d, 2)\n",
    "w11, w12 = np.expand_dims(w11, 2), np.expand_dims(w12, 2)\n",
    "begin=time.time()\n",
    "#Try different chimax to see how sampling changes things\n",
    "chimax   = chi_cmb\n",
    "\n",
    "chi1fac0 = (kernel(r2d*chimax,chi_cmb)*D_chi(r2d*chimax))\n",
    "chi1fac0 = chi1fac0 *(r2d*chimax)**(1-(4+nu_n_.reshape(1, 1, -1)))\n",
    "\n",
    "chi2fac00 = (kernel(t2d*r2d*chimax,chi_cmb)*D_chi(r2d*t2d*chimax))\n",
    "chi2fac01 = (kernel(1./t2d*r2d*chimax,chi_cmb)*D_chi(r2d/t2d*chimax))\n",
    "chi2fac01 = chi2fac01 * t2d**((4+nu_n_).reshape(1, 1, -1)-2)\n",
    "chi2fac0  = chi2fac00 + chi2fac01\n",
    "\n",
    "chifacs = w11*w12*chi1fac0* chi2fac0\n",
    "\n",
    "result=np.zeros_like(ell_)\n",
    "lmax = ell_.size\n",
    "for ii  in range(ell_.size):        \n",
    "    result[ii] = np.sum(chifacs*I4_ltrc[ii])\n",
    "    \n",
    "\n",
    "clkk3 = chimax * result*1./np.pi**2/2.*prefac**2/4.\n",
    "\n",
    "clkk4 = (ell_*(ell_+1))**2/(ell_**4)*clkk3"
   ]
  },
  {
   "cell_type": "code",
   "execution_count": 24,
   "metadata": {},
   "outputs": [],
   "source": [
    "from classy import Class\n",
    "cosmo = Class()\n",
    "cosmo_dict['output']='lCl, tCl'\n",
    "cosmo_dict['lensing']='yes'\n",
    "# cosmo_dict.pop('selection')\n",
    "# cosmo_dict.pop('selection_mean')\n",
    "# cosmo_dict.pop('selection_width')\n",
    "cosmo_dict['l_switch_limber']=1\n",
    "cosmo_dict['perturb_sampling_stepsize']=0.01\n",
    "#cosmo_dict.pop('P_k_max_1/Mpc')\n",
    "cosmo_dict.pop('z_cmb')\n",
    "\n",
    "cosmo.empty()\n",
    "cosmo.set(cosmo_dict)\n",
    "cosmo.compute()\n",
    "cllen_Limber= cosmo.lensed_cl(2000)\n",
    "\n",
    "ll   = cllen_Limber['ell']\n",
    "clppL = cllen_Limber['pp']\n",
    "clkk5 = 1./4.*(ll*(ll+1))**2*clppL\n",
    "clkk6 = 1./4.*(ll)**4*clppL"
   ]
  },
  {
   "cell_type": "code",
   "execution_count": null,
   "metadata": {},
   "outputs": [],
   "source": [
    "plt.loglog(ell_,clkk1,color='blue',label='from psi full sky')\n",
    "plt.loglog(ell_,clkk2,color='green', label='from psi flat sky')\n",
    "plt.loglog(ell_,clkk3,ls='--', color='red',label= 'from delta flat sky')\n",
    "plt.loglog(ell_,clkk4,ls='--', color='orange',label= 'from delta full sky')\n",
    "plt.loglog(ll,clkk5,ls='-.', color='cyan',label= 'full sky Limber')\n",
    "plt.loglog(ll,clkk6,ls='-.',color = 'maroon',label= 'flat sky Limber')\n",
    "plt.legend()\n",
    "plt.ylabel(r'$C_L^{\\kappa\\kappa}$',fontsize=16)\n",
    "plt.xlim(2,100)\n",
    "plt.xlabel('L')\n",
    "plt.ylim(2e-8,3e-7)"
   ]
  },
  {
   "cell_type": "markdown",
   "metadata": {},
   "source": [
    "Note how the two approximations: flat sky and neglection of los derivatives nicely compensate... (a very similar thing happens for the Limber approximation)"
   ]
  },
  {
   "cell_type": "code",
   "execution_count": null,
   "metadata": {},
   "outputs": [],
   "source": []
  },
  {
   "cell_type": "code",
   "execution_count": null,
   "metadata": {},
   "outputs": [],
   "source": []
  },
  {
   "cell_type": "code",
   "execution_count": null,
   "metadata": {},
   "outputs": [],
   "source": []
  }
 ],
 "metadata": {
  "kernelspec": {
   "display_name": "NERSC BCCP",
   "language": "python",
   "name": "bccp"
  },
  "language_info": {
   "codemirror_mode": {
    "name": "ipython",
    "version": 3
   },
   "file_extension": ".py",
   "mimetype": "text/x-python",
   "name": "python",
   "nbconvert_exporter": "python",
   "pygments_lexer": "ipython3",
   "version": "3.6.7"
  }
 },
 "nbformat": 4,
 "nbformat_minor": 2
}
