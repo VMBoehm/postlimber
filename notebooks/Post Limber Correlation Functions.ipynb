{
 "cells": [
  {
   "cell_type": "code",
   "execution_count": 5,
   "metadata": {},
   "outputs": [],
   "source": [
    "import numpy as np\n",
    "import matplotlib.pyplot as plt\n",
    "import sys\n",
    "import time"
   ]
  },
  {
   "cell_type": "code",
   "execution_count": 4,
   "metadata": {},
   "outputs": [],
   "source": [
    "path = '../PostBornEma/'\n",
    "sys.path.append(\"../scripts/\") \n",
    "from lab import *"
   ]
  },
  {
   "cell_type": "markdown",
   "metadata": {},
   "source": [
    "# Lowest order $C_L$s without Limber approximaton "
   ]
  },
  {
   "cell_type": "markdown",
   "metadata": {},
   "source": [
    "### 1) $C_L^{\\phi\\phi}$\n",
    "\n"
   ]
  },
  {
   "cell_type": "code",
   "execution_count": 75,
   "metadata": {},
   "outputs": [
    {
     "name": "stderr",
     "output_type": "stream",
     "text": [
      "/global/homes/v/vboehm/.conda/envs/bccp/lib/python3.6/site-packages/ipykernel_launcher.py:27: ComplexWarning: Casting complex values to real discards the imaginary part\n"
     ]
    },
    {
     "name": "stdout",
     "output_type": "stream",
     "text": [
      "Time taken =  1.3481574058532715\n"
     ]
    }
   ],
   "source": [
    "def lensing_kernel(xi, xmax):\n",
    "    return (xmax - xi)/(xmax*xi) * (xmax > xi) * (1.+z_chi(xi))\n",
    "\n",
    "\n",
    "r2d, t2d = np.meshgrid(t_,t_)\n",
    "w11, w12 = np.meshgrid(w1,w1)\n",
    "# inflate by one dimensions (nu_n)\n",
    "r2d, t2d = np.expand_dims(r2d, 2), np.expand_dims(t2d, 2)\n",
    "w11, w12 = np.expand_dims(w11, 2), np.expand_dims(w12, 2)\n",
    "\n",
    "\n",
    "begin=time.time()\n",
    "\n",
    "chi1fac0 = (lensing_kernel(r2d*chi_cmb, chi_cmb)*D_chi(r2d*chi_cmb))\n",
    "chi1fac0 = chi1fac0 *(r2d*chi_cmb)**(1-nu_n_.reshape(1, 1, -1))\n",
    "\n",
    "chi2fac00 = (lensing_kernel(t2d*r2d*chi_cmb, chi_cmb)*D_chi(r2d*t2d*chi_cmb))\n",
    "chi2fac01 = (lensing_kernel(1./t2d*r2d*chi_cmb, chi_cmb)*D_chi(r2d*1./t2d*chi_cmb))\n",
    "chi2fac01 = chi2fac01 * t2d**(nu_n_.reshape(1, 1, -1)-2)\n",
    "chi2fac0  = chi2fac00 + chi2fac01\n",
    "\n",
    "chifacs = w11*w12*chi1fac0* chi2fac0\n",
    "\n",
    "result=np.zeros_like(ell_)\n",
    "lmax = ell_.size\n",
    "for ii  in range(ell_.size):        \n",
    "    result[ii] = np.sum(chifacs*I0_ltrc[ii])\n",
    "\n",
    "Cl  = 2**2*chi_cmb * result*1./np.pi**2/2.*prefac**2/4. #factor 2 for every phi = -2 int W psi\n",
    "#factor of 1/2 for every gaussian quadrature\n",
    "\n",
    "print('Time taken = ', time.time()-begin)"
   ]
  },
  {
   "cell_type": "code",
   "execution_count": 76,
   "metadata": {},
   "outputs": [],
   "source": [
    "# loading CLASS results for comparison\n",
    "ll,clpp = np.load('../output/clpp_class_no_limber.npy')"
   ]
  },
  {
   "cell_type": "code",
   "execution_count": 77,
   "metadata": {},
   "outputs": [
    {
     "data": {
      "text/plain": [
       "(2, 2000)"
      ]
     },
     "execution_count": 77,
     "metadata": {},
     "output_type": "execute_result"
    },
    {
     "data": {
      "image/png": "[encoded data removed]",
      "text/plain": [
       "<Figure size 432x288 with 1 Axes>"
      ]
     },
     "metadata": {
      "needs_background": "light"
     },
     "output_type": "display_data"
    }
   ],
   "source": [
    "plt.loglog(ll,(ll*(ll+1))**2*clpp, label='CLASS')\n",
    "plt.loglog(ell_,(ell_*(ell_+1))**2*Cl,ls='--',label='our code')\n",
    "plt.legend()\n",
    "plt.ylabel('$[L(L+1)]^2 C_L^{\\phi\\phi}$',fontsize=16)\n",
    "plt.xlabel('L')\n",
    "plt.xlim(2,2000)"
   ]
  },
  {
   "cell_type": "code",
   "execution_count": 101,
   "metadata": {},
   "outputs": [],
   "source": [
    "mean = 3.\n",
    "width = 0.5\n",
    "\n",
    "# uncomment to run new combinations of mean and variance\n",
    "# so far we have 3, 0.5 and 1, 0.2\n",
    "\n",
    "# from classy import Class\n",
    "# cosmo = Class()\n",
    "\n",
    "\n",
    "# #cosmo_dict.pop('z_cmb')\n",
    "# cosmo_dict['output']='nCl, lCl, tCl, sCl, mPk'\n",
    "# cosmo_dict['lensing']='yes'\n",
    "# cosmo_dict['selection']='gaussian'\n",
    "# cosmo_dict['selection']='gaussian'\n",
    "# cosmo_dict['selection_mean'] = str(mean)\n",
    "# cosmo_dict['selection_width'] = str(width)\n",
    "# cosmo_dict['l_switch_limber']=100\n",
    "# cosmo_dict['perturb_sampling_stepsize']=0.01\n",
    "# cosmo_dict['P_k_max_1/Mpc']=10.\n",
    "\n",
    "# cosmo.empty()\n",
    "# cosmo.set(cosmo_dict)\n",
    "# cosmo.compute()\n",
    "\n",
    "# cldd = cosmo.density_cl(300)\n",
    "# clgg = cldd['dd'][0]\n",
    "# ll_  = cldd['ell']\n",
    "# np.save('../output/class_clgg_no_limber_Gauss_mean%d_width%0.e.npy'%(mean,width),[ll_,clgg])"
   ]
  },
  {
   "cell_type": "code",
   "execution_count": 108,
   "metadata": {},
   "outputs": [
    {
     "name": "stdout",
     "output_type": "stream",
     "text": [
      "loaded  ../output/class_clgg_post_limber_Gauss_mean3_width5e-01.npy\n"
     ]
    }
   ],
   "source": [
    "\n",
    "ll_,clgg = np.load('../output/class_clgg_no_limber_Gauss_mean%d_width%0.e.npy'%(mean,width))\n",
    "print('loaded ','../output/class_clgg_post_limber_Gauss_mean%d_width%0.e.npy'%(mean,width))\n"
   ]
  },
  {
   "cell_type": "markdown",
   "metadata": {},
   "source": [
    "### 2) $C_L^{gg}$"
   ]
  },
  {
   "cell_type": "code",
   "execution_count": 138,
   "metadata": {},
   "outputs": [],
   "source": [
    "# first let's define different redshift kernels\n",
    "\n",
    "# 1) general kernel if dNdz is Gaussian\n",
    "def Gauss_redshift(z0,sigma_z):\n",
    "    def z_kernel(z):\n",
    "        return 1./np.sqrt(2.*np.pi)/sigma_z*np.exp(-(z-z0)**2/2./sigma_z**2)\n",
    "    return z_kernel\n",
    "\n",
    "def gal_kernel(z_kernel,ximax=5):\n",
    "    def chi_kernel(xi):\n",
    "        return z_kernel(z_chi(xi))*dz_dchi(xi)\n",
    "    return chi_kernel\n",
    "\n",
    "import pickle\n",
    "\n",
    "# 2) prospective LSST kernels\n",
    "def dNdz_LSST(bin_num,dn_filename = '../LSSTdndzs/dndz_LSST_i27_SN5_3y'):\n",
    "    if bin_num is \"all\":\n",
    "        zbin, nbin = pickle.load(open(dn_filename+'tot_extrapolated.pkl', encoding='iso-8859-1'))\n",
    "        norm                = simps(nbin,zbin)\n",
    "        mbin                = 'None'\n",
    "    else:\n",
    "        bins,big_grid,res   = pickle.load(open(dn_filename+'_extrapolated.pkl', encoding='iso-8859-1'))\n",
    "        mbin                = bins[bin_num]\n",
    "        zbin                = big_grid\n",
    "        nbin                = res[bin_num]\n",
    "        norm                = simps(nbin,zbin)\n",
    "    dndz                = interp1d(zbin, nbin/norm, kind='linear',bounds_error=False,fill_value=0.)\n",
    "    print('using z-bin', mbin, 'norm', norm)\n",
    "    return dndz\n",
    "\n",
    "\n",
    "\n",
    "def gal_clus(dNdz,b,bin_num):\n",
    "    \"\"\"\n",
    "    dNdz: function returning function dndz for gicen bin number \n",
    "    b: function returning bias as function of z \n",
    "    bin_num: bin_number (either 'all' or 0-5)\n",
    "    \"\"\"\n",
    "    p_z=dNdz(bin_num)\n",
    "    def kernel(x,z,chimax=None):\n",
    "        return b(z)*p_z(z)*dz_dchi(z)\n",
    "\n",
    "    return kernel\n",
    "\n",
    "def simple_bias(z):\n",
    "    return (1.+z)\n",
    "\n",
    "def constant_bias(z,b=1.):\n",
    "    return b"
   ]
  },
  {
   "cell_type": "code",
   "execution_count": 132,
   "metadata": {},
   "outputs": [
    {
     "name": "stderr",
     "output_type": "stream",
     "text": [
      "/global/homes/v/vboehm/.conda/envs/bccp/lib/python3.6/site-packages/ipykernel_launcher.py:21: ComplexWarning: Casting complex values to real discards the imaginary part\n"
     ]
    },
    {
     "name": "stdout",
     "output_type": "stream",
     "text": [
      "Time taken =  1.5635292530059814\n"
     ]
    }
   ],
   "source": [
    "#Gaussian test case and comparison to class result\n",
    "begin=time.time()\n",
    "kernel1 = gal_kernel(Gauss_redshift(mean,width))\n",
    "kernel2 = gal_kernel(Gauss_redshift(mean,width))\n",
    "\n",
    "chimax = chi_cmb\n",
    "\n",
    "chi1fac0 = (kernel1(r2d*chimax)*D_chi(r2d*chimax))\n",
    "chi1fac0 = chi1fac0 *(r2d*chimax)**(1-(4+nu_n_.reshape(1, 1, -1)))\n",
    "\n",
    "chi2fac00 = (kernel2(t2d*r2d*chimax)*D_chi(r2d*t2d*chimax))\n",
    "chi2fac01 = (kernel2(1/t2d*r2d*chimax)*D_chi(r2d*1/t2d*chimax))\n",
    "chi2fac01 = chi2fac01 * t2d**((4+nu_n_).reshape(1, 1, -1)-2)\n",
    "chi2fac0  = chi2fac00 + chi2fac01\n",
    "\n",
    "chifacs = w11*w12*chi1fac0* chi2fac0\n",
    "\n",
    "result=np.zeros_like(ell_)\n",
    "lmax = ell_.size\n",
    "for ii  in range(ell_.size):        \n",
    "    result[ii] = np.sum(chifacs*I4_ltrc[ii])\n",
    "\n",
    "Clgg = chimax * result/np.pi**2/2./4. #dividing by extra factor of 4 (should be there because of Gaussian Quadrature)\n",
    "\n",
    "print('Time taken = ', time.time()-begin)"
   ]
  },
  {
   "cell_type": "code",
   "execution_count": 117,
   "metadata": {},
   "outputs": [
    {
     "data": {
      "text/plain": [
       "(2, 300)"
      ]
     },
     "execution_count": 117,
     "metadata": {},
     "output_type": "execute_result"
    },
    {
     "data": {
      "image/png": "[encoded data removed]",
      "text/plain": [
       "<Figure size 432x288 with 1 Axes>"
      ]
     },
     "metadata": {
      "needs_background": "light"
     },
     "output_type": "display_data"
    }
   ],
   "source": [
    "plt.plot(ll_,clgg,label ='CLASS output')\n",
    "plt.plot(ell_,Clgg,ls='--', label='our code')\n",
    "plt.legend()\n",
    "plt.ylabel('$C_L^{gg}$',fontsize=16)\n",
    "plt.title('mean: %d, sigma:%.1f'%(mean,width))\n",
    "plt.xlim(2,300)"
   ]
  },
  {
   "cell_type": "code",
   "execution_count": 139,
   "metadata": {},
   "outputs": [
    {
     "ename": "TypeError",
     "evalue": "a bytes-like object is required, not 'str'",
     "output_type": "error",
     "traceback": [
      "\u001b[0;31m---------------------------------------------------------------------------\u001b[0m",
      "\u001b[0;31mTypeError\u001b[0m                                 Traceback (most recent call last)",
      "\u001b[0;32m<ipython-input-139-30240dea9840>\u001b[0m in \u001b[0;36m<module>\u001b[0;34m()\u001b[0m\n\u001b[1;32m      1\u001b[0m \u001b[0;31m# now let's use LSST kernels\u001b[0m\u001b[0;34m\u001b[0m\u001b[0;34m\u001b[0m\u001b[0;34m\u001b[0m\u001b[0m\n\u001b[1;32m      2\u001b[0m \u001b[0mbegin\u001b[0m\u001b[0;34m=\u001b[0m\u001b[0mtime\u001b[0m\u001b[0;34m.\u001b[0m\u001b[0mtime\u001b[0m\u001b[0;34m(\u001b[0m\u001b[0;34m)\u001b[0m\u001b[0;34m\u001b[0m\u001b[0;34m\u001b[0m\u001b[0m\n\u001b[0;32m----> 3\u001b[0;31m \u001b[0mkernel1\u001b[0m \u001b[0;34m=\u001b[0m \u001b[0mgal_clus\u001b[0m\u001b[0;34m(\u001b[0m\u001b[0mdNdz_LSST\u001b[0m\u001b[0;34m,\u001b[0m\u001b[0mconstant_bias\u001b[0m\u001b[0;34m,\u001b[0m\u001b[0;34m'0'\u001b[0m\u001b[0;34m)\u001b[0m\u001b[0;34m\u001b[0m\u001b[0;34m\u001b[0m\u001b[0m\n\u001b[0m\u001b[1;32m      4\u001b[0m \u001b[0mkernel2\u001b[0m \u001b[0;34m=\u001b[0m \u001b[0mgal_clus\u001b[0m\u001b[0;34m(\u001b[0m\u001b[0mdNdz_LSST\u001b[0m\u001b[0;34m,\u001b[0m\u001b[0mconstant_bias\u001b[0m\u001b[0;34m,\u001b[0m\u001b[0;34m'all'\u001b[0m\u001b[0;34m)\u001b[0m\u001b[0;34m\u001b[0m\u001b[0;34m\u001b[0m\u001b[0m\n\u001b[1;32m      5\u001b[0m \u001b[0;34m\u001b[0m\u001b[0m\n",
      "\u001b[0;32m<ipython-input-138-a933b9fb25a5>\u001b[0m in \u001b[0;36mgal_clus\u001b[0;34m(dNdz, b, bin_num)\u001b[0m\n\u001b[1;32m     38\u001b[0m     \u001b[0mbin_num\u001b[0m\u001b[0;34m:\u001b[0m \u001b[0mbin_number\u001b[0m \u001b[0;34m(\u001b[0m\u001b[0meither\u001b[0m \u001b[0;34m'all'\u001b[0m \u001b[0;32mor\u001b[0m \u001b[0;36m0\u001b[0m\u001b[0;34m-\u001b[0m\u001b[0;36m5\u001b[0m\u001b[0;34m)\u001b[0m\u001b[0;34m\u001b[0m\u001b[0;34m\u001b[0m\u001b[0m\n\u001b[1;32m     39\u001b[0m     \"\"\"\n\u001b[0;32m---> 40\u001b[0;31m     \u001b[0mp_z\u001b[0m\u001b[0;34m=\u001b[0m\u001b[0mdNdz\u001b[0m\u001b[0;34m(\u001b[0m\u001b[0mbin_num\u001b[0m\u001b[0;34m)\u001b[0m\u001b[0;34m\u001b[0m\u001b[0;34m\u001b[0m\u001b[0m\n\u001b[0m\u001b[1;32m     41\u001b[0m     \u001b[0;32mdef\u001b[0m \u001b[0mkernel\u001b[0m\u001b[0;34m(\u001b[0m\u001b[0mx\u001b[0m\u001b[0;34m,\u001b[0m\u001b[0mz\u001b[0m\u001b[0;34m,\u001b[0m\u001b[0mchimax\u001b[0m\u001b[0;34m=\u001b[0m\u001b[0;32mNone\u001b[0m\u001b[0;34m)\u001b[0m\u001b[0;34m:\u001b[0m\u001b[0;34m\u001b[0m\u001b[0;34m\u001b[0m\u001b[0m\n\u001b[1;32m     42\u001b[0m         \u001b[0;32mreturn\u001b[0m \u001b[0mb\u001b[0m\u001b[0;34m(\u001b[0m\u001b[0mz\u001b[0m\u001b[0;34m)\u001b[0m\u001b[0;34m*\u001b[0m\u001b[0mp_z\u001b[0m\u001b[0;34m(\u001b[0m\u001b[0mz\u001b[0m\u001b[0;34m)\u001b[0m\u001b[0;34m*\u001b[0m\u001b[0mdz_dchi\u001b[0m\u001b[0;34m(\u001b[0m\u001b[0mz\u001b[0m\u001b[0;34m)\u001b[0m\u001b[0;34m\u001b[0m\u001b[0;34m\u001b[0m\u001b[0m\n",
      "\u001b[0;32m<ipython-input-138-a933b9fb25a5>\u001b[0m in \u001b[0;36mdNdz_LSST\u001b[0;34m(bin_num, dn_filename)\u001b[0m\n\u001b[1;32m     21\u001b[0m         \u001b[0mmbin\u001b[0m                \u001b[0;34m=\u001b[0m \u001b[0;34m'None'\u001b[0m\u001b[0;34m\u001b[0m\u001b[0;34m\u001b[0m\u001b[0m\n\u001b[1;32m     22\u001b[0m     \u001b[0;32melse\u001b[0m\u001b[0;34m:\u001b[0m\u001b[0;34m\u001b[0m\u001b[0;34m\u001b[0m\u001b[0m\n\u001b[0;32m---> 23\u001b[0;31m         \u001b[0mbins\u001b[0m\u001b[0;34m,\u001b[0m\u001b[0mbig_grid\u001b[0m\u001b[0;34m,\u001b[0m\u001b[0mres\u001b[0m   \u001b[0;34m=\u001b[0m \u001b[0mpickle\u001b[0m\u001b[0;34m.\u001b[0m\u001b[0mload\u001b[0m\u001b[0;34m(\u001b[0m\u001b[0mopen\u001b[0m\u001b[0;34m(\u001b[0m\u001b[0mdn_filename\u001b[0m\u001b[0;34m+\u001b[0m\u001b[0;34m'_extrapolated.pkl'\u001b[0m\u001b[0;34m,\u001b[0m \u001b[0mencoding\u001b[0m\u001b[0;34m=\u001b[0m\u001b[0;34m'iso-8859-1'\u001b[0m\u001b[0;34m)\u001b[0m\u001b[0;34m)\u001b[0m\u001b[0;34m\u001b[0m\u001b[0;34m\u001b[0m\u001b[0m\n\u001b[0m\u001b[1;32m     24\u001b[0m         \u001b[0mmbin\u001b[0m                \u001b[0;34m=\u001b[0m \u001b[0mbins\u001b[0m\u001b[0;34m[\u001b[0m\u001b[0mbin_num\u001b[0m\u001b[0;34m]\u001b[0m\u001b[0;34m\u001b[0m\u001b[0;34m\u001b[0m\u001b[0m\n\u001b[1;32m     25\u001b[0m         \u001b[0mzbin\u001b[0m                \u001b[0;34m=\u001b[0m \u001b[0mbig_grid\u001b[0m\u001b[0;34m\u001b[0m\u001b[0;34m\u001b[0m\u001b[0m\n",
      "\u001b[0;31mTypeError\u001b[0m: a bytes-like object is required, not 'str'"
     ]
    }
   ],
   "source": [
    "# now let's use LSST kernels\n",
    "begin=time.time()\n",
    "kernel1 = gal_clus(dNdz_LSST,constant_bias,'0')\n",
    "kernel2 = gal_clus(dNdz_LSST,constant_bias,'all')\n",
    "\n",
    "chimax = chi_cmb\n",
    "\n",
    "chi1fac0 = (kernel1(r2d*chimax)*D_chi(r2d*chimax))\n",
    "chi1fac0 = chi1fac0 *(r2d*chimax)**(1-(4+nu_n_.reshape(1, 1, -1)))\n",
    "\n",
    "chi2fac00 = (kernel2(t2d*r2d*chimax)*D_chi(r2d*t2d*chimax))\n",
    "chi2fac01 = (kernel2(1/t2d*r2d*chimax)*D_chi(r2d*1/t2d*chimax))\n",
    "chi2fac01 = chi2fac01 * t2d**((4+nu_n_).reshape(1, 1, -1)-2)\n",
    "chi2fac0  = chi2fac00 + chi2fac01\n",
    "\n",
    "chifacs = w11*w12*chi1fac0* chi2fac0\n",
    "\n",
    "result=np.zeros_like(ell_)\n",
    "lmax = ell_.size\n",
    "for ii  in range(ell_.size):        \n",
    "    result[ii] = np.sum(chifacs*I4_ltrc[ii])\n",
    "\n",
    "Clgg = chimax * result/np.pi**2/2./4. #dividing by extra factor of 4 (should be there because of Gaussian Quadrature)\n",
    "\n",
    "print('Time taken = ', time.time()-begin)"
   ]
  },
  {
   "cell_type": "markdown",
   "metadata": {},
   "source": [
    "# Integrals"
   ]
  },
  {
   "cell_type": "code",
   "execution_count": 26,
   "metadata": {},
   "outputs": [
    {
     "name": "stderr",
     "output_type": "stream",
     "text": [
      "/global/homes/v/vboehm/.conda/envs/bccp/lib/python3.6/site-packages/numpy/core/numeric.py:492: ComplexWarning: Casting complex values to real discards the imaginary part\n",
      "  return array(a, dtype, copy=False, order=order)\n"
     ]
    },
    {
     "data": {
      "image/png": "[encoded data removed]",
      "text/plain": [
       "<Figure size 432x288 with 1 Axes>"
      ]
     },
     "metadata": {
      "needs_background": "light"
     },
     "output_type": "display_data"
    }
   ],
   "source": [
    "\n",
    "plt.figure()\n",
    "#full sky\n",
    "plt.loglog(ll,(ll*(ll+1.))**2*clpp/(2.*np.pi),ls='--',label='class old')\n",
    "plt.loglog(ell_[:lmax],(ell_[:lmax]*(ell_[:lmax]+1.))**2*Cl[:lmax]/(2.*np.pi),label='from psi full sky')\n",
    "plt.loglog(ell_[:lmax],(ell_[:lmax]*(ell_[:lmax]+1.))**2*Cl2[:lmax]/(2.*np.pi),label='from psi full sky 2', ls ='--')\n",
    "#flat sky\n",
    "plt.loglog(ell_[:lmax],(ell_[:lmax]*(ell_[:lmax]))**2*Cl2[:lmax]/(2.*np.pi),label='from psi flat sky')\n",
    "plt.loglog(ell_[:lmax],Clkk[:lmax]/(2.*np.pi),ls='--',label='from delta flat sky')\n",
    "plt.legend()\n",
    "plt.xlim(2,500)\n",
    "plt.show()\n",
    "\n",
    "# difference to full sky is not as bad as to flat sky (this is also noted in the Kilbinger (Kitching?) paper for the Limber approximation)\n",
    "plt.figure()\n",
    "plt.loglog(ell_[:lmax],(ell_[:lmax]*(ell_[:lmax]+1.))**2*Cl[:lmax]/(2.*np.pi),label='from psi full sky')\n",
    "plt.loglog(ell_[:lmax],(ell_[:lmax]*(ell_[:lmax]+1.))**2*Cl2[:lmax]/(2.*np.pi),label='from psi full sky 2')\n",
    "plt.loglog(ll,(ll*(ll+1.))**2*clpp/(2.*np.pi),ls='--', label='class old*4')\n",
    "plt.loglog(ll,(ll*(ll+1.))**2*np.interp(ll,cllen['ell'],cllen['pp'])/(2.*np.pi),ls=':',label='class new *4')\n",
    "plt.loglog(ell_[:lmax],Clkk[:lmax]/(2.*np.pi),ls='--',label='from delta flat sky')\n",
    "plt.loglog(ell_[:lmax],(ell_[:lmax]*(ell_[:lmax]))**2*Cl2[:lmax]/(2.*np.pi),label='from psi flat sky')\n",
    "# plt.loglog(ell_[:lmax],(ell_[:lmax]*(ell_[:lmax]+1.))**2*Cl3[:lmax]/(2.*np.pi))\n",
    "plt.xlim(2,500)\n",
    "plt.legend()\n",
    "plt.show()"
   ]
  },
  {
   "cell_type": "code",
   "execution_count": null,
   "metadata": {},
   "outputs": [],
   "source": [
    "\n"
   ]
  },
  {
   "cell_type": "code",
   "execution_count": null,
   "metadata": {},
   "outputs": [],
   "source": []
  },
  {
   "cell_type": "code",
   "execution_count": 55,
   "metadata": {},
   "outputs": [
    {
     "name": "stderr",
     "output_type": "stream",
     "text": [
      "/global/homes/v/vboehm/.conda/envs/bccp/lib/python3.6/site-packages/ipykernel_launcher.py:34: ComplexWarning: Casting complex values to real discards the imaginary part\n"
     ]
    },
    {
     "name": "stdout",
     "output_type": "stream",
     "text": [
      "Time taken =  1.4085056781768799\n"
     ]
    }
   ],
   "source": [
    "# general kernel if dNdz is Gaussian\n",
    "def Gauss_redshift(z0,sigma_z):\n",
    "    def z_kernel(z):\n",
    "        return 1./np.sqrt(2.*np.pi)/sigma_z*np.exp(-(z-z0)**2/2./sigma_z**2)\n",
    "    return z_kernel\n",
    "\n",
    "def gal_kernel(z_kernel,ximax=5):\n",
    "    def chi_kernel(xi):\n",
    "        return z_kernel(z_chi(xi))*dz_dchi(xi)\n",
    "    return chi_kernel\n",
    "\n",
    "#third kernel\n",
    "###################################\n",
    "begin=time.time()\n",
    "kernel1 = gal_kernel(Gauss_redshift(mean,width))\n",
    "kernel2 = gal_kernel(Gauss_redshift(mean,width))\n",
    "\n",
    "chimax = chi_cmb\n",
    "\n",
    "chi1fac0 = (kernel1(r2d*chimax)*D_chi(r2d*chimax))\n",
    "chi1fac0 = chi1fac0 *(r2d*chimax)**(1-(4+nu_n_.reshape(1, 1, -1)))\n",
    "\n",
    "chi2fac00 = (kernel2(t2d*r2d*chimax)*D_chi(r2d*t2d*chimax))\n",
    "chi2fac01 = (kernel2(1/t2d*r2d*chimax)*D_chi(r2d*1/t2d*chimax))\n",
    "chi2fac01 = chi2fac01 * t2d**((4+nu_n_).reshape(1, 1, -1)-2)\n",
    "chi2fac0  = chi2fac00 + chi2fac01\n",
    "\n",
    "\n",
    "chifacs = w11*w12*chi1fac0* chi2fac0\n",
    "\n",
    "result=np.zeros_like(ell_)\n",
    "lmax = ell_.size\n",
    "for ii  in range(ell_.size):        \n",
    "    result[ii] = np.sum(chifacs*I4_ltrc[ii])\n",
    "\n",
    "Clgg_c = chimax * result/np.pi**2/2.\n",
    "\n",
    "print('Time taken = ', time.time()-begin)\n"
   ]
  },
  {
   "cell_type": "code",
   "execution_count": null,
   "metadata": {},
   "outputs": [],
   "source": []
  },
  {
   "cell_type": "code",
   "execution_count": 57,
   "metadata": {},
   "outputs": [
    {
     "data": {
      "text/plain": [
       "[<matplotlib.lines.Line2D at 0x2aaaeff6fcc0>]"
      ]
     },
     "execution_count": 57,
     "metadata": {},
     "output_type": "execute_result"
    },
    {
     "data": {
      "image/png": "[encoded data removed]",
      "text/plain": [
       "<Figure size 432x288 with 1 Axes>"
      ]
     },
     "metadata": {
      "needs_background": "light"
     },
     "output_type": "display_data"
    }
   ],
   "source": [
    "\n",
    "plt.loglog(ell_, Clgg_c)\n",
    "plt.loglog(ell_,np.interp(ell_,cldd['ell'],cldd['dd'][0])*4.)"
   ]
  },
  {
   "cell_type": "code",
   "execution_count": 30,
   "metadata": {},
   "outputs": [
    {
     "data": {
      "text/plain": [
       "(0, 1.1)"
      ]
     },
     "execution_count": 30,
     "metadata": {},
     "output_type": "execute_result"
    },
    {
     "data": {
      "image/png": "[encoded data removed]",
      "text/plain": [
       "<Figure size 432x288 with 1 Axes>"
      ]
     },
     "metadata": {
      "needs_background": "light"
     },
     "output_type": "display_data"
    }
   ],
   "source": []
  },
  {
   "cell_type": "code",
   "execution_count": 31,
   "metadata": {},
   "outputs": [
    {
     "name": "stdout",
     "output_type": "stream",
     "text": [
      "[4.00065118 4.00164096 4.00029088 4.0003037  4.00060303 3.99944659\n",
      " 3.99999536 4.00015801 3.99927358 3.99948015 4.00004037 3.99959779\n",
      " 3.99908251 3.99941173 3.99986982 3.9996601  3.9991432  3.99905191\n",
      " 3.99943869 3.99974798 3.9996024  3.99917061 3.99888759 3.99898055\n",
      " 3.99931073 3.99956077 3.99952429 3.99923706 3.99890917 3.99875264\n",
      " 3.99884442 3.99910543 3.99937243 3.9994995  3.99943031 3.99921071\n",
      " 3.99895039 3.99876458 3.99872463 3.99883601 3.99904544 3.99926989\n",
      " 3.99942994 3.99947626 3.99940205 3.99923794 3.99903742 3.99885816\n",
      " 3.99874544 3.99872259 3.99878755 3.99891635 3.99907209 3.99921543\n",
      " 3.99931442 3.99935005 3.99931835 3.99922941 3.99910371 3.99896677\n",
      " 3.99884472 3.99875878 3.99872216 3.99873804 3.99880062 3.99889692\n",
      " 3.99900978 3.99912181 3.9992171  3.9992833  3.9993131  3.99930441\n",
      " 3.99926062 3.99918881 3.99909913 3.99900411 3.99891596 3.99884506\n",
      " 3.99879897 3.9987815  3.9987928  3.99882982 3.99888683 3.99895725\n",
      " 3.99903363 3.99910831 3.99917393 3.99922387 3.9992541  3.9992617\n",
      " 3.99924574 3.99920755 3.9991515  3.99908313 3.99900813 3.99893318\n",
      " 3.99886376 3.99880466 3.9987595  3.99898364 3.99869225 3.99825891\n",
      " 3.99869616 3.99843089 3.99788929 3.99811461 3.99875558 3.99860607\n",
      " 3.99829866 3.99833314 3.99856352 3.99820875 3.99755536 3.99803391\n",
      " 4.00022173 4.00109037 3.99702976 3.98817285 3.98310318 3.85682884\n",
      " 3.72509769 3.58846437 3.44798658 3.30516771 3.1618858  3.02026119\n",
      " 2.88246829 2.75052869 2.62613258 2.51054069 2.40454881 2.30851258\n",
      " 2.22240766 2.14589103 2.07836075 2.0190015  1.96682654 1.92071802\n",
      " 1.8794723  1.84185291 1.80665    1.77273562 1.73912109 1.70499706\n",
      " 1.66976434 1.63303972 1.59465848 1.55465003 1.51321364 1.47068104\n",
      " 1.42747926 1.38409244 1.34102672 1.29877726 1.25780352 1.21850852\n",
      " 1.18122148 1.14619056 1.11357651 1.08344989 1.05579852 1.03053201\n",
      " 1.00749274 0.98646659 0.96719864 0.94940636 0.93279476 0.91707035\n",
      " 0.90195426 0.88719345 0.87256771 0.85790006 0.84305658 0.8279507\n",
      " 0.81253931 0.79682256 0.78083772 0.76465099 0.74835221 0.73204809\n",
      " 0.71585305 0.69988282 0.68424797 0.66904864 0.65437007 0.64027992\n",
      " 0.62682614 0.61403627 0.60191817 0.59046114 0.57963804 0.56940802\n",
      " 0.55971918 0.55051219 0.54172301 0.53328695 0.52513787 0.51721636\n",
      " 0.50946698 0.50184175 0.49430033 0.4868111  0.47935185 0.47190923\n",
      " 0.46447654 0.45705536 0.44965279 0.44228166 0.43495784 0.42770047\n",
      " 0.42052992 0.41346684 0.4065312  0.39974166 0.39311456 0.38666364\n",
      " 0.38039943 0.37432942 0.36845745 0.36278438 0.35730772 0.35202238\n",
      " 0.34692069 0.34199321 0.33722794 0.33261278 0.32813447 0.32377911\n",
      " 0.31953329 0.31538395 0.3113185  0.30732562 0.30339499 0.29951782\n",
      " 0.29568634 0.29189468 0.28813881 0.28441472 0.28072079 0.27705685\n",
      " 0.27342293 0.269821   0.26625236 0.26272101 0.2592291  0.25578141\n",
      " 0.25238064 0.24903106 0.2457365  0.24249933 0.2393232  0.23621016\n",
      " 0.23316251 0.2301816  0.22726846 0.22442343 0.22164641 0.21893676\n",
      " 0.2162933  0.21371448 0.21119829 0.20874242 0.20634427 0.20400099\n",
      " 0.20170962 0.19946708 0.1972702  0.19511584 0.19300105 0.19092273\n",
      " 0.18887807 0.18686449 0.1848795  0.18292086 0.18098659 0.17907498\n",
      " 0.17718454 0.175314   0.17346235 0.17162889 0.16981304 0.16801447\n",
      " 0.16623303 0.16446878 0.16272178 0.16099245 0.1592811  0.15758811\n",
      " 0.15591407]\n"
     ]
    }
   ],
   "source": [
    "print(1./(np.interp(ell_,cldd['ell'],cldd['dd'][0])/Clgg_c))"
   ]
  },
  {
   "cell_type": "markdown",
   "metadata": {},
   "source": [
    "# Cross Correlations\n",
    "\n",
    "computing $C_L^{\\kappa g}$ in post Limber and compare to Limber results"
   ]
  },
  {
   "cell_type": "code",
   "execution_count": 32,
   "metadata": {},
   "outputs": [
    {
     "name": "stderr",
     "output_type": "stream",
     "text": [
      "/global/homes/v/vboehm/.conda/envs/bccp/lib/python3.6/site-packages/ipykernel_launcher.py:34: ComplexWarning: Casting complex values to real discards the imaginary part\n"
     ]
    },
    {
     "name": "stdout",
     "output_type": "stream",
     "text": [
      "Time taken =  1.4936785697937012\n"
     ]
    }
   ],
   "source": [
    "# set up (as before), but using FFTlog of P_deltapsi\n",
    "\n",
    "r2d, t2d = np.meshgrid(t_,t_)\n",
    "w11, w12 = np.meshgrid(w1,w1)\n",
    "#nu axis\n",
    "r2d, t2d = np.expand_dims(r2d, 2), np.expand_dims(t2d, 2)\n",
    "w11, w12 = np.expand_dims(w11, 2), np.expand_dims(w12, 2)\n",
    "\n",
    "# chimax and kernels\n",
    "chimax   = chi_cmb\n",
    "\n",
    "kernel1  = lensing_kernel\n",
    "kernel2  = gal_kernel(Gauss_redshift(mean,width))\n",
    "\n",
    "n = 2\n",
    "\n",
    "begin=time.time()\n",
    "\n",
    "\n",
    "\n",
    "chi1fac0 = (kernel1(r2d*chimax,chimax)*D_chi(r2d*chimax))\n",
    "chi1fac0 = chi1fac0 *(r2d*chimax)**(1-(n+nu_n_.reshape(1, 1, -1)))\n",
    "\n",
    "chi2fac00 = (kernel2(t2d*r2d*chimax)*D_chi(r2d*t2d*chimax))\n",
    "chi2fac01 = (kernel2(1./t2d*r2d*chimax)*D_chi(r2d/t2d*chimax))\n",
    "chi2fac01 = chi2fac01 * t2d**((n+nu_n_).reshape(1, 1, -1)-2)\n",
    "chi2fac0  = chi2fac00 + chi2fac01\n",
    "\n",
    "chifacs = w11*w12*chi1fac0* chi2fac0\n",
    "\n",
    "result=np.zeros_like(ell_)\n",
    "lmax = ell_.size\n",
    "for ii  in range(ell_.size):        \n",
    "    result[ii] = np.sum(chifacs*I2_ltrc[ii])\n",
    "    \n",
    "\n",
    "Cl_kg = chimax * result*1./np.pi**2/2.*prefac\n",
    "\n",
    "print('Time taken = ', time.time()-begin)\n"
   ]
  },
  {
   "cell_type": "code",
   "execution_count": 33,
   "metadata": {},
   "outputs": [
    {
     "data": {
      "text/plain": [
       "<function matplotlib.pyplot.loglog(*args, **kwargs)>"
      ]
     },
     "execution_count": 33,
     "metadata": {},
     "output_type": "execute_result"
    },
    {
     "data": {
      "image/png": "[encoded data removed]",
      "text/plain": [
       "<Figure size 432x288 with 1 Axes>"
      ]
     },
     "metadata": {
      "needs_background": "light"
     },
     "output_type": "display_data"
    }
   ],
   "source": [
    "plt.loglog(ell_[:lmax],ell_[:lmax]*(ell_[:lmax]+1.)*Cl_kg[:lmax])\n",
    "#plt.loglog(ll,clpp,ls='--', label='class old*4')\n",
    "plt.loglog"
   ]
  },
  {
   "cell_type": "code",
   "execution_count": 34,
   "metadata": {},
   "outputs": [],
   "source": [
    "# cross in Limber\n",
    "chis = np.linspace(1.,chi_cmb,5000) #in Mpc/h\n",
    "ells = np.linspace(1,2000,200)\n",
    "result=[]\n",
    "for l_ in ells:\n",
    "    integrand=[]\n",
    "    for chi in chis:\n",
    "        k = l_/chi #in h/Mpc\n",
    "        try:\n",
    "            Pk= cosmo.pk(k*h,0.)*D_chi(chi)**2*h**3\n",
    "        except:\n",
    "            Pk= 0.\n",
    "        integrand+=[lensing_kernel(chi,chi_cmb)*kernel2(chi)*Pk]\n",
    "    result+=[np.trapz(integrand, chis)]\n",
    "clkg=np.asarray(result)*prefac"
   ]
  },
  {
   "cell_type": "code",
   "execution_count": 35,
   "metadata": {},
   "outputs": [
    {
     "data": {
      "text/plain": [
       "<matplotlib.legend.Legend at 0x2aaaf452e320>"
      ]
     },
     "execution_count": 35,
     "metadata": {},
     "output_type": "execute_result"
    },
    {
     "data": {
      "image/png": "[encoded data removed]",
      "text/plain": [
       "<Figure size 432x288 with 1 Axes>"
      ]
     },
     "metadata": {
      "needs_background": "light"
     },
     "output_type": "display_data"
    }
   ],
   "source": [
    "#same factor of four as before, disagreement at low ell is expected\n",
    "plt.loglog(ells,clkg*(ells+1.)/ells,label='Limber')\n",
    "plt.loglog(ell_[:lmax],ell_[:lmax]*(ell_[:lmax]+1.)*Cl_kg[:lmax]/4.,label='no Limber/4')\n",
    "plt.legend()"
   ]
  },
  {
   "cell_type": "code",
   "execution_count": 36,
   "metadata": {},
   "outputs": [
    {
     "name": "stderr",
     "output_type": "stream",
     "text": [
      "/global/homes/v/vboehm/.conda/envs/bccp/lib/python3.6/site-packages/ipykernel_launcher.py:34: ComplexWarning: Casting complex values to real discards the imaginary part\n"
     ]
    },
    {
     "name": "stdout",
     "output_type": "stream",
     "text": [
      "Time taken =  1.5367660522460938\n"
     ]
    }
   ],
   "source": [
    "# set up (as before), but using FFTlog of P_deltadelta, i.e. lensing kernel 2, should give better match to no Limber, also we should recover factor 0f 4\n",
    "\n",
    "r2d, t2d = np.meshgrid(t_,t_)\n",
    "w11, w12 = np.meshgrid(w1,w1)\n",
    "#nu axis\n",
    "r2d, t2d = np.expand_dims(r2d, 2), np.expand_dims(t2d, 2)\n",
    "w11, w12 = np.expand_dims(w11, 2), np.expand_dims(w12, 2)\n",
    "\n",
    "# chimax and kernels\n",
    "chimax   = chi_cmb\n",
    "\n",
    "kernel1  = lensing_kernel_2\n",
    "kernel2  = gal_kernel(Gauss_redshift(mean,width))\n",
    "\n",
    "n = 4\n",
    "\n",
    "begin=time.time()\n",
    "\n",
    "\n",
    "\n",
    "chi1fac0 = (kernel1(r2d*chimax,chimax)*D_chi(r2d*chimax))\n",
    "chi1fac0 = chi1fac0 *(r2d*chimax)**(1-(n+nu_n_.reshape(1, 1, -1)))\n",
    "\n",
    "chi2fac00 = (kernel2(t2d*r2d*chimax)*D_chi(r2d*t2d*chimax))\n",
    "chi2fac01 = (kernel2(1./t2d*r2d*chimax)*D_chi(r2d/t2d*chimax))\n",
    "chi2fac01 = chi2fac01 * t2d**((n+nu_n_).reshape(1, 1, -1)-2)\n",
    "chi2fac0  = chi2fac00 + chi2fac01\n",
    "\n",
    "chifacs = w11*w12*chi1fac0* chi2fac0\n",
    "\n",
    "result=np.zeros_like(ell_)\n",
    "lmax = ell_.size\n",
    "for ii  in range(ell_.size):        \n",
    "    result[ii] = np.sum(chifacs*I4_ltrc[ii])\n",
    "    \n",
    "\n",
    "Cl_kg2 = chimax * result*1./np.pi**2/2.*prefac\n",
    "\n",
    "print('Time taken = ', time.time()-begin)"
   ]
  },
  {
   "cell_type": "code",
   "execution_count": 37,
   "metadata": {},
   "outputs": [
    {
     "data": {
      "text/plain": [
       "[<matplotlib.lines.Line2D at 0x2aaae8a06898>]"
      ]
     },
     "execution_count": 37,
     "metadata": {},
     "output_type": "execute_result"
    },
    {
     "data": {
      "image/png": "[encoded data removed]",
      "text/plain": [
       "<Figure size 432x288 with 1 Axes>"
      ]
     },
     "metadata": {
      "needs_background": "light"
     },
     "output_type": "display_data"
    }
   ],
   "source": [
    "plt.loglog(ells,clkg,label='Limber')\n",
    "plt.loglog(ell_[:lmax],Cl_kg2[:lmax]/4.,label='no Limber')"
   ]
  },
  {
   "cell_type": "code",
   "execution_count": 38,
   "metadata": {},
   "outputs": [
    {
     "data": {
      "text/plain": [
       "<matplotlib.legend.Legend at 0x2aaaf44be4a8>"
      ]
     },
     "execution_count": 38,
     "metadata": {},
     "output_type": "execute_result"
    },
    {
     "data": {
      "image/png": "[encoded data removed]",
      "text/plain": [
       "<Figure size 432x288 with 1 Axes>"
      ]
     },
     "metadata": {
      "needs_background": "light"
     },
     "output_type": "display_data"
    }
   ],
   "source": [
    "plt.plot(ell_[:lmax],np.interp(ell_[:lmax],ells,clkg)/Cl_kg2[:lmax]*4,label='ratio times 4')\n",
    "plt.legend()"
   ]
  },
  {
   "cell_type": "code",
   "execution_count": null,
   "metadata": {},
   "outputs": [],
   "source": []
  },
  {
   "cell_type": "markdown",
   "metadata": {},
   "source": [
    "# Cls on grids for post Born integrals"
   ]
  },
  {
   "cell_type": "markdown",
   "metadata": {},
   "source": [
    "### $C_L^{\\phi\\phi}(\\chi,\\chi')$ (appears eg. in Eqs. (4.2))"
   ]
  },
  {
   "cell_type": "code",
   "execution_count": 39,
   "metadata": {},
   "outputs": [],
   "source": [
    "# this is the factor that input files seem to be offsetted by\n",
    "fudge = 0.25"
   ]
  },
  {
   "cell_type": "code",
   "execution_count": 40,
   "metadata": {},
   "outputs": [],
   "source": [
    "def phi_kernel(xi, xmax):\n",
    "    return (xmax - xi)/(xmax*xi) * (xmax > xi) * (1.+z_chi(xi))"
   ]
  },
  {
   "cell_type": "markdown",
   "metadata": {},
   "source": [
    "#### for $\\chi_{max}=\\chi_{CMB}$"
   ]
  },
  {
   "cell_type": "code",
   "execution_count": 41,
   "metadata": {},
   "outputs": [
    {
     "name": "stdout",
     "output_type": "stream",
     "text": [
      "(289, 100, 100)\n",
      "Time taken =  4.88441801071167\n"
     ]
    }
   ],
   "source": [
    "# this is Chirags version, which loops over the inner integral \n",
    "chimax = chi_cmb\n",
    "chi1s  = t_*chimax\n",
    "\n",
    "chi1fac0 = phi_kernel(chi1s, chimax)\n",
    "\n",
    "t2d      = t_.reshape(1, -1, 1)\n",
    "#get rid of r -axis\n",
    "I0_ltc   = np.squeeze(I0_ltrc)\n",
    "\n",
    "begin = time.time()\n",
    "result = []\n",
    "\n",
    "#outer chis\n",
    "for ii, chi in enumerate(chi1s):\n",
    "    \n",
    "    chifac    = chi**(1-nu_n_.reshape(1, 1, -1)) * D_chi(chi) #Move this c_n inside the loop\n",
    "    \n",
    "    chi2fac00 = (phi_kernel(t2d*chi, chimax)*D_chi(t2d*chi))\n",
    "    chi2fac01 = (phi_kernel(1./t2d*chi, chimax)*D_chi(1./t2d*chi))* t2d**(nu_n_.reshape(1,  -1)-2)\n",
    "    chi2fac0  = chi2fac00 + chi2fac01\n",
    "    fac       = w1.reshape(1, -1, 1)*chi2fac0*chifac\n",
    "    integrand = fac * I0_ltc\n",
    "    \n",
    "    result.append(integrand.sum(axis = 2))\n",
    "\n",
    "result = np.swapaxes(np.array(result),0,1)\n",
    "\n",
    "result = (result*chi1fac0.reshape(1, -1, 1)*w1.reshape(1,-1, 1))*chimax/np.pi**2/2.*prefac**2\n",
    "print(result.shape)\n",
    "Cl2      = result.sum(axis=(1,2))\n",
    "\n",
    "print('Time taken = ', time.time()-begin)"
   ]
  },
  {
   "cell_type": "code",
   "execution_count": 42,
   "metadata": {},
   "outputs": [
    {
     "name": "stderr",
     "output_type": "stream",
     "text": [
      "/global/homes/v/vboehm/.conda/envs/bccp/lib/python3.6/site-packages/numpy/core/numeric.py:492: ComplexWarning: Casting complex values to real discards the imaginary part\n",
      "  return array(a, dtype, copy=False, order=order)\n"
     ]
    },
    {
     "data": {
      "image/png": "[encoded data removed]",
      "text/plain": [
       "<Figure size 432x288 with 1 Axes>"
      ]
     },
     "metadata": {
      "needs_background": "light"
     },
     "output_type": "display_data"
    },
    {
     "data": {
      "image/png": "[encoded data removed]",
      "text/plain": [
       "<Figure size 432x288 with 1 Axes>"
      ]
     },
     "metadata": {
      "needs_background": "light"
     },
     "output_type": "display_data"
    }
   ],
   "source": [
    "# make test plot\n",
    "plt.title('$C_L^{\\phi\\phi}$')\n",
    "plt.loglog(ell_,Cl2, label = 'our result, post Limber')\n",
    "plt.loglog(ll,np.interp(ll,cllen['ell'],cllen['pp']),ls=':',label='class, post Limber')\n",
    "plt.show()\n",
    "\n",
    "plt.title('ratio')\n",
    "plt.semilogx(ell_,Cl2/np.interp(ell_,cllen['ell'],cllen['pp']))\n",
    "plt.ylim(0.99,1.01)\n",
    "plt.grid()\n",
    "plt.show()"
   ]
  },
  {
   "cell_type": "markdown",
   "metadata": {},
   "source": [
    "sub-percent accuracy down to L=800 (I have canceled factor of 2 in $\\phi=2\\int...$ and fudge factor, and dont code them)"
   ]
  },
  {
   "cell_type": "markdown",
   "metadata": {},
   "source": [
    "but we don't need the split as it is in cell 103! We want to loop over the upper integration boundary."
   ]
  },
  {
   "cell_type": "markdown",
   "metadata": {},
   "source": [
    "#### now with varying $\\chi_{max}$ for Eq. (4.2)"
   ]
  },
  {
   "cell_type": "code",
   "execution_count": 43,
   "metadata": {},
   "outputs": [
    {
     "name": "stderr",
     "output_type": "stream",
     "text": [
      "/global/homes/v/vboehm/.conda/envs/bccp/lib/python3.6/site-packages/ipykernel_launcher.py:9: DeprecationWarning: Both axis > a.ndim and axis < -a.ndim - 1 are deprecated and will raise an AxisError in the future.\n",
      "  if __name__ == '__main__':\n"
     ]
    },
    {
     "name": "stdout",
     "output_type": "stream",
     "text": [
      "(100, 100, 1, 100)\n",
      "0\n",
      "1\n",
      "2\n",
      "3\n",
      "4\n",
      "5\n",
      "6\n",
      "7\n",
      "8\n",
      "9\n",
      "10\n",
      "11\n",
      "12\n",
      "13\n",
      "14\n",
      "15\n",
      "16\n",
      "17\n",
      "18\n",
      "19\n",
      "Time taken =  54.6534526348114\n"
     ]
    }
   ],
   "source": [
    "# test case for expanding by first chimax axis, multiply time by 100 to get total time for varying both integration boundaries\n",
    "chi1s = np.ones(100)*chi_cmb #for real case replace this by t_*chi_cmb\n",
    "r2d, t2d, chimax1 = np.meshgrid(t_,t_,chi1s)\n",
    "w11, w12, _ = np.meshgrid(w1,w1,chi1s)\n",
    "# inflate by one dimensions (nu_n)\n",
    "r2d, t2d = np.expand_dims(r2d, 2), np.expand_dims(t2d, 2)\n",
    "w11, w12 = np.expand_dims(w11, 2), np.expand_dims(w12, 2)\n",
    "chimax1 = np.expand_dims(chimax1,2)\n",
    "I0_ltrcx = np.expand_dims(I0_ltrc,5)\n",
    "\n",
    "\n",
    "print(chimax1.shape)\n",
    "\n",
    "#chi_max1=chi_cmb #maximum for r*chi\n",
    "chi_max2=chi_cmb #maximum for t*chi\n",
    "\n",
    "begin=time.time()\n",
    "\n",
    "#Cl = np.zeros((ell_.size,100,100))\n",
    "\n",
    "# for ii, chi_max1 in enumerate(chi1s):\n",
    "#     print(ii)\n",
    "#     for jj, chi_max2 in enumerate(chi1s):\n",
    "chi1fac0 = (lensing_kernel(r2d*chi1s, chi1s)*D_chi(r2d*chi1s))\n",
    "chi1fac0 = chi1fac0 *(r2d*chi1s)**(1-nu_n_.reshape(1, 1, -1, 1))\n",
    "\n",
    "#print(r2d.shape,chimax1.shape,lensing_kernel(r2d*chi_max1, chi_max1).shape)\n",
    "\n",
    "chi2fac00 = (lensing_kernel(t2d*r2d*chi_max2, chi_max2)*D_chi(r2d*t2d*chi_max2))\n",
    "chi2fac01 = (lensing_kernel(1./t2d*r2d*chi_max2, chi_max2)*D_chi(r2d*1./t2d*chi_max2))\n",
    "chi2fac01 = chi2fac01 * t2d**(nu_n_.reshape(1, 1, -1,1)-2)\n",
    "chi2fac0  = chi2fac00 + chi2fac01\n",
    "del chi2fac00\n",
    "del chi2fac01\n",
    "chifacs   = w11*w12*chi1fac0* chi2fac0\n",
    "\n",
    "# print(chifacs.shape)\n",
    "Cl =[]\n",
    "lmax = ell_.size\n",
    "for nn  in range(20):    \n",
    "    print(nn)\n",
    "    Cl+=[np.sum(chifacs*I0_ltrcx[nn],axis=(0,1,2))*chi1s *1./np.pi**2*prefac**2/2.]\n",
    "\n",
    "print('Time taken = ', time.time()-begin)"
   ]
  },
  {
   "cell_type": "code",
   "execution_count": 44,
   "metadata": {},
   "outputs": [
    {
     "data": {
      "text/plain": [
       "(20, 100)"
      ]
     },
     "execution_count": 44,
     "metadata": {},
     "output_type": "execute_result"
    }
   ],
   "source": [
    "Cl = np.asarray(Cl)\n",
    "Cl.shape\n"
   ]
  },
  {
   "cell_type": "code",
   "execution_count": 45,
   "metadata": {},
   "outputs": [
    {
     "name": "stderr",
     "output_type": "stream",
     "text": [
      "/global/homes/v/vboehm/.conda/envs/bccp/lib/python3.6/site-packages/numpy/core/numeric.py:492: ComplexWarning: Casting complex values to real discards the imaginary part\n",
      "  return array(a, dtype, copy=False, order=order)\n"
     ]
    },
    {
     "data": {
      "image/png": "[encoded data removed]",
      "text/plain": [
       "<Figure size 432x288 with 1 Axes>"
      ]
     },
     "metadata": {
      "needs_background": "light"
     },
     "output_type": "display_data"
    }
   ],
   "source": [
    "# make test plot\n",
    "plt.title('$C_L^{\\phi\\phi}$')\n",
    "plt.loglog(ell_[0:20],Cl[:,0], label = 'our result, post Limber')\n",
    "\n",
    "plt.loglog(ell_[0:20],Cl[:,-1], label = 'our result, post Limber 2')\n",
    "\n",
    "plt.loglog(ll,np.interp(ll,cllen['ell'],cllen['pp']),ls=':',label='class, post Limber')\n",
    "plt.show()"
   ]
  },
  {
   "cell_type": "markdown",
   "metadata": {},
   "source": [
    "### "
   ]
  },
  {
   "cell_type": "markdown",
   "metadata": {},
   "source": [
    "# Starting Vanessa's implementation of $G^{ab}$s"
   ]
  },
  {
   "cell_type": "markdown",
   "metadata": {},
   "source": [
    "### 1) $ G_l^{\\phi\\psi}(\\chi_{max}, \\chi_2) = \\int_0^{\\chi_{max}} \\mathrm{d} \\chi_1 W(\\chi_1, \\chi_{max}) C_l^{\\psi\\psi}(\\chi_1,\\chi_2)$ \n",
    "$= \\mathcal{A}^2 \\frac{1}{2\\pi^2} \\sum_n \\int_0^1  \\chi_2^{(1-\\nu_n)} [1+z(\\chi_2)] D(\\chi_2) I_l (\\nu_n,t)\\left[W(t\\chi_2,\\chi_{max}) D(\\chi_2 t) [1+z(\\chi_2 t)] + W(1/t \\chi_2,\\chi_{max}) t^{\\nu_n-2}D(\\chi_2/t)[1+z(\\chi_2/t)]\\right]$\n",
    "\n",
    "needs to be evaluated for varying $\\chi_{max}$ and $\\chi_2$ (this appears in Eq. 4.2).\n",
    "\n",
    "replacing $\\chi_2$ by $r\\chi_{max}$ allows doing basically the same as before, just without summing over $r$,\n",
    "so that the ouput for fixed $\\chi_{max}$ has shape of $r$.\n",
    "Then we only need one loop over $\\chi_{max}$."
   ]
  },
  {
   "cell_type": "code",
   "execution_count": 46,
   "metadata": {},
   "outputs": [
    {
     "name": "stdout",
     "output_type": "stream",
     "text": [
      "0\n"
     ]
    },
    {
     "name": "stderr",
     "output_type": "stream",
     "text": [
      "/global/homes/v/vboehm/.conda/envs/bccp/lib/python3.6/site-packages/ipykernel_launcher.py:36: ComplexWarning: Casting complex values to real discards the imaginary part\n"
     ]
    },
    {
     "name": "stdout",
     "output_type": "stream",
     "text": [
      "10\n",
      "20\n",
      "30\n",
      "40\n",
      "50\n",
      "60\n",
      "70\n",
      "80\n",
      "90\n",
      "Time taken =  144.70273280143738\n"
     ]
    }
   ],
   "source": [
    "import time\n",
    "def lensing_kernel(xi, xmax):\n",
    "    return (xmax - xi)/(xmax*xi) * (xmax > xi) #* (1.+z_chi(xi))\n",
    "\n",
    "chi2_max = chi_cmb\n",
    "chi1_max = chi_cmb\n",
    "\n",
    "r2d, t2d = np.meshgrid(t_,t_)\n",
    "w11, w12 = np.meshgrid(w1,w1)\n",
    "# inflate by one dimensions (nu_n)\n",
    "r2d, t2d = np.expand_dims(r2d, 2), np.expand_dims(t2d, 2)\n",
    "w11, w12 = np.expand_dims(w11, 2), np.expand_dims(w12, 2)\n",
    "#I0_ltrc  = np.swapaxes(I0_lcrt, 1, 3)\n",
    "\n",
    "Cl = np.zeros((len(t_),len(ell_),len(t_)))\n",
    "\n",
    "begin=time.time()\n",
    "\n",
    "for jj, chi1_max in enumerate((t_*chi1_max)):\n",
    "    if jj%10==0:\n",
    "        print(jj)\n",
    "    chi1fac0 = (D_chi(r2d*chi2_max)*(1.+z_chi(r2d*chi2_max)))\n",
    "    chi1fac0 = chi1fac0 *(r2d*chi2_max)**(1-nu_n_.reshape(1, 1, -1))\n",
    "\n",
    "    # no lensing kernel, because no lensing integration of chi_2\n",
    "    chi2fac00 = (D_chi(r2d*t2d*chi2_max)*(1+z_chi(r2d*t2d*chi2_max)*lensing_kernel(r2d*t2d*chi2_max, chi1_max)))\n",
    "    chi2fac01 = (D_chi(r2d*1./t2d*chi2_max)*(1+z_chi(r2d*1./t2d*chi2_max))*lensing_kernel(r2d*1./t2d*chi2_max, chi1_max))\n",
    "    chi2fac01 = chi2fac01 * t2d**(nu_n_.reshape(1, 1, -1)-2)\n",
    "    chi2fac0  = chi2fac00 + chi2fac01\n",
    "\n",
    "    chifacs = chi1fac0* chi2fac0*w12\n",
    "\n",
    "    result = np.zeros((len(ell_),len(t_)))\n",
    "    lmax   = ell_.size\n",
    "    for ii  in range(ell_.size):        \n",
    "        result[ii] = np.sum(chifacs*I0_ltrc[ii], axis=(0,2)) #not summing over r\n",
    "\n",
    "    Cl[jj]=result*1./np.pi**2*prefac**2/2./2. #divide by another factor of 2 because of Gaussian quadrature\n",
    "\n",
    "# swap axes to have cl_phipsi_l(chi_max,chi)\n",
    "Cl = np.swapaxes(Cl,0,1)\n",
    "print('Time taken = ', time.time()-begin)\n",
    "\n",
    "np.save('../G_matrices/clphipsi',Cl)"
   ]
  },
  {
   "cell_type": "markdown",
   "metadata": {},
   "source": [
    "to get $C_l^{\\phi\\phi}(\\chi_1,\\chi_2)$ we only need to do one more looped integral:\n",
    "\n",
    "$C_l^{\\phi\\phi}(\\chi_{max1},\\chi_{max2})= \\int_0^{\\chi_{max2}} \\mathrm{d}\\chi_2  W(\\chi_2,\\chi_{max2}) C_l^{\\phi\\psi}(\\chi_{max1},\\chi_2)$\n",
    "\n",
    "with loop over $\\chi_{max2}$\n",
    "\n",
    "with parametrization by $r$ and Gaussian quadrature this becomes\n",
    "\n",
    "$C_l^{\\phi\\phi}(\\chi_{max1},\\chi_{max2})=\\chi_{max2} \\int_0^{1} \\mathrm{d} r  W(\\chi_{max2} r ,\\chi_{max2}) C_l^{\\phi\\psi}(\\chi_{max1},\\chi_{max2} r)= \\chi_{max2} / 2 \\sum_{r_{i}} w_i W(\\chi_{max2} r_{i} ,\\chi_{max2}) C_l^{\\phi\\psi}(\\chi_{max1},\\chi_{max2} r_{i})$"
   ]
  },
  {
   "cell_type": "code",
   "execution_count": 47,
   "metadata": {},
   "outputs": [],
   "source": [
    "def lensing_kernel(xi, xmax):\n",
    "    return (xmax - xi)/(xmax*xi) * (xmax > xi)\n",
    "w11, w12 = np.meshgrid(w1,w1)\n",
    "r2d, t2d = np.meshgrid(t_,t_)\n",
    "chi2_max = chi_cmb\n",
    "result = np.zeros((len(t_),len(ell_),len(t_)))\n",
    "for jj, chi2_max in enumerate((chi2_max*t_)):\n",
    "\n",
    "    result[jj] = chi2_max/2.*np.sum(w11*Cl*lensing_kernel((chi2_max*r2d),chi2_max), axis=2) #should work according to numpy broadcasting ruler\n",
    "result=result.swapaxes(0,1)\n",
    "\n",
    "np.save('../G_matrices/clphiphi',result)"
   ]
  },
  {
   "cell_type": "code",
   "execution_count": 48,
   "metadata": {},
   "outputs": [
    {
     "data": {
      "text/plain": [
       "(1, 2000)"
      ]
     },
     "execution_count": 48,
     "metadata": {},
     "output_type": "execute_result"
    },
    {
     "data": {
      "image/png": "[encoded data removed]",
      "text/plain": [
       "<Figure size 432x288 with 1 Axes>"
      ]
     },
     "metadata": {
      "needs_background": "light"
     },
     "output_type": "display_data"
    }
   ],
   "source": [
    "#lets check if we get the correct result when we look at the last entry where chi_max=chi_cmb\n",
    "clphiphi = result[:,-1,-1]\n",
    "ll = ell_\n",
    "plt.loglog(ll,(ll*(ll+1.))**2*np.interp(ll,cllen['ell'],cllen['pp']))\n",
    "plt.loglog(ell_,(ell_*(ell_+1))**2*clphiphi,ls='--')\n",
    "plt.loglog()\n",
    "plt.xlim(1,2000)\n",
    "#--> not working yet "
   ]
  },
  {
   "cell_type": "code",
   "execution_count": null,
   "metadata": {},
   "outputs": [],
   "source": [
    "\n"
   ]
  },
  {
   "cell_type": "markdown",
   "metadata": {},
   "source": [
    "### tesing gaussian quadrature with simple integral test\n",
    "$\\int_0^1 \\mathrm{d} x x^2 = 1/2 \\sum_i w_i t_i^2 = 1/3 $"
   ]
  },
  {
   "cell_type": "code",
   "execution_count": 49,
   "metadata": {},
   "outputs": [
    {
     "data": {
      "text/plain": [
       "0.33333333387229197"
      ]
     },
     "execution_count": 49,
     "metadata": {},
     "output_type": "execute_result"
    }
   ],
   "source": [
    "0.5*np.sum(w1*t_**2)"
   ]
  },
  {
   "cell_type": "code",
   "execution_count": 50,
   "metadata": {},
   "outputs": [],
   "source": [
    "# loading Chirags results\n",
    "clphiphi2 = np.zeros((len(t_),len(ell_),len(t_)))\n",
    "path = '../scripts/output/clphiphi/'\n",
    "for ii in range(len(t_)):\n",
    "    clphiphi2[ii] = np.loadtxt(path+'%d.txt'%ii)[:,1:]\n",
    "clphiphi2=np.swapaxes(clphiphi2,0,1)"
   ]
  },
  {
   "cell_type": "code",
   "execution_count": 51,
   "metadata": {},
   "outputs": [],
   "source": [
    "clphiphi2_ = clphiphi2[:,-1,-1]"
   ]
  },
  {
   "cell_type": "code",
   "execution_count": 52,
   "metadata": {},
   "outputs": [
    {
     "data": {
      "text/plain": [
       "(1, 2000)"
      ]
     },
     "execution_count": 52,
     "metadata": {},
     "output_type": "execute_result"
    },
    {
     "data": {
      "image/png": "[encoded data removed]",
      "text/plain": [
       "<Figure size 432x288 with 1 Axes>"
      ]
     },
     "metadata": {
      "needs_background": "light"
     },
     "output_type": "display_data"
    }
   ],
   "source": [
    "# Chirags results match Class perfectly at chi_max=chi_cmb\n",
    "ll = ell_\n",
    "plt.loglog(ll,(ll*(ll+1.))**2*np.interp(ll,cllen['ell'],cllen['pp']))\n",
    "plt.loglog(ell_,(ell_*(ell_+1))**2*clphiphi2_,ls='--')\n",
    "plt.loglog()\n",
    "plt.xlim(1,2000)"
   ]
  },
  {
   "cell_type": "code",
   "execution_count": null,
   "metadata": {},
   "outputs": [],
   "source": []
  },
  {
   "cell_type": "code",
   "execution_count": 53,
   "metadata": {},
   "outputs": [
    {
     "name": "stdout",
     "output_type": "stream",
     "text": [
      "0\n"
     ]
    },
    {
     "name": "stderr",
     "output_type": "stream",
     "text": [
      "/global/homes/v/vboehm/.conda/envs/bccp/lib/python3.6/site-packages/ipykernel_launcher.py:43: ComplexWarning: Casting complex values to real discards the imaginary part\n"
     ]
    },
    {
     "name": "stdout",
     "output_type": "stream",
     "text": [
      "10\n",
      "20\n",
      "30\n",
      "40\n",
      "50\n",
      "60\n",
      "70\n",
      "80\n",
      "90\n",
      "Time taken =  143.62226152420044\n"
     ]
    }
   ],
   "source": [
    "#copying Clphipsi calculation and changing it back to clphiphi with one varying upper bound\n",
    "# the only changes are:\n",
    "# 1) adding a lensing kernel to chi1fac0\n",
    "# 2) multiplying by w11\n",
    "# 3) summing over all axes \n",
    "\n",
    "import time\n",
    "def lensing_kernel(xi, xmax):\n",
    "    return (xmax - xi)/(xmax*xi) * (xmax > xi) #* (1.+z_chi(xi))\n",
    "\n",
    "chi2_max = chi_cmb\n",
    "chi1_max = chi_cmb\n",
    "\n",
    "r2d, t2d = np.meshgrid(t_,t_)\n",
    "w11, w12 = np.meshgrid(w1,w1)\n",
    "# inflate by one dimensions (nu_n)\n",
    "r2d, t2d = np.expand_dims(r2d, 2), np.expand_dims(t2d, 2)\n",
    "w11, w12 = np.expand_dims(w11, 2), np.expand_dims(w12, 2)\n",
    "#I0_ltrc  = np.swapaxes(I0_lcrt, 1, 3)\n",
    "\n",
    "Cl = np.zeros((len(t_),len(ell_),len(t_)))\n",
    "\n",
    "begin=time.time()\n",
    "\n",
    "for jj, chi1_max in enumerate((t_*chi_cmb)):\n",
    "    if jj%10==0:\n",
    "        print(jj)\n",
    "\n",
    "    chi1fac0 = (D_chi(r2d*chi2_max)*(1.+z_chi(r2d*chi2_max)))\n",
    "    chi1fac0 = chi1fac0 *(r2d*chi2_max)**(1-nu_n_.reshape(1, 1, -1))\n",
    "\n",
    "    # no lensing kernel, because no lensing integration of chi_2\n",
    "    chi2fac00 = (D_chi(r2d*t2d*chi2_max)*(1+z_chi(r2d*t2d*chi2_max))*lensing_kernel(r2d*t2d*chi2_max, chi1_max))\n",
    "    chi2fac01 = (D_chi(r2d*1./t2d*chi2_max)*(1+z_chi(r2d*1./t2d*chi2_max))*lensing_kernel(r2d*1./t2d*chi2_max, chi1_max))\n",
    "    chi2fac01 = chi2fac01 * t2d**(nu_n_.reshape(1, 1, -1)-2)\n",
    "    chi2fac0  = chi2fac00 + chi2fac01\n",
    "\n",
    "    chifacs   = w12*chi1fac0* chi2fac0#*w11\n",
    "\n",
    "    result = np.zeros((len(ell_),len(t_)))\n",
    "    lmax   = ell_.size\n",
    "    for ii  in range(ell_.size):        \n",
    "        result[ii] = np.sum(chifacs*I0_ltrc[ii], axis=(0,2)) #not summing over r\n",
    "\n",
    "    Cl[jj] = result*1./np.pi**2*prefac**2/2.\n",
    "# swap axes to have cl_phipsi_l(chi_max,chi)\n",
    "\n",
    "Cl = np.swapaxes(Cl,0,1)\n",
    "print('Time taken = ', time.time()-begin)\n",
    "\n",
    "np.save('../G_matrices/clphipsi',Cl)"
   ]
  },
  {
   "cell_type": "code",
   "execution_count": 54,
   "metadata": {},
   "outputs": [],
   "source": [
    "#doing summation later is ok\n",
    "#taking lensing kernel out is okay\n",
    "#taking weight out is okay\n",
    "#adding loop over outer in above cell is okay\n",
    "#adding loop over outer here is okay\n",
    "\n",
    "result = np.zeros((len(t_),len(ell_),len(t_)))\n",
    "\n",
    "for jj, chimax in enumerate(t_*chi_cmb):\n",
    "    test   = np.zeros((len(ell_),len(t_)))\n",
    "    for ii  in range(ell_.size): \n",
    "        test[ii] = chimax*np.sum(Cl[ii,:,:]*lensing_kernel(t_*chimax, chimax)*w1, axis=-1)\n",
    "    result[jj] = test\n",
    "result = np.swapaxes(result,0,1)"
   ]
  },
  {
   "cell_type": "code",
   "execution_count": 55,
   "metadata": {},
   "outputs": [
    {
     "data": {
      "text/plain": [
       "(1, 2000)"
      ]
     },
     "execution_count": 55,
     "metadata": {},
     "output_type": "execute_result"
    },
    {
     "data": {
      "image/png": "[encoded data removed]",
      "text/plain": [
       "<Figure size 432x288 with 1 Axes>"
      ]
     },
     "metadata": {
      "needs_background": "light"
     },
     "output_type": "display_data"
    }
   ],
   "source": [
    "# this works again beautifully (some fudge factor still seems to be off, but okay)\n",
    "ll = ell_\n",
    "plt.loglog(ll,(ll*(ll+1.))**2*np.interp(ll,cllen['ell'],cllen['pp']))\n",
    "plt.loglog(ell_,(ell_*(ell_+1))**2*result[:,-1,-1],ls='--')\n",
    "plt.loglog()\n",
    "plt.xlim(1,2000)\n",
    "# so I would expect that if I do steps 1-3 in post processing that this should work also! (but it doesnt)\n",
    "# ergo: there must be a bug somewhere or my thinking is wrong"
   ]
  },
  {
   "cell_type": "code",
   "execution_count": 60,
   "metadata": {},
   "outputs": [
    {
     "name": "stdout",
     "output_type": "stream",
     "text": [
      "True\n"
     ]
    }
   ],
   "source": [
    "print(np.allclose(clphiphi2,result))\n",
    "np.save('../G_matrices/clphiphi',result)"
   ]
  },
  {
   "cell_type": "code",
   "execution_count": 12,
   "metadata": {},
   "outputs": [
    {
     "name": "stdout",
     "output_type": "stream",
     "text": [
      "<class 'dict'>\n"
     ]
    }
   ],
   "source": []
  },
  {
   "cell_type": "code",
   "execution_count": 23,
   "metadata": {},
   "outputs": [],
   "source": [
    "import json\n",
    "import numpy as np\n",
    "out={}\n",
    "np.save('../output/clpp_class_no_limber',[cllen['ell'],cllen['pp']])\n"
   ]
  },
  {
   "cell_type": "code",
   "execution_count": 13,
   "metadata": {},
   "outputs": [
    {
     "name": "stdout",
     "output_type": "stream",
     "text": [
      "<class 'dict'>\n"
     ]
    },
    {
     "ename": "TypeError",
     "evalue": "Object of type 'ndarray' is not JSON serializable",
     "output_type": "error",
     "traceback": [
      "\u001b[0;31m---------------------------------------------------------------------------\u001b[0m",
      "\u001b[0;31mTypeError\u001b[0m                                 Traceback (most recent call last)",
      "\u001b[0;32m<ipython-input-13-8fcbd5ba341d>\u001b[0m in \u001b[0;36m<module>\u001b[0;34m()\u001b[0m\n\u001b[1;32m      1\u001b[0m \u001b[0mprint\u001b[0m\u001b[0;34m(\u001b[0m\u001b[0mtype\u001b[0m\u001b[0;34m(\u001b[0m\u001b[0mcllen\u001b[0m\u001b[0;34m)\u001b[0m\u001b[0;34m)\u001b[0m\u001b[0;34m\u001b[0m\u001b[0;34m\u001b[0m\u001b[0m\n\u001b[1;32m      2\u001b[0m \u001b[0;32mwith\u001b[0m \u001b[0mopen\u001b[0m\u001b[0;34m(\u001b[0m\u001b[0;34m'../output/class_no_limber_cllen.json'\u001b[0m\u001b[0;34m,\u001b[0m \u001b[0;34m'w'\u001b[0m\u001b[0;34m)\u001b[0m \u001b[0;32mas\u001b[0m \u001b[0moutfile\u001b[0m\u001b[0;34m:\u001b[0m\u001b[0;34m\u001b[0m\u001b[0;34m\u001b[0m\u001b[0m\n\u001b[0;32m----> 3\u001b[0;31m     \u001b[0mjson\u001b[0m\u001b[0;34m.\u001b[0m\u001b[0mdump\u001b[0m\u001b[0;34m(\u001b[0m\u001b[0mcllen\u001b[0m\u001b[0;34m,\u001b[0m \u001b[0moutfile\u001b[0m\u001b[0;34m)\u001b[0m\u001b[0;34m\u001b[0m\u001b[0;34m\u001b[0m\u001b[0m\n\u001b[0m",
      "\u001b[0;32m~/.conda/envs/bccp/lib/python3.6/json/__init__.py\u001b[0m in \u001b[0;36mdump\u001b[0;34m(obj, fp, skipkeys, ensure_ascii, check_circular, allow_nan, cls, indent, separators, default, sort_keys, **kw)\u001b[0m\n\u001b[1;32m    177\u001b[0m     \u001b[0;31m# could accelerate with writelines in some versions of Python, at\u001b[0m\u001b[0;34m\u001b[0m\u001b[0;34m\u001b[0m\u001b[0;34m\u001b[0m\u001b[0m\n\u001b[1;32m    178\u001b[0m     \u001b[0;31m# a debuggability cost\u001b[0m\u001b[0;34m\u001b[0m\u001b[0;34m\u001b[0m\u001b[0;34m\u001b[0m\u001b[0m\n\u001b[0;32m--> 179\u001b[0;31m     \u001b[0;32mfor\u001b[0m \u001b[0mchunk\u001b[0m \u001b[0;32min\u001b[0m \u001b[0miterable\u001b[0m\u001b[0;34m:\u001b[0m\u001b[0;34m\u001b[0m\u001b[0;34m\u001b[0m\u001b[0m\n\u001b[0m\u001b[1;32m    180\u001b[0m         \u001b[0mfp\u001b[0m\u001b[0;34m.\u001b[0m\u001b[0mwrite\u001b[0m\u001b[0;34m(\u001b[0m\u001b[0mchunk\u001b[0m\u001b[0;34m)\u001b[0m\u001b[0;34m\u001b[0m\u001b[0;34m\u001b[0m\u001b[0m\n\u001b[1;32m    181\u001b[0m \u001b[0;34m\u001b[0m\u001b[0m\n",
      "\u001b[0;32m~/.conda/envs/bccp/lib/python3.6/json/encoder.py\u001b[0m in \u001b[0;36m_iterencode\u001b[0;34m(o, _current_indent_level)\u001b[0m\n\u001b[1;32m    428\u001b[0m             \u001b[0;32myield\u001b[0m \u001b[0;32mfrom\u001b[0m \u001b[0m_iterencode_list\u001b[0m\u001b[0;34m(\u001b[0m\u001b[0mo\u001b[0m\u001b[0;34m,\u001b[0m \u001b[0m_current_indent_level\u001b[0m\u001b[0;34m)\u001b[0m\u001b[0;34m\u001b[0m\u001b[0;34m\u001b[0m\u001b[0m\n\u001b[1;32m    429\u001b[0m         \u001b[0;32melif\u001b[0m \u001b[0misinstance\u001b[0m\u001b[0;34m(\u001b[0m\u001b[0mo\u001b[0m\u001b[0;34m,\u001b[0m \u001b[0mdict\u001b[0m\u001b[0;34m)\u001b[0m\u001b[0;34m:\u001b[0m\u001b[0;34m\u001b[0m\u001b[0;34m\u001b[0m\u001b[0m\n\u001b[0;32m--> 430\u001b[0;31m             \u001b[0;32myield\u001b[0m \u001b[0;32mfrom\u001b[0m \u001b[0m_iterencode_dict\u001b[0m\u001b[0;34m(\u001b[0m\u001b[0mo\u001b[0m\u001b[0;34m,\u001b[0m \u001b[0m_current_indent_level\u001b[0m\u001b[0;34m)\u001b[0m\u001b[0;34m\u001b[0m\u001b[0;34m\u001b[0m\u001b[0m\n\u001b[0m\u001b[1;32m    431\u001b[0m         \u001b[0;32melse\u001b[0m\u001b[0;34m:\u001b[0m\u001b[0;34m\u001b[0m\u001b[0;34m\u001b[0m\u001b[0m\n\u001b[1;32m    432\u001b[0m             \u001b[0;32mif\u001b[0m \u001b[0mmarkers\u001b[0m \u001b[0;32mis\u001b[0m \u001b[0;32mnot\u001b[0m \u001b[0;32mNone\u001b[0m\u001b[0;34m:\u001b[0m\u001b[0;34m\u001b[0m\u001b[0;34m\u001b[0m\u001b[0m\n",
      "\u001b[0;32m~/.conda/envs/bccp/lib/python3.6/json/encoder.py\u001b[0m in \u001b[0;36m_iterencode_dict\u001b[0;34m(dct, _current_indent_level)\u001b[0m\n\u001b[1;32m    402\u001b[0m                 \u001b[0;32melse\u001b[0m\u001b[0;34m:\u001b[0m\u001b[0;34m\u001b[0m\u001b[0;34m\u001b[0m\u001b[0m\n\u001b[1;32m    403\u001b[0m                     \u001b[0mchunks\u001b[0m \u001b[0;34m=\u001b[0m \u001b[0m_iterencode\u001b[0m\u001b[0;34m(\u001b[0m\u001b[0mvalue\u001b[0m\u001b[0;34m,\u001b[0m \u001b[0m_current_indent_level\u001b[0m\u001b[0;34m)\u001b[0m\u001b[0;34m\u001b[0m\u001b[0;34m\u001b[0m\u001b[0m\n\u001b[0;32m--> 404\u001b[0;31m                 \u001b[0;32myield\u001b[0m \u001b[0;32mfrom\u001b[0m \u001b[0mchunks\u001b[0m\u001b[0;34m\u001b[0m\u001b[0;34m\u001b[0m\u001b[0m\n\u001b[0m\u001b[1;32m    405\u001b[0m         \u001b[0;32mif\u001b[0m \u001b[0mnewline_indent\u001b[0m \u001b[0;32mis\u001b[0m \u001b[0;32mnot\u001b[0m \u001b[0;32mNone\u001b[0m\u001b[0;34m:\u001b[0m\u001b[0;34m\u001b[0m\u001b[0;34m\u001b[0m\u001b[0m\n\u001b[1;32m    406\u001b[0m             \u001b[0m_current_indent_level\u001b[0m \u001b[0;34m-=\u001b[0m \u001b[0;36m1\u001b[0m\u001b[0;34m\u001b[0m\u001b[0;34m\u001b[0m\u001b[0m\n",
      "\u001b[0;32m~/.conda/envs/bccp/lib/python3.6/json/encoder.py\u001b[0m in \u001b[0;36m_iterencode\u001b[0;34m(o, _current_indent_level)\u001b[0m\n\u001b[1;32m    435\u001b[0m                     \u001b[0;32mraise\u001b[0m \u001b[0mValueError\u001b[0m\u001b[0;34m(\u001b[0m\u001b[0;34m\"Circular reference detected\"\u001b[0m\u001b[0;34m)\u001b[0m\u001b[0;34m\u001b[0m\u001b[0;34m\u001b[0m\u001b[0m\n\u001b[1;32m    436\u001b[0m                 \u001b[0mmarkers\u001b[0m\u001b[0;34m[\u001b[0m\u001b[0mmarkerid\u001b[0m\u001b[0;34m]\u001b[0m \u001b[0;34m=\u001b[0m \u001b[0mo\u001b[0m\u001b[0;34m\u001b[0m\u001b[0;34m\u001b[0m\u001b[0m\n\u001b[0;32m--> 437\u001b[0;31m             \u001b[0mo\u001b[0m \u001b[0;34m=\u001b[0m \u001b[0m_default\u001b[0m\u001b[0;34m(\u001b[0m\u001b[0mo\u001b[0m\u001b[0;34m)\u001b[0m\u001b[0;34m\u001b[0m\u001b[0;34m\u001b[0m\u001b[0m\n\u001b[0m\u001b[1;32m    438\u001b[0m             \u001b[0;32myield\u001b[0m \u001b[0;32mfrom\u001b[0m \u001b[0m_iterencode\u001b[0m\u001b[0;34m(\u001b[0m\u001b[0mo\u001b[0m\u001b[0;34m,\u001b[0m \u001b[0m_current_indent_level\u001b[0m\u001b[0;34m)\u001b[0m\u001b[0;34m\u001b[0m\u001b[0;34m\u001b[0m\u001b[0m\n\u001b[1;32m    439\u001b[0m             \u001b[0;32mif\u001b[0m \u001b[0mmarkers\u001b[0m \u001b[0;32mis\u001b[0m \u001b[0;32mnot\u001b[0m \u001b[0;32mNone\u001b[0m\u001b[0;34m:\u001b[0m\u001b[0;34m\u001b[0m\u001b[0;34m\u001b[0m\u001b[0m\n",
      "\u001b[0;32m~/.conda/envs/bccp/lib/python3.6/json/encoder.py\u001b[0m in \u001b[0;36mdefault\u001b[0;34m(self, o)\u001b[0m\n\u001b[1;32m    178\u001b[0m         \"\"\"\n\u001b[1;32m    179\u001b[0m         raise TypeError(\"Object of type '%s' is not JSON serializable\" %\n\u001b[0;32m--> 180\u001b[0;31m                         o.__class__.__name__)\n\u001b[0m\u001b[1;32m    181\u001b[0m \u001b[0;34m\u001b[0m\u001b[0m\n\u001b[1;32m    182\u001b[0m     \u001b[0;32mdef\u001b[0m \u001b[0mencode\u001b[0m\u001b[0;34m(\u001b[0m\u001b[0mself\u001b[0m\u001b[0;34m,\u001b[0m \u001b[0mo\u001b[0m\u001b[0;34m)\u001b[0m\u001b[0;34m:\u001b[0m\u001b[0;34m\u001b[0m\u001b[0;34m\u001b[0m\u001b[0m\n",
      "\u001b[0;31mTypeError\u001b[0m: Object of type 'ndarray' is not JSON serializable"
     ]
    }
   ],
   "source": []
  },
  {
   "cell_type": "code",
   "execution_count": null,
   "metadata": {},
   "outputs": [],
   "source": []
  }
 ],
 "metadata": {
  "kernelspec": {
   "display_name": "NERSC BCCP",
   "language": "python",
   "name": "bccp"
  },
  "language_info": {
   "codemirror_mode": {
    "name": "ipython",
    "version": 3
   },
   "file_extension": ".py",
   "mimetype": "text/x-python",
   "name": "python",
   "nbconvert_exporter": "python",
   "pygments_lexer": "ipython3",
   "version": "3.6.7"
  }
 },
 "nbformat": 4,
 "nbformat_minor": 2
}
