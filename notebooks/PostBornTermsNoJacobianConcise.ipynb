{
 "cells": [
  {
   "cell_type": "code",
   "execution_count": 1,
   "metadata": {},
   "outputs": [],
   "source": [
    "import numpy as np\n",
    "import matplotlib.pyplot as plt\n",
    "import sys\n",
    "import time\n",
    "from scipy.interpolate import RectBivariateSpline\n",
    "path = '../PostBornEma/'\n",
    "sys.path.append(\"../scripts/\") \n",
    "from lab import *\n",
    "import os"
   ]
  },
  {
   "cell_type": "code",
   "execution_count": 2,
   "metadata": {},
   "outputs": [
    {
     "name": "stdout",
     "output_type": "stream",
     "text": [
      "zmax=2 chimax=3597\n",
      "gaussgal_z10_sigma1_deltalens_z20simple_bias zmax2\n"
     ]
    }
   ],
   "source": [
    "##general settings\n",
    "LSST      = False\n",
    "#if not LSST redhsift kernel\n",
    "z0        = 1.\n",
    "sigma_z   = 0.1\n",
    "bin_num   = 'all'\n",
    "bias      = 'simple'\n",
    "z_source  = 2#z_cmb\n",
    "zmax      = z_source\n",
    "chimax    = chi_z(zmax)\n",
    "s         = 0.6\n",
    "print('zmax=%d'%zmax, 'chimax=%d'%chimax)\n",
    "chi_source = chi_z(z_source)\n",
    "\n",
    "if LSST:\n",
    "    if chi_source==chi_cmb:\n",
    "        file_ext = 'lsst%s_cmblens'%str(bin_num)\n",
    "    else:\n",
    "        file_ext = 'lsst%s_deltalens_z%d'%(str(bin_num),z_source*10)\n",
    "\n",
    "else:\n",
    "    if chi_source==chi_cmb:\n",
    "        file_ext = 'gaussgal_z%d_sigma%d_cmblens'%(z0*10,sigma_z*10)\n",
    "    else:\n",
    "        file_ext = 'gaussgal_z%d_sigma%d_deltalens_z%d'%(z0*10,sigma_z*10,z_source*10) \n",
    "    \n",
    "file_ext+=bias+'_bias'\n",
    "    \n",
    "file_ext2 = 'zmax%d'%zmax\n",
    "    \n",
    "print(file_ext, file_ext2)\n",
    "\n",
    "\n",
    "if bias == 'simple':\n",
    "    bias_func = simple_bias\n",
    "elif bias =='constant':\n",
    "    bias_func = constant_bias\n",
    "else:\n",
    "    print('no valid bias function selected')\n",
    "\n",
    "\n",
    "\n",
    "params = {}\n",
    "params['LSST'] = LSST\n",
    "params['z0'] = z0\n",
    "params['sigma_z'] = sigma_z\n",
    "params['bin_num'] = bin_num\n",
    "params['chimax'] = chimax\n",
    "params['chisource'] = chi_source\n",
    "params['zsource'] = z_source\n",
    "params['ext'] = file_ext\n",
    "params['ext2']= file_ext2\n",
    "params['s'] = s\n",
    "params['bias']=bias\n",
    "\n",
    "try: \n",
    "    params_ = pickle.load(open('../settings/params_%s.pkl'%file_ext,'rb'))\n",
    "    assert(params==params_)\n",
    "except:\n",
    "    pickle.dump(params,open('../settings/params_%s.pkl'%file_ext,'wb'))\n",
    "\n"
   ]
  },
  {
   "cell_type": "code",
   "execution_count": 3,
   "metadata": {},
   "outputs": [
    {
     "name": "stdout",
     "output_type": "stream",
     "text": [
      "plot path exists\n"
     ]
    }
   ],
   "source": [
    "plotpath = '../plots/%s/'%file_ext\n",
    "if os.path.isdir(plotpath):\n",
    "    print('plot path exists')\n",
    "else:\n",
    "    os.mkdir(plotpath)"
   ]
  },
  {
   "cell_type": "code",
   "execution_count": 4,
   "metadata": {},
   "outputs": [
    {
     "name": "stdout",
     "output_type": "stream",
     "text": [
      "delta lensing with chimax 3597\n",
      "2.3158265512750248e-24\n"
     ]
    }
   ],
   "source": [
    "print('delta lensing with chimax %d'%chimax)\n",
    "def lensing_kernel(xi):\n",
    "    xmax = chi_source\n",
    "    return (xmax - xi)/(xmax*xi) * (xmax > xi)\n",
    "    \n",
    "if LSST:\n",
    "    if bin_num == 'all':\n",
    "        def galax_kernel(x):\n",
    "            return lsst_kernel_cb(x)*simple_bias(x)\n",
    "    else:\n",
    "        def galax_kernel(x):\n",
    "            return lsst_kernel_cbn[bin_num](x)*simple_bias(x)\n",
    "else:\n",
    "    kernel = gal_clus(Gauss_redshift(sigma_z=sigma_z,z0=z0), bias_func)\n",
    "    def galax_kernel(x):\n",
    "        return kernel(x)\n",
    "    \n",
    "print(galax_kernel(chimax))"
   ]
  },
  {
   "cell_type": "code",
   "execution_count": 6,
   "metadata": {},
   "outputs": [
    {
     "data": {
      "image/png": "[encoded data removed]",
      "text/plain": [
       "<Figure size 432x288 with 1 Axes>"
      ]
     },
     "metadata": {
      "needs_background": "light"
     },
     "output_type": "display_data"
    }
   ],
   "source": [
    "#see if kernels are sensible\n",
    "chis = np.linspace(1,chimax,20000)\n",
    "plt.plot(chis, lensing_kernel(chis)*chis**2,label='lensing kernel')\n",
    "plt.plot(chis, galax_kernel(chis)*2e6, label='galaxy kernel (incl. bias)')\n",
    "plt.axvline(x=chimax,color='black')\n",
    "plt.xlabel('$\\chi$',fontsize=16)\n",
    "plt.ylabel('$W(\\chi)$',fontsize=16)\n",
    "plt.legend()#loc='upper right')\n",
    "plt.xlim(0,chimax)\n",
    "plt.savefig(plotpath+'redshiftkernels_%s.pdf'%file_ext, bbox_inches='tight')"
   ]
  },
  {
   "cell_type": "code",
   "execution_count": 7,
   "metadata": {},
   "outputs": [
    {
     "data": {
      "text/plain": [
       "-2.0000033691609853"
      ]
     },
     "execution_count": 7,
     "metadata": {},
     "output_type": "execute_result"
    }
   ],
   "source": [
    "#only integrates to one for constant bias!\n",
    "np.trapz(chis,galax_kernel(chis))"
   ]
  },
  {
   "cell_type": "code",
   "execution_count": 8,
   "metadata": {},
   "outputs": [],
   "source": [
    "L = np.logspace(np.log10(min(ell_)),np.log10(1000),100)\n",
    "l = np.logspace(np.log10(min(ell_)),np.log10(max(ell_)),500)"
   ]
  },
  {
   "cell_type": "markdown",
   "metadata": {},
   "source": [
    "### computing auto and cross spectra first"
   ]
  },
  {
   "cell_type": "code",
   "execution_count": 9,
   "metadata": {},
   "outputs": [
    {
     "name": "stderr",
     "output_type": "stream",
     "text": [
      "/global/homes/v/vboehm/.conda/envs/bccp/lib/python3.6/site-packages/ipykernel_launcher.py:33: ComplexWarning: Casting complex values to real discards the imaginary part\n"
     ]
    },
    {
     "name": "stdout",
     "output_type": "stream",
     "text": [
      "Time taken =  1.6080117225646973\n"
     ]
    }
   ],
   "source": [
    "# clkg\n",
    "try:\n",
    "    ell_,Cl_kg= np.load('../output/cls/Clkg_%s.npy'%(file_ext))\n",
    "except:\n",
    "    r2d, t2d = np.meshgrid(t_,t_)\n",
    "    w11, w12 = np.meshgrid(w1,w1)\n",
    "    #nu axis\n",
    "    r2d, t2d = np.expand_dims(r2d, 2), np.expand_dims(t2d, 2)\n",
    "    w11, w12 = np.expand_dims(w11, 2), np.expand_dims(w12, 2)\n",
    "\n",
    "    # chimax and kernels\n",
    "\n",
    "    kernel1  = lensing_kernel\n",
    "    kernel2  = galax_kernel\n",
    "\n",
    "    n = 2\n",
    "\n",
    "    begin=time.time()\n",
    "\n",
    "    chi1fac0 = (kernel1(r2d*chimax)*D_chi(r2d*chimax)*(1.+z_chi(r2d*chimax)))\n",
    "    chi1fac0 = chi1fac0 *(r2d*chimax)**(1-(n+nu_n_.reshape(1, 1, -1)))\n",
    "\n",
    "    chi2fac00 = (kernel2(t2d*r2d*chimax)*D_chi(r2d*t2d*chimax))\n",
    "    chi2fac01 = (kernel2(1./t2d*r2d*chimax)*D_chi(r2d/t2d*chimax))\n",
    "    chi2fac01 = chi2fac01 * t2d**((n+nu_n_).reshape(1, 1, -1)-2)\n",
    "    chi2fac0  = chi2fac00 + chi2fac01\n",
    "\n",
    "    chifacs = w11*w12*chi1fac0* chi2fac0\n",
    "\n",
    "    result=np.zeros_like(ell_)\n",
    "    lmax = ell_.size\n",
    "    for ii  in range(ell_.size):        \n",
    "        result[ii] = np.sum(chifacs*I2_ltrc[ii])\n",
    "\n",
    "\n",
    "    Cl_pg = chimax * result*1./np.pi**2/2.*prefac/4.*2\n",
    "\n",
    "    print('Time taken = ', time.time()-begin)\n",
    "\n",
    "    Cl_kg = 1./2*(ell_*(ell_+1.))*Cl_pg\n",
    "\n",
    "    np.save('../output/cls/Clkg_%s.npy'%(file_ext),[ell_,Cl_kg])"
   ]
  },
  {
   "cell_type": "code",
   "execution_count": 10,
   "metadata": {},
   "outputs": [
    {
     "data": {
      "image/png": "[encoded data removed]",
      "text/plain": [
       "<Figure size 432x288 with 1 Axes>"
      ]
     },
     "metadata": {
      "needs_background": "light"
     },
     "output_type": "display_data"
    }
   ],
   "source": [
    "plt.figure()\n",
    "if LSST:\n",
    "    plt.title('$z_{source}$=%.1f, LSST bin=%s'%(z_source, str(bin_num)),fontsize=12)\n",
    "else:\n",
    "    plt.title('$z_{source}$=%.1f, $z_{mean}$=%.1f, $\\sigma_z$ =%.1f'%(z_source,z0, sigma_z),fontsize=12)    \n",
    "plt.ylabel(r'$C_L^{\\kappa g}$', fontsize=16)\n",
    "plt.xlabel('L', fontsize=14)\n",
    "p=plt.loglog(ell_,Cl_kg)\n",
    "plt.loglog(ell_,-Cl_kg,c=p[0].get_color(),ls='--')\n",
    "plt.savefig(plotpath+'clkg_%s.pdf'%file_ext, bbox_inches='tight')\n",
    "plt.show()"
   ]
  },
  {
   "cell_type": "code",
   "execution_count": 11,
   "metadata": {},
   "outputs": [
    {
     "name": "stderr",
     "output_type": "stream",
     "text": [
      "/global/homes/v/vboehm/.conda/envs/bccp/lib/python3.6/site-packages/ipykernel_launcher.py:28: ComplexWarning: Casting complex values to real discards the imaginary part\n"
     ]
    },
    {
     "name": "stdout",
     "output_type": "stream",
     "text": [
      "Time taken =  1.8485107421875\n"
     ]
    }
   ],
   "source": [
    "#clkk\n",
    "try:\n",
    "    ell_,Cl_kk=np.load('../output/cls/Clkk_%s.npy'%(file_ext))\n",
    "except:\n",
    "    r2d, t2d = np.meshgrid(t_,t_)\n",
    "    w11, w12 = np.meshgrid(w1,w1)\n",
    "    # inflate by one dimensions (nu_n)\n",
    "    r2d, t2d = np.expand_dims(r2d, 2), np.expand_dims(t2d, 2)\n",
    "    w11, w12 = np.expand_dims(w11, 2), np.expand_dims(w12, 2)\n",
    "\n",
    "    n=0\n",
    "\n",
    "    begin=time.time()\n",
    "\n",
    "    chi1fac0 = (lensing_kernel(r2d*chimax)*(1+z_chi(r2d*chimax))*D_chi(r2d*chimax))\n",
    "    chi1fac0 = chi1fac0 *(r2d*chimax)**(1-nu_n_.reshape(1, 1, -1))\n",
    "\n",
    "    chi2fac00 = (lensing_kernel(t2d*r2d*chimax)*D_chi(r2d*t2d*chimax)*(1+z_chi(r2d*t2d*chimax)))\n",
    "    chi2fac01 = (lensing_kernel(1./t2d*r2d*chimax)*D_chi(r2d*1./t2d*chimax)*(1+z_chi(r2d/t2d*chimax)))\n",
    "    chi2fac01 = chi2fac01 * t2d**(n+nu_n_.reshape(1, 1, -1)-2)\n",
    "    chi2fac0  = chi2fac00 + chi2fac01\n",
    "\n",
    "    chifacs = w11*w12*chi1fac0* chi2fac0\n",
    "\n",
    "    result=np.zeros_like(ell_)\n",
    "    lmax = ell_.size\n",
    "    for ii  in range(ell_.size):        \n",
    "        result[ii] = np.sum(chifacs*I0_ltrc[ii])\n",
    "\n",
    "    Clpp  = 2**2*chimax * result*1./np.pi**2/2.*prefac**2/4. #factor 2 for every phi = -2 int W psi\n",
    "    #factor of 1/2 for every gaussian quadrature\n",
    "\n",
    "    Cl_kk = 1./4*(ell_*(ell_+1.))**2*Clpp\n",
    "\n",
    "    np.save('../output/cls/Clkk_%s.npy'%(file_ext),[ell_,Cl_kk])\n",
    "\n",
    "    print('Time taken = ', time.time()-begin)"
   ]
  },
  {
   "cell_type": "code",
   "execution_count": 12,
   "metadata": {},
   "outputs": [
    {
     "data": {
      "image/png": "[encoded data removed]",
      "text/plain": [
       "<Figure size 432x288 with 1 Axes>"
      ]
     },
     "metadata": {
      "needs_background": "light"
     },
     "output_type": "display_data"
    }
   ],
   "source": [
    "plt.figure()\n",
    "plt.title('$z_{source}$=%.1f'%(z_source),fontsize=14)\n",
    "plt.ylabel(r'$C_L^{\\kappa \\kappa}$', fontsize=16)\n",
    "plt.xlabel('L', fontsize=14)\n",
    "p=plt.loglog(ell_,Cl_kk)\n",
    "plt.loglog(ell_,-Cl_kk,c=p[0].get_color(),ls='--')\n",
    "plt.savefig(plotpath+'clkk_%s.pdf'%file_ext, bbox_inches='tight')\n",
    "plt.show()"
   ]
  },
  {
   "cell_type": "code",
   "execution_count": 13,
   "metadata": {},
   "outputs": [
    {
     "name": "stderr",
     "output_type": "stream",
     "text": [
      "/global/homes/v/vboehm/.conda/envs/bccp/lib/python3.6/site-packages/ipykernel_launcher.py:21: ComplexWarning: Casting complex values to real discards the imaginary part\n"
     ]
    },
    {
     "name": "stdout",
     "output_type": "stream",
     "text": [
      "Time taken =  1.7482481002807617\n"
     ]
    }
   ],
   "source": [
    "#clgg\n",
    "try:\n",
    "    ell_,Cl_gg = np.load('../output/cls/Clgg_%s.npy'%(file_ext))\n",
    "except:    \n",
    "    begin=time.time()\n",
    "\n",
    "    n = 4\n",
    "    chi1fac0 = (galax_kernel(r2d*chimax)*D_chi(r2d*chimax))\n",
    "    chi1fac0 = chi1fac0 *(r2d*chimax)**(1-(n+nu_n_.reshape(1, 1, -1)))\n",
    "\n",
    "    chi2fac00 = (galax_kernel(t2d*r2d*chimax)*D_chi(r2d*t2d*chimax))\n",
    "    chi2fac01 = (galax_kernel(1/t2d*r2d*chimax)*D_chi(r2d*1/t2d*chimax))\n",
    "    chi2fac01 = chi2fac01 * t2d**((n+nu_n_).reshape(1, 1, -1)-2)\n",
    "    chi2fac0  = chi2fac00 + chi2fac01\n",
    "\n",
    "    chifacs = w11*w12*chi1fac0* chi2fac0\n",
    "\n",
    "    result=np.zeros_like(ell_)\n",
    "    lmax = ell_.size\n",
    "    for ii  in range(ell_.size):        \n",
    "        result[ii] = np.sum(chifacs*I4_ltrc[ii])\n",
    "\n",
    "    Cl_gg = chimax * result/np.pi**2/2./4. #dividing by extra factor of 4 (should be there because of Gaussian Quadrature)\n",
    "\n",
    "    np.save('../output/cls/Clgg_%s.npy'%(file_ext),[ell_,Cl_gg])\n",
    "\n",
    "    print('Time taken = ', time.time()-begin)"
   ]
  },
  {
   "cell_type": "code",
   "execution_count": 14,
   "metadata": {},
   "outputs": [
    {
     "data": {
      "image/png": "[encoded data removed]",
      "text/plain": [
       "<Figure size 432x288 with 1 Axes>"
      ]
     },
     "metadata": {
      "needs_background": "light"
     },
     "output_type": "display_data"
    }
   ],
   "source": [
    "plt.figure()\n",
    "if LSST:\n",
    "    plt.title('LSST bin=%s'%(str(bin_num)),fontsize=12)\n",
    "else:\n",
    "    plt.title('$z_{mean}$=%.1f, $\\sigma_z$ =%.1f'%(z0, sigma_z),fontsize=12)   \n",
    "plt.ylabel(r'$C_L^{gg}$', fontsize=16)\n",
    "plt.xlabel('L', fontsize=14)\n",
    "p=plt.loglog(ell_,Cl_gg)\n",
    "plt.loglog(ell_,-Cl_gg,c=p[0].get_color(),ls='--')\n",
    "plt.savefig(plotpath+'Clgg_%s.pdf'%file_ext, bbox_inches='tight')\n",
    "plt.show()"
   ]
  },
  {
   "cell_type": "markdown",
   "metadata": {},
   "source": [
    "### first order Jacobian term"
   ]
  },
  {
   "cell_type": "code",
   "execution_count": 15,
   "metadata": {},
   "outputs": [],
   "source": [
    "try:\n",
    "    ell_,J11bare = np.load('../output/cls/ClkgJacobianbare_%s.npy'%(file_ext))\n",
    "except:\n",
    "    clphiphi_xi_xi_source = np.load('../G_matrices/clphiphi_parallel_chisource_%s.npy'%file_ext)\n",
    "\n",
    "    kernel1 = galax_kernel\n",
    "    result = np.zeros_like(ell_)\n",
    "    for ii in range(len(ell_)):\n",
    "        result[ii]= ell_[ii]**4*chimax*np.sum(w1*kernel1(t_*chimax)*clphiphi_xi_xi_source[ii])/2.\n",
    "    J11bare = result\n",
    "    np.save('../output/cls/ClkgJacobianbare_%s.npy'%(file_ext),[ell_,J11bare])"
   ]
  },
  {
   "cell_type": "code",
   "execution_count": 16,
   "metadata": {},
   "outputs": [
    {
     "data": {
      "image/png": "[encoded data removed]",
      "text/plain": [
       "<Figure size 432x288 with 1 Axes>"
      ]
     },
     "metadata": {
      "needs_background": "light"
     },
     "output_type": "display_data"
    }
   ],
   "source": [
    "if LSST:\n",
    "    plt.title('$z_{source}$=%.1f, LSST bin=%s'%(z_source, str(bin_num)),fontsize=12)\n",
    "else:\n",
    "    plt.title('$z_{source}$=%.1f, $z_{mean}$=%.1f, $\\sigma_z$ =%.1f'%(z_source,z0, sigma_z),fontsize=12)   \n",
    "plt.loglog(ell_,Cl_kg,ls='-',label='uncorrected',color='green')\n",
    "for s in [0.6,0.8]:\n",
    "    p=plt.semilogx(ell_,J11bare*5.*(s-0.4)+Cl_kg,ls='-', label='+mag. bias s=%.1f'%s)\n",
    "    plt.semilogx(ell_,-(J11bare*5.*(s-0.4)+Cl_kg),ls='--', c=p[0].get_color())\n",
    "plt.xlabel('L')\n",
    "plt.ylabel(r'$C_L^{\\kappa g}$', fontsize=16)\n",
    "plt.legend()\n",
    "plt.savefig(plotpath+'clkg_magbias_%s.pdf'%file_ext, bbox_inches='tight')\n"
   ]
  },
  {
   "cell_type": "code",
   "execution_count": 17,
   "metadata": {},
   "outputs": [
    {
     "data": {
      "image/png": "[encoded data removed]",
      "text/plain": [
       "<Figure size 432x288 with 1 Axes>"
      ]
     },
     "metadata": {
      "needs_background": "light"
     },
     "output_type": "display_data"
    }
   ],
   "source": [
    "if LSST:\n",
    "    plt.title('$z_{source}$=%.1f, LSST bin=%s'%(z_source, str(bin_num)),fontsize=12)\n",
    "else:\n",
    "    plt.title('$z_{source}$=%.1f, $z_{mean}$=%.1f, $\\sigma_z$ =%.1f'%(z_source,z0, sigma_z),fontsize=12)   \n",
    "plt.loglog(ell_,Cl_kg,label='xx=$\\kappa$g')\n",
    "plt.loglog(ell_,Cl_kk,label='xx=$\\kappa\\kappa$')\n",
    "plt.loglog(ell_,Cl_gg,label='xx=gg')\n",
    "plt.legend(fontsize=14)\n",
    "plt.xlabel('L',fontsize=14)\n",
    "plt.ylabel(r'$C_L^{xx}$', fontsize=18)\n",
    "plt.legend()\n",
    "plt.savefig(plotpath+'cls_%s.pdf'%file_ext, bbox_inches='tight')\n"
   ]
  },
  {
   "cell_type": "markdown",
   "metadata": {},
   "source": [
    "### 1) Terms that also appear in Limber approximation"
   ]
  },
  {
   "cell_type": "markdown",
   "metadata": {},
   "source": [
    "#### Collecting all contributions from Eq.s 4.2-4.5 that are also non-zero in Limber\n",
    "\n",
    "Term 1:\n",
    "$- \\int_{\\vec{l}} [\\vec{L}\\cdot \\vec{l}] [\\vec{l}\\cdot (\\vec{L}-\\vec{l})]^2 \\int \\mathrm{d}\\chi \\int \\mathrm{d}\\chi' W(\\chi,\\chi_{CMB}) W^h(\\chi') C_l^{\\delta\\psi}(\\chi',\\chi) C_{|\\vec{L}-\\vec{l}|}^{\\phi\\phi}(\\chi',\\chi) = - \\int_{\\vec{l}} [\\vec{L}\\cdot \\vec{l}] [\\vec{l}\\cdot (\\vec{L}-\\vec{l})]^2 M^{A}(l,|\\vec{L}-\\vec{l}|)$\n",
    "after  transform $\\vec{l} \\rightarrow \\vec{l}+\\vec{L}$\n",
    "\n",
    "$\\int_{\\vec{l}} [\\vec{L}\\cdot  (\\vec{L}+\\vec{l})] [\\vec{l}\\cdot (\\vec{L}+\\vec{l})]^2 M^{A}( |\\vec{L}+\\vec{l}|,l)$\n",
    "\n",
    "Term 2: \n",
    "$ L^2 \\int_{\\vec{l}} [\\vec{L}\\cdot \\vec{l}]^2 \\int \\mathrm{d}\\chi \\int \\mathrm{d}\\chi' W(\\chi,\\chi_{CMB}) W^h(\\chi') C_L^{\\delta\\psi}(\\chi',\\chi) [\\frac{1}{2}C_{l}^{\\phi\\phi}(\\chi')+\\frac{1}{2}C_{l}^{\\phi\\phi}(\\chi)]$\n",
    "$ = L^2 \\int_{\\vec{l}} [\\vec{L}\\cdot \\vec{l}]^2 \\tilde{M}^{A}(L,l)$\n",
    "\n",
    "Comparison with Limber results suggest that we are missing a minus sign in Term 2. Will be coding with this Minus sign\n",
    "\n",
    "Adding Term 1 and 2 with trick from Krause & Hirata:\n",
    "$\\int_{\\vec{l}} [\\vec{L}\\cdot  (\\vec{L}+\\vec{l})] [\\vec{l}\\cdot (\\vec{L}+\\vec{l})]^2 [M^{A}( |\\vec{L}+\\vec{l}|,l)-\\tilde{M}^{A}(L,l)] +  \\left[\\int_{\\vec{l}} [\\vec{L}\\cdot  (\\vec{L}+\\vec{l})] [\\vec{l}\\cdot (\\vec{L}+\\vec{l})]^2-L^2[\\vec{L}\\cdot \\vec{l}]^2\\right] \\tilde{M}^{A}(L,l)$\n"
   ]
  },
  {
   "cell_type": "markdown",
   "metadata": {},
   "source": [
    "### Coding the new equation for Term 1:\n",
    "$\\frac{\\mathcal A}{2 \\pi^2} \\sum_n \\int dr \\chi_{cmb}^{-\\nu} r^{-\\nu-1} W(r \\chi_{cmb},\\chi_{cmb}) [1+z(r \\chi_{cmb})] D(r \\chi_{cmb})\\int dt I^{(2)}(\\nu_n, t)[ D(tr  \\chi_{cmb})W_h(tr  \\chi_{cmb}) C_{l1}^{\\phi\\phi}(tr  \\chi_{cmb},r \\chi_{cmb})+ t^\\nu D(r/t  \\chi_{cmb})W_h(r/t  \\chi_{cmb}) C_{l1}^{\\phi\\phi}(r/t  \\chi_{cmb},r \\chi_{cmb}))]$"
   ]
  },
  {
   "cell_type": "code",
   "execution_count": 18,
   "metadata": {},
   "outputs": [
    {
     "name": "stdout",
     "output_type": "stream",
     "text": [
      "0\n"
     ]
    },
    {
     "name": "stderr",
     "output_type": "stream",
     "text": [
      "/global/homes/v/vboehm/.conda/envs/bccp/lib/python3.6/site-packages/ipykernel_launcher.py:40: ComplexWarning: Casting complex values to real discards the imaginary part\n"
     ]
    },
    {
     "name": "stdout",
     "output_type": "stream",
     "text": [
      "10\n",
      "20\n",
      "30\n",
      "40\n",
      "50\n",
      "60\n",
      "70\n",
      "80\n",
      "90\n",
      "100\n",
      "110\n",
      "120\n",
      "130\n",
      "140\n",
      "150\n",
      "160\n",
      "170\n",
      "180\n",
      "190\n",
      "200\n",
      "210\n",
      "220\n",
      "230\n",
      "240\n",
      "250\n",
      "260\n",
      "270\n",
      "280\n",
      "524.6777639389038\n"
     ]
    }
   ],
   "source": [
    "#getting MA Eq. 4.4\n",
    "chi1s, chi2s, clphiphirt = np.load('../G_matrices/clphiphi_rt_%s.npy'%file_ext2)\n",
    "chi1s_, chi2s_, clphiphir_over_t = np.load('../G_matrices/clphiphi_r_over_t_%s.npy'%file_ext2)\n",
    "clphiphirt = np.swapaxes(clphiphirt,1,2)\n",
    "clphiphir_over_t = np.swapaxes(clphiphir_over_t,1,2)\n",
    "\n",
    "try: \n",
    "    _, M22A = np.load('../M_matrices/M22A_%s.npy'%file_ext)\n",
    "    M22A_spline = RectBivariateSpline(ell_,ell_,M22A)\n",
    "except:\n",
    "    r2d, t2d = np.meshgrid(t_,t_)\n",
    "    w11, w12 = np.meshgrid(w1,w1)\n",
    "    #nu axis\n",
    "    r2d, t2d = np.expand_dims(r2d, 2), np.expand_dims(t2d, 2)\n",
    "    w11, w12 = np.expand_dims(w11, 2), np.expand_dims(w12, 2)\n",
    "\n",
    "    clphiphirt_ = np.expand_dims(clphiphirt,-1)\n",
    "    clphiphir_over_t_ = np.expand_dims(clphiphir_over_t,-1)\n",
    "\n",
    "    result = np.zeros((len(ell_),len(ell_)))\n",
    "\n",
    "    n = 2\n",
    "\n",
    "    begin=time.time()\n",
    "    for nn in range(len(ell_)):\n",
    "        if nn%10==0:\n",
    "            print(nn)\n",
    "        chi1fac0 = (lensing_kernel(r2d*chimax)*D_chi(r2d*chimax)*(1.+z_chi(r2d*chimax)))\n",
    "        chi1fac0 = chi1fac0 *(r2d*chimax)**(1-(n+nu_n_.reshape(1, 1, -1)))\n",
    "\n",
    "        chi2fac00 = (galax_kernel(t2d*r2d*chimax)*D_chi(r2d*t2d*chimax)*clphiphirt_[nn])\n",
    "        chi2fac01 = (galax_kernel(1./t2d*r2d*chimax)*D_chi(r2d/t2d*chimax)*clphiphir_over_t_[nn])\n",
    "        chi2fac01 = chi2fac01 * t2d**((n+nu_n_).reshape(1, 1, -1)-2)\n",
    "        chi2fac0  = chi2fac00 + chi2fac01\n",
    "\n",
    "        chifacs   = w11*w12*chi1fac0* chi2fac0\n",
    "\n",
    "        lmax = ell_.size\n",
    "        for ii  in range(ell_.size):        \n",
    "            result[nn][ii] = np.sum(chifacs*I2_ltrc[ii])\n",
    "\n",
    "    print(time.time()-begin)\n",
    "\n",
    "    M22A = chimax * result*1./np.pi**2/2.*prefac/4.\n",
    "    np.save('../M_matrices/M22A_%s.npy'%str(file_ext),[np.meshgrid(ell_),M22A.T])\n",
    "\n",
    "    M22A_spline = RectBivariateSpline(ell_,ell_,M22A.T)"
   ]
  },
  {
   "cell_type": "markdown",
   "metadata": {},
   "source": [
    "### clphiphi diag for term 2"
   ]
  },
  {
   "cell_type": "code",
   "execution_count": 19,
   "metadata": {},
   "outputs": [
    {
     "name": "stdout",
     "output_type": "stream",
     "text": [
      "0\n"
     ]
    },
    {
     "name": "stderr",
     "output_type": "stream",
     "text": [
      "/global/homes/v/vboehm/.conda/envs/bccp/lib/python3.6/site-packages/ipykernel_launcher.py:47: ComplexWarning: Casting complex values to real discards the imaginary part\n"
     ]
    },
    {
     "name": "stdout",
     "output_type": "stream",
     "text": [
      "10\n",
      "20\n",
      "30\n",
      "40\n",
      "50\n",
      "60\n",
      "70\n",
      "80\n",
      "90\n",
      "100\n",
      "110\n",
      "120\n",
      "130\n",
      "140\n",
      "150\n",
      "160\n",
      "200\n",
      "210\n",
      "220\n",
      "230\n",
      "240\n",
      "250\n",
      "260\n",
      "270\n",
      "280\n",
      "557.7747514247894\n"
     ]
    }
   ],
   "source": [
    "#getting tilde MA Eq.4.3\n",
    "\n",
    "# script: clphiphi_VB_parallel.py\n",
    "clphiphi   = np.load('../G_matrices/clphiphi_parallel_%s.npy'%file_ext2)\n",
    "\n",
    "cl_phiphi_diag= np.zeros((len(ell_),len(t_)))\n",
    "for ii in range(len(t_)):\n",
    "    cl_phiphi_diag[:,ii]=clphiphi[:,ii,ii]\n",
    "\n",
    "clphiphi_diag=[]\n",
    "from scipy.interpolate import interp1d\n",
    "for ii in range(len(ell_)):\n",
    "    clphiphi_diag+=[interp1d(chimax*t_,cl_phiphi_diag[ii])]\n",
    "#transpose of code\n",
    "try:\n",
    "    _, M31aA = np.load('../M_matrices/M31aA_%s.npy'%file_ext)\n",
    "    M31aA_spline = RectBivariateSpline(ell_,ell_,M31aA)\n",
    "except:\n",
    "    r2d, t2d = np.meshgrid(t_,t_)\n",
    "    w11, w12 = np.meshgrid(w1,w1)\n",
    "    #nu axis\n",
    "    r2d, t2d = np.expand_dims(r2d, 2), np.expand_dims(t2d, 2)\n",
    "    w11, w12 = np.expand_dims(w11, 2), np.expand_dims(w12, 2)\n",
    "\n",
    "\n",
    "    result = np.zeros((len(ell_),len(ell_)))\n",
    "\n",
    "    n = 2\n",
    "\n",
    "    begin=time.time()\n",
    "    for nn in range(len(ell_)):\n",
    "        if nn%10==0:\n",
    "            print(nn)\n",
    "\n",
    "        chi1fac0 = (galax_kernel(r2d*chimax)*D_chi(r2d*chimax)*clphiphi_diag[nn](r2d*chimax))\n",
    "        chi1fac0 = chi1fac0 *(r2d*chimax)**(1-(n+nu_n_.reshape(1, 1, -1)))\n",
    "\n",
    "        chi2fac00 = (lensing_kernel(t2d*r2d*chimax)*D_chi(r2d*t2d*chimax)*(1.+z_chi(r2d*t2d*chimax)))\n",
    "        chi2fac01 = (lensing_kernel(1./t2d*r2d*chimax)*D_chi(r2d/t2d*chimax)*(1.+z_chi(r2d/t2d*chimax)))\n",
    "        chi2fac01 = chi2fac01 * t2d**((n+nu_n_).reshape(1, 1, -1)-2)\n",
    "        chi2fac0  = chi2fac00 + chi2fac01\n",
    "\n",
    "        chifacs   = w11*w12*chi1fac0* chi2fac0\n",
    "\n",
    "        lmax = ell_.size\n",
    "        for ii  in range(ell_.size):        \n",
    "            result[nn][ii] = np.sum(chifacs*I2_ltrc[ii])\n",
    "\n",
    "    print(time.time()-begin)\n",
    "\n",
    "    M31aA = chimax * result*1./np.pi**2/2.*prefac/4./2.\n",
    "\n",
    "    np.save('../M_matrices/M31aA_%s.npy'%file_ext,[np.meshgrid(ell_),M31aA.T])\n",
    "\n",
    "    M31aA_spline = RectBivariateSpline(ell_,ell_,M31aA.T)\n",
    "    M31aA = M31aA.T"
   ]
  },
  {
   "cell_type": "code",
   "execution_count": 20,
   "metadata": {},
   "outputs": [
    {
     "name": "stdout",
     "output_type": "stream",
     "text": [
      "0\n"
     ]
    },
    {
     "name": "stderr",
     "output_type": "stream",
     "text": [
      "/global/homes/v/vboehm/.conda/envs/bccp/lib/python3.6/site-packages/ipykernel_launcher.py:34: ComplexWarning: Casting complex values to real discards the imaginary part\n"
     ]
    },
    {
     "name": "stdout",
     "output_type": "stream",
     "text": [
      "10\n",
      "20\n",
      "30\n",
      "40\n",
      "50\n",
      "60\n",
      "70\n",
      "80\n",
      "90\n",
      "100\n",
      "110\n",
      "120\n",
      "130\n",
      "140\n",
      "150\n",
      "160\n",
      "170\n",
      "180\n",
      "190\n",
      "200\n",
      "210\n",
      "220\n",
      "230\n",
      "240\n",
      "250\n",
      "260\n",
      "270\n",
      "280\n",
      "580.4984300136566\n"
     ]
    }
   ],
   "source": [
    "#getting tilde MA2 (Eq.4.5)\n",
    "try:\n",
    "    _, M13a = np.load('../M_matrices/M13a_%s.npy'%file_ext)\n",
    "    M13a_spline = RectBivariateSpline(ell_,ell_,M13a)\n",
    "except:\n",
    "    r2d, t2d = np.meshgrid(t_,t_)\n",
    "    w11, w12 = np.meshgrid(w1,w1)\n",
    "    #nu axis\n",
    "    r2d, t2d = np.expand_dims(r2d, 2), np.expand_dims(t2d, 2)\n",
    "    w11, w12 = np.expand_dims(w11, 2), np.expand_dims(w12, 2)\n",
    "\n",
    "\n",
    "    result = np.zeros((len(ell_),len(ell_)))\n",
    "\n",
    "    n = 2\n",
    "\n",
    "    begin=time.time()\n",
    "    for nn in range(len(ell_)):\n",
    "        if nn%10==0:\n",
    "            print(nn)\n",
    "\n",
    "        chi1fac0 = (lensing_kernel(r2d*chimax)*(1+z_chi(r2d*chimax))*D_chi(r2d*chimax)*clphiphi_diag[nn](r2d*chimax))\n",
    "        chi1fac0 = chi1fac0 *(r2d*chimax)**(1-(n+nu_n_.reshape(1, 1, -1)))\n",
    "\n",
    "        chi2fac00 = (galax_kernel(t2d*r2d*chimax)*D_chi(r2d*t2d*chimax))\n",
    "        chi2fac01 = (galax_kernel(1./t2d*r2d*chimax)*D_chi(r2d/t2d*chimax))\n",
    "        chi2fac01 = chi2fac01 * t2d**((n+nu_n_).reshape(1, 1, -1)-2)\n",
    "        chi2fac0  = chi2fac00 + chi2fac01\n",
    "\n",
    "        chifacs   = w11*w12*chi1fac0* chi2fac0\n",
    "\n",
    "        lmax = ell_.size\n",
    "        for ii  in range(ell_.size):        \n",
    "            result[nn][ii] = np.sum(chifacs*I2_ltrc[ii])\n",
    "\n",
    "    print(time.time()-begin)\n",
    "\n",
    "    M13a = chimax * result*1./np.pi**2/2.*prefac/4./2.\n",
    "\n",
    "    np.save('../M_matrices/M13a_%s.npy'%file_ext,[np.meshgrid(ell_),M13a.T])\n",
    "    \n",
    "    M13a_spline = RectBivariateSpline(ell_,ell_,M13a.T)\n",
    "    M13a = M13a.T"
   ]
  },
  {
   "cell_type": "code",
   "execution_count": 21,
   "metadata": {},
   "outputs": [],
   "source": [
    "#adding M13A and M31Aa\n",
    "tildeMA        = M13a+M31aA\n",
    "tildeMA_spline = RectBivariateSpline(ell_,ell_,tildeMA)"
   ]
  },
  {
   "cell_type": "code",
   "execution_count": 22,
   "metadata": {},
   "outputs": [],
   "source": [
    "# sampling for integrations\n",
    "#31 term only\n",
    "def get_31_term_only(L,L1,M):\n",
    "    return -L**4/np.pi*simps(M(L,L1)*L1**3,L1)/4."
   ]
  },
  {
   "cell_type": "code",
   "execution_count": 23,
   "metadata": {},
   "outputs": [],
   "source": [
    "phi       = np.linspace(0.,2.*np.pi,1000,endpoint=True)\n",
    "L1        = np.logspace(np.log(2),3,400)\n",
    "term31    = get_31_term_only(L1=l,L=L, M=tildeMA_spline)"
   ]
  },
  {
   "cell_type": "markdown",
   "metadata": {},
   "source": [
    "## Now that we have $M^A$ s: coding this equations\n",
    "$\\int_{\\vec{l}} [\\vec{L}\\cdot  (\\vec{L}+\\vec{l})] [\\vec{l}\\cdot (\\vec{L}+\\vec{l})]^2 [M^{A}( |\\vec{L}+\\vec{l}|,l)-\\tilde{M}^{A}(L,l)] +  \\left[\\int_{\\vec{l}} [\\vec{L}\\cdot  (\\vec{L}+\\vec{l})] [\\vec{l}\\cdot (\\vec{L}+\\vec{l})]^2-L^2[\\vec{L}\\cdot \\vec{l}]^2\\right] \\tilde{M}^{A}(L,l)$"
   ]
  },
  {
   "cell_type": "code",
   "execution_count": 24,
   "metadata": {},
   "outputs": [],
   "source": [
    "def get_regularized_sum_of_terms(L,L1,phi,M1,M2,method='trapz'):\n",
    "    nu = np.cos(phi)\n",
    "    res=[]\n",
    "    for LL in L:\n",
    "        resL1=[]\n",
    "        for LL1 in L1:\n",
    "            L_= LL*np.sqrt(1.+(LL1/LL)**2+2.*LL1/LL*nu)\n",
    "            integrand = LL1*(LL**2+LL*LL1*nu)*(LL1**2+LL*LL1*nu)**2*(M1(L_,LL1,grid=False)-M2(LL,LL1,grid=False))\n",
    "            if method =='simps':\n",
    "                resL1+=[simps(integrand,phi)]\n",
    "            elif method =='trapz':\n",
    "                resL1+=[np.trapz(integrand,phi)]\n",
    "            elif method =='sum':\n",
    "                resL1+=[np.sum(integrand*np.diff(phi)[0])]\n",
    "        res+=[simps(resL1,L1)]\n",
    "    res=np.asarray(res)/(2.*np.pi)**2\n",
    "    return res\n",
    "\n",
    "\n",
    "#numerical angular integration\n",
    "def get_second_sum_of_terms(L,L1,phi,M,method='trapz'):\n",
    "    nu = np.cos(phi)\n",
    "    res=[]\n",
    "    for LL in L:\n",
    "        resL1=[]\n",
    "        for LL1 in L1:\n",
    "            integrand =  LL1*((LL**2+LL*LL1*nu)*(LL1**2+LL*LL1*nu)**2-LL**2*(LL*LL1*nu)**2)*(M(LL,LL1,grid=False))\n",
    "            if method =='simps':\n",
    "                resL1+=[simps(integrand,phi)]\n",
    "            elif method =='trapz':\n",
    "                resL1+=[np.trapz(integrand,phi)]\n",
    "            elif method =='sum':\n",
    "                resL1+=[np.sum(integrand*np.diff(phi)[0])]\n",
    "        res+=[simps(resL1,L1)]\n",
    "    res=np.asarray(res)/(2.*np.pi)**2\n",
    "    return res"
   ]
  },
  {
   "cell_type": "code",
   "execution_count": 25,
   "metadata": {},
   "outputs": [],
   "source": [
    "# use same sampling as in Limber case\n",
    "\n",
    "# sampling for integrations\n",
    "phi = np.linspace(0.,2.*np.pi,1000,endpoint=True)"
   ]
  },
  {
   "cell_type": "code",
   "execution_count": 26,
   "metadata": {},
   "outputs": [
    {
     "name": "stdout",
     "output_type": "stream",
     "text": [
      "23.991638660430908\n"
     ]
    }
   ],
   "source": [
    "MA_spline       = M22A_spline\n",
    "tildeMA_spline  = tildeMA_spline\n",
    "try:\n",
    "    L,term1 = np.load('../output/results/term1_%s.npy'%file_ext)\n",
    "except:\n",
    "    begin = time.time()\n",
    "    term1 = get_regularized_sum_of_terms(L,l,phi,MA_spline,tildeMA_spline,method='trapz')+get_second_sum_of_terms(L,l,phi,tildeMA_spline,method='trapz')\n",
    "    print(time.time()-begin)\n",
    "\n",
    "    np.save('../output/results/term1_%s'%file_ext,[L,term1])"
   ]
  },
  {
   "cell_type": "code",
   "execution_count": 27,
   "metadata": {},
   "outputs": [
    {
     "data": {
      "text/plain": [
       "<matplotlib.legend.Legend at 0x2aaada129198>"
      ]
     },
     "execution_count": 27,
     "metadata": {},
     "output_type": "execute_result"
    },
    {
     "data": {
      "image/png": "[encoded data removed]",
      "text/plain": [
       "<Figure size 432x288 with 1 Axes>"
      ]
     },
     "metadata": {
      "needs_background": "light"
     },
     "output_type": "display_data"
    }
   ],
   "source": [
    "plt.figure()\n",
    "plt.title('post born corrections')\n",
    "plt.loglog(L,term1,label='22+31+13',color='b')\n",
    "plt.loglog(L,-term1,color='b',ls='--')\n",
    "plt.plot(L,-term31, ls='--' ,label='-(31+13)')\n",
    "plt.legend()"
   ]
  },
  {
   "cell_type": "markdown",
   "metadata": {},
   "source": [
    "# additional terms that are zero in Limber"
   ]
  },
  {
   "cell_type": "markdown",
   "metadata": {},
   "source": [
    "## Eq. 4.2"
   ]
  },
  {
   "cell_type": "code",
   "execution_count": 28,
   "metadata": {},
   "outputs": [
    {
     "name": "stdout",
     "output_type": "stream",
     "text": [
      "0\n"
     ]
    },
    {
     "name": "stderr",
     "output_type": "stream",
     "text": [
      "/global/homes/v/vboehm/.conda/envs/bccp/lib/python3.6/site-packages/ipykernel_launcher.py:42: ComplexWarning: Casting complex values to real discards the imaginary part\n"
     ]
    },
    {
     "name": "stdout",
     "output_type": "stream",
     "text": [
      "10\n",
      "20\n",
      "30\n",
      "40\n",
      "50\n",
      "60\n",
      "70\n",
      "80\n",
      "90\n",
      "Time taken =  216.66255807876587\n"
     ]
    }
   ],
   "source": [
    "# clphipsi code\n",
    "try:\n",
    "    Cl = np.load('../G_matrices/clphipsi_%s.npy'%file_ext)\n",
    "except:\n",
    "    def inner_kernel(xi, xmax):\n",
    "        return (xmax - xi)/(xmax*xi) * (xmax > xi)\n",
    "    chi2_max = chimax\n",
    "    chi1_max = chimax\n",
    "\n",
    "    r2d, t2d = np.meshgrid(t_,t_)\n",
    "    w11, w12 = np.meshgrid(w1,w1)\n",
    "    # inflate by one dimensions (nu_n)\n",
    "    r2d, t2d = np.expand_dims(r2d, 2), np.expand_dims(t2d, 2)\n",
    "    w11, w12 = np.expand_dims(w11, 2), np.expand_dims(w12, 2)\n",
    "\n",
    "\n",
    "    Cl = np.zeros((len(t_),len(ell_),len(t_)))\n",
    "\n",
    "    begin=time.time()\n",
    "\n",
    "    for jj, chi1_max in enumerate((t_*chimax)):\n",
    "        if jj%10==0:\n",
    "            print(jj)\n",
    "\n",
    "        #psi goes with chi2\n",
    "        chi1fac0 = (D_chi(r2d*chi2_max)*(1.+z_chi(r2d*chi2_max)))\n",
    "        chi1fac0 = chi1fac0 *(r2d*chi2_max)**(1-nu_n_.reshape(1, 1, -1))\n",
    "\n",
    "        # no lensing kernel, because no lensing integration of chi_2\n",
    "        chi2fac00 = (D_chi(r2d*t2d*chi2_max)*(1+z_chi(r2d*t2d*chi2_max))*inner_kernel(r2d*t2d*chi2_max, chi1_max))\n",
    "\n",
    "        chi2fac01 = (D_chi(r2d*1./t2d*chi2_max)*(1+z_chi(r2d*1./t2d*chi2_max))*inner_kernel(r2d*1./t2d*chi2_max, chi1_max))\n",
    "\n",
    "        chi2fac01 = chi2fac01 * t2d**(nu_n_.reshape(1, 1, -1)-2)\n",
    "        chi2fac0  = chi2fac00 + chi2fac01\n",
    "\n",
    "        chifacs   = w12*chi1fac0* chi2fac0\n",
    "\n",
    "        result = np.zeros((len(ell_),len(t_)))\n",
    "        lmax   = ell_.size\n",
    "        for ii  in range(ell_.size):        \n",
    "            result[ii] = np.sum(chifacs*I0_ltrc[ii], axis=(0,2)) #not summing over r\n",
    "\n",
    "        #jj is chi1 -> phi\n",
    "        Cl[jj] = result*1./np.pi**2/2.*prefac**2 #divide by two for Gauss quad and times two for phi cancel\n",
    "    # swap axes to have cl_phipsi_l(chi_max,chi)\n",
    "    Cl = np.swapaxes(Cl,0,1)\n",
    "    print('Time taken = ', time.time()-begin)\n",
    "\n",
    "    # first axis ell, second phi, third psi\n",
    "    np.save('../G_matrices/clphipsi_%s'%file_ext,Cl)\n",
    "    \n",
    "clphipsi = np.swapaxes(Cl,1,2)"
   ]
  },
  {
   "cell_type": "code",
   "execution_count": 29,
   "metadata": {},
   "outputs": [
    {
     "name": "stdout",
     "output_type": "stream",
     "text": [
      "0\n"
     ]
    },
    {
     "name": "stderr",
     "output_type": "stream",
     "text": [
      "/global/homes/v/vboehm/.conda/envs/bccp/lib/python3.6/site-packages/ipykernel_launcher.py:42: ComplexWarning: Casting complex values to real discards the imaginary part\n"
     ]
    },
    {
     "name": "stdout",
     "output_type": "stream",
     "text": [
      "10\n",
      "20\n",
      "30\n",
      "40\n",
      "50\n",
      "60\n",
      "70\n",
      "80\n",
      "90\n",
      "Time taken =  215.90883016586304\n"
     ]
    }
   ],
   "source": [
    "# clphidelta\n",
    "try:\n",
    "    cldeltaphi = np.load('../G_matrices/clphidelta_%s.npy'%file_ext)\n",
    "except:\n",
    "    \n",
    "    def inner_kernel(xi, xmax):\n",
    "        return (xmax - xi)/(xmax*xi) * (xmax > xi)\n",
    "\n",
    "    r2d, t2d = np.meshgrid(t_,t_)\n",
    "    w11, w12 = np.meshgrid(w1,w1)\n",
    "    #nu axis\n",
    "    r2d, t2d = np.expand_dims(r2d, 2), np.expand_dims(t2d, 2)\n",
    "    w11, w12 = np.expand_dims(w11, 2), np.expand_dims(w12, 2)\n",
    "\n",
    "\n",
    "    chimax2   = chimax\n",
    "\n",
    "    n = 2\n",
    "\n",
    "    Cl = np.zeros((len(t_),len(ell_),len(t_)))\n",
    "\n",
    "    begin=time.time()\n",
    "\n",
    "    for jj, chimax1 in enumerate((t_*chimax)):\n",
    "        if jj%10==0:\n",
    "            print(jj)\n",
    "\n",
    "        chi1fac0  = D_chi(r2d*chimax2)\n",
    "        chi1fac0  = chi1fac0 *(r2d*chimax2)**(1-(n+nu_n_).reshape(1, 1, -1))\n",
    "\n",
    "        chi2fac00 = (D_chi(r2d*t2d*chi2_max)*(1+z_chi(r2d*t2d*chi2_max))*inner_kernel(r2d*t2d*chi2_max, chimax1))\n",
    "\n",
    "        chi2fac01 = (inner_kernel(1./t2d*r2d*chimax2,chimax1)*D_chi(r2d*1./t2d*chimax2)*(1+z_chi(r2d*1./t2d*chimax2)))\n",
    "        chi2fac01 = chi2fac01 * t2d**((n+nu_n_).reshape(1, 1, -1)-2)\n",
    "        chi2fac0  = chi2fac00 + chi2fac01\n",
    "\n",
    "        chifacs   = w12*chi1fac0* chi2fac0\n",
    "\n",
    "        result    = np.zeros((len(ell_),len(t_)))\n",
    "        lmax = ell_.size\n",
    "        for ii  in range(ell_.size):        \n",
    "            result[ii] = np.sum(chifacs*I2_ltrc[ii],axis=(0,2))\n",
    "\n",
    "        Cl[jj] = result*1./np.pi**2/2.*prefac/2.*2\n",
    "\n",
    "    cldeltaphi = np.swapaxes(Cl,0,1)\n",
    "    print('Time taken = ', time.time()-begin)\n",
    "\n",
    "\n",
    "    # first axis ell, second phi, third delta\n",
    "    np.save('../G_matrices/clphidelta_%s'%file_ext,cldeltaphi)"
   ]
  },
  {
   "cell_type": "code",
   "execution_count": 30,
   "metadata": {},
   "outputs": [],
   "source": [
    "try:\n",
    "    _ ,M22B = np.load('../M_matrices/M22B_%s.npy'%str(file_ext))\n",
    "except:\n",
    "    kernel1 = galax_kernel\n",
    "    kernel2 = lensing_kernel\n",
    "\n",
    "    r2d, t2d = np.meshgrid(t_,t_)\n",
    "    w11, w12 = np.meshgrid(w1,w1)\n",
    "\n",
    "    result = np.zeros((len(ell_),len(ell_)))\n",
    "    for ii in range(len(ell_)):\n",
    "        for jj in range(len(ell_)):\n",
    "            result[ii][jj] = np.sum(w11*w12*chimax**2*kernel1(r2d*chimax)*kernel2(t2d*chimax)*cldeltaphi[ii]*clphipsi[jj])/4.\n",
    "\n",
    "    M22B = result\n",
    "\n",
    "    # first index is L-l, second index is l\n",
    "    np.save('../M_matrices/M22B_%s.npy'%str(file_ext),[np.meshgrid(ell_),M22B])\n",
    "\n",
    "M22B_spline = RectBivariateSpline(ell_,ell_,M22B)"
   ]
  },
  {
   "cell_type": "code",
   "execution_count": null,
   "metadata": {},
   "outputs": [],
   "source": [
    "\n"
   ]
  },
  {
   "cell_type": "code",
   "execution_count": 31,
   "metadata": {},
   "outputs": [],
   "source": [
    "#this is the term which seems to be absent in the auto\n",
    "clphipsi_diag = np.zeros((len(ell_),len(t_)))\n",
    "for ii in range(len(t_)):\n",
    "    clphipsi_diag[:,ii]=clphipsi[:,ii,ii]\n",
    "\n",
    "clphipsi_diag_blown=np.zeros((len(ell_),len(t_),len(t_)))\n",
    "for ii in range(len(t_)):\n",
    "    clphipsi_diag_blown[:,ii]=clphipsi_diag\n",
    "\n",
    "try:\n",
    "    _ , M31aB = np.load('../M_matrices/M31aB_%s.npy'%file_ext)\n",
    "except:\n",
    "    cldeltaphi=cldeltaphi.swapaxes(1,2)\n",
    "\n",
    "    kernel1 = galax_kernel\n",
    "    kernel2 = lensing_kernel\n",
    "\n",
    "    r2d, t2d = np.meshgrid(t_,t_)\n",
    "    w11, w12 = np.meshgrid(w1,w1)\n",
    "\n",
    "    result = np.zeros((len(ell_),len(ell_)))\n",
    "    for ii in range(len(ell_)):\n",
    "        for jj in range(len(ell_)):\n",
    "            result[ii][jj] = np.sum(w11*w12*kernel1(t2d*chimax)*kernel2(r2d*chimax)*clphipsi_diag_blown[jj]*cldeltaphi[ii])\n",
    "    result*=chimax**2/4.\n",
    "\n",
    "    M31aB = result\n",
    "\n",
    "    # first index is L\n",
    "    np.save('../M_matrices/M31aB_%s.npy'%file_ext,[np.meshgrid(ell_),M31aB])\n",
    "\n",
    "M31aB_spline = RectBivariateSpline(ell_,ell_,M31aB)"
   ]
  },
  {
   "cell_type": "code",
   "execution_count": 32,
   "metadata": {},
   "outputs": [],
   "source": [
    "def get_regularized_sum_of_terms_2(L,L1,phi,M1,M2,method='trapz'):\n",
    "    nu = np.cos(phi)\n",
    "    res=[]\n",
    "    for LL in L:\n",
    "        resL1=[]\n",
    "        for LL1 in L1:\n",
    "            L_= LL*np.sqrt(1.+(LL1/LL)**2-2.*LL1/LL*nu)\n",
    "            integrand = -LL*LL1*nu*(LL*LL1*nu-LL1**2)**2*LL1*(M1(L_,LL1,grid=False)-M2(LL,LL1,grid=False))\n",
    "            if method =='simps':\n",
    "                resL1+=[simps(integrand,phi)]\n",
    "            elif method =='trapz':\n",
    "                resL1+=[np.trapz(integrand,phi)]\n",
    "            elif method =='sum':\n",
    "                resL1+=[np.sum(integrand*np.diff(phi)[0])]\n",
    "        res+=[simps(resL1,L1)]\n",
    "    res=np.asarray(res)/(2.*np.pi)**2\n",
    "    return res\n",
    "\n",
    "\n",
    "#numerical angular integration\n",
    "def get_second_sum_of_terms_2(L,L1,M2,method='trapz'):\n",
    "    nu = np.cos(phi)\n",
    "    res=[]\n",
    "    for LL in L:\n",
    "        resL1=[]\n",
    "        for LL1 in L1:\n",
    "            integrand =  LL1*(((LL*LL1*nu)**2*LL1**2)-LL*LL1*nu*(LL*LL1*nu-LL1**2)**2)*(M2(LL,LL1,grid=False))\n",
    "            if method =='simps':\n",
    "                resL1+=[simps(integrand,phi)]\n",
    "            elif method =='trapz':\n",
    "                resL1+=[np.trapz(integrand,phi)]\n",
    "            elif method =='sum':\n",
    "                resL1+=[np.sum(integrand*np.diff(phi)[0])]\n",
    "        res+=[simps(resL1,L1)]\n",
    "    res=np.asarray(res)/(2.*np.pi)**2\n",
    "    return res\n"
   ]
  },
  {
   "cell_type": "code",
   "execution_count": 33,
   "metadata": {},
   "outputs": [],
   "source": [
    "try:\n",
    "    L, term2 = np.load('../output/results/term2_%s.npy'%file_ext)\n",
    "except:    \n",
    "    term2 = get_regularized_sum_of_terms_2(L,l,phi,M22B_spline,M31aB_spline,method='trapz')+get_second_sum_of_terms_2(L,l,M31aB_spline,method='trapz')\n",
    "    np.save('../output/results/term2_%s'%file_ext,[L,term2])"
   ]
  },
  {
   "cell_type": "code",
   "execution_count": null,
   "metadata": {},
   "outputs": [],
   "source": []
  },
  {
   "cell_type": "markdown",
   "metadata": {},
   "source": [
    "### 1) Non-Limber Terms Equations 4.6-4.7, these are the the 13b and 31b terms, out of which one should be much smaller for different redshifts"
   ]
  },
  {
   "cell_type": "markdown",
   "metadata": {},
   "source": [
    "#### Collecting all contributions from Eq.s 4.2-4.5 that are also non-zero in Limber\n",
    "\n",
    "Term 1:\n",
    "$2 \\int_{\\vec{l}} [\\vec{L}\\cdot \\vec{l}]^2 l^2 \\int \\mathrm{d}\\chi \\int \\mathrm{d}\\chi' W(\\chi,\\chi_{CMB}) W^h(\\chi') \\int \\mathrm{d}\\chi'' W(\\chi'',\\chi) C_l^{\\psi\\psi}(\\chi'',\\chi)   C_L^{\\delta\\phi}(\\chi',\\chi'')\\\\\n",
    "= 2 \\int_{\\vec{l}} [\\vec{L}\\cdot \\vec{l}]^2 l^2 \\int \\mathrm{d}\\chi W(\\chi,\\chi_{CMB}) \\int_0^\\chi \\mathrm{d}\\chi'' W(\\chi'',\\chi) C_l^{\\psi\\psi}(\\chi'',\\chi)   C_L^{g\\phi}(\\chi'') $\n",
    "\n",
    "\n"
   ]
  },
  {
   "cell_type": "code",
   "execution_count": 34,
   "metadata": {},
   "outputs": [
    {
     "name": "stdout",
     "output_type": "stream",
     "text": [
      "0\n"
     ]
    },
    {
     "name": "stderr",
     "output_type": "stream",
     "text": [
      "/global/homes/v/vboehm/.conda/envs/bccp/lib/python3.6/site-packages/ipykernel_launcher.py:42: ComplexWarning: Casting complex values to real discards the imaginary part\n"
     ]
    },
    {
     "name": "stdout",
     "output_type": "stream",
     "text": [
      "10\n",
      "20\n",
      "30\n",
      "40\n",
      "50\n",
      "60\n",
      "70\n",
      "80\n",
      "90\n",
      "100\n",
      "110\n",
      "120\n",
      "130\n",
      "140\n",
      "150\n",
      "160\n",
      "170\n",
      "180\n",
      "190\n",
      "200\n",
      "210\n",
      "220\n",
      "230\n",
      "240\n",
      "250\n",
      "260\n",
      "270\n",
      "280\n",
      "568.0020616054535\n"
     ]
    }
   ],
   "source": [
    "chimaxs = np.load('../G_matrices/clphigalchimaxs_%s.npy'%file_ext)\n",
    "clgphi  = np.load('../G_matrices/clphigal_%s.npy'%file_ext)\n",
    "#check if chimaxs are in correct order\n",
    "\n",
    "r2d, t2d = np.meshgrid(t_,t_)\n",
    "np.prod((chimaxs==r2d*t2d*chimax))\n",
    "\n",
    "try:\n",
    "    _, M31b = np.load('../M_matrices/M31b_%s.npy'%str(file_ext))\n",
    "except:\n",
    "    def inner_kernel(xi, xmax):\n",
    "        return (xmax - xi)/(xmax*xi)*(xmax > xi)\n",
    "    \n",
    "    r2d, t2d = np.meshgrid(t_,t_)\n",
    "    w11, w12 = np.meshgrid(w1,w1)\n",
    "    #nu axis\n",
    "    r2d, t2d = np.expand_dims(r2d, 2), np.expand_dims(t2d, 2)\n",
    "    w11, w12 = np.expand_dims(w11, 2), np.expand_dims(w12, 2)\n",
    "\n",
    "    clgphi_  = np.expand_dims(clgphi,-1)\n",
    "\n",
    "\n",
    "    result   = np.zeros((len(ell_),len(ell_)))\n",
    "\n",
    "    n = 0\n",
    "\n",
    "    begin=time.time()\n",
    "    for nn in range(len(ell_)):\n",
    "        if nn%10==0:\n",
    "            print(nn)\n",
    "        chi1fac0 = (lensing_kernel(r2d*chimax)*D_chi(r2d*chimax)*(1.+z_chi(r2d*chimax)))\n",
    "        chi1fac0 = chi1fac0 *(r2d*chimax)**(1-(n+nu_n_.reshape(1, 1, -1)))\n",
    "\n",
    "        chi2fac00 = inner_kernel(r2d*t2d*chimax,chimax*r2d)*D_chi(r2d*t2d*chimax)*(1.+z_chi(r2d*t2d*chimax))*clgphi_[nn]\n",
    "\n",
    "        chi2fac0  = chi2fac00\n",
    "\n",
    "        chifacs   = w11*w12*chi1fac0* chi2fac0\n",
    "\n",
    "        lmax = ell_.size\n",
    "        for ii  in range(ell_.size):        \n",
    "            result[nn][ii] = np.sum(chifacs*I0_ltrc[ii])\n",
    "\n",
    "    print(time.time()-begin)\n",
    "\n",
    "    #- sign from going clphidelta\n",
    "    M31b = -chimax*result*1./np.pi**2/2.*prefac**2/4.*2\n",
    "\n",
    "    #first index L, second index l\n",
    "    np.save('../M_matrices/M31b_%s.npy'%str(file_ext),[np.meshgrid(ell_),M31b])\n",
    "M31b_spline = RectBivariateSpline(ell_,ell_,M31b)\n",
    "# to do: check if l grids are correct"
   ]
  },
  {
   "cell_type": "code",
   "execution_count": 35,
   "metadata": {},
   "outputs": [],
   "source": [
    "# Eq. 5.6\n",
    "def l_integration_1(M,L,l):\n",
    "    return L**2*np.trapz(l**5*M(L,l),l)/4./np.pi\n"
   ]
  },
  {
   "cell_type": "code",
   "execution_count": 36,
   "metadata": {},
   "outputs": [],
   "source": [
    "res=[]\n",
    "for LL in L:\n",
    "    res+=[l_integration_1(M31b_spline,LL,l)]\n",
    "res = np.asarray(res)\n",
    "res = res[:,0]\n",
    "np.save('../output/results/term3_%s.npy'%file_ext,[L,res])\n",
    "term31b = res"
   ]
  },
  {
   "cell_type": "markdown",
   "metadata": {},
   "source": [
    "\n",
    "Term 2:\n",
    "$-2 \\int_{\\vec{l}} [\\vec{L}\\cdot \\vec{l}]^2 L^2 \\int \\mathrm{d}\\chi \\int \\mathrm{d}\\chi' W(\\chi,\\chi_{CMB}) W^h(\\chi') \\int_0^{\\chi'} \\mathrm{d}\\chi'' W(\\chi'',\\chi') C_L^{\\psi\\psi}(\\chi'',\\chi)   C_l^{\\delta\\phi}(\\chi',\\chi'')\\\\\n",
    "= -2 \\int_{\\vec{l}} [\\vec{L}\\cdot \\vec{l}]^2 L^2 \\int \\mathrm{d}\\chi'  W^h(\\chi') \\int_0^{\\chi'} \\mathrm{d}\\chi'' W(\\chi'',\\chi') C_L^{\\psi\\phi}(\\chi'')   C_l^{\\delta_h \\phi}(\\chi',\\chi'') $"
   ]
  },
  {
   "cell_type": "code",
   "execution_count": 37,
   "metadata": {},
   "outputs": [
    {
     "name": "stdout",
     "output_type": "stream",
     "text": [
      "(289, 100, 100)\n",
      "(289, 100, 100)\n",
      "0\n",
      "10\n",
      "20\n",
      "30\n",
      "40\n",
      "50\n",
      "60\n",
      "70\n",
      "80\n",
      "90\n",
      "100\n",
      "110\n",
      "120\n",
      "130\n",
      "140\n",
      "150\n",
      "160\n",
      "170\n",
      "180\n",
      "190\n",
      "200\n",
      "210\n",
      "220\n",
      "230\n",
      "240\n",
      "250\n",
      "260\n",
      "270\n",
      "280\n"
     ]
    }
   ],
   "source": [
    "#phi goes up to chi''\n",
    "clphidelta  = np.load('../G_matrices/clphidelta_parallel_MB2_%s.npy'%file_ext2)\n",
    "\n",
    "\n",
    "#phi goes to chi_source\n",
    "clphipsi    = np.load('../G_matrices/clpsiphi_parallel_MB2_%s.npy'%file_ext)\n",
    "\n",
    "print(clphidelta.shape)\n",
    "print(clphipsi.shape)\n",
    "\n",
    "try:\n",
    "    _, M13b = np.load('../M_matrices/M13b_%s.npy'%str(file_ext))\n",
    "    M13b_spline = RectBivariateSpline(ell_,ell_,M13b)\n",
    "except:\n",
    "    def inner_kernel(xi, xmax):\n",
    "        return (xmax - xi)/(xmax*xi)*(xmax > xi)\n",
    "\n",
    "    kernel2 = inner_kernel\n",
    "    kernel1 = galax_kernel\n",
    "\n",
    "    r2d, t2d = np.meshgrid(t_,t_)\n",
    "    w11, w12 = np.meshgrid(w1,w1)\n",
    "\n",
    "\n",
    "    result   = np.zeros((len(ell_),len(ell_)))\n",
    "\n",
    "    n = 0\n",
    "\n",
    "    begin=time.time()\n",
    "    for nn in range(len(ell_)):\n",
    "        if nn%10==0:\n",
    "            print(nn)\n",
    "        chi1fac0 = kernel1(r2d*chimax)\n",
    "        chi1fac0 = chi1fac0*(r2d*chimax)\n",
    "\n",
    "        chi2fac0 = r2d*kernel2(r2d*t2d*chimax,chimax*r2d)*clphipsi[nn]\n",
    "        chifacs  = w11*w12*chi1fac0*chi2fac0\n",
    "\n",
    "        for ii  in range(len(ell_)):        \n",
    "            result[nn][ii] = np.sum(chifacs*clphidelta[ii])\n",
    "\n",
    "    #first index is L\n",
    "    M13b = chimax**2*result/4. #chimax or chimax**2 ?\n",
    "\n",
    "    np.save('../M_matrices/M13b_%s.npy'%str(file_ext),[np.meshgrid(ell_),M13b])\n",
    "    M13b_spline = RectBivariateSpline(ell_,ell_,M13b)"
   ]
  },
  {
   "cell_type": "code",
   "execution_count": 38,
   "metadata": {},
   "outputs": [],
   "source": [
    "#all minus signs cancel\n",
    "def l_integration_2(M,L,l):\n",
    "    return L**4*np.trapz(l**3*M(L,l),l)/4./np.pi #2 went into clphipsi"
   ]
  },
  {
   "cell_type": "code",
   "execution_count": 39,
   "metadata": {},
   "outputs": [],
   "source": [
    "res=[]\n",
    "for LL in L:\n",
    "    res+=[l_integration_2(M13b_spline,LL,l)]\n",
    "res = np.asarray(res)\n",
    "res = res[:,0]\n",
    "np.save('../output/results/term4_%s.npy'%file_ext,[L,res])\n",
    "term13b = res"
   ]
  },
  {
   "cell_type": "code",
   "execution_count": 40,
   "metadata": {},
   "outputs": [
    {
     "data": {
      "text/plain": [
       "[<matplotlib.lines.Line2D at 0x2aaada5e0160>]"
      ]
     },
     "execution_count": 40,
     "metadata": {},
     "output_type": "execute_result"
    },
    {
     "data": {
      "image/png": "[encoded data removed]",
      "text/plain": [
       "<Figure size 432x288 with 1 Axes>"
      ]
     },
     "metadata": {
      "needs_background": "light"
     },
     "output_type": "display_data"
    }
   ],
   "source": [
    "plt.loglog(L,res)"
   ]
  },
  {
   "cell_type": "code",
   "execution_count": 41,
   "metadata": {},
   "outputs": [
    {
     "data": {
      "image/png": "[encoded data removed]",
      "text/plain": [
       "<Figure size 432x288 with 1 Axes>"
      ]
     },
     "metadata": {
      "needs_background": "light"
     },
     "output_type": "display_data"
    }
   ],
   "source": [
    "plt.figure()\n",
    "plt.title('Post Born terms (without Jacobian)',fontsize=14)\n",
    "p=plt.loglog(L,term1,label='$\\delta C_{L[22A]}+\\delta C_{L[13a]}+\\delta C_{L[31aA]}$',lw=2)\n",
    "plt.loglog(L,-term1,ls='--',c=p[0].get_color(),lw=2)\n",
    "plt.loglog(L,term2,label='$\\delta C_{L[22B]}+\\delta C_{L[31aB]}$',lw=2)\n",
    "plt.loglog(L,-term31b,label='$-\\delta C_{L[31b]}$',ls='--',lw=2)\n",
    "plt.loglog(L,term13b,label='$\\delta C_{L[13b]}$',ls='-',lw=2)\n",
    "plt.loglog(L,term1+term2+term31b+term13b,ls='-',c='k',lw=2,label='sum')\n",
    "plt.loglog(L,-(term1+term2+term31b+term13b),ls='--',c='k',lw=2)\n",
    "plt.legend(loc=(1.02,0.3),fontsize=16)\n",
    "plt.savefig(plotpath+'postbornterms_%s.pdf'%file_ext, bbox_inches='tight')"
   ]
  },
  {
   "cell_type": "code",
   "execution_count": 42,
   "metadata": {},
   "outputs": [
    {
     "data": {
      "image/png": "[encoded data removed]",
      "text/plain": [
       "<Figure size 432x288 with 1 Axes>"
      ]
     },
     "metadata": {
      "needs_background": "light"
     },
     "output_type": "display_data"
    }
   ],
   "source": [
    "plt.figure()\n",
    "plt.title('Post Born terms (without Jacobian)')\n",
    "plt.loglog(L,term1+term2+term31b+term13b,ls='-',c='k',lw=2,label='sum')\n",
    "plt.loglog(L,-(term1+term2+term31b+term13b),ls='--',c='k',lw=2)\n",
    "plt.plot(ell_,Cl_kg,label='signal')\n",
    "plt.legend(loc=(1.02,0.5),fontsize=14)\n",
    "plt.xlim(min(L), max(L))\n",
    "plt.savefig(plotpath+'signal_vs_corrections_%s.pdf'%file_ext, bbox_inches='tight')"
   ]
  },
  {
   "cell_type": "code",
   "execution_count": null,
   "metadata": {},
   "outputs": [],
   "source": []
  },
  {
   "cell_type": "code",
   "execution_count": null,
   "metadata": {},
   "outputs": [],
   "source": []
  },
  {
   "cell_type": "code",
   "execution_count": null,
   "metadata": {},
   "outputs": [],
   "source": []
  }
 ],
 "metadata": {
  "kernelspec": {
   "display_name": "NERSC BCCP",
   "language": "python",
   "name": "bccp"
  },
  "language_info": {
   "codemirror_mode": {
    "name": "ipython",
    "version": 3
   },
   "file_extension": ".py",
   "mimetype": "text/x-python",
   "name": "python",
   "nbconvert_exporter": "python",
   "pygments_lexer": "ipython3",
   "version": "3.6.7"
  }
 },
 "nbformat": 4,
 "nbformat_minor": 2
}
