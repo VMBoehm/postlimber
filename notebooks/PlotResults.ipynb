{
 "cells": [
  {
   "cell_type": "code",
   "execution_count": 1,
   "metadata": {},
   "outputs": [],
   "source": [
    "import numpy as np\n",
    "import matplotlib.pyplot as plt\n",
    "import sys\n",
    "import time\n",
    "from scipy.interpolate import RectBivariateSpline\n",
    "path = '../PostBornEma/'\n",
    "sys.path.append(\"../scripts/\") \n",
    "import Cosmology as Cosmo\n",
    "from lab import *"
   ]
  },
  {
   "cell_type": "code",
   "execution_count": 43,
   "metadata": {},
   "outputs": [
    {
     "name": "stdout",
     "output_type": "stream",
     "text": [
      "lsst1_deltalens_z20\n"
     ]
    }
   ],
   "source": [
    "#general settings\n",
    "LSST = True\n",
    "#if not LSST redhsift kernel\n",
    "chi0 = chi_cmb/6.\n",
    "sigma_chi = chi_cmb/14.\n",
    "bin_num = 1\n",
    "z_source = 2.\n",
    "\n",
    "\n",
    "\n",
    "if LSST:\n",
    "    if z_source==z_cmb:\n",
    "        file_ext = 'lsst%s_cmblens'%str(bin_num)\n",
    "    else:\n",
    "        file_ext = 'lsst%s_deltalens_z%d'%(str(bin_num),z_source*10)\n",
    "\n",
    "else:\n",
    "    if z_source==z_cmb:\n",
    "        file_ext = 'gaussgal_chi0%d_sigmachi%d_cmblens'%(chi0,sigma_chi)\n",
    "    else:\n",
    "        file_ext = 'gaussgal_chi0%d_sigmachi%d_deltalens_z%d'%(chi0,sigma_chi,z_source*10) \n",
    "print(file_ext)"
   ]
  },
  {
   "cell_type": "code",
   "execution_count": 44,
   "metadata": {},
   "outputs": [
    {
     "name": "stdout",
     "output_type": "stream",
     "text": [
      "using lensing survey\n"
     ]
    }
   ],
   "source": [
    "\"\"\"------------settings----------------\"\"\"\n",
    "fsky        = 0.5\n",
    "\n",
    "params      = Cosmo.EmasCosmology\n",
    "tag         = params[0]['name']\n",
    "nl          = False\n",
    "\n",
    "N0_path     ='../output/N0files/'\n",
    "spec_path   ='../output/cls/'\n",
    "path        ='../noise_curves/'\n",
    "class_cl    ='../output/ClassCls/'\n",
    "\n",
    "if z_source==z_cmb:\n",
    "    thetaFWHMarcmin = 1. #beam FWHM\n",
    "    noiseUkArcmin   = 1. #eval(sys.argv[1]) #Noise level in uKarcmin\n",
    "    l_max_T         = 3000\n",
    "    l_max_P         = 5000\n",
    "    l_min           = 50\n",
    "    L_max           = 6000 #for l integration\n",
    "    L_min           = 1\n",
    "    TCMB            = 2.7255e6\n",
    "    div             = True #divide EB by factor of 2.5\n",
    "    channel         = 'mv'\n",
    "    lens_ext        = 'CMB_S4'\n",
    "\n",
    "    if l_max_T!=l_max_P:\n",
    "        lmax='mixedlmax_%d_%d'%(l_max_T,l_max_P)\n",
    "    else:\n",
    "        lmax=str(l_max_T)\n",
    "\n",
    "    if nl:\n",
    "      nl_='_nl'\n",
    "    else:\n",
    "      nl_=''\n",
    "\n",
    "    if div:\n",
    "        print 'Dividing EB by factor 2.5!'\n",
    "        no_div='div25'\n",
    "    else:\n",
    "        no_div='nodiv'\n",
    "\n",
    "else:\n",
    "    print('using lensing survey')\n",
    "    sigma_2  = 0.26**2\n",
    "    Ngal     = 60*(180.*60./np.pi)**2\n",
    "    lens_ext = '026_60'"
   ]
  },
  {
   "cell_type": "code",
   "execution_count": 45,
   "metadata": {},
   "outputs": [],
   "source": [
    "results=[]\n",
    "for ii in range(5):\n",
    "    L, result = np.load('../output/results/term%d_%s.npy'%(ii+1,file_ext))\n",
    "    if ii>0:\n",
    "        assert(np.all(L_==L))\n",
    "    results+=[result]\n",
    "    L_ = L\n",
    "term_sum = np.sum(results,axis=0)"
   ]
  },
  {
   "cell_type": "code",
   "execution_count": 46,
   "metadata": {},
   "outputs": [],
   "source": [
    "ell, clkk = np.load(spec_path+'Clkk_%s.npy'%(file_ext))\n",
    "ell, clgg = np.load(spec_path+'Clgg_%s.npy'%(file_ext))\n",
    "ell, clkg = np.load(spec_path+'Clkg_%s.npy'%(file_ext))"
   ]
  },
  {
   "cell_type": "code",
   "execution_count": 47,
   "metadata": {},
   "outputs": [],
   "source": [
    "clkk_= np.interp(L,ell_,clkk)\n",
    "clgg_= np.interp(L,ell_,clgg)\n",
    "clkg_= np.interp(L,ell_,clkg)"
   ]
  },
  {
   "cell_type": "code",
   "execution_count": 49,
   "metadata": {},
   "outputs": [],
   "source": [
    "L, noise = np.load('../output/noise_curves/kg_noise_%s_%s.npy'%(file_ext,lens_ext))"
   ]
  },
  {
   "cell_type": "code",
   "execution_count": 51,
   "metadata": {},
   "outputs": [
    {
     "data": {
      "image/png": "[encoded data removed]",
      "text/plain": [
       "<Figure size 432x288 with 1 Axes>"
      ]
     },
     "metadata": {},
     "output_type": "display_data"
    }
   ],
   "source": [
    "fig, ax = plt.subplots(ncols=1,nrows=1)\n",
    "ax.loglog(L,clkg_, label='signal',color='crimson')\n",
    "p = ax.loglog(L,term_sum,label='post born correction',color='darkblue')\n",
    "ax.loglog(L,-term_sum,c=p[0].get_color(),ls='--')\n",
    "ax.loglog(L,noise,label='noise',color='coral')\n",
    "plt.ylabel(r'$C_L^{\\kappa g}$',fontsize=16)\n",
    "plt.xlabel('$L$',fontsize=16)\n",
    "plt.legend(fontsize=14)\n",
    "plt.savefig('../output/plots/SignalandNoise/Cls_%s_%s.pdf'%(file_ext,lens_ext),bbox_inches='tight')\n",
    "plt.show()"
   ]
  },
  {
   "cell_type": "code",
   "execution_count": null,
   "metadata": {},
   "outputs": [],
   "source": []
  }
 ],
 "metadata": {
  "kernelspec": {
   "display_name": "Python 2",
   "language": "python",
   "name": "python2"
  },
  "language_info": {
   "codemirror_mode": {
    "name": "ipython",
    "version": 2
   },
   "file_extension": ".py",
   "mimetype": "text/x-python",
   "name": "python",
   "nbconvert_exporter": "python",
   "pygments_lexer": "ipython2",
   "version": "2.7.15"
  }
 },
 "nbformat": 4,
 "nbformat_minor": 2
}
