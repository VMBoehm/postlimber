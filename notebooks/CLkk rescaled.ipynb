{
 "cells": [
  {
   "cell_type": "code",
   "execution_count": 1,
   "metadata": {},
   "outputs": [],
   "source": [
    "import numpy as np\n",
    "import matplotlib.pyplot as plt"
   ]
  },
  {
   "cell_type": "code",
   "execution_count": 2,
   "metadata": {},
   "outputs": [],
   "source": [
    "path = '/global/homes/e/ecastori/PostBorn/'"
   ]
  },
  {
   "cell_type": "code",
   "execution_count": 3,
   "metadata": {},
   "outputs": [],
   "source": [
    "data = np.loadtxt(path+'FFT_k-1Pk.dat',skiprows=2)\n",
    "\n",
    "#----------------------#\n",
    "n         = data[:,0]\n",
    "Re_c_n    = data[:,1]\n",
    "Im_c_n    = data[:,2]\n",
    "Re_nu_n   = data[:,3]\n",
    "Im_nu_n   = data[:,4]\n",
    "#----------------------#\n",
    "\n",
    "c_n  = Re_c_n  + 1j * Im_c_n\n",
    "nu_n = Re_nu_n + 1j * Im_nu_n"
   ]
  },
  {
   "cell_type": "code",
   "execution_count": 4,
   "metadata": {},
   "outputs": [],
   "source": [
    "data = np.loadtxt(path+'Il_nu_t.dat',skiprows=1)\n",
    "\n",
    "#----------------------#\n",
    "ell       = data[:,0]\n",
    "nn        = data[:,2]\n",
    "tt        = data[:,1]\n",
    "Re_I      = data[:,3]\n",
    "Im_I      = data[:,4]\n",
    "#----------------------#\n",
    "\n",
    "I_ = Re_I + 1j * Im_I"
   ]
  },
  {
   "cell_type": "code",
   "execution_count": 5,
   "metadata": {},
   "outputs": [
    {
     "name": "stdout",
     "output_type": "stream",
     "text": [
      "{'h': 0.677, 'omega_b': 0.02247, 'omega_cdm': 0.11923, 'A_s': 2.10732e-09, 'n_s': 0.96824, 'k_pivot': 0.05}\n"
     ]
    }
   ],
   "source": [
    "#cosmology\n",
    "h         = 0.6770\n",
    "omega_cdm = 0.11923\n",
    "omega_b   = 0.02247\n",
    "Omega_b   = omega_b/h**2\n",
    "Omega_cdm = omega_cdm/h**2\n",
    "Omega_m   = Omega_b+Omega_cdm\n",
    "ns        = 0.96824\n",
    "A0        = 2.10732*10**(-9)\n",
    "\n",
    "#dictionary for class\n",
    "cosmo_dict={'h': h,\n",
    "'omega_b' : omega_b,\n",
    "'omega_cdm': omega_cdm,\n",
    "'A_s'    : A0,\n",
    "'n_s'    : ns,\n",
    "'k_pivot' : 0.05}\n",
    "print(cosmo_dict)\n",
    "\n",
    "# speed of light\n",
    "c      = 299792458./1000. # km/s\n",
    "\n",
    "#prefactor for Cl_kk computation from Cl_dd\n",
    "prefac = 1.5*Omega_m*(100.)**2/c**2 #without h"
   ]
  },
  {
   "cell_type": "code",
   "execution_count": 6,
   "metadata": {},
   "outputs": [],
   "source": [
    "from classy import Class\n",
    "cosmo = Class()\n",
    "cosmo.set(cosmo_dict)\n",
    "cosmo.compute()\n",
    "cosmo_b               = cosmo.get_background()\n",
    "\n",
    "class_z               = cosmo_b['z'][::-1]\n",
    "class_chi             = cosmo_b['comov. dist.'][::-1]\n",
    "class_D               = cosmo_b['gr.fac. D'][::-1]/cosmo_b['gr.fac. D'][-1]\n",
    "\n",
    "derivParams           = cosmo.get_current_derived_parameters(['z_rec'])\n",
    "z_cmb                 = derivParams['z_rec']\n",
    "\n",
    "\n",
    "from scipy.interpolate import InterpolatedUnivariateSpline as ius\n",
    "chi_z = ius(class_z,class_chi*h)\n",
    "z_chi = ius(class_chi*h,class_z)  # Mpc/h\n",
    "D_chi = ius(class_chi*h,class_D)    # growth\n",
    "D_z   = ius(class_z,class_D)\n",
    "# chi_cmb\n",
    "chi_cmb = chi_z(z_cmb)"
   ]
  },
  {
   "cell_type": "code",
   "execution_count": 7,
   "metadata": {},
   "outputs": [
    {
     "data": {
      "image/png": "[encoded data removed]",
      "text/plain": [
       "<Figure size 432x288 with 1 Axes>"
      ]
     },
     "metadata": {
      "needs_background": "light"
     },
     "output_type": "display_data"
    },
    {
     "data": {
      "image/png": "[encoded data removed]",
      "text/plain": [
       "<Figure size 432x288 with 1 Axes>"
      ]
     },
     "metadata": {
      "needs_background": "light"
     },
     "output_type": "display_data"
    },
    {
     "data": {
      "image/png": "[encoded data removed]",
      "text/plain": [
       "<Figure size 432x288 with 1 Axes>"
      ]
     },
     "metadata": {
      "needs_background": "light"
     },
     "output_type": "display_data"
    }
   ],
   "source": [
    "z=np.linspace(0.,z_cmb,200)\n",
    "plt.figure()\n",
    "plt.plot(z,chi_z(z))\n",
    "plt.show()\n",
    "plt.figure()\n",
    "plt.plot(z,D_chi(chi_z(z)))\n",
    "plt.show()\n",
    "plt.figure()\n",
    "plt.plot(z,z_chi(chi_z(z)))\n",
    "plt.show()"
   ]
  },
  {
   "cell_type": "code",
   "execution_count": 8,
   "metadata": {},
   "outputs": [
    {
     "data": {
      "text/plain": [
       "array(0.94886666)"
      ]
     },
     "execution_count": 8,
     "metadata": {},
     "output_type": "execute_result"
    }
   ],
   "source": [
    "D_chi(chi_z(0.1))"
   ]
  },
  {
   "cell_type": "code",
   "execution_count": null,
   "metadata": {},
   "outputs": [],
   "source": []
  },
  {
   "cell_type": "code",
   "execution_count": 9,
   "metadata": {},
   "outputs": [],
   "source": [
    "def set_kernel(chi_max):\n",
    "    def kernel(chi):\n",
    "        return (1.+z_chi(chi))*D_chi(chi)\n",
    "    return kernel"
   ]
  },
  {
   "cell_type": "code",
   "execution_count": 10,
   "metadata": {},
   "outputs": [],
   "source": [
    "W = set_kernel(chi_cmb)"
   ]
  },
  {
   "cell_type": "code",
   "execution_count": 11,
   "metadata": {},
   "outputs": [
    {
     "name": "stdout",
     "output_type": "stream",
     "text": [
      "[-1.9-27.9447j   -1.9-27.6653j   -1.9-27.3858j   -1.9-27.1064j\n",
      " -1.9-26.8269j   -1.9-26.5475j   -1.9-26.268j    -1.9-25.9886j\n",
      " -1.9-25.7091j   -1.9-25.4297j   -1.9-25.1502j   -1.9-24.8708j\n",
      " -1.9-24.5913j   -1.9-24.3119j   -1.9-24.0325j   -1.9-23.753j\n",
      " -1.9-23.4736j   -1.9-23.1941j   -1.9-22.9147j   -1.9-22.6352j\n",
      " -1.9-22.3558j   -1.9-22.0763j   -1.9-21.7969j   -1.9-21.5174j\n",
      " -1.9-21.238j    -1.9-20.9585j   -1.9-20.6791j   -1.9-20.3996j\n",
      " -1.9-20.1202j   -1.9-19.8407j   -1.9-19.5613j   -1.9-19.2818j\n",
      " -1.9-19.0024j   -1.9-18.723j    -1.9-18.4435j   -1.9-18.1641j\n",
      " -1.9-17.8846j   -1.9-17.6052j   -1.9-17.3257j   -1.9-17.0463j\n",
      " -1.9-16.7668j   -1.9-16.4874j   -1.9-16.2079j   -1.9-15.9285j\n",
      " -1.9-15.649j    -1.9-15.3696j   -1.9-15.0901j   -1.9-14.8107j\n",
      " -1.9-14.5312j   -1.9-14.2518j   -1.9-13.9724j   -1.9-13.6929j\n",
      " -1.9-13.4135j   -1.9-13.134j    -1.9-12.8546j   -1.9-12.5751j\n",
      " -1.9-12.2957j   -1.9-12.0162j   -1.9-11.7368j   -1.9-11.4573j\n",
      " -1.9-11.1779j   -1.9-10.8984j   -1.9-10.619j    -1.9-10.3395j\n",
      " -1.9-10.0601j   -1.9 -9.78065j  -1.9 -9.5012j   -1.9 -9.22175j\n",
      " -1.9 -8.94231j  -1.9 -8.66286j  -1.9 -8.38341j  -1.9 -8.10397j\n",
      " -1.9 -7.82452j  -1.9 -7.54507j  -1.9 -7.26562j  -1.9 -6.98618j\n",
      " -1.9 -6.70673j  -1.9 -6.42728j  -1.9 -6.14784j  -1.9 -5.86839j\n",
      " -1.9 -5.58894j  -1.9 -5.30949j  -1.9 -5.03005j  -1.9 -4.7506j\n",
      " -1.9 -4.47115j  -1.9 -4.19171j  -1.9 -3.91226j  -1.9 -3.63281j\n",
      " -1.9 -3.35337j  -1.9 -3.07392j  -1.9 -2.79447j  -1.9 -2.51502j\n",
      " -1.9 -2.23558j  -1.9 -1.95613j  -1.9 -1.67668j  -1.9 -1.39724j\n",
      " -1.9 -1.11779j  -1.9 -0.838341j -1.9 -0.558894j -1.9 -0.279447j\n",
      " -1.9 +0.j      ]\n",
      "[   2.    3.    4.    5.    6.    7.    8.    9.   10.   11.   12.   13.\n",
      "   14.   15.   16.   17.   18.   19.   20.   21.   22.   23.   24.   25.\n",
      "   26.   27.   28.   29.   30.   31.   32.   33.   34.   35.   36.   37.\n",
      "   38.   39.   40.   41.   42.   43.   44.   45.   46.   47.   48.   49.\n",
      "   50.   51.   52.   53.   54.   55.   56.   57.   58.   59.   60.   61.\n",
      "   62.   63.   64.   65.   66.   67.   68.   69.   70.   71.   72.   73.\n",
      "   74.   75.   76.   77.   78.   79.   80.   81.   82.   83.   84.   85.\n",
      "   86.   87.   88.   89.   90.   91.   92.   93.   94.   95.   96.   97.\n",
      "   98.   99.  100.  110.  120.  130.  140.  150.  160.  170.  180.  190.\n",
      "  200.  210.  220.  230.  240.  250.  260.  270.  280.  290.  300.  310.\n",
      "  320.  330.  340.  350.  360.  370.  380.  390.  400.  410.  420.  430.\n",
      "  440.  450.  460.  470.  480.  490.  500.  510.  520.  530.  540.  550.\n",
      "  560.  570.  580.  590.  600.  610.  620.  630.  640.  650.  660.  670.\n",
      "  680.  690.  700.  710.  720.  730.  740.  750.  760.  770.  780.  790.\n",
      "  800.  810.  820.  830.  840.  850.  860.  870.  880.  890.  900.  910.\n",
      "  920.  930.  940.  950.  960.  970.  980.  990. 1000. 1010. 1020. 1030.\n",
      " 1040. 1050. 1060. 1070. 1080. 1090. 1100. 1110. 1120. 1130. 1140. 1150.\n",
      " 1160. 1170. 1180. 1190. 1200. 1210. 1220. 1230. 1240. 1250. 1260. 1270.\n",
      " 1280. 1290. 1300. 1310. 1320. 1330. 1340. 1350. 1360. 1370. 1380. 1390.\n",
      " 1400. 1410. 1420. 1430. 1440. 1450. 1460. 1470. 1480. 1490. 1500. 1510.\n",
      " 1520. 1530. 1540. 1550. 1560. 1570. 1580. 1590. 1600. 1610. 1620. 1630.\n",
      " 1640. 1650. 1660. 1670. 1680. 1690. 1700. 1710. 1720. 1730. 1740. 1750.\n",
      " 1760. 1770. 1780. 1790. 1800. 1810. 1820. 1830. 1840. 1850. 1860. 1870.\n",
      " 1880. 1890. 1900. 1910. 1920. 1930. 1940. 1950. 1960. 1970. 1980. 1990.\n",
      " 2000.]\n",
      "[0.   0.01 0.02 0.03 0.04 0.05 0.06 0.07 0.08 0.09 0.1  0.11 0.12 0.13\n",
      " 0.14 0.15 0.16 0.17 0.18 0.19 0.2  0.21 0.22 0.23 0.24 0.25 0.26 0.27\n",
      " 0.28 0.29 0.3  0.31 0.32 0.33 0.34 0.35 0.36 0.37 0.38 0.39 0.4  0.41\n",
      " 0.42 0.43 0.44 0.45 0.46 0.47 0.48 0.49 0.5  0.51 0.52 0.53 0.54 0.55\n",
      " 0.56 0.57 0.58 0.59 0.6  0.61 0.62 0.63 0.64 0.65 0.66 0.67 0.68 0.69\n",
      " 0.7  0.71 0.72 0.73 0.74 0.75 0.76 0.77 0.78 0.79 0.8  0.81 0.82 0.83\n",
      " 0.84 0.85 0.86 0.87 0.88 0.89 0.9  0.91 0.92 0.93 0.94 0.95 0.96 0.97\n",
      " 0.98 0.99 1.  ]\n",
      "101 101 101 101\n",
      "2948089 2948089\n"
     ]
    }
   ],
   "source": [
    "ell_ = np.unique(ell)\n",
    "nu_n_= np.unique(nu_n) \n",
    "print(nu_n_)\n",
    "print(ell_)\n",
    "print(np.unique(tt))\n",
    "t_=np.unique(tt)\n",
    "print(len(nu_n_),len(n),len(c_n),len(t_))\n",
    "print(len(tt),len(I_))"
   ]
  },
  {
   "cell_type": "code",
   "execution_count": 12,
   "metadata": {},
   "outputs": [
    {
     "name": "stdout",
     "output_type": "stream",
     "text": [
      "0 2.0\n"
     ]
    },
    {
     "name": "stderr",
     "output_type": "stream",
     "text": [
      "/global/homes/v/vboehm/.conda/envs/bccp/lib/python3.6/site-packages/ipykernel_launcher.py:9: RuntimeWarning: invalid value encountered in power\n",
      "  if __name__ == '__main__':\n"
     ]
    },
    {
     "name": "stdout",
     "output_type": "stream",
     "text": [
      "1 3.0\n",
      "2 4.0\n",
      "3 5.0\n",
      "4 6.0\n",
      "5 7.0\n",
      "6 8.0\n",
      "7 9.0\n",
      "8 10.0\n",
      "9 11.0\n",
      "10 12.0\n",
      "11 13.0\n",
      "12 14.0\n",
      "13 15.0\n",
      "14 16.0\n",
      "15 17.0\n",
      "16 18.0\n",
      "17 19.0\n",
      "18 20.0\n",
      "19 21.0\n",
      "20 22.0\n",
      "21 23.0\n",
      "22 24.0\n",
      "23 25.0\n",
      "24 26.0\n",
      "25 27.0\n",
      "26 28.0\n",
      "27 29.0\n",
      "28 30.0\n",
      "29 31.0\n",
      "30 32.0\n",
      "31 33.0\n",
      "32 34.0\n",
      "33 35.0\n",
      "34 36.0\n",
      "35 37.0\n",
      "36 38.0\n",
      "37 39.0\n",
      "38 40.0\n",
      "39 41.0\n",
      "40 42.0\n",
      "41 43.0\n",
      "42 44.0\n",
      "43 45.0\n",
      "44 46.0\n",
      "45 47.0\n",
      "46 48.0\n",
      "47 49.0\n",
      "48 50.0\n",
      "49 51.0\n",
      "50 52.0\n",
      "51 53.0\n",
      "52 54.0\n",
      "53 55.0\n",
      "54 56.0\n",
      "55 57.0\n",
      "56 58.0\n",
      "57 59.0\n",
      "58 60.0\n",
      "59 61.0\n",
      "60 62.0\n",
      "61 63.0\n",
      "62 64.0\n",
      "63 65.0\n",
      "64 66.0\n",
      "65 67.0\n",
      "66 68.0\n",
      "67 69.0\n",
      "68 70.0\n",
      "69 71.0\n",
      "70 72.0\n",
      "71 73.0\n",
      "72 74.0\n",
      "73 75.0\n",
      "74 76.0\n",
      "75 77.0\n",
      "76 78.0\n",
      "77 79.0\n",
      "78 80.0\n",
      "79 81.0\n",
      "80 82.0\n",
      "81 83.0\n",
      "82 84.0\n",
      "83 85.0\n",
      "84 86.0\n",
      "85 87.0\n",
      "86 88.0\n",
      "87 89.0\n",
      "88 90.0\n",
      "89 91.0\n",
      "90 92.0\n",
      "91 93.0\n",
      "92 94.0\n",
      "93 95.0\n",
      "94 96.0\n",
      "95 97.0\n",
      "96 98.0\n",
      "97 99.0\n",
      "98 100.0\n",
      "99 110.0\n",
      "100 120.0\n",
      "101 130.0\n",
      "102 140.0\n",
      "103 150.0\n",
      "104 160.0\n",
      "105 170.0\n",
      "106 180.0\n",
      "107 190.0\n",
      "108 200.0\n",
      "109 210.0\n",
      "110 220.0\n",
      "111 230.0\n",
      "112 240.0\n",
      "113 250.0\n",
      "114 260.0\n",
      "115 270.0\n",
      "116 280.0\n",
      "117 290.0\n",
      "118 300.0\n",
      "119 310.0\n",
      "120 320.0\n",
      "121 330.0\n",
      "122 340.0\n",
      "123 350.0\n",
      "124 360.0\n",
      "125 370.0\n",
      "126 380.0\n",
      "127 390.0\n",
      "128 400.0\n",
      "129 410.0\n",
      "130 420.0\n",
      "131 430.0\n",
      "132 440.0\n",
      "133 450.0\n",
      "134 460.0\n",
      "135 470.0\n",
      "136 480.0\n",
      "137 490.0\n",
      "138 500.0\n",
      "139 510.0\n",
      "140 520.0\n",
      "141 530.0\n",
      "142 540.0\n",
      "143 550.0\n",
      "144 560.0\n",
      "145 570.0\n",
      "146 580.0\n",
      "147 590.0\n",
      "148 600.0\n",
      "149 610.0\n",
      "150 620.0\n",
      "151 630.0\n",
      "152 640.0\n",
      "153 650.0\n",
      "154 660.0\n",
      "155 670.0\n",
      "156 680.0\n",
      "157 690.0\n",
      "158 700.0\n",
      "159 710.0\n",
      "160 720.0\n",
      "161 730.0\n",
      "162 740.0\n",
      "163 750.0\n",
      "164 760.0\n",
      "165 770.0\n",
      "166 780.0\n",
      "167 790.0\n",
      "168 800.0\n",
      "169 810.0\n",
      "170 820.0\n",
      "171 830.0\n",
      "172 840.0\n",
      "173 850.0\n",
      "174 860.0\n",
      "175 870.0\n",
      "176 880.0\n",
      "177 890.0\n",
      "178 900.0\n",
      "179 910.0\n",
      "180 920.0\n",
      "181 930.0\n",
      "182 940.0\n",
      "183 950.0\n",
      "184 960.0\n",
      "185 970.0\n",
      "186 980.0\n",
      "187 990.0\n",
      "188 1000.0\n",
      "189 1010.0\n",
      "190 1020.0\n",
      "191 1030.0\n",
      "192 1040.0\n",
      "193 1050.0\n",
      "194 1060.0\n",
      "195 1070.0\n",
      "196 1080.0\n",
      "197 1090.0\n",
      "198 1100.0\n",
      "199 1110.0\n",
      "200 1120.0\n",
      "201 1130.0\n",
      "202 1140.0\n",
      "203 1150.0\n",
      "204 1160.0\n",
      "205 1170.0\n",
      "206 1180.0\n",
      "207 1190.0\n",
      "208 1200.0\n",
      "209 1210.0\n",
      "210 1220.0\n",
      "211 1230.0\n",
      "212 1240.0\n",
      "213 1250.0\n",
      "214 1260.0\n",
      "215 1270.0\n",
      "216 1280.0\n",
      "217 1290.0\n",
      "218 1300.0\n",
      "219 1310.0\n",
      "220 1320.0\n",
      "221 1330.0\n",
      "222 1340.0\n",
      "223 1350.0\n",
      "224 1360.0\n",
      "225 1370.0\n",
      "226 1380.0\n",
      "227 1390.0\n",
      "228 1400.0\n",
      "229 1410.0\n",
      "230 1420.0\n",
      "231 1430.0\n",
      "232 1440.0\n",
      "233 1450.0\n",
      "234 1460.0\n",
      "235 1470.0\n",
      "236 1480.0\n",
      "237 1490.0\n",
      "238 1500.0\n",
      "239 1510.0\n",
      "240 1520.0\n",
      "241 1530.0\n",
      "242 1540.0\n",
      "243 1550.0\n",
      "244 1560.0\n",
      "245 1570.0\n",
      "246 1580.0\n",
      "247 1590.0\n",
      "248 1600.0\n",
      "249 1610.0\n",
      "250 1620.0\n",
      "251 1630.0\n",
      "252 1640.0\n",
      "253 1650.0\n",
      "254 1660.0\n",
      "255 1670.0\n",
      "256 1680.0\n",
      "257 1690.0\n",
      "258 1700.0\n",
      "259 1710.0\n",
      "260 1720.0\n",
      "261 1730.0\n",
      "262 1740.0\n",
      "263 1750.0\n",
      "264 1760.0\n",
      "265 1770.0\n",
      "266 1780.0\n",
      "267 1790.0\n",
      "268 1800.0\n",
      "269 1810.0\n",
      "270 1820.0\n",
      "271 1830.0\n",
      "272 1840.0\n",
      "273 1850.0\n",
      "274 1860.0\n",
      "275 1870.0\n",
      "276 1880.0\n",
      "277 1890.0\n",
      "278 1900.0\n",
      "279 1910.0\n",
      "280 1920.0\n",
      "281 1930.0\n",
      "282 1940.0\n",
      "283 1950.0\n",
      "284 1960.0\n",
      "285 1970.0\n",
      "286 1980.0\n",
      "287 1990.0\n",
      "288 2000.0\n"
     ]
    }
   ],
   "source": [
    "nu=nu_n_\n",
    "\n",
    "res=[]\n",
    "m = 0\n",
    "for ii,ll in enumerate(ell_):\n",
    "    print(ii,ll)\n",
    "    for t in t_:\n",
    "        for r in t_:\n",
    "            res+=[np.real(sum(I_[m:m+len(n)][0:-1]*c_n[0:-1]*2.*(chi_cmb*r)**(-nu[0:-1]))+I_[m:m+len(n)][-1]*c_n[-1]*(chi_cmb*r)**(-nu[-1]))]\n",
    "        m+=len(n)\n",
    "assert(m==len(I_))\n",
    "\n"
   ]
  },
  {
   "cell_type": "code",
   "execution_count": 13,
   "metadata": {},
   "outputs": [
    {
     "data": {
      "text/plain": [
       "2948089"
      ]
     },
     "execution_count": 13,
     "metadata": {},
     "output_type": "execute_result"
    }
   ],
   "source": [
    "m"
   ]
  },
  {
   "cell_type": "code",
   "execution_count": 14,
   "metadata": {},
   "outputs": [],
   "source": [
    "res=np.asarray(res)"
   ]
  },
  {
   "cell_type": "code",
   "execution_count": 15,
   "metadata": {},
   "outputs": [],
   "source": [
    "# m = 0\n",
    "# r=0.02\n",
    "\n",
    "# for ii,ll in enumerate(ell_):\n",
    "#         print(ii,ll)\n",
    "#         for jj,t in enumerate(t_[0:4]):\n",
    "#             print('t',t)\n",
    "#             print(np.real(sum(I_[ii*len(t_)+jj:ii*len(t_)+jj+len(n)][0:-1]*c_n[0:-1]*2.*(chi_cmb*r)**(-nu[0:-1]))+I_[m:m+len(n)][-1]*c_n[-1]*(chi_cmb*r)**(-nu[-1])))\n",
    "#             m+=len(n)"
   ]
  },
  {
   "cell_type": "code",
   "execution_count": 16,
   "metadata": {},
   "outputs": [
    {
     "data": {
      "text/plain": [
       "(35499602.44445645+0j)"
      ]
     },
     "execution_count": 16,
     "metadata": {},
     "output_type": "execute_result"
    }
   ],
   "source": [
    "(chi_cmb*r)**(-nu[-1])"
   ]
  },
  {
   "cell_type": "code",
   "execution_count": 17,
   "metadata": {},
   "outputs": [
    {
     "data": {
      "text/plain": [
       "array([ 2.71704e-02,  4.39959e-02,  2.97611e-02,  1.25405e-02,\n",
       "       -6.59950e-03, -2.63014e-02, -4.48783e-02, -6.04709e-02,\n",
       "       -7.12008e-02, -7.52529e-02, -7.11193e-02, -5.80787e-02,\n",
       "       -3.65778e-02, -8.16360e-03,  2.47916e-02,  5.89685e-02,\n",
       "        8.97352e-02,  1.11465e-01,  1.18834e-01,  1.08242e-01,\n",
       "        7.86659e-02,  3.21836e-02, -2.55783e-02, -8.55578e-02,\n",
       "       -1.36503e-01, -1.67182e-01, -1.68866e-01, -1.37527e-01,\n",
       "       -7.55254e-02,  7.62463e-03,  9.62004e-02,  1.71228e-01,\n",
       "        2.14648e-01,  2.13501e-01,  1.63488e-01,  7.13340e-02,\n",
       "       -4.52332e-02, -1.60520e-01, -2.46228e-01, -2.77942e-01,\n",
       "       -2.41678e-01, -1.39081e-01,  1.05691e-02,  1.72815e-01,\n",
       "        3.04971e-01,  3.66438e-01,  3.30463e-01,  1.94548e-01,\n",
       "       -1.41040e-02, -2.41476e-01, -4.19079e-01, -4.83575e-01,\n",
       "       -3.98805e-01, -1.73377e-01,  1.33788e-01,  4.25338e-01,\n",
       "        5.94501e-01,  5.63734e-01,  3.19920e-01, -6.89663e-02,\n",
       "       -4.67212e-01, -7.15947e-01, -6.96001e-01, -3.84980e-01,\n",
       "        1.17546e-01,  6.14134e-01,  8.82264e-01,  7.72832e-01,\n",
       "        2.93191e-01, -3.69385e-01, -9.09214e-01, -1.03707e+00,\n",
       "       -6.35296e-01,  1.45679e-01,  9.19146e-01,  1.23869e+00,\n",
       "        8.53877e-01, -9.23090e-02, -1.07057e+00, -1.43543e+00,\n",
       "       -8.50768e-01,  3.93245e-01,  1.45387e+00,  1.47577e+00,\n",
       "        3.04553e-01, -1.20030e+00, -1.70639e+00, -6.15986e-01,\n",
       "        1.05825e+00,  1.34965e+00, -3.77711e-01, -1.55052e+00,\n",
       "        1.79844e+00,  8.70359e+00,  8.42733e+00, -1.19857e+01,\n",
       "       -4.62034e+01, -5.70446e+01, -8.12679e+00,  7.84552e+01,\n",
       "        1.23019e+02])"
      ]
     },
     "execution_count": 17,
     "metadata": {},
     "output_type": "execute_result"
    }
   ],
   "source": [
    "np.real(c_n)"
   ]
  },
  {
   "cell_type": "code",
   "execution_count": 18,
   "metadata": {},
   "outputs": [
    {
     "name": "stdout",
     "output_type": "stream",
     "text": [
      "[nan  0.  0.  0.  0.  0.  0.  0.  0.  0.  0.  0.  0.  0.  0.  0.  0.  0.\n",
      "  0.  0.  0.  0.  0.  0.  0.  0.  0.  0.  0.  0.  0.  0.  0.  0.  0.  0.\n",
      "  0.  0.  0.  0.  0.  0.  0.  0.  0.  0.  0.  0.  0.  0.  0.  0.  0.  0.\n",
      "  0.  0.  0.  0.  0.  0.  0.  0.  0.  0.  0.  0.  0.  0.  0.  0.  0.  0.\n",
      "  0.  0.  0.  0.  0.  0.  0.  0.  0.  0.  0.  0.  0.  0.  0.  0.  0.  0.\n",
      "  0.  0.  0.  0.  0.  0.  0.  0.  0.  0.]\n"
     ]
    }
   ],
   "source": [
    "print(np.real(res[0:100]))"
   ]
  },
  {
   "cell_type": "code",
   "execution_count": 38,
   "metadata": {},
   "outputs": [
    {
     "name": "stderr",
     "output_type": "stream",
     "text": [
      "/global/homes/v/vboehm/.conda/envs/bccp/lib/python3.6/site-packages/ipykernel_launcher.py:11: RuntimeWarning: divide by zero encountered in double_scalars\n",
      "  # This is added back by InteractiveShellApp.init_path()\n",
      "/global/homes/v/vboehm/.conda/envs/bccp/lib/python3.6/site-packages/ipykernel_launcher.py:11: RuntimeWarning: invalid value encountered in double_scalars\n",
      "  # This is added back by InteractiveShellApp.init_path()\n",
      "/global/homes/v/vboehm/.conda/envs/bccp/lib/python3.6/site-packages/numpy/core/numeric.py:501: ComplexWarning: Casting complex values to real discards the imaginary part\n",
      "  return array(a, dtype, copy=False, order=order)\n"
     ]
    },
    {
     "data": {
      "image/png": "[encoded data removed]",
      "text/plain": [
       "<Figure size 432x288 with 1 Axes>"
      ]
     },
     "metadata": {
      "needs_background": "light"
     },
     "output_type": "display_data"
    }
   ],
   "source": [
    "from scipy.integrate import simps, quadrature\n",
    "from scipy.interpolate import interp1d\n",
    "m=0\n",
    "result=[]\n",
    "for ii,ll in enumerate(ell_):\n",
    "    res_=[]\n",
    "    for t in t_:\n",
    "        \n",
    "        integrand=[]\n",
    "        for r in t_:\n",
    "            integrand+=[W(t*r*chi_cmb)*(1.-r*t)/t*(1.-r)/r*res[m]]\n",
    "\n",
    "            \n",
    "            m+=1\n",
    "        integrand[0] = 0.+1j*0.\n",
    "        #integrand = interp1d(t_,integrand,kind='cubic')\n",
    "        res_+=[simps(integrand,t_)]#quadrature(integrand,min(t_),max(t_))[0]]\n",
    "    #print(res_)\n",
    "        # for every n do r integral\n",
    "    integrand = np.asarray(res_)*W(t_*chi_cmb)\n",
    "    if ll==200. or ll==3.:\n",
    "        plt.plot(t_,integrand,marker='o',ls='')\n",
    "    \n",
    "    integrand[0] = 0.+1j*0.\n",
    "    #integrand = interp1d(t_,integrand,kind='cubic')\n",
    "    result+=[simps(integrand,t_)]#min(t_),max(t_))[0]]\n",
    "        "
   ]
  },
  {
   "cell_type": "code",
   "execution_count": 39,
   "metadata": {},
   "outputs": [
    {
     "name": "stdout",
     "output_type": "stream",
     "text": [
      "[9.82816751e-09 2.99626098e-09 1.24448336e-09 6.16302028e-10\n",
      " 3.42173510e-10 2.06134227e-10 1.32075193e-10 8.87683134e-11\n",
      " 6.19641890e-11 4.46063903e-11 3.29470618e-11 2.48739947e-11\n",
      " 1.91361462e-11 1.49640977e-11 1.18697625e-11 9.53483656e-12\n",
      " 7.74575788e-12 6.35594452e-12 5.26279613e-12 4.39324322e-12\n",
      " 3.69458608e-12 3.12819347e-12 2.66527229e-12 2.28410642e-12\n",
      " 1.96810487e-12 1.70442126e-12 1.48304622e-12 1.29610254e-12\n",
      " 1.13736015e-12 1.00185185e-12 8.85611405e-13 7.85425544e-13\n",
      " 6.98725027e-13 6.23396222e-13 5.57714279e-13 5.00253950e-13\n",
      " 4.49831078e-13 4.05466246e-13 3.66315015e-13 3.31678216e-13\n",
      " 3.00941958e-13 2.73613089e-13 2.49249306e-13 2.27470457e-13\n",
      " 2.07964913e-13 1.90451469e-13 1.74694357e-13 1.60488313e-13\n",
      " 1.47650672e-13 1.36033061e-13 1.25500852e-13 1.15932191e-13\n",
      " 1.07229180e-13 9.93001602e-14 9.20629057e-14 8.54531207e-14\n",
      " 7.94046506e-14 7.38637911e-14 6.87816545e-14 6.41137714e-14\n",
      " 5.98204993e-14 5.58682479e-14 5.22256180e-14 4.88643286e-14\n",
      " 4.57583133e-14 4.28859887e-14 4.02268577e-14 3.77628224e-14\n",
      " 3.54761490e-14 3.33533436e-14 3.13807881e-14 2.95461431e-14\n",
      " 2.78380697e-14 2.62463423e-14 2.47622515e-14 2.33776628e-14\n",
      " 2.20842162e-14 2.08754026e-14 1.97444043e-14 1.86858837e-14\n",
      " 1.76944825e-14 1.67652186e-14 1.58934093e-14 1.50749823e-14\n",
      " 1.43060234e-14 1.35832408e-14 1.29034118e-14 1.22636189e-14\n",
      " 1.16610243e-14 1.10931710e-14 1.05577547e-14 1.00526418e-14\n",
      " 9.57571845e-15 9.12542673e-15 8.70013821e-15 8.29804633e-15\n",
      " 7.91780915e-15 7.55804572e-15 7.21749557e-15 4.64609445e-15\n",
      " 3.09119463e-15 2.11417473e-15 1.48114742e-15 1.06007160e-15\n",
      " 7.72980270e-16 5.72965495e-16 4.31012386e-16 3.28610209e-16\n",
      " 2.53617897e-16 1.97908465e-16 1.55977463e-16 1.24072613e-16\n",
      " 9.95400574e-17 8.04902514e-17 6.55641816e-17 5.37723760e-17\n",
      " 4.43817743e-17 3.68484641e-17 3.07651863e-17 2.58214793e-17\n",
      " 2.17804742e-17 1.84582864e-17 1.57134841e-17 1.34337940e-17\n",
      " 1.15314285e-17 9.93678344e-18 8.59447399e-18 7.46041284e-18\n",
      " 6.49775390e-18 5.67824138e-18 4.97780670e-18 4.37720969e-18\n",
      " 3.86058272e-18 3.41495224e-18 3.02925147e-18 2.69440015e-18\n",
      " 2.40287055e-18 2.14836865e-18 1.92559811e-18 1.73009804e-18\n",
      " 1.55809681e-18 1.40639246e-18 1.27227424e-18 1.15341446e-18\n",
      " 1.04783547e-18 9.53843753e-19 8.69980708e-19 7.95008817e-19\n",
      " 7.27827774e-19 6.67505535e-19 6.13235083e-19 5.64318243e-19\n",
      " 5.20106589e-19 4.80116607e-19 4.43883882e-19 4.10983834e-19\n",
      " 3.81054908e-19 3.53780273e-19 3.28881656e-19 3.06115080e-19\n",
      " 2.85265259e-19 2.66141675e-19 2.48575388e-19 2.32416479e-19\n",
      " 2.17531503e-19 2.03801579e-19 1.91120630e-19 1.79393896e-19\n",
      " 1.68535873e-19 1.58470761e-19 1.49129929e-19 1.40451713e-19\n",
      " 1.32380481e-19 1.24866054e-19 1.17863102e-19 1.11330615e-19\n",
      " 1.05231351e-19 9.95316235e-20 9.42004919e-20 8.92101085e-20\n",
      " 8.45349161e-20 8.01517154e-20 7.60392933e-20 7.21778508e-20\n",
      " 6.85497927e-20 6.51386867e-20 6.19303446e-20 5.89079773e-20\n",
      " 5.60620440e-20 5.33794030e-20 5.08491691e-20 4.84613385e-20\n",
      " 4.62072550e-20 4.40771690e-20 4.20638037e-20 4.01598396e-20\n",
      " 3.83608291e-20 3.66531403e-20 3.50376482e-20 3.35065798e-20\n",
      " 3.20549113e-20 3.06778451e-20 2.93707958e-20 2.81302763e-20\n",
      " 2.69513263e-20 2.58312534e-20 2.47724371e-20 2.37557319e-20\n",
      " 2.27918615e-20 2.18750523e-20 2.10021747e-20 2.01672195e-20\n",
      " 1.93758364e-20 1.86150138e-20 1.78881028e-20 1.72006983e-20\n",
      " 1.65426415e-20 1.59152295e-20 1.53171917e-20 1.47455092e-20\n",
      " 1.41990495e-20 1.36766527e-20 1.31768433e-20 1.26983712e-20\n",
      " 1.22404236e-20 1.18018582e-20 1.13817580e-20 1.09792529e-20\n",
      " 1.05934875e-20 1.02236690e-20 9.86903041e-21 9.52886317e-21\n",
      " 9.20248614e-21 8.88925645e-21 8.58856413e-21 8.29983561e-21\n",
      " 8.02252423e-21 7.75610934e-21 7.50010378e-21 7.25403921e-21\n",
      " 7.01747286e-21 6.78998701e-21 6.57118138e-21 6.36067635e-21\n",
      " 6.15811239e-21 5.96314554e-21 5.77544981e-21 5.59471501e-21\n",
      " 5.42064502e-21 5.25295847e-21 5.09138692e-21 4.93567501e-21\n",
      " 4.78557825e-21 4.64086550e-21 4.50131411e-21 4.36671370e-21\n",
      " 4.23686123e-21 4.11156531e-21 3.99064134e-21 3.87391443e-21\n",
      " 3.76121662e-21 3.65238791e-21 3.54727542e-21 3.44573277e-21\n",
      " 3.34762034e-21 3.25280458e-21 3.16115765e-21 3.07255741e-21\n",
      " 2.98688710e-21 2.90403473e-21 2.82389344e-21 2.74636075e-21\n",
      " 2.67133865e-21 2.59873325e-21 2.52845464e-21 2.46041677e-21\n",
      " 2.39453712e-21 2.33073660e-21 2.26893957e-21 2.20907325e-21\n",
      " 2.15106814e-21 2.09485739e-21 2.04037697e-21 1.98756545e-21\n",
      " 1.93636387e-21 1.88671558e-21 1.83856639e-21 1.79186412e-21\n",
      " 1.74655857e-21]\n"
     ]
    }
   ],
   "source": [
    "Cl=np.real(np.asarray(result))*4./np.pi**2*prefac**2\n",
    "print(Cl)"
   ]
  },
  {
   "cell_type": "code",
   "execution_count": 40,
   "metadata": {},
   "outputs": [
    {
     "data": {
      "text/plain": [
       "(2, 500)"
      ]
     },
     "execution_count": 40,
     "metadata": {},
     "output_type": "execute_result"
    },
    {
     "data": {
      "image/png": "[encoded data removed]",
      "text/plain": [
       "<Figure size 432x288 with 1 Axes>"
      ]
     },
     "metadata": {
      "needs_background": "light"
     },
     "output_type": "display_data"
    }
   ],
   "source": [
    "plt.figure()\n",
    "plt.loglog(ell_,1/4.*(ell_*(ell_+1.))**2*Cl)\n",
    "plt.xlim(2,500)"
   ]
  },
  {
   "cell_type": "code",
   "execution_count": 50,
   "metadata": {},
   "outputs": [],
   "source": [
    "cosmo = Class()\n",
    "\n",
    "cosmo_dict={'h': h,\n",
    "'omega_b' : omega_b,\n",
    "'omega_cdm': omega_cdm,\n",
    "'A_s'    : A0,\n",
    "'n_s'    : ns,\n",
    "'k_pivot' : 0.05}\n",
    "cosmo_dict['output']='lCl, tCl'\n",
    "cosmo_dict['l_max_scalars']=2000\n",
    "cosmo_dict['lensing']='yes'\n",
    "cosmo_dict['l_switch_limber']=100\n",
    "cosmo_dict['perturb_sampling_stepsize']=0.01\n",
    "\n",
    "cosmo.set(cosmo_dict)\n",
    "cosmo.compute()\n",
    "cllen= cosmo.lensed_cl(lmax=1000)\n",
    "ll = cllen['ell']\n",
    "clpp = cllen['pp']"
   ]
  },
  {
   "cell_type": "code",
   "execution_count": null,
   "metadata": {},
   "outputs": [],
   "source": []
  },
  {
   "cell_type": "code",
   "execution_count": null,
   "metadata": {},
   "outputs": [],
   "source": []
  },
  {
   "cell_type": "code",
   "execution_count": 51,
   "metadata": {},
   "outputs": [],
   "source": [
    "data=np.loadtxt(path+'Cell_marko.dat')\n",
    "cl = data[:,1]\n",
    "\n",
    "ls = data[:,0]\n"
   ]
  },
  {
   "cell_type": "code",
   "execution_count": 52,
   "metadata": {},
   "outputs": [
    {
     "data": {
      "text/plain": [
       "[<matplotlib.lines.Line2D at 0x2b80fa9b4518>]"
      ]
     },
     "execution_count": 52,
     "metadata": {},
     "output_type": "execute_result"
    },
    {
     "data": {
      "image/png": "[encoded data removed]",
      "text/plain": [
       "<Figure size 432x288 with 1 Axes>"
      ]
     },
     "metadata": {
      "needs_background": "light"
     },
     "output_type": "display_data"
    }
   ],
   "source": [
    "plt.figure()\n",
    "plt.loglog(ell_,Cl)\n",
    "plt.loglog(ll,clpp)\n",
    "plt.loglog(ls,cl)"
   ]
  },
  {
   "cell_type": "code",
   "execution_count": 53,
   "metadata": {},
   "outputs": [
    {
     "data": {
      "text/plain": [
       "array([9.82816751e-09, 2.99626098e-09, 1.24448336e-09, 6.16302028e-10,\n",
       "       3.42173510e-10, 2.06134227e-10, 1.32075193e-10, 8.87683134e-11,\n",
       "       6.19641890e-11, 4.46063903e-11, 3.29470618e-11, 2.48739947e-11,\n",
       "       1.91361462e-11, 1.49640977e-11, 1.18697625e-11, 9.53483656e-12,\n",
       "       7.74575788e-12, 6.35594452e-12, 5.26279613e-12, 4.39324322e-12,\n",
       "       3.69458608e-12, 3.12819347e-12, 2.66527229e-12, 2.28410642e-12,\n",
       "       1.96810487e-12, 1.70442126e-12, 1.48304622e-12, 1.29610254e-12,\n",
       "       1.13736015e-12, 1.00185185e-12, 8.85611405e-13, 7.85425544e-13,\n",
       "       6.98725027e-13, 6.23396222e-13, 5.57714279e-13, 5.00253950e-13,\n",
       "       4.49831078e-13, 4.05466246e-13, 3.66315015e-13, 3.31678216e-13,\n",
       "       3.00941958e-13, 2.73613089e-13, 2.49249306e-13, 2.27470457e-13,\n",
       "       2.07964913e-13, 1.90451469e-13, 1.74694357e-13, 1.60488313e-13,\n",
       "       1.47650672e-13, 1.36033061e-13, 1.25500852e-13, 1.15932191e-13,\n",
       "       1.07229180e-13, 9.93001602e-14, 9.20629057e-14, 8.54531207e-14,\n",
       "       7.94046506e-14, 7.38637911e-14, 6.87816545e-14, 6.41137714e-14,\n",
       "       5.98204993e-14, 5.58682479e-14, 5.22256180e-14, 4.88643286e-14,\n",
       "       4.57583133e-14, 4.28859887e-14, 4.02268577e-14, 3.77628224e-14,\n",
       "       3.54761490e-14, 3.33533436e-14, 3.13807881e-14, 2.95461431e-14,\n",
       "       2.78380697e-14, 2.62463423e-14, 2.47622515e-14, 2.33776628e-14,\n",
       "       2.20842162e-14, 2.08754026e-14, 1.97444043e-14, 1.86858837e-14,\n",
       "       1.76944825e-14, 1.67652186e-14, 1.58934093e-14, 1.50749823e-14,\n",
       "       1.43060234e-14, 1.35832408e-14, 1.29034118e-14, 1.22636189e-14,\n",
       "       1.16610243e-14, 1.10931710e-14, 1.05577547e-14, 1.00526418e-14,\n",
       "       9.57571845e-15, 9.12542673e-15, 8.70013821e-15, 8.29804633e-15,\n",
       "       7.91780915e-15, 7.55804572e-15, 7.21749557e-15, 4.64609445e-15,\n",
       "       3.09119463e-15, 2.11417473e-15, 1.48114742e-15, 1.06007160e-15,\n",
       "       7.72980270e-16, 5.72965495e-16, 4.31012386e-16, 3.28610209e-16,\n",
       "       2.53617897e-16, 1.97908465e-16, 1.55977463e-16, 1.24072613e-16,\n",
       "       9.95400574e-17, 8.04902514e-17, 6.55641816e-17, 5.37723760e-17,\n",
       "       4.43817743e-17, 3.68484641e-17, 3.07651863e-17, 2.58214793e-17,\n",
       "       2.17804742e-17, 1.84582864e-17, 1.57134841e-17, 1.34337940e-17,\n",
       "       1.15314285e-17, 9.93678344e-18, 8.59447399e-18, 7.46041284e-18,\n",
       "       6.49775390e-18, 5.67824138e-18, 4.97780670e-18, 4.37720969e-18,\n",
       "       3.86058272e-18, 3.41495224e-18, 3.02925147e-18, 2.69440015e-18,\n",
       "       2.40287055e-18, 2.14836865e-18, 1.92559811e-18, 1.73009804e-18,\n",
       "       1.55809681e-18, 1.40639246e-18, 1.27227424e-18, 1.15341446e-18,\n",
       "       1.04783547e-18, 9.53843753e-19, 8.69980708e-19, 7.95008817e-19,\n",
       "       7.27827774e-19, 6.67505535e-19, 6.13235083e-19, 5.64318243e-19,\n",
       "       5.20106589e-19, 4.80116607e-19, 4.43883882e-19, 4.10983834e-19,\n",
       "       3.81054908e-19, 3.53780273e-19, 3.28881656e-19, 3.06115080e-19,\n",
       "       2.85265259e-19, 2.66141675e-19, 2.48575388e-19, 2.32416479e-19,\n",
       "       2.17531503e-19, 2.03801579e-19, 1.91120630e-19, 1.79393896e-19,\n",
       "       1.68535873e-19, 1.58470761e-19, 1.49129929e-19, 1.40451713e-19,\n",
       "       1.32380481e-19, 1.24866054e-19, 1.17863102e-19, 1.11330615e-19,\n",
       "       1.05231351e-19, 9.95316235e-20, 9.42004919e-20, 8.92101085e-20,\n",
       "       8.45349161e-20, 8.01517154e-20, 7.60392933e-20, 7.21778508e-20,\n",
       "       6.85497927e-20, 6.51386867e-20, 6.19303446e-20, 5.89079773e-20,\n",
       "       5.60620440e-20, 5.33794030e-20, 5.08491691e-20, 4.84613385e-20,\n",
       "       4.62072550e-20, 4.40771690e-20, 4.20638037e-20, 4.01598396e-20,\n",
       "       3.83608291e-20, 3.66531403e-20, 3.50376482e-20, 3.35065798e-20,\n",
       "       3.20549113e-20, 3.06778451e-20, 2.93707958e-20, 2.81302763e-20,\n",
       "       2.69513263e-20, 2.58312534e-20, 2.47724371e-20, 2.37557319e-20,\n",
       "       2.27918615e-20, 2.18750523e-20, 2.10021747e-20, 2.01672195e-20,\n",
       "       1.93758364e-20, 1.86150138e-20, 1.78881028e-20, 1.72006983e-20,\n",
       "       1.65426415e-20, 1.59152295e-20, 1.53171917e-20, 1.47455092e-20,\n",
       "       1.41990495e-20, 1.36766527e-20, 1.31768433e-20, 1.26983712e-20,\n",
       "       1.22404236e-20, 1.18018582e-20, 1.13817580e-20, 1.09792529e-20,\n",
       "       1.05934875e-20, 1.02236690e-20, 9.86903041e-21, 9.52886317e-21,\n",
       "       9.20248614e-21, 8.88925645e-21, 8.58856413e-21, 8.29983561e-21,\n",
       "       8.02252423e-21, 7.75610934e-21, 7.50010378e-21, 7.25403921e-21,\n",
       "       7.01747286e-21, 6.78998701e-21, 6.57118138e-21, 6.36067635e-21,\n",
       "       6.15811239e-21, 5.96314554e-21, 5.77544981e-21, 5.59471501e-21,\n",
       "       5.42064502e-21, 5.25295847e-21, 5.09138692e-21, 4.93567501e-21,\n",
       "       4.78557825e-21, 4.64086550e-21, 4.50131411e-21, 4.36671370e-21,\n",
       "       4.23686123e-21, 4.11156531e-21, 3.99064134e-21, 3.87391443e-21,\n",
       "       3.76121662e-21, 3.65238791e-21, 3.54727542e-21, 3.44573277e-21,\n",
       "       3.34762034e-21, 3.25280458e-21, 3.16115765e-21, 3.07255741e-21,\n",
       "       2.98688710e-21, 2.90403473e-21, 2.82389344e-21, 2.74636075e-21,\n",
       "       2.67133865e-21, 2.59873325e-21, 2.52845464e-21, 2.46041677e-21,\n",
       "       2.39453712e-21, 2.33073660e-21, 2.26893957e-21, 2.20907325e-21,\n",
       "       2.15106814e-21, 2.09485739e-21, 2.04037697e-21, 1.98756545e-21,\n",
       "       1.93636387e-21, 1.88671558e-21, 1.83856639e-21, 1.79186412e-21,\n",
       "       1.74655857e-21])"
      ]
     },
     "execution_count": 53,
     "metadata": {},
     "output_type": "execute_result"
    }
   ],
   "source": [
    "Cl"
   ]
  },
  {
   "cell_type": "code",
   "execution_count": 57,
   "metadata": {},
   "outputs": [
    {
     "name": "stderr",
     "output_type": "stream",
     "text": [
      "/global/homes/v/vboehm/.conda/envs/bccp/lib/python3.6/site-packages/ipykernel_launcher.py:5: RuntimeWarning: invalid value encountered in true_divide\n",
      "  \"\"\"\n"
     ]
    },
    {
     "data": {
      "text/plain": [
       "<matplotlib.legend.Legend at 0x2b80fcc4b630>"
      ]
     },
     "execution_count": 57,
     "metadata": {},
     "output_type": "execute_result"
    },
    {
     "data": {
      "image/png": "[encoded data removed]",
      "text/plain": [
       "<Figure size 432x288 with 1 Axes>"
      ]
     },
     "metadata": {
      "needs_background": "light"
     },
     "output_type": "display_data"
    }
   ],
   "source": [
    "plt.figure()#\n",
    "plt.semilogx(ell_,np.interp(ell_,ll,clpp)/Cl, label='our result')\n",
    "#plt.semilogx(ell_,np.interp(ell_,ls,cl)/Cl)\n",
    "plt.semilogx(ls,np.interp(ls,ll,clpp)/cl, label='Markos result')\n",
    "plt.semilogx(ll,clpp2/clpp, label='CLASS Limber over CLASS no Limber') \n",
    "#plt.axhline(1,color='black')\n",
    "plt.ylim(0.5,1.25)\n",
    "plt.grid()\n",
    "plt.legend()"
   ]
  },
  {
   "cell_type": "code",
   "execution_count": 55,
   "metadata": {},
   "outputs": [],
   "source": [
    "cosmo = Class()\n",
    "\n",
    "cosmo_dict={'h': h,\n",
    "'omega_b' : omega_b,\n",
    "'omega_cdm': omega_cdm,\n",
    "'A_s'    : A0,\n",
    "'n_s'    : ns,\n",
    "'k_pivot' : 0.05}\n",
    "cosmo_dict['output']='lCl, tCl'\n",
    "cosmo_dict['l_max_scalars']=2000\n",
    "cosmo_dict['lensing']='yes'\n",
    "cosmo_dict['l_switch_limber']=1\n",
    "\n",
    "cosmo.set(cosmo_dict)\n",
    "cosmo.compute()\n",
    "cllen= cosmo.lensed_cl(lmax=1000)\n",
    "ll2 = cllen['ell']\n",
    "clpp2 = cllen['pp']"
   ]
  },
  {
   "cell_type": "code",
   "execution_count": null,
   "metadata": {},
   "outputs": [],
   "source": []
  },
  {
   "cell_type": "code",
   "execution_count": 56,
   "metadata": {},
   "outputs": [
    {
     "name": "stderr",
     "output_type": "stream",
     "text": [
      "/global/homes/v/vboehm/.conda/envs/bccp/lib/python3.6/site-packages/ipykernel_launcher.py:1: RuntimeWarning: invalid value encountered in true_divide\n",
      "  \"\"\"Entry point for launching an IPython kernel.\n"
     ]
    },
    {
     "data": {
      "text/plain": [
       "[<matplotlib.lines.Line2D at 0x2b80fcba1ef0>]"
      ]
     },
     "execution_count": 56,
     "metadata": {},
     "output_type": "execute_result"
    },
    {
     "data": {
      "image/png": "[encoded data removed]",
      "text/plain": [
       "<Figure size 432x288 with 1 Axes>"
      ]
     },
     "metadata": {
      "needs_background": "light"
     },
     "output_type": "display_data"
    }
   ],
   "source": [
    "plt.semilogx(ll,clpp2/clpp-1, label='CLASS Limber over CLASS no Limber')"
   ]
  },
  {
   "cell_type": "code",
   "execution_count": null,
   "metadata": {},
   "outputs": [],
   "source": []
  },
  {
   "cell_type": "code",
   "execution_count": null,
   "metadata": {},
   "outputs": [],
   "source": []
  },
  {
   "cell_type": "code",
   "execution_count": null,
   "metadata": {},
   "outputs": [],
   "source": []
  },
  {
   "cell_type": "code",
   "execution_count": null,
   "metadata": {},
   "outputs": [],
   "source": []
  },
  {
   "cell_type": "code",
   "execution_count": null,
   "metadata": {},
   "outputs": [],
   "source": []
  }
 ],
 "metadata": {
  "kernelspec": {
   "display_name": "NERSC BCCP",
   "language": "python",
   "name": "bccp"
  },
  "language_info": {
   "codemirror_mode": {
    "name": "ipython",
    "version": 3
   },
   "file_extension": ".py",
   "mimetype": "text/x-python",
   "name": "python",
   "nbconvert_exporter": "python",
   "pygments_lexer": "ipython3",
   "version": "3.6.6"
  }
 },
 "nbformat": 4,
 "nbformat_minor": 2
}
