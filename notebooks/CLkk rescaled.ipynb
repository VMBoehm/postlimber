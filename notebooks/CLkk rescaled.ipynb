{
 "cells": [
  {
   "cell_type": "code",
   "execution_count": null,
   "metadata": {},
   "outputs": [],
   "source": [
    "import numpy as np\n",
    "import matplotlib.pyplot as plt"
   ]
  },
  {
   "cell_type": "code",
   "execution_count": null,
   "metadata": {},
   "outputs": [],
   "source": [
    "path = '/global/homes/e/ecastori/PostBorn/'"
   ]
  },
  {
   "cell_type": "code",
   "execution_count": null,
   "metadata": {},
   "outputs": [],
   "source": [
    "data = np.loadtxt(path+'FFT_k-1Pk.dat',skiprows=2)\n",
    "\n",
    "#----------------------#\n",
    "n         = data[:,0]\n",
    "Re_c_n    = data[:,1]\n",
    "Im_c_n    = data[:,2]\n",
    "Re_nu_n   = data[:,3]\n",
    "Im_nu_n   = data[:,4]\n",
    "#----------------------#\n",
    "\n",
    "c_n  = Re_c_n  + 1j * Im_c_n\n",
    "nu_n = Re_nu_n + 1j * Im_nu_n"
   ]
  },
  {
   "cell_type": "code",
   "execution_count": null,
   "metadata": {},
   "outputs": [],
   "source": [
    "data = np.loadtxt(path+'Il_nu_t.dat',skiprows=1)\n",
    "\n",
    "#----------------------#\n",
    "ell       = data[:,0]\n",
    "nn        = data[:,2]\n",
    "tt        = data[:,1]\n",
    "Re_I      = data[:,3]\n",
    "Im_I      = data[:,4]\n",
    "#----------------------#\n",
    "\n",
    "I_ = Re_I + 1j * Im_I"
   ]
  },
  {
   "cell_type": "code",
   "execution_count": null,
   "metadata": {},
   "outputs": [],
   "source": [
    "#cosmology\n",
    "h         = 0.6770\n",
    "omega_cdm = 0.11923\n",
    "omega_b   = 0.02247\n",
    "Omega_b   = omega_b/h**2\n",
    "Omega_cdm = omega_cdm/h**2\n",
    "Omega_m   = Omega_b+Omega_cdm\n",
    "ns        = 0.96824\n",
    "A0        = 2.10732*10**(-9)\n",
    "\n",
    "#dictionary for class\n",
    "cosmo_dict={'h': h,\n",
    "'omega_b' : omega_b,\n",
    "'omega_cdm': omega_cdm,\n",
    "'A_s'    : A0,\n",
    "'n_s'    : ns,\n",
    "'k_pivot' : 0.05}\n",
    "print(cosmo_dict)\n",
    "\n",
    "# speed of light\n",
    "c      = 299792458./1000. # km/s\n",
    "\n",
    "#prefactor for Cl_kk computation from Cl_dd\n",
    "prefac = 1.5*Omega_m*(100.)**2/c**2 #without h"
   ]
  },
  {
   "cell_type": "code",
   "execution_count": null,
   "metadata": {},
   "outputs": [],
   "source": [
    "from classy import Class\n",
    "cosmo = Class()\n",
    "cosmo.set(cosmo_dict)\n",
    "cosmo.compute()\n",
    "cosmo_b               = cosmo.get_background()\n",
    "\n",
    "class_z               = cosmo_b['z'][::-1]\n",
    "class_chi             = cosmo_b['comov. dist.'][::-1]\n",
    "class_D               = cosmo_b['gr.fac. D'][::-1]/cosmo_b['gr.fac. D'][-1]\n",
    "\n",
    "derivParams           = cosmo.get_current_derived_parameters(['z_rec'])\n",
    "z_cmb                 = derivParams['z_rec']\n",
    "\n",
    "\n",
    "from scipy.interpolate import InterpolatedUnivariateSpline as ius\n",
    "chi_z = ius(class_z,class_chi*h)\n",
    "z_chi = ius(class_chi*h,class_z)  # Mpc/h\n",
    "D_chi = ius(class_chi*h,class_D)    # growth\n",
    "D_z   = ius(class_z,class_D)\n",
    "# chi_cmb\n",
    "chi_cmb = chi_z(z_cmb)"
   ]
  },
  {
   "cell_type": "code",
   "execution_count": null,
   "metadata": {},
   "outputs": [],
   "source": [
    "z=np.linspace(0.,z_cmb,200)\n",
    "plt.figure()\n",
    "plt.plot(z,chi_z(z))\n",
    "plt.show()\n",
    "plt.figure()\n",
    "plt.plot(z,D_chi(chi_z(z)))\n",
    "plt.show()\n",
    "plt.figure()\n",
    "plt.plot(z,z_chi(chi_z(z)))\n",
    "plt.show()"
   ]
  },
  {
   "cell_type": "code",
   "execution_count": null,
   "metadata": {},
   "outputs": [],
   "source": [
    "D_chi(chi_z(0.1))"
   ]
  },
  {
   "cell_type": "code",
   "execution_count": null,
   "metadata": {},
   "outputs": [],
   "source": []
  },
  {
   "cell_type": "code",
   "execution_count": null,
   "metadata": {},
   "outputs": [],
   "source": [
    "def set_kernel(chi_max):\n",
    "    def kernel(chi):\n",
    "        return (1.+z_chi(chi))*D_chi(chi)\n",
    "    return kernel"
   ]
  },
  {
   "cell_type": "code",
   "execution_count": null,
   "metadata": {},
   "outputs": [],
   "source": [
    "W = set_kernel(chi_cmb)"
   ]
  },
  {
   "cell_type": "code",
   "execution_count": null,
   "metadata": {},
   "outputs": [],
   "source": [
    "ell_ = np.unique(ell)\n",
    "nu_n_= np.unique(nu_n) \n",
    "print(nu_n_)\n",
    "print(ell_)\n",
    "print(np.unique(tt))\n",
    "t_=np.unique(tt)\n",
    "print(len(nu_n_),len(n),len(c_n),len(t_))\n",
    "print(len(tt),len(I_))"
   ]
  },
  {
   "cell_type": "code",
   "execution_count": null,
   "metadata": {},
   "outputs": [],
   "source": [
    "nu=nu_n_\n",
    "\n",
    "res=[]\n",
    "m = 0\n",
    "for ii,ll in enumerate(ell_):\n",
    "    print(ii,ll)\n",
    "    for t in t_:\n",
    "        for r in t_:\n",
    "            res+=[np.real(sum(I_[m:m+len(n)][0:-1]*c_n[0:-1]*2.*(chi_cmb*r)**(-nu[0:-1]))+I_[m:m+len(n)][-1]*c_n[-1]*(chi_cmb*r)**(-nu[-1]))]\n",
    "        m+=len(n)\n",
    "assert(m==len(I_))\n",
    "\n"
   ]
  },
  {
   "cell_type": "code",
   "execution_count": null,
   "metadata": {},
   "outputs": [],
   "source": [
    "m"
   ]
  },
  {
   "cell_type": "code",
   "execution_count": null,
   "metadata": {},
   "outputs": [],
   "source": [
    "res=np.asarray(res)"
   ]
  },
  {
   "cell_type": "code",
   "execution_count": null,
   "metadata": {},
   "outputs": [],
   "source": [
    "# m = 0\n",
    "# r=0.02\n",
    "\n",
    "# for ii,ll in enumerate(ell_):\n",
    "#         print(ii,ll)\n",
    "#         for jj,t in enumerate(t_[0:4]):\n",
    "#             print('t',t)\n",
    "#             print(np.real(sum(I_[ii*len(t_)+jj:ii*len(t_)+jj+len(n)][0:-1]*c_n[0:-1]*2.*(chi_cmb*r)**(-nu[0:-1]))+I_[m:m+len(n)][-1]*c_n[-1]*(chi_cmb*r)**(-nu[-1])))\n",
    "#             m+=len(n)"
   ]
  },
  {
   "cell_type": "code",
   "execution_count": null,
   "metadata": {},
   "outputs": [],
   "source": [
    "(chi_cmb*r)**(-nu[-1])"
   ]
  },
  {
   "cell_type": "code",
   "execution_count": null,
   "metadata": {},
   "outputs": [],
   "source": [
    "np.real(c_n)"
   ]
  },
  {
   "cell_type": "code",
   "execution_count": null,
   "metadata": {},
   "outputs": [],
   "source": [
    "print(np.real(res[0:100]))"
   ]
  },
  {
   "cell_type": "code",
   "execution_count": null,
   "metadata": {},
   "outputs": [],
   "source": [
    "from scipy.integrate import simps, quadrature\n",
    "from scipy.interpolate import interp1d\n",
    "m=0\n",
    "result=[]\n",
    "for ii,ll in enumerate(ell_):\n",
    "    res_=[]\n",
    "    for t in t_:\n",
    "        \n",
    "        integrand=[]\n",
    "        for r in t_:\n",
    "            integrand+=[W(t*r*chi_cmb)*(1.-r*t)/t*(1.-r)/r*res[m]]\n",
    "\n",
    "            \n",
    "            m+=1\n",
    "        integrand[0] = 0.+1j*0.\n",
    "        #integrand = interp1d(t_,integrand,kind='cubic')\n",
    "        res_+=[simps(integrand,t_)]#quadrature(integrand,min(t_),max(t_))[0]]#\n",
    "    #print(res_)\n",
    "        # for every n do r integral\n",
    "    integrand = np.asarray(res_)*W(t_*chi_cmb)\n",
    "    if ll==200. or ll==3.:\n",
    "        plt.plot(t_,integrand,marker='o',ls='')\n",
    "    \n",
    "    integrand[0] = 0.+1j*0.\n",
    "    #integrand = interp1d(t_,integrand,kind='cubic')\n",
    "    result+=[simps(integrand,t_)]#min(t_),max(t_))[0]]\n",
    "        "
   ]
  },
  {
   "cell_type": "code",
   "execution_count": null,
   "metadata": {},
   "outputs": [],
   "source": [
    "Cl=np.real(np.asarray(result))*4./np.pi**2*prefac**2\n",
    "print(Cl)"
   ]
  },
  {
   "cell_type": "code",
   "execution_count": null,
   "metadata": {},
   "outputs": [],
   "source": [
    "plt.figure()\n",
    "plt.loglog(ell_,1/4.*(ell_*(ell_+1.))**2*Cl)\n",
    "plt.xlim(2,500)"
   ]
  },
  {
   "cell_type": "code",
   "execution_count": null,
   "metadata": {},
   "outputs": [],
   "source": [
    "cosmo = Class()\n",
    "\n",
    "cosmo_dict={'h': h,\n",
    "'omega_b' : omega_b,\n",
    "'omega_cdm': omega_cdm,\n",
    "'A_s'    : A0,\n",
    "'n_s'    : ns,\n",
    "'k_pivot' : 0.05}\n",
    "cosmo_dict['output']='lCl, tCl'\n",
    "cosmo_dict['l_max_scalars']=2000\n",
    "cosmo_dict['lensing']='yes'\n",
    "cosmo_dict['l_switch_limber']=100\n",
    "\n",
    "cosmo.set(cosmo_dict)"
   ]
  },
  {
   "cell_type": "code",
   "execution_count": null,
   "metadata": {},
   "outputs": [],
   "source": [
    "cosmo.compute()"
   ]
  },
  {
   "cell_type": "code",
   "execution_count": null,
   "metadata": {},
   "outputs": [],
   "source": [
    "cllen= cosmo.lensed_cl(lmax=1000)"
   ]
  },
  {
   "cell_type": "code",
   "execution_count": null,
   "metadata": {},
   "outputs": [],
   "source": [
    "data=np.loadtxt(path+'Cell_marko.dat')\n",
    "cl = data[:,1]\n",
    "\n",
    "ls = data[:,0]\n",
    "ll = cllen['ell']\n",
    "clpp = cllen['pp']"
   ]
  },
  {
   "cell_type": "code",
   "execution_count": null,
   "metadata": {},
   "outputs": [],
   "source": [
    "plt.figure()\n",
    "plt.loglog(ell_,Cl)\n",
    "plt.loglog(ll,clpp)\n",
    "plt.loglog(ls,cl)"
   ]
  },
  {
   "cell_type": "code",
   "execution_count": null,
   "metadata": {},
   "outputs": [],
   "source": [
    "Cl"
   ]
  },
  {
   "cell_type": "code",
   "execution_count": null,
   "metadata": {},
   "outputs": [],
   "source": [
    "plt.figure()#\n",
    "plt.semilogx(ell_,np.interp(ell_,ll,clpp)/Cl, label='our result')\n",
    "#plt.semilogx(ell_,np.interp(ell_,ls,cl)/Cl)\n",
    "plt.semilogx(ls,np.interp(ls,ll,clpp)/cl, label='Markos result')\n",
    "#plt.axhline(1,color='black')\n",
    "plt.ylim(0,2)\n",
    "plt.grid()\n",
    "plt.legend()"
   ]
  },
  {
   "cell_type": "code",
   "execution_count": null,
   "metadata": {},
   "outputs": [],
   "source": []
  },
  {
   "cell_type": "code",
   "execution_count": null,
   "metadata": {},
   "outputs": [],
   "source": []
  },
  {
   "cell_type": "code",
   "execution_count": null,
   "metadata": {},
   "outputs": [],
   "source": []
  },
  {
   "cell_type": "code",
   "execution_count": null,
   "metadata": {},
   "outputs": [],
   "source": []
  },
  {
   "cell_type": "code",
   "execution_count": null,
   "metadata": {},
   "outputs": [],
   "source": []
  },
  {
   "cell_type": "code",
   "execution_count": null,
   "metadata": {},
   "outputs": [],
   "source": []
  },
  {
   "cell_type": "code",
   "execution_count": null,
   "metadata": {},
   "outputs": [],
   "source": []
  },
  {
   "cell_type": "code",
   "execution_count": null,
   "metadata": {},
   "outputs": [],
   "source": []
  }
 ],
 "metadata": {
  "kernelspec": {
   "display_name": "NERSC BCCP",
   "language": "python",
   "name": "bccp"
  },
  "language_info": {
   "codemirror_mode": {
    "name": "ipython",
    "version": 3
   },
   "file_extension": ".py",
   "mimetype": "text/x-python",
   "name": "python",
   "nbconvert_exporter": "python",
   "pygments_lexer": "ipython3",
   "version": "3.6.6"
  }
 },
 "nbformat": 4,
 "nbformat_minor": 2
}
