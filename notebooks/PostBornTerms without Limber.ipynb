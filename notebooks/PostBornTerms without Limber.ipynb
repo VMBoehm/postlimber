{
 "cells": [
  {
   "cell_type": "code",
   "execution_count": 1,
   "metadata": {},
   "outputs": [],
   "source": [
    "import numpy as np\n",
    "import matplotlib.pyplot as plt\n",
    "import sys\n",
    "import time\n",
    "path = '../PostBornEma/'\n",
    "sys.path.append(\"../scripts/\") \n",
    "from lab import *"
   ]
  },
  {
   "cell_type": "markdown",
   "metadata": {},
   "source": [
    "### 1) Terms that also appear in Limber approximation"
   ]
  },
  {
   "cell_type": "markdown",
   "metadata": {},
   "source": [
    "#### Collecting all contributions from Eq.s 4.2-4.5 that are also non-zero in Limber\n",
    "\n",
    "Term 1:\n",
    "$- \\int_{\\vec{l}} [\\vec{L}\\cdot \\vec{l}] [\\vec{l}\\cdot (\\vec{L}-\\vec{l})]^2 \\int \\mathrm{d}\\chi \\int \\mathrm{d}\\chi' W(\\chi,\\chi_{CMB}) W^h(\\chi') C_l^{\\delta\\psi}(\\chi',\\chi) C_{|\\vec{L}-\\vec{l}|}^{\\phi\\phi}(\\chi',\\chi) = - \\int_{\\vec{l}} [\\vec{L}\\cdot \\vec{l}] [\\vec{l}\\cdot (\\vec{L}-\\vec{l})]^2 M^{A}(l,|\\vec{L}-\\vec{l}|)$\n",
    "after  transform $\\vec{l} \\rightarrow \\vec{l}+\\vec{L}$\n",
    "\n",
    "$\\int_{\\vec{l}} [\\vec{L}\\cdot  (\\vec{L}+\\vec{l})] [\\vec{l}\\cdot (\\vec{L}+\\vec{l})]^2 M^{A}( |\\vec{L}+\\vec{l}|,l)$\n",
    "\n",
    "Term 2: \n",
    "$ L^2 \\int_{\\vec{l}} [\\vec{L}\\cdot \\vec{l}]^2 \\int \\mathrm{d}\\chi \\int \\mathrm{d}\\chi' W(\\chi,\\chi_{CMB}) W^h(\\chi') C_L^{\\delta\\psi}(\\chi',\\chi) [\\frac{1}{2}C_{l}^{\\phi\\phi}(\\chi')+\\frac{1}{2}C_{l}^{\\phi\\phi}(\\chi)]$\n",
    "$ = L^2 \\int_{\\vec{l}} [\\vec{L}\\cdot \\vec{l}]^2 \\tilde{M}^{A}(L,l)$\n",
    "\n",
    "Comparison with Limber results suggest that we are missing a minus sign in Term 2. Will be coding with this Minus sign\n",
    "\n",
    "Adding Term 1 and 2 with trick from Krause & Hirata:\n",
    "$\\int_{\\vec{l}} [\\vec{L}\\cdot  (\\vec{L}+\\vec{l})] [\\vec{l}\\cdot (\\vec{L}+\\vec{l})]^2 [M^{A}( |\\vec{L}+\\vec{l}|,l)-\\tilde{M}^{A}(L,l)] +  \\left[\\int_{\\vec{l}} [\\vec{L}\\cdot  (\\vec{L}+\\vec{l})] [\\vec{l}\\cdot (\\vec{L}+\\vec{l})]^2-L^2[\\vec{L}\\cdot \\vec{l}]^2\\right] \\tilde{M}^{A}(L,l)$\n"
   ]
  },
  {
   "cell_type": "code",
   "execution_count": 14,
   "metadata": {},
   "outputs": [
    {
     "name": "stdout",
     "output_type": "stream",
     "text": [
      "(289, 100, 100)\n"
     ]
    }
   ],
   "source": [
    "# naming corresponds to order of axes\n",
    "#clpsidelta = np.load('../G_matrices/clphidelta.npy')\n",
    "clphidelta = np.load('../G_matrices/clphidelta.npy')\n",
    "clphiphi   = np.load('../G_matrices/clphiphi_parallel.npy')\n",
    "clphipsi   = np.load('../G_matrices/clphipsi.npy')\n",
    "print(clpd.shape)"
   ]
  },
  {
   "cell_type": "code",
   "execution_count": 15,
   "metadata": {},
   "outputs": [],
   "source": [
    "#clphipsi*clphiphi\n",
    "clprod1 = np.zeros((len(ell_),len(ell_),len(t_),len(t_)))\n",
    "for ii in range(len(ell_)):\n",
    "    for jj in range(len(ell_)):\n",
    "        clprod1[ii][jj] = clphipsi[ii]*clphiphi[jj]\n",
    "        \n",
    "  "
   ]
  },
  {
   "cell_type": "code",
   "execution_count": 16,
   "metadata": {},
   "outputs": [],
   "source": [
    "# clpd*clpp, first axis is chi' second is chi \n",
    "clprod2 = np.zeros((len(ell_),len(ell_),len(t_),len(t_)))\n",
    "for ii in range(len(ell_)):\n",
    "    for jj in range(len(ell_)):\n",
    "        clprod2[ii][jj] = clphidelta[ii]*clphiphi[jj] "
   ]
  },
  {
   "cell_type": "code",
   "execution_count": 10,
   "metadata": {},
   "outputs": [
    {
     "data": {
      "text/plain": [
       "(289, 289)"
      ]
     },
     "execution_count": 10,
     "metadata": {},
     "output_type": "execute_result"
    }
   ],
   "source": [
    "#getting MA\n",
    "bin_num = 'all'\n",
    "\n",
    "def lensing_kernel(xi, xmax):\n",
    "    return (xmax - xi)/(xmax*xi) * (xmax > xi)\n",
    "\n",
    "#r2d goes with phi,phi\n",
    "#t2d goes with delta/psi\n",
    "r2d, t2d = np.meshgrid(t_,t_)\n",
    "w11, w12 = np.meshgrid(w1,w1)\n",
    "\n",
    "kernel2 = gal_clus(dNdz_LSST,constant_bias,bin_num)\n",
    "res = np.sum(clprod2*lensing_kernel(r2d*chi_cmb,chi_cmb)*kernel2(t2d*chi_cmb)*t2d*chi_cmb*w11*w12, axis =(2,3))\n",
    "res.shape"
   ]
  },
  {
   "cell_type": "code",
   "execution_count": 12,
   "metadata": {},
   "outputs": [
    {
     "data": {
      "text/plain": [
       "array([0.00014314, 0.00014314, 0.00014314, 0.00014314, 0.00014314,\n",
       "       0.00014314, 0.00014314, 0.00014314, 0.00014314, 0.00014314,\n",
       "       0.00014314, 0.00014314, 0.00014314, 0.00014314, 0.00014314,\n",
       "       0.00014314, 0.00014314, 0.00014314, 0.00014314, 0.00014314,\n",
       "       0.00014314, 0.00014314, 0.00014314, 0.00014314, 0.00014314,\n",
       "       0.00014314, 0.00014314, 0.00014314, 0.00014314, 0.00014314,\n",
       "       0.00014314, 0.00014314, 0.00014314, 0.00014314, 0.00014314,\n",
       "       0.00014314, 0.00014314, 0.00014314, 0.00014314, 0.00014314,\n",
       "       0.00014314, 0.00014314, 0.00014314, 0.00014314, 0.00014314,\n",
       "       0.00014314, 0.00014314, 0.00014314, 0.00014314, 0.00014314,\n",
       "       0.00014314, 0.00014314, 0.00014314, 0.00014314, 0.00014314,\n",
       "       0.00014314, 0.00014314, 0.00014314, 0.00014314, 0.00014314,\n",
       "       0.00014314, 0.00014314, 0.00014314, 0.00014314, 0.00014314,\n",
       "       0.00014314, 0.00014314, 0.00014314, 0.00014314, 0.00014314,\n",
       "       0.00014314, 0.00014314, 0.00014314, 0.00014314, 0.00014314,\n",
       "       0.00014314, 0.00014314, 0.00014314, 0.00014314, 0.00014314,\n",
       "       0.00014314, 0.00014314, 0.00014314, 0.00014314, 0.00014314,\n",
       "       0.00014314, 0.00014314, 0.00014314, 0.00014314, 0.00014314,\n",
       "       0.00014314, 0.00014314, 0.00014314, 0.00014314, 0.00014314,\n",
       "       0.00014314, 0.00014314, 0.00014314, 0.00014314, 0.00014314])"
      ]
     },
     "execution_count": 12,
     "metadata": {},
     "output_type": "execute_result"
    }
   ],
   "source": []
  },
  {
   "cell_type": "code",
   "execution_count": null,
   "metadata": {},
   "outputs": [],
   "source": []
  }
 ],
 "metadata": {
  "kernelspec": {
   "display_name": "NERSC BCCP",
   "language": "python",
   "name": "bccp"
  },
  "language_info": {
   "codemirror_mode": {
    "name": "ipython",
    "version": 3
   },
   "file_extension": ".py",
   "mimetype": "text/x-python",
   "name": "python",
   "nbconvert_exporter": "python",
   "pygments_lexer": "ipython3",
   "version": "3.6.7"
  }
 },
 "nbformat": 4,
 "nbformat_minor": 2
}
