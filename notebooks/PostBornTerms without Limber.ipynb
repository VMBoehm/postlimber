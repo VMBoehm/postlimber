{
 "cells": [
  {
   "cell_type": "code",
   "execution_count": 27,
   "metadata": {},
   "outputs": [],
   "source": [
    "import numpy as np\n",
    "import matplotlib.pyplot as plt\n",
    "import sys\n",
    "import time\n",
    "from scipy.interpolate import RectBivariateSpline\n",
    "path = '../PostBornEma/'\n",
    "sys.path.append(\"../scripts/\") \n",
    "from lab import *"
   ]
  },
  {
   "cell_type": "markdown",
   "metadata": {},
   "source": [
    "### 1) Terms that also appear in Limber approximation"
   ]
  },
  {
   "cell_type": "markdown",
   "metadata": {},
   "source": [
    "#### Collecting all contributions from Eq.s 4.2-4.5 that are also non-zero in Limber\n",
    "\n",
    "Term 1:\n",
    "$- \\int_{\\vec{l}} [\\vec{L}\\cdot \\vec{l}] [\\vec{l}\\cdot (\\vec{L}-\\vec{l})]^2 \\int \\mathrm{d}\\chi \\int \\mathrm{d}\\chi' W(\\chi,\\chi_{CMB}) W^h(\\chi') C_l^{\\delta\\psi}(\\chi',\\chi) C_{|\\vec{L}-\\vec{l}|}^{\\phi\\phi}(\\chi',\\chi) = - \\int_{\\vec{l}} [\\vec{L}\\cdot \\vec{l}] [\\vec{l}\\cdot (\\vec{L}-\\vec{l})]^2 M^{A}(l,|\\vec{L}-\\vec{l}|)$\n",
    "after  transform $\\vec{l} \\rightarrow \\vec{l}+\\vec{L}$\n",
    "\n",
    "$\\int_{\\vec{l}} [\\vec{L}\\cdot  (\\vec{L}+\\vec{l})] [\\vec{l}\\cdot (\\vec{L}+\\vec{l})]^2 M^{A}( |\\vec{L}+\\vec{l}|,l)$\n",
    "\n",
    "Term 2: \n",
    "$ L^2 \\int_{\\vec{l}} [\\vec{L}\\cdot \\vec{l}]^2 \\int \\mathrm{d}\\chi \\int \\mathrm{d}\\chi' W(\\chi,\\chi_{CMB}) W^h(\\chi') C_L^{\\delta\\psi}(\\chi',\\chi) [\\frac{1}{2}C_{l}^{\\phi\\phi}(\\chi')+\\frac{1}{2}C_{l}^{\\phi\\phi}(\\chi)]$\n",
    "$ = L^2 \\int_{\\vec{l}} [\\vec{L}\\cdot \\vec{l}]^2 \\tilde{M}^{A}(L,l)$\n",
    "\n",
    "Comparison with Limber results suggest that we are missing a minus sign in Term 2. Will be coding with this Minus sign\n",
    "\n",
    "Adding Term 1 and 2 with trick from Krause & Hirata:\n",
    "$\\int_{\\vec{l}} [\\vec{L}\\cdot  (\\vec{L}+\\vec{l})] [\\vec{l}\\cdot (\\vec{L}+\\vec{l})]^2 [M^{A}( |\\vec{L}+\\vec{l}|,l)-\\tilde{M}^{A}(L,l)] +  \\left[\\int_{\\vec{l}} [\\vec{L}\\cdot  (\\vec{L}+\\vec{l})] [\\vec{l}\\cdot (\\vec{L}+\\vec{l})]^2-L^2[\\vec{L}\\cdot \\vec{l}]^2\\right] \\tilde{M}^{A}(L,l)$\n"
   ]
  },
  {
   "cell_type": "code",
   "execution_count": 33,
   "metadata": {},
   "outputs": [
    {
     "name": "stdout",
     "output_type": "stream",
     "text": [
      "(289, 100, 100)\n"
     ]
    }
   ],
   "source": [
    "# naming corresponds to order of axes\n",
    "cldeltapsi = np.load('../G_matrices/cldeltapsi.npy')\n",
    "clphidelta = np.load('../G_matrices/clphidelta.npy')\n",
    "clphiphi   = np.load('../G_matrices/clphiphi_parallel.npy')\n",
    "clphipsi   = np.load('../G_matrices/clphipsi.npy')\n",
    "print(clpd.shape)"
   ]
  },
  {
   "cell_type": "code",
   "execution_count": 87,
   "metadata": {},
   "outputs": [
    {
     "name": "stdout",
     "output_type": "stream",
     "text": [
      "[[0. 0. 0. ... 0. 0. 0.]\n",
      " [0. 0. 0. ... 0. 0. 0.]\n",
      " [0. 0. 0. ... 0. 0. 0.]\n",
      " ...\n",
      " [0. 0. 0. ... 0. 0. 0.]\n",
      " [0. 0. 0. ... 0. 0. 0.]\n",
      " [0. 0. 0. ... 0. 0. 0.]]\n",
      "[[0. 0. 0. ... 0. 0. 0.]\n",
      " [0. 0. 0. ... 0. 0. 0.]\n",
      " [0. 0. 0. ... 0. 0. 0.]\n",
      " ...\n",
      " [0. 0. 0. ... 0. 0. 0.]\n",
      " [0. 0. 0. ... 0. 0. 0.]\n",
      " [0. 0. 0. ... 0. 0. 0.]]\n",
      "[0. 0. 0. 0. 0. 0. 0. 0. 0. 0. 0. 0. 0. 0. 0. 0. 0. 0. 0. 0. 0. 0. 0. 0.\n",
      " 0. 0. 0. 0. 0. 0. 0. 0. 0. 0. 0. 0. 0. 0. 0. 0. 0. 0. 0. 0. 0. 0. 0. 0.\n",
      " 0. 0. 0. 0. 0. 0. 0. 0. 0. 0. 0. 0. 0. 0. 0. 0. 0. 0. 0. 0. 0. 0. 0. 0.\n",
      " 0. 0. 0. 0. 0. 0. 0. 0. 0. 0. 0. 0. 0. 0. 0. 0. 0. 0. 0. 0. 0. 0. 0. 0.\n",
      " 0. 0. 0. 0.]\n",
      "[[0. 0. 0. ... 0. 0. 0.]\n",
      " [0. 0. 0. ... 0. 0. 0.]\n",
      " [0. 0. 0. ... 0. 0. 0.]\n",
      " ...\n",
      " [0. 0. 0. ... 0. 0. 0.]\n",
      " [0. 0. 0. ... 0. 0. 0.]\n",
      " [0. 0. 0. ... 0. 0. 0.]]\n",
      "[0. 0. 0. 0. 0. 0. 0. 0. 0. 0. 0. 0. 0. 0. 0. 0. 0. 0. 0. 0. 0. 0. 0. 0.\n",
      " 0. 0. 0. 0. 0. 0. 0. 0. 0. 0. 0. 0. 0. 0. 0. 0. 0. 0. 0. 0. 0. 0. 0. 0.\n",
      " 0. 0. 0. 0. 0. 0. 0. 0. 0. 0. 0. 0. 0. 0. 0. 0. 0. 0. 0. 0. 0. 0. 0. 0.\n",
      " 0. 0. 0. 0. 0. 0. 0. 0. 0. 0. 0. 0. 0. 0. 0. 0. 0. 0. 0. 0. 0. 0. 0. 0.\n",
      " 0. 0. 0. 0.]\n"
     ]
    }
   ],
   "source": [
    "cl_phiphi_diag= np.zeros((len(ell_),len(t_)))\n",
    "for ii in range(len(t_)):\n",
    "    cl_phiphi_diag[:,ii]=clphiphi[:,ii,ii]\n",
    "\n",
    "cl_phiphi_diag1  = np.zeros((len(ell_),len(t_),len(t_)))\n",
    "for nn in range(len(ell_)):\n",
    "    cl_phiphi_diag1[nn]  = np.asarray([cl_phiphi_diag[nn] for ii in range(len(t_))])\n",
    "cl_phiphi_diag2 = np.swapaxes(cl_phiphi_diag1,1,2)\n",
    "\n",
    "print(cl_phiphi_diag1[:,:,0]-cl_phiphi_diag2[:,0,:])\n",
    "#cl_phiphi_diag1(l) changes along last axis (=r2d)\n",
    "print(cl_phiphi_diag1[:,0]-cl_phiphi_diag1[:,1])\n",
    "print(r2d[0]-r2d[1])\n",
    "#cl_phiphi_diag2(l) changes along first axis (t2d)\n",
    "print(cl_phiphi_diag2[:,:,0]-cl_phiphi_diag2[:,:,1])\n",
    "print(t2d[:,0]-t2d[:,1])"
   ]
  },
  {
   "cell_type": "code",
   "execution_count": 34,
   "metadata": {},
   "outputs": [],
   "source": [
    "#clphipsi*clphiphi\n",
    "clprod1 = np.zeros((len(ell_),len(ell_),len(t_),len(t_)))\n",
    "for ii in range(len(ell_)):\n",
    "    for jj in range(len(ell_)):\n",
    "        clprod1[ii][jj] = clphipsi[ii]*clphiphi[jj]"
   ]
  },
  {
   "cell_type": "code",
   "execution_count": 103,
   "metadata": {},
   "outputs": [],
   "source": [
    "# cldeltapsi*clpp, first axis is chi' second is chi \n",
    "clprod2 = np.zeros((len(ell_),len(ell_),len(t_),len(t_)))\n",
    "for ii in range(len(ell_)):\n",
    "    for jj in range(len(ell_)):\n",
    "        clprod2[ii][jj] = cldeltapsi[ii]*clphiphi[jj] "
   ]
  },
  {
   "cell_type": "code",
   "execution_count": 104,
   "metadata": {},
   "outputs": [],
   "source": [
    "# cldeltapsi*[clpp1+clpp2]\n",
    "clprod3 = np.zeros((len(ell_),len(ell_),len(t_),len(t_)))\n",
    "for ii in range(len(ell_)):\n",
    "    for jj in range(len(ell_)):\n",
    "        clprod3[ii][jj] = cldeltapsi[ii]*(cl_phiphi_diag1[jj]+cl_phiphi_diag2[jj])*0.5 "
   ]
  },
  {
   "cell_type": "code",
   "execution_count": 110,
   "metadata": {},
   "outputs": [],
   "source": [
    "#getting MA\n",
    "bin_num = 'all'\n",
    "\n",
    "def lensing_kernel(xi, xmax):\n",
    "    return (xmax - xi)/(xmax*xi) * (xmax > xi)\n",
    "kernel2 = gal_clus(dNdz_LSST,constant_bias,bin_num)\n",
    "#r2d goes with first axis = delta phi\n",
    "#t2d goes with second axis = phi phi\n",
    "r2d, t2d = np.meshgrid(t_,t_)\n",
    "w11, w12 = np.meshgrid(w1,w1)\n",
    "\n",
    "kernel_axis1 = lensing_kernel(r2d*t2d*chi_cmb,chi_cmb)\n",
    "kernel_axis0 = kernel2(r2d*chi_cmb)\n",
    "\n",
    "res = np.sum(clprod2*(r2d*chi_cmb)*chi_cmb*w11*w12*kernel_axis1*kernel_axis0, axis =(2,3))\n",
    "MA  = RectBivariateSpline(ell_,ell_,res)\n",
    "np.save('../M_matrices/MA_matrix_bin_%s'%str(bin_num),res)\n",
    "np.save('../M_matrices/MA_slpine_bin_%s'%str(bin_num),MA)"
   ]
  },
  {
   "cell_type": "code",
   "execution_count": 111,
   "metadata": {},
   "outputs": [
    {
     "data": {
      "text/plain": [
       "<matplotlib.colorbar.Colorbar at 0x2aaadb320cf8>"
      ]
     },
     "execution_count": 111,
     "metadata": {},
     "output_type": "execute_result"
    },
    {
     "data": {
      "image/png": "[encoded data removed]",
      "text/plain": [
       "<Figure size 432x288 with 2 Axes>"
      ]
     },
     "metadata": {
      "needs_background": "light"
     },
     "output_type": "display_data"
    }
   ],
   "source": [
    "plt.imshow(np.log(MA(ell_,ell_)))\n",
    "plt.colorbar()"
   ]
  },
  {
   "cell_type": "code",
   "execution_count": 112,
   "metadata": {},
   "outputs": [],
   "source": [
    "#getting tilde MA\n",
    "bin_num = 'all'\n",
    "\n",
    "def lensing_kernel(xi, xmax):\n",
    "    return (xmax - xi)/(xmax*xi) * (xmax > xi)\n",
    "kernel2 = gal_clus(dNdz_LSST,constant_bias,bin_num)\n",
    "#r2d goes with first axis = delta phi\n",
    "#t2d goes with second axis = phi phi\n",
    "r2d, t2d = np.meshgrid(t_,t_)\n",
    "w11, w12 = np.meshgrid(w1,w1)\n",
    "\n",
    "kernel_axis1 = lensing_kernel(r2d*t2d*chi_cmb,chi_cmb)\n",
    "kernel_axis0 = kernel2(r2d*chi_cmb)\n",
    "\n",
    "res = np.sum(clprod3*(r2d*chi_cmb)*chi_cmb*w11*w12*kernel_axis1*kernel_axis0, axis =(2,3))\n",
    "tildeMA  = RectBivariateSpline(ell_,ell_,res)\n",
    "np.save('../M_matrices/tildeMA_matrix_bin_%s'%str(bin_num),res)\n",
    "np.save('../M_matrices/tildeMA_slpine_bin_%s'%str(bin_num),tildeMA)"
   ]
  },
  {
   "cell_type": "code",
   "execution_count": 113,
   "metadata": {},
   "outputs": [
    {
     "data": {
      "text/plain": [
       "<matplotlib.colorbar.Colorbar at 0x2aaadb3bc208>"
      ]
     },
     "execution_count": 113,
     "metadata": {},
     "output_type": "execute_result"
    },
    {
     "data": {
      "image/png": "[encoded data removed]",
      "text/plain": [
       "<Figure size 432x288 with 2 Axes>"
      ]
     },
     "metadata": {
      "needs_background": "light"
     },
     "output_type": "display_data"
    }
   ],
   "source": [
    "plt.imshow(np.log(tildeMA(ell_,ell_)))\n",
    "plt.colorbar()"
   ]
  },
  {
   "cell_type": "code",
   "execution_count": 114,
   "metadata": {},
   "outputs": [
    {
     "data": {
      "text/plain": [
       "array([[1.61658156e-16, 5.42691752e-17, 2.37550677e-17, ...,\n",
       "        1.02672913e-29, 9.95553168e-30, 9.65463896e-30],\n",
       "       [9.76034417e-17, 3.30091234e-17, 1.45325816e-17, ...,\n",
       "        7.16426004e-30, 6.94697774e-30, 6.73726062e-30],\n",
       "       [6.54652453e-17, 2.22515068e-17, 9.83449997e-18, ...,\n",
       "        5.30924527e-30, 5.14836321e-30, 4.99307789e-30],\n",
       "       ...,\n",
       "       [3.80983475e-25, 1.36998650e-25, 6.31147416e-26, ...,\n",
       "        8.24263068e-38, 7.99485766e-38, 7.75563994e-38],\n",
       "       [3.72684946e-25, 1.34016598e-25, 6.17415868e-26, ...,\n",
       "        8.06491816e-38, 7.82248741e-38, 7.58842749e-38],\n",
       "       [3.64620529e-25, 1.31118520e-25, 6.04070501e-26, ...,\n",
       "        7.89210481e-38, 7.65486904e-38, 7.42582473e-38]])"
      ]
     },
     "execution_count": 114,
     "metadata": {},
     "output_type": "execute_result"
    }
   ],
   "source": [
    "tildeMA(ell_,ell_)-MA(ell_,ell_)"
   ]
  },
  {
   "cell_type": "code",
   "execution_count": 151,
   "metadata": {},
   "outputs": [],
   "source": [
    "def get_regularized_sum_of_terms(L,L1,phi,M,method='trapz'):\n",
    "    nu = np.cos(phi)\n",
    "    res=[]\n",
    "    for LL in L:\n",
    "        resL1=[]\n",
    "        for LL1 in L1:\n",
    "            L_= LL*np.sqrt(1.+(LL1/LL)**2+2.*LL1/LL*nu)\n",
    "            integrand = LL1*(LL**2+LL*LL1*nu)*(LL1**2+LL*LL1*nu)**2*(M(L_,LL1,grid=False)-M(LL,LL1,grid=False))\n",
    "            if method =='simps':\n",
    "                resL1+=[simps(integrand,phi)]\n",
    "            elif method =='trapz':\n",
    "                resL1+=[np.trapz(integrand,phi)]\n",
    "            elif method =='sum':\n",
    "                resL1+=[np.sum(integrand*np.diff(phi)[0])]\n",
    "        res+=[simps(resL1,L1)]\n",
    "    res=np.asarray(res)/(2*np.pi)**2\n",
    "    return res\n",
    "\n",
    "\n",
    "#numerical angular integration\n",
    "def get_second_sum_of_terms(L,L1,M,method='trapz'):\n",
    "    nu = np.cos(phi)\n",
    "    res=[]\n",
    "    for LL in L:\n",
    "        resL1=[]\n",
    "        for LL1 in L1:\n",
    "            integrand =  LL1*((LL**2+LL*LL1*nu)*(LL1**2+LL*LL1*nu)**2-LL**2*(LL*LL1*nu)**2)*(M(LL,LL1,grid=False))\n",
    "            if method =='simps':\n",
    "                resL1+=[simps(integrand,phi)]\n",
    "            elif method =='trapz':\n",
    "                resL1+=[np.trapz(integrand,phi)]\n",
    "            elif method =='sum':\n",
    "                resL1+=[np.sum(integrand*np.diff(phi)[0])]\n",
    "        res+=[simps(resL1,L1)]\n",
    "    res=np.asarray(res)/(2*np.pi)**2\n",
    "    return res"
   ]
  },
  {
   "cell_type": "code",
   "execution_count": 152,
   "metadata": {},
   "outputs": [],
   "source": [
    "# use same sampling as in Limber case\n",
    "L     = np.logspace(1,4,400)\n",
    "\n",
    "# sampling for integrations\n",
    "phi = np.linspace(0.,2.*np.pi,1000,endpoint=True)\n",
    "L1  = np.logspace(-1,5,400)"
   ]
  },
  {
   "cell_type": "code",
   "execution_count": 153,
   "metadata": {},
   "outputs": [],
   "source": [
    "all_bins = get_regularized_sum_of_terms(L,L1,phi,MA,method='trapz')+get_second_sum_of_terms(L,L1,MA,method='trapz')"
   ]
  },
  {
   "cell_type": "code",
   "execution_count": 141,
   "metadata": {},
   "outputs": [],
   "source": [
    "L, corrs = np.load('../output/LimberPostBornResultsLSST.npy')"
   ]
  },
  {
   "cell_type": "code",
   "execution_count": 154,
   "metadata": {},
   "outputs": [
    {
     "data": {
      "text/plain": [
       "<matplotlib.legend.Legend at 0x2aac73e79e80>"
      ]
     },
     "execution_count": 154,
     "metadata": {},
     "output_type": "execute_result"
    },
    {
     "data": {
      "image/png": "[encoded data removed]",
      "text/plain": [
       "<Figure size 432x288 with 1 Axes>"
      ]
     },
     "metadata": {
      "needs_background": "light"
     },
     "output_type": "display_data"
    }
   ],
   "source": [
    "plt.figure()\n",
    "plt.title('post born correction')\n",
    "plt.loglog(L,corrs[-1],label='Limber',color='g')\n",
    "plt.loglog(L,-corrs[-1],color='g',ls='--')\n",
    "plt.loglog(L,all_bins,label='no Limber',color='b')\n",
    "plt.loglog(L,-all_bins,color='b',ls='--')\n",
    "plt.legend()"
   ]
  },
  {
   "cell_type": "code",
   "execution_count": 132,
   "metadata": {},
   "outputs": [
    {
     "data": {
      "text/plain": [
       "299792.458"
      ]
     },
     "execution_count": 132,
     "metadata": {},
     "output_type": "execute_result"
    }
   ],
   "source": []
  },
  {
   "cell_type": "code",
   "execution_count": null,
   "metadata": {},
   "outputs": [],
   "source": []
  }
 ],
 "metadata": {
  "kernelspec": {
   "display_name": "NERSC BCCP",
   "language": "python",
   "name": "bccp"
  },
  "language_info": {
   "codemirror_mode": {
    "name": "ipython",
    "version": 3
   },
   "file_extension": ".py",
   "mimetype": "text/x-python",
   "name": "python",
   "nbconvert_exporter": "python",
   "pygments_lexer": "ipython3",
   "version": "3.6.7"
  }
 },
 "nbformat": 4,
 "nbformat_minor": 2
}
