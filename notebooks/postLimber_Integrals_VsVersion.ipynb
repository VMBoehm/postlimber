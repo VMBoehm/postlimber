{
 "cells": [
  {
   "cell_type": "code",
   "execution_count": 1,
   "metadata": {},
   "outputs": [],
   "source": [
    "import numpy as np\n",
    "import matplotlib.pyplot as plt"
   ]
  },
  {
   "cell_type": "code",
   "execution_count": 2,
   "metadata": {},
   "outputs": [],
   "source": [
    "path = '../PostBornEma/'"
   ]
  },
  {
   "cell_type": "code",
   "execution_count": 3,
   "metadata": {},
   "outputs": [],
   "source": [
    "data = np.loadtxt(path+'FFT_k-1Pk.dat',skiprows=2)\n",
    "\n",
    "#----------------------#\n",
    "n         = data[:,0]\n",
    "Re_c_n    = data[:,1]\n",
    "Im_c_n    = data[:,2]\n",
    "Re_nu_n   = data[:,3]\n",
    "Im_nu_n   = data[:,4]\n",
    "#----------------------#\n",
    "\n",
    "c_n  = Re_c_n  + 1j * Im_c_n\n",
    "nu_n = Re_nu_n + 1j * Im_nu_n"
   ]
  },
  {
   "cell_type": "code",
   "execution_count": 4,
   "metadata": {},
   "outputs": [],
   "source": [
    "# for cl psipsi\n",
    "data =  np.load(path+'Il_nu_t_new1-ell-nn-tt.npy')\n",
    "ell       = data[:,0]\n",
    "nn        = data[:,1]\n",
    "tt        = data[:,2]\n",
    "#----------------------#\n",
    "\n",
    "data =  np.load(path+'Il_nu_t_new1-ReI-ImI.npy')\n",
    "Re_I      = data[:,0]\n",
    "Im_I      = data[:,1]\n",
    "#----------------------#\n",
    "\n",
    "I_0 = Re_I + 1j * Im_I\n"
   ]
  },
  {
   "cell_type": "code",
   "execution_count": 5,
   "metadata": {},
   "outputs": [],
   "source": [
    "#for cl psi delta\n",
    "data =  np.load(path+'Il_nu_t_nd2-ReI-ImI.npy')\n",
    "Re_I      = data[:,0]\n",
    "Im_I      = data[:,1]\n",
    "#----------------------#\n",
    "\n",
    "I_2 = Re_I + 1j * Im_I\n",
    "\n",
    "\n",
    "# for cl delta delta\n",
    "data =  np.load(path+'Il_nu_t_nd4-ReI-ImI.npy')\n",
    "Re_I      = data[:,0]\n",
    "Im_I      = data[:,1]\n",
    "#----------------------#\n",
    "\n",
    "I_4 = Re_I + 1j * Im_I\n",
    "\n"
   ]
  },
  {
   "cell_type": "code",
   "execution_count": 6,
   "metadata": {},
   "outputs": [],
   "source": [
    "del Re_I, Im_I, data"
   ]
  },
  {
   "cell_type": "code",
   "execution_count": 7,
   "metadata": {},
   "outputs": [],
   "source": [
    "#shrink\n",
    "ell_ = np.unique(ell)\n",
    "nu_n_= np.unique(nu_n) \n",
    "t_   = np.unique(tt)\n",
    "\n",
    "\n",
    "#make 3D arrays \n",
    "ell = ell.reshape(ell_.size, nu_n_.size, t_.size)\n",
    "nn  = nn.reshape(ell_.size, nu_n_.size, t_.size)\n",
    "tt  = tt.reshape(ell_.size, nu_n_.size, t_.size)\n",
    "I_0 = I_0.reshape(ell_.size, nu_n_.size, t_.size)\n",
    "I_2 = I_2.reshape(ell_.size, nu_n_.size, t_.size)\n",
    "I_4 = I_4.reshape(ell_.size, nu_n_.size, t_.size)\n",
    "\n",
    "cn2 = c_n.copy()\n",
    "cn2[:-1] *=2\n",
    "\n",
    "#insert a new axis for r and multiply with c_n \n",
    "I0_lcrt = np.expand_dims(I_0, 2)*cn2.reshape(1, -1, 1, 1)\n",
    "I2_lcrt = np.expand_dims(I_2, 2)*cn2.reshape(1, -1, 1, 1)\n",
    "I4_lcrt = np.expand_dims(I_4, 2)*cn2.reshape(1, -1, 1, 1)\n",
    "\n",
    "#change t and c\n",
    "I0_ltrc = np.swapaxes(I0_lcrt, 1, 3)\n",
    "I2_ltrc = np.swapaxes(I2_lcrt, 1, 3)\n",
    "I4_ltrc = np.swapaxes(I4_lcrt, 1, 3)\n"
   ]
  },
  {
   "cell_type": "code",
   "execution_count": 8,
   "metadata": {},
   "outputs": [],
   "source": [
    "#get Gaussian quadrature weights\n",
    "data = np.loadtxt(path+'GG_weights.dat',skiprows=2)\n",
    "t1   = data[:,0]\n",
    "w1   = data[:,1]\n",
    "assert(np.allclose(t_,t1))\n"
   ]
  },
  {
   "cell_type": "code",
   "execution_count": 9,
   "metadata": {},
   "outputs": [
    {
     "name": "stdout",
     "output_type": "stream",
     "text": [
      "{'h': 0.677, 'omega_b': 0.02247, 'omega_cdm': 0.11923, 'A_s': 2.10732e-09, 'n_s': 0.96824, 'k_pivot': 0.05}\n"
     ]
    }
   ],
   "source": [
    "#cosmology\n",
    "h         = 0.6770\n",
    "omega_cdm = 0.11923\n",
    "omega_b   = 0.02247\n",
    "Omega_b   = omega_b/h**2\n",
    "Omega_cdm = omega_cdm/h**2\n",
    "Omega_m   = Omega_b+Omega_cdm\n",
    "ns        = 0.96824\n",
    "A0        = 2.10732*10**(-9)\n",
    "\n",
    "#dictionary for class\n",
    "cosmo_dict={'h': h,\n",
    "'omega_b' : omega_b,\n",
    "'omega_cdm': omega_cdm,\n",
    "'A_s'    : A0,\n",
    "'n_s'    : ns,\n",
    "'k_pivot' : 0.05}\n",
    "print(cosmo_dict)\n",
    "\n",
    "# speed of light\n",
    "c      = 299792458./1000. # km/s\n",
    "\n",
    "#prefactor for Cl_kk computation from Cl_dd\n",
    "prefac = 1.5*Omega_m*(100.)**2/c**2 #without h"
   ]
  },
  {
   "cell_type": "code",
   "execution_count": 10,
   "metadata": {},
   "outputs": [],
   "source": [
    "#interpolation splines for redshift and distance\n",
    "from classy import Class\n",
    "cosmo = Class()\n",
    "cosmo.set(cosmo_dict)\n",
    "cosmo.compute()\n",
    "cosmo_b               = cosmo.get_background()\n",
    "\n",
    "class_z               = cosmo_b['z'][::-1]\n",
    "class_chi             = cosmo_b['comov. dist.'][::-1]\n",
    "class_D               = cosmo_b['gr.fac. D'][::-1]\n",
    "class_H               = cosmo_b['H [1/Mpc]'][::-1]/h #already divided by c\n",
    "derivParams           = cosmo.get_current_derived_parameters(['z_rec'])\n",
    "\n",
    "dchi_dz=(class_chi[1::]-class_chi[0:-1])/(class_z[1::]-class_z[0:-1])*h\n",
    "z_mean = (class_z[1::]+class_z[0:-1])/2\n",
    "\n",
    "z_cmb                 = derivParams['z_rec']\n",
    "\n",
    "\n",
    "from scipy.interpolate import interp1d\n",
    "chi_z = interp1d(class_z,class_chi*h,fill_value=0, bounds_error=False)\n",
    "z_chi = interp1d(class_chi*h,class_z,fill_value=0, bounds_error=False)  # Mpc/h\n",
    "D_chi = interp1d(class_chi*h,class_D,fill_value=0, bounds_error=False)    # growth\n",
    "D_z   = interp1d(class_z,class_D,fill_value=0, bounds_error=False)\n",
    "# chi_cmb\n",
    "chi_cmb = chi_z(z_cmb)\n",
    "\n",
    "dz_dchi = interp1d(class_chi*h,class_H,fill_value=0, bounds_error=False)\n",
    "dchi_dz = interp1d(z_mean,dchi_dz,fill_value=0, bounds_error=False)\n"
   ]
  },
  {
   "cell_type": "code",
   "execution_count": 11,
   "metadata": {},
   "outputs": [
    {
     "data": {
      "image/png": "[encoded data removed]",
      "text/plain": [
       "<Figure size 432x288 with 1 Axes>"
      ]
     },
     "metadata": {
      "needs_background": "light"
     },
     "output_type": "display_data"
    },
    {
     "data": {
      "image/png": "[encoded data removed]",
      "text/plain": [
       "<Figure size 432x288 with 1 Axes>"
      ]
     },
     "metadata": {
      "needs_background": "light"
     },
     "output_type": "display_data"
    },
    {
     "data": {
      "image/png": "[encoded data removed]",
      "text/plain": [
       "<Figure size 432x288 with 1 Axes>"
      ]
     },
     "metadata": {
      "needs_background": "light"
     },
     "output_type": "display_data"
    },
    {
     "data": {
      "image/png": "[encoded data removed]",
      "text/plain": [
       "<Figure size 432x288 with 1 Axes>"
      ]
     },
     "metadata": {
      "needs_background": "light"
     },
     "output_type": "display_data"
    },
    {
     "data": {
      "image/png": "[encoded data removed]",
      "text/plain": [
       "<Figure size 432x288 with 1 Axes>"
      ]
     },
     "metadata": {
      "needs_background": "light"
     },
     "output_type": "display_data"
    },
    {
     "name": "stdout",
     "output_type": "stream",
     "text": [
      "(200,) (200,)\n"
     ]
    },
    {
     "name": "stderr",
     "output_type": "stream",
     "text": [
      "/global/homes/v/vboehm/.conda/envs/bccp/lib/python3.6/site-packages/ipykernel_launcher.py:28: RuntimeWarning: divide by zero encountered in reciprocal\n"
     ]
    },
    {
     "data": {
      "image/png": "[encoded data removed]",
      "text/plain": [
       "<Figure size 432x288 with 1 Axes>"
      ]
     },
     "metadata": {
      "needs_background": "light"
     },
     "output_type": "display_data"
    }
   ],
   "source": [
    "# sanity checks\n",
    "z = np.linspace(0,5,100)\n",
    "chi = chi_z(z)\n",
    "plt.figure()\n",
    "plt.plot(class_z,class_D,ls='-')\n",
    "plt.plot(z,D_z(z),ls='--')\n",
    "plt.plot(z,1/(1+z),ls='-.')\n",
    "plt.xlim(0,5)\n",
    "plt.show()\n",
    "D_z(0)\n",
    "z=np.linspace(0.,10,200)\n",
    "chi = chi_z(z)\n",
    "plt.figure()\n",
    "plt.loglog(z,chi_z(z))\n",
    "plt.show()\n",
    "\n",
    "plt.figure()\n",
    "plt.plot(z,D_z(z)/D_chi(chi_z(z))-1.)\n",
    "plt.show()\n",
    "plt.figure()\n",
    "plt.loglog(z,)\n",
    "plt.show()\n",
    "plt.figure()\n",
    "plt.loglog(z,z_chi(chi_z(z)))\n",
    "plt.show()\n",
    "print(z.shape,chi.shape)\n",
    "plt.figure()\n",
    "plt.loglog(chi,dchi_dz(z)**(-1))\n",
    "plt.loglog(chi,dz_dchi(chi))\n",
    "plt.loglog(class_chi*h,class_H,ls='--')\n",
    "plt.ylim(1e-4,1e-1)\n",
    "plt.show()"
   ]
  },
  {
   "cell_type": "markdown",
   "metadata": {},
   "source": [
    "# Integrals"
   ]
  },
  {
   "cell_type": "code",
   "execution_count": 12,
   "metadata": {},
   "outputs": [],
   "source": [
    "from scipy.integrate import simps, quadrature\n",
    "from scipy.interpolate import interp1d\n",
    "import time\n"
   ]
  },
  {
   "cell_type": "code",
   "execution_count": 13,
   "metadata": {},
   "outputs": [
    {
     "name": "stderr",
     "output_type": "stream",
     "text": [
      "/global/homes/v/vboehm/.conda/envs/bccp/lib/python3.6/site-packages/ipykernel_launcher.py:30: ComplexWarning: Casting complex values to real discards the imaginary part\n"
     ]
    },
    {
     "name": "stdout",
     "output_type": "stream",
     "text": [
      "Time taken =  1.4044709205627441\n"
     ]
    }
   ],
   "source": [
    "# CL^kk following Eq. 3.5 in https://arxiv.org/abs/1705.05022\n",
    "\n",
    "def lensing_kernel(xi, xmax):\n",
    "    return (xmax - xi)/(xmax*xi) * (xmax > xi) * (1.+z_chi(xi))\n",
    "\n",
    "\n",
    "r2d, t2d = np.meshgrid(t_,t_)\n",
    "w11, w12 = np.meshgrid(w1,w1)\n",
    "# inflate by one dimensions (nu_n)\n",
    "r2d, t2d = np.expand_dims(r2d, 2), np.expand_dims(t2d, 2)\n",
    "w11, w12 = np.expand_dims(w11, 2), np.expand_dims(w12, 2)\n",
    "#I0_ltrc  = np.swapaxes(I0_lcrt, 1, 3)\n",
    "\n",
    "\n",
    "begin=time.time()\n",
    "\n",
    "chi1fac0 = (lensing_kernel(r2d*chi_cmb, chi_cmb)*D_chi(r2d*chi_cmb))\n",
    "chi1fac0 = chi1fac0 *(r2d*chi_cmb)**(1-nu_n_.reshape(1, 1, -1))\n",
    "\n",
    "chi2fac00 = (lensing_kernel(t2d*r2d*chi_cmb, chi_cmb)*D_chi(r2d*t2d*chi_cmb))\n",
    "chi2fac01 = (lensing_kernel(1./t2d*r2d*chi_cmb, chi_cmb)*D_chi(r2d*1./t2d*chi_cmb))\n",
    "chi2fac01 = chi2fac01 * t2d**(nu_n_.reshape(1, 1, -1)-2)\n",
    "chi2fac0  = chi2fac00 + chi2fac01\n",
    "\n",
    "chifacs = w11*w12*chi1fac0* chi2fac0\n",
    "\n",
    "result=np.zeros_like(ell_)\n",
    "lmax = ell_.size\n",
    "for ii  in range(ell_.size):        \n",
    "    result[ii] = np.sum(chifacs*I0_ltrc[ii])\n",
    "\n",
    "Cl=chi_cmb * result*1./np.pi**2*prefac**2/2.\n",
    "\n",
    "print('Time taken = ', time.time()-begin)"
   ]
  },
  {
   "cell_type": "markdown",
   "metadata": {},
   "source": [
    "We have integrals of the form (for example, take the second term of $C_{22shift}^{\\kappa g}$ i.e. eq. 4.2; drop the integral over $\\ell$):\n",
    "<br>\n",
    "\\begin{eqnarray}\n",
    "Target &=& \\int_0^{\\chi_c}  d\\chi W(\\chi, \\chi_c)\\int_0^{\\chi_0} d\\chi' W_h(\\chi') C_{l1}^{\\Phi \\Psi}(\\chi', \\chi) C_{l2}^{\\delta\\phi}(\\chi', \\chi) \\\\\n",
    "&=&\\int_0^{\\chi_c} d\\chi W(\\chi, \\chi_c)  \\int_0^{\\chi_0} d\\chi' W_h(\\chi')\n",
    "\\int_0^{\\chi'} d\\chi\" W(\\chi\", \\chi') C_{l1}^{\\Psi \\Psi}(\\chi\", \\chi) \n",
    "\\int_0^{\\chi} d\\chi''' W(\\chi''', \\chi) C_{l2}^{\\delta \\Psi}(\\chi', \\chi''') \n",
    "\\end{eqnarray}\n",
    "\n",
    "Now,\n",
    "\\begin{eqnarray}\n",
    "C_l^{ab}(\\chi_1, \\chi_2) &=& \\int \\frac{dk}{k} j_l(k\\chi_1)j_l(k\\chi_2) [k^3 P^{ab}(k, \\chi_1, \\chi_2)] \\\\\n",
    "&=& \\sum_n c_n \\chi_1 ^{-\\nu_n} I_l(\\nu_n, \\frac{\\chi_2}{\\chi_1})\n",
    "\\end{eqnarray}\n",
    "\n",
    "So, \n",
    "\\begin{eqnarray}\n",
    "Target &=& \\int_0^{\\chi_c} d\\chi W(\\chi, \\chi_c)  \\int_0^{\\chi_0} d\\chi' W_h(\\chi') \\\\\n",
    "&\\times& \\Big(\\int_0^{\\chi'} d\\chi\" W(\\chi\", \\chi') \\sum_n c^{ab}_n \\chi ^{-\\nu_n} I_{l1}^{ab}(\\nu_n, \\frac{\\chi''}{\\chi}) \\Big) \\\\\n",
    "&\\times& \\Big(\\int_0^{\\chi} d\\chi''' W(\\chi''', \\chi) \\sum_n c^{cd}_n \\chi' ^{-\\nu_n} I_{l2}^{cd}(\\nu_n, \\frac{\\chi'''}{\\chi'}) \\Big)\n",
    "\\end{eqnarray}\n",
    "\n",
    "These are coupled together in complicated way amongst the 4 $\\chi$. \n",
    "<br>\n",
    "I think the best way to estimate these are to save the array - \n",
    "$$\n",
    "\\int_0^{\\chi} d\\chi\" W(\\chi\", \\chi) \\sum_n c_n \\chi' ^{-\\nu_n} I_l(\\nu_n, \\frac{\\chi''}{\\chi'}) \n",
    "$$\n",
    "in the above above equation as a matrix $G(l, \\chi, \\chi')$.\n",
    "<br>\n",
    "This then reduces the evaluation of integrals to the sum - \n",
    "\\begin{eqnarray}\n",
    "Target &=& \\int_0^{\\chi_c} d\\chi W(\\chi, \\chi_c)  \\int_0^{\\chi_0} d\\chi' W_h(\\chi') \\times G^{ab}(l_1, \\chi', \\chi)\\times G^{cd}(l_2, \\chi, \\chi')\\\\\n",
    "\\end{eqnarray}\n",
    "which we can evaluate as a Gauss Qaud sum.\n",
    "\n",
    "To save $G^{cd}(l_2, \\chi, \\chi')$, we have -\n",
    "\n",
    "\\begin{eqnarray}\n",
    "G^{cd}(l, \\chi, \\chi') &=& \\int_0^{\\chi} d\\chi\" W(\\chi\", \\chi) \\sum_n c_n \\chi' ^{-\\nu_n} I_l(\\nu_n, \\frac{\\chi''}{\\chi'}) \\\\\n",
    "t &=& \\chi ''/\\chi' \\\\\n",
    "G^{cd}(l, \\chi, \\chi') &=& \\int_0^{\\chi/\\chi'} dt W(t\\chi', \\chi) \\sum_n c_n \\chi' ^{1-\\nu_n} I_l(\\nu_n, t) \\\\\n",
    "G^{cd}(l, \\chi, \\chi') &=& \\sum_n  \\int_0^1 dt \\big( c_n(\\chi', t\\chi') (W(t\\chi', \\chi) + t^{-\\nu-2} c_n(\\chi', \\chi'/t) W(\\chi'/t, \\chi) \\big) \\chi' ^{1-\\nu_n} I_l(\\nu_n, t) \\\\\n",
    "\\end{eqnarray}\n",
    "\n",
    "__The problem here is that $t$ is fixed. And the obvious values of $\\chi$ and $\\chi'$ that we should take are $t \\chi_{CMB}$. Hence I am a bit uncertain how well are we sampling this integral anymore in going from $\\chi/\\chi'$ to (0-1) limit. But it should work since that is what we do in the Cl_kk as well\n",
    "__"
   ]
  },
  {
   "cell_type": "code",
   "execution_count": 14,
   "metadata": {},
   "outputs": [
    {
     "name": "stdout",
     "output_type": "stream",
     "text": [
      "(100, 289)\n",
      "Time taken =  3.5805656909942627\n"
     ]
    }
   ],
   "source": [
    "### Estimate as function of 'chi' and then integrate over \\chi\n",
    "###This is a test to check that we can estimate Cl_kk with this accurately, which kind of justifies that we are estimating\n",
    "###The G matrix accurately.\n",
    "\n",
    "# def Wkernel(xi, xmax):\n",
    "#     return (xmax - xi)/(xmax*xi) * (xmax > xi) * (1.+z_chi(xi))\n",
    "\n",
    "\n",
    "chimax = chi_cmb\n",
    "chi1s  = t_*chimax\n",
    "\n",
    "chi1fac0 = (lensing_kernel(chi1s, chimax))#*D_chi(chi1s)) #Move this inside the sum\n",
    "#ltc\n",
    "t2d    = t_.reshape(1, -1, 1)\n",
    "#get rid of r -axis\n",
    "I0_ltc = np.squeeze(I0_ltrc)\n",
    "\n",
    "begin = time.time()\n",
    "result = []\n",
    "for ii, chi in enumerate(chi1s):\n",
    "    \n",
    "    chifac    = chi**(1-nu_n_.reshape(1, 1, -1)) * D_chi(chi) #Move this c_n inside the loop\n",
    "    \n",
    "    chi2fac00 = (lensing_kernel(t2d*chi, chimax)*D_chi(t2d*chi))\n",
    "    chi2fac01 = (lensing_kernel(1./t2d*chi, chimax)*D_chi(1./t2d*chi))* t2d**(nu_n_.reshape(1,  -1)-2)\n",
    "    chi2fac0  = chi2fac00 + chi2fac01\n",
    "    fac       = w1.reshape(1, -1, 1)*chi2fac0*chifac\n",
    "    integrand = fac * I0_ltc\n",
    "    result.append(integrand.sum(axis = (1, 2)))\n",
    "\n",
    "result = np.array(result)\n",
    "print(result.shape)\n",
    "result = (result*chi1fac0.reshape(-1, 1)*w1.reshape(-1, 1)).sum(axis=0)\n",
    "Cl2=chimax * result*4./np.pi**2*prefac**2/8.\n",
    "\n",
    "print('Time taken = ', time.time()-begin)"
   ]
  },
  {
   "cell_type": "code",
   "execution_count": 51,
   "metadata": {},
   "outputs": [
    {
     "name": "stderr",
     "output_type": "stream",
     "text": [
      "/global/homes/v/vboehm/.conda/envs/bccp/lib/python3.6/site-packages/numpy/core/numeric.py:492: ComplexWarning: Casting complex values to real discards the imaginary part\n",
      "  return array(a, dtype, copy=False, order=order)\n"
     ]
    },
    {
     "data": {
      "text/plain": [
       "(2, 500)"
      ]
     },
     "execution_count": 51,
     "metadata": {},
     "output_type": "execute_result"
    },
    {
     "data": {
      "image/png": "[encoded data removed]",
      "text/plain": [
       "<Figure size 432x288 with 1 Axes>"
      ]
     },
     "metadata": {
      "needs_background": "light"
     },
     "output_type": "display_data"
    }
   ],
   "source": [
    "ll,clpp,clpp2 = np.loadtxt('class_ouput.out')\n",
    "plt.figure()\n",
    "plt.loglog(ell_[:lmax],(ell_[:lmax]*(ell_[:lmax]+1.))**2*Cl[:lmax]/(2.*np.pi))\n",
    "plt.loglog(ell_[:lmax],(ell_[:lmax]*(ell_[:lmax]+1.))**2*Cl2[:lmax]/(2.*np.pi))\n",
    "plt.loglog(ll,(ll*(ll+1.))**2*clpp/(2.*np.pi),ls='--')\n",
    "plt.loglog(ll,(ll*(ll+1.))**2*np.interp(ll,cllen['ell'],cllen['pp'])/(2.*np.pi),ls=':')\n",
    "# plt.loglog(ell_[:lmax],(ell_[:lmax]*(ell_[:lmax]+1.))**2*Cl3[:lmax]/(2.*np.pi))\n",
    "plt.xlim(2,500)"
   ]
  },
  {
   "cell_type": "code",
   "execution_count": 40,
   "metadata": {},
   "outputs": [
    {
     "name": "stderr",
     "output_type": "stream",
     "text": [
      "/global/homes/v/vboehm/.conda/envs/bccp/lib/python3.6/site-packages/numpy/core/numeric.py:492: ComplexWarning: Casting complex values to real discards the imaginary part\n",
      "  return array(a, dtype, copy=False, order=order)\n"
     ]
    },
    {
     "data": {
      "text/plain": [
       "<matplotlib.legend.Legend at 0x2b78770842b0>"
      ]
     },
     "execution_count": 40,
     "metadata": {},
     "output_type": "execute_result"
    },
    {
     "data": {
      "image/png": "[encoded data removed]",
      "text/plain": [
       "<Figure size 432x288 with 1 Axes>"
      ]
     },
     "metadata": {
      "needs_background": "light"
     },
     "output_type": "display_data"
    }
   ],
   "source": [
    "ll,clpp,clpp2 = np.loadtxt('class_ouput.out')\n",
    "\n",
    "plt.figure()\n",
    "plt.semilogx(ell_,Cl/np.interp(ell_,ll,clpp), ls=\":\", lw=3, label='mcSpeedy')\n",
    "plt.semilogx(ell_,Cl2/np.interp(ell_,ll,clpp), ls=\"--\", lw=2, label='chi')\n",
    "plt.semilogx(ell_,Cl2/np.interp(ell_,cllen['ell'],cllen['pp']), ls=\"--\", lw=2, label='chi')\n",
    "plt.ylim(0.95,1.05)\n",
    "# plt.ylim(0.9,2)\n",
    "plt.grid()\n",
    "plt.legend()"
   ]
  },
  {
   "cell_type": "markdown",
   "metadata": {},
   "source": [
    "# save xifunc as described above\n",
    "\n",
    "To save $G^{cd}(l_2, \\chi, \\chi')$, we have -\n",
    "\n",
    "\\begin{eqnarray}\n",
    "G^{cd}(l, \\chi, \\chi') &=& \\int_0^{\\chi} d\\chi\" W(\\chi\", \\chi) \\sum_n c_n \\chi' ^{-\\nu_n} I_l(\\nu_n, \\frac{\\chi''}{\\chi'}) \\\\\n",
    "t &=& \\chi ''/\\chi' \\\\\n",
    "G^{cd}(l, \\chi, \\chi') &=& \\int_0^{\\chi/\\chi'} dt W(t\\chi', \\chi) \\sum_n c_n \\chi' ^{1-\\nu_n} I_l(\\nu_n, t) \\\\\n",
    "G^{cd}(l, \\chi, \\chi') &=& \\sum_n  \\int_0^1 dt \\big( c_n(\\chi', t\\chi') (W(t\\chi', \\chi) + t^{-\\nu-2} c_n(\\chi', \\chi'/t) W(\\chi'/t, \\chi) \\big) \\chi' ^{1-\\nu_n} I_l(\\nu_n, t) \\\\\n",
    "\\end{eqnarray}\n",
    "\n",
    "__The problem here is that $t$ is fixed. And the obvious values of $\\chi$ and $\\chi'$ that we should take are $t \\chi_{CMB}$. Hence I am a bit uncertain how well are we sampling this integral anymore in going from $\\chi/\\chi'$ to (0-1) limit. But it should work since that is what we do in the Cl_kk as well\n",
    "__"
   ]
  },
  {
   "cell_type": "code",
   "execution_count": 17,
   "metadata": {},
   "outputs": [],
   "source": [
    "# ### Saving here\n",
    "\n",
    "# def Wkernel(xi, xmax):\n",
    "#     return (xmax - xi)/(xmax*xi) * (xmax > xi) * (1.+z_chi(xi))\n",
    "\n",
    "# I4_ltc = np.squeeze(I4_ltrc)\n",
    "# t2d = t_.reshape(1, -1, 1)\n",
    "\n",
    "# chis = t_*chi_cmb\n",
    "# chips = t_*chi_cmb\n",
    "\n",
    "# Gsave = []\n",
    "\n",
    "# begin = time.time()\n",
    "# for ichim, chimax in enumerate(chis[:]):\n",
    "#     if ichim %10 == 0:\n",
    "#         print(ichim)\n",
    "        \n",
    "#     chi1fac0 = (Wkernel(chips, chimax))#*D_chi(chi1s)) #Move this inside the sum\n",
    "\n",
    "#     result = []\n",
    "#     for ii, chi in enumerate(chips):\n",
    "\n",
    "#         chifac = chi**(1-nu_n_.reshape(1, 1, -1)) * D_chi(chi) #Move this c_n inside the loop\n",
    "\n",
    "#         chi2fac00 = (Wkernel(t2d*chi, chimax)*D_chi(t2d*chi))\n",
    "#         chi2fac01 = (Wkernel(1/t2d*chi, chimax)*D_chi(1/t2d*chi))* t2d**(nu_n_.reshape(1,  -1)-2)\n",
    "#         chi2fac0 = chi2fac00 + chi2fac01\n",
    "#         fac = w1.reshape(1, -1, 1)*chi2fac0*chifac\n",
    "#         integrand = fac * I4_ltc\n",
    "#         result.append(integrand.sum(axis = (1, 2)))\n",
    "\n",
    "#     Gsave.append(np.array(result).T)\n",
    "#     if ichim %10 == 0:\n",
    "#         print(time.time()-begin)\n",
    "    \n",
    "# Gsave = np.swapaxes(np.array(Gsave), 0, 1)\n",
    "\n",
    "# np.save(path + 'G-Ilnut_nd4', Gsave)"
   ]
  },
  {
   "cell_type": "markdown",
   "metadata": {},
   "source": [
    "# Clgg"
   ]
  },
  {
   "cell_type": "code",
   "execution_count": 18,
   "metadata": {},
   "outputs": [
    {
     "name": "stderr",
     "output_type": "stream",
     "text": [
      "/global/homes/v/vboehm/.conda/envs/bccp/lib/python3.6/site-packages/ipykernel_launcher.py:79: ComplexWarning: Casting complex values to real discards the imaginary part\n"
     ]
    },
    {
     "name": "stdout",
     "output_type": "stream",
     "text": [
      "Time taken =  1.4288322925567627\n"
     ]
    },
    {
     "name": "stderr",
     "output_type": "stream",
     "text": [
      "/global/homes/v/vboehm/.conda/envs/bccp/lib/python3.6/site-packages/ipykernel_launcher.py:109: ComplexWarning: Casting complex values to real discards the imaginary part\n"
     ]
    },
    {
     "name": "stdout",
     "output_type": "stream",
     "text": [
      "Time taken =  1.4716861248016357\n"
     ]
    },
    {
     "name": "stderr",
     "output_type": "stream",
     "text": [
      "/global/homes/v/vboehm/.conda/envs/bccp/lib/python3.6/site-packages/ipykernel_launcher.py:137: ComplexWarning: Casting complex values to real discards the imaginary part\n"
     ]
    },
    {
     "name": "stdout",
     "output_type": "stream",
     "text": [
      "Time taken =  1.4710264205932617\n"
     ]
    }
   ],
   "source": [
    "# Chirag's kernel definition\n",
    "def old_kernel(z0, sigz=0.3):\n",
    "    z1, z2   = z0-sigz/2., z0+sigz/2.\n",
    "    xi1, xi2 = chi_z(z1), chi_z(z2)\n",
    "    sigxi    = xi2-xi1\n",
    "    xi0     = chi_z(z0)\n",
    "    def kernel(xi):\n",
    "        return 1./np.sqrt(2*np.pi*sigxi**2) * np.exp(- (xi-xi0)**2/2/sigxi**2) \n",
    "    return kernel\n",
    "\n",
    "# general kernel if dNdz is Gaussian\n",
    "def Gauss_redshift(z0,sigma_z):\n",
    "    def z_kernel(z):\n",
    "        return 1./np.sqrt(2.*np.pi)/sigma_z*np.exp(-(z-z0)**2/2./sigma_z**2)\n",
    "    return z_kernel\n",
    "\n",
    "def gal_kernel(z_kernel,ximax=5):\n",
    "    def chi_kernel(xi):\n",
    "        return z_kernel(z_chi(xi))*dz_dchi(xi)\n",
    "    return chi_kernel\n",
    "\n",
    "# kernel as in paper?\n",
    "def Gauss_chi(z0,sigma_z,chimax=5):\n",
    "    chi0      = chi_z(z0)\n",
    "    sigma_chi = sigma_z/dz_dchi(chi0)\n",
    "    def chi_kernel(chi):\n",
    "        return 1./np.sqrt(2.*np.pi)/sigma_chi*np.exp(-(chi-chi0)**2/2./sigma_chi**2)\n",
    "    return chi_kernel\n",
    "    \n",
    "\n",
    "# supports redshift dependent bias, for now: constant\n",
    "def bias_chi(chi):\n",
    "    return 1.9\n",
    "\n",
    "    \n",
    "#First kernel\n",
    "###############################################################lcr##########\n",
    "#Set up\n",
    "\n",
    "r2d, t2d = np.meshgrid(t_,t_)\n",
    "w11, w12 = np.meshgrid(w1,w1)\n",
    "#nu axis\n",
    "r2d, t2d = np.expand_dims(r2d, 2), np.expand_dims(t2d, 2)\n",
    "w11, w12 = np.expand_dims(w11, 2), np.expand_dims(w12, 2)\n",
    "I4_ltrc  = np.swapaxes(I4_lcrt, 1, 3)\n",
    "\n",
    "\n",
    "#Redshift kernels\n",
    "\n",
    "# uncomment to reproduce left upper plot\n",
    "#z10, z20, sigz = 1., 1., 0.05\n",
    "\n",
    "z10, z20, sigz = 1., 1.25, 0.5\n",
    "\n",
    "kernel1 = old_kernel(z10,sigz)\n",
    "kernel2 = old_kernel(z20,sigz)\n",
    "\n",
    "#first kernel\n",
    "#########\n",
    "\n",
    "\n",
    "begin=time.time()\n",
    "#Try different chimax to see how sampling changes things\n",
    "chimax   = chi_z(z20+5.*sigz)\n",
    "\n",
    "chi1fac0 = (kernel1(r2d*chimax)*D_chi(r2d*chimax)*bias_chi(r2d*chimax))\n",
    "chi1fac0 = chi1fac0 *(r2d*chimax)**(1-(4+nu_n_.reshape(1, 1, -1)))\n",
    "\n",
    "chi2fac00 = (kernel2(t2d*r2d*chimax)*D_chi(r2d*t2d*chimax)*bias_chi(r2d*t2d*chimax))\n",
    "chi2fac01 = (kernel2(1./t2d*r2d*chimax)*D_chi(r2d/t2d*chimax)*bias_chi(r2d/t2d*chimax))\n",
    "chi2fac01 = chi2fac01 * t2d**((4+nu_n_).reshape(1, 1, -1)-2)\n",
    "chi2fac0  = chi2fac00 + chi2fac01\n",
    "\n",
    "chifacs = w11*w12*chi1fac0* chi2fac0\n",
    "\n",
    "result=np.zeros_like(ell_)\n",
    "lmax = ell_.size\n",
    "for ii  in range(ell_.size):        \n",
    "    result[ii] = np.sum(chifacs*I4_ltrc[ii])\n",
    "    \n",
    "\n",
    "Clgg = chimax * result*1./np.pi**2/2.\n",
    "\n",
    "print('Time taken = ', time.time()-begin)\n",
    "\n",
    "\n",
    "#Second kernel\n",
    "###################################\n",
    "begin=time.time()\n",
    "kernel1 = Gauss_chi(z10,sigz)\n",
    "kernel2 = Gauss_chi(z20,sigz)\n",
    "\n",
    "chimax  = chi_cmb\n",
    "\n",
    "chi1fac0 = (kernel1(r2d*chimax)*D_chi(r2d*chimax)*bias_chi(r2d*chimax))\n",
    "chi1fac0 = chi1fac0 *(r2d*chimax)**(1-(4+nu_n_.reshape(1, 1, -1)))\n",
    "\n",
    "chi2fac00 = (kernel2(t2d*r2d*chimax)*D_chi(r2d*t2d*chimax)*bias_chi(r2d*t2d*chimax))\n",
    "chi2fac01 = (kernel2(1/t2d*r2d*chimax)*D_chi(r2d*1/t2d*chimax)*bias_chi(r2d/t2d*chimax))\n",
    "chi2fac01 = chi2fac01 * t2d**((4+nu_n_).reshape(1, 1, -1)-2)\n",
    "chi2fac0  = chi2fac00 + chi2fac01\n",
    "\n",
    "\n",
    "chifacs = w11*w12*chi1fac0* chi2fac0\n",
    "\n",
    "result=np.zeros_like(ell_)\n",
    "lmax = ell_.size\n",
    "for ii  in range(ell_.size):        \n",
    "    result[ii] = np.sum(chifacs*I4_ltrc[ii])\n",
    "\n",
    "Clggcmb = chimax * result/np.pi**2/2.\n",
    "\n",
    "print('Time taken = ', time.time()-begin)\n",
    "\n",
    "#third kernel\n",
    "###################################\n",
    "begin=time.time()\n",
    "kernel1 = gal_kernel(Gauss_redshift(z10,sigz))\n",
    "kernel2 = gal_kernel(Gauss_redshift(z20,sigz))\n",
    "\n",
    "chimax = chi_cmb\n",
    "\n",
    "chi1fac0 = (kernel1(r2d*chimax)*D_chi(r2d*chimax)*bias_chi(r2d*chimax))\n",
    "chi1fac0 = chi1fac0 *(r2d*chimax)**(1-(4+nu_n_.reshape(1, 1, -1)))\n",
    "\n",
    "chi2fac00 = (kernel2(t2d*r2d*chimax)*D_chi(r2d*t2d*chimax)*bias_chi(r2d*t2d*chimax))\n",
    "chi2fac01 = (kernel2(1/t2d*r2d*chimax)*D_chi(r2d*1/t2d*chimax)*bias_chi(r2d/t2d*chimax))\n",
    "chi2fac01 = chi2fac01 * t2d**((4+nu_n_).reshape(1, 1, -1)-2)\n",
    "chi2fac0  = chi2fac00 + chi2fac01\n",
    "\n",
    "\n",
    "chifacs = w11*w12*chi1fac0* chi2fac0\n",
    "\n",
    "result=np.zeros_like(ell_)\n",
    "lmax = ell_.size\n",
    "for ii  in range(ell_.size):        \n",
    "    result[ii] = np.sum(chifacs*I4_ltrc[ii])\n",
    "\n",
    "Clggcmb_2 = chimax * result/np.pi**2/2.\n",
    "\n",
    "print('Time taken = ', time.time()-begin)\n"
   ]
  },
  {
   "cell_type": "code",
   "execution_count": 19,
   "metadata": {},
   "outputs": [
    {
     "data": {
      "image/png": "[encoded data removed]",
      "text/plain": [
       "<Figure size 432x288 with 1 Axes>"
      ]
     },
     "metadata": {
      "needs_background": "light"
     },
     "output_type": "display_data"
    }
   ],
   "source": [
    "# uncomment for plotting left upper plot\n",
    "\n",
    "# plot for 3 different kernel definitions (chirag's, paper and mine)\n",
    "# result is very sensitive to kernel, but also off by a factor of a few\n",
    "# plt.plot(ell_, abs(Clgg)*1e6/4./np.pi)\n",
    "# plt.plot(ell_, abs(Clggcmb)*1e6/4./np.pi,ls='--')\n",
    "# plt.plot(ell_, abs(Clggcmb_2)*1e6/4./np.pi,ls='-.')\n",
    "# plt.loglog()\n",
    "# plt.ylim(0.3, 12)\n",
    "# # plt.yticks((0.5, 1, 2, 5, 10), (0.5, 1, 2, 5, 10))\n",
    "# #plt.yticks(np.logspace(-2, 2, 5), np.logspace(-2, 2, 5))\n",
    "# plt.xlim(2, 500)\n",
    "# plt.grid(which='both')\n",
    "\n",
    "# plotting upper righ plot in Fig 2. Differnce seems a factor of 1/4/pi\n",
    "plt.plot(ell_, abs(Clgg)*1e7/4./np.pi)\n",
    "plt.plot(ell_, abs(Clggcmb)*1e7/4./np.pi,ls='--')\n",
    "plt.plot(ell_, abs(Clggcmb_2)*1e7/4./np.pi,ls='-.')\n",
    "plt.loglog()\n",
    "plt.ylim(0.01, 10)\n",
    "# plt.yticks((0.5, 1, 2, 5, 10), (0.5, 1, 2, 5, 10))\n",
    "#plt.yticks(np.logspace(-2, 2, 5), np.logspace(-2, 2, 5))\n",
    "plt.xlim(2, 500)\n",
    "plt.grid(which='both')"
   ]
  },
  {
   "cell_type": "code",
   "execution_count": 20,
   "metadata": {},
   "outputs": [
    {
     "data": {
      "image/png": "[encoded data removed]",
      "text/plain": [
       "<Figure size 432x288 with 1 Axes>"
      ]
     },
     "metadata": {
      "needs_background": "light"
     },
     "output_type": "display_data"
    }
   ],
   "source": [
    "plt.plot(ell_, Clggcmb/Clgg)\n",
    "plt.xscale('log')\n",
    "plt.ylim(0.90, 1.1)\n",
    "plt.grid(which='both')"
   ]
  },
  {
   "cell_type": "code",
   "execution_count": 60,
   "metadata": {},
   "outputs": [
    {
     "name": "stderr",
     "output_type": "stream",
     "text": [
      "/global/homes/v/vboehm/.conda/envs/bccp/lib/python3.6/site-packages/ipykernel_launcher.py:32: ComplexWarning: Casting complex values to real discards the imaginary part\n"
     ]
    },
    {
     "name": "stdout",
     "output_type": "stream",
     "text": [
      "Time taken =  1.3900487422943115\n"
     ]
    }
   ],
   "source": [
    "# computing clkk from Pk_m, approximation where los derivatives are neglected\n",
    "\n",
    "def lensing_kernel_2(xi, xmax):\n",
    "    return (xmax - xi)/(xmax)*xi* (xmax > xi) * (1.+z_chi(xi))\n",
    "\n",
    "kernel = lensing_kernel_2\n",
    "\n",
    "r2d, t2d = np.meshgrid(t_,t_)\n",
    "w11, w12 = np.meshgrid(w1,w1)\n",
    "#nu axis\n",
    "r2d, t2d = np.expand_dims(r2d, 2), np.expand_dims(t2d, 2)\n",
    "w11, w12 = np.expand_dims(w11, 2), np.expand_dims(w12, 2)\n",
    "I4_ltrc  = np.swapaxes(I4_lcrt, 1, 3)\n",
    "\n",
    "begin=time.time()\n",
    "#Try different chimax to see how sampling changes things\n",
    "chimax   = chi_cmb\n",
    "\n",
    "chi1fac0 = (kernel(r2d*chimax,chi_cmb)*D_chi(r2d*chimax))\n",
    "chi1fac0 = chi1fac0 *(r2d*chimax)**(1-(4+nu_n_.reshape(1, 1, -1)))\n",
    "\n",
    "chi2fac00 = (kernel(t2d*r2d*chimax,chi_cmb)*D_chi(r2d*t2d*chimax))\n",
    "chi2fac01 = (kernel(1./t2d*r2d*chimax,chi_cmb)*D_chi(r2d/t2d*chimax))\n",
    "chi2fac01 = chi2fac01 * t2d**((4+nu_n_).reshape(1, 1, -1)-2)\n",
    "chi2fac0  = chi2fac00 + chi2fac01\n",
    "\n",
    "chifacs = w11*w12*chi1fac0* chi2fac0\n",
    "\n",
    "result=np.zeros_like(ell_)\n",
    "lmax = ell_.size\n",
    "for ii  in range(ell_.size):        \n",
    "    result[ii] = np.sum(chifacs*I4_ltrc[ii])\n",
    "    \n",
    "\n",
    "Clkk = chimax * result*1./np.pi**2/2.*prefac**2\n",
    "\n",
    "print('Time taken = ', time.time()-begin)"
   ]
  },
  {
   "cell_type": "code",
   "execution_count": 63,
   "metadata": {},
   "outputs": [
    {
     "name": "stderr",
     "output_type": "stream",
     "text": [
      "/global/homes/v/vboehm/.conda/envs/bccp/lib/python3.6/site-packages/numpy/core/numeric.py:492: ComplexWarning: Casting complex values to real discards the imaginary part\n",
      "  return array(a, dtype, copy=False, order=order)\n"
     ]
    },
    {
     "data": {
      "image/png": "[encoded data removed]",
      "text/plain": [
       "<Figure size 432x288 with 1 Axes>"
      ]
     },
     "metadata": {
      "needs_background": "light"
     },
     "output_type": "display_data"
    },
    {
     "data": {
      "image/png": "[encoded data removed]",
      "text/plain": [
       "<Figure size 432x288 with 1 Axes>"
      ]
     },
     "metadata": {
      "needs_background": "light"
     },
     "output_type": "display_data"
    }
   ],
   "source": [
    "# difference to full sky is not as bad as to flat sky (this is also noted in the Kilbinger (Kitching?) paper for the Limber approximation)\n",
    "plt.figure()\n",
    "plt.loglog(ell_[:lmax],(ell_[:lmax]*(ell_[:lmax]+1.))**2*Cl[:lmax]/(2.*np.pi),label='from psi full sky')\n",
    "plt.loglog(ell_[:lmax],(ell_[:lmax]*(ell_[:lmax]+1.))**2*Cl2[:lmax]/(2.*np.pi),label='from psi full sky 2')\n",
    "plt.loglog(ll,(ll*(ll+1.))**2*clpp/(2.*np.pi),ls='--', label='class old*4')\n",
    "plt.loglog(ll,(ll*(ll+1.))**2*np.interp(ll,cllen['ell'],cllen['pp'])/(2.*np.pi),ls=':',label='class new *4')\n",
    "plt.loglog(ell_[:lmax],Clkk[:lmax]/(2.*np.pi),ls='--',label='from delta flat sky')\n",
    "plt.loglog(ell_[:lmax],(ell_[:lmax]*(ell_[:lmax]))**2*Cl2[:lmax]/(2.*np.pi),label='from psi flat sky')\n",
    "# plt.loglog(ell_[:lmax],(ell_[:lmax]*(ell_[:lmax]+1.))**2*Cl3[:lmax]/(2.*np.pi))\n",
    "plt.xlim(2,500)\n",
    "plt.legend()\n",
    "plt.show()\n"
   ]
  },
  {
   "cell_type": "markdown",
   "metadata": {},
   "source": [
    "# Integrals"
   ]
  },
  {
   "cell_type": "markdown",
   "metadata": {},
   "source": [
    "\\begin{eqnarray}\n",
    "C_l^{ab}(\\chi_1, \\chi_2) &=& \\int \\frac{dk}{k} j_l(k\\chi_1)j_l(k\\chi_2) [k^3 P^{ab}(k, \\chi_1, \\chi_2)] \\\\\n",
    "&=& \\sum_n c_n \\chi_1 ^{-\\nu_n} I_l(\\nu_n, \\frac{\\chi_2}{\\chi_1})\n",
    "\\end{eqnarray}\n",
    "(dropped 1/$4\\pi$)\n",
    "\n",
    "\\begin{eqnarray}\n",
    "G^{ab}(l, \\chi, \\chi') &=& \\int_0^{\\chi} d\\chi\" W(\\chi\", \\chi) C_l^{ab}(\\chi', \\chi\")  \\\\\n",
    "&=&\\int_0^{\\chi} d\\chi\" W(\\chi\", \\chi) \\sum_n c_n \\chi' ^{-\\nu_n} I_l^{ab}(\\nu_n, \\frac{\\chi''}{\\chi'}) \n",
    "\\end{eqnarray}\n",
    "<br>\n",
    "\n",
    "\n",
    "In the following, drop the integral over $\\ell$\n",
    "\n",
    "- $C_{22shift, A}^{\\kappa g}$ i.e. eq. 4.2 second term :\n",
    "<br>\n",
    "\\begin{eqnarray}\n",
    "C_{22shift, A}^{\\kappa g} &=& \\int_0^{\\chi_c}  d\\chi W(\\chi, \\chi_c)\\int_0^{\\chi_0} d\\chi' W_h(\\chi')\n",
    "C_{l1}^{\\delta \\Psi}(\\chi', \\chi) C_{l2}^{\\phi\\phi}(\\chi', \\chi) \\\\\n",
    "&=&\\int_0^{\\chi_c} d\\chi W(\\chi, \\chi_c)  \\int_0^{\\chi_0} d\\chi' W_h(\\chi') C_{l1}^{\\delta \\Psi}(\\chi', \\chi) \n",
    "\\int_0^{\\chi'} d\\chi\" W(\\chi\", \\chi') \n",
    "\\int_0^{\\chi} d\\chi''' W(\\chi''', \\chi) C_{l2}^{\\Psi \\Psi}(\\chi', \\chi''') \n",
    "\\end{eqnarray}\n",
    "\n",
    "Notes - here, we can create a table of ($\\chi, \\chi'$) for the second half i.e. $\\int_0^{\\chi'} d\\chi\" W(\\chi\", \\chi') \n",
    "\\int_0^{\\chi} d\\chi''' W(\\chi''', \\chi) C_{l2}^{\\Psi \\Psi}(\\chi', \\chi''') $, then simply multiply with other $I_{l1}^{\\delta \\Psi}$ and do the remaining 2 integrals with GC\n",
    " \n",
    "\n",
    "- $C_{22shift, B}^{\\kappa g}$ i.e. eq. 4.2 second term :\n",
    "<br>\n",
    "\\begin{eqnarray}\n",
    "C_{22shift, B}^{\\kappa g} &=& \\int_0^{\\chi_c}  d\\chi W(\\chi, \\chi_c)\\int_0^{\\chi_0} d\\chi' W_h(\\chi')\n",
    "C_{l1}^{\\Phi \\Psi}(\\chi', \\chi) C_{l2}^{\\delta\\phi}(\\chi', \\chi) \\\\\n",
    "&=&\\int_0^{\\chi_c} d\\chi W(\\chi, \\chi_c)  \\int_0^{\\chi_0} d\\chi' W_h(\\chi')\n",
    "\\int_0^{\\chi'} d\\chi\" W(\\chi\", \\chi') C_{l1}^{\\Psi \\Psi}(\\chi\", \\chi) \n",
    "\\int_0^{\\chi} d\\chi''' W(\\chi''', \\chi) C_{l2}^{\\delta \\Psi}(\\chi', \\chi''') \n",
    "\\end{eqnarray}\n",
    "\n",
    "Notes - here, we can create use table of $G_{l_2, \\chi, \\chi'}^{\\delta \\Psi}$ and $G_{l_1, \\chi, \\chi'}^{\\Psi \\Psi}$, multiply them and then do the the remaining 2 integrals with GC\n",
    "\n",
    "- $C_{13ashift, A}^{\\kappa g}$ i.e. eq. 4.3 :\n",
    "<br>\n",
    "\\begin{eqnarray}\n",
    "C_{13ashift, A}^{\\kappa g} &=& \\int_0^{\\chi_c}  d\\chi W(\\chi, \\chi_c)\\int_0^{\\chi_0} d\\chi' W_h(\\chi')\n",
    "C_{l1}^{\\delta \\Psi}(\\chi', \\chi) C_{l2}^{\\phi\\phi}(\\chi, \\chi) \\\\\n",
    "&=&\\int_0^{\\chi_c} d\\chi W(\\chi, \\chi_c)  \\int_0^{\\chi_0} d\\chi' W_h(\\chi') C_{l1}^{\\delta \\Psi}(\\chi', \\chi) \n",
    "\\int_0^{\\chi} d\\chi\" W(\\chi\", \\chi) \n",
    "\\int_0^{\\chi} d\\chi''' W(\\chi''', \\chi) C_{l2}^{\\Psi \\Psi}(\\chi\", \\chi''') \n",
    "\\end{eqnarray}\n",
    "\n",
    "Notes - here again, same as 22A, we can create a table of ($\\chi$) for the second half i.e. $\\int_0^{\\chi} d\\chi\" W(\\chi\", \\chi) \n",
    "\\int_0^{\\chi} d\\chi''' W(\\chi''', \\chi) C_{l2}^{\\Psi \\Psi}(\\chi, \\chi''') $, put it in the kernel of $\\chi$; integrate out $\\chi'$ first with GC and then do the full $\\chi$ integral with GC\n",
    "\n",
    "\n",
    "- $C_{31ashift, B}^{\\kappa g}$ i.e. eq. 4.4 :\n",
    "<br>\n",
    "\\begin{eqnarray}\n",
    "C_{31ashift, B}^{\\kappa g} &=& \\int_0^{\\chi_c}  d\\chi W(\\chi, \\chi_c) \\int_0^{\\chi_0} d\\chi' W_h(\\chi')\n",
    "C_{l1}^{\\Phi \\Psi}(\\chi, \\chi) C_{l2}^{\\delta\\phi}(\\chi', \\chi) \\\\\n",
    "&=&\\int_0^{\\chi_c} d\\chi W(\\chi, \\chi_c)  \\int_0^{\\chi_0} d\\chi' W_h(\\chi')\n",
    "\\int_0^{\\chi} d\\chi\" W(\\chi\", \\chi) C_{l1}^{\\Psi \\Psi}(\\chi\", \\chi) \n",
    "\\int_0^{\\chi} d\\chi''' W(\\chi''', \\chi) C_{l2}^{\\delta \\Psi}(\\chi', \\chi''') \n",
    "\\end{eqnarray}\n",
    "\n",
    "Notes - here again, we can do integral over $\\chi'$ and $\\chi\"$ trivially, combine everything into the kernel of $\\chi$ and then estimate that with GC\n",
    "\n",
    "\n",
    "- $C_{13shift}^{\\kappa g}$ i.e. eq. 4.5 :\n",
    "<br>\n",
    "\\begin{eqnarray}\n",
    "C_{13shift}^{\\kappa g} &=& \\int_0^{\\chi_c}  d\\chi W(\\chi, \\chi_c) \\int_0^{\\chi_0} d\\chi' W_h(\\chi')\n",
    "C_{l1}^{\\delta \\Psi}(\\chi', \\chi) C_{l2}^{\\phi\\phi}(\\chi', \\chi') \\\\\n",
    "&=&\\int_0^{\\chi_c} d\\chi W(\\chi, \\chi_c)  \\int_0^{\\chi_0} d\\chi' W_h(\\chi') C_{l1}^{\\delta \\Psi}(\\chi', \\chi) \n",
    "\\int_0^{\\chi'} d\\chi\" W(\\chi\", \\chi') \n",
    "\\int_0^{\\chi'} d\\chi''' W(\\chi''', \\chi') C_{l2}^{\\Psi \\Psi}(\\chi\", \\chi''') \n",
    "\\end{eqnarray}\n",
    "\n",
    "Notes - here again, same as 31a,A, except we can create a table of ($\\chi'$) for the second half i.e. $\\int_0^{\\chi'} d\\chi\" W(\\chi\", \\chi') \n",
    "\\int_0^{\\chi'} d\\chi''' W(\\chi''', \\chi') C_{l2}^{\\Psi \\Psi}(\\chi\", \\chi''') $, put it in the kernel of $\\chi'$; then integrate out $\\chi'$ and $\\chi$ in the usual manner\n",
    "\n",
    "\n",
    "- $C_{13shift}^{\\kappa g}$ i.e. eq. 4.6 :\n",
    "<br>\n",
    "\\begin{eqnarray}\n",
    "C_{13shift}^{\\kappa g} &=& \\int_0^{\\chi_c}  d\\chi W(\\chi, \\chi_c) \\int_0^{\\chi_0} d\\chi' W_h(\\chi')\n",
    "\\int_0^{\\chi}  d\\chi\" W(\\chi\", \\chi) C_{l1}^{\\Psi \\Psi}(\\chi\", \\chi) C_{l2}^{\\phi\\delta}(\\chi\", \\chi') \\\\\n",
    "&=&\\int_0^{\\chi_c} d\\chi W(\\chi, \\chi_c)  \\int_0^{\\chi_0} d\\chi' W_h(\\chi') \n",
    "\\int_0^{\\chi}  d\\chi\" W(\\chi\", \\chi) C_{l1}^{\\Psi \\Psi}(\\chi\", \\chi)\n",
    "\\int_0^{\\chi\"} d\\chi''' W(\\chi''', \\chi\") C_{l2}^{\\Psi\\delta}(\\chi''', \\chi')  \n",
    "\\end{eqnarray}\n",
    "\n",
    "Notes - here we can do the $\\chi', \\chi'''$ integrals first  in the usual fashion to create a table of $\\chi\"$ and then use them as weights to do $\\chi, \\chi''$ integrals later\n",
    "\n",
    "- $C_{31bshift}^{\\kappa g}$ i.e. eq. 4.6-3.7 :\n",
    "<br>\n",
    "\\begin{eqnarray}\n",
    "C_{31bshift}^{\\kappa g} &=& \\int_0^{\\chi_c}  d\\chi W(\\chi, \\chi_c) \\int_0^{\\chi_0} d\\chi' W_h(\\chi')\n",
    "\\int_0^{\\chi}  d\\chi\" W(\\chi\", \\chi) C_{l1}^{\\Psi \\Psi}(\\chi\", \\chi) C_{l2}^{\\phi\\delta}(\\chi\", \\chi') \\\\\n",
    "&=&\\int_0^{\\chi_c} d\\chi W(\\chi, \\chi_c)  \\int_0^{\\chi_0} d\\chi' W_h(\\chi') \n",
    "\\int_0^{\\chi}  d\\chi\" W(\\chi\", \\chi) C_{l1}^{\\Psi \\Psi}(\\chi\", \\chi)\n",
    "\\int_0^{\\chi\"} d\\chi''' W(\\chi''', \\chi\") C_{l2}^{\\Psi\\delta}(\\chi''', \\chi')  \n",
    "\\end{eqnarray}\n",
    "\n",
    "Notes - here we can do the $\\chi', \\chi'''$ integrals first  in the usual fashion to create a table of $\\chi\"$ and then use them as weights to do $\\chi, \\chi''$ integrals later\n",
    "\n",
    "- $C_{13bshift}^{\\kappa g}$ i.e. eq. 4.8 :\n",
    "<br>\n",
    "\\begin{eqnarray}\n",
    "C_{13shift}^{\\kappa g} &=& \\int_0^{\\chi_c}  d\\chi W(\\chi, \\chi_c) \\int_0^{\\chi_0} d\\chi' W_h(\\chi')\n",
    "\\int_0^{\\chi'}  d\\chi\" W(\\chi\", \\chi) C_{l1}^{\\Psi \\Psi}(\\chi\", \\chi) ...\n",
    "\\end{eqnarray}\n",
    "\n",
    "Notes - ...\n",
    "\n",
    "- $C_{13, J}^{\\kappa g}$ i.e. eq. 4.8 :\n",
    "<br>\n",
    "\\begin{eqnarray}\n",
    "C_{13shift}^{\\kappa g} &=& \\int_0^{\\chi_c}  d\\chi W(\\chi, \\chi_c) \\int_0^{\\chi_0} d\\chi' W_h(\\chi')\n",
    "\\int_0^{\\chi'}  d\\chi\" W(\\chi\", \\chi) C_{l1}^{\\Psi \\Psi}(\\chi\", \\chi) C_{l2}^{\\phi\\delta} ...\n",
    "\\end{eqnarray}\n",
    "\n",
    "Notes - ..."
   ]
  },
  {
   "cell_type": "code",
   "execution_count": 78,
   "metadata": {},
   "outputs": [],
   "source": [
    "mean = 3\n",
    "width = 0.5\n",
    "cosmo_dict['output']='nCl, lCl, tCl, sCl, mPk'\n",
    "cosmo_dict['lensing']='yes'\n",
    "cosmo_dict['selection']='gaussian'\n",
    "cosmo_dict['selection']='gaussian'\n",
    "cosmo_dict['selection_mean'] = str(mean)\n",
    "cosmo_dict['selection_width'] = str(width)\n",
    "cosmo_dict['l_switch_limber']=100\n",
    "cosmo_dict['perturb_sampling_stepsize']=0.01\n",
    "cosmo_dict['P_k_max_1/Mpc']=10.\n",
    "\n",
    "cosmo.empty()\n",
    "cosmo.set(cosmo_dict)\n",
    "cosmo.compute()"
   ]
  },
  {
   "cell_type": "code",
   "execution_count": 79,
   "metadata": {},
   "outputs": [],
   "source": [
    "cldd = cosmo.density_cl(300)\n",
    "cllen = cosmo.lensed_cl(2000)\n",
    "\n"
   ]
  },
  {
   "cell_type": "code",
   "execution_count": 71,
   "metadata": {},
   "outputs": [
    {
     "name": "stderr",
     "output_type": "stream",
     "text": [
      "/global/homes/v/vboehm/.conda/envs/bccp/lib/python3.6/site-packages/numpy/core/numeric.py:492: ComplexWarning: Casting complex values to real discards the imaginary part\n",
      "  return array(a, dtype, copy=False, order=order)\n"
     ]
    },
    {
     "data": {
      "image/png": "[encoded data removed]",
      "text/plain": [
       "<Figure size 432x288 with 1 Axes>"
      ]
     },
     "metadata": {
      "needs_background": "light"
     },
     "output_type": "display_data"
    }
   ],
   "source": [
    "\n",
    "plt.figure()\n",
    "#full sky\n",
    "plt.loglog(ll,(ll*(ll+1.))**2*clpp/(2.*np.pi),ls='--',label='class old')\n",
    "plt.loglog(ell_[:lmax],(ell_[:lmax]*(ell_[:lmax]+1.))**2*Cl[:lmax]/(2.*np.pi),label='from psi full sky')\n",
    "plt.loglog(ell_[:lmax],(ell_[:lmax]*(ell_[:lmax]+1.))**2*Cl2[:lmax]/(2.*np.pi),label='from psi full sky 2', ls ='--')\n",
    "#flat sky\n",
    "plt.loglog(ell_[:lmax],(ell_[:lmax]*(ell_[:lmax]))**2*Cl2[:lmax]/(2.*np.pi),label='from psi flat sky')\n",
    "plt.loglog(ell_[:lmax],Clkk[:lmax]/(2.*np.pi),ls='--',label='from delta flat sky')\n",
    "plt.legend()\n",
    "plt.xlim(2,500)\n",
    "plt.show()"
   ]
  },
  {
   "cell_type": "code",
   "execution_count": 72,
   "metadata": {},
   "outputs": [
    {
     "data": {
      "text/plain": [
       "<matplotlib.legend.Legend at 0x2b78771e2be0>"
      ]
     },
     "execution_count": 72,
     "metadata": {},
     "output_type": "execute_result"
    },
    {
     "data": {
      "image/png": "[encoded data removed]",
      "text/plain": [
       "<Figure size 432x288 with 1 Axes>"
      ]
     },
     "metadata": {
      "needs_background": "light"
     },
     "output_type": "display_data"
    }
   ],
   "source": [
    "plt.loglog(cllen['ell']*cllen['ell'],(cllen['ell']*(cllen['ell']+1))**2*cllen['pp'],ls=':',label='clphiphi from CLASS')\n",
    "plt.legend()"
   ]
  },
  {
   "cell_type": "code",
   "execution_count": null,
   "metadata": {},
   "outputs": [],
   "source": [
    "\n"
   ]
  },
  {
   "cell_type": "code",
   "execution_count": null,
   "metadata": {},
   "outputs": [],
   "source": []
  },
  {
   "cell_type": "code",
   "execution_count": 27,
   "metadata": {},
   "outputs": [
    {
     "name": "stderr",
     "output_type": "stream",
     "text": [
      "/global/homes/v/vboehm/.conda/envs/bccp/lib/python3.6/site-packages/ipykernel_launcher.py:34: ComplexWarning: Casting complex values to real discards the imaginary part\n"
     ]
    },
    {
     "name": "stdout",
     "output_type": "stream",
     "text": [
      "Time taken =  1.5622658729553223\n"
     ]
    }
   ],
   "source": [
    "# general kernel if dNdz is Gaussian\n",
    "def Gauss_redshift(z0,sigma_z):\n",
    "    def z_kernel(z):\n",
    "        return 1./np.sqrt(2.*np.pi)/sigma_z*np.exp(-(z-z0)**2/2./sigma_z**2)\n",
    "    return z_kernel\n",
    "\n",
    "def gal_kernel(z_kernel,ximax=5):\n",
    "    def chi_kernel(xi):\n",
    "        return z_kernel(z_chi(xi))*dz_dchi(xi)\n",
    "    return chi_kernel\n",
    "\n",
    "#third kernel\n",
    "###################################\n",
    "begin=time.time()\n",
    "kernel1 = gal_kernel(Gauss_redshift(mean,width))\n",
    "kernel2 = gal_kernel(Gauss_redshift(mean,width))\n",
    "\n",
    "chimax = chi_cmb\n",
    "\n",
    "chi1fac0 = (kernel1(r2d*chimax)*D_chi(r2d*chimax))\n",
    "chi1fac0 = chi1fac0 *(r2d*chimax)**(1-(4+nu_n_.reshape(1, 1, -1)))\n",
    "\n",
    "chi2fac00 = (kernel2(t2d*r2d*chimax)*D_chi(r2d*t2d*chimax))\n",
    "chi2fac01 = (kernel2(1/t2d*r2d*chimax)*D_chi(r2d*1/t2d*chimax))\n",
    "chi2fac01 = chi2fac01 * t2d**((4+nu_n_).reshape(1, 1, -1)-2)\n",
    "chi2fac0  = chi2fac00 + chi2fac01\n",
    "\n",
    "\n",
    "chifacs = w11*w12*chi1fac0* chi2fac0\n",
    "\n",
    "result=np.zeros_like(ell_)\n",
    "lmax = ell_.size\n",
    "for ii  in range(ell_.size):        \n",
    "    result[ii] = np.sum(chifacs*I4_ltrc[ii])\n",
    "\n",
    "Clgg_c = chimax * result/np.pi**2/2.\n",
    "\n",
    "print('Time taken = ', time.time()-begin)\n"
   ]
  },
  {
   "cell_type": "code",
   "execution_count": null,
   "metadata": {},
   "outputs": [],
   "source": []
  },
  {
   "cell_type": "code",
   "execution_count": 28,
   "metadata": {},
   "outputs": [
    {
     "data": {
      "text/plain": [
       "[<matplotlib.lines.Line2D at 0x2b786888cb00>]"
      ]
     },
     "execution_count": 28,
     "metadata": {},
     "output_type": "execute_result"
    },
    {
     "data": {
      "image/png": "[encoded data removed]",
      "text/plain": [
       "<Figure size 432x288 with 1 Axes>"
      ]
     },
     "metadata": {
      "needs_background": "light"
     },
     "output_type": "display_data"
    }
   ],
   "source": [
    "\n",
    "plt.loglog(ell_, Clgg_c)\n",
    "plt.loglog(ell_,np.interp(ell_,cldd['ell'],cldd['dd'][0]))"
   ]
  },
  {
   "cell_type": "code",
   "execution_count": 29,
   "metadata": {},
   "outputs": [
    {
     "data": {
      "text/plain": [
       "(0, 1.1)"
      ]
     },
     "execution_count": 29,
     "metadata": {},
     "output_type": "execute_result"
    },
    {
     "data": {
      "image/png": "[encoded data removed]",
      "text/plain": [
       "<Figure size 432x288 with 1 Axes>"
      ]
     },
     "metadata": {
      "needs_background": "light"
     },
     "output_type": "display_data"
    }
   ],
   "source": [
    "plt.plot(np.interp(ell_,cldd['ell'],cldd['dd'][0])/Clgg_c*4)\n",
    "plt.xlim(0,100)\n",
    "plt.ylim(0,1.1)"
   ]
  },
  {
   "cell_type": "code",
   "execution_count": 30,
   "metadata": {},
   "outputs": [
    {
     "name": "stdout",
     "output_type": "stream",
     "text": [
      "[4.00065118 4.00164096 4.00029088 4.0003037  4.00060303 3.99944659\n",
      " 3.99999536 4.00015801 3.99927358 3.99948015 4.00004037 3.99959779\n",
      " 3.99908251 3.99941173 3.99986982 3.9996601  3.9991432  3.99905191\n",
      " 3.99943869 3.99974798 3.9996024  3.99917061 3.99888759 3.99898055\n",
      " 3.99931073 3.99956077 3.99952429 3.99923706 3.99890917 3.99875264\n",
      " 3.99884442 3.99910543 3.99937243 3.9994995  3.99943031 3.99921071\n",
      " 3.99895039 3.99876458 3.99872463 3.99883601 3.99904544 3.99926989\n",
      " 3.99942994 3.99947626 3.99940205 3.99923794 3.99903742 3.99885816\n",
      " 3.99874544 3.99872259 3.99878755 3.99891635 3.99907209 3.99921543\n",
      " 3.99931442 3.99935005 3.99931835 3.99922941 3.99910371 3.99896677\n",
      " 3.99884472 3.99875878 3.99872216 3.99873804 3.99880062 3.99889692\n",
      " 3.99900978 3.99912181 3.9992171  3.9992833  3.9993131  3.99930441\n",
      " 3.99926062 3.99918881 3.99909913 3.99900411 3.99891596 3.99884506\n",
      " 3.99879897 3.9987815  3.9987928  3.99882982 3.99888683 3.99895725\n",
      " 3.99903363 3.99910831 3.99917393 3.99922387 3.9992541  3.9992617\n",
      " 3.99924574 3.99920755 3.9991515  3.99908313 3.99900813 3.99893318\n",
      " 3.99886376 3.99880466 3.9987595  3.99898364 3.99869225 3.99825891\n",
      " 3.99869616 3.99843089 3.99788929 3.99811461 3.99875558 3.99860607\n",
      " 3.99829866 3.99833314 3.99856352 3.99820875 3.99755536 3.99803391\n",
      " 4.00022173 4.00109037 3.99702976 3.98817285 3.98310318 3.85682884\n",
      " 3.72509769 3.58846437 3.44798658 3.30516771 3.1618858  3.02026119\n",
      " 2.88246829 2.75052869 2.62613258 2.51054069 2.40454881 2.30851258\n",
      " 2.22240766 2.14589103 2.07836075 2.0190015  1.96682654 1.92071802\n",
      " 1.8794723  1.84185291 1.80665    1.77273562 1.73912109 1.70499706\n",
      " 1.66976434 1.63303972 1.59465848 1.55465003 1.51321364 1.47068104\n",
      " 1.42747926 1.38409244 1.34102672 1.29877726 1.25780352 1.21850852\n",
      " 1.18122148 1.14619056 1.11357651 1.08344989 1.05579852 1.03053201\n",
      " 1.00749274 0.98646659 0.96719864 0.94940636 0.93279476 0.91707035\n",
      " 0.90195426 0.88719345 0.87256771 0.85790006 0.84305658 0.8279507\n",
      " 0.81253931 0.79682256 0.78083772 0.76465099 0.74835221 0.73204809\n",
      " 0.71585305 0.69988282 0.68424797 0.66904864 0.65437007 0.64027992\n",
      " 0.62682614 0.61403627 0.60191817 0.59046114 0.57963804 0.56940802\n",
      " 0.55971918 0.55051219 0.54172301 0.53328695 0.52513787 0.51721636\n",
      " 0.50946698 0.50184175 0.49430033 0.4868111  0.47935185 0.47190923\n",
      " 0.46447654 0.45705536 0.44965279 0.44228166 0.43495784 0.42770047\n",
      " 0.42052992 0.41346684 0.4065312  0.39974166 0.39311456 0.38666364\n",
      " 0.38039943 0.37432942 0.36845745 0.36278438 0.35730772 0.35202238\n",
      " 0.34692069 0.34199321 0.33722794 0.33261278 0.32813447 0.32377911\n",
      " 0.31953329 0.31538395 0.3113185  0.30732562 0.30339499 0.29951782\n",
      " 0.29568634 0.29189468 0.28813881 0.28441472 0.28072079 0.27705685\n",
      " 0.27342293 0.269821   0.26625236 0.26272101 0.2592291  0.25578141\n",
      " 0.25238064 0.24903106 0.2457365  0.24249933 0.2393232  0.23621016\n",
      " 0.23316251 0.2301816  0.22726846 0.22442343 0.22164641 0.21893676\n",
      " 0.2162933  0.21371448 0.21119829 0.20874242 0.20634427 0.20400099\n",
      " 0.20170962 0.19946708 0.1972702  0.19511584 0.19300105 0.19092273\n",
      " 0.18887807 0.18686449 0.1848795  0.18292086 0.18098659 0.17907498\n",
      " 0.17718454 0.175314   0.17346235 0.17162889 0.16981304 0.16801447\n",
      " 0.16623303 0.16446878 0.16272178 0.16099245 0.1592811  0.15758811\n",
      " 0.15591407]\n"
     ]
    }
   ],
   "source": [
    "print(1./(np.interp(ell_,cldd['ell'],cldd['dd'][0])/Clgg_c))"
   ]
  },
  {
   "cell_type": "markdown",
   "metadata": {},
   "source": [
    "# Cross Correlations\n",
    "\n",
    "computing $C_L^{\\kappa g}$ in post Limber and compare to Limber results"
   ]
  },
  {
   "cell_type": "code",
   "execution_count": 113,
   "metadata": {},
   "outputs": [
    {
     "name": "stderr",
     "output_type": "stream",
     "text": [
      "/global/homes/v/vboehm/.conda/envs/bccp/lib/python3.6/site-packages/ipykernel_launcher.py:34: ComplexWarning: Casting complex values to real discards the imaginary part\n"
     ]
    },
    {
     "name": "stdout",
     "output_type": "stream",
     "text": [
      "Time taken =  1.8091926574707031\n"
     ]
    }
   ],
   "source": [
    "# set up (as before), but using FFTlog of P_deltapsi\n",
    "\n",
    "r2d, t2d = np.meshgrid(t_,t_)\n",
    "w11, w12 = np.meshgrid(w1,w1)\n",
    "#nu axis\n",
    "r2d, t2d = np.expand_dims(r2d, 2), np.expand_dims(t2d, 2)\n",
    "w11, w12 = np.expand_dims(w11, 2), np.expand_dims(w12, 2)\n",
    "\n",
    "# chimax and kernels\n",
    "chimax   = chi_cmb\n",
    "\n",
    "kernel1  = lensing_kernel\n",
    "kernel2  = gal_kernel(Gauss_redshift(mean,width))\n",
    "\n",
    "n = 2\n",
    "\n",
    "begin=time.time()\n",
    "\n",
    "\n",
    "\n",
    "chi1fac0 = (kernel1(r2d*chimax,chimax)*D_chi(r2d*chimax))\n",
    "chi1fac0 = chi1fac0 *(r2d*chimax)**(1-(n+nu_n_.reshape(1, 1, -1)))\n",
    "\n",
    "chi2fac00 = (kernel2(t2d*r2d*chimax)*D_chi(r2d*t2d*chimax))\n",
    "chi2fac01 = (kernel2(1./t2d*r2d*chimax)*D_chi(r2d/t2d*chimax))\n",
    "chi2fac01 = chi2fac01 * t2d**((n+nu_n_).reshape(1, 1, -1)-2)\n",
    "chi2fac0  = chi2fac00 + chi2fac01\n",
    "\n",
    "chifacs = w11*w12*chi1fac0* chi2fac0\n",
    "\n",
    "result=np.zeros_like(ell_)\n",
    "lmax = ell_.size\n",
    "for ii  in range(ell_.size):        \n",
    "    result[ii] = np.sum(chifacs*I2_ltrc[ii])\n",
    "    \n",
    "\n",
    "Cl_kg = chimax * result*1./np.pi**2/2.*prefac\n",
    "\n",
    "print('Time taken = ', time.time()-begin)\n"
   ]
  },
  {
   "cell_type": "code",
   "execution_count": 80,
   "metadata": {},
   "outputs": [
    {
     "data": {
      "text/plain": [
       "<function matplotlib.pyplot.loglog(*args, **kwargs)>"
      ]
     },
     "execution_count": 80,
     "metadata": {},
     "output_type": "execute_result"
    },
    {
     "data": {
      "image/png": "[encoded data removed]",
      "text/plain": [
       "<Figure size 432x288 with 1 Axes>"
      ]
     },
     "metadata": {
      "needs_background": "light"
     },
     "output_type": "display_data"
    }
   ],
   "source": [
    "plt.loglog(ell_[:lmax],ell_[:lmax]*(ell_[:lmax]+1.)*Cl_kg[:lmax])\n",
    "#plt.loglog(ll,clpp,ls='--', label='class old*4')\n",
    "plt.loglog"
   ]
  },
  {
   "cell_type": "code",
   "execution_count": 111,
   "metadata": {},
   "outputs": [],
   "source": [
    "# cross in Limber\n",
    "chis = np.linspace(1.,chi_cmb,5000) #in Mpc/h\n",
    "ells = np.linspace(1,2000,200)\n",
    "result=[]\n",
    "for l_ in ells:\n",
    "    integrand=[]\n",
    "    for chi in chis:\n",
    "        k = l_/chi #in h/Mpc\n",
    "        try:\n",
    "            Pk= cosmo.pk_lin(k*h,0.)*D_chi(chi)**2\n",
    "        except:\n",
    "            Pk= 0.\n",
    "        integrand+=[lensing_kernel(chi,chi_cmb)*kernel2(chi)*Pk]\n",
    "    result+=[np.trapz(integrand, chis)]\n",
    "clkg=np.asarray(result)*prefac"
   ]
  },
  {
   "cell_type": "code",
   "execution_count": 114,
   "metadata": {},
   "outputs": [
    {
     "data": {
      "text/plain": [
       "[<matplotlib.lines.Line2D at 0x2b7869f856a0>]"
      ]
     },
     "execution_count": 114,
     "metadata": {},
     "output_type": "execute_result"
    },
    {
     "data": {
      "image/png": "[encoded data removed]",
      "text/plain": [
       "<Figure size 432x288 with 1 Axes>"
      ]
     },
     "metadata": {
      "needs_background": "light"
     },
     "output_type": "display_data"
    }
   ],
   "source": [
    "#match at low ell might be coincidence...\n",
    "plt.loglog(ells,clkg*(ells+1.)/ells,label='Limber')\n",
    "plt.loglog(ell_[:lmax],ell_[:lmax]*(ell_[:lmax]+1.)*Cl_kg[:lmax],label='no Limber')"
   ]
  },
  {
   "cell_type": "code",
   "execution_count": 115,
   "metadata": {},
   "outputs": [
    {
     "name": "stderr",
     "output_type": "stream",
     "text": [
      "/global/homes/v/vboehm/.conda/envs/bccp/lib/python3.6/site-packages/ipykernel_launcher.py:34: ComplexWarning: Casting complex values to real discards the imaginary part\n"
     ]
    },
    {
     "name": "stdout",
     "output_type": "stream",
     "text": [
      "Time taken =  1.8057458400726318\n"
     ]
    }
   ],
   "source": [
    "# set up (as before), but using FFTlog of P_deltadelta, i.e. lensing kernel 2, should give better match to no Limber, also we should recover factor 0f 4\n",
    "\n",
    "r2d, t2d = np.meshgrid(t_,t_)\n",
    "w11, w12 = np.meshgrid(w1,w1)\n",
    "#nu axis\n",
    "r2d, t2d = np.expand_dims(r2d, 2), np.expand_dims(t2d, 2)\n",
    "w11, w12 = np.expand_dims(w11, 2), np.expand_dims(w12, 2)\n",
    "\n",
    "# chimax and kernels\n",
    "chimax   = chi_cmb\n",
    "\n",
    "kernel1  = lensing_kernel_2\n",
    "kernel2  = gal_kernel(Gauss_redshift(mean,width))\n",
    "\n",
    "n = 4\n",
    "\n",
    "begin=time.time()\n",
    "\n",
    "\n",
    "\n",
    "chi1fac0 = (kernel1(r2d*chimax,chimax)*D_chi(r2d*chimax))\n",
    "chi1fac0 = chi1fac0 *(r2d*chimax)**(1-(n+nu_n_.reshape(1, 1, -1)))\n",
    "\n",
    "chi2fac00 = (kernel2(t2d*r2d*chimax)*D_chi(r2d*t2d*chimax))\n",
    "chi2fac01 = (kernel2(1./t2d*r2d*chimax)*D_chi(r2d/t2d*chimax))\n",
    "chi2fac01 = chi2fac01 * t2d**((n+nu_n_).reshape(1, 1, -1)-2)\n",
    "chi2fac0  = chi2fac00 + chi2fac01\n",
    "\n",
    "chifacs = w11*w12*chi1fac0* chi2fac0\n",
    "\n",
    "result=np.zeros_like(ell_)\n",
    "lmax = ell_.size\n",
    "for ii  in range(ell_.size):        \n",
    "    result[ii] = np.sum(chifacs*I4_ltrc[ii])\n",
    "    \n",
    "\n",
    "Cl_kg2 = chimax * result*1./np.pi**2/2.*prefac\n",
    "\n",
    "print('Time taken = ', time.time()-begin)"
   ]
  },
  {
   "cell_type": "code",
   "execution_count": 121,
   "metadata": {},
   "outputs": [
    {
     "data": {
      "text/plain": [
       "[<matplotlib.lines.Line2D at 0x2b786a7c6e10>]"
      ]
     },
     "execution_count": 121,
     "metadata": {},
     "output_type": "execute_result"
    },
    {
     "data": {
      "image/png": "[encoded data removed]",
      "text/plain": [
       "<Figure size 432x288 with 1 Axes>"
      ]
     },
     "metadata": {
      "needs_background": "light"
     },
     "output_type": "display_data"
    }
   ],
   "source": [
    "plt.loglog(ells,clkg,label='Limber')\n",
    "plt.loglog(ell_[:lmax],Cl_kg2[:lmax],label='no Limber')"
   ]
  },
  {
   "cell_type": "code",
   "execution_count": 130,
   "metadata": {},
   "outputs": [
    {
     "data": {
      "text/plain": [
       "[<matplotlib.lines.Line2D at 0x2b786afe2390>]"
      ]
     },
     "execution_count": 130,
     "metadata": {},
     "output_type": "execute_result"
    },
    {
     "data": {
      "image/png": "[encoded data removed]",
      "text/plain": [
       "<Figure size 432x288 with 1 Axes>"
      ]
     },
     "metadata": {
      "needs_background": "light"
     },
     "output_type": "display_data"
    }
   ],
   "source": [
    "plt.plot(ell_[:lmax],np.interp(ell_[:lmax],ells,clkg)/Cl_kg2[:lmax]/0.8,label='ratio')"
   ]
  },
  {
   "cell_type": "code",
   "execution_count": null,
   "metadata": {},
   "outputs": [],
   "source": []
  }
 ],
 "metadata": {
  "kernelspec": {
   "display_name": "NERSC BCCP",
   "language": "python",
   "name": "bccp"
  },
  "language_info": {
   "codemirror_mode": {
    "name": "ipython",
    "version": 3
   },
   "file_extension": ".py",
   "mimetype": "text/x-python",
   "name": "python",
   "nbconvert_exporter": "python",
   "pygments_lexer": "ipython3",
   "version": "3.6.7"
  }
 },
 "nbformat": 4,
 "nbformat_minor": 2
}
