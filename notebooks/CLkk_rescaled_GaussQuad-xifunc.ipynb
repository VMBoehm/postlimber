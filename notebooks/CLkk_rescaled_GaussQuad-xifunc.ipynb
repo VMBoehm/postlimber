{
 "cells": [
  {
   "cell_type": "code",
   "execution_count": 2,
   "metadata": {},
   "outputs": [],
   "source": [
    "import numpy as np\n",
    "import matplotlib.pyplot as plt"
   ]
  },
  {
   "cell_type": "code",
   "execution_count": 3,
   "metadata": {},
   "outputs": [],
   "source": [
    "# path = '/global/homes/e/ecastori/PostBorn/'\n",
    "path = '../PostBornEma/'"
   ]
  },
  {
   "cell_type": "code",
   "execution_count": 4,
   "metadata": {},
   "outputs": [],
   "source": [
    "data = np.loadtxt(path+'FFT_k-1Pk.dat',skiprows=2)\n",
    "\n",
    "#----------------------#\n",
    "n         = data[:,0]\n",
    "Re_c_n    = data[:,1]\n",
    "Im_c_n    = data[:,2]\n",
    "Re_nu_n   = data[:,3]\n",
    "Im_nu_n   = data[:,4]\n",
    "#----------------------#\n",
    "\n",
    "c_n  = Re_c_n  + 1j * Im_c_n\n",
    "nu_n = Re_nu_n + 1j * Im_nu_n"
   ]
  },
  {
   "cell_type": "code",
   "execution_count": 5,
   "metadata": {},
   "outputs": [],
   "source": [
    "# ## When reading Ema's files for the first time\n",
    "\n",
    "# data = np.loadtxt(path+'Il_nu_t_nd4.dat',skiprows=1)\n",
    "# # data = np.loadtxt(path+'Il_nu_t.dat',skiprows=1)\n",
    "\n",
    "# #----------------------#\n",
    "# ell       = data[:,0]\n",
    "# nn        = data[:,1]\n",
    "# tt        = data[:,2]\n",
    "# Re_I      = data[:,3]\n",
    "# Im_I      = data[:,4]\n",
    "# #----------------------#\n",
    "\n",
    "# I_ = Re_I + 1j * Im_I\n",
    "\n",
    "# # np.save('../PostBornEma/Il_nu_t_new1-ell-nn-tt', np.stack((ell, nn, tt), axis=1))\n",
    "# # np.save('../PostBornEma/Il_nu_t_new1-ReI-ImI', np.stack((Re_I, Im_I), axis=1))"
   ]
  },
  {
   "cell_type": "code",
   "execution_count": 6,
   "metadata": {},
   "outputs": [],
   "source": [
    "data =  np.load(path+'Il_nu_t_new1-ell-nn-tt.npy')\n",
    "ell       = data[:,0]\n",
    "nn        = data[:,1]\n",
    "tt        = data[:,2]\n",
    "#----------------------#\n",
    "\n",
    "data =  np.load(path+'Il_nu_t_new1-ReI-ImI.npy')\n",
    "Re_I      = data[:,0]\n",
    "Im_I      = data[:,1]\n",
    "#----------------------#\n",
    "\n",
    "I_0 = Re_I + 1j * Im_I\n"
   ]
  },
  {
   "cell_type": "code",
   "execution_count": 7,
   "metadata": {},
   "outputs": [],
   "source": [
    "# data =  np.load(path+'Il_nu_t_nd2-ell-nn-tt.npy')\n",
    "# ell2       = data[:,0]\n",
    "# nn2       = data[:,1]\n",
    "# tt2        = data[:,2]\n",
    "#----------------------#\n",
    "\n",
    "data =  np.load(path+'Il_nu_t_nd2-ReI-ImI.npy')\n",
    "Re_I      = data[:,0]\n",
    "Im_I      = data[:,1]\n",
    "#----------------------#\n",
    "\n",
    "I_2 = Re_I + 1j * Im_I\n",
    "\n",
    "data =  np.load(path+'Il_nu_t_nd4-ReI-ImI.npy')\n",
    "Re_I      = data[:,0]\n",
    "Im_I      = data[:,1]\n",
    "#----------------------#\n",
    "\n",
    "I_4 = Re_I + 1j * Im_I\n",
    "\n"
   ]
  },
  {
   "cell_type": "code",
   "execution_count": 8,
   "metadata": {},
   "outputs": [],
   "source": [
    "del Re_I, Im_I, data"
   ]
  },
  {
   "cell_type": "code",
   "execution_count": 9,
   "metadata": {},
   "outputs": [],
   "source": [
    "ell_ = np.unique(ell)\n",
    "nu_n_= np.unique(nu_n) \n",
    "t_=np.unique(tt)\n",
    "\n",
    "ell = ell.reshape(ell_.size, nu_n_.size, t_.size)\n",
    "nn = nn.reshape(ell_.size, nu_n_.size, t_.size)\n",
    "tt = tt.reshape(ell_.size, nu_n_.size, t_.size)\n",
    "I_0 = I_0.reshape(ell_.size, nu_n_.size, t_.size)\n",
    "I_2 = I_2.reshape(ell_.size, nu_n_.size, t_.size)\n",
    "I_4 = I_4.reshape(ell_.size, nu_n_.size, t_.size)\n",
    "\n",
    "cn2 = c_n.copy()\n",
    "cn2[:-1] *=2\n",
    "I0_lcrt = np.expand_dims(I_0, 2)*cn2.reshape(1, -1, 1, 1)\n",
    "I2_lcrt = np.expand_dims(I_2, 2)*cn2.reshape(1, -1, 1, 1)\n",
    "I4_lcrt = np.expand_dims(I_4, 2)*cn2.reshape(1, -1, 1, 1)\n",
    "\n",
    "I0_ltrc = np.swapaxes(I0_lcrt, 1, 3)\n",
    "I2_ltrc = np.swapaxes(I2_lcrt, 1, 3)\n",
    "I4_ltrc = np.swapaxes(I4_lcrt, 1, 3)\n"
   ]
  },
  {
   "cell_type": "code",
   "execution_count": 10,
   "metadata": {},
   "outputs": [],
   "source": [
    "data = np.loadtxt(path+'GG_weights.dat',skiprows=2)\n",
    "t1   = data[:,0]\n",
    "w1   = data[:,1]\n",
    "assert(np.allclose(t_,t1))\n"
   ]
  },
  {
   "cell_type": "code",
   "execution_count": 11,
   "metadata": {},
   "outputs": [
    {
     "name": "stdout",
     "output_type": "stream",
     "text": [
      "[ 2.30548984e-08  2.65243249e-10  1.78144134e-08 -5.52722206e-09\n",
      " -3.81277301e-09  5.83037597e-09 -2.16307397e-08  8.21517625e-09\n",
      " -6.99181363e-09 -1.99569546e-08 -2.50249677e-09  1.43903302e-08\n",
      " -1.78592624e-09 -1.07727314e-08 -9.38352570e-09  5.21967604e-09\n",
      " -3.73175222e-09  7.99810927e-10  7.18924032e-10 -1.84171278e-09\n",
      "  3.74196032e-08 -4.31708834e-08  5.77553278e-09 -3.72380153e-08\n",
      "  8.43105523e-09  1.95534766e-09  1.33447784e-08 -2.43461846e-08\n",
      " -5.29954192e-10  2.43688638e-08  1.73100201e-08  1.76443481e-08\n",
      "  4.16803916e-10 -1.81535039e-08 -1.83445586e-08 -3.91387615e-09\n",
      "  1.42272881e-08 -2.58428395e-09 -9.87332093e-09 -5.90284222e-09\n",
      " -1.13092936e-08 -5.42437739e-10 -2.34467351e-09 -5.01121171e-09\n",
      " -7.23833552e-10  3.25658320e-09 -4.04126215e-09 -3.03710215e-09\n",
      " -2.51802399e-09 -4.46985937e-09  4.33229064e-09  2.29254456e-09\n",
      "  2.59723738e-09  3.24561387e-09 -2.45570258e-09  5.12347394e-10\n",
      "  3.32836881e-09  1.46068028e-09  3.16809597e-10  6.18899402e-09\n",
      "  3.02489419e-09  4.73446844e-09  1.15868741e-09 -5.95919951e-09\n",
      "  1.53001178e-09  6.68585255e-09  6.16121983e-09 -1.31565281e-10\n",
      " -5.17264672e-09 -4.70587651e-09 -6.13325117e-09  1.23258304e-10\n",
      "  5.22237006e-09 -2.63428418e-09 -3.54369141e-10 -1.39914105e-09\n",
      "  5.64246976e-09 -7.96541529e-10  5.40045536e-09 -4.22951129e-09\n",
      " -8.81353638e-10 -1.09105764e-10  4.21629719e-09  4.50157232e-09\n",
      " -3.18942095e-10  2.63774064e-09 -4.71443709e-09 -9.36714945e-10\n",
      " -2.58626680e-09 -5.04100743e-09  1.53539016e-09 -2.95494164e-09\n",
      " -2.13112960e-09 -8.08975801e-10  4.03250730e-10 -2.41329202e-09\n",
      " -1.50517409e-09 -2.60482525e-09 -4.70354651e-09  3.40048680e-09]\n"
     ]
    }
   ],
   "source": [
    "print((np.unique(tt)-t1)/t1)"
   ]
  },
  {
   "cell_type": "code",
   "execution_count": 12,
   "metadata": {},
   "outputs": [
    {
     "name": "stdout",
     "output_type": "stream",
     "text": [
      "{'h': 0.677, 'omega_b': 0.02247, 'omega_cdm': 0.11923, 'A_s': 2.10732e-09, 'n_s': 0.96824, 'k_pivot': 0.05}\n"
     ]
    }
   ],
   "source": [
    "#cosmology\n",
    "h         = 0.6770\n",
    "omega_cdm = 0.11923\n",
    "omega_b   = 0.02247\n",
    "Omega_b   = omega_b/h**2\n",
    "Omega_cdm = omega_cdm/h**2\n",
    "Omega_m   = Omega_b+Omega_cdm\n",
    "ns        = 0.96824\n",
    "A0        = 2.10732*10**(-9)\n",
    "\n",
    "#dictionary for class\n",
    "cosmo_dict={'h': h,\n",
    "'omega_b' : omega_b,\n",
    "'omega_cdm': omega_cdm,\n",
    "'A_s'    : A0,\n",
    "'n_s'    : ns,\n",
    "'k_pivot' : 0.05}\n",
    "print(cosmo_dict)\n",
    "\n",
    "# speed of light\n",
    "c      = 299792458./1000. # km/s\n",
    "\n",
    "#prefactor for Cl_kk computation from Cl_dd\n",
    "prefac = 1.5*Omega_m*(100.)**2/c**2 #without h"
   ]
  },
  {
   "cell_type": "code",
   "execution_count": 13,
   "metadata": {},
   "outputs": [],
   "source": [
    "from classy import Class\n",
    "cosmo = Class()\n",
    "cosmo.set(cosmo_dict)\n",
    "cosmo.compute()\n",
    "cosmo_b               = cosmo.get_background()\n",
    "\n",
    "class_z               = cosmo_b['z'][::-1]\n",
    "class_chi             = cosmo_b['comov. dist.'][::-1]\n",
    "class_D               = cosmo_b['gr.fac. D'][::-1]#/cosmo_b['gr.fac. D'][-1]\n",
    "\n",
    "derivParams           = cosmo.get_current_derived_parameters(['z_rec'])\n",
    "z_cmb                 = derivParams['z_rec']\n",
    "\n",
    "\n",
    "from scipy.interpolate import interp1d\n",
    "from scipy.interpolate import InterpolatedUnivariateSpline as ius\n",
    "chi_z = interp1d(class_z,class_chi*h, bounds_error=False, fill_value=0)\n",
    "z_chi = interp1d(class_chi*h,class_z, bounds_error=False, fill_value=0)   # Mpc/h\n",
    "D_chi = interp1d(class_chi*h,class_D, bounds_error=False, fill_value=0)    # growth\n",
    "D_z   = interp1d(class_z,class_D, bounds_error=False, fill_value=0)\n",
    "# chi_cmb\n",
    "chi_cmb = chi_z(z_cmb)\n",
    "\n"
   ]
  },
  {
   "cell_type": "code",
   "execution_count": 14,
   "metadata": {},
   "outputs": [
    {
     "name": "stdout",
     "output_type": "stream",
     "text": [
      "9416.06644934157 9414.597956961135\n"
     ]
    }
   ],
   "source": [
    "print(chi_z(1100),chi_z(z_cmb))"
   ]
  },
  {
   "cell_type": "code",
   "execution_count": 15,
   "metadata": {},
   "outputs": [
    {
     "data": {
      "image/png": "[encoded data removed]",
      "text/plain": [
       "<Figure size 432x288 with 1 Axes>"
      ]
     },
     "metadata": {},
     "output_type": "display_data"
    },
    {
     "data": {
      "text/plain": [
       "array(1.)"
      ]
     },
     "execution_count": 15,
     "metadata": {},
     "output_type": "execute_result"
    }
   ],
   "source": [
    "z = np.linspace(0,5,100)\n",
    "plt.figure()\n",
    "plt.plot(class_z,class_D,ls='-')\n",
    "plt.plot(z,D_z(z),ls='--')\n",
    "plt.plot(z,1/(1+z),ls='-.')\n",
    "plt.xlim(0,5)\n",
    "plt.show()\n",
    "D_z(0)"
   ]
  },
  {
   "cell_type": "code",
   "execution_count": 16,
   "metadata": {},
   "outputs": [
    {
     "data": {
      "image/png": "[encoded data removed]",
      "text/plain": [
       "<Figure size 432x288 with 1 Axes>"
      ]
     },
     "metadata": {},
     "output_type": "display_data"
    },
    {
     "data": {
      "image/png": "[encoded data removed]",
      "text/plain": [
       "<Figure size 432x288 with 1 Axes>"
      ]
     },
     "metadata": {},
     "output_type": "display_data"
    }
   ],
   "source": [
    "z=np.linspace(0.,10,200)\n",
    "plt.figure()\n",
    "plt.loglog(z,chi_z(z))\n",
    "plt.show()\n",
    "plt.figure()\n",
    "plt.plot(z,D_z(z)/D_chi(chi_z(z)))\n",
    "plt.show()\n",
    "# plt.figure()\n",
    "# plt.loglog(z,)\n",
    "# plt.show()\n",
    "# plt.figure()\n",
    "# plt.loglog(z,z_chi(chi_z(z)))\n",
    "# plt.show()"
   ]
  },
  {
   "cell_type": "code",
   "execution_count": 17,
   "metadata": {},
   "outputs": [
    {
     "data": {
      "text/plain": [
       "array(0.94886829)"
      ]
     },
     "execution_count": 17,
     "metadata": {},
     "output_type": "execute_result"
    }
   ],
   "source": [
    "D_chi(chi_z(0.1))"
   ]
  },
  {
   "cell_type": "markdown",
   "metadata": {},
   "source": [
    "# Integrals here"
   ]
  },
  {
   "cell_type": "code",
   "execution_count": 19,
   "metadata": {},
   "outputs": [],
   "source": [
    "from scipy.integrate import simps, quadrature\n",
    "from scipy.interpolate import interp1d\n",
    "import time\n"
   ]
  },
  {
   "cell_type": "code",
   "execution_count": 20,
   "metadata": {},
   "outputs": [
    {
     "name": "stderr",
     "output_type": "stream",
     "text": [
      "/home/chirag/anaconda3/lib/python3.6/site-packages/ipykernel_launcher.py:32: ComplexWarning: Casting complex values to real discards the imaginary part\n"
     ]
    },
    {
     "name": "stdout",
     "output_type": "stream",
     "text": [
      "Time taken =  2.3071441650390625\n"
     ]
    }
   ],
   "source": [
    "### Try with the auto-spectra without symmetrizing so that we check the second term of Eq. 3.05\n",
    "##Also, no need to estimate the kernels again and again since they are independent of \\ell and \\nu\n",
    "##This way we reduce calls to interpolate and stuff\n",
    "##Well, some things depend on \\nu so Use \\nu as the third axes so that all the \\chi kernels can be estimated beforehand\n",
    "\n",
    "def Wkernel(xi, xmax):\n",
    "    return (xmax - xi)/(xmax*xi) * (xmax > xi) * (1.+z_chi(xi))\n",
    "\n",
    "\n",
    "r2d, t2d = np.meshgrid(t_,t_)\n",
    "w11, w12 = np.meshgrid(w1,w1)\n",
    "r2d, t2d = np.expand_dims(r2d, 2), np.expand_dims(t2d, 2)\n",
    "w11, w12 = np.expand_dims(w11, 2), np.expand_dims(w12, 2)\n",
    "I0_ltrc = np.swapaxes(I0_lcrt, 1, 3)\n",
    "\n",
    "\n",
    "begin=time.time()\n",
    "\n",
    "chi1fac0 = (Wkernel(r2d*chi_cmb, chi_cmb)*D_chi(r2d*chi_cmb))\n",
    "chi1fac0 = chi1fac0 *(r2d*chi_cmb)**(1-nu_n_.reshape(1, 1, -1))\n",
    "\n",
    "chi2fac00 = (Wkernel(t2d*r2d*chi_cmb, chi_cmb)*D_chi(r2d*t2d*chi_cmb))\n",
    "chi2fac01 = (Wkernel(1/t2d*r2d*chi_cmb, chi_cmb)*D_chi(r2d*1/t2d*chi_cmb))\n",
    "chi2fac01 = chi2fac01 * t2d**(nu_n_.reshape(1, 1, -1)-2)\n",
    "chi2fac0 = chi2fac00 + chi2fac01\n",
    "\n",
    "chifacs = w11*w12*chi1fac0* chi2fac0\n",
    "\n",
    "result=np.zeros_like(ell_)\n",
    "lmax = ell_.size\n",
    "for ii  in range(ell_.size):        \n",
    "    result[ii] = np.sum(chifacs*I0_ltrc[ii])\n",
    "\n",
    "Cl=chi_cmb * result*4./np.pi**2*prefac**2/8.\n",
    "\n",
    "print('Time taken = ', time.time()-begin)"
   ]
  },
  {
   "cell_type": "markdown",
   "metadata": {},
   "source": [
    "We have integrals of the form (for example, take the second term of $C_{22shift}^{\\kappa g}$ i.e. eq. 4.2; drop the integral over $\\ell$):\n",
    "<br>\n",
    "\\begin{eqnarray}\n",
    "Target &=& \\int_0^{\\chi_c}  d\\chi W(\\chi, \\chi_c)\\int_0^{\\chi_0} d\\chi' W_h(\\chi') C_{l1}^{\\Phi \\Psi}(\\chi', \\chi) C_{l2}^{\\delta\\phi}(\\chi', \\chi) \\\\\n",
    "&=&\\int_0^{\\chi_c} d\\chi W(\\chi, \\chi_c)  \\int_0^{\\chi_0} d\\chi' W_h(\\chi')\n",
    "\\int_0^{\\chi'} d\\chi\" W(\\chi\", \\chi') C_{l1}^{\\Psi \\Psi}(\\chi\", \\chi) \n",
    "\\int_0^{\\chi} d\\chi''' W(\\chi''', \\chi) C_{l2}^{\\delta \\Psi}(\\chi', \\chi''') \n",
    "\\end{eqnarray}\n",
    "\n",
    "Now,\n",
    "\\begin{eqnarray}\n",
    "C_l^{ab}(\\chi_1, \\chi_2) &=& \\int \\frac{dk}{k} j_l(k\\chi_1)j_l(k\\chi_2) [k^3 P^{ab}(k, \\chi_1, \\chi_2)] \\\\\n",
    "&=& \\sum_n c_n \\chi_1 ^{-\\nu_n} I_l(\\nu_n, \\frac{\\chi_2}{\\chi_1})\n",
    "\\end{eqnarray}\n",
    "\n",
    "So, \n",
    "\\begin{eqnarray}\n",
    "Target &=& \\int_0^{\\chi_c} d\\chi W(\\chi, \\chi_c)  \\int_0^{\\chi_0} d\\chi' W_h(\\chi') \\\\\n",
    "&\\times& \\Big(\\int_0^{\\chi'} d\\chi\" W(\\chi\", \\chi') \\sum_n c^{ab}_n \\chi ^{-\\nu_n} I_{l1}^{ab}(\\nu_n, \\frac{\\chi''}{\\chi}) \\Big) \\\\\n",
    "&\\times& \\Big(\\int_0^{\\chi} d\\chi''' W(\\chi''', \\chi) \\sum_n c^{cd}_n \\chi' ^{-\\nu_n} I_{l2}^{cd}(\\nu_n, \\frac{\\chi'''}{\\chi'}) \\Big)\n",
    "\\end{eqnarray}\n",
    "\n",
    "These are coupled together in complicated way amongst the 4 $\\chi$. \n",
    "<br>\n",
    "I think the best way to estimate these are to save the array - \n",
    "$$\n",
    "\\int_0^{\\chi} d\\chi\" W(\\chi\", \\chi) \\sum_n c_n \\chi' ^{-\\nu_n} I_l(\\nu_n, \\frac{\\chi''}{\\chi'}) \n",
    "$$\n",
    "in the above above equation as a matrix $G(l, \\chi, \\chi')$.\n",
    "<br>\n",
    "This then reduces the evaluation of integrals to the sum - \n",
    "\\begin{eqnarray}\n",
    "Target &=& \\int_0^{\\chi_c} d\\chi W(\\chi, \\chi_c)  \\int_0^{\\chi_0} d\\chi' W_h(\\chi') \\times G^{ab}(l_1, \\chi', \\chi)\\times G^{cd}(l_2, \\chi, \\chi')\\\\\n",
    "\\end{eqnarray}\n",
    "which we can evaluate as a Gauss Qaud sum.\n",
    "\n",
    "To save $G^{cd}(l_2, \\chi, \\chi')$, we have -\n",
    "\n",
    "\\begin{eqnarray}\n",
    "G^{cd}(l, \\chi, \\chi') &=& \\int_0^{\\chi} d\\chi\" W(\\chi\", \\chi) \\sum_n c_n \\chi' ^{-\\nu_n} I_l(\\nu_n, \\frac{\\chi''}{\\chi'}) \\\\\n",
    "t &=& \\chi ''/\\chi' \\\\\n",
    "G^{cd}(l, \\chi, \\chi') &=& \\int_0^{\\chi/\\chi'} dt W(t\\chi', \\chi) \\sum_n c_n \\chi' ^{1-\\nu_n} I_l(\\nu_n, t) \\\\\n",
    "G^{cd}(l, \\chi, \\chi') &=& \\sum_n  \\int_0^1 dt \\big( c_n(\\chi', t\\chi') (W(t\\chi', \\chi) + t^{-\\nu-2} c_n(\\chi', \\chi'/t) W(\\chi'/t, \\chi) \\big) \\chi' ^{1-\\nu_n} I_l(\\nu_n, t) \\\\\n",
    "\\end{eqnarray}\n",
    "\n",
    "__The problem here is that $t$ is fixed. And the obvious values of $\\chi$ and $\\chi'$ that we should take are $t \\chi_{CMB}$. Hence I am a bit uncertain how well are we sampling this integral anymore in going from $\\chi/\\chi'$ to (0-1) limit. But it should work since that is what we do in the Cl_kk as well\n",
    "__"
   ]
  },
  {
   "cell_type": "code",
   "execution_count": 21,
   "metadata": {},
   "outputs": [
    {
     "name": "stdout",
     "output_type": "stream",
     "text": [
      "(100, 289)\n",
      "Time taken =  3.8490967750549316\n"
     ]
    }
   ],
   "source": [
    "### Estimate as function of 'chi' and then integrate over \\chi\n",
    "###This is a test to check that we can estimate Cl_kk with this accurately, which kind of justifies that we are estimating\n",
    "###The G matrix accurately.\n",
    "\n",
    "def Wkernel(xi, xmax):\n",
    "    return (xmax - xi)/(xmax*xi) * (xmax > xi) * (1.+z_chi(xi))\n",
    "\n",
    "\n",
    "chimax = chi_cmb\n",
    "chi1s = t_*chimax\n",
    "\n",
    "chi1fac0 = (Wkernel(chi1s, chimax))#*D_chi(chi1s)) #Move this inside the sum\n",
    "\n",
    "t2d = t_.reshape(1, -1, 1)\n",
    "I0_ltc = np.squeeze(I0_ltrc)\n",
    "\n",
    "begin = time.time()\n",
    "result = []\n",
    "for ii, chi in enumerate(chi1s):\n",
    "    \n",
    "    chifac = chi**(1-nu_n_.reshape(1, 1, -1)) * D_chi(chi) #Move this c_n inside the loop\n",
    "    \n",
    "    chi2fac00 = (Wkernel(t2d*chi, chimax)*D_chi(t2d*chi))\n",
    "    chi2fac01 = (Wkernel(1/t2d*chi, chimax)*D_chi(1/t2d*chi))* t2d**(nu_n_.reshape(1,  -1)-2)\n",
    "    chi2fac0 = chi2fac00 + chi2fac01\n",
    "    fac = w1.reshape(1, -1, 1)*chi2fac0*chifac\n",
    "    integrand = fac * I0_ltc\n",
    "    result.append(integrand.sum(axis = (1, 2)))\n",
    "\n",
    "result = np.array(result)\n",
    "print(result.shape)\n",
    "result = (result*chi1fac0.reshape(-1, 1)*w1.reshape(-1, 1)).sum(axis=0)\n",
    "Cl2=chimax * result*4./np.pi**2*prefac**2/8.\n",
    "\n",
    "print('Time taken = ', time.time()-begin)"
   ]
  },
  {
   "cell_type": "code",
   "execution_count": 22,
   "metadata": {},
   "outputs": [],
   "source": [
    "# ### This works. This is same as above except needlessly fancy with evaluating \\chi factors beforehand\n",
    "# ### because I thought it will speed up things, but doesn't. oops. \n",
    "\n",
    "# def Wkernel(xi, xmax):\n",
    "#     return (xmax - xi)/(xmax*xi) * (xmax > xi) * (1.+z_chi(xi))\n",
    "\n",
    "\n",
    "\n",
    "# chimax = chi_cmb\n",
    "# t2d = t_.reshape(1, -1, 1)\n",
    "# r2d = t_.reshape(1, 1, -1)\n",
    "# chi1s = t2d*chimax\n",
    "# chi11d = t_*chimax\n",
    "\n",
    "# chi1fac0 = (Wkernel(chi1s, chimax)*D_chi(chi1s))\n",
    "# chi1nu = chi1s**(1-nu_n_.reshape(1, 1, -1))\n",
    "\n",
    "\n",
    "# chi2fac00 = np.expand_dims(np.squeeze(Wkernel(t2d*r2d*chi_cmb, chi_cmb)*D_chi(r2d*t2d*chi_cmb)), 2)\n",
    "# chi2fac01 = np.expand_dims(np.squeeze(Wkernel(1/t2d*r2d*chi_cmb, chi_cmb)*D_chi(r2d*1/t2d*chi_cmb)), 2)\n",
    "# chi2fac01 = chi2fac01 * t_.reshape(-1, 1, 1)**(nu_n_.reshape(1, 1, -1)-2)\n",
    "# chi2fac0 = chi2fac00 + chi2fac01\n",
    "\n",
    "\n",
    "# I_ltc = np.squeeze(I_ltrc)\n",
    "\n",
    "# begin = time.time()\n",
    "# result = []\n",
    "# for ii, chi in enumerate(chi11d):\n",
    "       \n",
    "#     integrand = w1.reshape(1, -1, 1)*chi2fac0[:, ii]*chi1nu[0, ii] * I_ltc\n",
    "#     result.append(integrand.sum(axis = (1, 2)))\n",
    "\n",
    "# result = np.array(result)\n",
    "# result = (result*chi1fac0.reshape(-1, 1)*w1.reshape(-1, 1)).sum(axis=0)\n",
    "# Cl3=chimax * result*4./np.pi**2*prefac**2/8.\n",
    "\n",
    "# print('Time taken = ', time.time()-begin)"
   ]
  },
  {
   "cell_type": "code",
   "execution_count": 23,
   "metadata": {},
   "outputs": [
    {
     "name": "stderr",
     "output_type": "stream",
     "text": [
      "/home/chirag/anaconda3/lib/python3.6/site-packages/numpy/core/numeric.py:492: ComplexWarning: Casting complex values to real discards the imaginary part\n",
      "  return array(a, dtype, copy=False, order=order)\n"
     ]
    },
    {
     "data": {
      "text/plain": [
       "(2, 500)"
      ]
     },
     "execution_count": 23,
     "metadata": {},
     "output_type": "execute_result"
    },
    {
     "data": {
      "image/png": "[encoded data removed]",
      "text/plain": [
       "<Figure size 432x288 with 1 Axes>"
      ]
     },
     "metadata": {},
     "output_type": "display_data"
    }
   ],
   "source": [
    "plt.figure()\n",
    "plt.loglog(ell_[:lmax],(ell_[:lmax]*(ell_[:lmax]+1.))**2*Cl[:lmax]/(2.*np.pi))\n",
    "plt.loglog(ell_[:lmax],(ell_[:lmax]*(ell_[:lmax]+1.))**2*Cl2[:lmax]/(2.*np.pi))\n",
    "# plt.loglog(ell_[:lmax],(ell_[:lmax]*(ell_[:lmax]+1.))**2*Cl3[:lmax]/(2.*np.pi))\n",
    "plt.xlim(2,500)"
   ]
  },
  {
   "cell_type": "code",
   "execution_count": 24,
   "metadata": {},
   "outputs": [
    {
     "name": "stderr",
     "output_type": "stream",
     "text": [
      "/home/chirag/anaconda3/lib/python3.6/site-packages/numpy/core/numeric.py:492: ComplexWarning: Casting complex values to real discards the imaginary part\n",
      "  return array(a, dtype, copy=False, order=order)\n"
     ]
    },
    {
     "data": {
      "text/plain": [
       "<matplotlib.legend.Legend at 0x7fe077932a20>"
      ]
     },
     "execution_count": 24,
     "metadata": {},
     "output_type": "execute_result"
    },
    {
     "data": {
      "image/png": "[encoded data removed]",
      "text/plain": [
       "<Figure size 432x288 with 1 Axes>"
      ]
     },
     "metadata": {},
     "output_type": "display_data"
    }
   ],
   "source": [
    "ll,clpp,clpp2 = np.loadtxt('class_ouput.out')\n",
    "\n",
    "plt.figure()#\n",
    "# plt.semilogx(ell_,Clv/np.interp(ell_,ll,clpp), label='nessa')\n",
    "plt.semilogx(ell_,Cl/np.interp(ell_,ll,clpp), ls=\":\", lw=3, label='mcSpeedy')\n",
    "plt.semilogx(ell_,Cl2/np.interp(ell_,ll,clpp), ls=\"--\", lw=2, label='chi')\n",
    "# plt.semilogx(ell_,Cl3/np.interp(ell_,ll,clpp), ls=\"-\", lw=1, label='chi3')\n",
    "plt.ylim(0.95,1.05)\n",
    "# plt.ylim(0.9,2)\n",
    "plt.grid()\n",
    "plt.legend()"
   ]
  },
  {
   "cell_type": "markdown",
   "metadata": {},
   "source": [
    "# save xifunc as described above\n",
    "\n",
    "To save $G^{cd}(l_2, \\chi, \\chi')$, we have -\n",
    "\n",
    "\\begin{eqnarray}\n",
    "G^{cd}(l, \\chi, \\chi') &=& \\int_0^{\\chi} d\\chi\" W(\\chi\", \\chi) \\sum_n c_n \\chi' ^{-\\nu_n} I_l(\\nu_n, \\frac{\\chi''}{\\chi'}) \\\\\n",
    "t &=& \\chi ''/\\chi' \\\\\n",
    "G^{cd}(l, \\chi, \\chi') &=& \\int_0^{\\chi/\\chi'} dt W(t\\chi', \\chi) \\sum_n c_n \\chi' ^{1-\\nu_n} I_l(\\nu_n, t) \\\\\n",
    "G^{cd}(l, \\chi, \\chi') &=& \\sum_n  \\int_0^1 dt \\big( c_n(\\chi', t\\chi') (W(t\\chi', \\chi) + t^{-\\nu-2} c_n(\\chi', \\chi'/t) W(\\chi'/t, \\chi) \\big) \\chi' ^{1-\\nu_n} I_l(\\nu_n, t) \\\\\n",
    "\\end{eqnarray}\n",
    "\n",
    "__The problem here is that $t$ is fixed. And the obvious values of $\\chi$ and $\\chi'$ that we should take are $t \\chi_{CMB}$. Hence I am a bit uncertain how well are we sampling this integral anymore in going from $\\chi/\\chi'$ to (0-1) limit. But it should work since that is what we do in the Cl_kk as well\n",
    "__"
   ]
  },
  {
   "cell_type": "code",
   "execution_count": 25,
   "metadata": {},
   "outputs": [],
   "source": [
    "# ### Saving here\n",
    "\n",
    "# def Wkernel(xi, xmax):\n",
    "#     return (xmax - xi)/(xmax*xi) * (xmax > xi) * (1.+z_chi(xi))\n",
    "\n",
    "# I4_ltc = np.squeeze(I4_ltrc)\n",
    "# t2d = t_.reshape(1, -1, 1)\n",
    "\n",
    "# chis = t_*chi_cmb\n",
    "# chips = t_*chi_cmb\n",
    "\n",
    "# Gsave = []\n",
    "\n",
    "# begin = time.time()\n",
    "# for ichim, chimax in enumerate(chis[:]):\n",
    "#     if ichim %10 == 0:\n",
    "#         print(ichim)\n",
    "        \n",
    "#     chi1fac0 = (Wkernel(chips, chimax))#*D_chi(chi1s)) #Move this inside the sum\n",
    "\n",
    "#     result = []\n",
    "#     for ii, chi in enumerate(chips):\n",
    "\n",
    "#         chifac = chi**(1-nu_n_.reshape(1, 1, -1)) * D_chi(chi) #Move this c_n inside the loop\n",
    "\n",
    "#         chi2fac00 = (Wkernel(t2d*chi, chimax)*D_chi(t2d*chi))\n",
    "#         chi2fac01 = (Wkernel(1/t2d*chi, chimax)*D_chi(1/t2d*chi))* t2d**(nu_n_.reshape(1,  -1)-2)\n",
    "#         chi2fac0 = chi2fac00 + chi2fac01\n",
    "#         fac = w1.reshape(1, -1, 1)*chi2fac0*chifac\n",
    "#         integrand = fac * I4_ltc\n",
    "#         result.append(integrand.sum(axis = (1, 2)))\n",
    "\n",
    "#     Gsave.append(np.array(result).T)\n",
    "#     if ichim %10 == 0:\n",
    "#         print(time.time()-begin)\n",
    "    \n",
    "# Gsave = np.swapaxes(np.array(Gsave), 0, 1)\n",
    "\n",
    "# np.save(path + 'G-Ilnut_nd4', Gsave)"
   ]
  },
  {
   "cell_type": "markdown",
   "metadata": {},
   "source": [
    "# Clgg"
   ]
  },
  {
   "cell_type": "code",
   "execution_count": 28,
   "metadata": {},
   "outputs": [
    {
     "data": {
      "image/png": "[encoded data removed]",
      "text/plain": [
       "<Figure size 432x288 with 1 Axes>"
      ]
     },
     "metadata": {},
     "output_type": "display_data"
    },
    {
     "name": "stderr",
     "output_type": "stream",
     "text": [
      "/home/chirag/anaconda3/lib/python3.6/site-packages/ipykernel_launcher.py:80: ComplexWarning: Casting complex values to real discards the imaginary part\n"
     ]
    },
    {
     "name": "stdout",
     "output_type": "stream",
     "text": [
      "Time taken =  1.9029018878936768\n"
     ]
    },
    {
     "name": "stderr",
     "output_type": "stream",
     "text": [
      "/home/chirag/anaconda3/lib/python3.6/site-packages/ipykernel_launcher.py:105: ComplexWarning: Casting complex values to real discards the imaginary part\n"
     ]
    },
    {
     "name": "stdout",
     "output_type": "stream",
     "text": [
      "Time taken =  3.9377355575561523\n"
     ]
    }
   ],
   "source": [
    "\n",
    "############################# TAttempting Clgg here\n",
    "##Also, no need to estimate the kernels again and again since they are independent of \\ell and \\nu\n",
    "##This way we reduce calls to interpolate and stuff\n",
    "##Well, some things depend on \\nu so Use \\nu as the third axes so that all the \\chi kernels can be estimated beforehand\n",
    "\n",
    "def Wgauss(xi, xi0, sigz=0.3):\n",
    "    z0 = z_chi(xi0)\n",
    "    z1, z2 = z0-sigz/2., z0+sigz/2.\n",
    "    xi1, xi2 = chi_z(z1), chi_z(z2)\n",
    "    sigxi = xi2-xi1\n",
    "    return 1/np.sqrt(2*np.pi*sigxi**2) * np.exp(- (xi-xi0)**2/2/sigxi**2) \n",
    "\n",
    "# txi = np.linspace(1000, 5000, 100)\n",
    "# plt.plot(t_*txi, Wgauss(t_*txi, chi_z(1)), '.')\n",
    "# plt.plot(txi, Wgauss(txi, chi_z(1.5)))\n",
    "# plt.plot(txi, Wgauss(txi, chi_z(1)))\n",
    "# plt.axvline(chi_z(2.5))\n",
    "# plt.axvline(chi_z(2))\n",
    "# plt.yscale('log')\n",
    "\n",
    "#########################################################################\n",
    "#Set up\n",
    "\n",
    "r2d, t2d = np.meshgrid(t_,t_)\n",
    "w11, w12 = np.meshgrid(w1,w1)\n",
    "r2d, t2d = np.expand_dims(r2d, 2), np.expand_dims(t2d, 2)\n",
    "w11, w12 = np.expand_dims(w11, 2), np.expand_dims(w12, 2)\n",
    "I4_ltrc = np.swapaxes(I4_lcrt, 1, 3)\n",
    "fudge = 4\n",
    "\n",
    "\n",
    "#Redshift kernels\n",
    "\n",
    "z10, z20, sigz = 1, 1.5, 0.15\n",
    "chi10, chi20 = chi_z(z10), chi_z(z20)\n",
    "\n",
    "#Make figure\n",
    "plt.figure()\n",
    "txi = np.linspace(0, chi_z(z20+5*sigz), 100)\n",
    "plt.plot(t_*txi, Wgauss(t_*txi, chi_z(z10)), 'x')\n",
    "plt.plot(t_*txi, Wgauss(t_*txi, chi_z(z20)), 'x')\n",
    "\n",
    "txi = np.linspace(0, chi_cmb, 100)\n",
    "plt.plot(t_*txi, Wgauss(t_*txi, chi_z(z10)), 'o')\n",
    "plt.plot(t_*txi, Wgauss(t_*txi, chi_z(z20)), 'o')\n",
    "\n",
    "plt.plot(txi, Wgauss(txi, chi_z(z10)), label='z=%0.2f'%z10)\n",
    "plt.plot(txi, Wgauss(txi, chi_z(z20)), label='z=%0.2f'%z20)\n",
    "\n",
    "plt.axvline(chi_z(z10))\n",
    "plt.axvline(chi_z(z20))\n",
    "\n",
    "plt.ylim( Wgauss(txi, chi_z(z10)).max()/1e5,  Wgauss(txi, chi_z(z20)).max()*2)\n",
    "# plt.yscale('log')\n",
    "plt.xlabel(r'$\\chi$')\n",
    "plt.legend()\n",
    "plt.show()\n",
    "\n",
    "\n",
    "#########\n",
    "begin=time.time()\n",
    "#Try different chimax to see how sampling changes things\n",
    "chimax = chi_z(z20+5*sigz)\n",
    "\n",
    "chi1fac0 = (Wgauss(r2d*chimax, chi10, sigz)*D_chi(r2d*chimax))\n",
    "chi1fac0 = chi1fac0 *(r2d*chimax)**(1-(4+nu_n_.reshape(1, 1, -1)))\n",
    "\n",
    "chi2fac00 = (Wgauss(t2d*r2d*chimax, chi20, sigz)*D_chi(r2d*t2d*chimax))\n",
    "chi2fac01 = (Wgauss(1/t2d*r2d*chimax, chi20, sigz)*D_chi(r2d*1/t2d*chimax))\n",
    "chi2fac01 = chi2fac01 * t2d**((4+nu_n_).reshape(1, 1, -1)-2)\n",
    "chi2fac0 = chi2fac00 + chi2fac01\n",
    "\n",
    "\n",
    "chifacs = w11*w12*chi1fac0* chi2fac0\n",
    "\n",
    "result=np.zeros_like(ell_)\n",
    "lmax = ell_.size\n",
    "for ii  in range(ell_.size):        \n",
    "    result[ii] = np.sum(chifacs*I4_ltrc[ii])\n",
    "\n",
    "Clgg = chimax * result*4./np.pi**2/8.\n",
    "Clgg /= fudge\n",
    "\n",
    "print('Time taken = ', time.time()-begin)\n",
    "\n",
    "###################################\n",
    "\n",
    "chimax = chi_cmb\n",
    "\n",
    "chi1fac0 = (Wgauss(r2d*chimax, chi10, sigz)*D_chi(r2d*chimax))\n",
    "chi1fac0 = chi1fac0 *(r2d*chimax)**(1-(4+nu_n_.reshape(1, 1, -1)))\n",
    "\n",
    "chi2fac00 = (Wgauss(t2d*r2d*chimax, chi20, sigz)*D_chi(r2d*t2d*chimax))\n",
    "chi2fac01 = (Wgauss(1/t2d*r2d*chimax, chi20, sigz)*D_chi(r2d*1/t2d*chimax))\n",
    "chi2fac01 = chi2fac01 * t2d**((4+nu_n_).reshape(1, 1, -1)-2)\n",
    "chi2fac0 = chi2fac00 + chi2fac01\n",
    "\n",
    "\n",
    "chifacs = w11*w12*chi1fac0* chi2fac0\n",
    "\n",
    "result=np.zeros_like(ell_)\n",
    "lmax = ell_.size\n",
    "for ii  in range(ell_.size):        \n",
    "    result[ii] = np.sum(chifacs*I4_ltrc[ii])\n",
    "\n",
    "Clggcmb = chimax * result*4./np.pi**2/8.\n",
    "Clggcmb /= fudge\n",
    "\n",
    "print('Time taken = ', time.time()-begin)\n"
   ]
  },
  {
   "cell_type": "code",
   "execution_count": 29,
   "metadata": {},
   "outputs": [
    {
     "data": {
      "image/png": "[encoded data removed]",
      "text/plain": [
       "<Figure size 432x288 with 1 Axes>"
      ]
     },
     "metadata": {},
     "output_type": "display_data"
    }
   ],
   "source": [
    "plt.plot(ell_, abs(Clgg)*1e9)\n",
    "plt.plot(ell_, abs(Clggcmb)*1e9)\n",
    "plt.loglog()\n",
    "# plt.ylim(0.3, 25)\n",
    "# plt.yticks((0.5, 1, 2, 5, 10), (0.5, 1, 2, 5, 10))\n",
    "plt.yticks(np.logspace(-2, 2, 5), np.logspace(-2, 2, 5))\n",
    "plt.xlim(2, 500)\n",
    "plt.grid(which='both')"
   ]
  },
  {
   "cell_type": "code",
   "execution_count": 30,
   "metadata": {},
   "outputs": [
    {
     "data": {
      "image/png": "[encoded data removed]",
      "text/plain": [
       "<Figure size 432x288 with 1 Axes>"
      ]
     },
     "metadata": {},
     "output_type": "display_data"
    }
   ],
   "source": [
    "plt.plot(ell_, Clggcmb/Clgg)\n",
    "plt.xscale('log')\n",
    "plt.ylim(0.90, 1.1)\n",
    "plt.grid(which='both')"
   ]
  },
  {
   "cell_type": "markdown",
   "metadata": {},
   "source": [
    "# Integrals"
   ]
  },
  {
   "cell_type": "markdown",
   "metadata": {},
   "source": [
    "\\begin{eqnarray}\n",
    "C_l^{ab}(\\chi_1, \\chi_2) &=& \\int \\frac{dk}{k} j_l(k\\chi_1)j_l(k\\chi_2) [k^3 P^{ab}(k, \\chi_1, \\chi_2)] \\\\\n",
    "&=& \\sum_n c_n \\chi_1 ^{-\\nu_n} I_l(\\nu_n, \\frac{\\chi_2}{\\chi_1})\n",
    "\\end{eqnarray}\n",
    "(dropped 1/$4\\pi$)\n",
    "\n",
    "\\begin{eqnarray}\n",
    "G^{ab}(l, \\chi, \\chi') &=& \\int_0^{\\chi} d\\chi\" W(\\chi\", \\chi) C_l^{ab}(\\chi', \\chi\")  \\\\\n",
    "&=&\\int_0^{\\chi} d\\chi\" W(\\chi\", \\chi) \\sum_n c_n \\chi' ^{-\\nu_n} I_l^{ab}(\\nu_n, \\frac{\\chi''}{\\chi'}) \n",
    "\\end{eqnarray}\n",
    "<br>\n",
    "\n",
    "\n",
    "In the following, drop the integral over $\\ell$\n",
    "\n",
    "- $C_{22shift, A}^{\\kappa g}$ i.e. eq. 4.2 second term :\n",
    "<br>\n",
    "\\begin{eqnarray}\n",
    "C_{22shift, A}^{\\kappa g} &=& \\int_0^{\\chi_c}  d\\chi W(\\chi, \\chi_c)\\int_0^{\\chi_0} d\\chi' W_h(\\chi')\n",
    "C_{l1}^{\\delta \\Psi}(\\chi', \\chi) C_{l2}^{\\phi\\phi}(\\chi', \\chi) \\\\\n",
    "&=&\\int_0^{\\chi_c} d\\chi W(\\chi, \\chi_c)  \\int_0^{\\chi_0} d\\chi' W_h(\\chi') C_{l1}^{\\delta \\Psi}(\\chi', \\chi) \n",
    "\\int_0^{\\chi'} d\\chi\" W(\\chi\", \\chi') \n",
    "\\int_0^{\\chi} d\\chi''' W(\\chi''', \\chi) C_{l2}^{\\Psi \\Psi}(\\chi', \\chi''') \n",
    "\\end{eqnarray}\n",
    "\n",
    "Notes - here, we can create a table of ($\\chi, \\chi'$) for the second half i.e. $\\int_0^{\\chi'} d\\chi\" W(\\chi\", \\chi') \n",
    "\\int_0^{\\chi} d\\chi''' W(\\chi''', \\chi) C_{l2}^{\\Psi \\Psi}(\\chi', \\chi''') $, then simply multiply with other $I_{l1}^{\\delta \\Psi}$ and do the remaining 2 integrals with GC\n",
    " \n",
    "\n",
    "- $C_{22shift, B}^{\\kappa g}$ i.e. eq. 4.2 second term :\n",
    "<br>\n",
    "\\begin{eqnarray}\n",
    "C_{22shift, B}^{\\kappa g} &=& \\int_0^{\\chi_c}  d\\chi W(\\chi, \\chi_c)\\int_0^{\\chi_0} d\\chi' W_h(\\chi')\n",
    "C_{l1}^{\\Phi \\Psi}(\\chi', \\chi) C_{l2}^{\\delta\\phi}(\\chi', \\chi) \\\\\n",
    "&=&\\int_0^{\\chi_c} d\\chi W(\\chi, \\chi_c)  \\int_0^{\\chi_0} d\\chi' W_h(\\chi')\n",
    "\\int_0^{\\chi'} d\\chi\" W(\\chi\", \\chi') C_{l1}^{\\Psi \\Psi}(\\chi\", \\chi) \n",
    "\\int_0^{\\chi} d\\chi''' W(\\chi''', \\chi) C_{l2}^{\\delta \\Psi}(\\chi', \\chi''') \n",
    "\\end{eqnarray}\n",
    "\n",
    "Notes - here, we can create use table of $G_{l_2, \\chi, \\chi'}^{\\delta \\Psi}$ and $G_{l_1, \\chi, \\chi'}^{\\Psi \\Psi}$, multiply them and then do the the remaining 2 integrals with GC\n",
    "\n",
    "- $C_{13ashift, A}^{\\kappa g}$ i.e. eq. 4.3 :\n",
    "<br>\n",
    "\\begin{eqnarray}\n",
    "C_{13ashift, A}^{\\kappa g} &=& \\int_0^{\\chi_c}  d\\chi W(\\chi, \\chi_c)\\int_0^{\\chi_0} d\\chi' W_h(\\chi')\n",
    "C_{l1}^{\\delta \\Psi}(\\chi', \\chi) C_{l2}^{\\phi\\phi}(\\chi, \\chi) \\\\\n",
    "&=&\\int_0^{\\chi_c} d\\chi W(\\chi, \\chi_c)  \\int_0^{\\chi_0} d\\chi' W_h(\\chi') C_{l1}^{\\delta \\Psi}(\\chi', \\chi) \n",
    "\\int_0^{\\chi} d\\chi\" W(\\chi\", \\chi) \n",
    "\\int_0^{\\chi} d\\chi''' W(\\chi''', \\chi) C_{l2}^{\\Psi \\Psi}(\\chi\", \\chi''') \n",
    "\\end{eqnarray}\n",
    "\n",
    "Notes - here again, same as 22A, we can create a table of ($\\chi$) for the second half i.e. $\\int_0^{\\chi} d\\chi\" W(\\chi\", \\chi) \n",
    "\\int_0^{\\chi} d\\chi''' W(\\chi''', \\chi) C_{l2}^{\\Psi \\Psi}(\\chi, \\chi''') $, put it in the kernel of $\\chi$; integrate out $\\chi'$ first with GC and then do the full $\\chi$ integral with GC\n",
    "\n",
    "\n",
    "- $C_{31ashift, B}^{\\kappa g}$ i.e. eq. 4.4 :\n",
    "<br>\n",
    "\\begin{eqnarray}\n",
    "C_{31ashift, B}^{\\kappa g} &=& \\int_0^{\\chi_c}  d\\chi W(\\chi, \\chi_c) \\int_0^{\\chi_0} d\\chi' W_h(\\chi')\n",
    "C_{l1}^{\\Phi \\Psi}(\\chi, \\chi) C_{l2}^{\\delta\\phi}(\\chi', \\chi) \\\\\n",
    "&=&\\int_0^{\\chi_c} d\\chi W(\\chi, \\chi_c)  \\int_0^{\\chi_0} d\\chi' W_h(\\chi')\n",
    "\\int_0^{\\chi} d\\chi\" W(\\chi\", \\chi) C_{l1}^{\\Psi \\Psi}(\\chi\", \\chi) \n",
    "\\int_0^{\\chi} d\\chi''' W(\\chi''', \\chi) C_{l2}^{\\delta \\Psi}(\\chi', \\chi''') \n",
    "\\end{eqnarray}\n",
    "\n",
    "Notes - here again, we can do integral over $\\chi'$ and $\\chi\"$ trivially, combine everything into the kernel of $\\chi$ and then estimate that with GC\n",
    "\n",
    "\n",
    "- $C_{13shift}^{\\kappa g}$ i.e. eq. 4.5 :\n",
    "<br>\n",
    "\\begin{eqnarray}\n",
    "C_{13shift}^{\\kappa g} &=& \\int_0^{\\chi_c}  d\\chi W(\\chi, \\chi_c) \\int_0^{\\chi_0} d\\chi' W_h(\\chi')\n",
    "C_{l1}^{\\delta \\Psi}(\\chi', \\chi) C_{l2}^{\\phi\\phi}(\\chi', \\chi') \\\\\n",
    "&=&\\int_0^{\\chi_c} d\\chi W(\\chi, \\chi_c)  \\int_0^{\\chi_0} d\\chi' W_h(\\chi') C_{l1}^{\\delta \\Psi}(\\chi', \\chi) \n",
    "\\int_0^{\\chi'} d\\chi\" W(\\chi\", \\chi') \n",
    "\\int_0^{\\chi'} d\\chi''' W(\\chi''', \\chi') C_{l2}^{\\Psi \\Psi}(\\chi\", \\chi''') \n",
    "\\end{eqnarray}\n",
    "\n",
    "Notes - here again, same as 31a,A, except we can create a table of ($\\chi'$) for the second half i.e. $\\int_0^{\\chi'} d\\chi\" W(\\chi\", \\chi') \n",
    "\\int_0^{\\chi'} d\\chi''' W(\\chi''', \\chi') C_{l2}^{\\Psi \\Psi}(\\chi\", \\chi''') $, put it in the kernel of $\\chi'$; then integrate out $\\chi'$ and $\\chi$ in the usual manner\n",
    "\n",
    "\n",
    "- $C_{13shift}^{\\kappa g}$ i.e. eq. 4.6 :\n",
    "<br>\n",
    "\\begin{eqnarray}\n",
    "C_{13shift}^{\\kappa g} &=& \\int_0^{\\chi_c}  d\\chi W(\\chi, \\chi_c) \\int_0^{\\chi_0} d\\chi' W_h(\\chi')\n",
    "\\int_0^{\\chi}  d\\chi\" W(\\chi\", \\chi) C_{l1}^{\\Psi \\Psi}(\\chi\", \\chi) C_{l2}^{\\phi\\delta}(\\chi\", \\chi') \\\\\n",
    "&=&\\int_0^{\\chi_c} d\\chi W(\\chi, \\chi_c)  \\int_0^{\\chi_0} d\\chi' W_h(\\chi') \n",
    "\\int_0^{\\chi}  d\\chi\" W(\\chi\", \\chi) C_{l1}^{\\Psi \\Psi}(\\chi\", \\chi)\n",
    "\\int_0^{\\chi\"} d\\chi''' W(\\chi''', \\chi\") C_{l2}^{\\Psi\\delta}(\\chi''', \\chi')  \n",
    "\\end{eqnarray}\n",
    "\n",
    "Notes - here we can do the $\\chi', \\chi'''$ integrals first  in the usual fashion to create a table of $\\chi\"$ and then use them as weights to do $\\chi, \\chi''$ integrals later\n",
    "\n",
    "- $C_{31bshift}^{\\kappa g}$ i.e. eq. 4.6-3.7 :\n",
    "<br>\n",
    "\\begin{eqnarray}\n",
    "C_{31bshift}^{\\kappa g} &=& \\int_0^{\\chi_c}  d\\chi W(\\chi, \\chi_c) \\int_0^{\\chi_0} d\\chi' W_h(\\chi')\n",
    "\\int_0^{\\chi}  d\\chi\" W(\\chi\", \\chi) C_{l1}^{\\Psi \\Psi}(\\chi\", \\chi) C_{l2}^{\\phi\\delta}(\\chi\", \\chi') \\\\\n",
    "&=&\\int_0^{\\chi_c} d\\chi W(\\chi, \\chi_c)  \\int_0^{\\chi_0} d\\chi' W_h(\\chi') \n",
    "\\int_0^{\\chi}  d\\chi\" W(\\chi\", \\chi) C_{l1}^{\\Psi \\Psi}(\\chi\", \\chi)\n",
    "\\int_0^{\\chi\"} d\\chi''' W(\\chi''', \\chi\") C_{l2}^{\\Psi\\delta}(\\chi''', \\chi')  \n",
    "\\end{eqnarray}\n",
    "\n",
    "Notes - here we can do the $\\chi', \\chi'''$ integrals first  in the usual fashion to create a table of $\\chi\"$ and then use them as weights to do $\\chi, \\chi''$ integrals later\n",
    "\n",
    "- $C_{13bshift}^{\\kappa g}$ i.e. eq. 4.8 :\n",
    "<br>\n",
    "\\begin{eqnarray}\n",
    "C_{13shift}^{\\kappa g} &=& \\int_0^{\\chi_c}  d\\chi W(\\chi, \\chi_c) \\int_0^{\\chi_0} d\\chi' W_h(\\chi')\n",
    "\\int_0^{\\chi'}  d\\chi\" W(\\chi\", \\chi) C_{l1}^{\\Psi \\Psi}(\\chi\", \\chi) ...\n",
    "\\end{eqnarray}\n",
    "\n",
    "Notes - ...\n",
    "\n",
    "- $C_{13, J}^{\\kappa g}$ i.e. eq. 4.8 :\n",
    "<br>\n",
    "\\begin{eqnarray}\n",
    "C_{13shift}^{\\kappa g} &=& \\int_0^{\\chi_c}  d\\chi W(\\chi, \\chi_c) \\int_0^{\\chi_0} d\\chi' W_h(\\chi')\n",
    "\\int_0^{\\chi'}  d\\chi\" W(\\chi\", \\chi) C_{l1}^{\\Psi \\Psi}(\\chi\", \\chi) C_{l2}^{\\phi\\delta} ...\n",
    "\\end{eqnarray}\n",
    "\n",
    "Notes - ..."
   ]
  },
  {
   "cell_type": "code",
   "execution_count": null,
   "metadata": {},
   "outputs": [],
   "source": []
  }
 ],
 "metadata": {
  "kernelspec": {
   "display_name": "Python 3",
   "language": "python",
   "name": "python3"
  },
  "language_info": {
   "codemirror_mode": {
    "name": "ipython",
    "version": 3
   },
   "file_extension": ".py",
   "mimetype": "text/x-python",
   "name": "python",
   "nbconvert_exporter": "python",
   "pygments_lexer": "ipython3",
   "version": "3.6.5"
  }
 },
 "nbformat": 4,
 "nbformat_minor": 2
}
